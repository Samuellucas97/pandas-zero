{
  "nbformat": 4,
  "nbformat_minor": 0,
  "metadata": {
    "colab": {
      "name": "Transformacoes_em_dados.ipynb",
      "provenance": [],
      "collapsed_sections": [
        "MKCPQcT9H0kL",
        "R232VOcS4MfW",
        "C3l-xoEp5g9A",
        "1_9ylozFE4q-"
      ],
      "include_colab_link": true
    },
    "kernelspec": {
      "name": "python3",
      "display_name": "Python 3"
    }
  },
  "cells": [
    {
      "cell_type": "markdown",
      "metadata": {
        "id": "view-in-github",
        "colab_type": "text"
      },
      "source": [
        "<a href=\"https://colab.research.google.com/github/jonathanjalles/pandas-zero/blob/master/Transformacoes_em_dados.ipynb\" target=\"_parent\"><img src=\"https://colab.research.google.com/assets/colab-badge.svg\" alt=\"Open In Colab\"/></a>"
      ]
    },
    {
      "cell_type": "markdown",
      "metadata": {
        "id": "lC7w_lWXErO6",
        "colab_type": "text"
      },
      "source": [
        "# Preparação para treinamento de algoritmos de Aprendizado de Máquina (Machine Learning)\n",
        "\n",
        "## Transformações em dados\n",
        "\n",
        "Até aqui, você já deve ter estudado sobre a biblioteca pandas para tratar dados e conheceu os tipos de dados e como eles são classificados (Caso contrário, veja [esse](https://colab.research.google.com/github/leobezerra/pandas-zero/blob/master/notebooks/PassoPasso.ipynb) repositório git).\n",
        "\n",
        "Algoritmos de aprendizado de máquina ou machine learning (a partir de aqui tratados apenas por ML), via de regra, são treinados para preverem o resultado de determinada característica de um conjunto de dados, com base no conjunto de dados semelhante, utilizado para treinamento. Porém, alguns algoritmos de ML não consideram unidades de medidas e são sensíveis a diferenças expressivas na magnitude dos dados. o que os faz retornar previsões viesadas caso essas magnitudes diferentes não sejam normalizadas de alguma forma.\n",
        "\n",
        "Imagine que uma dada característica num conjunto de dados possua valor igual a 100 metros e outra característica seja igual a 5 km. Por mais que o segundo valor seja 50x maior que o primeiro, o algoritmo irá ponderar a previsão na direção do valor 100, devido a sua magnitude. \n",
        "\n",
        "Nesse notebook vamos conhecer algumas técnicas de normalização de dados, utilizando python.\n"
      ]
    },
    {
      "cell_type": "markdown",
      "metadata": {
        "id": "MKCPQcT9H0kL",
        "colab_type": "text"
      },
      "source": [
        "## 1. Feature Scaling and Standardization\n",
        "\n",
        "\n",
        "\n"
      ]
    },
    {
      "cell_type": "markdown",
      "metadata": {
        "id": "UQKFMiS0QF5v",
        "colab_type": "text"
      },
      "source": [
        "Feature scaling (ou balanceamento de atributos) é uma técnica de pré processamento de dados para treinamento de algoritmos de ML utilizada para padronizar variáveis independentes com diferentes magnitudes dentro de uma mesma faixa fixa de valores (para maiores detalhes sobre feature scaling, veja esse [post](https://www.geeksforgeeks.org/python-how-and-where-to-apply-feature-scaling/)).\n",
        "\n",
        "Nesse exemplo, iremos utilizar parte de um conjunto de dados que serviria para treinar um modelo para prever se uma pessoa iria comprar uma casa, dados seu país, sua idade, e seu salário anual."
      ]
    },
    {
      "cell_type": "code",
      "metadata": {
        "id": "gdcK27OkEihL",
        "colab_type": "code",
        "colab": {}
      },
      "source": [
        "import pandas as pd"
      ],
      "execution_count": 0,
      "outputs": []
    },
    {
      "cell_type": "code",
      "metadata": {
        "id": "Y0QngLhbOOaV",
        "colab_type": "code",
        "colab": {}
      },
      "source": [
        "dados = {\n",
        "   \"Pais\":[\"França\",\"Espanha\",\"Alemanha\",\"Espanha\",\"Alemanha\",\"França\",\"Espanha\",\"França\",\"Alemanha\",\"França\"],\n",
        "   \"Idade\":[44,27,30,38,40,35,29,48,50,37],\n",
        "   \"Salario anual\":[72000,48000,54000,61000,70000,58000,52000,79000,83000,67000],\n",
        "   \"Comprou imovel\":[\"N\",\"S\",\"N\",\"N\",\"S\",\"S\",\"N\",\"S\",\"N\",\"S\"]\n",
        "}"
      ],
      "execution_count": 0,
      "outputs": []
    },
    {
      "cell_type": "markdown",
      "metadata": {
        "id": "-YjnVVtXtiZT",
        "colab_type": "text"
      },
      "source": [
        "Vamos transformar o dicionário *dados* em um dataframe pandas, utilizando a função ***DataFrame()***."
      ]
    },
    {
      "cell_type": "code",
      "metadata": {
        "id": "ydMkCSUoOj73",
        "colab_type": "code",
        "outputId": "c76a5a70-2acc-4837-97bc-9a8ba4f482b8",
        "colab": {
          "base_uri": "https://localhost:8080/",
          "height": 359
        }
      },
      "source": [
        "df_dados = pd.DataFrame(dados)\n",
        "df_dados"
      ],
      "execution_count": 0,
      "outputs": [
        {
          "output_type": "execute_result",
          "data": {
            "text/html": [
              "<div>\n",
              "<style scoped>\n",
              "    .dataframe tbody tr th:only-of-type {\n",
              "        vertical-align: middle;\n",
              "    }\n",
              "\n",
              "    .dataframe tbody tr th {\n",
              "        vertical-align: top;\n",
              "    }\n",
              "\n",
              "    .dataframe thead th {\n",
              "        text-align: right;\n",
              "    }\n",
              "</style>\n",
              "<table border=\"1\" class=\"dataframe\">\n",
              "  <thead>\n",
              "    <tr style=\"text-align: right;\">\n",
              "      <th></th>\n",
              "      <th>Pais</th>\n",
              "      <th>Idade</th>\n",
              "      <th>Salario anual</th>\n",
              "      <th>Comprou imovel</th>\n",
              "    </tr>\n",
              "  </thead>\n",
              "  <tbody>\n",
              "    <tr>\n",
              "      <th>0</th>\n",
              "      <td>França</td>\n",
              "      <td>44</td>\n",
              "      <td>72000</td>\n",
              "      <td>N</td>\n",
              "    </tr>\n",
              "    <tr>\n",
              "      <th>1</th>\n",
              "      <td>Espanha</td>\n",
              "      <td>27</td>\n",
              "      <td>48000</td>\n",
              "      <td>S</td>\n",
              "    </tr>\n",
              "    <tr>\n",
              "      <th>2</th>\n",
              "      <td>Alemanha</td>\n",
              "      <td>30</td>\n",
              "      <td>54000</td>\n",
              "      <td>N</td>\n",
              "    </tr>\n",
              "    <tr>\n",
              "      <th>3</th>\n",
              "      <td>Espanha</td>\n",
              "      <td>38</td>\n",
              "      <td>61000</td>\n",
              "      <td>N</td>\n",
              "    </tr>\n",
              "    <tr>\n",
              "      <th>4</th>\n",
              "      <td>Alemanha</td>\n",
              "      <td>40</td>\n",
              "      <td>70000</td>\n",
              "      <td>S</td>\n",
              "    </tr>\n",
              "    <tr>\n",
              "      <th>5</th>\n",
              "      <td>França</td>\n",
              "      <td>35</td>\n",
              "      <td>58000</td>\n",
              "      <td>S</td>\n",
              "    </tr>\n",
              "    <tr>\n",
              "      <th>6</th>\n",
              "      <td>Espanha</td>\n",
              "      <td>29</td>\n",
              "      <td>52000</td>\n",
              "      <td>N</td>\n",
              "    </tr>\n",
              "    <tr>\n",
              "      <th>7</th>\n",
              "      <td>França</td>\n",
              "      <td>48</td>\n",
              "      <td>79000</td>\n",
              "      <td>S</td>\n",
              "    </tr>\n",
              "    <tr>\n",
              "      <th>8</th>\n",
              "      <td>Alemanha</td>\n",
              "      <td>50</td>\n",
              "      <td>83000</td>\n",
              "      <td>N</td>\n",
              "    </tr>\n",
              "    <tr>\n",
              "      <th>9</th>\n",
              "      <td>França</td>\n",
              "      <td>37</td>\n",
              "      <td>67000</td>\n",
              "      <td>S</td>\n",
              "    </tr>\n",
              "  </tbody>\n",
              "</table>\n",
              "</div>"
            ],
            "text/plain": [
              "       Pais  Idade  Salario anual Comprou imovel\n",
              "0    França     44          72000              N\n",
              "1   Espanha     27          48000              S\n",
              "2  Alemanha     30          54000              N\n",
              "3   Espanha     38          61000              N\n",
              "4  Alemanha     40          70000              S\n",
              "5    França     35          58000              S\n",
              "6   Espanha     29          52000              N\n",
              "7    França     48          79000              S\n",
              "8  Alemanha     50          83000              N\n",
              "9    França     37          67000              S"
            ]
          },
          "metadata": {
            "tags": []
          },
          "execution_count": 3
        }
      ]
    },
    {
      "cell_type": "markdown",
      "metadata": {
        "id": "CC9BDXi-Q31F",
        "colab_type": "text"
      },
      "source": [
        "É possível perceber que a característica *Idade* está na magnitude de dezenas, enquanto que *Salario anual* possui magnitude de dezenas de milhares. Se utilizarmos os dados dessa forma para treinar o algoritmo de ML, o resultado das previsões será afetado por esta diferença de magnitude.\n",
        "\n",
        "Existem duas técnicas principais para feature scaling, sendo:\n",
        "\n",
        "**Normalização de mínimos e máximos:** Essa técnica re-escala o valor da característica \"*X*\" para uma distribuição com valores entre 0 e 1. O novo valor de cada observação da característica é calculado pela fórmula a seguir.\n",
        "\n",
        "\n",
        "\n",
        "\n",
        "$$X_{novo} = {X_i - min(X) \\over max(X)-min(X)}$$\n",
        "\n",
        "\n",
        "**Standardization:** Técnica que re-escala os valores da característica \"*X*\" para valores tais que sua distribuição tem média 0 e variancia 1, através da fórmula:\n",
        "\n",
        "$$X_{novo} = {X_i - média(X) \\over desvio\\ padrão}$$\n",
        "\n",
        "\n",
        "Em python, podemos usar o pacote ***preprocessing*** da biblioteca ***scikit-learn*** para fazer feature scaling nos dados.\n"
      ]
    },
    {
      "cell_type": "markdown",
      "metadata": {
        "id": "uxqrpw6XuSn0",
        "colab_type": "text"
      },
      "source": [
        "Na célula abaixo, vamos importar o pacote  ***preprocessing*** da biblioteca ***scikit-learn***"
      ]
    },
    {
      "cell_type": "code",
      "metadata": {
        "id": "HBxlPLduOv4l",
        "colab_type": "code",
        "colab": {}
      },
      "source": [
        "from sklearn import preprocessing"
      ],
      "execution_count": 0,
      "outputs": []
    },
    {
      "cell_type": "markdown",
      "metadata": {
        "id": "gpXIQ_zIugRi",
        "colab_type": "text"
      },
      "source": [
        "Agora, vamos criar um novo dataframe, apenas com as colunas que precisam de scaling (Idade e Salario anual):"
      ]
    },
    {
      "cell_type": "code",
      "metadata": {
        "id": "w8zCdDKcWv5b",
        "colab_type": "code",
        "outputId": "3d894fda-6062-4458-8b3a-6b65e3655246",
        "colab": {
          "base_uri": "https://localhost:8080/",
          "height": 363
        }
      },
      "source": [
        "dados_para_scaling = df_dados[['Idade','Salario anual']]\n",
        "dados_para_scaling"
      ],
      "execution_count": 0,
      "outputs": [
        {
          "output_type": "execute_result",
          "data": {
            "text/html": [
              "<div>\n",
              "<style scoped>\n",
              "    .dataframe tbody tr th:only-of-type {\n",
              "        vertical-align: middle;\n",
              "    }\n",
              "\n",
              "    .dataframe tbody tr th {\n",
              "        vertical-align: top;\n",
              "    }\n",
              "\n",
              "    .dataframe thead th {\n",
              "        text-align: right;\n",
              "    }\n",
              "</style>\n",
              "<table border=\"1\" class=\"dataframe\">\n",
              "  <thead>\n",
              "    <tr style=\"text-align: right;\">\n",
              "      <th></th>\n",
              "      <th>Idade</th>\n",
              "      <th>Salario anual</th>\n",
              "    </tr>\n",
              "  </thead>\n",
              "  <tbody>\n",
              "    <tr>\n",
              "      <th>0</th>\n",
              "      <td>44</td>\n",
              "      <td>72000</td>\n",
              "    </tr>\n",
              "    <tr>\n",
              "      <th>1</th>\n",
              "      <td>27</td>\n",
              "      <td>48000</td>\n",
              "    </tr>\n",
              "    <tr>\n",
              "      <th>2</th>\n",
              "      <td>30</td>\n",
              "      <td>54000</td>\n",
              "    </tr>\n",
              "    <tr>\n",
              "      <th>3</th>\n",
              "      <td>38</td>\n",
              "      <td>61000</td>\n",
              "    </tr>\n",
              "    <tr>\n",
              "      <th>4</th>\n",
              "      <td>40</td>\n",
              "      <td>70000</td>\n",
              "    </tr>\n",
              "    <tr>\n",
              "      <th>5</th>\n",
              "      <td>35</td>\n",
              "      <td>58000</td>\n",
              "    </tr>\n",
              "    <tr>\n",
              "      <th>6</th>\n",
              "      <td>29</td>\n",
              "      <td>52000</td>\n",
              "    </tr>\n",
              "    <tr>\n",
              "      <th>7</th>\n",
              "      <td>48</td>\n",
              "      <td>79000</td>\n",
              "    </tr>\n",
              "    <tr>\n",
              "      <th>8</th>\n",
              "      <td>50</td>\n",
              "      <td>83000</td>\n",
              "    </tr>\n",
              "    <tr>\n",
              "      <th>9</th>\n",
              "      <td>37</td>\n",
              "      <td>67000</td>\n",
              "    </tr>\n",
              "  </tbody>\n",
              "</table>\n",
              "</div>"
            ],
            "text/plain": [
              "   Idade  Salario anual\n",
              "0     44          72000\n",
              "1     27          48000\n",
              "2     30          54000\n",
              "3     38          61000\n",
              "4     40          70000\n",
              "5     35          58000\n",
              "6     29          52000\n",
              "7     48          79000\n",
              "8     50          83000\n",
              "9     37          67000"
            ]
          },
          "metadata": {
            "tags": []
          },
          "execution_count": 34
        }
      ]
    },
    {
      "cell_type": "markdown",
      "metadata": {
        "id": "vYbmJLT4vBCH",
        "colab_type": "text"
      },
      "source": [
        "Precisamos criar uma variável que irá ser responsável por fazer o scaling dos dados em mínimo e máximo. Para isso, precisamos da função ***MinMaxScaler()*** do pacote ***preprocessing***. Essa função precisa receber um argumento, que explicita a faixa dos valores após o scaling (no caso, de 0 a 1)."
      ]
    },
    {
      "cell_type": "code",
      "metadata": {
        "id": "1_yyoDqZWHJr",
        "colab_type": "code",
        "colab": {}
      },
      "source": [
        "scaling_min_max = preprocessing.MinMaxScaler()"
      ],
      "execution_count": 0,
      "outputs": []
    },
    {
      "cell_type": "markdown",
      "metadata": {
        "id": "yR1gz-V0w5uE",
        "colab_type": "text"
      },
      "source": [
        "Para obtermos os dados com scaling, basta chamar a função ***fit_transform***, que deve receber os dados a serem tratados. Para isso, vamos utilizar a variável criada na célula anterior. Os dados com Scaling serão salvos no array *dados_com_scaling*."
      ]
    },
    {
      "cell_type": "code",
      "metadata": {
        "id": "MRBcnRQkWSCv",
        "colab_type": "code",
        "colab": {}
      },
      "source": [
        "dados_com_scaling = scaling_min_max.fit_transform(dados_para_scaling)"
      ],
      "execution_count": 0,
      "outputs": []
    },
    {
      "cell_type": "code",
      "metadata": {
        "id": "JFzmqepeWpVU",
        "colab_type": "code",
        "outputId": "c28e5f83-b59f-438f-f987-3ca99ffc494a",
        "colab": {
          "base_uri": "https://localhost:8080/",
          "height": 196
        }
      },
      "source": [
        "dados_com_scaling"
      ],
      "execution_count": 0,
      "outputs": [
        {
          "output_type": "execute_result",
          "data": {
            "text/plain": [
              "array([[0.73913043, 0.68571429],\n",
              "       [0.        , 0.        ],\n",
              "       [0.13043478, 0.17142857],\n",
              "       [0.47826087, 0.37142857],\n",
              "       [0.56521739, 0.62857143],\n",
              "       [0.34782609, 0.28571429],\n",
              "       [0.08695652, 0.11428571],\n",
              "       [0.91304348, 0.88571429],\n",
              "       [1.        , 1.        ],\n",
              "       [0.43478261, 0.54285714]])"
            ]
          },
          "metadata": {
            "tags": []
          },
          "execution_count": 37
        }
      ]
    },
    {
      "cell_type": "markdown",
      "metadata": {
        "id": "P3y7qjxQxkGQ",
        "colab_type": "text"
      },
      "source": [
        "Nos dados acima, a primeira coluna corresponde a Idade, enquanto que a segunda corresponte a Salario anual. O valor 0 corresponde ao menor valor em cada uma das colunas originais (idade 27, salario 48000), enquanto que o valor 1 corresponte ao maior valor nas colunas originais (idade 50, salario 83000)."
      ]
    },
    {
      "cell_type": "markdown",
      "metadata": {
        "id": "0S1lbeZFz1A8",
        "colab_type": "text"
      },
      "source": [
        "Para aplicar o método de standardization, precisamos primeiros separar os dados que deverão ser padronizados."
      ]
    },
    {
      "cell_type": "code",
      "metadata": {
        "id": "vcnhAglizvER",
        "colab_type": "code",
        "outputId": "e1355424-2ee9-4e41-9849-de5b6d82b4c2",
        "colab": {
          "base_uri": "https://localhost:8080/",
          "height": 359
        }
      },
      "source": [
        "dados_para_standardization = df_dados.loc[:,['Idade','Salario anual']]\n",
        "dados_para_standardization"
      ],
      "execution_count": 0,
      "outputs": [
        {
          "output_type": "execute_result",
          "data": {
            "text/html": [
              "<div>\n",
              "<style scoped>\n",
              "    .dataframe tbody tr th:only-of-type {\n",
              "        vertical-align: middle;\n",
              "    }\n",
              "\n",
              "    .dataframe tbody tr th {\n",
              "        vertical-align: top;\n",
              "    }\n",
              "\n",
              "    .dataframe thead th {\n",
              "        text-align: right;\n",
              "    }\n",
              "</style>\n",
              "<table border=\"1\" class=\"dataframe\">\n",
              "  <thead>\n",
              "    <tr style=\"text-align: right;\">\n",
              "      <th></th>\n",
              "      <th>Idade</th>\n",
              "      <th>Salario anual</th>\n",
              "    </tr>\n",
              "  </thead>\n",
              "  <tbody>\n",
              "    <tr>\n",
              "      <th>0</th>\n",
              "      <td>44</td>\n",
              "      <td>72000</td>\n",
              "    </tr>\n",
              "    <tr>\n",
              "      <th>1</th>\n",
              "      <td>27</td>\n",
              "      <td>48000</td>\n",
              "    </tr>\n",
              "    <tr>\n",
              "      <th>2</th>\n",
              "      <td>30</td>\n",
              "      <td>54000</td>\n",
              "    </tr>\n",
              "    <tr>\n",
              "      <th>3</th>\n",
              "      <td>38</td>\n",
              "      <td>61000</td>\n",
              "    </tr>\n",
              "    <tr>\n",
              "      <th>4</th>\n",
              "      <td>40</td>\n",
              "      <td>70000</td>\n",
              "    </tr>\n",
              "    <tr>\n",
              "      <th>5</th>\n",
              "      <td>35</td>\n",
              "      <td>58000</td>\n",
              "    </tr>\n",
              "    <tr>\n",
              "      <th>6</th>\n",
              "      <td>29</td>\n",
              "      <td>52000</td>\n",
              "    </tr>\n",
              "    <tr>\n",
              "      <th>7</th>\n",
              "      <td>48</td>\n",
              "      <td>79000</td>\n",
              "    </tr>\n",
              "    <tr>\n",
              "      <th>8</th>\n",
              "      <td>50</td>\n",
              "      <td>83000</td>\n",
              "    </tr>\n",
              "    <tr>\n",
              "      <th>9</th>\n",
              "      <td>37</td>\n",
              "      <td>67000</td>\n",
              "    </tr>\n",
              "  </tbody>\n",
              "</table>\n",
              "</div>"
            ],
            "text/plain": [
              "   Idade  Salario anual\n",
              "0     44          72000\n",
              "1     27          48000\n",
              "2     30          54000\n",
              "3     38          61000\n",
              "4     40          70000\n",
              "5     35          58000\n",
              "6     29          52000\n",
              "7     48          79000\n",
              "8     50          83000\n",
              "9     37          67000"
            ]
          },
          "metadata": {
            "tags": []
          },
          "execution_count": 9
        }
      ]
    },
    {
      "cell_type": "markdown",
      "metadata": {
        "id": "WGETpUm4z-mk",
        "colab_type": "text"
      },
      "source": [
        "Agora, vamos criar uma variável que conterá o método capaz de aplicar o Standardization, nesse caso, a função ***StandardScaler()***, do pacote ***preprocessing***. Vamos chamá-la de padronizador."
      ]
    },
    {
      "cell_type": "code",
      "metadata": {
        "id": "xSdjyRIx0sEL",
        "colab_type": "code",
        "colab": {}
      },
      "source": [
        "padronizador = preprocessing.StandardScaler()"
      ],
      "execution_count": 0,
      "outputs": []
    },
    {
      "cell_type": "markdown",
      "metadata": {
        "id": "cC3ae9cS1eqp",
        "colab_type": "text"
      },
      "source": [
        "Novamente, utilizaremos a função ***fit_transform()***, e salvaremos os dados padronizados no array *dados_padronizados*."
      ]
    },
    {
      "cell_type": "code",
      "metadata": {
        "id": "66bD0g-v0iIn",
        "colab_type": "code",
        "colab": {}
      },
      "source": [
        "dados_padronizados = padronizador.fit_transform(dados_para_standardization)"
      ],
      "execution_count": 0,
      "outputs": []
    },
    {
      "cell_type": "code",
      "metadata": {
        "id": "ixhUhoL101L9",
        "colab_type": "code",
        "outputId": "75b2f367-6097-4e49-d5b1-0ad25c958c5e",
        "colab": {
          "base_uri": "https://localhost:8080/",
          "height": 300
        }
      },
      "source": [
        "pd.DataFrame(dados_padronizados).describe()"
      ],
      "execution_count": 0,
      "outputs": [
        {
          "output_type": "execute_result",
          "data": {
            "text/html": [
              "<div>\n",
              "<style scoped>\n",
              "    .dataframe tbody tr th:only-of-type {\n",
              "        vertical-align: middle;\n",
              "    }\n",
              "\n",
              "    .dataframe tbody tr th {\n",
              "        vertical-align: top;\n",
              "    }\n",
              "\n",
              "    .dataframe thead th {\n",
              "        text-align: right;\n",
              "    }\n",
              "</style>\n",
              "<table border=\"1\" class=\"dataframe\">\n",
              "  <thead>\n",
              "    <tr style=\"text-align: right;\">\n",
              "      <th></th>\n",
              "      <th>0</th>\n",
              "      <th>1</th>\n",
              "    </tr>\n",
              "  </thead>\n",
              "  <tbody>\n",
              "    <tr>\n",
              "      <th>count</th>\n",
              "      <td>1.000000e+01</td>\n",
              "      <td>1.000000e+01</td>\n",
              "    </tr>\n",
              "    <tr>\n",
              "      <th>mean</th>\n",
              "      <td>4.038436e-16</td>\n",
              "      <td>4.996004e-17</td>\n",
              "    </tr>\n",
              "    <tr>\n",
              "      <th>std</th>\n",
              "      <td>1.054093e+00</td>\n",
              "      <td>1.054093e+00</td>\n",
              "    </tr>\n",
              "    <tr>\n",
              "      <th>min</th>\n",
              "      <td>-1.443726e+00</td>\n",
              "      <td>-1.473715e+00</td>\n",
              "    </tr>\n",
              "    <tr>\n",
              "      <th>25%</th>\n",
              "      <td>-8.755933e-01</td>\n",
              "      <td>-8.446901e-01</td>\n",
              "    </tr>\n",
              "    <tr>\n",
              "      <th>50%</th>\n",
              "      <td>-4.010351e-02</td>\n",
              "      <td>-3.594426e-02</td>\n",
              "    </tr>\n",
              "    <tr>\n",
              "      <th>75%</th>\n",
              "      <td>6.951275e-01</td>\n",
              "      <td>6.380106e-01</td>\n",
              "    </tr>\n",
              "    <tr>\n",
              "      <th>max</th>\n",
              "      <td>1.630876e+00</td>\n",
              "      <td>1.671408e+00</td>\n",
              "    </tr>\n",
              "  </tbody>\n",
              "</table>\n",
              "</div>"
            ],
            "text/plain": [
              "                  0             1\n",
              "count  1.000000e+01  1.000000e+01\n",
              "mean   4.038436e-16  4.996004e-17\n",
              "std    1.054093e+00  1.054093e+00\n",
              "min   -1.443726e+00 -1.473715e+00\n",
              "25%   -8.755933e-01 -8.446901e-01\n",
              "50%   -4.010351e-02 -3.594426e-02\n",
              "75%    6.951275e-01  6.380106e-01\n",
              "max    1.630876e+00  1.671408e+00"
            ]
          },
          "metadata": {
            "tags": []
          },
          "execution_count": 41
        }
      ]
    },
    {
      "cell_type": "markdown",
      "metadata": {
        "id": "R232VOcS4MfW",
        "colab_type": "text"
      },
      "source": [
        "## 2. Feature clipping\n",
        "\n"
      ]
    },
    {
      "cell_type": "markdown",
      "metadata": {
        "id": "lKz9kCz4QckF",
        "colab_type": "text"
      },
      "source": [
        "Em casos onde os dados possuem outliers (valores muito distantes das medidas de tendência central) muito acentuados, faz sentido utilizar a técnica de feature clipping (ou recorte de atributo, em tradução livre), que basicamente consiste em substituir valores acima ou abaixo de certo valor por um valor específico. Como exemplo, podemos substituir todas as idades acima de 100 anos em um conjunto de dados sobre idades pelo valor 100. \n",
        "\n",
        "Em python, é possível fazer o feature clipping utilizando o método ***clip()*** da biblioteca ***numpy***, informando o array dos dados a serem 'clipados' e os valores máximos e mínimos a serem adotados, conforme exemplo a seguir:\n",
        "\n",
        "\n",
        "\n",
        "```\n",
        "dados_clipados = clip(dados_para_clipar, valor_max, valor_min)\n",
        "```\n",
        "\n",
        "\n",
        "Para este exemplo, vamos utilizar o mesmo conjunto de dados, com o acréscimo de um outlier. Para conjuntos grandes de dados, faz sentido antes de tudo plotar a distribuição e verificar quais os valores mais adequados para serem utilizados como máximos e mínimos."
      ]
    },
    {
      "cell_type": "code",
      "metadata": {
        "id": "BH36ohSz4ReT",
        "colab_type": "code",
        "colab": {}
      },
      "source": [
        "dados_com_outliers = {\n",
        "   \"Pais\":[\"França\",\"Espanha\",\"Alemanha\",\"Espanha\",\"Alemanha\",\"França\",\"Espanha\",\"França\",\"Alemanha\",\"França\", \"Espanha\"],\n",
        "   \"Idade\":[44,27,30,38,40,35,29,48,50,37,19],\n",
        "   \"Salario anual\":[72000,48000,54000,61000,70000,58000,52000,79000,83000,67000,120000],\n",
        "   \"Comprou imovel\":[\"N\",\"S\",\"N\",\"N\",\"S\",\"S\",\"N\",\"S\",\"N\",\"S\",\"N\"]\n",
        "}"
      ],
      "execution_count": 0,
      "outputs": []
    },
    {
      "cell_type": "code",
      "metadata": {
        "id": "QuGpFhXW97Gd",
        "colab_type": "code",
        "outputId": "49d06723-7a55-4332-d8c5-c411f91c1ee5",
        "colab": {
          "base_uri": "https://localhost:8080/"
        }
      },
      "source": [
        "df_com_outliers = pd.DataFrame(dados_com_outliers)\n",
        "df_com_outliers"
      ],
      "execution_count": 0,
      "outputs": [
        {
          "output_type": "execute_result",
          "data": {
            "text/html": [
              "<div>\n",
              "<style scoped>\n",
              "    .dataframe tbody tr th:only-of-type {\n",
              "        vertical-align: middle;\n",
              "    }\n",
              "\n",
              "    .dataframe tbody tr th {\n",
              "        vertical-align: top;\n",
              "    }\n",
              "\n",
              "    .dataframe thead th {\n",
              "        text-align: right;\n",
              "    }\n",
              "</style>\n",
              "<table border=\"1\" class=\"dataframe\">\n",
              "  <thead>\n",
              "    <tr style=\"text-align: right;\">\n",
              "      <th></th>\n",
              "      <th>Pais</th>\n",
              "      <th>Idade</th>\n",
              "      <th>Salario anual</th>\n",
              "      <th>Comprou imovel</th>\n",
              "    </tr>\n",
              "  </thead>\n",
              "  <tbody>\n",
              "    <tr>\n",
              "      <th>0</th>\n",
              "      <td>França</td>\n",
              "      <td>44</td>\n",
              "      <td>72000</td>\n",
              "      <td>N</td>\n",
              "    </tr>\n",
              "    <tr>\n",
              "      <th>1</th>\n",
              "      <td>Espanha</td>\n",
              "      <td>27</td>\n",
              "      <td>48000</td>\n",
              "      <td>S</td>\n",
              "    </tr>\n",
              "    <tr>\n",
              "      <th>2</th>\n",
              "      <td>Alemanha</td>\n",
              "      <td>30</td>\n",
              "      <td>54000</td>\n",
              "      <td>N</td>\n",
              "    </tr>\n",
              "    <tr>\n",
              "      <th>3</th>\n",
              "      <td>Espanha</td>\n",
              "      <td>38</td>\n",
              "      <td>61000</td>\n",
              "      <td>N</td>\n",
              "    </tr>\n",
              "    <tr>\n",
              "      <th>4</th>\n",
              "      <td>Alemanha</td>\n",
              "      <td>40</td>\n",
              "      <td>70000</td>\n",
              "      <td>S</td>\n",
              "    </tr>\n",
              "    <tr>\n",
              "      <th>5</th>\n",
              "      <td>França</td>\n",
              "      <td>35</td>\n",
              "      <td>58000</td>\n",
              "      <td>S</td>\n",
              "    </tr>\n",
              "    <tr>\n",
              "      <th>6</th>\n",
              "      <td>Espanha</td>\n",
              "      <td>29</td>\n",
              "      <td>52000</td>\n",
              "      <td>N</td>\n",
              "    </tr>\n",
              "    <tr>\n",
              "      <th>7</th>\n",
              "      <td>França</td>\n",
              "      <td>48</td>\n",
              "      <td>79000</td>\n",
              "      <td>S</td>\n",
              "    </tr>\n",
              "    <tr>\n",
              "      <th>8</th>\n",
              "      <td>Alemanha</td>\n",
              "      <td>50</td>\n",
              "      <td>83000</td>\n",
              "      <td>N</td>\n",
              "    </tr>\n",
              "    <tr>\n",
              "      <th>9</th>\n",
              "      <td>França</td>\n",
              "      <td>37</td>\n",
              "      <td>67000</td>\n",
              "      <td>S</td>\n",
              "    </tr>\n",
              "    <tr>\n",
              "      <th>10</th>\n",
              "      <td>Espanha</td>\n",
              "      <td>19</td>\n",
              "      <td>120000</td>\n",
              "      <td>N</td>\n",
              "    </tr>\n",
              "  </tbody>\n",
              "</table>\n",
              "</div>"
            ],
            "text/plain": [
              "        Pais  Idade  Salario anual Comprou imovel\n",
              "0     França     44          72000              N\n",
              "1    Espanha     27          48000              S\n",
              "2   Alemanha     30          54000              N\n",
              "3    Espanha     38          61000              N\n",
              "4   Alemanha     40          70000              S\n",
              "5     França     35          58000              S\n",
              "6    Espanha     29          52000              N\n",
              "7     França     48          79000              S\n",
              "8   Alemanha     50          83000              N\n",
              "9     França     37          67000              S\n",
              "10   Espanha     19         120000              N"
            ]
          },
          "metadata": {
            "tags": []
          },
          "execution_count": 14
        }
      ]
    },
    {
      "cell_type": "markdown",
      "metadata": {
        "id": "uVYNP7Nw_k-H",
        "colab_type": "text"
      },
      "source": [
        "Importando o método ***clip()*** da biblioteca **numpy**"
      ]
    },
    {
      "cell_type": "code",
      "metadata": {
        "id": "doZ8pIsM9sVy",
        "colab_type": "code",
        "colab": {}
      },
      "source": [
        "from numpy import clip"
      ],
      "execution_count": 0,
      "outputs": []
    },
    {
      "cell_type": "markdown",
      "metadata": {
        "id": "9UyT06ZYAncT",
        "colab_type": "text"
      },
      "source": [
        "Agora, vamos fazer o feature clipping dos dados da coluna (feature) *Idade*, utilizando 20 e 90 como valores extremos, ou seja, qualquer idade abaixo de 20 anos irá ser substituida por 20, e qualquer idade acima de 90 será substituida por 90."
      ]
    },
    {
      "cell_type": "code",
      "metadata": {
        "id": "at0Pl7qJ9voS",
        "colab_type": "code",
        "outputId": "09d5209f-52e1-4478-8ee0-9ddb748c9f1d",
        "colab": {
          "base_uri": "https://localhost:8080/",
          "height": 394
        }
      },
      "source": [
        "df_com_outliers = clip(df_com_outliers['Idade'],20,90)\n",
        "dados_clipados_idade"
      ],
      "execution_count": 0,
      "outputs": [
        {
          "output_type": "execute_result",
          "data": {
            "text/html": [
              "<div>\n",
              "<style scoped>\n",
              "    .dataframe tbody tr th:only-of-type {\n",
              "        vertical-align: middle;\n",
              "    }\n",
              "\n",
              "    .dataframe tbody tr th {\n",
              "        vertical-align: top;\n",
              "    }\n",
              "\n",
              "    .dataframe thead th {\n",
              "        text-align: right;\n",
              "    }\n",
              "</style>\n",
              "<table border=\"1\" class=\"dataframe\">\n",
              "  <thead>\n",
              "    <tr style=\"text-align: right;\">\n",
              "      <th></th>\n",
              "      <th>Pais</th>\n",
              "      <th>Idade</th>\n",
              "      <th>Salario anual</th>\n",
              "      <th>Comprou imovel</th>\n",
              "    </tr>\n",
              "  </thead>\n",
              "  <tbody>\n",
              "    <tr>\n",
              "      <th>0</th>\n",
              "      <td>França</td>\n",
              "      <td>44</td>\n",
              "      <td>72000</td>\n",
              "      <td>N</td>\n",
              "    </tr>\n",
              "    <tr>\n",
              "      <th>1</th>\n",
              "      <td>Espanha</td>\n",
              "      <td>27</td>\n",
              "      <td>48000</td>\n",
              "      <td>S</td>\n",
              "    </tr>\n",
              "    <tr>\n",
              "      <th>2</th>\n",
              "      <td>Alemanha</td>\n",
              "      <td>30</td>\n",
              "      <td>54000</td>\n",
              "      <td>N</td>\n",
              "    </tr>\n",
              "    <tr>\n",
              "      <th>3</th>\n",
              "      <td>Espanha</td>\n",
              "      <td>38</td>\n",
              "      <td>61000</td>\n",
              "      <td>N</td>\n",
              "    </tr>\n",
              "    <tr>\n",
              "      <th>4</th>\n",
              "      <td>Alemanha</td>\n",
              "      <td>40</td>\n",
              "      <td>70000</td>\n",
              "      <td>S</td>\n",
              "    </tr>\n",
              "    <tr>\n",
              "      <th>5</th>\n",
              "      <td>França</td>\n",
              "      <td>35</td>\n",
              "      <td>58000</td>\n",
              "      <td>S</td>\n",
              "    </tr>\n",
              "    <tr>\n",
              "      <th>6</th>\n",
              "      <td>Espanha</td>\n",
              "      <td>29</td>\n",
              "      <td>52000</td>\n",
              "      <td>N</td>\n",
              "    </tr>\n",
              "    <tr>\n",
              "      <th>7</th>\n",
              "      <td>França</td>\n",
              "      <td>48</td>\n",
              "      <td>79000</td>\n",
              "      <td>S</td>\n",
              "    </tr>\n",
              "    <tr>\n",
              "      <th>8</th>\n",
              "      <td>Alemanha</td>\n",
              "      <td>50</td>\n",
              "      <td>83000</td>\n",
              "      <td>N</td>\n",
              "    </tr>\n",
              "    <tr>\n",
              "      <th>9</th>\n",
              "      <td>França</td>\n",
              "      <td>37</td>\n",
              "      <td>67000</td>\n",
              "      <td>S</td>\n",
              "    </tr>\n",
              "    <tr>\n",
              "      <th>10</th>\n",
              "      <td>Espanha</td>\n",
              "      <td>20</td>\n",
              "      <td>120000</td>\n",
              "      <td>N</td>\n",
              "    </tr>\n",
              "  </tbody>\n",
              "</table>\n",
              "</div>"
            ],
            "text/plain": [
              "        Pais  Idade  Salario anual Comprou imovel\n",
              "0     França     44          72000              N\n",
              "1    Espanha     27          48000              S\n",
              "2   Alemanha     30          54000              N\n",
              "3    Espanha     38          61000              N\n",
              "4   Alemanha     40          70000              S\n",
              "5     França     35          58000              S\n",
              "6    Espanha     29          52000              N\n",
              "7     França     48          79000              S\n",
              "8   Alemanha     50          83000              N\n",
              "9     França     37          67000              S\n",
              "10   Espanha     20         120000              N"
            ]
          },
          "metadata": {
            "tags": []
          },
          "execution_count": 44
        }
      ]
    },
    {
      "cell_type": "code",
      "metadata": {
        "id": "NGzZ3Z6nbfo3",
        "colab_type": "code",
        "outputId": "39405370-3bf8-49b8-e82a-d2468266e517",
        "colab": {
          "base_uri": "https://localhost:8080/",
          "height": 214
        }
      },
      "source": [
        "dados_clipados_idade = dados_clipados_idade[df_com_outliers['Idade'].between(20, 90)]\n",
        "dados_clipados_idade"
      ],
      "execution_count": 0,
      "outputs": [
        {
          "output_type": "execute_result",
          "data": {
            "text/plain": [
              "0    44\n",
              "1    27\n",
              "2    30\n",
              "3    38\n",
              "4    40\n",
              "5    35\n",
              "6    29\n",
              "7    48\n",
              "8    50\n",
              "9    37\n",
              "Name: Idade, dtype: int64"
            ]
          },
          "metadata": {
            "tags": []
          },
          "execution_count": 42
        }
      ]
    },
    {
      "cell_type": "markdown",
      "metadata": {
        "id": "QZSNHHu9A9j1",
        "colab_type": "text"
      },
      "source": [
        "No resultado anterior, é possível ver que o valor na linha 10 correspondia a 19 anos no conjunto de dados original. A seguir, faremos o clipping da feature *Salario anual*, limitando os dados ao intervalo 50000 - 100000."
      ]
    },
    {
      "cell_type": "code",
      "metadata": {
        "id": "Q4gDZAsU_BDW",
        "colab_type": "code",
        "outputId": "00be19b8-f893-4403-a369-6ff81a1d817a",
        "colab": {
          "base_uri": "https://localhost:8080/"
        }
      },
      "source": [
        "dados_clipados_salario = clip(df_com_outliers['Salario anual'],50000,100000)\n",
        "dados_clipados_salario"
      ],
      "execution_count": 0,
      "outputs": [
        {
          "output_type": "execute_result",
          "data": {
            "text/plain": [
              "0      72000\n",
              "1      50000\n",
              "2      54000\n",
              "3      61000\n",
              "4      70000\n",
              "5      58000\n",
              "6      52000\n",
              "7      79000\n",
              "8      83000\n",
              "9      67000\n",
              "10    100000\n",
              "Name: Salario anual, dtype: int64"
            ]
          },
          "metadata": {
            "tags": []
          },
          "execution_count": 17
        }
      ]
    },
    {
      "cell_type": "markdown",
      "metadata": {
        "id": "fqrLjof_D17e",
        "colab_type": "text"
      },
      "source": [
        "Não podemos esquecer que os dados de idade e salario serão utilizadas para alimentar o modelo de ML e também passarão pelo processo de scaling ou standardization. Assim, precisamos juntar os dados que sofreram feature clipping, já que é a partir deles que faremos as demais operações. Na célula abaixo fazemos a junção dos dados, no dataframe **dados_clipados**."
      ]
    },
    {
      "cell_type": "code",
      "metadata": {
        "id": "ojgfvNrNBgv-",
        "colab_type": "code",
        "outputId": "1c6e0153-f22e-412c-cb70-fd161b7230a0",
        "colab": {
          "base_uri": "https://localhost:8080/",
          "height": 394
        }
      },
      "source": [
        "dados_clipados = pd.DataFrame({'idade':dados_clipados_idade,'salario':dados_clipados_salario})\n",
        "dados_clipados"
      ],
      "execution_count": 0,
      "outputs": [
        {
          "output_type": "execute_result",
          "data": {
            "text/html": [
              "<div>\n",
              "<style scoped>\n",
              "    .dataframe tbody tr th:only-of-type {\n",
              "        vertical-align: middle;\n",
              "    }\n",
              "\n",
              "    .dataframe tbody tr th {\n",
              "        vertical-align: top;\n",
              "    }\n",
              "\n",
              "    .dataframe thead th {\n",
              "        text-align: right;\n",
              "    }\n",
              "</style>\n",
              "<table border=\"1\" class=\"dataframe\">\n",
              "  <thead>\n",
              "    <tr style=\"text-align: right;\">\n",
              "      <th></th>\n",
              "      <th>idade</th>\n",
              "      <th>salario</th>\n",
              "    </tr>\n",
              "  </thead>\n",
              "  <tbody>\n",
              "    <tr>\n",
              "      <th>0</th>\n",
              "      <td>44.0</td>\n",
              "      <td>72000</td>\n",
              "    </tr>\n",
              "    <tr>\n",
              "      <th>1</th>\n",
              "      <td>27.0</td>\n",
              "      <td>50000</td>\n",
              "    </tr>\n",
              "    <tr>\n",
              "      <th>2</th>\n",
              "      <td>30.0</td>\n",
              "      <td>54000</td>\n",
              "    </tr>\n",
              "    <tr>\n",
              "      <th>3</th>\n",
              "      <td>38.0</td>\n",
              "      <td>61000</td>\n",
              "    </tr>\n",
              "    <tr>\n",
              "      <th>4</th>\n",
              "      <td>40.0</td>\n",
              "      <td>70000</td>\n",
              "    </tr>\n",
              "    <tr>\n",
              "      <th>5</th>\n",
              "      <td>35.0</td>\n",
              "      <td>58000</td>\n",
              "    </tr>\n",
              "    <tr>\n",
              "      <th>6</th>\n",
              "      <td>29.0</td>\n",
              "      <td>52000</td>\n",
              "    </tr>\n",
              "    <tr>\n",
              "      <th>7</th>\n",
              "      <td>48.0</td>\n",
              "      <td>79000</td>\n",
              "    </tr>\n",
              "    <tr>\n",
              "      <th>8</th>\n",
              "      <td>50.0</td>\n",
              "      <td>83000</td>\n",
              "    </tr>\n",
              "    <tr>\n",
              "      <th>9</th>\n",
              "      <td>37.0</td>\n",
              "      <td>67000</td>\n",
              "    </tr>\n",
              "    <tr>\n",
              "      <th>10</th>\n",
              "      <td>NaN</td>\n",
              "      <td>100000</td>\n",
              "    </tr>\n",
              "  </tbody>\n",
              "</table>\n",
              "</div>"
            ],
            "text/plain": [
              "    idade  salario\n",
              "0    44.0    72000\n",
              "1    27.0    50000\n",
              "2    30.0    54000\n",
              "3    38.0    61000\n",
              "4    40.0    70000\n",
              "5    35.0    58000\n",
              "6    29.0    52000\n",
              "7    48.0    79000\n",
              "8    50.0    83000\n",
              "9    37.0    67000\n",
              "10    NaN   100000"
            ]
          },
          "metadata": {
            "tags": []
          },
          "execution_count": 47
        }
      ]
    },
    {
      "cell_type": "markdown",
      "metadata": {
        "id": "C3l-xoEp5g9A",
        "colab_type": "text"
      },
      "source": [
        "## 3. Transformação logarítmica\n",
        "\n",
        "\n"
      ]
    },
    {
      "cell_type": "markdown",
      "metadata": {
        "id": "n8aAnIB7PlL7",
        "colab_type": "text"
      },
      "source": [
        "Essa técnica é utilizada para dados em que algumas poucas variáveis categóricas possuem muitas observações, enquanto muitas outras possuem poucas observações (como ocorre em avaliações de filmes, onde a maioria deles possui poucas avaliações, enquanto alguns poucos possuem muitas avaliações). A transformação logarítmica calcula o log dos valores para comprimir uma faixa larga de valores para uma faixa mais estreita, mudando a distribuição dos dados (geralmente dados com distribuição exponencial), o que permite melhorar a performance de modelos lineares de ML."
      ]
    },
    {
      "cell_type": "markdown",
      "metadata": {
        "id": "uu4A0fD_TtDJ",
        "colab_type": "text"
      },
      "source": [
        "Como exemplo, vamos fazer a transformação logarítmica dos dados de salário do nosso conjunto de dados. Para isso, vamos importar a função ***log()*** da biblioteca numpy.\n",
        "Antes, vamos avaliar a distribuição dos dados de salário:"
      ]
    },
    {
      "cell_type": "code",
      "metadata": {
        "id": "pLkaL8CEUP86",
        "colab_type": "code",
        "outputId": "02038d61-7213-43b6-8591-2308cd947c1e",
        "colab": {
          "base_uri": "https://localhost:8080/"
        }
      },
      "source": [
        "dados_salario = df_dados['Salario anual']\n",
        "dados_salario"
      ],
      "execution_count": 0,
      "outputs": [
        {
          "output_type": "execute_result",
          "data": {
            "text/plain": [
              "0    72000\n",
              "1    48000\n",
              "2    54000\n",
              "3    61000\n",
              "4    70000\n",
              "5    58000\n",
              "6    52000\n",
              "7    79000\n",
              "8    83000\n",
              "9    67000\n",
              "Name: Salario anual, dtype: int64"
            ]
          },
          "metadata": {
            "tags": []
          },
          "execution_count": 19
        }
      ]
    },
    {
      "cell_type": "markdown",
      "metadata": {
        "id": "eZJipe6WVXSl",
        "colab_type": "text"
      },
      "source": [
        "Importando a função **log()**"
      ]
    },
    {
      "cell_type": "code",
      "metadata": {
        "id": "LBwa9ZoBUmT1",
        "colab_type": "code",
        "colab": {}
      },
      "source": [
        "from numpy import log"
      ],
      "execution_count": 0,
      "outputs": []
    },
    {
      "cell_type": "markdown",
      "metadata": {
        "id": "J1VLPiDSVq_d",
        "colab_type": "text"
      },
      "source": [
        "Aplicando a função log aos dado de salario e salvando o resultado na variável *dados_transformados*."
      ]
    },
    {
      "cell_type": "code",
      "metadata": {
        "id": "j10iazepUp0b",
        "colab_type": "code",
        "outputId": "51bcaf87-062a-4fc2-f22f-f40cbc15131b",
        "colab": {
          "base_uri": "https://localhost:8080/"
        }
      },
      "source": [
        "dados_transformados = log(dados_salario)\n",
        "dados_transformados"
      ],
      "execution_count": 0,
      "outputs": [
        {
          "output_type": "execute_result",
          "data": {
            "text/plain": [
              "0    11.184421\n",
              "1    10.778956\n",
              "2    10.896739\n",
              "3    11.018629\n",
              "4    11.156251\n",
              "5    10.968198\n",
              "6    10.858999\n",
              "7    11.277203\n",
              "8    11.326596\n",
              "9    11.112448\n",
              "Name: Salario anual, dtype: float64"
            ]
          },
          "metadata": {
            "tags": []
          },
          "execution_count": 21
        }
      ]
    },
    {
      "cell_type": "markdown",
      "metadata": {
        "id": "1_9ylozFE4q-",
        "colab_type": "text"
      },
      "source": [
        "## 4. One-Hot encoding\n",
        "\n"
      ]
    },
    {
      "cell_type": "markdown",
      "metadata": {
        "id": "k7qV5Ed4Pvow",
        "colab_type": "text"
      },
      "source": [
        "Alguns algoritmos de ML não trabalham com dados categóricos. Por isso, se faz necessário transformar dados categóricos em numéricos antes de alimentar os modelos. Assim, substituindo os valores categóricos por números inteiros, por exemplo, teremos uma codificação aceita pelo algoritmo. Porém, a substituição direta de uma variável categórica por um número inteiro pode gerar outros problemas. Por exemplo, o modelo pode acabar atribuindo pesos diferentes para os números (aprendendo que 4 é maior que 3), quando na verdade os números não representam nada, se não variáveis categóricas. Para corrigir esse problema, a técnica de one-hot encoding permite fazer essa transformação gerando vetores binários únicos para cada número inteiro gerado pela variável categórica.\n",
        "\n",
        "Relembrando nosso conjunto de dados, temos a coluna *País* com dados categóricos. Assim, precisaremos aplicar o one-hot encoding nos dados dessa coluna."
      ]
    },
    {
      "cell_type": "code",
      "metadata": {
        "id": "8Uau9Lp0JEkQ",
        "colab_type": "code",
        "outputId": "05b0b14c-1cce-4f30-937f-f91291e1cfb8",
        "colab": {
          "base_uri": "https://localhost:8080/"
        }
      },
      "source": [
        "df_dados.head()"
      ],
      "execution_count": 0,
      "outputs": [
        {
          "output_type": "execute_result",
          "data": {
            "text/html": [
              "<div>\n",
              "<style scoped>\n",
              "    .dataframe tbody tr th:only-of-type {\n",
              "        vertical-align: middle;\n",
              "    }\n",
              "\n",
              "    .dataframe tbody tr th {\n",
              "        vertical-align: top;\n",
              "    }\n",
              "\n",
              "    .dataframe thead th {\n",
              "        text-align: right;\n",
              "    }\n",
              "</style>\n",
              "<table border=\"1\" class=\"dataframe\">\n",
              "  <thead>\n",
              "    <tr style=\"text-align: right;\">\n",
              "      <th></th>\n",
              "      <th>Pais</th>\n",
              "      <th>Idade</th>\n",
              "      <th>Salario anual</th>\n",
              "      <th>Comprou imovel</th>\n",
              "    </tr>\n",
              "  </thead>\n",
              "  <tbody>\n",
              "    <tr>\n",
              "      <th>0</th>\n",
              "      <td>França</td>\n",
              "      <td>44</td>\n",
              "      <td>72000</td>\n",
              "      <td>N</td>\n",
              "    </tr>\n",
              "    <tr>\n",
              "      <th>1</th>\n",
              "      <td>Espanha</td>\n",
              "      <td>27</td>\n",
              "      <td>48000</td>\n",
              "      <td>S</td>\n",
              "    </tr>\n",
              "    <tr>\n",
              "      <th>2</th>\n",
              "      <td>Alemanha</td>\n",
              "      <td>30</td>\n",
              "      <td>54000</td>\n",
              "      <td>N</td>\n",
              "    </tr>\n",
              "    <tr>\n",
              "      <th>3</th>\n",
              "      <td>Espanha</td>\n",
              "      <td>38</td>\n",
              "      <td>61000</td>\n",
              "      <td>N</td>\n",
              "    </tr>\n",
              "    <tr>\n",
              "      <th>4</th>\n",
              "      <td>Alemanha</td>\n",
              "      <td>40</td>\n",
              "      <td>70000</td>\n",
              "      <td>S</td>\n",
              "    </tr>\n",
              "  </tbody>\n",
              "</table>\n",
              "</div>"
            ],
            "text/plain": [
              "       Pais  Idade  Salario anual Comprou imovel\n",
              "0    França     44          72000              N\n",
              "1   Espanha     27          48000              S\n",
              "2  Alemanha     30          54000              N\n",
              "3   Espanha     38          61000              N\n",
              "4  Alemanha     40          70000              S"
            ]
          },
          "metadata": {
            "tags": []
          },
          "execution_count": 22
        }
      ]
    },
    {
      "cell_type": "markdown",
      "metadata": {
        "id": "_6gVSge2JIye",
        "colab_type": "text"
      },
      "source": [
        "Temos os seguintes valores na coluna *País*:"
      ]
    },
    {
      "cell_type": "code",
      "metadata": {
        "id": "zCC9Mb5mFXpp",
        "colab_type": "code",
        "outputId": "5ed5edc6-70a3-4a03-804a-0aa7fb844924",
        "colab": {
          "base_uri": "https://localhost:8080/"
        }
      },
      "source": [
        "df_dados['Pais'].values"
      ],
      "execution_count": 0,
      "outputs": [
        {
          "output_type": "execute_result",
          "data": {
            "text/plain": [
              "array(['França', 'Espanha', 'Alemanha', 'Espanha', 'Alemanha', 'França',\n",
              "       'Espanha', 'França', 'Alemanha', 'França'], dtype=object)"
            ]
          },
          "metadata": {
            "tags": []
          },
          "execution_count": 23
        }
      ]
    },
    {
      "cell_type": "markdown",
      "metadata": {
        "id": "9wCKImoAJStr",
        "colab_type": "text"
      },
      "source": [
        "Para iniciar o processo, precisamos primeiro transformar os dados categóricos em números inteiros. Para isso, vamos importar a classe **LabelEncoder** do pacote ***preprocessing*** da biblioteca ***scikit-learn***."
      ]
    },
    {
      "cell_type": "code",
      "metadata": {
        "id": "BR8GecadFav-",
        "colab_type": "code",
        "colab": {}
      },
      "source": [
        "from sklearn.preprocessing import LabelEncoder\n"
      ],
      "execution_count": 0,
      "outputs": []
    },
    {
      "cell_type": "markdown",
      "metadata": {
        "id": "7pA6IDqZJ6ZC",
        "colab_type": "text"
      },
      "source": [
        "Agora vamos instanciar um objeto do da classe **LabelEncoder**."
      ]
    },
    {
      "cell_type": "code",
      "metadata": {
        "id": "y0nxvu1nGAKp",
        "colab_type": "code",
        "colab": {}
      },
      "source": [
        "label_encoder = LabelEncoder()"
      ],
      "execution_count": 0,
      "outputs": []
    },
    {
      "cell_type": "markdown",
      "metadata": {
        "id": "A86qBGFFKL2t",
        "colab_type": "text"
      },
      "source": [
        "Com a função ***fit_transform()*** vamos fazer a transformação de dados categóricos para numéricos, salvando o resultado no array *paises_para_numeros*."
      ]
    },
    {
      "cell_type": "code",
      "metadata": {
        "id": "lX51L0VuGDL_",
        "colab_type": "code",
        "colab": {}
      },
      "source": [
        "paises_para_numeros = label_encoder.fit_transform(df_dados['Pais'])"
      ],
      "execution_count": 0,
      "outputs": []
    },
    {
      "cell_type": "code",
      "metadata": {
        "id": "YmXwcdq0IEZr",
        "colab_type": "code",
        "outputId": "1be4ef38-60d9-42f4-f95a-7d954ef30a31",
        "colab": {
          "base_uri": "https://localhost:8080/"
        }
      },
      "source": [
        "paises_para_numeros"
      ],
      "execution_count": 0,
      "outputs": [
        {
          "output_type": "execute_result",
          "data": {
            "text/plain": [
              "array([2, 1, 0, 1, 0, 2, 1, 2, 0, 2])"
            ]
          },
          "metadata": {
            "tags": []
          },
          "execution_count": 27
        }
      ]
    },
    {
      "cell_type": "markdown",
      "metadata": {
        "id": "Lu5k8-LaLZQG",
        "colab_type": "text"
      },
      "source": [
        "Podemos ver que a substituição foi feita da seguinte forma:\n",
        "\n",
        "\n",
        "*   Alemanha: 0\n",
        "*   Espanha: 1\n",
        "*   França: 2\n",
        "\n"
      ]
    },
    {
      "cell_type": "markdown",
      "metadata": {
        "id": "cnjmrvNNNzPG",
        "colab_type": "text"
      },
      "source": [
        "Agora precisamos importar a classe **OneHotEnconder** do pacote ***preprocessing*** da biblioteca ***scikit-learn***."
      ]
    },
    {
      "cell_type": "code",
      "metadata": {
        "id": "LtdNRn-mL5YJ",
        "colab_type": "code",
        "colab": {}
      },
      "source": [
        "from sklearn.preprocessing import OneHotEncoder"
      ],
      "execution_count": 0,
      "outputs": []
    },
    {
      "cell_type": "markdown",
      "metadata": {
        "id": "5aZ9fapnOd8R",
        "colab_type": "text"
      },
      "source": [
        "Instanciamos um objeto do tipo **OneHotEnconder**, com parâmetro sparse=False para criar uma matrix de vetores."
      ]
    },
    {
      "cell_type": "code",
      "metadata": {
        "id": "RP9hJhnuIG1F",
        "colab_type": "code",
        "colab": {}
      },
      "source": [
        "onehot_encoder = OneHotEncoder(sparse=False, categories='auto')"
      ],
      "execution_count": 0,
      "outputs": []
    },
    {
      "cell_type": "markdown",
      "metadata": {
        "id": "nbblYosLOwZB",
        "colab_type": "text"
      },
      "source": [
        "Antes de transformar os dados, precisamos mudar nossa lista para um vetor de somente uma coluna. Na célula a seguir salvamos esse vetor na variável *lista_unidimensional*."
      ]
    },
    {
      "cell_type": "code",
      "metadata": {
        "id": "J2dUic85L1oh",
        "colab_type": "code",
        "colab": {}
      },
      "source": [
        "lista_unidimensional = paises_para_numeros.reshape(len(paises_para_numeros),1)"
      ],
      "execution_count": 0,
      "outputs": []
    },
    {
      "cell_type": "code",
      "metadata": {
        "id": "nrOgTfGPMLgP",
        "colab_type": "code",
        "outputId": "6962d04f-162b-4619-9dbb-d7a233641a1a",
        "colab": {
          "base_uri": "https://localhost:8080/",
          "height": 196
        }
      },
      "source": [
        "lista_unidimensional"
      ],
      "execution_count": 0,
      "outputs": [
        {
          "output_type": "execute_result",
          "data": {
            "text/plain": [
              "array([[2],\n",
              "       [1],\n",
              "       [0],\n",
              "       [1],\n",
              "       [0],\n",
              "       [2],\n",
              "       [1],\n",
              "       [2],\n",
              "       [0],\n",
              "       [2]])"
            ]
          },
          "metadata": {
            "tags": []
          },
          "execution_count": 50
        }
      ]
    },
    {
      "cell_type": "markdown",
      "metadata": {
        "id": "2gBY9sBSPEWg",
        "colab_type": "text"
      },
      "source": [
        "Agora sim, com a função ***fit_transform()*** chamada pelo objeto **onehot_encoder** vamos transformar os números inteiros em vetores binários:"
      ]
    },
    {
      "cell_type": "code",
      "metadata": {
        "id": "4fe1DkHxMM7k",
        "colab_type": "code",
        "colab": {}
      },
      "source": [
        "vetores_binarios = onehot_encoder.fit_transform(lista_unidimensional)"
      ],
      "execution_count": 0,
      "outputs": []
    },
    {
      "cell_type": "code",
      "metadata": {
        "id": "EfwOKPsHMZGo",
        "colab_type": "code",
        "outputId": "142be134-24e9-4876-dc98-801f9734eb9d",
        "colab": {
          "base_uri": "https://localhost:8080/",
          "height": 187
        }
      },
      "source": [
        "vetores_binarios"
      ],
      "execution_count": 0,
      "outputs": [
        {
          "output_type": "execute_result",
          "data": {
            "text/plain": [
              "array([[0., 0., 1.],\n",
              "       [0., 1., 0.],\n",
              "       [1., 0., 0.],\n",
              "       [0., 1., 0.],\n",
              "       [1., 0., 0.],\n",
              "       [0., 0., 1.],\n",
              "       [0., 1., 0.],\n",
              "       [0., 0., 1.],\n",
              "       [1., 0., 0.],\n",
              "       [0., 0., 1.]])"
            ]
          },
          "metadata": {
            "tags": []
          },
          "execution_count": 55
        }
      ]
    },
    {
      "cell_type": "markdown",
      "metadata": {
        "id": "lJ5nW0L4PZA0",
        "colab_type": "text"
      },
      "source": [
        "Temos então nossa feature de países preparadas para ser utilizada em algoritmos de Machine Learning."
      ]
    }
  ]
}