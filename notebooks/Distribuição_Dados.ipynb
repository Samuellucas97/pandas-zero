{
  "nbformat": 4,
  "nbformat_minor": 0,
  "metadata": {
    "colab": {
      "name": "Distribuição_Dados.ipynb",
      "provenance": [],
      "collapsed_sections": []
    },
    "kernelspec": {
      "name": "python3",
      "display_name": "Python 3"
    }
  },
  "cells": [
    {
      "cell_type": "markdown",
      "metadata": {
        "id": "SkAAEdG-Ewte",
        "colab_type": "text"
      },
      "source": [
        "# Visualizando distribuições de dados"
      ]
    },
    {
      "cell_type": "markdown",
      "metadata": {
        "id": "Pmeucql-SVty",
        "colab_type": "text"
      },
      "source": [
        "Uma parte importante da análise exploratória de dados é identificar as distribuições dos dados disponíveis.\n",
        "\n",
        "Diferentes tipos de visualização podem ser utilizadas em função do tipo de dado que se quer analisar."
      ]
    },
    {
      "cell_type": "markdown",
      "metadata": {
        "id": "BbhTAG09UHhn",
        "colab_type": "text"
      },
      "source": [
        "## Visualizando dados discretos"
      ]
    },
    {
      "cell_type": "markdown",
      "metadata": {
        "id": "ZPGzIijNULgv",
        "colab_type": "text"
      },
      "source": [
        "Uma variável discreta  possui valores contáveis, como a quantidade de meses num ano, a quantidade de alunos numa escola, a quantidade de objetos numa lista, etc. \n",
        "\n",
        "Dessa forma, cada valor possível da variável pode ser associado a uma probabilidade diferente de zero.\n",
        "\n",
        "Distribuições de dados discretos costumam ser analisadas a partir de contagens de frequência dos valores possíveis.\n",
        "\n",
        "O exemplo mais direto são os **histogramas**, que já vimos anteriormente. \n",
        "\n",
        "*Como* discutimos, histogramas são úteis principalmente quando a característica em análise apresenta poucos valores possíveis.\n",
        "\n",
        "Esse não costuma ser o caso quando desejamos analisar os termos mais frequentes em documentos, por exemplo.\n",
        "\n",
        "Uma opção mais interessante neste caso são as **nuvens de palavras** (em inglês, *word clouds*).\n",
        "\n",
        "Em uma nuvem de palavras, os termos que são mais frequentes aparecem em destaque (posições mais centrais e em tamanho maior). \n",
        "\n",
        "Em Python, podemos usar a biblioteca `wordcloud` em conjunto com a biblioteca `matplotlib` para gerar uma nuvem de palavras:"
      ]
    },
    {
      "cell_type": "code",
      "metadata": {
        "id": "GOUgtBdDyek5",
        "colab_type": "code",
        "colab": {}
      },
      "source": [
        "from wordcloud import WordCloud\n",
        "import matplotlib.pyplot as plt"
      ],
      "execution_count": 0,
      "outputs": []
    },
    {
      "cell_type": "markdown",
      "metadata": {
        "id": "ogqeRriII4QC",
        "colab_type": "text"
      },
      "source": [
        "### Uma nuvem de palavras simples"
      ]
    },
    {
      "cell_type": "markdown",
      "metadata": {
        "id": "68-rit7a1h_2",
        "colab_type": "text"
      },
      "source": [
        "Vamos começar usando um exemplo artificial para focarmos no uso das bibliotecas:"
      ]
    },
    {
      "cell_type": "code",
      "metadata": {
        "id": "IT1SiVdO1oft",
        "colab_type": "code",
        "colab": {}
      },
      "source": [
        "texto=\"Natal Calor Sol Quente Calor Praia IMD IMD Calor Natal Tecnologia Digital Tecnologia Praia Praia Sol Verão Verão Verão Calor Calor Quente Quente Quente Quente IMD Sol Sol Calor Calor Calor Calor Digital IMD Verão Praia Praia Litoral Litoral Praia Calor Sol IMD Quente Vulcão\""
      ],
      "execution_count": 0,
      "outputs": []
    },
    {
      "cell_type": "markdown",
      "metadata": {
        "id": "GQXoMcUZ2N57",
        "colab_type": "text"
      },
      "source": [
        "A nuvem de palavras é criada em duas etapas. \n",
        "\n",
        "Primeiro, usamos o método `WordCloud` da biblioteca `wordcloud`, que nos permite passar parâmetros como a altura, largura e cor de fundo."
      ]
    },
    {
      "cell_type": "code",
      "metadata": {
        "id": "ZGk1CcXF2UHD",
        "colab_type": "code",
        "colab": {}
      },
      "source": [
        "wordcloud = WordCloud(width=550, height=550, background_color=\"white\").generate(texto)"
      ],
      "execution_count": 0,
      "outputs": []
    },
    {
      "cell_type": "markdown",
      "metadata": {
        "id": "dSg4x61u2aTC",
        "colab_type": "text"
      },
      "source": [
        "Em seguida, usamos o método `imshow` da bibloteca `matplotlib` para visualizar a nuvem produzida. "
      ]
    },
    {
      "cell_type": "code",
      "metadata": {
        "id": "DTzvnVc62dKD",
        "colab_type": "code",
        "colab": {}
      },
      "source": [
        "plt.imshow(wordcloud, interpolation='bilinear')\n",
        "plt.axis(\"off\")\n",
        "plt.show()"
      ],
      "execution_count": 0,
      "outputs": []
    },
    {
      "cell_type": "markdown",
      "metadata": {
        "id": "4BMq64jrIa5O",
        "colab_type": "text"
      },
      "source": [
        "Alguns pequenos detalhes técnicos do código acima: \n",
        "- Para ter uma melhor qualidade na imagem produzida, usamos como parâmetro um método de interpolação bilinear:\n",
        "```python\n",
        "plt.imshow(wordcloud, interpolation='bilinear')\n",
        "```\n",
        "- Como o `matplotlib` é geralmente usado para gerar gráficos matemáticos, precisamos especificar que não queremos que sejam gerados eixos para nossa nuvem de palavra:\n",
        "```python\n",
        "plt.axis(\"off\")\n",
        "```\n",
        "- A renderização final é feita com o método `show` da biblioteca `matplotlib`:\n",
        "```python\n",
        "plt.show()\n",
        "```\n"
      ]
    },
    {
      "cell_type": "markdown",
      "metadata": {
        "id": "1lFfk4RdJRtG",
        "colab_type": "text"
      },
      "source": [
        "### Uma nuvem de palavras no mundo real"
      ]
    },
    {
      "cell_type": "markdown",
      "metadata": {
        "id": "HhB0aBswJVbu",
        "colab_type": "text"
      },
      "source": [
        "Em termos de bibliotecas e métodos, o exemplo acima é muito próximo do que usamos no dia a dia da análise de documentos.\n",
        "\n",
        "No entanto, com textos reais, é necessário atentarmos para os conceito de **stopwords** e **corpus**.\n",
        "\n",
        "Vamos ver um exemplo que ilustra isso, extraído da introdução da página da Wikipedia sobre Natal-RN:"
      ]
    },
    {
      "cell_type": "code",
      "metadata": {
        "id": "WOygK-w8JN_W",
        "colab_type": "code",
        "colab": {}
      },
      "source": [
        "texto=\"\"\"\n",
        "        Natal é um município brasileiro, capital do estado do Rio Grande do Norte, na Região Nordeste do país. Com uma área de aproximadamente 167 km², é a segunda capital brasileira com a menor área territorial e a sexta maior capital do país em densidade populacional, distando 2 227 quilômetros de Brasília, a capital federal.\n",
        "        Fundada em 1599, às margens do Rio Potenji, conta com importantes monumentos, parques e museus e pontos turísticos, como o Teatro Alberto Maranhão e a Coluna Capitolina Del Pretti, no Centro Histórico, além de outras atrações, entre elas a Ponte Newton Navarro, o Museu Câmara Cascudo, o Parque da Cidade Dom Nivaldo Monte, o Museu de Cultura Popular, o Parque das Dunas, a Catedral Metropolitana e praias como Ponta Negra e dos Artistas, e eventos de grande repercussão, tais como a Feira Internacional de Artesanato (FIART), o Carnatal, as festas juninas e as comemorações natalinas.\n",
        "        Historicamente, a cidade teve grande importância durante a Segunda Guerra Mundial em 1942 durante a Operação Tocha, já que os aviões da base aliada americana se abasteciam com combustível no lugar onde durante muito tempo foi o Aeroporto Internacional Augusto Severo, sendo classificada como \"um dos quatro pontos mais estratégicos do mundo\". Devido às operações da primeira base de foguetes da América do Sul, no Centro de Lançamento da Barreira do Inferno, hoje localizada no município limítrofe de Parnamirim, Natal também passou a ser conhecida como a \"Capital Espacial do Brasil\". A capital potiguar foi também uma das doze sedes da Copa do Mundo de 2014.\n",
        "        De acordo com a estimativa realizada pelo Instituto Brasileiro de Geografia e Estatística (IBGE) em 2018, a população do município é de 877 640 habitantes, sendo o décimo nono município mais populoso do país e sua região metropolitana, formada por outros treze municípios do Rio Grande do Norte, possui uma população de pouco mais de 1,5 milhão de habitantes, formando a quinta maior aglomeração urbana do Nordeste e a décima nona do Brasil.\n",
        "        \"\"\""
      ],
      "execution_count": 0,
      "outputs": []
    },
    {
      "cell_type": "code",
      "metadata": {
        "id": "WvxH6bbwJwKQ",
        "colab_type": "code",
        "colab": {}
      },
      "source": [
        "wordcloud = WordCloud(width=550, height=550, background_color=\"white\").generate(texto)\n",
        "plt.imshow(wordcloud, interpolation='bilinear')\n",
        "plt.axis(\"off\")\n",
        "plt.show()"
      ],
      "execution_count": 0,
      "outputs": []
    },
    {
      "cell_type": "markdown",
      "metadata": {
        "id": "K5Q0XSjGJ6VU",
        "colab_type": "text"
      },
      "source": [
        "Em textos reais, é bem comum que os termos mais frequentes sejam termos pouco relevantes, como artigos e preposições.\n",
        "\n",
        "No campo de **processamento de linguagem natural** (NLP), esses termos são conhecidos como *stopwords*.\n",
        "\n",
        "Em geral, stopwords são fornecidas por bibliotecas de NLP como parte de um *corpus*, isto é, uma base de dados em um determinado idioma construída a partir de uma coleção de documentos.\n",
        "\n",
        "Em Python, as principais bibliotecas de NLP são a `nltk` e a `spacy`. Vamos ver a seguir um exemplo usando a biblioteca `nltk`, onde começamos baixando a coleção de stopwords da biblioteca:"
      ]
    },
    {
      "cell_type": "code",
      "metadata": {
        "id": "I2UOU-H8GqNW",
        "colab_type": "code",
        "colab": {}
      },
      "source": [
        "import nltk\n",
        "nltk.download('stopwords')"
      ],
      "execution_count": 0,
      "outputs": []
    },
    {
      "cell_type": "markdown",
      "metadata": {
        "id": "cILLJlwuL7Ai",
        "colab_type": "text"
      },
      "source": [
        "Uma vez baixada a coleção de stopwords, podemos selecionar apenas as para o português, idioma do texto da Wikipedia sobre Natal-RN:"
      ]
    },
    {
      "cell_type": "code",
      "metadata": {
        "id": "Y28AXJecLcH7",
        "colab_type": "code",
        "colab": {}
      },
      "source": [
        "from nltk.corpus import stopwords\n",
        "stopwords_pt = stopwords.words(\"portuguese\")"
      ],
      "execution_count": 0,
      "outputs": []
    },
    {
      "cell_type": "markdown",
      "metadata": {
        "id": "I6KsaPeMMDj2",
        "colab_type": "text"
      },
      "source": [
        "Agora podemos gerar nossa nuvem de palavras como fizemos anteriormente, adicionando apenas o parâmetro `stopwords` ao método `WordCloud`:"
      ]
    },
    {
      "cell_type": "code",
      "metadata": {
        "id": "xp2ZLnooLLo2",
        "colab_type": "code",
        "colab": {}
      },
      "source": [
        "wordcloud = WordCloud(width=550, height=550, background_color=\"white\", stopwords=stopwords_pt).generate(texto)\n",
        "plt.imshow(wordcloud, interpolation='bilinear')\n",
        "plt.axis(\"off\")\n",
        "plt.show()"
      ],
      "execution_count": 0,
      "outputs": []
    },
    {
      "cell_type": "markdown",
      "metadata": {
        "id": "KdDwSVzXMVt0",
        "colab_type": "text"
      },
      "source": [
        "Em destaque, vemos os termos que de fato melhor identificam Natal-RN no texto da Wikipedia.\n",
        "\n",
        "Note que alguns termos aparecem separados, como Rio Grande do Norte e Região Nordeste. Esse tipo de análise requer o uso de n-gramas, que você pode pesquisar em tutoriais sobre a `nltk` =)"
      ]
    },
    {
      "cell_type": "markdown",
      "metadata": {
        "id": "BVrs-Bc0RRX4",
        "colab_type": "text"
      },
      "source": [
        "## Visualizando dados contínuos"
      ]
    },
    {
      "cell_type": "markdown",
      "metadata": {
        "id": "TRyRtyl4RUcR",
        "colab_type": "text"
      },
      "source": [
        "Quando desejamos analisar dados contínuos, podemos:\n",
        "- usar representações que aplicam uma discretização aos dados\n",
        "- usar representações próprias para dados contínuos"
      ]
    },
    {
      "cell_type": "markdown",
      "metadata": {
        "id": "TvR8cJn4RqrE",
        "colab_type": "text"
      },
      "source": [
        "O principal exemplo de visualização discretizada é o histograma, como já vimos anteriormente.\n",
        "\n",
        "Já para visualização contínua, podemos usar gráficos de densidade, que também já discutimos.\n",
        "\n",
        "Seja qual for o tipo de visualização adotada, o essencial é conseguir identificar o tipo de distribuição apresentada e como proceder em cada caso."
      ]
    },
    {
      "cell_type": "markdown",
      "metadata": {
        "id": "HugIEG0pbTi0",
        "colab_type": "text"
      },
      "source": [
        "### Principais tipos de distribuição\n",
        "\n",
        "Em notebooks anteriores, discutimos rapidamente sobre as distribuições normal e bimodal.\n",
        "\n",
        "Aqui, vamos discutir rapidamente sobre outros dois tipos de distribuição que são comuns, a **uniforme** e a **exponencial**."
      ]
    },
    {
      "cell_type": "markdown",
      "metadata": {
        "id": "JmKI715IDRzC",
        "colab_type": "text"
      },
      "source": [
        "#### Distribuição Uniforme\n",
        "\n",
        "Nesta distribuição, todos os valores possíveis para um dado têm iguais chances de ocorrer.\n",
        "\n",
        "Esse tipo de distribuição é mais comum na teoria do que na prática, então vamos gerar um exemplo artificial usando o método `arange` da biblioteca `numpy`.\n",
        "\n",
        "Esse método gera uma lista de valores com probabilidade uniforme. No exemplo a seguir, geramos valores entre 0 e 10, usando como cinco casas decimais de precisão."
      ]
    },
    {
      "cell_type": "code",
      "metadata": {
        "id": "wuiisoudck7q",
        "colab_type": "code",
        "colab": {}
      },
      "source": [
        "import numpy as np\n",
        "s = np.arange(10, step=0.00001)"
      ],
      "execution_count": 0,
      "outputs": []
    },
    {
      "cell_type": "markdown",
      "metadata": {
        "id": "4n4L9taai7_l",
        "colab_type": "text"
      },
      "source": [
        "Pra visualizarmos a distribuição desses dados, vamos usar o método `distplot` da biblioteca `seaborn`, que produz tanto um histograma como um gráfico de densidade.\n",
        "\n",
        "No exemplo abaixo, limitamos o gráfico ao intervalo de valores entre 1 e 2."
      ]
    },
    {
      "cell_type": "code",
      "metadata": {
        "id": "7yoZYeopDrIu",
        "colab_type": "code",
        "colab": {}
      },
      "source": [
        "import seaborn as sns\n",
        "sns.distplot(s)\n",
        "plt.xlim(1,2)"
      ],
      "execution_count": 0,
      "outputs": []
    },
    {
      "cell_type": "markdown",
      "metadata": {
        "id": "Fe85_MVgk1k2",
        "colab_type": "text"
      },
      "source": [
        "Note que a função de densidade é uma reta, indicando que cada valor possível apresenta a mesma probabilidade de ocorrência."
      ]
    },
    {
      "cell_type": "markdown",
      "metadata": {
        "id": "p-QWHvIB8DYI",
        "colab_type": "text"
      },
      "source": [
        "#### Distribuição exponencial\n",
        "\n",
        "Em uma distribuição exponencial, os valores mais frequentes ocorrem com uma probabilidade exponencialmente maior que os valores menos frequentes.\n",
        "\n",
        "Essa distribuição pode ser observada, por exemplo, ao analisarmos a população dos municípios brasileiros.\n",
        "\n",
        "Vamos carregar inicialmente a estimativa fornecida pelo TCU para o ano de 2019:"
      ]
    },
    {
      "cell_type": "code",
      "metadata": {
        "id": "72uasQ4DPcw0",
        "colab_type": "code",
        "colab": {}
      },
      "source": [
        "import pandas as pd"
      ],
      "execution_count": 0,
      "outputs": []
    },
    {
      "cell_type": "code",
      "metadata": {
        "id": "zq27f9yXtBvv",
        "colab_type": "code",
        "colab": {}
      },
      "source": [
        "ibge = pd.read_csv(\"https://raw.githubusercontent.com/leobezerra/pandas-zero/master/datasets/estimativa_TCU_2019_20191031_limpa.csv\", header=0, sep=\",\", thousands=\",\")"
      ],
      "execution_count": 0,
      "outputs": []
    },
    {
      "cell_type": "code",
      "metadata": {
        "id": "OTiSRLx0tPXR",
        "colab_type": "code",
        "colab": {}
      },
      "source": [
        "ibge.head()"
      ],
      "execution_count": 0,
      "outputs": []
    },
    {
      "cell_type": "markdown",
      "metadata": {
        "id": "poba0--mzytw",
        "colab_type": "text"
      },
      "source": [
        "Para nossa análise, nos interessa visualizar a distribuição da característica `\"POPULAÇÃO ESTIMADA\"`:"
      ]
    },
    {
      "cell_type": "code",
      "metadata": {
        "id": "wO-_K2Uasiyd",
        "colab_type": "code",
        "colab": {}
      },
      "source": [
        "sns.distplot(ibge[\"POPULAÇÃO ESTIMADA\"])"
      ],
      "execution_count": 0,
      "outputs": []
    },
    {
      "cell_type": "markdown",
      "metadata": {
        "id": "cy6MrEEBz8zP",
        "colab_type": "text"
      },
      "source": [
        "Note que a visualização do gráfico é bastante difícil, tamanha a discrepância entre as frequências.\n",
        "\n",
        "Uma forma de lidar com uma distribuição exponencial é realizar uma transformação logarítmica sobre os dados.\n",
        "\n",
        "Na prática, isto significa que a grandeza passará a ser representada em uma escala logarítmica:"
      ]
    },
    {
      "cell_type": "code",
      "metadata": {
        "id": "HGnbPgFk0XLo",
        "colab_type": "code",
        "colab": {}
      },
      "source": [
        "sns.distplot(np.log(ibge[\"POPULAÇÃO ESTIMADA\"]))"
      ],
      "execution_count": 0,
      "outputs": []
    },
    {
      "cell_type": "markdown",
      "metadata": {
        "id": "xEo7WOhU0W1y",
        "colab_type": "text"
      },
      "source": [
        "Note que agora a distribuição dos dados se aproxima de uma distribuição normal."
      ]
    },
    {
      "cell_type": "markdown",
      "metadata": {
        "id": "TDQs9Ag11AvJ",
        "colab_type": "text"
      },
      "source": [
        "### Identificando o tipo de distribuição"
      ]
    },
    {
      "cell_type": "markdown",
      "metadata": {
        "id": "Ut0toEwcma7M",
        "colab_type": "text"
      },
      "source": [
        "A distribuição apresentada no gráfico acima se assemelha a uma distribuição normal, mas gera dois questionamentos:\n",
        "- a presença de dois picos é um sinal de bimodalidade?\n",
        "- existe uma inclinação da distribuição para a esquerda? \n",
        "\n",
        "Para visualizarmos esses questionamentos de forma mais clara, vamos adicionar ao gráfico uma distribuição normal de referência usando o método `norm` do módulo `scipy.stats`:"
      ]
    },
    {
      "cell_type": "code",
      "metadata": {
        "id": "tZdMUFY72lEL",
        "colab_type": "code",
        "colab": {}
      },
      "source": [
        "from scipy.stats import norm\n",
        "ibge_log = np.log(ibge[\"POPULAÇÃO ESTIMADA\"])\n",
        "sns.distplot(ibge_log, fit=norm)"
      ],
      "execution_count": 0,
      "outputs": []
    },
    {
      "cell_type": "markdown",
      "metadata": {
        "id": "eMZ_udT53r2x",
        "colab_type": "text"
      },
      "source": [
        "Note que, de fato, a distribuição aparenta estar um pouco para esquerda, e apenas um de seus picos coincide com a distribuição de referência.\n",
        "\n",
        "Vamos então usar outros dois métodos para verificar a normalidade dessa distribuição."
      ]
    },
    {
      "cell_type": "markdown",
      "metadata": {
        "id": "bdIZ-dy_T30k",
        "colab_type": "text"
      },
      "source": [
        "#### Gráficos QQ"
      ]
    },
    {
      "cell_type": "markdown",
      "metadata": {
        "id": "gwwUSdkhT6yX",
        "colab_type": "text"
      },
      "source": [
        "É possível comparar duas distribuições a partir de seus quantis.\n",
        "\n",
        "Em linhas gerais, um gráfico QQ é um gráfico que analisa a **correlação** entre os quantis de cada distribuição comparada.\n",
        "\n",
        "Se duas distribuições de dados forem de mesma natureza, a correlação será máxima, o que fará o gráfico se alinhar com uma reta inclinada 45 graus em relação ao eixo x.\n",
        "\n",
        "Vamos comparar nossa distribuição com a distribuição normal para ver o resultado que temos. \n",
        "\n",
        "Para isso, vamos usar o método `probplot` da biblioteca `scipy`:"
      ]
    },
    {
      "cell_type": "code",
      "metadata": {
        "id": "7d2vT1Ly7QIX",
        "colab_type": "code",
        "colab": {}
      },
      "source": [
        "from scipy.stats import probplot\n",
        "probplot(ibge_log, plot=plt)\n",
        "plt.show()"
      ],
      "execution_count": 0,
      "outputs": []
    },
    {
      "cell_type": "markdown",
      "metadata": {
        "id": "Svbf2_oW8R73",
        "colab_type": "text"
      },
      "source": [
        "Um pequeno detalhe técnico do código acima é que precisamos informar ao método que exibisse o resultado através do matplotlib (`plot=plt`).\n",
        "\n",
        "Note que a curva apresentada não está perfeitamente alinhada com a reta ideal.\n",
        "\n",
        "No entanto, vamos ver o que aconteceria se comparássemos nossos dados com uma distribuição uniforme."
      ]
    },
    {
      "cell_type": "code",
      "metadata": {
        "id": "SljeGiybShXF",
        "colab_type": "code",
        "colab": {}
      },
      "source": [
        "probplot(ibge_log, plot=plt, dist=\"uniform\")\n",
        "plt.show()"
      ],
      "execution_count": 0,
      "outputs": []
    },
    {
      "cell_type": "markdown",
      "metadata": {
        "id": "RKMy0N3NU6rZ",
        "colab_type": "text"
      },
      "source": [
        "Note que a discrepância em relação à reta de referência nas extremidades é ainda mais acentuada.\n",
        "\n",
        "Assim, temos a certeza de que a distribuição que temos se aproxima mais de uma distribuição normal que de uma distribuição uniforme."
      ]
    },
    {
      "cell_type": "markdown",
      "metadata": {
        "id": "nTU12-C-VDSO",
        "colab_type": "text"
      },
      "source": [
        "#### Testes de hipótese"
      ]
    },
    {
      "cell_type": "markdown",
      "metadata": {
        "id": "27istcCsVH2K",
        "colab_type": "text"
      },
      "source": [
        "Uma outra ferramenta da estatística para análise de normalidade são os testes de hipótese.\n",
        "\n",
        "A módulo `scipy.stats` traz uma série de testes que poderíamos adotar aqui.\n",
        "\n",
        "Por simplicidade, vamos adotar o método `normaltest`:"
      ]
    },
    {
      "cell_type": "code",
      "metadata": {
        "id": "GQghGsxJVXai",
        "colab_type": "code",
        "colab": {}
      },
      "source": [
        "from scipy.stats import normaltest\n",
        "normaltest(ibge_log)"
      ],
      "execution_count": 0,
      "outputs": []
    },
    {
      "cell_type": "markdown",
      "metadata": {
        "id": "XTFoyzmmVhNu",
        "colab_type": "text"
      },
      "source": [
        "Em um teste de hipótese, estamos tentando refutar uma hipótese base (conhecida como nula).\n",
        "\n",
        "Neste caso, a hipótese nula é de que os dados que temos vêm de uma distribuição normal.\n",
        "\n",
        "Se não conseguirmos refutar essa hipótese, aceitamos que os dados disponíveis seguem de fato uma distribuição normal.\n",
        "\n",
        "Em geral, o resultado de um teste de hipótese é dado por um p-valor, que representa o nível de significância do teste.\n",
        "\n",
        "Uma boa referência de descarte da hipótese nula é adotar um p-valor de 0.05 como limite. \n",
        "\n",
        "Assim, para p-valores abaixo de 0.05, podemos rejeitar a hipótese nula.\n",
        "\n",
        "Neste caso, vemos que o p-valor do teste foi consideravelmente menor que este limite, o que nos dá confiança para dizer que os dados não seguem uma distribuição normal."
      ]
    },
    {
      "cell_type": "markdown",
      "metadata": {
        "id": "Zz3jUX6aWRE5",
        "colab_type": "text"
      },
      "source": [
        "### Desvios comuns em distribuições normais"
      ]
    },
    {
      "cell_type": "markdown",
      "metadata": {
        "id": "CvzBtkBR6eTq",
        "colab_type": "text"
      },
      "source": [
        "Por ser uma das distribuições mais estudadas, a distribuição normal apresenta muitos recursos teóricos e práticos disponíveis para sua análise.\n",
        "\n",
        "Em relação a desvios de normalidade, os dois conceitos mais comuns são a assimetria, discutida acima, e a **curtose** (*kurtosis*).\n",
        "\n",
        "Enquanto a assimetria é percebida em relação ao centro da distribuição, a curtose é percebida como um pico ou como uma distribuição plateau (sem pico).\n",
        "\n",
        "Podemos medir ambas estas medidas usando métodos do módulo `scipy`:"
      ]
    },
    {
      "cell_type": "code",
      "metadata": {
        "id": "zt-ycmtN9nms",
        "colab_type": "code",
        "colab": {}
      },
      "source": [
        "from scipy.stats import skew, kurtosis"
      ],
      "execution_count": 0,
      "outputs": []
    },
    {
      "cell_type": "code",
      "metadata": {
        "id": "o4ioHjUS-2zh",
        "colab_type": "code",
        "colab": {}
      },
      "source": [
        "skew(ibge_log)"
      ],
      "execution_count": 0,
      "outputs": []
    },
    {
      "cell_type": "code",
      "metadata": {
        "id": "h3GFicUg-YVB",
        "colab_type": "code",
        "colab": {}
      },
      "source": [
        "kurtosis(ibge_log)"
      ],
      "execution_count": 0,
      "outputs": []
    },
    {
      "cell_type": "markdown",
      "metadata": {
        "id": "tyC83xikAqWy",
        "colab_type": "text"
      },
      "source": [
        "Em ambos os casos, uma distribuição normal deveria apresentar valores próximos a zero.\n",
        "\n",
        "Poderíamos tratar a assimetria e a curtose desta distribuição aplicando novas transformações logarítmicas.\n"
      ]
    },
    {
      "cell_type": "code",
      "metadata": {
        "id": "eFci-5DYBRnZ",
        "colab_type": "code",
        "colab": {}
      },
      "source": [
        "ibge_4logs = np.log(np.log(np.log(ibge_log)))\n",
        "print(skew(ibge_4logs))\n",
        "print(kurtosis(ibge_4logs))\n",
        "sns.distplot(ibge_4logs, fit=norm)"
      ],
      "execution_count": 0,
      "outputs": []
    },
    {
      "cell_type": "code",
      "metadata": {
        "id": "uwd4E74LBgx8",
        "colab_type": "code",
        "colab": {}
      },
      "source": [
        "print(normaltest(ibge_4logs))\n",
        "probplot(ibge_4logs, plot=plt)\n",
        "plt.show()"
      ],
      "execution_count": 0,
      "outputs": []
    },
    {
      "cell_type": "markdown",
      "metadata": {
        "id": "M8lB8cGcByiX",
        "colab_type": "text"
      },
      "source": [
        "Note que, apesar do teste de hipótese continuar não indicando a normalidade da distribuição, as demais medidas melhoraram consideravelmente.\n",
        "\n",
        "No entanto, transformar os dados seguidas vezes pode compremeter severamente sua interpretação no domínio original.\n",
        "\n",
        "Assim, o uso deste tipo de técnica de transformação deve ser avaliado cuidadosamente."
      ]
    }
  ]
}