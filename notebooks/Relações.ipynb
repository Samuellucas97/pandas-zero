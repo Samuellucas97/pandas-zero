{
  "nbformat": 4,
  "nbformat_minor": 0,
  "metadata": {
    "colab": {
      "name": "Relações.ipynb",
      "provenance": [],
      "collapsed_sections": []
    },
    "kernelspec": {
      "name": "python3",
      "display_name": "Python 3"
    }
  },
  "cells": [
    {
      "cell_type": "markdown",
      "metadata": {
        "id": "-PAYjGstGPTR",
        "colab_type": "text"
      },
      "source": [
        "# Relações entre características"
      ]
    },
    {
      "cell_type": "markdown",
      "metadata": {
        "id": "tQAiVnBxGT7w",
        "colab_type": "text"
      },
      "source": [
        "Uma parte importante da análise de dados é compreender as relações existentes entre as características do seu conjunto de dados. A partir dessas relações, podemos eventualmente identificar características redundantes, o que nos permite trabalhar com um conjunto menor de características selecionadas de forma a preservar a parte mais importante da informação existente em nosso conjunto de dados. \n",
        "\n",
        "Os principais tipos de relação entre características que investigamos em nossos dados são covariância, correlação, causalidade e condicionalidade."
      ]
    },
    {
      "cell_type": "markdown",
      "metadata": {
        "id": "uZRepOEWGWCZ",
        "colab_type": "text"
      },
      "source": [
        "## Covariância e correlação"
      ]
    },
    {
      "cell_type": "markdown",
      "metadata": {
        "id": "QaydL55MIHgL",
        "colab_type": "text"
      },
      "source": [
        "A covariância é um conceito estatístico que avalia o comportamento de uma característica em função de outra. Podemos observar três tipos de correlação:\n",
        "* **Positiva**: representa uma relação de proporcionalidade direta entre as características. Em outras palavras, o aumento no valor de uma característica implica no aumento no valor da outra característica. \n",
        "* **Negativa**: representa uma relação de proporcionalidade inversa entre as características. Em outras palavras, o aumento no valor de uma característica implica na redução do valor da outra característica. \n",
        "* **Nula**: representa uma ausência de relação entre as características. Em outras palavras, mudanças em uma característica não produzem um padrão claro de mudança em outra característica.\n",
        "\n",
        "Em geral, usamos a covariância para analisar a correlação entre um ou mais pares de características. Enquanto a covariância nos informa se existe uma relação entre as características, a correlação quantifica essa relação. Podemos analisar a correlação entre os dados fazendo uso de recursos gráficos e analíticos."
      ]
    },
    {
      "cell_type": "markdown",
      "metadata": {
        "id": "XxWpTQy1LUeX",
        "colab_type": "text"
      },
      "source": [
        "### Entre um par de características"
      ]
    },
    {
      "cell_type": "markdown",
      "metadata": {
        "id": "naEbg6IMUKRI",
        "colab_type": "text"
      },
      "source": [
        "Podemos analisar a correlação entre um par de características graficamente, através de um **gráfico de dispersão**, ou analiticamente, através de diferentes **métricas de correlação**."
      ]
    },
    {
      "cell_type": "markdown",
      "metadata": {
        "id": "8ypX76vPUXYb",
        "colab_type": "text"
      },
      "source": [
        "#### Gráfico de dispersão"
      ]
    },
    {
      "cell_type": "markdown",
      "metadata": {
        "id": "IDdGh1j6Gx94",
        "colab_type": "text"
      },
      "source": [
        "Nesse tipo de gráfico, os dados são apresentados como pontos em um plano cartesiano, onde cada eixo representa uma característica que se deseja comparar.  A correlação entre as características é avaliada em função do padrão que se apresente. Pra ver um exemplo concreto, vamos usar os dados estimados das medianas da altura e peso do Brasil fornecidas pelo IBGE, divididas por faixas etárias."
      ]
    },
    {
      "cell_type": "code",
      "metadata": {
        "id": "bRq7IRoHL4jd",
        "colab_type": "code",
        "colab": {}
      },
      "source": [
        "import pandas as pd\n",
        "import matplotlib.pyplot as plt\n",
        "import seaborn as sns\n",
        "sns.set()"
      ],
      "execution_count": 0,
      "outputs": []
    },
    {
      "cell_type": "code",
      "metadata": {
        "id": "tBSh_03cOqcg",
        "colab_type": "code",
        "colab": {}
      },
      "source": [
        "peso_altura = pd.read_csv(\"https://raw.githubusercontent.com/leobezerra/pandas-zero/master/datasets/ibge-peso-altura-brasil.csv\", sep=\";\", decimal=\",\")\n",
        "peso_altura.head()"
      ],
      "execution_count": 0,
      "outputs": []
    },
    {
      "cell_type": "markdown",
      "metadata": {
        "id": "tdlNgV-0Pmqm",
        "colab_type": "text"
      },
      "source": [
        "Quando um par de características apresenta covariância **positiva**, observamos uma tendência com inclinação positiva. Esse é o padrão esperado para a relação entre as características `\"Altura\"` e `\"Peso\"`, que podemos verificar com o método `regplot` da biblioteca `seaborn`:"
      ]
    },
    {
      "cell_type": "code",
      "metadata": {
        "id": "Vdnr3rFqOtln",
        "colab_type": "code",
        "colab": {}
      },
      "source": [
        "sns.regplot(x=\"Altura\", y=\"Peso\", data=peso_altura)\n",
        "plt.show()"
      ],
      "execution_count": 0,
      "outputs": []
    },
    {
      "cell_type": "markdown",
      "metadata": {
        "id": "ioQDHz-cP_E8",
        "colab_type": "text"
      },
      "source": [
        "Note que o gráfico acima parece apresentar a mistura de dois padrões. Para a região onde o peso é menor que 65kg, há uma covariância positiva entre as características analisadas (reta de tendência com inclinação positiva):"
      ]
    },
    {
      "cell_type": "code",
      "metadata": {
        "id": "wMG5x2SSPMsU",
        "colab_type": "code",
        "colab": {}
      },
      "source": [
        "peso_ate_65 = peso_altura.query(\"Peso < 65\")\n",
        "sns.regplot(x=\"Altura\", y=\"Peso\", data=peso_ate_65)\n",
        "plt.show()"
      ],
      "execution_count": 0,
      "outputs": []
    },
    {
      "cell_type": "markdown",
      "metadata": {
        "id": "01R1b2huQOCV",
        "colab_type": "text"
      },
      "source": [
        "Já para a região onde o peso é maior que 65kg, não há padrão formado, o que caracteriza uma **covariância nula** (reta de tendência paralela a um dos eixos):"
      ]
    },
    {
      "cell_type": "code",
      "metadata": {
        "id": "SY0wgmjnPaBY",
        "colab_type": "code",
        "colab": {}
      },
      "source": [
        "peso_maior_que_65 = peso_altura.query(\"Peso > 65\")\n",
        "sns.regplot(x=\"Altura\", y=\"Peso\", data=peso_maior_que_65)\n",
        "plt.show()"
      ],
      "execution_count": 0,
      "outputs": []
    },
    {
      "cell_type": "markdown",
      "metadata": {
        "id": "7Kqi3QeCQW6Q",
        "colab_type": "text"
      },
      "source": [
        "Esse resultado faz sentido quando avaliamos que, em geral, medianas de peso até 65kg representam crianças e adolescentes em idade escolar, onde há uma forte relação entre a altura e o ganho de peso:"
      ]
    },
    {
      "cell_type": "code",
      "metadata": {
        "id": "o6n1oO-JQkQx",
        "colab_type": "code",
        "colab": {}
      },
      "source": [
        "peso_ate_65[\"Idade\"].unique()"
      ],
      "execution_count": 0,
      "outputs": []
    },
    {
      "cell_type": "markdown",
      "metadata": {
        "id": "7lp7E9kjQ3lj",
        "colab_type": "text"
      },
      "source": [
        "Já para medianas de peso maiores que 65kg, estamos falando sobre adolescentes em idade universitária, adultos e idosos, onde não há uma relação direta entre altura e peso:"
      ]
    },
    {
      "cell_type": "code",
      "metadata": {
        "id": "L3CwB8CtRBwr",
        "colab_type": "code",
        "colab": {}
      },
      "source": [
        "peso_maior_que_65[\"Idade\"].unique()"
      ],
      "execution_count": 0,
      "outputs": []
    },
    {
      "cell_type": "markdown",
      "metadata": {
        "id": "9e_RiZS0RWg6",
        "colab_type": "text"
      },
      "source": [
        "Para finalizar, quando um par de características apresenta covariância **negativa**, observamos uma tendência com inclinação negativa. Podemos gerar uma nova característica chamada de `\"Faltam para 100kg\"` a partir da característica `\"Peso\"`:"
      ]
    },
    {
      "cell_type": "code",
      "metadata": {
        "id": "qUQP7PbjSIse",
        "colab_type": "code",
        "colab": {}
      },
      "source": [
        "peso_altura[\"Faltam para 100kg\"] = 100 - peso_altura[\"Peso\"]\n",
        "sns.regplot(x=\"Faltam para 100kg\", y=\"Altura\", data=peso_altura)\n",
        "plt.show()"
      ],
      "execution_count": 0,
      "outputs": []
    },
    {
      "cell_type": "markdown",
      "metadata": {
        "id": "uCdHuffLSWm0",
        "colab_type": "text"
      },
      "source": [
        "Note que a criação dessa nova característica não afetou a existência de dois padrões observada para a característica original. "
      ]
    },
    {
      "cell_type": "markdown",
      "metadata": {
        "id": "D1oKPljfT7HP",
        "colab_type": "text"
      },
      "source": [
        "#### Métricas de correlação"
      ]
    },
    {
      "cell_type": "markdown",
      "metadata": {
        "id": "sdMMVDf1VpRi",
        "colab_type": "text"
      },
      "source": [
        "As métricas de correlação mais comuns são as métricas de **Pearson** e de **Spearman**, que avaliam a aderência dos pontos à tendência observada. Para a correlação de Pearson, utilizamos como tendência uma reta, como nos gráfico produzidos com o `regplot`. Os dados avaliados a seguir apresentam boa aderência à reta de tendência, o que é capturado pela correlação de Pearson como um valor próximo a 1:"
      ]
    },
    {
      "cell_type": "code",
      "metadata": {
        "id": "nKU906uXVjgo",
        "colab_type": "code",
        "colab": {}
      },
      "source": [
        "sns.regplot(x=peso_ate_65[\"Altura\"], y=peso_ate_65[\"Peso\"])\n",
        "plt.show()"
      ],
      "execution_count": 0,
      "outputs": []
    },
    {
      "cell_type": "code",
      "metadata": {
        "id": "hkmT1Cb8dWnG",
        "colab_type": "code",
        "colab": {}
      },
      "source": [
        "peso_ate_65[[\"Altura\",\"Peso\"]].corr()"
      ],
      "execution_count": 0,
      "outputs": []
    },
    {
      "cell_type": "markdown",
      "metadata": {
        "id": "umRUdVa4W2H1",
        "colab_type": "text"
      },
      "source": [
        "Para o caso de correlação negativa, temos que uma correlação forte é avaliada como valores próximos a -1:"
      ]
    },
    {
      "cell_type": "code",
      "metadata": {
        "id": "X623_FbgXE4Y",
        "colab_type": "code",
        "colab": {}
      },
      "source": [
        "peso_ate_65[\"Faltam para 100kg\"] = 100 - peso_ate_65[\"Peso\"]"
      ],
      "execution_count": 0,
      "outputs": []
    },
    {
      "cell_type": "code",
      "metadata": {
        "id": "QguuCTE8XXtH",
        "colab_type": "code",
        "colab": {}
      },
      "source": [
        "sns.regplot(x=peso_ate_65[\"Altura\"], y=peso_ate_65[\"Faltam para 100kg\"])\n",
        "plt.show()"
      ],
      "execution_count": 0,
      "outputs": []
    },
    {
      "cell_type": "code",
      "metadata": {
        "id": "Jm7LMsyvdThD",
        "colab_type": "code",
        "colab": {}
      },
      "source": [
        "peso_ate_65[[\"Altura\",\"Faltam para 100kg\"]].corr()"
      ],
      "execution_count": 0,
      "outputs": []
    },
    {
      "cell_type": "markdown",
      "metadata": {
        "id": "fOq8wOvOXgEp",
        "colab_type": "text"
      },
      "source": [
        "Por fim, uma correlação fraca será avaliada com valores próximos a 0:"
      ]
    },
    {
      "cell_type": "code",
      "metadata": {
        "id": "VEFDXmUvXmpI",
        "colab_type": "code",
        "colab": {}
      },
      "source": [
        "sns.regplot(x=peso_maior_que_65[\"Altura\"], y=peso_maior_que_65[\"Peso\"])\n",
        "plt.show()"
      ],
      "execution_count": 0,
      "outputs": []
    },
    {
      "cell_type": "code",
      "metadata": {
        "id": "0BcG2P9wdN-z",
        "colab_type": "code",
        "colab": {}
      },
      "source": [
        "peso_maior_que_65[[\"Altura\",\"Peso\"]].corr()"
      ],
      "execution_count": 0,
      "outputs": []
    },
    {
      "cell_type": "markdown",
      "metadata": {
        "id": "RcuShHkXbcfA",
        "colab_type": "text"
      },
      "source": [
        "É importante observar que a correlação de Pearson mede apenas a aderência dos dados à tendência, não sendo afetada pela inclinação da reta de tendência (a não ser para indicar a correlação positiva ou negativa). Vamos ver este caso gerando uma característica para o índice de massa corporal:"
      ]
    },
    {
      "cell_type": "code",
      "metadata": {
        "id": "jl-pEqdCRmrZ",
        "colab_type": "code",
        "colab": {}
      },
      "source": [
        "peso_altura[\"IMC\"] = peso_altura[\"Peso\"] / (peso_altura[\"Altura\"] * peso_altura[\"Altura\"])"
      ],
      "execution_count": 0,
      "outputs": []
    },
    {
      "cell_type": "code",
      "metadata": {
        "id": "YwmfFEJgRzKf",
        "colab_type": "code",
        "colab": {}
      },
      "source": [
        "sns.regplot(x=\"Peso\", y=\"IMC\", data=peso_altura)\n",
        "plt.show()"
      ],
      "execution_count": 0,
      "outputs": []
    },
    {
      "cell_type": "code",
      "metadata": {
        "id": "YjZbtUz7dA3o",
        "colab_type": "code",
        "colab": {}
      },
      "source": [
        "peso_altura[[\"Peso\",\"IMC\"]].cov()"
      ],
      "execution_count": 0,
      "outputs": []
    },
    {
      "cell_type": "code",
      "metadata": {
        "id": "iABUQK6LdCDx",
        "colab_type": "code",
        "colab": {}
      },
      "source": [
        "peso_altura[[\"Peso\",\"IMC\"]].corr()"
      ],
      "execution_count": 0,
      "outputs": []
    },
    {
      "cell_type": "markdown",
      "metadata": {
        "id": "GkKv449wBuUG",
        "colab_type": "text"
      },
      "source": [
        "Note que, apesar de uma covariância baixa, os dados acima apresentam uma alta correlação. Este exemplo reflete bem a diferença entre a covariância e a correlação, uma vez que a covariância foca na inclinação da reta de tendência, enquanto a correlação foca na aderência dos dados a esta reta. Por medir a aderência dos dados à reta de tendência, a correlação de Pearson é descrita como linear. \n",
        "\n",
        "Em contrapartida, a correlação de Spearman permite avaliar a aderência dos dados a tendências lineares ou não. No exemplo abaixo, vemos que adotar uma medida de tendência não-linear (parâmetro `order=2` do método `regplot`) leva a uma maior aderência dos dados, o que é refletido pela correlação de Spearman:"
      ]
    },
    {
      "cell_type": "code",
      "metadata": {
        "id": "zcAisUv9dKHR",
        "colab_type": "code",
        "colab": {}
      },
      "source": [
        "peso_maior_que_65[[\"Altura\",\"Peso\"]].corr(method=\"spearman\")"
      ],
      "execution_count": 0,
      "outputs": []
    },
    {
      "cell_type": "code",
      "metadata": {
        "id": "pZ8exbGGY8nk",
        "colab_type": "code",
        "colab": {}
      },
      "source": [
        "sns.regplot(x=peso_maior_que_65[\"Altura\"], y=peso_maior_que_65[\"Peso\"], order=2)\n",
        "plt.show()"
      ],
      "execution_count": 0,
      "outputs": []
    },
    {
      "cell_type": "markdown",
      "metadata": {
        "id": "4a-CglkZYYN0",
        "colab_type": "text"
      },
      "source": [
        "### Entre múltiplos pares de características"
      ]
    },
    {
      "cell_type": "markdown",
      "metadata": {
        "id": "EN2hy9e7YcHv",
        "colab_type": "text"
      },
      "source": [
        "Quando trabalhamos com múltiplos pares de características, primeiro calculamos analiticamente a correlação entre cada par, para em seguida utilizarmos visualizações gráficas. Como visto acima, o método `corr` presente em objetos `DataFrame` permite o cálculo entre todos os pares de características existentes em um dataframe:"
      ]
    },
    {
      "cell_type": "code",
      "metadata": {
        "id": "Do9LaVlpahJZ",
        "colab_type": "code",
        "colab": {}
      },
      "source": [
        "peso_altura.corr()"
      ],
      "execution_count": 0,
      "outputs": []
    },
    {
      "cell_type": "markdown",
      "metadata": {
        "id": "MYatXfRsaDgP",
        "colab_type": "text"
      },
      "source": [
        "Para melhorar a visualização dos dados, podemos gerar um **mapa de calor** a partir da matriz de correlações. Neste tipo de gráfico, as cores têm um papel fundamental no entendimento dos dados. Normalmente, cores mais frias (próximas a branco) representam correlações positivas, enquanto cores mais quentes (próximas a preto) nos apontam correlações negativas:"
      ]
    },
    {
      "cell_type": "code",
      "metadata": {
        "id": "y82BTsiqaA7p",
        "colab_type": "code",
        "colab": {}
      },
      "source": [
        "sns.heatmap(peso_altura.corr())\n",
        "plt.show()"
      ],
      "execution_count": 0,
      "outputs": []
    },
    {
      "cell_type": "markdown",
      "metadata": {
        "id": "gpm1L_KsfEq2",
        "colab_type": "text"
      },
      "source": [
        "Podemos customizar o método `heatmap` de diferentes formas, trocando por exemplo a legenda lateral por anotações dentro de cada célula do mapa:"
      ]
    },
    {
      "cell_type": "code",
      "metadata": {
        "id": "j95mUdKNfAUg",
        "colab_type": "code",
        "colab": {}
      },
      "source": [
        "sns.heatmap(peso_altura.corr(), annot=True, cbar=False)\n",
        "plt.show()"
      ],
      "execution_count": 0,
      "outputs": []
    },
    {
      "cell_type": "markdown",
      "metadata": {
        "id": "Xd9eoL_Eb5dD",
        "colab_type": "text"
      },
      "source": [
        "## Causalidade e condicionalidade\n",
        "\n",
        "É importante salientar que uma alta correlação entre duas características **não implica de forma alguma** que uma característica é causada pela outra. De fato, é bastante difícil investigar causalidade apenas a partir da análise de um par de características.\n",
        "\n",
        "> Esse site mostra fortes correlações entre características, mas que possivelmente não apresentam causalidade entre si https://www.tylervigen.com/spurious-correlations\n",
        "\n",
        "Uma situação particular é o caso de características condicionais. Neste caso, o dataset disponível só apresenta dados para uma determinada característica quando o dado para uma outra característica satisfaz a determinada condição. \n",
        "\n",
        "Vamos analisar essa situação em um dataset sobre preços de casas do Kaggle. Para baixá-lo, siga primeiro [a etapa 1 deste tutorial](https://medium.com/@yvettewu.dw/tutorial-kaggle-api-google-colaboratory-1a054a382de0), que ensina a baixar as credenciais de acesso do Kaggle (`kaggle.json`). Uma vez que você tenha baixado suas credenciais, use o menu ao lado para fazer upload do arquivo para o Colab, e execute as três células abaixo:"
      ]
    },
    {
      "cell_type": "code",
      "metadata": {
        "id": "oElqzLZ0kINv",
        "colab_type": "code",
        "colab": {}
      },
      "source": [
        "!mkdir /root/.kaggle\n",
        "!cp /content/kaggle.json /root/.kaggle/kaggle.json\n",
        "!chmod 600 /root/.kaggle/kaggle.json"
      ],
      "execution_count": 0,
      "outputs": []
    },
    {
      "cell_type": "code",
      "metadata": {
        "id": "xWfqb2_RjEmt",
        "colab_type": "code",
        "colab": {}
      },
      "source": [
        "!kaggle datasets download -d prevek18/ames-housing-dataset"
      ],
      "execution_count": 0,
      "outputs": []
    },
    {
      "cell_type": "code",
      "metadata": {
        "id": "kes7xzxXlAjs",
        "colab_type": "code",
        "colab": {}
      },
      "source": [
        "ames_housing = pd.read_csv(\"ames-housing-dataset.zip\")\n",
        "ames_housing.head()"
      ],
      "execution_count": 0,
      "outputs": []
    },
    {
      "cell_type": "markdown",
      "metadata": {
        "id": "Jt6EnPtxmhhb",
        "colab_type": "text"
      },
      "source": [
        "> Caso alguma das células acima não funcione, entre em contato com os mantenedores do pandas-zero ;)\n",
        "\n",
        "Este dataset contém a descrição de várias propriedades, apresentando 82 características sobre cada propriedade. No entanto, quando um conjunto de dados apresenta um número alto de características, é comum que parte dessas características sejam informações adicionais em relação a outra característica.\n",
        "\n",
        "No caso deste dataset, vamos filtrar apenas as características relacionadas ao termo `\"Garage\"`:"
      ]
    },
    {
      "cell_type": "code",
      "metadata": {
        "id": "24Oy5EfOnLE9",
        "colab_type": "code",
        "colab": {}
      },
      "source": [
        "ames_garage = ames_housing.filter(like=\"Garage\")\n",
        "ames_garage.head()"
      ],
      "execution_count": 0,
      "outputs": []
    },
    {
      "cell_type": "markdown",
      "metadata": {
        "id": "B3GxweNInUPZ",
        "colab_type": "text"
      },
      "source": [
        "Note que a primeira característica define o tipo de garagem. Esta característica apresenta os seguintes valores:"
      ]
    },
    {
      "cell_type": "code",
      "metadata": {
        "id": "ksIjnYa2nbUl",
        "colab_type": "code",
        "colab": {}
      },
      "source": [
        "ames_garage[\"Garage Type\"].value_counts(dropna=False)"
      ],
      "execution_count": 0,
      "outputs": []
    },
    {
      "cell_type": "markdown",
      "metadata": {
        "id": "Zh2QUH15nrRe",
        "colab_type": "text"
      },
      "source": [
        "Um dos valores possíveis para esta característica é a falta deste dado (`NaN`, que identificamos passando o argumento `dropna=False` para o método `value_counts`). Quando este dado está em falta, as demais características deixam de fazer sentido:"
      ]
    },
    {
      "cell_type": "code",
      "metadata": {
        "id": "5PXj4aqmnqfF",
        "colab_type": "code",
        "colab": {}
      },
      "source": [
        "ames_garage[ames_garage[\"Garage Type\"].isna()]"
      ],
      "execution_count": 0,
      "outputs": []
    },
    {
      "cell_type": "markdown",
      "metadata": {
        "id": "KPtJmcySoPSv",
        "colab_type": "text"
      },
      "source": [
        "A forma como procedemos neste tipo de situação depende do contexto. Neste caso, como temos características nominais dependendo desta característica e um baixo número de casos onde a característica original está ausente, a melhor alternativa é remover estas observações:"
      ]
    },
    {
      "cell_type": "code",
      "metadata": {
        "id": "ppffszIfohUi",
        "colab_type": "code",
        "colab": {}
      },
      "source": [
        "ames_housing = ames_housing[~ames_housing[\"Garage Type\"].isna()]\n",
        "ames_housing[\"Garage Type\"].value_counts(dropna=False)"
      ],
      "execution_count": 0,
      "outputs": []
    },
    {
      "cell_type": "markdown",
      "metadata": {
        "id": "HUpVbbCdZEMe",
        "colab_type": "text"
      },
      "source": [
        "## Um exemplo simples de seleção de características"
      ]
    },
    {
      "cell_type": "markdown",
      "metadata": {
        "id": "giHuTcRotepi",
        "colab_type": "text"
      },
      "source": [
        "A principal vantagem de analisar as relações entre as características presentes em seu conjunto de dados é a possibilidade de selecionar um subconjunto de características que consegue representar a maior parte da informação contida no conjunto original. Pra entende o quanto isso é necessário, vamos tomar como exemplo o dataset de casas acima. Começamos por um mapa de calor, para tentar avaliar se temos características redundantes:"
      ]
    },
    {
      "cell_type": "code",
      "metadata": {
        "id": "SKCFf2XTH3wG",
        "colab_type": "code",
        "colab": {}
      },
      "source": [
        "sns.heatmap(ames_housing.corr())\n",
        "plt.show()"
      ],
      "execution_count": 0,
      "outputs": []
    },
    {
      "cell_type": "markdown",
      "metadata": {
        "id": "Wl8MfIKvLf1d",
        "colab_type": "text"
      },
      "source": [
        "Note que é bastante difícil discutir algo em relação a um mapa tão grande. Uma ferramenta útil neste tipo de situação é o método `clustermap` da biblioteca `seaborn`, que agrupa os padrões observados no mapa acima."
      ]
    },
    {
      "cell_type": "code",
      "metadata": {
        "id": "BM3Pey8rMlgl",
        "colab_type": "code",
        "colab": {}
      },
      "source": [
        "sns.clustermap(ames_housing.corr())\n",
        "plt.show()"
      ],
      "execution_count": 0,
      "outputs": []
    },
    {
      "cell_type": "markdown",
      "metadata": {
        "id": "YXe7DapxMtVx",
        "colab_type": "text"
      },
      "source": [
        "> Note que a visualização acima inclui um dendograma, que você pode pesquisar se quiser entender melhor o conceito de **análise de agrupamentos**.\n",
        "\n",
        "Agora a visualização ficou bem mais interpretável que nossa primeira tentativa, mas ainda é possível melhorá-la um pouco mais. Usando os parâmetros do método `clustermap`, vamos aumentar o tamanho do gráfico para que os nomes de todas as características caibam na legenda (`figsize=(20,20)`) e trocar a legenda de cores pela anotação de valores (`annot=True, fmt='.1g', cbar_pos=None`):"
      ]
    },
    {
      "cell_type": "code",
      "metadata": {
        "id": "2kFxJzQQIous",
        "colab_type": "code",
        "colab": {}
      },
      "source": [
        "sns.clustermap(ames_housing.corr(), figsize=(20,20), annot=True, fmt='.1g', cbar_pos=None)\n",
        "plt.show()"
      ],
      "execution_count": 0,
      "outputs": []
    },
    {
      "cell_type": "markdown",
      "metadata": {
        "id": "TG656bYENW2H",
        "colab_type": "text"
      },
      "source": [
        "Para nossa análise, vemos que há dois grandes grupos de características. O primeiro grupo, praticamente se correlaciona com característica alguma do dataset. Por sua vez, o segundo grupo se correlaciona fortemente com as características do próprio segundo grupo. \n",
        "\n",
        "A forma como podemos proceder a partir destas informações depende do nosso objetivo. Se nosso objetivo for prever os valores da característica `\"SalePrice\"` a partir das demais características, podemos investigar inicialmente as características mais correlacionadas a ela. Neste caso, temos `\"Overall Qual\"` e `\"Gr Liv Area\"`, respectivamente a qualidade do imóvel e sua área habitável."
      ]
    },
    {
      "cell_type": "code",
      "metadata": {
        "id": "Dw5Tkdo8ZjTe",
        "colab_type": "code",
        "colab": {}
      },
      "source": [
        "sns.regplot(x=\"Overall Qual\", y=\"SalePrice\", data=ames_housing)\n",
        "plt.show()"
      ],
      "execution_count": 0,
      "outputs": []
    },
    {
      "cell_type": "code",
      "metadata": {
        "id": "fjmOqfrchxtI",
        "colab_type": "code",
        "colab": {}
      },
      "source": [
        "sns.regplot(x=\"Gr Liv Area\", y=\"SalePrice\", data=ames_housing)\n",
        "plt.show()"
      ],
      "execution_count": 0,
      "outputs": []
    },
    {
      "cell_type": "markdown",
      "metadata": {
        "id": "9f12Z6DwjlvA",
        "colab_type": "text"
      },
      "source": [
        "Por sua vez, estas duas características têm forte correlação entre si:"
      ]
    },
    {
      "cell_type": "code",
      "metadata": {
        "id": "YFjJDaejlCFd",
        "colab_type": "code",
        "colab": {}
      },
      "source": [
        "sns.regplot(x=\"Overall Qual\", y=\"Gr Liv Area\", data=ames_housing)\n",
        "plt.show()"
      ],
      "execution_count": 0,
      "outputs": []
    },
    {
      "cell_type": "markdown",
      "metadata": {
        "id": "tZHbIftolBbg",
        "colab_type": "text"
      },
      "source": [
        "Assim, se quiséssemos trabalhar apenas com um conjunto reduzido de características, seria possível escolher apenas uma dentre as duas para manter em nosso conjunto de dados. \n",
        "\n",
        "> Na prática da análise de dados, há métodos robustos de **seleção de características** que você também pode pesquisar. Além da correlação, eles podem se basear em modelos estatísticos e de aprendizado de máquina uni e multi-variados 😉"
      ]
    }
  ]
}