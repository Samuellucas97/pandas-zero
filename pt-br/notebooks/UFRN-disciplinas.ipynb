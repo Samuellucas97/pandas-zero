{
  "nbformat": 4,
  "nbformat_minor": 0,
  "metadata": {
    "colab": {
      "name": "UFRN-disciplinas",
      "provenance": [],
      "collapsed_sections": [
        "uVW1T7J8Er0-"
      ]
    },
    "kernelspec": {
      "name": "python3",
      "display_name": "Python 3"
    }
  },
  "cells": [
    {
      "cell_type": "markdown",
      "metadata": {
        "id": "rgQSOO_sOb3v",
        "colab_type": "text"
      },
      "source": [
        "# Cruzando múltiplas bases"
      ]
    },
    {
      "cell_type": "markdown",
      "metadata": {
        "id": "K_6EjSzhFhG1",
        "colab_type": "text"
      },
      "source": [
        "\n",
        "Uma outra situação bastante comum é que as características de uma determinada observação estejam espalhadas em múltiplas bases.\n",
        "\n",
        "Esse é o padrão adotado em bancos de dados relacionais, por exemplo, onde uma mesma observação pode ter suas características espalhadas em diferentes bases.\n",
        "\n",
        "Para **cruzar** esses dados, precisamos de operações que unam as bases a partir de identificadores em comum.\n",
        "\n",
        "No exemplo a seguir, vamos analisar o cancelamento do semestre por parte dos alunos da UFRN."
      ]
    },
    {
      "cell_type": "markdown",
      "metadata": {
        "id": "MEPK_OJiVX2D",
        "colab_type": "text"
      },
      "source": [
        "## Entendendo os dados"
      ]
    },
    {
      "cell_type": "markdown",
      "metadata": {
        "id": "E6AwPBYpVZ4i",
        "colab_type": "text"
      },
      "source": [
        "Neste exemplo, vamos lidar com três bases de dados:\n",
        "- **componentes**, que representam disciplinas existentes em estruturas curriculares de cursos da UFRN;\n",
        "- **turmas**, que representam ofertas dessas disciplinas em determinados períodos;\n",
        "- **matrículas**, que listam os discentes matriculados nessas turmas.\n",
        "\n",
        "Vamos começar conhecendo a base de componentes:"
      ]
    },
    {
      "cell_type": "code",
      "metadata": {
        "id": "XA7cqvfw_bIX",
        "colab_type": "code",
        "colab": {}
      },
      "source": [
        "import pandas as pd"
      ],
      "execution_count": 0,
      "outputs": []
    },
    {
      "cell_type": "code",
      "metadata": {
        "colab_type": "code",
        "id": "5CCb4uRs-fBZ",
        "colab": {}
      },
      "source": [
        "componentes = pd.read_csv(\n",
        "                        \"http://dados.ufrn.br/dataset/3fea67e8-6916-4ed0-aaa6-9a8ca06a9bdc/resource/9a3521d2-4bc5-4fda-93f0-f701c8a20727/download/componentes-curriculares-presenciais.csv\", \n",
        "                        sep=\";\"\n",
        "                        )\n",
        "componentes"
      ],
      "execution_count": 0,
      "outputs": []
    },
    {
      "cell_type": "markdown",
      "metadata": {
        "id": "esPYKxIYWpDS",
        "colab_type": "text"
      },
      "source": [
        "Nesta base, as informações que podem nos ser úteis são o identificador do componente, seu nome e sua unidade responsável."
      ]
    },
    {
      "cell_type": "code",
      "metadata": {
        "id": "FWOnJXzZX99H",
        "colab_type": "code",
        "colab": {}
      },
      "source": [
        "componentes_reduzido = componentes[[\"id_componente\",\"nome\",\"unidade_responsavel\"]]\n",
        "componentes_reduzido"
      ],
      "execution_count": 0,
      "outputs": []
    },
    {
      "cell_type": "markdown",
      "metadata": {
        "id": "fUneND3iaBu6",
        "colab_type": "text"
      },
      "source": [
        "Antes de prosseguirmos, vamos nos assegurar que não haja dados faltando:"
      ]
    },
    {
      "cell_type": "code",
      "metadata": {
        "id": "UNWhfgs4Z7V0",
        "colab_type": "code",
        "colab": {}
      },
      "source": [
        "componentes_reduzido.isnull().sum()"
      ],
      "execution_count": 0,
      "outputs": []
    },
    {
      "cell_type": "markdown",
      "metadata": {
        "id": "tLDE0e-jaVB1",
        "colab_type": "text"
      },
      "source": [
        "Como há apenas um dado faltando, podemos ver se há uma indicação de como preencher esse dado:"
      ]
    },
    {
      "cell_type": "code",
      "metadata": {
        "id": "KJKpJaSAaN5U",
        "colab_type": "code",
        "colab": {}
      },
      "source": [
        "componentes_reduzido[componentes_reduzido[\"nome\"].isnull()]"
      ],
      "execution_count": 0,
      "outputs": []
    },
    {
      "cell_type": "markdown",
      "metadata": {
        "id": "rCJSQWCgYd38",
        "colab_type": "text"
      },
      "source": [
        "Uma opção aqui seria entrar em contato com a Superintendência de Informática da UFRN, curadora da base de dados.\n",
        "\n",
        "No entanto, para esta análise vamos excluir essa observação:"
      ]
    },
    {
      "cell_type": "code",
      "metadata": {
        "id": "Qz7eJ4QXa0EG",
        "colab_type": "code",
        "colab": {}
      },
      "source": [
        "componentes_reduzido = componentes_reduzido[~componentes_reduzido[\"nome\"].isnull()]"
      ],
      "execution_count": 0,
      "outputs": []
    },
    {
      "cell_type": "markdown",
      "metadata": {
        "id": "co01atkhZH4v",
        "colab_type": "text"
      },
      "source": [
        "Vamos agora conferir as bases de turmas, que são disponibilizadas por período:"
      ]
    },
    {
      "cell_type": "code",
      "metadata": {
        "id": "NLMcZp1gSHoj",
        "colab_type": "code",
        "colab": {}
      },
      "source": [
        "csv_turmas = {\n",
        "    \"2018.2\": \"http://dados.ufrn.br/dataset/1938623d-fb07-41a4-a55a-1691f7c3b8b5/resource/77fe7603-0e71-4e21-8cd4-cb823353023f/download/turmas-2018.2.csv\",\n",
        "    \"2018.1\": \"http://dados.ufrn.br/dataset/1938623d-fb07-41a4-a55a-1691f7c3b8b5/resource/3ae16138-4214-4a30-ac2d-6cffd6237031/download/turmas-2018.1.csv\",\n",
        "    \"2017.2\": \"http://dados.ufrn.br/dataset/1938623d-fb07-41a4-a55a-1691f7c3b8b5/resource/01fe7343-fdf0-4a67-b915-2386b7c2fecb/download/turmas-2017.2.csv\",\n",
        "    \"2017.1\": \"http://dados.ufrn.br/dataset/1938623d-fb07-41a4-a55a-1691f7c3b8b5/resource/5e77d066-d506-45eb-a21e-76aa79616fef/download/turmas-2017.1.csv\",\n",
        "    \"2016.2\": \"http://dados.ufrn.br/dataset/1938623d-fb07-41a4-a55a-1691f7c3b8b5/resource/5e8e3228-7f22-40a2-9efd-561c44844567/download/turmas-2016.2.csv\",\n",
        "    \"2016.1\": \"http://dados.ufrn.br/dataset/1938623d-fb07-41a4-a55a-1691f7c3b8b5/resource/322d9977-ba15-47f1-8216-75a1ca78e197/download/turmas-2016.1.csv\",\n",
        "    \"2015.2\": \"http://dados.ufrn.br/dataset/1938623d-fb07-41a4-a55a-1691f7c3b8b5/resource/7c59621c-4a8b-49d4-b319-83cfea9bdf28/download/turmas-2015.2.csv\",\n",
        "    \"2015.1\": \"http://dados.ufrn.br/dataset/1938623d-fb07-41a4-a55a-1691f7c3b8b5/resource/4d5aee5a-00b0-4ed6-a4be-59fa77a56797/download/turmas-2015.1.csv\",\n",
        "    \"2014.2\": \"http://dados.ufrn.br/dataset/1938623d-fb07-41a4-a55a-1691f7c3b8b5/resource/2c69547b-920f-4ec2-92c0-3fbc19512165/download/turmas-2014.2.csv\",\n",
        "    \"2014.1\": \"http://dados.ufrn.br/dataset/1938623d-fb07-41a4-a55a-1691f7c3b8b5/resource/e6e4144f-4042-4fdc-84e0-76e9ec27ae7c/download/turmas-2014.1.csv\",\n",
        "}"
      ],
      "execution_count": 0,
      "outputs": []
    },
    {
      "cell_type": "code",
      "metadata": {
        "id": "wzNsghh9RWUr",
        "colab_type": "code",
        "colab": {}
      },
      "source": [
        "dados_turmas = pd.concat(pd.read_csv(csv_turmas[url], sep=\";\") for url in csv_turmas)\n",
        "dados_turmas"
      ],
      "execution_count": 0,
      "outputs": []
    },
    {
      "cell_type": "markdown",
      "metadata": {
        "id": "8vAcnCxUbOGz",
        "colab_type": "text"
      },
      "source": [
        "Estranhamente, as primeiras observações revelam que há múltiplas observações com o mesmo identificador de turma.\n",
        "\n",
        "Isso não é comum em bancos de dados relacionais, uma vez que cada base costuma ter um identificador único por observação.\n",
        "\n",
        "Quando isto acontece, temos a indicação de que a identificação de uma observação depende de múltiplas características.\n",
        "\n",
        "Vamos isolar um caso assim para ver a diferença entre as observações:"
      ]
    },
    {
      "cell_type": "code",
      "metadata": {
        "id": "Y8Elvc7jcC5v",
        "colab_type": "code",
        "colab": {}
      },
      "source": [
        "dados_turmas.query('id_turma == 57612672')"
      ],
      "execution_count": 0,
      "outputs": []
    },
    {
      "cell_type": "markdown",
      "metadata": {
        "id": "Rywh8VX7ckWf",
        "colab_type": "text"
      },
      "source": [
        "Nota-se que a diferença entre as observações está nos campos `siape`, `matricula_docente_externo` e `ch_dedicada_periodo`.\n",
        "\n",
        "Pesquisando o contexto da UFRN, isso indica que a mesma turma é registrada tantas vezes quantos forem os professores que a estejam lecionando.\n",
        "\n",
        "Para nossa análise, isto não é interessante, então vamos simplificar esta base removendo as entradas duplicadas com o método `drop_duplicates()`, aplicado após ordenarmos os dados pela coluna `id_turma`:"
      ]
    },
    {
      "cell_type": "code",
      "metadata": {
        "id": "AYQCiycwU-ql",
        "colab_type": "code",
        "colab": {}
      },
      "source": [
        "dados_turmas = dados_turmas.sort_values(\"id_turma\").drop_duplicates(subset=\"id_turma\")\n",
        "dados_turmas"
      ],
      "execution_count": 0,
      "outputs": []
    },
    {
      "cell_type": "markdown",
      "metadata": {
        "id": "hwtFi7BzjNLt",
        "colab_type": "text"
      },
      "source": [
        "Vamos dar uma olhada em valores faltando:"
      ]
    },
    {
      "cell_type": "code",
      "metadata": {
        "id": "vbo2gx7ojKWU",
        "colab_type": "code",
        "colab": {}
      },
      "source": [
        "dados_turmas.isnull().sum()"
      ],
      "execution_count": 0,
      "outputs": []
    },
    {
      "cell_type": "markdown",
      "metadata": {
        "id": "UQTgva8ajUxP",
        "colab_type": "text"
      },
      "source": [
        "😅\n",
        "\n",
        "Com tantos valores faltando, nossa melhor alternativa é remover as características que estejam incompletas.\n",
        "\n",
        "Fazemos isso usando o método `drop_na()`, informando que queremos remover colunas (`axis=1`):"
      ]
    },
    {
      "cell_type": "code",
      "metadata": {
        "id": "6PfvrJjehNRL",
        "colab_type": "code",
        "colab": {}
      },
      "source": [
        "dados_turmas = dados_turmas.dropna(axis=1)\n",
        "dados_turmas"
      ],
      "execution_count": 0,
      "outputs": []
    },
    {
      "cell_type": "markdown",
      "metadata": {
        "id": "HmdtPzl6Vw3M",
        "colab_type": "text"
      },
      "source": [
        "## Cruzando dados de disciplinas e turmas\n",
        "\n"
      ]
    },
    {
      "cell_type": "markdown",
      "metadata": {
        "id": "aeiC_n1Ia0o4",
        "colab_type": "text"
      },
      "source": [
        "Até aqui, temos uma grande quantidade de dados à nossa disposição, com 38.276 disciplinas e 91.483 turmas. \n",
        "\n",
        "Fazendo um recorte da nossa análise, vamos começar por  disciplinas obrigatórias do Bacharelado em Tecnologia da Informação (BTI):"
      ]
    },
    {
      "cell_type": "code",
      "metadata": {
        "id": "yQW1I_jtQSXf",
        "colab_type": "code",
        "colab": {}
      },
      "source": [
        "lista_obrigatórias = [\n",
        "                      \"ANÁLISE COMBINATÓRIA\",\n",
        "                      \"CÁLCULO DIFERENCIAL E INTEGRAL I\",\n",
        "                      \"ESTRUTURA DE DADOS BÁSICAS I\",\n",
        "                      \"ESTRUTURAS DE DADOS BÁSICAS II\",\n",
        "                      \"FUNDAMENTOS MATEMÁTICOS DA COMPUTAÇÃO I\",\n",
        "                      \"FUNDAMENTOS MATEMÁTICOS DA COMPUTAÇÃO II\",\n",
        "                      \"GEOMETRIA EUCLIDIANA\",\n",
        "                      \"INTRODUÇÃO ÀS TÉCNICAS DE PROGRAMAÇÃO\",\n",
        "                      \"LINGUAGEM DE PROGRAMAÇÃO I\",\n",
        "                      \"LINGUAGEM DE PROGRAMAÇÃO II\",\n",
        "                      \"MATEMÁTICA ELEMENTAR\",\n",
        "                      \"PENSAMENTO COMPUTACIONAL\",\n",
        "                      \"PRÁTICAS DE LEITURA EM INGLÊS\",\n",
        "                      \"PRÁTICAS DE LEITURA E ESCRITA EM PORTUGUÊS I\",\n",
        "                      \"PRÁTICAS DE LEITURA E ESCRITA EM PORTUGUÊS II\",\n",
        "                      \"PROBABILIDADE\",\n",
        "                      \"TECNOLOGIA DA INFORMAÇÃO E SOCIEDADE\",\n",
        "                      \"VETORES E GEOMETRIA ANALÍTICA\",\n",
        "                      ]\n",
        "\n",
        "unidades_acadêmicas = [\"INSTITUTO METROPOLE DIGITAL\", \"DEPARTAMENTO DE INFORMÁTICA E MATEMÁTICA APLICADA\"]\n",
        "condição_nome = f\"nome in {lista_obrigatórias}\"\n",
        "condição_unidade = f\"unidade_responsavel in {unidades_acadêmicas}\"\n",
        "componentes_bti_obrigatórios = componentes_reduzido.query(f\"{condição_nome} and {condição_unidade}\")\n",
        "componentes_bti_obrigatórios"
      ],
      "execution_count": 0,
      "outputs": []
    },
    {
      "cell_type": "markdown",
      "metadata": {
        "id": "uWOMFzTad6xo",
        "colab_type": "text"
      },
      "source": [
        "Para unir os dados de turmas e componentes, vamos usar o método `merge()`, que recebe dois dataframes e a indicação dos identificadores que devem ser usados para o cruzamento: "
      ]
    },
    {
      "cell_type": "code",
      "metadata": {
        "id": "TmpjRVd5VD1f",
        "colab_type": "code",
        "colab": {}
      },
      "source": [
        "turmas_obrigatórias = pd.merge(componentes_bti_obrigatórios, dados_turmas, left_on=\"id_componente\", right_on=\"id_componente_curricular\")\n",
        "turmas_obrigatórias"
      ],
      "execution_count": 0,
      "outputs": []
    },
    {
      "cell_type": "markdown",
      "metadata": {
        "id": "QDpayNbGes_p",
        "colab_type": "text"
      },
      "source": [
        "Revendo este código:\n",
        "- `núcleo_comum` é considerado o dataframe à esquerda da união e seu identificador é informado usando o argumento `left_on=\"id_componente\"`\n",
        "- `data_turmas` é considerado o dataframe à direita da união e seu identificador é informado usando o argumento `right_on=\"id_componente_curricular\"`\n",
        "\n",
        "Note que agora temos um dataframe consideravelmente menor, com apenas 341 observações.\n",
        "\n",
        "Isto acontece porque o método `merge()` adota como padrão a **união interna**, que preserva apenas as observações onde os identificadores dos dataframes originais são iguais. "
      ]
    },
    {
      "cell_type": "markdown",
      "metadata": {
        "id": "l5E0ntX8VhgO",
        "colab_type": "text"
      },
      "source": [
        "## Cruzando dados de turmas e de matrículas"
      ]
    },
    {
      "cell_type": "markdown",
      "metadata": {
        "id": "3VMCQzfngDWp",
        "colab_type": "text"
      },
      "source": [
        "O último dado que precisamos coletar é o de matrículas de discentes em turmas.\n",
        "\n",
        "Apesar do dado para o primeiro período de 2019 estar disponível, vamos coletar apenas os dados até 2018 já que não há dados de turmas ainda para 2019.\n",
        "\n",
        "**Observação:** a execução da coleta a seguir pode demorar um pouco."
      ]
    },
    {
      "cell_type": "code",
      "metadata": {
        "id": "v8XonvdPGQiP",
        "colab_type": "code",
        "colab": {}
      },
      "source": [
        "csv_matrículas = {\n",
        "    \"2018.2\": \"http://dados.ufrn.br/dataset/c8650d55-3c5a-4787-a126-d28a4ef902a6/resource/0bfcaf6a-4424-4983-8ba8-d330350a8fbe/download/matricula-componente-20182.csv\",\n",
        "    \"2018.1\": \"http://dados.ufrn.br/dataset/c8650d55-3c5a-4787-a126-d28a4ef902a6/resource/3c1feba4-ced1-466e-8e94-a040224a51dc/download/matricula-componente-20181.csv\",\n",
        "    \"2017.2\": \"http://dados.ufrn.br/dataset/c8650d55-3c5a-4787-a126-d28a4ef902a6/resource/55dfe713-ff7c-4fa8-8d1d-d4294a025bff/download/matricula-componente-20172.csv\",\n",
        "    \"2017.1\": \"http://dados.ufrn.br/dataset/c8650d55-3c5a-4787-a126-d28a4ef902a6/resource/79071c21-e32c-438f-b930-d1b6ccc02ec2/download/matricula-componente-20171.csv\",\n",
        "    \"2016.2\": \"http://dados.ufrn.br/dataset/c8650d55-3c5a-4787-a126-d28a4ef902a6/resource/f6179838-b619-4d7d-af9c-18c438b80dd4/download/matriculas-de-2016.2.csv\",\n",
        "    \"2016.1\": \"http://dados.ufrn.br/dataset/c8650d55-3c5a-4787-a126-d28a4ef902a6/resource/4778d3ce-8898-46a8-a623-ee6a480a2980/download/matriculas-de-2016.1.csv\",\n",
        "    \"2015.2\": \"http://dados.ufrn.br/dataset/c8650d55-3c5a-4787-a126-d28a4ef902a6/resource/baa6c8b4-2072-417f-b238-c028ccc8c14b/download/matriculas-de-2015.2.csv\",\n",
        "    \"2015.1\": \"http://dados.ufrn.br/dataset/c8650d55-3c5a-4787-a126-d28a4ef902a6/resource/9e7ba1c2-f92d-4b9c-9e91-3b026ecdf913/download/matriculas-de-2015.1.csv\",\n",
        "    \"2014.2\": \"http://dados.ufrn.br/dataset/c8650d55-3c5a-4787-a126-d28a4ef902a6/resource/e974792c-b557-470c-bf3d-ede7d5b5e6a6/download/matricula-componente-20142.csv\",\n",
        "    \"2014.1\": \"http://dados.ufrn.br/dataset/c8650d55-3c5a-4787-a126-d28a4ef902a6/resource/7081446d-39f9-4374-ad0b-86ecab97e569/download/matricula-componente-20141.csv\",\n",
        "}"
      ],
      "execution_count": 0,
      "outputs": []
    },
    {
      "cell_type": "code",
      "metadata": {
        "id": "iSrPsR96Hc4G",
        "colab_type": "code",
        "colab": {}
      },
      "source": [
        "dados_matrículas = pd.concat(pd.read_csv(csv_matrículas[url], sep=\";\") for url in csv_matrículas)\n",
        "dados_matrículas"
      ],
      "execution_count": 0,
      "outputs": []
    },
    {
      "cell_type": "markdown",
      "metadata": {
        "id": "dnwwnjRrl8my",
        "colab_type": "text"
      },
      "source": [
        "6.943.310 observações! 😱\n",
        "\n",
        "Vamos repetir os procedimentos que fizemos anteriormente, começando pela limpeza de dados faltando"
      ]
    },
    {
      "cell_type": "code",
      "metadata": {
        "id": "jm-miz8GmJ8n",
        "colab_type": "code",
        "colab": {}
      },
      "source": [
        "dados_matrículas.isnull().sum()"
      ],
      "execution_count": 0,
      "outputs": []
    },
    {
      "cell_type": "code",
      "metadata": {
        "id": "EGjrNAoDmUze",
        "colab_type": "code",
        "colab": {}
      },
      "source": [
        "dados_matrículas = dados_matrículas.dropna(axis=1)\n",
        "dados_matrículas"
      ],
      "execution_count": 0,
      "outputs": []
    },
    {
      "cell_type": "markdown",
      "metadata": {
        "id": "SEF8LyiWmyRn",
        "colab_type": "text"
      },
      "source": [
        "Vamos verificar se também há dados repetidos neste dataframe:"
      ]
    },
    {
      "cell_type": "code",
      "metadata": {
        "id": "sRh236HFXr5n",
        "colab_type": "code",
        "colab": {}
      },
      "source": [
        "dados_matrículas.groupby([\"discente\",\"id_turma\",\"descricao\"]).size()"
      ],
      "execution_count": 0,
      "outputs": []
    },
    {
      "cell_type": "markdown",
      "metadata": {
        "id": "2xyBW0z9nNFA",
        "colab_type": "text"
      },
      "source": [
        "Note que um mesmo discente, apesar de aprovado, aparece como três observações para uma única turma.\n",
        "\n",
        "Isto indica que uma observação neste dataset é o registro de desempenho de um discente em apenas uma unidade.\n",
        "\n",
        "Vamos então reduzir este dataframe, eliminando dados repetidos:"
      ]
    },
    {
      "cell_type": "code",
      "metadata": {
        "id": "G-1fb40GYTzd",
        "colab_type": "code",
        "colab": {}
      },
      "source": [
        "dados_matrículas = dados_matrículas.sort_values([\"discente\",\"id_turma\",\"descricao\"]).drop_duplicates(subset=[\"discente\",\"id_turma\",\"descricao\"])\n",
        "dados_matrículas"
      ],
      "execution_count": 0,
      "outputs": []
    },
    {
      "cell_type": "markdown",
      "metadata": {
        "id": "A3t7GckXoKfJ",
        "colab_type": "text"
      },
      "source": [
        "Note que tanto a ordenação como a remoção de dados repetidos foi feita considerando a tupla `\"discente\",\"id_turma\",\"descricao\"`, já que só queremos considerar repetidas observações que representem múltiplas unidades de um mesmo discente em uma mesma turma.\n",
        "\n",
        "Assim, conseguimos reduzir a quantidade de observações neste dataframe para \"apenas\" 2.410.123. \n",
        "\n",
        "Para finalizar, vamos cruzar os dados de matrículas com os dados de turmas, usando como identificador a característica `id_turma`:"
      ]
    },
    {
      "cell_type": "code",
      "metadata": {
        "id": "EsPchGjSSXvB",
        "colab_type": "code",
        "colab": {}
      },
      "source": [
        "matrículas_obrigatórias = pd.merge(dados_matrículas, turmas_obrigatórias, on=\"id_turma\")\n",
        "matrículas_obrigatórias"
      ],
      "execution_count": 0,
      "outputs": []
    },
    {
      "cell_type": "markdown",
      "metadata": {
        "id": "YQrtMS6ypWXw",
        "colab_type": "text"
      },
      "source": [
        "Após a união interna, nosso dataframe contém apenas 23.933 observações, referentes a discentes que cursaram as disciplinas do nosso recorte.\n",
        "\n",
        "Vamos persistir esses dados:"
      ]
    },
    {
      "cell_type": "code",
      "metadata": {
        "id": "Dc5HddlZAVIm",
        "colab_type": "code",
        "colab": {}
      },
      "source": [
        "from google.colab import drive\n",
        "drive.mount('/content/drive')"
      ],
      "execution_count": 0,
      "outputs": []
    },
    {
      "cell_type": "code",
      "metadata": {
        "id": "DXl0Cq87AmVK",
        "colab_type": "code",
        "colab": {}
      },
      "source": [
        "matrículas_obrigatórias.to_csv(\"/content/drive/My Drive/obrigatórias-bti-2014-2018.csv\", index=False)"
      ],
      "execution_count": 0,
      "outputs": []
    },
    {
      "cell_type": "markdown",
      "metadata": {
        "id": "dh4-bni2WC4J",
        "colab_type": "text"
      },
      "source": [
        "## Analisando os resultados dos discentes"
      ]
    },
    {
      "cell_type": "markdown",
      "metadata": {
        "id": "XdmJmKxOowxn",
        "colab_type": "text"
      },
      "source": [
        "Vamos passar a analisar os resultados obtidos pelos discentes nestas disciplinas:"
      ]
    },
    {
      "cell_type": "code",
      "metadata": {
        "id": "EMtWnECCbmoY",
        "colab_type": "code",
        "colab": {}
      },
      "source": [
        "matrículas_obrigatórias.descricao.value_counts()"
      ],
      "execution_count": 0,
      "outputs": []
    },
    {
      "cell_type": "markdown",
      "metadata": {
        "id": "79Za9mlwqnrP",
        "colab_type": "text"
      },
      "source": [
        "Entender todos os possíveis resultados exigiria uma boa documentação do dataset, o que ainda não está disponível.\n",
        "\n",
        "Para efeito desta análise, podemos descartar o caso de indeferimento, já que neste caso o aluno não chegou a cursar a disciplina:"
      ]
    },
    {
      "cell_type": "code",
      "metadata": {
        "id": "fO9rM5n8HJQL",
        "colab_type": "code",
        "colab": {}
      },
      "source": [
        "lista_não_cursou = [\n",
        "                    \"CUMPRIU\",\n",
        "                    \"DESISTENCIA\",\n",
        "                    \"DISPENSADO\",\n",
        "                    \"EXCLUIDA\",\n",
        "                    \"INDEFERIDO\",\n",
        "                    ]\n",
        "condição_tentativa = f\"not descricao in {lista_não_cursou}\"\n",
        "matrículas_obrigatórias = matrículas_obrigatórias.query(condição_tentativa)"
      ],
      "execution_count": 0,
      "outputs": []
    },
    {
      "cell_type": "code",
      "metadata": {
        "id": "hgaRuRcFHW34",
        "colab_type": "code",
        "colab": {}
      },
      "source": [
        "matrículas_obrigatórias.descricao.value_counts()"
      ],
      "execution_count": 0,
      "outputs": []
    },
    {
      "cell_type": "markdown",
      "metadata": {
        "id": "H-xeHoY_0T5b",
        "colab_type": "text"
      },
      "source": [
        "Chama a atenção a quantidade de possibilidades de reprovação prevista no regulamento dos cursos de graduação da UFRN.\n",
        "\n",
        "Para simplificar nossa análise, vamos considerar apenas as possibilidades que tiveram um número razoável de casos:"
      ]
    },
    {
      "cell_type": "code",
      "metadata": {
        "id": "E4R6QwL-zzQ7",
        "colab_type": "code",
        "colab": {}
      },
      "source": [
        "reprovações = [\"REPROVADO POR NOTA\",\"REPROVADO POR NOTA E FALTA\",\"REPROVADO POR FALTAS\"]\n",
        "condição = f\"not descricao in {reprovações}\"\n",
        "matrículas_obrigatórias = matrículas_obrigatórias.query(condição)"
      ],
      "execution_count": 0,
      "outputs": []
    },
    {
      "cell_type": "markdown",
      "metadata": {
        "id": "n_PgE8Hrq9-t",
        "colab_type": "text"
      },
      "source": [
        "Vamos agora discriminar o resultado por disciplina:"
      ]
    },
    {
      "cell_type": "code",
      "metadata": {
        "id": "FFS5kSqxcyW0",
        "colab_type": "code",
        "colab": {}
      },
      "source": [
        "agregado_obrigatórias = matrículas_obrigatórias.groupby([\"nome\",\"descricao\"]).size()\n",
        "agregado_obrigatórias"
      ],
      "execution_count": 0,
      "outputs": []
    },
    {
      "cell_type": "code",
      "metadata": {
        "id": "65CFK5aRYQJQ",
        "colab_type": "code",
        "colab": {}
      },
      "source": [
        "percentual_obrigatórias = pd.crosstab(matrículas_obrigatórias[\"nome\"], matrículas_obrigatórias[\"descricao\"], normalize=\"index\")\n",
        "percentual_obrigatórias"
      ],
      "execution_count": 0,
      "outputs": []
    },
    {
      "cell_type": "markdown",
      "metadata": {
        "id": "8y4FWRt3tPun",
        "colab_type": "text"
      },
      "source": [
        "Como são muitos valores possíveis para analisarmos, vamos usar o `catplot` da biblioteca `seaborn` para nos ajudar.\n",
        "\n",
        "Este método permite gerar um gráfico de barras onde podemos informar os valores no eixo x, as categorias no eixo y e os diferentes grupos (disciplinas) pela cor (`hue`).\n",
        "\n",
        "Para isso, no entanto, precisamos converter nosso dataframe para o formato longo, o que fazemos usando o método `unstack`.\n"
      ]
    },
    {
      "cell_type": "code",
      "metadata": {
        "id": "qaNATx04zN2O",
        "colab_type": "code",
        "colab": {}
      },
      "source": [
        "dados_obrigatórias = percentual_obrigatórias.unstack().reset_index(name=\"percentual\")\n",
        "dados_obrigatórias"
      ],
      "execution_count": 0,
      "outputs": []
    },
    {
      "cell_type": "code",
      "metadata": {
        "id": "OKcM3k4x4Vxx",
        "colab_type": "code",
        "colab": {}
      },
      "source": [
        "dados_obrigatórias.to_csv(\"/content/drive/My Drive/obrigatorias-imd-2014-2018.csv\", index=False)"
      ],
      "execution_count": 0,
      "outputs": []
    },
    {
      "cell_type": "markdown",
      "metadata": {
        "id": "0D6zwSV6y4Pn",
        "colab_type": "text"
      },
      "source": [
        "Para melhorar a legibilidade do gráfico, configuramos também sua proporção e legenda:"
      ]
    },
    {
      "cell_type": "code",
      "metadata": {
        "id": "WGj0GZyxA25Y",
        "colab_type": "code",
        "colab": {}
      },
      "source": [
        "import matplotlib.pyplot as plt\n",
        "import seaborn as sns\n",
        "sns.set()"
      ],
      "execution_count": 0,
      "outputs": []
    },
    {
      "cell_type": "code",
      "metadata": {
        "id": "iZZJ4bOyZGNw",
        "colab_type": "code",
        "colab": {}
      },
      "source": [
        "sns.catplot(x=\"percentual\", y=\"descricao\", hue=\"nome\", kind=\"bar\", data=dados_obrigatórias, legend=True, legend_out=True, height=20, aspect=0.6)\n",
        "plt.xlabel(\"Percentual\")\n",
        "plt.ylabel(\"Resultado\")\n",
        "plt.title(\"Resultado dos alunos por disciplina\")"
      ],
      "execution_count": 0,
      "outputs": []
    },
    {
      "cell_type": "markdown",
      "metadata": {
        "id": "QuoqfjRHuwSr",
        "colab_type": "text"
      },
      "source": [
        "Dada a elevada quantidade de disciplinas, se torna difícil enxergar padrões sem o auxílio de algoritmos apropriados para isso.\n",
        "\n",
        "Por hora, vamos visualizar a quantidade de vezes que cada discente se matriculou em cada disciplina:"
      ]
    },
    {
      "cell_type": "code",
      "metadata": {
        "id": "In8qA2vPS9a0",
        "colab_type": "code",
        "colab": {}
      },
      "source": [
        "tentativas_obrigatórias = matrículas_obrigatórias.groupby([\"nome\",\"discente\"]).size()\n",
        "tentativas_obrigatórias"
      ],
      "execution_count": 0,
      "outputs": []
    },
    {
      "cell_type": "markdown",
      "metadata": {
        "id": "d39TOyKswgpL",
        "colab_type": "text"
      },
      "source": [
        "Convertendo a série em dataframe:"
      ]
    },
    {
      "cell_type": "code",
      "metadata": {
        "id": "3AlvcpBrfoaY",
        "colab_type": "code",
        "colab": {}
      },
      "source": [
        "dados_tentativas = tentativas_obrigatórias.reset_index(name=\"tentativas\")\n",
        "dados_tentativas"
      ],
      "execution_count": 0,
      "outputs": []
    },
    {
      "cell_type": "markdown",
      "metadata": {
        "id": "iOshXa4Zwj3a",
        "colab_type": "text"
      },
      "source": [
        "Para analisarmos as distribuições de tentativas por disciplina, vamos usar boxplots e histogramas."
      ]
    },
    {
      "cell_type": "code",
      "metadata": {
        "id": "MHF-Hd-LaL0n",
        "colab_type": "code",
        "colab": {}
      },
      "source": [
        "plt.figure(figsize=(6,8))\n",
        "sns.boxplot(x=\"tentativas\", y=\"nome\", data=dados_tentativas)\n",
        "plt.xlabel(\"Número de tentativas\")"
      ],
      "execution_count": 0,
      "outputs": []
    },
    {
      "cell_type": "markdown",
      "metadata": {
        "id": "1ohuu7u3VSA0",
        "colab_type": "text"
      },
      "source": [
        "Analisando inicialmente os boxplots acima, vemos claramente dois grupos de disciplinas:\n",
        "1. disciplinas em que apenas outliers precisam tentar mais de uma vez\n",
        "2. disciplinas em que uma parte significativa dos discentes precisa de mais de uma tentativa\n",
        "\n",
        "Aqui cabe uma ressalva: as disciplinas Pensamento computacional, Matemática elementar, Análise combinatória e Geometria euclidiana foram criadas em 2018. \n",
        "\n",
        "Mesmo com poucos dados, já dá para perceber a mesma diferenciação entre Geometria euclidiana e as demais.\n",
        "\n",
        "Vamos dar uma olhada nos histogramas para ver em maior detalhe a distribuição de tentativas por disciplina:"
      ]
    },
    {
      "cell_type": "code",
      "metadata": {
        "id": "0yqqTEVoLm9Y",
        "colab_type": "code",
        "colab": {}
      },
      "source": [
        "dados_tentativas.hist(by=\"nome\", column=\"tentativas\", figsize=(20,12), bins=6, range=(1,6))\n",
        "plt.xlabel(\"Número de tentativas\")\n",
        "plt.ylabel(\"Número de discentes\")"
      ],
      "execution_count": 0,
      "outputs": []
    },
    {
      "cell_type": "markdown",
      "metadata": {
        "id": "ph47Z_Whdhik",
        "colab_type": "text"
      },
      "source": [
        "Assim como indicado pelos boxplots, podemos ver dois grandes padrões entre as distribuições.\n",
        "\n",
        "No entanto, ainda que as caudas das distribuições não sejam realçadas pelos boxplots, as disciplinas com múltiplas tentativas apresentam uma grande quantidade de discentes tentando 3 ou mais vezes."
      ]
    },
    {
      "cell_type": "markdown",
      "metadata": {
        "id": "SrOajG_EbPiO",
        "colab_type": "text"
      },
      "source": [
        "## Analisando cancelamentos na UFRN"
      ]
    },
    {
      "cell_type": "markdown",
      "metadata": {
        "id": "Stt0Q_ngo1-4",
        "colab_type": "text"
      },
      "source": [
        "Um dado que chama a atenção na análise anterior é a alta quantidade de cancelamentos nas disciplinas obrigatórias do BTI.\n",
        "\n",
        "No contexto da UFRN, um cancelamento ocorre quando um discente solicita o cancelamento de todo o seu semestre letivo, perdendo todas as disciplinas de uma vez.\n",
        "\n",
        "Originalmente, esse mecanismo foi pensado para atender pessoas que tivessem problemas de saúde, mudança temporária ou qualquer outro motivo que necessitassem até 2 anos de ausência da universidade.\n",
        "\n",
        "Na prática, esse mecanismo acaba sendo usado quando discentes estão próximos a ser jubilados por insucessos (um discente pode ter no máximo 3 insucessos em uma disciplina).\n",
        "\n",
        "Vamos então analisar esta situação em cursos de graduação da UFRN em geral:"
      ]
    },
    {
      "cell_type": "code",
      "metadata": {
        "id": "SOwj8M5K8vrY",
        "colab_type": "code",
        "colab": {}
      },
      "source": [
        "turmas_graduação = dados_turmas.query('nivel_ensino == \"GRADUAÇÃO\"')\n",
        "turmas_graduação"
      ],
      "execution_count": 0,
      "outputs": []
    },
    {
      "cell_type": "markdown",
      "metadata": {
        "id": "6_2KJwFXg-h_",
        "colab_type": "text"
      },
      "source": [
        "Identificadas as turmas de graduação, vamos cruzar os dados com os componentes e matrículas:"
      ]
    },
    {
      "cell_type": "code",
      "metadata": {
        "id": "f0x_T0NkLzDL",
        "colab_type": "code",
        "colab": {}
      },
      "source": [
        "componentes_turmas = pd.merge(turmas_graduação, componentes, left_on=\"id_componente_curricular\", right_on=\"id_componente\")\n",
        "componentes_turmas"
      ],
      "execution_count": 0,
      "outputs": []
    },
    {
      "cell_type": "code",
      "metadata": {
        "id": "F9-gYKCe8G7Q",
        "colab_type": "code",
        "colab": {}
      },
      "source": [
        "matrículas_ufrn = pd.merge(dados_matrículas, componentes_turmas, on=\"id_turma\")\n",
        "matrículas_ufrn"
      ],
      "execution_count": 0,
      "outputs": []
    },
    {
      "cell_type": "markdown",
      "metadata": {
        "id": "bGlfCgOxmhWE",
        "colab_type": "text"
      },
      "source": [
        "Agora que cruzamos os dados, vamos verificar os resultados possíveis dos discentes:"
      ]
    },
    {
      "cell_type": "code",
      "metadata": {
        "id": "fSp_EVIbnwAk",
        "colab_type": "code",
        "colab": {}
      },
      "source": [
        "matrículas_ufrn.descricao.value_counts()"
      ],
      "execution_count": 0,
      "outputs": []
    },
    {
      "cell_type": "markdown",
      "metadata": {
        "id": "YQdWhtdln3FC",
        "colab_type": "text"
      },
      "source": [
        "Para podermos comparar com os dados que observamos na análise do BTI, precisamos restringir esses resultados aos casos que usamos naquela análise:"
      ]
    },
    {
      "cell_type": "code",
      "metadata": {
        "colab_type": "code",
        "id": "FXpiwgpNsMl5",
        "colab": {}
      },
      "source": [
        "lista_não_cursou_ufrn = [\n",
        "                        \"AGUARDANDO DEFERIMENTO\",\n",
        "                        \"EM ESPERA\",\n",
        "                        \"INCORPORADO\",\n",
        "                        \"MATRICULADO\",\n",
        "                        \"REPROVADO POR NOTA\",\n",
        "                        \"REPROVADO POR NOTA E FALTA\",\n",
        "                        \"REPROVADO POR FALTAS\",\n",
        "                        \"TRANSFERIDO\"\n",
        "                        ]\n",
        "condições_a_remover = lista_não_cursou + lista_não_cursou_ufrn\n",
        "condição_tentativa_ufrn = f\"not descricao in {condições_a_remover}\"\n",
        "matrículas_ufrn = matrículas_ufrn.query(condição_tentativa_ufrn)\n",
        "matrículas_ufrn.descricao.value_counts()"
      ],
      "execution_count": 0,
      "outputs": []
    },
    {
      "cell_type": "markdown",
      "metadata": {
        "id": "RHD8Jo85noLb",
        "colab_type": "text"
      },
      "source": [
        "Agora que filtramos os dados, vamos agregá-los por unidade e descrição:"
      ]
    },
    {
      "cell_type": "code",
      "metadata": {
        "id": "hYEmON079wmk",
        "colab_type": "code",
        "colab": {}
      },
      "source": [
        "percentual_ufrn = pd.crosstab(matrículas_ufrn[\"unidade_responsavel\"], matrículas_ufrn[\"descricao\"], normalize=\"index\")\n",
        "percentual_ufrn"
      ],
      "execution_count": 0,
      "outputs": []
    },
    {
      "cell_type": "markdown",
      "metadata": {
        "id": "yt41H4BxnfHx",
        "colab_type": "text"
      },
      "source": [
        "Como nosso interesse é apenas nos casos cancelados, vamos filtrar os dados e ordená-los:"
      ]
    },
    {
      "cell_type": "code",
      "metadata": {
        "id": "2enwusMN-MXJ",
        "colab_type": "code",
        "colab": {}
      },
      "source": [
        "cancelados_ufrn = percentual_ufrn[\"CANCELADO\"].sort_values()\n",
        "cancelados_ufrn"
      ],
      "execution_count": 0,
      "outputs": []
    },
    {
      "cell_type": "markdown",
      "metadata": {
        "id": "3Ln0hp_Euseh",
        "colab_type": "text"
      },
      "source": [
        "😱\n",
        "\n",
        "A proporção entre os dados de mínimo e máximo é de 230 vezes!\n",
        "\n",
        "Bom, extremos podem ser enganosos, então vamos dar uma olhada na distribuição dos dados:"
      ]
    },
    {
      "cell_type": "code",
      "metadata": {
        "id": "iQYxk6raCQv1",
        "colab_type": "code",
        "colab": {}
      },
      "source": [
        "from scipy.stats import norm"
      ],
      "execution_count": 0,
      "outputs": []
    },
    {
      "cell_type": "code",
      "metadata": {
        "id": "WB9N5qBy-gcc",
        "colab_type": "code",
        "colab": {}
      },
      "source": [
        "sns.distplot(cancelados_ufrn, fit=norm, bins=20)\n",
        "plt.xlabel(\"Percentual\")\n",
        "plt.ylabel(\"Distribuição\")\n",
        "plt.title(\"Quantidade de cancelamentos por unidade acadêmica\")"
      ],
      "execution_count": 0,
      "outputs": []
    },
    {
      "cell_type": "markdown",
      "metadata": {
        "id": "XPI19-h5xto9",
        "colab_type": "text"
      },
      "source": [
        "A distribuição dos dados se aproxima de uma distribuição normal, mas há indícios de bimodalidade.\n",
        "\n",
        "Além disso, dá para ver que há dois conjuntos de outliers nas extremidades dos dados:"
      ]
    },
    {
      "cell_type": "code",
      "metadata": {
        "id": "xLf0JZmIyc0q",
        "colab_type": "code",
        "colab": {}
      },
      "source": [
        "cancelados_ufrn[cancelados_ufrn <= 0.01]"
      ],
      "execution_count": 0,
      "outputs": []
    },
    {
      "cell_type": "markdown",
      "metadata": {
        "id": "ZfUVGFlJzosO",
        "colab_type": "text"
      },
      "source": [
        "O conjunto de outliers à esquerda do gráfico é composto predominantemente por unidades relacionadas à medicina.\n",
        "\n",
        "Por sua vez, os outliers à direita são todos relacionados à ciências exatas:"
      ]
    },
    {
      "cell_type": "code",
      "metadata": {
        "id": "P2Fu8_Ro-oKv",
        "colab_type": "code",
        "colab": {}
      },
      "source": [
        "cancelados_ufrn[cancelados_ufrn >= 0.1]"
      ],
      "execution_count": 0,
      "outputs": []
    },
    {
      "cell_type": "markdown",
      "metadata": {
        "id": "bXubtm27z_we",
        "colab_type": "text"
      },
      "source": [
        "Para concluir, vamos dar uma olhada nas estatísticas descritivas dessa série:"
      ]
    },
    {
      "cell_type": "code",
      "metadata": {
        "id": "forDHwNM-cbh",
        "colab_type": "code",
        "colab": {}
      },
      "source": [
        "cancelados_ufrn.describe()"
      ],
      "execution_count": 0,
      "outputs": []
    },
    {
      "cell_type": "markdown",
      "metadata": {
        "id": "MyJhNZae0E9v",
        "colab_type": "text"
      },
      "source": [
        "Tanto a média como a mediana estão próximas a 6%.\n",
        "\n",
        "No entanto, o terceiro quartil é o triplo do primeiro quartil.\n",
        "\n",
        "Vamos ver os cursos em cada região:"
      ]
    },
    {
      "cell_type": "code",
      "metadata": {
        "id": "NFF7TimBlb1Z",
        "colab_type": "code",
        "colab": {}
      },
      "source": [
        "cancelados_ufrn[cancelados_ufrn <= cancelados_ufrn.quantile(0.25)]"
      ],
      "execution_count": 0,
      "outputs": []
    },
    {
      "cell_type": "markdown",
      "metadata": {
        "id": "9VwSb2js0dXQ",
        "colab_type": "text"
      },
      "source": [
        "Aqui nós já vemos uma mistura maior de cursos, mas a presença de unidades relacionadas à medicina continua elevada."
      ]
    },
    {
      "cell_type": "code",
      "metadata": {
        "id": "anxbst-blh1n",
        "colab_type": "code",
        "colab": {}
      },
      "source": [
        "cancelados_ufrn[cancelados_ufrn >= cancelados_ufrn.quantile(0.75)]"
      ],
      "execution_count": 0,
      "outputs": []
    },
    {
      "cell_type": "markdown",
      "metadata": {
        "id": "zG6fR2_70o0G",
        "colab_type": "text"
      },
      "source": [
        "Neste caso, vemos que taxas de cancelamento próximas a 10% são comuns em diferentes áreas da UFRN, envolvendo ciências humanas, biociências e exatas."
      ]
    }
  ]
}