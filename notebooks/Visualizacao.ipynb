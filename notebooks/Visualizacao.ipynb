{
 "cells": [
  {
   "cell_type": "markdown",
   "metadata": {},
   "source": [
    "# Análise e apresentação de dados"
   ]
  },
  {
   "cell_type": "markdown",
   "metadata": {},
   "source": [
    "## Preparação para a análise"
   ]
  },
  {
   "cell_type": "markdown",
   "metadata": {},
   "source": [
    "Sempre que se deseja explorar e extrair informação de um conjunto de dados, é preciso entender, antes, quais tipos de informações é possível obter com os dados disponíveis. De modo geral, os dados se classificam em:\n",
    "\n",
    "**Dados Numéricos:** Também chamados de quantitativos, são conjuntos de dados que representam contagens ou medidas, por exemplo: Idade, altura, peso. Com esse tipo de dado é possível fazer análises estatísticas e determinar média, desvio padrão, etc. Esses dados se dividem ainda em dois grupos, sendo:\n",
    "\n",
    "\n",
    "*   **Discretos:** Representados por números inteiros (ex.: Idade).\n",
    "*   **Contínuos:** Podem assumir qualquer valor real (ex.: peso, altura).\n",
    "\n",
    "**Dados categóricos:** Também chamados de qualitativos, são conjuntos de dados que refletem características não numéricas, podendo ser:\n",
    "\n",
    "\n",
    "*   **Ordinais:** Podem ser ordenados de alguma forma que faça sentido (ex.: Faixa etária, estágios de uma doença, datas).\n",
    "*   **Nominais:** se definem exclusivamente por nomes, sem ordem específica (ex.: grupo sanguíneo, raça, sexo, Sim/não)."
   ]
  },
  {
   "cell_type": "markdown",
   "metadata": {},
   "source": [
    "### Dados inválidos ou faltantes"
   ]
  },
  {
   "cell_type": "markdown",
   "metadata": {},
   "source": [
    "Sempre que um conjunto de dados é coletado e posto para análise, uma série de atividades precisam ser feitas até que de fato seja confiável extrair alguma informação relevante. Nos tópicos anteriores vimos como iniciar a exploração de dados com pandas. Porém, depois de obter nosso dataframe, precisamos checar a integridade dos nossos dados, e limpá-los antes de fazer qualquer análise. De acordo com a [IBM Data Analytics](https://www.ibm.com/cloud/blog/ibm-data-catalog-data-scientists-productivity), 80% do tempo dedicado a um conjunto de dados disponível para análise é gasto com limpeza dos dados.\n",
    "\n",
    "Uma fase importante na limpeza de dados é o tratamento de dados faltando ou inválidos (pense que, se um dado não serve para a análise, ele está faltando). Vamos utilizar uma [base dados](https://raw.githubusercontent.com/dataoptimal/posts/master/data%20cleaning%20with%20python%20and%20pandas/property%20data.csv) pequena, porém suficiente para entendermos como lidar com dados faltando.  \n",
    "\n",
    "Execute as células abaixo para importar os dados do exemplo."
   ]
  },
  {
   "cell_type": "code",
   "execution_count": null,
   "metadata": {},
   "outputs": [],
   "source": [
    "import pandas as pd"
   ]
  },
  {
   "cell_type": "code",
   "execution_count": null,
   "metadata": {},
   "outputs": [],
   "source": [
    "dados_faltando = pd.read_csv('https://raw.githubusercontent.com/dataoptimal/posts/master/data%20cleaning%20with%20python%20and%20pandas/property%20data.csv',sep=',')\n",
    "dados_faltando"
   ]
  },
  {
   "cell_type": "markdown",
   "metadata": {},
   "source": [
    "É possível perceber os dados inválidos do dataframe acima. O pandas consegue detectar alguns valores inválidos ou faltantes. Para esses dados, ele utiliza a etiqueta `NaN`.\n",
    "\n",
    "O Pandas possui um método específico para identificar valores faltantes em uma série, de nome `isnull()`."
   ]
  },
  {
   "cell_type": "code",
   "execution_count": null,
   "metadata": {},
   "outputs": [],
   "source": [
    "dados_faltando['NUM_BATH'].isnull()"
   ]
  },
  {
   "cell_type": "markdown",
   "metadata": {},
   "source": [
    "Perceba que o método `isnull()` retorna `True` sempre que existe um valor faltando no campo avaliado.\n",
    "\n",
    "Para um conjunto de dados muito grande, é impraticável aplicar a função `isnull()` manualmente a cada característica. Para avaliar a quantidade de valores faltando em todas as características, basta combinar o método `sum()` com o resultado do método `isnull()` aplicado a todo o conjunto de dados."
   ]
  },
  {
   "cell_type": "code",
   "execution_count": null,
   "metadata": {},
   "outputs": [],
   "source": [
    "dados_faltando.isnull().sum()"
   ]
  },
  {
   "cell_type": "markdown",
   "metadata": {},
   "source": [
    "Nem sempre o Pandas será capaz de identificar um dado inválido. No nosso exemplo, existe um dado inválido `'na'` na série que representa a característica `NUM_BEDROOMS` e outro valor inválido `'--'` na série que representa a característica `SQ_FT`. \n",
    "\n",
    "Nesses casos, podemos usar os métodos `unique()` ou `value_counts()` para ver os valores existentes em uma série:"
   ]
  },
  {
   "cell_type": "code",
   "execution_count": null,
   "metadata": {},
   "outputs": [],
   "source": [
    "dados_faltando[\"NUM_BEDROOMS\"].unique()"
   ]
  },
  {
   "cell_type": "code",
   "execution_count": null,
   "metadata": {},
   "outputs": [],
   "source": [
    "dados_faltando[\"SQ_FT\"].value_counts()"
   ]
  },
  {
   "cell_type": "markdown",
   "metadata": {},
   "source": [
    "Outro caso de dados inválidos ocorre quando um dado de tipo diferente do esperado para uma dada característica é encontrado. A coluna `OWN_OCCUPIED` deveria conter somente valores no formato `Y` ou `N`. Contudo, em uma das linhas é encontrado o valor `12`, que não tem relação com os valores esperados.\n",
    "\n",
    "Nesse caso, podemos usar o método `all` para ver se todos os valores de uma série respeitam o **domínio** de valores previsto para aquela série:"
   ]
  },
  {
   "cell_type": "code",
   "execution_count": null,
   "metadata": {},
   "outputs": [],
   "source": [
    "condição_domínio = dados_faltando[\"OWN_OCCUPIED\"].isin([\"Y\",\"N\"])\n",
    "all(condição_domínio)"
   ]
  },
  {
   "cell_type": "code",
   "execution_count": null,
   "metadata": {},
   "outputs": [],
   "source": [
    "dados_faltando[~condição_domínio]"
   ]
  },
  {
   "cell_type": "markdown",
   "metadata": {},
   "source": [
    "## Começando a análise"
   ]
  },
  {
   "cell_type": "markdown",
   "metadata": {},
   "source": [
    "Os dados para esta parte do tutorial serão carregados a partir de uma URL. \n",
    "\n",
    "Vamos deixar que o Pandas baixe diretamente o dataset, informando apenas a URL onde ele está localizado."
   ]
  },
  {
   "cell_type": "code",
   "execution_count": null,
   "metadata": {
    "colab": {},
    "colab_type": "code",
    "id": "IvRWAQofrpLA"
   },
   "outputs": [],
   "source": [
    "dados_url = 'http://bit.ly/2cLzoxH'\n",
    "dados = pd.read_csv(dados_url)\n",
    "dados.head(n=10)"
   ]
  },
  {
   "cell_type": "markdown",
   "metadata": {},
   "source": [
    "Uma vez concluída a limpeza dos dados, o primeiro conjunto de ferramentas que podemos usar para analisá-los é a das **estatísticas descritivas**. \n",
    "\n",
    "O Pandas oferece as principais medidas **centrais** e de **dispersão**, que podemos ser aplicadas a qualquer série de dados numéricos."
   ]
  },
  {
   "cell_type": "markdown",
   "metadata": {},
   "source": [
    "### Medidas centrais"
   ]
  },
  {
   "cell_type": "markdown",
   "metadata": {},
   "source": [
    "**Média**: A soma de todas as medições divididas pelo número de observações no conjunto de dados."
   ]
  },
  {
   "cell_type": "code",
   "execution_count": null,
   "metadata": {},
   "outputs": [],
   "source": [
    "dados.mean()"
   ]
  },
  {
   "cell_type": "markdown",
   "metadata": {},
   "source": [
    "**Mediana**: Valor do meio que separa a metade maior da metade menor no conjunto de dados."
   ]
  },
  {
   "cell_type": "code",
   "execution_count": null,
   "metadata": {},
   "outputs": [],
   "source": [
    "dados[\"year\"].median()"
   ]
  },
  {
   "cell_type": "markdown",
   "metadata": {},
   "source": [
    "**Moda**: O(s) valor(es) que aparece(m) com mais frequência no conjunto de dados."
   ]
  },
  {
   "cell_type": "code",
   "execution_count": null,
   "metadata": {},
   "outputs": [],
   "source": [
    "dados[\"year\"].mode()"
   ]
  },
  {
   "cell_type": "markdown",
   "metadata": {},
   "source": [
    "### Medidas de dispersão"
   ]
  },
  {
   "cell_type": "markdown",
   "metadata": {},
   "source": [
    "**Variância**: Indica o espalhamento dos valores de uma série. \n",
    "\n",
    "É calculada como a distância média de cada valor de uma série para a média da série. Para que distâncias positivas e negativas não se anulem, cada distância é elevada ao quadrado durante a soma. Por esse motivo, a ordem de grandeza da variância não casa com a ordem de grandeza dos dados da série.\n",
    "\n",
    "Uma baixa variância indica que os valores da série tendem a estar próximos da média. Uma alta variância indica que os valores da série estão dispersos."
   ]
  },
  {
   "cell_type": "code",
   "execution_count": null,
   "metadata": {},
   "outputs": [],
   "source": [
    "dados[\"year\"].var()"
   ]
  },
  {
   "cell_type": "markdown",
   "metadata": {},
   "source": [
    "**Desvio Padrão**: Raiz quadrada da variância. Mantém todas as suas propriedades, mas apresenta a mesma ordem de grandeza dos dados da série: "
   ]
  },
  {
   "cell_type": "code",
   "execution_count": null,
   "metadata": {
    "scrolled": true
   },
   "outputs": [],
   "source": [
    "dados[\"year\"].std()"
   ]
  },
  {
   "cell_type": "markdown",
   "metadata": {},
   "source": [
    "**Quantis**: Particionam os valores ordenados de uma série. Um quantil de 25% indica que 25% dos valores da série são inferiores àquele quantil. Por convenção, ***quartis*** são os quantis de 25%, 50% e 75%, também conhecidos como primeiro, segundo e terceiro quartis:\n"
   ]
  },
  {
   "cell_type": "code",
   "execution_count": null,
   "metadata": {},
   "outputs": [],
   "source": [
    "dados[\"year\"].quantile(0.25)"
   ]
  },
  {
   "cell_type": "code",
   "execution_count": null,
   "metadata": {},
   "outputs": [],
   "source": [
    "primeiro_quartil = dados[\"year\"] < dados[\"year\"].quantile(0.25)\n",
    "dados[primeiro_quartil].shape"
   ]
  },
  {
   "cell_type": "code",
   "execution_count": null,
   "metadata": {
    "scrolled": true
   },
   "outputs": [],
   "source": [
    "dados.shape"
   ]
  },
  {
   "cell_type": "markdown",
   "metadata": {},
   "source": [
    "### Outros métodos de estatística descritiva"
   ]
  },
  {
   "cell_type": "markdown",
   "metadata": {},
   "source": [
    "* `describe()`: presente nos objetos `DataFrame` e `Series`, reúne várias medidas descritivas sobre os dados, incluindo os métodos `count()`, `min()` e `max()`:"
   ]
  },
  {
   "cell_type": "code",
   "execution_count": null,
   "metadata": {},
   "outputs": [],
   "source": [
    "dados[\"year\"].describe()"
   ]
  },
  {
   "cell_type": "code",
   "execution_count": null,
   "metadata": {},
   "outputs": [],
   "source": [
    "dados.describe()"
   ]
  },
  {
   "cell_type": "markdown",
   "metadata": {},
   "source": [
    "* `nunique()`: informa a quantidade de valores distintos."
   ]
  },
  {
   "cell_type": "code",
   "execution_count": null,
   "metadata": {},
   "outputs": [],
   "source": [
    "dados.nunique()"
   ]
  },
  {
   "cell_type": "code",
   "execution_count": null,
   "metadata": {},
   "outputs": [],
   "source": [
    "dados[\"year\"].nunique()"
   ]
  },
  {
   "cell_type": "markdown",
   "metadata": {},
   "source": [
    "* `sort_values()`: ordena os valores de um `DataFrame` ou `Series`, em ordem crescente ou decrescente. Ao usar o método `sort_values()` do `DataFrame`, podemos especificar múltiplas colunas para a ordenação. Nesse caso, empates na primeira coluna são resolvidos pela segunda coluna, e assim por diante."
   ]
  },
  {
   "cell_type": "code",
   "execution_count": null,
   "metadata": {},
   "outputs": [],
   "source": [
    "dados[\"year\"].sort_values().head()"
   ]
  },
  {
   "cell_type": "code",
   "execution_count": null,
   "metadata": {},
   "outputs": [],
   "source": [
    "dados.sort_values(by=['year','country'],ascending=False).head()"
   ]
  },
  {
   "cell_type": "markdown",
   "metadata": {},
   "source": [
    "## Apresentação dos dados"
   ]
  },
  {
   "cell_type": "markdown",
   "metadata": {
    "colab_type": "text",
    "id": "3ni0vgAIHiFI"
   },
   "source": [
    "A análise de medidas centrais e de dispersão do `DataFrame` costuma ser aprofundada pela visualização das séries de dados.\n",
    "\n",
    "Para começar vamos carregar as bibliotecas necessárias:\n",
    "- Matplotlib é uma biblioteca que serve exclusivamente para criar gráficos; \n",
    "- Seaborn é uma biblioteca feita para criar gráficos estatísticos em Python. É construída em cima do Matplotlib e é integrada às estruturas de dados do Pandas.\n",
    "\n",
    "Por convenção, carregamos apenas o módulo `pyplot` da biblioteca `matplotlib` e o chamamos de `plt`.\n",
    "\n",
    "No caso do `seaborn`, carregamos toda a biblioteca, a chamamos de `sns` e usamos seu método `set()` para colocar em vigor suas configurações iniciais. "
   ]
  },
  {
   "cell_type": "code",
   "execution_count": null,
   "metadata": {
    "colab": {},
    "colab_type": "code",
    "id": "Y_PDGogQn3QS"
   },
   "outputs": [],
   "source": [
    "import matplotlib.pyplot as plt\n",
    "import seaborn as sns\n",
    "sns.set()"
   ]
  },
  {
   "cell_type": "markdown",
   "metadata": {
    "colab_type": "text",
    "id": "kIbzhXQ000XQ"
   },
   "source": [
    "### Histogramas\n",
    "\n",
    "Com os comandos oferecidos pelo Pandas é fácil construir um histograma, porém, é necessário entender exatamente o que se está construindo. \n",
    "\n",
    "No trecho abaixo dizemos que do conjunto `dados` vamos usar a coluna `lifeExp`, que mostra a expectativa de vida por ano.\n",
    "\n",
    "Com o método `hist(bins = 100)` teremos o histograma com 100 faixas diferentes de valores. "
   ]
  },
  {
   "cell_type": "code",
   "execution_count": null,
   "metadata": {
    "colab": {},
    "colab_type": "code",
    "id": "NwLUT8xptz_9"
   },
   "outputs": [],
   "source": [
    "dados['lifeExp'].hist(bins=100)"
   ]
  },
  {
   "cell_type": "markdown",
   "metadata": {
    "colab_type": "text",
    "id": "JKLxZZdx4sLT"
   },
   "source": [
    "Abaixo podemos ver o efeito (extremo) de se construir um histograma com poucos intervalos de valores (apenas dois, neste caso)."
   ]
  },
  {
   "cell_type": "code",
   "execution_count": null,
   "metadata": {
    "colab": {},
    "colab_type": "code",
    "id": "ooQ_pCJKuMX-"
   },
   "outputs": [],
   "source": [
    "dados['lifeExp'].hist(bins=2)"
   ]
  },
  {
   "cell_type": "markdown",
   "metadata": {
    "colab_type": "text",
    "id": "lyarbic35AgQ"
   },
   "source": [
    "O caso abaixo é exatamente o inverso do que foi mostrado acima: muitas faixas de valores (1000 no gráfico abaixo) torna a compreensão muito difícil."
   ]
  },
  {
   "cell_type": "code",
   "execution_count": null,
   "metadata": {
    "colab": {},
    "colab_type": "code",
    "id": "Aj6a95vvu4Ie"
   },
   "outputs": [],
   "source": [
    "dados['lifeExp'].hist(bins=1000)"
   ]
  },
  {
   "cell_type": "markdown",
   "metadata": {
    "colab_type": "text",
    "id": "AqnPTNI0P7vL"
   },
   "source": [
    "O histograma padrão do Pandas é básico e serve apenas para uma olhada rápida na distribuição dos dados, mas não conta a história toda. \n",
    "\n",
    "Além de não haver nomes nos eixos X e Y, há uma região do eixo X sendo apresentada mesmo que não haja dados nela.\n",
    "\n",
    "Podemos resolver isso configurando o histograma através dos seguintes parâmetros:\n",
    " - `xlabelsize` e `ylabelsize` ditam o tamanho da fonte nos eixos;\n",
    " - `xlabel `e `ylabel` são os métodos que alteram o título do eixo e o tamanho desse texto;\n",
    " - `xlim` também é um método e determina os limites inferior e superior do eixo horizontal.\n",
    "\n",
    "A seguir podemos ver como customizar as informações que aparecem no histograma."
   ]
  },
  {
   "cell_type": "code",
   "execution_count": null,
   "metadata": {
    "colab": {},
    "colab_type": "code",
    "id": "7AsoMmeHP_kh",
    "scrolled": false
   },
   "outputs": [],
   "source": [
    "dados['lifeExp'].hist(bins=100, grid=False, xlabelsize=12, ylabelsize=12)\n",
    "plt.xlabel(\"Expectativa de vida\", fontsize=15)\n",
    "plt.ylabel(\"Frequência\",fontsize=15)\n",
    "plt.title(\"Distribuição das expectativas de vida\", fontsize=17)\n",
    "plt.xlim([22.0,90.0])"
   ]
  },
  {
   "cell_type": "markdown",
   "metadata": {},
   "source": [
    "Apesar de ser conveniente usar o método `hist()` diretamente a partir de uma série, o método `distplot()` do `seaborn` é bem mais poderoso.\n",
    "\n",
    "Além de apresentar um histograma dos dados, o `distplot()` estima uma **distribuição de probabilidade** dos dados:"
   ]
  },
  {
   "cell_type": "code",
   "execution_count": null,
   "metadata": {},
   "outputs": [],
   "source": [
    "sns.distplot(dados[\"lifeExp\"])\n",
    "plt.xlabel(\"Expectativa de vida\", fontsize=15)\n",
    "plt.ylabel(\"Frequência\",fontsize=15)\n",
    "plt.title(\"Distribuição das expectativas de vida\", fontsize=17)"
   ]
  },
  {
   "cell_type": "markdown",
   "metadata": {},
   "source": [
    "A distribuição de probabilidade estimada no gráfico acima é uma importante fonte de informação sobre os dados.\n",
    "\n",
    "Podemos compará-la com uma **distribuição normal** usando o método `norm` da biblioteca `scipy`:"
   ]
  },
  {
   "cell_type": "code",
   "execution_count": null,
   "metadata": {},
   "outputs": [],
   "source": [
    "from scipy.stats import norm"
   ]
  },
  {
   "cell_type": "code",
   "execution_count": null,
   "metadata": {},
   "outputs": [],
   "source": [
    "sns.distplot(dados[\"lifeExp\"], fit=norm)\n",
    "plt.xlabel(\"Expectativa de vida\", fontsize=15)\n",
    "plt.ylabel(\"Frequência\",fontsize=15)\n",
    "plt.title(\"Distribuição das expectativas de vida\", fontsize=17)"
   ]
  },
  {
   "cell_type": "markdown",
   "metadata": {
    "colab_type": "text",
    "id": "WvlxccQA7P4D"
   },
   "source": [
    "Nesse caso, vemos que a distruição real dos dados difere bastante da distribuição normal.\n",
    "\n",
    "De fato, ela se assemelha mais a uma **distribuição bimodal**, que costuma ocorrer quando os dados apresentam subconjuntos normalmente distribuídos.\n",
    "\n",
    "As duas células de código a seguir produzem gráficos usando a expectativa de vida no continente Africano e na Europa, respectivamente, mostrando de onde surge a distribuição bimodal do gráfico acima:"
   ]
  },
  {
   "cell_type": "code",
   "execution_count": null,
   "metadata": {
    "colab": {},
    "colab_type": "code",
    "id": "_9zMPpq-WZvk"
   },
   "outputs": [],
   "source": [
    "dados_africa = dados[dados['continent'] == 'Africa']\n",
    "dados_europa = dados[dados['continent'] == 'Europe']\n",
    "\n",
    "sns.distplot(dados_europa[\"lifeExp\"], fit=norm)\n",
    "sns.distplot(dados_africa[\"lifeExp\"], fit=norm)\n",
    "plt.xlabel(\"Expectativa de vida\", fontsize=15)\n",
    "plt.ylabel(\"Frequência\",fontsize=15)\n",
    "plt.title(\"Distribuição das expectativas de vida nos continentes europeu e africano\", fontsize=17)"
   ]
  },
  {
   "cell_type": "markdown",
   "metadata": {},
   "source": [
    "Além de interessante do ponto de vista estatístico, o gráfico acima é socialmente impactante e preocupante, tamanha a diferença nas distribuições."
   ]
  },
  {
   "cell_type": "markdown",
   "metadata": {},
   "source": [
    "### Boxplots e violin plots"
   ]
  },
  {
   "cell_type": "markdown",
   "metadata": {
    "colab_type": "text",
    "id": "mJEBFTkHCsKS"
   },
   "source": [
    "Outros tipos de gráfico úteis para análise de distribuições são obtidos pelos métodos `boxplot()` e `violinplot()` do `seaborn`. \n",
    "\n",
    "**Boxplot**: apresenta os quartis de uma série, representados por uma caixa - as extremidades são o primeiro e terceiro quartil, enquanto a divisória dentro da caixa é o segundo quartil. \n",
    "\n",
    "Esse tipo de gráfico também é conhecido como caixas e bigodes (box-and-whiskers), porque os elementos mínimo e máximo são representados pelos \"bigodes\" da caixa. \n",
    "\n",
    "Uma particularidade desse gráfico é que os elementos mínimo e máximo são calculados em função da distância entre o primeiro e o terceiro quartil. Assim, valores da série que extrapolem esses valores extremos são considerados outliers e aparecem no boxplot como pontos."
   ]
  },
  {
   "cell_type": "code",
   "execution_count": null,
   "metadata": {
    "colab": {},
    "colab_type": "code",
    "id": "poJYkdLgDTnJ"
   },
   "outputs": [],
   "source": [
    "sns.boxplot(x=\"lifeExp\", y=\"continent\", data=dados.sort_values(\"continent\"))\n",
    "plt.xlabel(\"Expectativa de vida\", fontsize=15)\n",
    "plt.ylabel(\"Continente\",fontsize=15)\n",
    "plt.title(\"Expectativa de vida por continente\", fontsize=17)"
   ]
  },
  {
   "cell_type": "markdown",
   "metadata": {
    "colab_type": "text",
    "id": "zS8Nu9Bjn4Zd"
   },
   "source": [
    "Como podemos ver, a África é o continente com menor expectativa de vida em geral, enquanto a Ásia é o continente onde esse dado apresenta maior dispersão.\n",
    "\n",
    "Nos gráficos acima, é possível notar que existem muitos outliers.\n",
    "\n",
    "É interessante filtrar os dados e analisar a expectativa de vida por ano (por exemplo). \n",
    "\n",
    "O código abaixo produz um boxplot da expectativa de vida para o ano de 2007:"
   ]
  },
  {
   "cell_type": "code",
   "execution_count": null,
   "metadata": {
    "colab": {},
    "colab_type": "code",
    "id": "wnaTcyOjDZpQ"
   },
   "outputs": [],
   "source": [
    "dados_2007 = dados[dados['year']==2007]\n",
    "sns.boxplot(x=\"lifeExp\", y=\"continent\", data=dados_2007.sort_values(\"continent\"))\n",
    "plt.xlabel(\"Expectativa de vida\", fontsize=15)\n",
    "plt.ylabel(\"Continente\",fontsize=15)\n",
    "plt.title(\"Expectativa de vida por continente (2007)\", fontsize=17)"
   ]
  },
  {
   "cell_type": "markdown",
   "metadata": {
    "colab_type": "text",
    "id": "9dXYPSOKFofJ"
   },
   "source": [
    "Delimitando o ano da análise, vemos bem menos outliers.\n",
    "\n",
    "* **Violin plots**: combinam as informações presentes em um boxplot e em gráficos de densidade. Apesar de serem extremamente ricos em informação, são pouco difundidos na prática. "
   ]
  },
  {
   "cell_type": "code",
   "execution_count": null,
   "metadata": {},
   "outputs": [],
   "source": [
    "plt.figure(figsize=(12,6))\n",
    "sns.violinplot(x=\"continent\", y=\"lifeExp\", data=dados_1982)\n",
    "plt.xlabel(\"Continente\", fontsize=15)\n",
    "plt.ylabel(\"Expectativa de vida\",fontsize=15)\n",
    "plt.title(\"Expectativa de vida por continente\", fontsize=17)"
   ]
  }
 ],
 "metadata": {
  "colab": {
   "collapsed_sections": [],
   "name": "Visualizacao.ipynb",
   "provenance": []
  },
  "kernelspec": {
   "display_name": "Python 3",
   "language": "python",
   "name": "python3"
  },
  "language_info": {
   "codemirror_mode": {
    "name": "ipython",
    "version": 3
   },
   "file_extension": ".py",
   "mimetype": "text/x-python",
   "name": "python",
   "nbconvert_exporter": "python",
   "pygments_lexer": "ipython3",
   "version": "3.6.8"
  }
 },
 "nbformat": 4,
 "nbformat_minor": 1
}
