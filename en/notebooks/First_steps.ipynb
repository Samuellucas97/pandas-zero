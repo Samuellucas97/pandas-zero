{
  "nbformat": 4,
  "nbformat_minor": 0,
  "metadata": {
    "colab": {
      "name": "First steps",
      "provenance": [],
      "collapsed_sections": []
    },
    "kernelspec": {
      "display_name": "Python 3",
      "language": "python",
      "name": "python3"
    },
    "language_info": {
      "codemirror_mode": {
        "name": "ipython",
        "version": 3
      },
      "file_extension": ".py",
      "mimetype": "text/x-python",
      "name": "python",
      "nbconvert_exporter": "python",
      "pygments_lexer": "ipython3",
      "version": "3.6.8"
    }
  },
  "cells": [
    {
      "cell_type": "markdown",
      "metadata": {
        "colab_type": "text",
        "id": "7FAHc8hEbt26"
      },
      "source": [
        "# First steps with Pandas for data analysis\n",
        "\n",
        "In this tutorial, we'll use the Python programming language and its Pandas library to analyze tabular data, i.e., any set of information stored as a table, where:\n",
        "\n",
        "- **Columns** indicate **features**.\n",
        "- **Rows** indicate **samples**.\n",
        "\n",
        "Let's use Pandas to analyze a dataset about fuel prices in Brazil, available [here](https://www.kaggle.com/ficosta/combustible-price-brasil/download). This dataset is store as a `.csv` file (comma-separated values), one of the most used tabular data formats. Next we'll explore the data and see what information it can provide us.\n",
        "\n",
        "Download the `.zip` file from the link above, unzip it to your computer, and upload the `.csv` file to your Google Drive. Next, run the cell below and follow the instructions to access your Drive files from this Colab."
      ]
    },
    {
      "cell_type": "code",
      "metadata": {
        "colab_type": "code",
        "id": "y1uAJz-5j5QJ",
        "colab": {}
      },
      "source": [
        "from google.colab import drive\n",
        "drive.mount('/content/drive')"
      ],
      "execution_count": 0,
      "outputs": []
    },
    {
      "cell_type": "markdown",
      "metadata": {
        "colab_type": "text",
        "id": "fGnAcspOfQiB"
      },
      "source": [
        "## Importing pandas"
      ]
    },
    {
      "cell_type": "markdown",
      "metadata": {
        "id": "dKSnJZY20Hy0",
        "colab_type": "text"
      },
      "source": [
        "First, we need to import some resources from the Pandas package to the Colab environment. To import some resource in Python, we must inform which library the resource is coming from. In this example, we will import the `read_csv` resource, a **method** that reads tabular data stored as a `.csv`."
      ]
    },
    {
      "cell_type": "markdown",
      "metadata": {
        "colab_type": "text",
        "id": "uV4yHsVrKGcU"
      },
      "source": [
        "1 - Uncomment the code below (delete the \\# symbol) and press play at the left side of the cell (or use ***shift + enter***)."
      ]
    },
    {
      "cell_type": "code",
      "metadata": {
        "colab_type": "code",
        "id": "IY-aXrzOfJkU",
        "colab": {}
      },
      "source": [
        "# from pandas import read_csv"
      ],
      "execution_count": 0,
      "outputs": []
    },
    {
      "cell_type": "markdown",
      "metadata": {
        "colab_type": "text",
        "id": "lVh_Fcao2vGq"
      },
      "source": [
        "## Reading a CSV file"
      ]
    },
    {
      "cell_type": "markdown",
      "metadata": {
        "colab_type": "text",
        "id": "W1gxzWI74jMw"
      },
      "source": [
        "Define a name for your dataset (e.g. *data*). The method `read_csv()` reads the CSV file, as follows:\n",
        "\n",
        "```\n",
        "data = read_csv('/path/to/your/file.csv')\n",
        "```\n",
        "In the example above, the name *data* is associated to a Pandas object. We'll talk about this later.\n",
        "\n",
        "Obs.: To fetch the file path in Colab, navigate to your file using the folders given on the left panel, right-click the file and choose ***Copy path***."
      ]
    },
    {
      "cell_type": "markdown",
      "metadata": {
        "colab_type": "text",
        "id": "aswBfMut9At3"
      },
      "source": [
        "2 - Create a name for your dataset and read the CSV file using the `read_csv` method."
      ]
    },
    {
      "cell_type": "code",
      "metadata": {
        "colab_type": "code",
        "id": "PF1KC8RvfjyR",
        "colab": {}
      },
      "source": [
        ""
      ],
      "execution_count": 0,
      "outputs": []
    },
    {
      "cell_type": "markdown",
      "metadata": {
        "colab_type": "text",
        "id": "0YgumbZR9sjr"
      },
      "source": [
        "## Exploring the data"
      ]
    },
    {
      "cell_type": "markdown",
      "metadata": {
        "colab_type": "text",
        "id": "GwanfJ3c_AHl"
      },
      "source": [
        "After we read the data, we need to find out which **features** it presents and how many **samples** it has. Pandas presents various methods to get information about a dataset. To find out the number of features and samples in a dataset, we can check the `shape` attribute. \n",
        "\n",
        "In the previous example, you created a Pandas object called `data`. In Python, we check the atributes from an object as follows:\n",
        "\n",
        "```\n",
        "data.attribute_name\n",
        "```"
      ]
    },
    {
      "cell_type": "markdown",
      "metadata": {
        "colab_type": "text",
        "id": "jZ4o4uOWWprd"
      },
      "source": [
        "3.1 - Find the number of samples and features of the dataset using the `shape` attribute."
      ]
    },
    {
      "cell_type": "code",
      "metadata": {
        "colab_type": "code",
        "id": "ViMCY5RKuMTT",
        "colab": {}
      },
      "source": [
        "# data.shape"
      ],
      "execution_count": 0,
      "outputs": []
    },
    {
      "cell_type": "markdown",
      "metadata": {
        "colab_type": "text",
        "id": "H988_L2yH7r7"
      },
      "source": [
        "It's possible to view the first samples in a dataset using the method `head(n_lines)`. In Python, we refer to attributes and methods in the same way, but in the case of methods we append parentheses to its name. `n_lines` is a positive number that, if passed on as an `argument`, defines how many samples will be displayed.\n",
        "\n",
        "**Observation**: If you choose not to provide `n_lines`, Python uses 5 as default."
      ]
    },
    {
      "cell_type": "markdown",
      "metadata": {
        "colab_type": "text",
        "id": "xgjTC1-xJht7"
      },
      "source": [
        "3.2 - Using the method `head()`, display the first samples of the dataset. Does the number of features match what the `shape` attribute had indicated?"
      ]
    },
    {
      "cell_type": "code",
      "metadata": {
        "colab_type": "code",
        "id": "cXwBku3IuONg",
        "colab": {}
      },
      "source": [
        "# data.head(2)"
      ],
      "execution_count": 0,
      "outputs": []
    },
    {
      "cell_type": "markdown",
      "metadata": {
        "colab_type": "text",
        "id": "dzm4Q-VrndUi"
      },
      "source": [
        "Note that, in the table above, the first sample presents index `0` (zero). Therefore, the index of the last sample in the dataset equals the number of samples minus one. To display the last samples, use the method `tail()`."
      ]
    },
    {
      "cell_type": "markdown",
      "metadata": {
        "colab_type": "text",
        "id": "r59tWWe6oK4c"
      },
      "source": [
        "3.3 - Use the method `tail()` to display the last samples in the dataset."
      ]
    },
    {
      "cell_type": "code",
      "metadata": {
        "colab_type": "code",
        "id": "ZtPdbwTD4B1y",
        "colab": {}
      },
      "source": [
        ""
      ],
      "execution_count": 0,
      "outputs": []
    },
    {
      "cell_type": "markdown",
      "metadata": {
        "id": "eE_miTX6eTQr",
        "colab_type": "text"
      },
      "source": [
        "Since the dataset is provided in Brazilian Portuguese, we will translate the name of the features to help understand the data. \n",
        "\n",
        "We can do this fiddling with the attribute `columns` of the `DataFrame`:"
      ]
    },
    {
      "cell_type": "code",
      "metadata": {
        "id": "fQXycpIvdt82",
        "colab_type": "code",
        "colab": {}
      },
      "source": [
        "# data.columns"
      ],
      "execution_count": 0,
      "outputs": []
    },
    {
      "cell_type": "markdown",
      "metadata": {
        "id": "t67ZDvJYfV44",
        "colab_type": "text"
      },
      "source": [
        "Pandas response is a bit verbose (polluted), but the part that matters to us is the list of column names.\n",
        "\n",
        "In Python, a list is represented by the notation `[element_1, element_2, ..., element_n]`:\n",
        "\n",
        "```python3\n",
        "['DATA INICIAL', 'DATA FINAL', 'PRODUTO', 'NÚMERO DE POSTOS PESQUISADOS',\n",
        "       'UNIDADE DE MEDIDA', 'PREÇO MÉDIO REVENDA', 'DESVIO PADRÃO REVENDA',\n",
        "       'PREÇO MÍNIMO REVENDA', 'PREÇO MÁXIMO REVENDA', 'MARGEM MÉDIA REVENDA',\n",
        "       'COEF DE VARIAÇÃO REVENDA', 'PREÇO MÉDIO DISTRIBUIÇÃO',\n",
        "       'DESVIO PADRÃO DISTRIBUIÇÃO', 'PREÇO MÍNIMO DISTRIBUIÇÃO',\n",
        "       'PREÇO MÁXIMO DISTRIBUIÇÃO', 'COEF DE VARIAÇÃO DISTRIBUIÇÃO']\n",
        "```\n",
        "\n",
        "We can replace the list of feature names associating the attribute `columns` to a new list:"
      ]
    },
    {
      "cell_type": "code",
      "metadata": {
        "id": "tnHseBLeehS_",
        "colab_type": "code",
        "colab": {}
      },
      "source": [
        "data.columns = [\n",
        "                \"start_date\",\n",
        "                \"end_date\",\n",
        "                \"product\",\n",
        "                \"n_stations\",\n",
        "                \"metric\",\n",
        "                \"average_retail_price\",\n",
        "                \"stddev_retail_price\",\n",
        "                \"min_retail_price\",\n",
        "                \"max_retail_price\",\n",
        "                \"avg_retail_margin\",\n",
        "                \"retail_variance\",\n",
        "                \"avg_distribution_price\",\n",
        "                \"stddev_distribution_price\",\n",
        "                \"min_distribution_price\",\n",
        "                \"max_distribution_price\",\n",
        "                \"distribution_variance\"\n",
        "                ]"
      ],
      "execution_count": 0,
      "outputs": []
    },
    {
      "cell_type": "markdown",
      "metadata": {
        "colab_type": "text",
        "id": "vfV4ANFUrFgT"
      },
      "source": [
        "## Pandas objects and data types\n",
        "\n",
        "Pandas two main data containers:\n",
        "- **Series:** represents a unidimensional data series of the same type (numbers, names, ages, etc.).\n",
        "- **DataFrame:** collection of series, where each series presents its own type.\n",
        "\n",
        "The Pandas object we create with the `read_csv()` method is a `DataFrame`, since the `.csv` file presents several features. Each column in that file is interpreted by Pandas as a `Series`. We can check the type of an object using the method `type()`.\n",
        "\n",
        "In addition, `DataFrame` objects present an `info()` method, which summarizes the data types used to represent features and the number of not null values in each feature, to cite a couple."
      ]
    },
    {
      "cell_type": "markdown",
      "metadata": {
        "colab_type": "text",
        "id": "6bSwtUU24Tw5"
      },
      "source": [
        "4.1 - Use the `type()` method to check the type of the object to which the name `data` refers:"
      ]
    },
    {
      "cell_type": "code",
      "metadata": {
        "colab_type": "code",
        "id": "ooO8jOxZmhXs",
        "colab": {}
      },
      "source": [
        "# type(data)"
      ],
      "execution_count": 0,
      "outputs": []
    },
    {
      "cell_type": "markdown",
      "metadata": {
        "id": "U5gO2zgC0Hz3",
        "colab_type": "text"
      },
      "source": [
        "4.2 - Use the `info()` method to check for a summary of your `DataFrame`:"
      ]
    },
    {
      "cell_type": "code",
      "metadata": {
        "scrolled": true,
        "id": "mtuOPpId0Hz4",
        "colab_type": "code",
        "colab": {}
      },
      "source": [
        ""
      ],
      "execution_count": 0,
      "outputs": []
    },
    {
      "cell_type": "markdown",
      "metadata": {
        "colab_type": "text",
        "id": "775_kWpW63uB"
      },
      "source": [
        "When we analyze data, it's important to make sure that the correct data types are being used, since some operations can only be performed for certain data types. Pandas is able to infer some data types, but it's important to double-check the automatically selected types. For more info on Pandas data types, check this [link](https://pbpython.com/pandas_dtypes.html).\n",
        "\n",
        "\n",
        "\n"
      ]
    },
    {
      "cell_type": "markdown",
      "metadata": {
        "colab_type": "text",
        "id": "exC3uedG8ja0"
      },
      "source": [
        "Pandas main data types are the following:\n",
        "\n",
        "| Type       | Description      |\n",
        "|------------|------------------|\n",
        "| object     | Text format     |\n",
        "| int64      | Integer numbers  |\n",
        "| float64    | Decimal numbers  |\n",
        "| datetime64 | Date and time    |\n",
        "| bool       | True or False    |\n",
        "\n",
        "It's important to notice that dataframe features incorrectly represented will prevent their proper analysis. In this case, we need to convert the data type to the correct one. In Pandas, the attribute `dtypes` gives the data types for all features in a `DataFrame`:"
      ]
    },
    {
      "cell_type": "markdown",
      "metadata": {
        "colab_type": "text",
        "id": "v20ZUxUVDPHn"
      },
      "source": [
        "4.2 - Use the `dtypes` attribute to check the data types of the dataframe:"
      ]
    },
    {
      "cell_type": "code",
      "metadata": {
        "colab_type": "code",
        "id": "Y_CI_FiR3GOG",
        "colab": {}
      },
      "source": [
        "data.dtypes"
      ],
      "execution_count": 0,
      "outputs": []
    },
    {
      "cell_type": "markdown",
      "metadata": {
        "colab_type": "text",
        "id": "z-H_YIaEF-h7"
      },
      "source": [
        "It's possible to convert data types in Pandas using the `astype()` method. For instance, we can change the type of a feature in a `DataFrame` named `data` as follows:\n",
        "\n",
        "```python\n",
        "data['feature'] = data['feature'].astype('new_type')\n",
        "```"
      ]
    },
    {
      "cell_type": "markdown",
      "metadata": {
        "colab_type": "text",
        "id": "6M6E3nK8HRls"
      },
      "source": [
        "**4.3** - Use the `astype()` method to change the type of feature 'avg_retail_price' to `float64`."
      ]
    },
    {
      "cell_type": "code",
      "metadata": {
        "colab_type": "code",
        "id": "8V39_bbXCx0w",
        "colab": {}
      },
      "source": [
        "# data['avg_retail_price'] = data['avg_retail_price'].astype('float64')"
      ],
      "execution_count": 0,
      "outputs": []
    },
    {
      "cell_type": "markdown",
      "metadata": {
        "colab_type": "text",
        "id": "RDDQ8cy7Iy8G"
      },
      "source": [
        "Running the cell above must have produced the following error:\n",
        "\n",
        "```python3\n",
        "ValueError: could not convert string to float: '1,948'\n",
        "```\n",
        "\n",
        "Python produces this error because the original dataset used commas rather than periods to indicate decimal values. This way, we would need to fix the type of each feature of our `DataFrame`."
      ]
    },
    {
      "cell_type": "markdown",
      "metadata": {
        "colab_type": "text",
        "id": "t2XhghSFLJKV"
      },
      "source": [
        "Fortunately, the `read_csv()` method presents a number of arguments, one of which indicates to Pandas that the dataset being read is using commas instead of periods:\n",
        "```python\n",
        "data = read_csv('/content/SEMANAL_BRASIL-DESDE_2013.csv', decimal=',')\n",
        "```"
      ]
    },
    {
      "cell_type": "markdown",
      "metadata": {
        "colab_type": "text",
        "id": "x2m5YlM-Mya3"
      },
      "source": [
        "4.4 - Read the CSV file again and name it `data2`:\n",
        "\n",
        "- tell the `read_csv()` method to use the comma as decimal value separator, like in the example above.\n",
        "- check the `dtypes` attribute to verify the data types inferred by Pandas."
      ]
    },
    {
      "cell_type": "code",
      "metadata": {
        "colab_type": "code",
        "id": "InupM7IHNHM9",
        "colab": {}
      },
      "source": [
        "# use the read_csv() method"
      ],
      "execution_count": 0,
      "outputs": []
    },
    {
      "cell_type": "code",
      "metadata": {
        "colab_type": "code",
        "id": "11wB10qGNJ75",
        "scrolled": true,
        "colab": {}
      },
      "source": [
        "# check the dtypes attribute"
      ],
      "execution_count": 0,
      "outputs": []
    }
  ]
}