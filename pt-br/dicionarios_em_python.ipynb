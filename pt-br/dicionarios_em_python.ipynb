{
  "nbformat": 4,
  "nbformat_minor": 0,
  "metadata": {
    "colab": {
      "name": "dicionarios_em_python.ipynb",
      "provenance": [],
      "include_colab_link": true
    },
    "kernelspec": {
      "name": "python3",
      "display_name": "Python 3"
    }
  },
  "cells": [
    {
      "cell_type": "markdown",
      "metadata": {
        "id": "view-in-github",
        "colab_type": "text"
      },
      "source": [
        "<a href=\"https://colab.research.google.com/github/jonathanjalles/pandas-zero/blob/master/dicionarios_em_python.ipynb\" target=\"_parent\"><img src=\"https://colab.research.google.com/assets/colab-badge.svg\" alt=\"Open In Colab\"/></a>"
      ]
    },
    {
      "cell_type": "markdown",
      "metadata": {
        "id": "ZXDz9i2B_4dg",
        "colab_type": "text"
      },
      "source": [
        "# Primeiros passos em análise de dados com python\n",
        "## Dicionários em python\n",
        "\n",
        "Nesse tutorial vamos aprender o que são dicionários na linguagem python e como podemos utilizá-los.\n",
        "\n",
        "Um dicionário em python pode ser visto como uma estrutura que permite armazenar dados num forma de chave e valor, como em um dicionário de palavras, onde buscamos o significado (valor) de determinado termo (chave), com a diferença de que podemos associar qualquer tipo de dado como chave e valor em um dicionário python.\n",
        "\n"
      ]
    },
    {
      "cell_type": "markdown",
      "metadata": {
        "id": "z34DCmmuZ3xI",
        "colab_type": "text"
      },
      "source": [
        "# 1. Criando um dicionário em python\n",
        "\n",
        "\n",
        "para criar um dicionário em python devemos utilizar **chaves** ({}), que irão conter os conjuntos chave:valor. No exemplo abaixo, execute o código para criar um dicionário contendo modelos de carros como chave e o respectivo fabricante como valor, que é armazenado na variável *carros*."
      ]
    },
    {
      "cell_type": "code",
      "metadata": {
        "id": "4-qehn1jWXky",
        "colab_type": "code",
        "colab": {}
      },
      "source": [
        "carros = {'onix':'chevrolet', 'argo':'fiat', 'polo':'volkswagem', 'fiesta':'ford'}"
      ],
      "execution_count": 0,
      "outputs": []
    },
    {
      "cell_type": "markdown",
      "metadata": {
        "id": "KHuIal0zi71e",
        "colab_type": "text"
      },
      "source": [
        "Para visualizar um dicionário, podemos utilizar a função ***print()***, com o nome do dicionário como parâmetro:\n",
        "\n",
        "\n",
        "```\n",
        "print(nome_do_dicionário)\n",
        "```\n",
        "\n",
        "Ex. 1.1: Na célula a seguir, mostre o dicionário carros.\n"
      ]
    },
    {
      "cell_type": "code",
      "metadata": {
        "id": "3Ml524KrjN7F",
        "colab_type": "code",
        "colab": {}
      },
      "source": [
        "#print o dicionario"
      ],
      "execution_count": 0,
      "outputs": []
    },
    {
      "cell_type": "markdown",
      "metadata": {
        "id": "t4F7ftFAbpUo",
        "colab_type": "text"
      },
      "source": [
        "Perceba que cada par 'chave':'valor' é separado por vírgulas. O uso de aspas simpes ou duplas ('' ou \"\") é obrigatório para valores que não são números.\n",
        "\n",
        "Em python, podemos utilizar a função ***type()*** para verificar o tipo de uma variável. para isso, basta utilizar a seguinte estrutura:\n",
        "\n",
        "```\n",
        "print(type(variavel))\n",
        "```\n",
        "\n",
        "EX. 1.2: Na célula abaixo, utilize a função type para verificar o tipo da variável *carros*."
      ]
    },
    {
      "cell_type": "code",
      "metadata": {
        "id": "qzLsTauAccdn",
        "colab_type": "code",
        "colab": {}
      },
      "source": [
        "#mostre o tipo aqui"
      ],
      "execution_count": 0,
      "outputs": []
    },
    {
      "cell_type": "markdown",
      "metadata": {
        "id": "o-oF0TcXs0l4",
        "colab_type": "text"
      },
      "source": [
        "Os métodos ***values()*** e ***keys()*** permitem listar todos os valores e chaves de um dicionário. O exemplo abaixo permite visualizar todos os valores do dicionário *carros*:\n",
        "\n",
        "\n",
        "```\n",
        "print(carros.values())\n",
        "```\n",
        "Ex. 1.3: Nas próximas células, mostre os valores e chaves do dicionário *carros*\n"
      ]
    },
    {
      "cell_type": "code",
      "metadata": {
        "id": "SXyYdpGvtT8u",
        "colab_type": "code",
        "colab": {}
      },
      "source": [
        "#Mostre os valores\n"
      ],
      "execution_count": 0,
      "outputs": []
    },
    {
      "cell_type": "code",
      "metadata": {
        "id": "HdAcGtTvtZo4",
        "colab_type": "code",
        "colab": {}
      },
      "source": [
        "#Mostre as chaves\n"
      ],
      "execution_count": 0,
      "outputs": []
    },
    {
      "cell_type": "markdown",
      "metadata": {
        "id": "PIf41X5jemr8",
        "colab_type": "text"
      },
      "source": [
        "# 2. Acessando dados de um dicionário\n",
        "As chaves em um dicionário funcionam como índices em uma lista. Assim, para consultar um valor em um dicionário, basta utilizar o formato mostrado abaixo:\n",
        "\n",
        "```\n",
        "print(variavel['chave'])\n",
        "```\n",
        "\n",
        "Por exemplo, para visualizar qual o fabricante do carro *argo* no nosso dicionário de carros:\n",
        "\n",
        "```\n",
        "print(carros['argo'])\n",
        "```\n",
        "Ex. 2.1: Na célula a seguir, mostre qual o fabricante do carro *polo*.\n",
        "\n"
      ]
    },
    {
      "cell_type": "code",
      "metadata": {
        "id": "MPLYHV_HboUx",
        "colab_type": "code",
        "colab": {}
      },
      "source": [
        "#mostre o fabricante do carro polo"
      ],
      "execution_count": 0,
      "outputs": []
    },
    {
      "cell_type": "markdown",
      "metadata": {
        "id": "E3f6MgOfhjcl",
        "colab_type": "text"
      },
      "source": [
        "É possível verificar se determinado dados existe no dicionário. Para isso, basta utilizar a palavra reservada **in**, da seguinte forma:\n",
        "\n",
        "\n",
        "```\n",
        "print('chave' in nome_do_dicionário)\n",
        "```\n",
        "Essa expressão irá retornar ***True*** ou ***False***.\n",
        "\n",
        "Ex. 2.2: Na célula abaixo, verifique se existe o carro *mobi* no dicionário carros.\n"
      ]
    },
    {
      "cell_type": "code",
      "metadata": {
        "id": "knhlfKpggUFt",
        "colab_type": "code",
        "colab": {}
      },
      "source": [
        "#verifique aqui"
      ],
      "execution_count": 0,
      "outputs": []
    },
    {
      "cell_type": "markdown",
      "metadata": {
        "id": "mHuRDQ0Nipcl",
        "colab_type": "text"
      },
      "source": [
        "Ex. 2.3: Verifique se existe o carro *onix* no dicionário carros.\n",
        "\n"
      ]
    },
    {
      "cell_type": "code",
      "metadata": {
        "id": "48Kv8PcQilFe",
        "colab_type": "code",
        "colab": {}
      },
      "source": [
        "#verifique nessa célula"
      ],
      "execution_count": 0,
      "outputs": []
    },
    {
      "cell_type": "markdown",
      "metadata": {
        "id": "i6wrA9atjY8N",
        "colab_type": "text"
      },
      "source": [
        "Nos exemplos anteriores, vimos como acessar dados de um dicionário a partir de suas chaves. Para verificar se um valor existe no dicionário, precisamos utilizar o método ***values()*** do dicionário.\n",
        "\n",
        "\n",
        "```\n",
        "print('valor' in nome_do_dicionario.values())\n",
        "```\n",
        "\n",
        "Ex. 2.4: Verifique se existe algum carro do fabricante *toyota* no dicionário *carros*."
      ]
    },
    {
      "cell_type": "code",
      "metadata": {
        "id": "9UlwYC27ioN8",
        "colab_type": "code",
        "colab": {}
      },
      "source": [
        "#verifique nessa célula"
      ],
      "execution_count": 0,
      "outputs": []
    },
    {
      "cell_type": "markdown",
      "metadata": {
        "id": "B38FzmPykNI8",
        "colab_type": "text"
      },
      "source": [
        "Ex. 2.5: Verifique se existe algum carro do fabricante *fiat*."
      ]
    },
    {
      "cell_type": "code",
      "metadata": {
        "id": "p1bxhFRNkLy-",
        "colab_type": "code",
        "colab": {}
      },
      "source": [
        "#verifique aqui"
      ],
      "execution_count": 0,
      "outputs": []
    },
    {
      "cell_type": "markdown",
      "metadata": {
        "id": "q6Dcq71lmJB2",
        "colab_type": "text"
      },
      "source": [
        "# 3. Adicionando novos valores ao dicionário\n",
        "Para adicionar um novo conjunto 'chave':'valor' em um dicionário existente, basta utilizar a sintaxe mostrada abaixo, informando a chave e o valor.\n",
        "\n",
        "\n",
        "```\n",
        "nome_do_dicionario['nova_chave'] = 'novo_valor'\n",
        "```\n",
        "\n",
        "Ex. 3.1: Adicione o carro *etios* da fabricante *toyota* ao dicionário *carros* e mostre o dicionário em seguida."
      ]
    },
    {
      "cell_type": "code",
      "metadata": {
        "id": "IvsOqqy4kWys",
        "colab_type": "code",
        "colab": {}
      },
      "source": [
        "#adicione aqui"
      ],
      "execution_count": 0,
      "outputs": []
    },
    {
      "cell_type": "code",
      "metadata": {
        "id": "nQG1Ag9QnyWe",
        "colab_type": "code",
        "colab": {}
      },
      "source": [
        "#print o dicionario"
      ],
      "execution_count": 0,
      "outputs": []
    },
    {
      "cell_type": "markdown",
      "metadata": {
        "id": "dX86D5SwoCKQ",
        "colab_type": "text"
      },
      "source": [
        "É possível também juntar dois dicionários, utilizando o método ***update()***. Nesse caso, um dos dicionários será acrescido dos dados do outro dicionário. Caso exista o mesmo conjunto chave:valor em ambos, somente um deles permanecerá no dicionário resultante. Também, se uma mesma chave tiver dois valore distintos em cada dicionário, o valor do segunto dicionário substituirá aquele na chave no primeiro. A sintaxe para utilizar o método está mostrada abaixo.\n",
        "\n",
        "\n",
        "```\n",
        "dicionario_1.update(dicionario_2)\n",
        "```\n",
        "Execute a célula a seguir para criar o dicionário *carros_2*.\n"
      ]
    },
    {
      "cell_type": "code",
      "metadata": {
        "id": "Te05M0rqn0OW",
        "colab_type": "code",
        "outputId": "ba3b837f-22a4-4377-c8db-76b975bacdee",
        "colab": {
          "base_uri": "https://localhost:8080/",
          "height": 34
        }
      },
      "source": [
        "carros_2={'onix':'chevrolet', 'ka':'ford', 'mobi':'fiat', 'up!':'volkswagen', 'prisma':'chevrolet', 'hb20':'hiunday'}\n",
        "print(carros_2)"
      ],
      "execution_count": 13,
      "outputs": [
        {
          "output_type": "stream",
          "text": [
            "{'onix': 'chevrolet', 'ka': 'ford', 'mobi': 'fiat', 'up!': 'volkswagen', 'prisma': 'chevrolet', 'hb20': 'hiunday'}\n"
          ],
          "name": "stdout"
        }
      ]
    },
    {
      "cell_type": "markdown",
      "metadata": {
        "id": "pii7utDrrgkX",
        "colab_type": "text"
      },
      "source": [
        "Ex. 3.2: Atualize o dicionário *carros* com os dados de *carros_2*, utilizando o método ***update()*** e mostre o dicionário resultante."
      ]
    },
    {
      "cell_type": "code",
      "metadata": {
        "id": "ei0MU0oNp0mf",
        "colab_type": "code",
        "colab": {}
      },
      "source": [
        "#atualize aqui\n"
      ],
      "execution_count": 0,
      "outputs": []
    },
    {
      "cell_type": "code",
      "metadata": {
        "id": "Jvg2foUEp3er",
        "colab_type": "code",
        "colab": {}
      },
      "source": [
        "#print o dicionario carros"
      ],
      "execution_count": 0,
      "outputs": []
    }
  ]
}