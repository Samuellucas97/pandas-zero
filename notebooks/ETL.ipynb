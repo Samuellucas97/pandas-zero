{
 "cells": [
  {
   "cell_type": "markdown",
   "metadata": {
    "colab_type": "text",
    "id": "0B2-Fre4om96"
   },
   "source": [
    "# Extração, transformação e carga de dados"
   ]
  },
  {
   "cell_type": "markdown",
   "metadata": {},
   "source": [
    "O processo de ETL é uma parte fundamental do trabalho com dados e consiste em três etapas:\n",
    "\n",
    "- **Extração**: a coleta de dados, potencialmente a partir de múltiplas fontes heterogêneas. Pode envolver raspagem de páginas web, acesso a interfaces de programação (APIs) ou consultas a bancos de dados.\n",
    "- **Transformação**: a reorganização dos dados, envolvendo operações como união, cruzamento e agregação.\n",
    "- **Carga**: a persistência do novo conjunto de dados onde se quer armazená-lo.\n",
    "\n",
    "Este notebook foca em exemplos de métodos de transformação com o Pandas.\n",
    "\n",
    "Para isso usaremos três dataframes artificiais em nossos exemplos: `df_a`, `df_b` e `df_c`."
   ]
  },
  {
   "cell_type": "markdown",
   "metadata": {},
   "source": [
    "## Criando dataframes a partir de dicionários"
   ]
  },
  {
   "cell_type": "markdown",
   "metadata": {},
   "source": [
    "Como vamos criar dataframes customizados para nossos exemplos, precisaremos do auxílio de **dicionários**.\n",
    "\n",
    "Um dicionário é um tipo de objeto Python que permite armazenar valores indexados por chaves, similar ao que o `DataFrame` do Pandas faz.\n",
    "\n",
    "Usamos a notação abaixo para criar um dicionário:\n",
    "\n",
    "```python3\n",
    "nome = {\n",
    "        chave1: valor1,\n",
    "        chave2: valor2,\n",
    "        ...\n",
    "        chaveN: valorN\n",
    "        }\n",
    "```\n",
    "\n",
    "Acessamos um valor em um dicionário através da sua chave, usando a notação `dicionário[chave]`.\n",
    "\n",
    "No exemplo a seguir, o dicionário `dados_df_a` têm como chaves os nomes das séries associadas:"
   ]
  },
  {
   "cell_type": "code",
   "execution_count": null,
   "metadata": {
    "colab": {},
    "colab_type": "code",
    "id": "nlIGu2BGr8ei"
   },
   "outputs": [],
   "source": [
    "import pandas as pd"
   ]
  },
  {
   "cell_type": "code",
   "execution_count": null,
   "metadata": {
    "colab": {
     "base_uri": "https://localhost:8080/",
     "height": 206
    },
    "colab_type": "code",
    "id": "kqM_UUgHpnvg",
    "outputId": "fa6fdb9d-d936-4692-f27b-e96db6ca8497"
   },
   "outputs": [],
   "source": [
    "dados_df_a = {\n",
    "            'id_indivíduo': ['1', '2', '3', '4', '5'],\n",
    "            'nome': ['Alex', 'Amy', 'Allen', 'Alice', 'Ayoung'], \n",
    "            'sobrenome': ['Anderson', 'Ackerman', 'Ali', 'Aoni', 'Atiches']\n",
    "            }"
   ]
  },
  {
   "cell_type": "markdown",
   "metadata": {},
   "source": [
    "Note que cada série é representada como uma lista.\n",
    "\n",
    "Criar um `DataFrame` a partir de um dicionário é bem simples:"
   ]
  },
  {
   "cell_type": "code",
   "execution_count": null,
   "metadata": {},
   "outputs": [],
   "source": [
    "df_a = pd.DataFrame(dados_df_a)\n",
    "df_a"
   ]
  },
  {
   "cell_type": "markdown",
   "metadata": {},
   "source": [
    "Seguindo o mesmo modelo, vamos criar o dataframe `df_b`:"
   ]
  },
  {
   "cell_type": "code",
   "execution_count": null,
   "metadata": {
    "colab": {
     "base_uri": "https://localhost:8080/",
     "height": 206
    },
    "colab_type": "code",
    "id": "x3Zbn8mZpq14",
    "outputId": "1f8cb4f1-13f0-4188-bce3-1e063c9aac77"
   },
   "outputs": [],
   "source": [
    "dados_df_b = {\n",
    "            'id_indivíduo': ['4', '5', '6', '7', '8'],\n",
    "            'nome': ['Billy', 'Brian', 'Bran', 'Bryce', 'Betty'], \n",
    "            'sobrenome': ['Bonder', 'Black', 'Balwner', 'Brice', 'Btisan']\n",
    "            }"
   ]
  },
  {
   "cell_type": "code",
   "execution_count": null,
   "metadata": {},
   "outputs": [],
   "source": [
    "df_b = pd.DataFrame(dados_df_b)\n",
    "df_b"
   ]
  },
  {
   "cell_type": "code",
   "execution_count": null,
   "metadata": {
    "colab": {
     "base_uri": "https://localhost:8080/",
     "height": 363
    },
    "colab_type": "code",
    "id": "ta7bz-NupvaQ",
    "outputId": "fa86c30f-2931-4cb5-e13d-bf14407433e9"
   },
   "outputs": [],
   "source": [
    "dados_df_c = {\n",
    "            'id_indivíduo': ['1', '2', '3', '4', '5', '7', '8', '9', '10', '11'],\n",
    "            'id_exame': [51, 15, 15, 61, 16, 14, 15, 1, 61, 16]\n",
    "            }"
   ]
  },
  {
   "cell_type": "code",
   "execution_count": null,
   "metadata": {},
   "outputs": [],
   "source": [
    "df_c = pd.DataFrame(dados_df_c)\n",
    "df_c"
   ]
  },
  {
   "cell_type": "markdown",
   "metadata": {
    "colab_type": "text",
    "id": "b7N9kTsvq7je"
   },
   "source": [
    "## União de dados"
   ]
  },
  {
   "cell_type": "markdown",
   "metadata": {},
   "source": [
    "Uma das operações comuns é unir observações que apresentam as mesmas características, mas estão em diferentes dataframes. \n",
    "\n",
    "Para isso usaremos o comando `concat` que recebe uma lista com ***n*** objetos `DataFrame` como parâmetro."
   ]
  },
  {
   "cell_type": "code",
   "execution_count": null,
   "metadata": {
    "colab": {
     "base_uri": "https://localhost:8080/",
     "height": 363
    },
    "colab_type": "code",
    "id": "vooEfpVNqBWO",
    "outputId": "6ff866f5-1291-44d3-dff8-8555f549fdbf"
   },
   "outputs": [],
   "source": [
    "df_new = pd.concat([df_a, df_b])\n",
    "df_new"
   ]
  },
  {
   "cell_type": "markdown",
   "metadata": {},
   "source": [
    "Também seria possíve unir objetos `DataFrame` com características distintas.\n",
    "\n",
    "No entanto, essa operação produziria um `DataFrame` com muitos dados faltando:"
   ]
  },
  {
   "cell_type": "code",
   "execution_count": null,
   "metadata": {},
   "outputs": [],
   "source": [
    "pd.concat([df_a, df_c])"
   ]
  },
  {
   "cell_type": "markdown",
   "metadata": {
    "colab_type": "text",
    "id": "VORqJSeiro6V"
   },
   "source": [
    "## Cruzando dados"
   ]
  },
  {
   "cell_type": "markdown",
   "metadata": {},
   "source": [
    "No exemplo anterior, vimos o resultado de unir dataframes cujas características não são idênticas.\n",
    "\n",
    "No entanto, quanto temos pelo menos uma característica em comum entre dois dataframes, podemos **cruzar**\n",
    " esses dados, produzindo um novo dataframe que reúne toda a informação dos dataframes originais.\n",
    "\n",
    "No exemplo, abaixo as observações do dataframe **à esquerda** (`df_a`) e do dataframe **à direita** (`df_c`) foram cruzadas, tomando como característica em comum `id_indivíduo`. \n",
    "\n",
    "Como você pode ver, o novo dataframe reúne as informações de ambos os dataframes usados no cruzamento dos dados:"
   ]
  },
  {
   "cell_type": "code",
   "execution_count": null,
   "metadata": {
    "colab": {
     "base_uri": "https://localhost:8080/",
     "height": 206
    },
    "colab_type": "code",
    "id": "hOYwt4AhrASD",
    "outputId": "865c76f2-a7ba-481a-eb78-d11bc1150198"
   },
   "outputs": [],
   "source": [
    "pd.merge(df_a, df_c, on='id_indivíduo')"
   ]
  },
  {
   "cell_type": "markdown",
   "metadata": {},
   "source": [
    "Em algumas situações, a mesma característica pode estar representada por diferentes nomes nos dataframes que se deseja cruzar.\n",
    "\n",
    "Nesses casos, podemos usar os argumentos `left_on` e `right_on` para especificar, respectivamente, os nomes da característica no dataframe à esquerda e no dataframe à direita."
   ]
  },
  {
   "cell_type": "markdown",
   "metadata": {},
   "source": [
    "### Tipos de cruzamento"
   ]
  },
  {
   "cell_type": "markdown",
   "metadata": {
    "colab_type": "text",
    "id": "AFgwiPl1tfpZ"
   },
   "source": [
    "Uma operação de cruzamento de dados combina dados de dois dataframes que apresentem uma característica em comum.\n",
    "\n",
    "No exemplo anterior, a característica em comum era o campo `id_indivíduo`.\n",
    "\n",
    "Note que as observações presentes no dataframe `df_c` cujos valores para `id_indivíduo` não estão presentes no dataframe `df_a` não foram mostradas.\n",
    "\n",
    "Se quisermos que essas observações sejam preservadas, podemos usar um **cruzamento à direita**."
   ]
  },
  {
   "cell_type": "code",
   "execution_count": null,
   "metadata": {
    "colab": {
     "base_uri": "https://localhost:8080/",
     "height": 363
    },
    "colab_type": "code",
    "id": "6d1e2sotriDg",
    "outputId": "b330cb6a-3031-4cde-da88-8fbc19d04e7b"
   },
   "outputs": [],
   "source": [
    "pd.merge(df_a, df_c, on='id_indivíduo', how='right')"
   ]
  },
  {
   "cell_type": "markdown",
   "metadata": {},
   "source": [
    "O resultado acima mostra tanto as observações com `id_indivíduo` presentes nos dois dataframes como o restante das observações do dataframe à direita. \n",
    "\n",
    "Note que as observações adicionadas pelo cruzamento à direita apresentam dados faltando.\n",
    "\n",
    "O mesmo aconteceria se usássemos um **cruzamento à esquerda**:"
   ]
  },
  {
   "cell_type": "code",
   "execution_count": null,
   "metadata": {
    "colab": {
     "base_uri": "https://localhost:8080/",
     "height": 206
    },
    "colab_type": "code",
    "id": "eQtXG1O9tyxC",
    "outputId": "520afea5-31ae-449f-9989-8547e3f1edc0"
   },
   "outputs": [],
   "source": [
    "pd.merge(df_b, df_c, on='id_indivíduo', how='left')"
   ]
  },
  {
   "cell_type": "markdown",
   "metadata": {},
   "source": [
    "Nesse caso, a observação do dataframe `df_b` cujo `id_indivíduo` não estava presente no dataframe `df_c` foi mantida.\n",
    "\n",
    "Em um caso mais extremo, podemos usar um **cruzamento externo**, que mantém todas as observações de ambos os dataframes:"
   ]
  },
  {
   "cell_type": "code",
   "execution_count": null,
   "metadata": {
    "scrolled": true
   },
   "outputs": [],
   "source": [
    "pd.merge(df_b, df_c, on='id_indivíduo', how='outer')"
   ]
  },
  {
   "cell_type": "markdown",
   "metadata": {},
   "source": [
    "## Agregando dados"
   ]
  },
  {
   "cell_type": "markdown",
   "metadata": {
    "colab_type": "text",
    "id": "mr0bivNhz5g1"
   },
   "source": [
    "As operações de união e cruzamento tem por objetivo reunir informações espalhadas em múltiplas bases em um único dataframe.\n",
    "\n",
    "Um tipo complementar de operação é a **agregação**, que visa resumir blocos de informações através de estatísticas descritivas. \n",
    "\n",
    "As principais formas de agregação são obtidas por meio de pivoteamento, seja unidimensional (**grupos**) ou bidimensional (**tabelas dinâmicas**).  "
   ]
  },
  {
   "cell_type": "markdown",
   "metadata": {},
   "source": [
    "### Grupos"
   ]
  },
  {
   "cell_type": "markdown",
   "metadata": {},
   "source": [
    "Organizar os dados em grupos pode ser útil tanto para analisar cada grupo como para calcular estatísticas por grupo.\n",
    "\n",
    "O primeiro passo da agregação é definir uma ou mais características usadas como fatores do agrupamento.\n",
    "\n",
    "No exemplo abaixo, agrupamos os dados do dataset `iris`.\n",
    "\n",
    "Este dataset é o mais baixado do repositório de aprendizado de máquina [UCI](https://archive.ics.uci.edu/ml/), listando medidas de pétalas e sépalas de três espécies de flores de íris.\n",
    "\n",
    "Por conveniência, vamos baixá-lo da biblioteca `seaborn`:"
   ]
  },
  {
   "cell_type": "code",
   "execution_count": null,
   "metadata": {
    "colab": {
     "base_uri": "https://localhost:8080/",
     "height": 424
    },
    "colab_type": "code",
    "id": "L4hQN72UwOXG",
    "outputId": "0074b94b-b657-483e-dbd9-dc622729eb20",
    "scrolled": false
   },
   "outputs": [],
   "source": [
    "import seaborn as sns\n",
    "dados_íris = sns.load_dataset('iris')\n",
    "dados_íris"
   ]
  },
  {
   "cell_type": "markdown",
   "metadata": {},
   "source": [
    "Como podemos ver, o dataset contém largura e altura das sépalas e pétalas de 150 amostras de flor íris.\n",
    "\n",
    "Vamos ver quantos exemplos temos por espécie:"
   ]
  },
  {
   "cell_type": "code",
   "execution_count": null,
   "metadata": {
    "scrolled": true
   },
   "outputs": [],
   "source": [
    "dados_íris['species'].value_counts()"
   ]
  },
  {
   "cell_type": "markdown",
   "metadata": {},
   "source": [
    "Para agrupar este dataset por espécie, podemos usar o método `groupby()`:"
   ]
  },
  {
   "cell_type": "code",
   "execution_count": null,
   "metadata": {},
   "outputs": [],
   "source": [
    "grupos_íris = dados_íris.groupby(['species'])"
   ]
  },
  {
   "cell_type": "markdown",
   "metadata": {},
   "source": [
    "Podemos, então, tratar cada um grupo como um `DataFrame` usando o método `get_group()`:"
   ]
  },
  {
   "cell_type": "code",
   "execution_count": null,
   "metadata": {
    "colab": {
     "base_uri": "https://localhost:8080/",
     "height": 206
    },
    "colab_type": "code",
    "id": "au2wu-eoz7xy",
    "outputId": "0fe0e347-1391-4334-8416-859a27cdc425"
   },
   "outputs": [],
   "source": [
    "grupos_íris.get_group('versicolor').head()"
   ]
  },
  {
   "cell_type": "markdown",
   "metadata": {
    "colab_type": "text",
    "id": "V9KZvaTs3xeE"
   },
   "source": [
    "O agrupamento nos permite computar estatísticas sobre os grupos ao mesmo tempo ou individualmente:"
   ]
  },
  {
   "cell_type": "markdown",
   "metadata": {},
   "source": [
    "#### Ao mesmo tempo"
   ]
  },
  {
   "cell_type": "code",
   "execution_count": null,
   "metadata": {
    "colab": {
     "base_uri": "https://localhost:8080/",
     "height": 175
    },
    "colab_type": "code",
    "id": "ExMniwVl2HzQ",
    "outputId": "20357bce-ccfc-4526-c72e-562cf503cc90",
    "scrolled": true
   },
   "outputs": [],
   "source": [
    "grupos_íris.min()"
   ]
  },
  {
   "cell_type": "code",
   "execution_count": null,
   "metadata": {
    "colab": {
     "base_uri": "https://localhost:8080/",
     "height": 175
    },
    "colab_type": "code",
    "id": "vU8eE5YI38a8",
    "outputId": "8634478d-7955-4164-dcec-6818f746c019",
    "scrolled": true
   },
   "outputs": [],
   "source": [
    "grupos_íris.max()"
   ]
  },
  {
   "cell_type": "code",
   "execution_count": null,
   "metadata": {
    "colab": {
     "base_uri": "https://localhost:8080/",
     "height": 175
    },
    "colab_type": "code",
    "id": "Z0aRCbeb0MZx",
    "outputId": "85d4e9db-70c2-4835-c4a0-1c8ac42608f1",
    "scrolled": false
   },
   "outputs": [],
   "source": [
    "grupos_íris.mean()"
   ]
  },
  {
   "cell_type": "markdown",
   "metadata": {},
   "source": [
    "#### Individualmente"
   ]
  },
  {
   "cell_type": "code",
   "execution_count": null,
   "metadata": {
    "colab": {
     "base_uri": "https://localhost:8080/",
     "height": 175
    },
    "colab_type": "code",
    "id": "Z0aRCbeb0MZx",
    "outputId": "85d4e9db-70c2-4835-c4a0-1c8ac42608f1",
    "scrolled": false
   },
   "outputs": [],
   "source": [
    "grupos_íris.get_group(\"versicolor\").describe()"
   ]
  },
  {
   "cell_type": "code",
   "execution_count": null,
   "metadata": {
    "scrolled": true
   },
   "outputs": [],
   "source": [
    "grupo_versicolor = grupos_íris.get_group(\"versicolor\")\n",
    "grupo_versicolor.count()"
   ]
  },
  {
   "cell_type": "markdown",
   "metadata": {},
   "source": [
    "#### Agregando por múltiplas características"
   ]
  },
  {
   "cell_type": "markdown",
   "metadata": {},
   "source": [
    "Um recurso poderoso do Pandas é permitir agregações a partir de múltiplas características.\n",
    "\n",
    "Em geral, usamos esse recurso quando temos um conjunto de dados que apresentam características categóricas e númericas.\n",
    "\n",
    "No dataset `iris`, no entanto, temos apenas uma características categórica disponível.\n",
    "\n",
    "Vamos aproveitar essa situação e dar uma olhada em um recurso bem legal do Pandas, chamado discretização em intervalos:"
   ]
  },
  {
   "cell_type": "code",
   "execution_count": null,
   "metadata": {
    "scrolled": true
   },
   "outputs": [],
   "source": [
    "pd.cut(dados_íris[\"petal_width\"], bins=3)"
   ]
  },
  {
   "cell_type": "markdown",
   "metadata": {},
   "source": [
    "Entendeu o que aconteceu? \n",
    "\n",
    "O método `cut()` calculou os valores máximo e mínimo para a característica `petal_width` e dividiu esse intervalo em três subintervalos.\n",
    "\n",
    "Assim, cada um dos valores originais foi substituído pelo subintervalo ao qual ele pertecene e passamos ter uma varíavel categórica 😄\n",
    "\n",
    "Vamos substituir os dados originais pelos dados categorizados:"
   ]
  },
  {
   "cell_type": "code",
   "execution_count": null,
   "metadata": {},
   "outputs": [],
   "source": [
    "dados_íris[\"petal_width\"] = pd.cut(dados_íris[\"petal_width\"], bins=3)\n",
    "dados_íris"
   ]
  },
  {
   "cell_type": "markdown",
   "metadata": {},
   "source": [
    "Um recurso adicional do Pandas para lidar com características categóricas é renomear as categorias.\n",
    "\n",
    "Vamos renomear os subintervalos gerados.\n",
    "\n",
    "Note que desta vez estamos alterando os dados originais diretamente usando a opção `inplace=True` (quase todos os métodos Pandas aceitam essa opção)."
   ]
  },
  {
   "cell_type": "code",
   "execution_count": null,
   "metadata": {
    "scrolled": true
   },
   "outputs": [],
   "source": [
    "dados_íris[\"petal_width\"].cat.rename_categories([\"low\", \"medium\", \"high\"], inplace=True)\n",
    "dados_íris"
   ]
  },
  {
   "cell_type": "markdown",
   "metadata": {},
   "source": [
    "Agora que nosso dataset apresenta duas características categóricas, podemos fazer agregações por múltiplas características:"
   ]
  },
  {
   "cell_type": "code",
   "execution_count": null,
   "metadata": {},
   "outputs": [],
   "source": [
    "grupo2_íris = dados_íris.groupby([\"species\",\"petal_width\"]).size()\n",
    "grupo2_íris"
   ]
  },
  {
   "cell_type": "markdown",
   "metadata": {},
   "source": [
    "Neste caso, em vez de produzirmos os grupos, produzimos diretamente a agregação usando o método `size()`, que conta o tamanho de cada grupo.\n",
    "\n",
    "Pelos dados acima, podemos verificar que todas as flores de íris da espécie `setosa` presentes no dataset apresentam uma largura de pétala pequena.\n",
    "\n",
    "Também é possível fazer uma excelente separação entre as espécies `versicolor` e `virginica`.\n",
    "\n",
    "Note que os dados acima são uma série que apresentam um índice em múltiplos níveis (conhecido no Pandas como `MultiIndex`):"
   ]
  },
  {
   "cell_type": "code",
   "execution_count": null,
   "metadata": {},
   "outputs": [],
   "source": [
    "grupo2_íris.index"
   ]
  },
  {
   "cell_type": "markdown",
   "metadata": {},
   "source": [
    "Em meio às mensagens verbosas do Pandas, vemos que há dois níveis neste índice (`levels`), cujos nomes (`names`)  são `species` e `petal_width`.\n",
    "\n",
    "Podemos indexar esta série de várias formas diferentes"
   ]
  },
  {
   "cell_type": "code",
   "execution_count": null,
   "metadata": {},
   "outputs": [],
   "source": [
    "grupo2_íris[\"virginica\",\"high\"]"
   ]
  },
  {
   "cell_type": "code",
   "execution_count": null,
   "metadata": {},
   "outputs": [],
   "source": [
    "grupo2_íris[\"virginica\",]"
   ]
  },
  {
   "cell_type": "code",
   "execution_count": null,
   "metadata": {},
   "outputs": [],
   "source": [
    "grupo2_íris[:,\"high\"]"
   ]
  },
  {
   "cell_type": "markdown",
   "metadata": {},
   "source": [
    "Também podemos converter essa série em um `DataFrame`. \n",
    "\n",
    "Para isso, usamos o método `reset_index()` e informamos o nome que queremos dar à série:"
   ]
  },
  {
   "cell_type": "code",
   "execution_count": null,
   "metadata": {
    "scrolled": false
   },
   "outputs": [],
   "source": [
    "df_íris = grupo2_íris.reset_index(name=\"count\")\n",
    "df_íris"
   ]
  },
  {
   "cell_type": "markdown",
   "metadata": {},
   "source": [
    "### Tabelas dinâmicas"
   ]
  },
  {
   "cell_type": "markdown",
   "metadata": {},
   "source": [
    "Uma outra forma de agregação disponível no Pandas é através de tabelas dinâmicas.\n",
    "\n",
    "Neste caso, usamos o método `pivot_table()` e devemos informar as caraterísticas para o agrupamento a nível de linhas (`index`) e de colunas (`columns`).\n",
    "\n",
    "Também podemos informar um método de agregação usando a opção `aggfunc`, que por padrão calcula a média:"
   ]
  },
  {
   "cell_type": "code",
   "execution_count": null,
   "metadata": {
    "scrolled": true
   },
   "outputs": [],
   "source": [
    "pt_íris = dados_íris.pivot_table(index=\"species\", columns=\"petal_width\", aggfunc=\"size\")\n",
    "pt_íris"
   ]
  },
  {
   "cell_type": "markdown",
   "metadata": {},
   "source": [
    "Note que a tabela dinâmica tenta gerar todas as combinações possíveis entre os valores das característica de linha e de coluna.\n",
    "\n",
    "Como nosso dataset não apresenta observações da espécie `setosa` com largura de pétala `medium` ou `high`, esses valores são marcados como faltando/inválidos.\n",
    "\n",
    "O método `pivot_table()` fornece a opção `fill_value`, que nos permite escolher como preencher esses casos:"
   ]
  },
  {
   "cell_type": "code",
   "execution_count": null,
   "metadata": {
    "scrolled": false
   },
   "outputs": [],
   "source": [
    "pt_íris = dados_íris.pivot_table(index=\"species\", columns=\"petal_width\", aggfunc=\"size\", fill_value=0)\n",
    "pt_íris"
   ]
  },
  {
   "cell_type": "markdown",
   "metadata": {},
   "source": [
    "O método `pivot_table()` produz um objeto do tipo `DataFrame`.\n",
    "\n",
    "Assim, a indexação funciona da maneira como já conhecemos:"
   ]
  },
  {
   "cell_type": "code",
   "execution_count": null,
   "metadata": {},
   "outputs": [],
   "source": [
    "pt_íris.loc[\"versicolor\"]"
   ]
  },
  {
   "cell_type": "code",
   "execution_count": null,
   "metadata": {},
   "outputs": [],
   "source": [
    "pt_íris.loc[\"versicolor\",\"low\"]"
   ]
  },
  {
   "cell_type": "code",
   "execution_count": null,
   "metadata": {},
   "outputs": [],
   "source": [
    "pt_íris.loc[:,\"low\"]"
   ]
  }
 ],
 "metadata": {
  "colab": {
   "name": "Aula 01 - Mineração.ipynb",
   "provenance": [],
   "toc_visible": true
  },
  "kernelspec": {
   "display_name": "Python 3",
   "language": "python",
   "name": "python3"
  },
  "language_info": {
   "codemirror_mode": {
    "name": "ipython",
    "version": 3
   },
   "file_extension": ".py",
   "mimetype": "text/x-python",
   "name": "python",
   "nbconvert_exporter": "python",
   "pygments_lexer": "ipython3",
   "version": "3.6.8"
  }
 },
 "nbformat": 4,
 "nbformat_minor": 1
}
