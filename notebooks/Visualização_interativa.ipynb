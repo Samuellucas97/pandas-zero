{
  "nbformat": 4,
  "nbformat_minor": 0,
  "metadata": {
    "colab": {
      "name": "Visualização interativa",
      "provenance": [],
      "collapsed_sections": []
    },
    "kernelspec": {
      "name": "python3",
      "display_name": "Python 3"
    }
  },
  "cells": [
    {
      "cell_type": "markdown",
      "metadata": {
        "id": "x1XwdUSpiK1g",
        "colab_type": "text"
      },
      "source": [
        "# Interagindo visualmente com dados"
      ]
    },
    {
      "cell_type": "markdown",
      "metadata": {
        "id": "Sc0DUvlEjxQE",
        "colab_type": "text"
      },
      "source": [
        "Analisar visualmente um conjunto de dados é uma tarefa importante no processo de ciência de dados. Até aqui, vimos como fazer isso usando gráficos estáticos produzidos pelas bibliotecas `matplotlib` e `seaborn`. Neste notebook, vamos explorar a biblioteca de visualição interativa de dados [Plotly](https://plot.ly/python/), uma biblioteca compatível com diferentes linguagens de programação. Para o ecossistema Python, podemos usar o módulo `plotly.express`, criado para facilitar a produção de visualizações interativas."
      ]
    },
    {
      "cell_type": "code",
      "metadata": {
        "id": "jBOtyPS7hz3K",
        "colab_type": "code",
        "colab": {}
      },
      "source": [
        "import pandas as pd\n",
        "import plotly.express as px"
      ],
      "execution_count": 0,
      "outputs": []
    },
    {
      "cell_type": "markdown",
      "metadata": {
        "id": "d9ZtuGitkBuG",
        "colab_type": "text"
      },
      "source": [
        "Para esta análise, vamos utilizar [uma base de dados aberta sobre preços de combustíveis](https://http://dados.gov.br/dataset/infopreco), disponibilizada pelos postos no sítio da ANP. No código abaixo, vamos informar ao Pandas que trate a característica `DATA CADASTRO` como uma data:"
      ]
    },
    {
      "cell_type": "code",
      "metadata": {
        "id": "VykuV_h1BoOe",
        "colab_type": "code",
        "outputId": "30ad761b-29c3-4031-f1c7-7f3a6dec1cdb",
        "colab": {
          "base_uri": "https://localhost:8080/",
          "height": 411
        }
      },
      "source": [
        "preços = pd.read_csv('http://www.anp.gov.br/images/infopreco/infopreco.csv', encoding='latin-1', sep=';', decimal=',', parse_dates=['DATA CADASTRO'])\n",
        "preços.head()"
      ],
      "execution_count": 0,
      "outputs": [
        {
          "output_type": "execute_result",
          "data": {
            "text/html": [
              "<div>\n",
              "<style scoped>\n",
              "    .dataframe tbody tr th:only-of-type {\n",
              "        vertical-align: middle;\n",
              "    }\n",
              "\n",
              "    .dataframe tbody tr th {\n",
              "        vertical-align: top;\n",
              "    }\n",
              "\n",
              "    .dataframe thead th {\n",
              "        text-align: right;\n",
              "    }\n",
              "</style>\n",
              "<table border=\"1\" class=\"dataframe\">\n",
              "  <thead>\n",
              "    <tr style=\"text-align: right;\">\n",
              "      <th></th>\n",
              "      <th>CNPJ</th>\n",
              "      <th>NOME</th>\n",
              "      <th>ENDEREÇO</th>\n",
              "      <th>COMPLEMENTO</th>\n",
              "      <th>BAIRRO</th>\n",
              "      <th>MUNICÍPIO</th>\n",
              "      <th>UF</th>\n",
              "      <th>PRODUTO</th>\n",
              "      <th>VALOR VENDA</th>\n",
              "      <th>DATA CADASTRO</th>\n",
              "    </tr>\n",
              "  </thead>\n",
              "  <tbody>\n",
              "    <tr>\n",
              "      <th>0</th>\n",
              "      <td>62780000102</td>\n",
              "      <td>AUTO POSTO PARATI</td>\n",
              "      <td>AVENIDA FILINTO MULLER,645</td>\n",
              "      <td>NaN</td>\n",
              "      <td>CENTRO</td>\n",
              "      <td>TRES LAGOAS</td>\n",
              "      <td>MS</td>\n",
              "      <td>Gasolina C Comum</td>\n",
              "      <td>4.436</td>\n",
              "      <td>2018-06-28 17:49:00</td>\n",
              "    </tr>\n",
              "    <tr>\n",
              "      <th>1</th>\n",
              "      <td>62780000102</td>\n",
              "      <td>AUTO POSTO PARATI</td>\n",
              "      <td>AVENIDA FILINTO MULLER,645</td>\n",
              "      <td>NaN</td>\n",
              "      <td>CENTRO</td>\n",
              "      <td>TRES LAGOAS</td>\n",
              "      <td>MS</td>\n",
              "      <td>Etanol</td>\n",
              "      <td>3.482</td>\n",
              "      <td>2018-06-28 17:49:00</td>\n",
              "    </tr>\n",
              "    <tr>\n",
              "      <th>2</th>\n",
              "      <td>62780000102</td>\n",
              "      <td>AUTO POSTO PARATI</td>\n",
              "      <td>AVENIDA FILINTO MULLER,645</td>\n",
              "      <td>NaN</td>\n",
              "      <td>CENTRO</td>\n",
              "      <td>TRES LAGOAS</td>\n",
              "      <td>MS</td>\n",
              "      <td>Diesel S500</td>\n",
              "      <td>3.644</td>\n",
              "      <td>2018-06-28 17:49:00</td>\n",
              "    </tr>\n",
              "    <tr>\n",
              "      <th>3</th>\n",
              "      <td>62780000102</td>\n",
              "      <td>AUTO POSTO PARATI</td>\n",
              "      <td>AVENIDA FILINTO MULLER,645</td>\n",
              "      <td>NaN</td>\n",
              "      <td>CENTRO</td>\n",
              "      <td>TRES LAGOAS</td>\n",
              "      <td>MS</td>\n",
              "      <td>Diesel S10</td>\n",
              "      <td>3.734</td>\n",
              "      <td>2018-06-28 17:49:00</td>\n",
              "    </tr>\n",
              "    <tr>\n",
              "      <th>4</th>\n",
              "      <td>300357000195</td>\n",
              "      <td>POSTO E TRANSPORTADORA PEGORARO</td>\n",
              "      <td>RODOVIA BR 163,S/N</td>\n",
              "      <td>KM 786</td>\n",
              "      <td>ZONA RURAL</td>\n",
              "      <td>COXIM</td>\n",
              "      <td>MS</td>\n",
              "      <td>Gasolina C Comum</td>\n",
              "      <td>4.349</td>\n",
              "      <td>2018-09-12 19:06:00</td>\n",
              "    </tr>\n",
              "  </tbody>\n",
              "</table>\n",
              "</div>"
            ],
            "text/plain": [
              "           CNPJ  ...       DATA CADASTRO\n",
              "0   62780000102  ... 2018-06-28 17:49:00\n",
              "1   62780000102  ... 2018-06-28 17:49:00\n",
              "2   62780000102  ... 2018-06-28 17:49:00\n",
              "3   62780000102  ... 2018-06-28 17:49:00\n",
              "4  300357000195  ... 2018-09-12 19:06:00\n",
              "\n",
              "[5 rows x 10 columns]"
            ]
          },
          "metadata": {
            "tags": []
          },
          "execution_count": 2
        }
      ]
    },
    {
      "cell_type": "markdown",
      "metadata": {
        "id": "5jEEFCRwrW3J",
        "colab_type": "text"
      },
      "source": [
        "## Validando os dados"
      ]
    },
    {
      "cell_type": "markdown",
      "metadata": {
        "id": "ZAQImIlClPrU",
        "colab_type": "text"
      },
      "source": [
        "Vamos começar nossa análise validando os dados presentes na base. Isto é particularmente importante em bases de dados abertos governamentais, que muitas vezes não contam com boa curadoria de dados."
      ]
    },
    {
      "cell_type": "code",
      "metadata": {
        "id": "LSiskOVNligE",
        "colab_type": "code",
        "outputId": "1d0f4873-3f7e-4fa1-be38-fcde3ebef961",
        "colab": {
          "base_uri": "https://localhost:8080/",
          "height": 204
        }
      },
      "source": [
        "preços.isnull().sum()"
      ],
      "execution_count": 0,
      "outputs": [
        {
          "output_type": "execute_result",
          "data": {
            "text/plain": [
              "CNPJ               0\n",
              "NOME               0\n",
              "ENDEREÇO           0\n",
              "COMPLEMENTO      666\n",
              "BAIRRO            11\n",
              "MUNICÍPIO          0\n",
              "UF                 0\n",
              "PRODUTO            0\n",
              "VALOR VENDA        0\n",
              "DATA CADASTRO      0\n",
              "dtype: int64"
            ]
          },
          "metadata": {
            "tags": []
          },
          "execution_count": 3
        }
      ]
    },
    {
      "cell_type": "code",
      "metadata": {
        "id": "qF-FHamq2B20",
        "colab_type": "code",
        "outputId": "5f3bf6bd-2263-46af-95ee-c7230c094351",
        "colab": {
          "base_uri": "https://localhost:8080/",
          "height": 235
        }
      },
      "source": [
        "preço_produto = preços.pivot_table(index=\"PRODUTO\", values=\"VALOR VENDA\")\n",
        "preço_produto.head()"
      ],
      "execution_count": 0,
      "outputs": [
        {
          "output_type": "execute_result",
          "data": {
            "text/html": [
              "<div>\n",
              "<style scoped>\n",
              "    .dataframe tbody tr th:only-of-type {\n",
              "        vertical-align: middle;\n",
              "    }\n",
              "\n",
              "    .dataframe tbody tr th {\n",
              "        vertical-align: top;\n",
              "    }\n",
              "\n",
              "    .dataframe thead th {\n",
              "        text-align: right;\n",
              "    }\n",
              "</style>\n",
              "<table border=\"1\" class=\"dataframe\">\n",
              "  <thead>\n",
              "    <tr style=\"text-align: right;\">\n",
              "      <th></th>\n",
              "      <th>VALOR VENDA</th>\n",
              "    </tr>\n",
              "    <tr>\n",
              "      <th>PRODUTO</th>\n",
              "      <th></th>\n",
              "    </tr>\n",
              "  </thead>\n",
              "  <tbody>\n",
              "    <tr>\n",
              "      <th>Diesel S10</th>\n",
              "      <td>8.315152</td>\n",
              "    </tr>\n",
              "    <tr>\n",
              "      <th>Diesel S500</th>\n",
              "      <td>9.767784</td>\n",
              "    </tr>\n",
              "    <tr>\n",
              "      <th>Etanol</th>\n",
              "      <td>6.974361</td>\n",
              "    </tr>\n",
              "    <tr>\n",
              "      <th>GNV</th>\n",
              "      <td>18.362318</td>\n",
              "    </tr>\n",
              "    <tr>\n",
              "      <th>Gasolina C Comum</th>\n",
              "      <td>11.278889</td>\n",
              "    </tr>\n",
              "  </tbody>\n",
              "</table>\n",
              "</div>"
            ],
            "text/plain": [
              "                  VALOR VENDA\n",
              "PRODUTO                      \n",
              "Diesel S10           8.315152\n",
              "Diesel S500          9.767784\n",
              "Etanol               6.974361\n",
              "GNV                 18.362318\n",
              "Gasolina C Comum    11.278889"
            ]
          },
          "metadata": {
            "tags": []
          },
          "execution_count": 4
        }
      ]
    },
    {
      "cell_type": "markdown",
      "metadata": {
        "id": "wWyBT6MZlZkQ",
        "colab_type": "text"
      },
      "source": [
        "Os dados faltantes se limitam a bairro e complemento, que não serão foco da nossa análise. Em compensação, a análise do preço médio dos combustíveis listados indica valores consideravelmente elevados. Isto é um indicativo da presença de valores incorretos, que podemos verificar analisando a distribuição dos dados. Para interagir com o gráfico, passe o cursor do mouse sobre o gráfico e explore as opções no canto superior direito:"
      ]
    },
    {
      "cell_type": "code",
      "metadata": {
        "id": "Qqo4Qmyoma0y",
        "colab_type": "code",
        "outputId": "6f2f0c92-8def-4036-e712-8e751150af42",
        "colab": {
          "base_uri": "https://localhost:8080/",
          "height": 562
        }
      },
      "source": [
        "px.box(preços, x=\"PRODUTO\", y=\"VALOR VENDA\")"
      ],
      "execution_count": 0,
      "outputs": [
        {
          "output_type": "display_data",
          "data": {
            "text/html": [
              "<html>\n",
              "<head><meta charset=\"utf-8\" /></head>\n",
              "<body>\n",
              "    <div>\n",
              "            <script src=\"https://cdnjs.cloudflare.com/ajax/libs/mathjax/2.7.5/MathJax.js?config=TeX-AMS-MML_SVG\"></script><script type=\"text/javascript\">if (window.MathJax) {MathJax.Hub.Config({SVG: {font: \"STIX-Web\"}});}</script>\n",
              "                <script type=\"text/javascript\">window.PlotlyConfig = {MathJaxConfig: 'local'};</script>\n",
              "        <script src=\"https://cdn.plot.ly/plotly-latest.min.js\"></script>    \n",
              "            <div id=\"d7f08364-1da0-4225-9f1d-c5360a9b99f3\" class=\"plotly-graph-div\" style=\"height:525px; width:100%;\"></div>\n",
              "            <script type=\"text/javascript\">\n",
              "                \n",
              "                    window.PLOTLYENV=window.PLOTLYENV || {};\n",
              "                    \n",
              "                if (document.getElementById(\"d7f08364-1da0-4225-9f1d-c5360a9b99f3\")) {\n",
              "                    Plotly.newPlot(\n",
              "                        'd7f08364-1da0-4225-9f1d-c5360a9b99f3',\n",
              "                        [{\"alignmentgroup\": \"True\", \"hoverlabel\": {\"namelength\": 0}, \"hovertemplate\": \"PRODUTO=%{x}<br>VALOR VENDA=%{y}\", \"legendgroup\": \"\", \"marker\": {\"color\": \"#636efa\"}, \"name\": \"\", \"notched\": false, \"offsetgroup\": \"\", \"orientation\": \"v\", \"showlegend\": false, \"type\": \"box\", \"x\": [\"Gasolina C Comum\", \"Etanol\", \"Diesel S500\", \"Diesel S10\", \"Gasolina C Comum\", \"Etanol\", \"Diesel S500\", \"Diesel S10\", \"Gasolina C Comum\", \"Etanol\", \"Diesel S10\", \"Gasolina C Comum\", \"Diesel S10\", \"Gasolina C Comum\", \"Diesel S500\", \"Gasolina C Comum\", \"Diesel S500\", \"Gasolina C Comum\", \"Etanol\", \"Diesel S500\", \"Diesel S10\", \"Gasolina C Comum\", \"Etanol\", \"Diesel S500\", \"Diesel S10\", \"Diesel S500\", \"Diesel S10\", \"Etanol\", \"Gasolina C Comum\", \"Gasolina C Comum\", \"Diesel S500\", \"Diesel S10\", \"Gasolina C Comum\", \"Etanol\", \"GNV\", \"Diesel S500\", \"Diesel S10\", \"Gasolina C Comum\", \"Etanol\", \"Diesel S500\", \"Diesel S10\", \"Gasolina C Comum\", \"Etanol\", \"Diesel S500\", \"Diesel S10\", \"Gasolina C Comum\", \"Diesel S500\", \"Diesel S10\", \"Gasolina C Comum\", \"Diesel S500\", \"Diesel S10\", \"Gasolina C Comum\", \"Etanol\", \"Diesel S10\", \"Gasolina C Comum\", \"Etanol\", \"Diesel S500\", \"Diesel S10\", \"Gasolina C Comum\", \"Diesel S500\", \"Diesel S10\", \"Etanol\", \"Gasolina C Comum\", \"Diesel S500\", \"Diesel S10\", \"Gasolina C Comum\", \"Etanol\", \"Diesel S500\", \"Diesel S10\", \"Gasolina C Comum\", \"Diesel S500\", \"Diesel S10\", \"Gasolina C Comum\", \"Diesel S500\", \"Diesel S10\", \"Etanol\", \"Gasolina C Comum\", \"Etanol\", \"Diesel S500\", \"Diesel S10\", \"Gasolina C Comum\", \"Etanol\", \"Diesel S500\", \"Diesel S10\", \"Gasolina C Comum\", \"Etanol\", \"Diesel S500\", \"Diesel S10\", \"Gasolina C Comum\", \"Etanol\", \"GNV\", \"Diesel S500\", \"Diesel S10\", \"Gasolina C Comum\", \"Diesel S500\", \"Diesel S10\", \"Gasolina C Comum\", \"Etanol\", \"Diesel S10\", \"Gasolina C Comum\", \"Etanol\", \"Diesel S500\", \"Diesel S10\", \"Gasolina C Comum\", \"Etanol\", \"Diesel S500\", \"Diesel S10\", \"Gasolina C Comum\", \"Etanol\", \"Diesel S500\", \"Diesel S10\", \"Gasolina C Comum\", \"Etanol\", \"Diesel S500\", \"Diesel S10\", \"Gasolina C Comum\", \"Etanol\", \"Gasolina C Comum\", \"Etanol\", \"Diesel S10\", \"Gasolina C Comum\", \"Etanol\", \"Diesel S500\", \"Diesel S10\", \"Gasolina C Comum\", \"Etanol\", \"Diesel S500\", \"Diesel S10\", \"Gasolina C Comum\", \"Diesel S500\", \"Diesel S10\", \"Gasolina C Comum\", \"Etanol\", \"Diesel S10\", \"Gasolina C Comum\", \"Diesel S500\", \"Diesel S10\", \"Gasolina C Comum\", \"Etanol\", \"Diesel S500\", \"Diesel S10\", \"Gasolina C Comum\", \"Diesel S500\", \"Diesel S10\", \"Gasolina C Comum\", \"Etanol\", \"Diesel S500\", \"Diesel S10\", \"Gasolina C Comum\", \"Etanol\", \"Diesel S500\", \"Diesel S10\", \"Gasolina C Comum\", \"Etanol\", \"Diesel S500\", \"Diesel S10\", \"Diesel S500\", \"Diesel S10\", \"Gasolina C Comum\", \"Etanol\", \"Gasolina C Comum\", \"Etanol\", \"Diesel S500\", \"Diesel S10\", \"Gasolina C Comum\", \"Etanol\", \"Diesel S500\", \"Diesel S10\", \"Gasolina C Comum\", \"Etanol\", \"GNV\", \"Diesel S10\", \"Gasolina C Comum\", \"Etanol\", \"Diesel S500\", \"Diesel S10\", \"Gasolina C Comum\", \"Etanol\", \"GNV\", \"Diesel S500\", \"Diesel S10\", \"Gasolina C Comum\", \"Etanol\", \"Diesel S500\", \"Diesel S10\", \"Gasolina C Comum\", \"Etanol\", \"Diesel S10\", \"Gasolina C Comum\", \"Etanol\", \"Diesel S500\", \"Diesel S10\", \"Gasolina C Comum\", \"Etanol\", \"Diesel S10\", \"Gasolina C Comum\", \"Etanol\", \"GNV\", \"Diesel S500\", \"Diesel S10\", \"Gasolina C Comum\", \"Etanol\", \"GNV\", \"Diesel S500\", \"Diesel S10\", \"Gasolina C Comum\", \"Diesel S500\", \"Diesel S10\", \"Gasolina C Comum\", \"Etanol\", \"Diesel S500\", \"Diesel S10\", \"Gasolina C Comum\", \"Gasolina C Comum\", \"Etanol\", \"Diesel S500\", \"Diesel S10\", \"Gasolina C Comum\", \"Etanol\", \"Diesel S500\", \"Diesel S10\", \"Gasolina C Comum\", \"Etanol\", \"Diesel S500\", \"Diesel S10\", \"Gasolina C Comum\", \"Etanol\", \"Diesel S500\", \"Diesel S10\", \"Gasolina C Comum\", \"Etanol\", \"Diesel S10\", \"GNV\", \"Gasolina C Comum\", \"Etanol\", \"Diesel S10\", \"Gasolina C Comum\", \"Etanol\", \"Diesel S500\", \"Diesel S10\", \"GNV\", \"Gasolina C Comum\", \"Etanol\", \"Diesel S500\", \"Diesel S10\", \"Gasolina C Comum\", \"Etanol\", \"Diesel S500\", \"Diesel S10\", \"GNV\", \"Gasolina C Comum\", \"Etanol\", \"Diesel S10\", \"Gasolina C Comum\", \"Etanol\", \"Diesel S500\", \"Diesel S10\", \"Diesel S500\", \"Diesel S10\", \"Gasolina C Comum\", \"Gasolina C Comum\", \"Diesel S10\", \"Gasolina C Comum\", \"Etanol\", \"Diesel S500\", \"Diesel S10\", \"Gasolina C Comum\", \"Etanol\", \"Diesel S500\", \"Diesel S10\", \"Gasolina C Comum\", \"Etanol\", \"Diesel S10\", \"Gasolina C Comum\", \"Gasolina C Comum\", \"Diesel S10\", \"Gasolina C Comum\", \"Etanol\", \"Diesel S500\", \"Diesel S10\", \"Gasolina C Comum\", \"Diesel S500\", \"Diesel S10\", \"Gasolina C Comum\", \"Etanol\", \"Diesel S500\", \"Gasolina C Comum\", \"Etanol\", \"Diesel S500\", \"Gasolina C Comum\", \"Etanol\", \"Diesel S10\", \"Gasolina C Comum\", \"Diesel S10\", \"Gasolina C Comum\", \"Etanol\", \"Diesel S500\", \"Diesel S10\", \"Gasolina C Comum\", \"Etanol\", \"Diesel S10\", \"Gasolina C Comum\", \"Etanol\", \"Diesel S10\", \"Gasolina C Comum\", \"Diesel S500\", \"Diesel S10\", \"Gasolina C Comum\", \"Diesel S500\", \"Diesel S10\", \"Gasolina C Comum\", \"Diesel S500\", \"Diesel S10\", \"Gasolina C Comum\", \"Etanol\", \"Diesel S10\", \"Gasolina C Comum\", \"Diesel S500\", \"Diesel S10\", \"Gasolina C Comum\", \"Etanol\", \"Diesel S10\", \"Gasolina C Comum\", \"Etanol\", \"GNV\", \"Diesel S10\", \"Diesel S500\", \"Diesel S10\", \"Gasolina C Comum\", \"Etanol\", \"Diesel S10\", \"Gasolina C Comum\", \"Diesel S10\", \"Gasolina C Comum\", \"Diesel S500\", \"Diesel S10\", \"Gasolina C Comum\", \"Etanol\", \"Diesel S10\", \"Gasolina C Comum\", \"Etanol\", \"Diesel S10\", \"Diesel S10\", \"Gasolina C Comum\", \"Etanol\", \"Gasolina C Comum\", \"Etanol\", \"Diesel S10\", \"Gasolina C Comum\", \"Etanol\", \"Diesel S10\", \"Gasolina C Comum\", \"Etanol\", \"Diesel S500\", \"Diesel S10\", \"Gasolina C Comum\", \"Diesel S500\", \"Diesel S10\", \"Gasolina C Comum\", \"Etanol\", \"GNV\", \"Diesel S500\", \"Diesel S10\", \"Gasolina C Comum\", \"Diesel S500\", \"Diesel S10\", \"Gasolina C Comum\", \"Etanol\", \"Diesel S500\", \"Diesel S10\", \"Gasolina C Comum\", \"Diesel S500\", \"Diesel S10\", \"Gasolina C Comum\", \"Etanol\", \"Diesel S500\", \"Diesel S10\", \"Gasolina C Comum\", \"Etanol\", \"Diesel S10\", \"Gasolina C Comum\", \"Etanol\", \"Diesel S10\", \"Gasolina C Comum\", \"Etanol\", \"Diesel S10\", \"Gasolina C Comum\", \"Etanol\", \"Diesel S500\", \"Diesel S10\", \"Gasolina C Comum\", \"Diesel S500\", \"Diesel S10\", \"Gasolina C Comum\", \"Etanol\", \"Diesel S500\", \"Diesel S10\", \"Gasolina C Comum\", \"Diesel S500\", \"Diesel S10\", \"Gasolina C Comum\", \"Diesel S500\", \"Diesel S10\", \"Gasolina C Comum\", \"Diesel S500\", \"Diesel S10\", \"Gasolina C Comum\", \"Etanol\", \"Diesel S500\", \"Gasolina C Comum\", \"Etanol\", \"Diesel S10\", \"Gasolina C Comum\", \"Etanol\", \"Diesel S500\", \"Diesel S10\", \"Gasolina C Comum\", \"Etanol\", \"Diesel S500\", \"Diesel S10\", \"Gasolina C Comum\", \"Etanol\", \"Diesel S500\", \"Diesel S10\", \"Gasolina C Comum\", \"Diesel S500\", \"Gasolina C Comum\", \"Diesel S500\", \"Gasolina C Comum\", \"Diesel S10\", \"Gasolina C Comum\", \"Diesel S10\", \"Gasolina C Comum\", \"Etanol\", \"Gasolina C Comum\", \"Etanol\", \"Diesel S10\", \"Gasolina C Comum\", \"Etanol\", \"Gasolina C Comum\", \"Diesel S500\", \"Diesel S10\", \"Gasolina C Comum\", \"Diesel S500\", \"Diesel S10\", \"Gasolina C Comum\", \"Etanol\", \"Diesel S500\", \"Diesel S10\", \"Gasolina C Comum\", \"Etanol\", \"Diesel S500\", \"Diesel S10\", \"Gasolina C Comum\", \"Etanol\", \"Diesel S10\", \"Gasolina C Comum\", \"Diesel S500\", \"Diesel S10\", \"Gasolina C Comum\", \"Etanol\", \"Diesel S500\", \"Diesel S10\", \"Gasolina C Comum\", \"Etanol\", \"Diesel S10\", \"Gasolina C Comum\", \"Etanol\", \"Diesel S500\", \"Diesel S10\", \"Gasolina C Comum\", \"Etanol\", \"Diesel S500\", \"Gasolina C Comum\", \"Etanol\", \"Diesel S500\", \"Diesel S10\", \"Gasolina C Comum\", \"Diesel S500\", \"Diesel S10\", \"Gasolina C Comum\", \"Etanol\", \"Diesel S500\", \"Diesel S10\", \"Gasolina C Comum\", \"Diesel S500\", \"Diesel S10\", \"Gasolina C Comum\", \"Etanol\", \"Diesel S500\", \"Diesel S10\", \"GNV\", \"Gasolina C Comum\", \"Etanol\", \"Diesel S500\", \"Diesel S10\", \"Gasolina C Comum\", \"Diesel S500\", \"Diesel S10\", \"Gasolina C Comum\", \"Gasolina C Comum\", \"Etanol\", \"Diesel S500\", \"Diesel S10\", \"Gasolina C Comum\", \"Diesel S500\", \"Diesel S10\", \"Diesel S500\", \"Diesel S10\", \"Gasolina C Comum\", \"Etanol\", \"Diesel S500\", \"Diesel S10\", \"Gasolina C Comum\", \"Diesel S500\", \"Diesel S10\", \"Gasolina C Comum\", \"Diesel S500\", \"Diesel S10\", \"Gasolina C Comum\", \"Diesel S500\", \"Diesel S10\", \"Diesel S500\", \"Diesel S10\", \"Gasolina C Comum\", \"Etanol\", \"Gasolina C Comum\", \"Etanol\", \"Diesel S500\", \"Diesel S10\", \"Gasolina C Comum\", \"Etanol\", \"Diesel S500\", \"Gasolina C Comum\", \"Etanol\", \"Diesel S500\", \"Diesel S10\", \"Gasolina C Comum\", \"Etanol\", \"Diesel S500\", \"Gasolina C Comum\", \"Etanol\", \"Diesel S10\", \"Gasolina C Comum\", \"Etanol\", \"Diesel S500\", \"Diesel S10\", \"Gasolina C Comum\", \"Etanol\", \"Diesel S10\", \"Gasolina C Comum\", \"Diesel S500\", \"Diesel S500\", \"Diesel S10\", \"Gasolina C Comum\", \"Etanol\", \"Gasolina C Comum\", \"Etanol\", \"Diesel S500\", \"Diesel S10\", \"Gasolina C Comum\", \"Etanol\", \"Diesel S10\", \"Gasolina C Comum\", \"Etanol\", \"Diesel S500\", \"Diesel S10\", \"Gasolina C Comum\", \"Etanol\", \"Diesel S10\", \"Gasolina C Comum\", \"Diesel S500\", \"Diesel S10\", \"Diesel S10\", \"Gasolina C Comum\", \"Etanol\", \"Diesel S500\", \"Gasolina C Comum\", \"Etanol\", \"Diesel S500\", \"Diesel S10\", \"Gasolina C Comum\", \"Etanol\", \"Diesel S500\", \"Diesel S10\", \"Gasolina C Comum\", \"Etanol\", \"Diesel S10\", \"Gasolina C Comum\", \"Etanol\", \"Diesel S10\", \"Gasolina C Comum\", \"Diesel S500\", \"Diesel S10\", \"Gasolina C Comum\", \"Etanol\", \"Diesel S500\", \"Diesel S10\", \"Gasolina C Comum\", \"Etanol\", \"Diesel S10\", \"Gasolina C Comum\", \"Diesel S500\", \"Diesel S10\", \"Gasolina C Comum\", \"Etanol\", \"Diesel S500\", \"Gasolina C Comum\", \"Etanol\", \"Diesel S500\", \"Diesel S10\", \"Gasolina C Comum\", \"Diesel S500\", \"Diesel S10\", \"Gasolina C Comum\", \"Etanol\", \"Diesel S10\", \"Gasolina C Comum\", \"Etanol\", \"Diesel S500\", \"Gasolina C Comum\", \"Etanol\", \"GNV\", \"Diesel S500\", \"Diesel S10\", \"Gasolina C Comum\", \"Etanol\", \"Diesel S500\", \"Diesel S10\", \"Gasolina C Comum\", \"Etanol\", \"Diesel S500\", \"Diesel S10\", \"Gasolina C Comum\", \"Etanol\", \"Diesel S10\", \"Gasolina C Comum\", \"Etanol\", \"Diesel S500\", \"Diesel S10\", \"Gasolina C Comum\", \"Etanol\", \"Diesel S500\", \"Diesel S10\", \"Gasolina C Comum\", \"Etanol\", \"Diesel S500\", \"Diesel S10\", \"Gasolina C Comum\", \"Diesel S500\", \"Diesel S10\", \"Gasolina C Comum\", \"Etanol\", \"Diesel S10\", \"Gasolina C Comum\", \"Etanol\", \"Gasolina C Comum\", \"Diesel S500\", \"Diesel S10\", \"GNV\", \"Gasolina C Comum\", \"Etanol\", \"Diesel S500\", \"Diesel S10\", \"Diesel S500\", \"Diesel S10\", \"Gasolina C Comum\", \"Etanol\", \"Gasolina C Comum\", \"Etanol\", \"Diesel S500\", \"Diesel S10\", \"Gasolina C Comum\", \"Diesel S500\", \"Diesel S10\", \"Gasolina C Comum\", \"Diesel S10\", \"Gasolina C Comum\", \"Etanol\", \"Diesel S10\", \"Gasolina C Comum\", \"Diesel S500\", \"Diesel S10\", \"Gasolina C Comum\", \"Etanol\", \"Diesel S500\", \"Diesel S10\", \"Gasolina C Comum\", \"Etanol\", \"Diesel S10\", \"Gasolina C Comum\", \"Diesel S500\", \"Diesel S10\", \"Gasolina C Comum\", \"Etanol\", \"Diesel S500\", \"Diesel S10\", \"Gasolina C Comum\", \"Diesel S500\", \"Diesel S10\", \"Gasolina C Comum\", \"Etanol\", \"Gasolina C Comum\", \"Etanol\", \"Diesel S500\", \"Diesel S10\", \"Gasolina C Comum\", \"Etanol\", \"Diesel S10\", \"Gasolina C Comum\", \"Diesel S500\", \"Diesel S10\", \"Gasolina C Comum\", \"Etanol\", \"Diesel S10\", \"Gasolina C Comum\", \"Etanol\", \"Diesel S500\", \"Diesel S10\", \"Gasolina C Comum\", \"Etanol\", \"GNV\", \"Diesel S10\", \"Gasolina C Comum\", \"Diesel S500\", \"Diesel S10\", \"Gasolina C Comum\", \"Etanol\", \"Diesel S10\", \"Gasolina C Comum\", \"Diesel S10\", \"Gasolina C Comum\", \"Etanol\", \"Diesel S10\", \"Gasolina C Comum\", \"Etanol\", \"Diesel S10\", \"Gasolina C Comum\", \"Diesel S500\", \"Diesel S10\", \"Gasolina C Comum\", \"Etanol\", \"Diesel S10\", \"Gasolina C Comum\", \"Etanol\", \"Diesel S500\", \"Diesel S10\", \"Gasolina C Comum\", \"Etanol\", \"Diesel S500\", \"Diesel S10\", \"Gasolina C Comum\", \"Etanol\", \"Diesel S500\", \"Diesel S10\", \"Gasolina C Comum\", \"Etanol\", \"Diesel S500\", \"Diesel S10\", \"Diesel S500\", \"Gasolina C Comum\", \"Etanol\", \"Diesel S10\", \"Gasolina C Comum\", \"Etanol\", \"Diesel S10\", \"Gasolina C Comum\", \"Etanol\", \"Diesel S500\", \"Diesel S10\", \"Gasolina C Comum\", \"Diesel S500\", \"Diesel S10\", \"Gasolina C Comum\", \"Diesel S10\", \"Gasolina C Comum\", \"Etanol\", \"Diesel S500\", \"Diesel S10\", \"Gasolina C Comum\", \"Diesel S500\", \"Diesel S10\", \"Gasolina C Comum\", \"Gasolina C Comum\", \"Etanol\", \"Diesel S10\", \"Gasolina C Comum\", \"Etanol\", \"Diesel S500\", \"Diesel S10\", \"Gasolina C Comum\", \"Etanol\", \"Diesel S10\", \"Gasolina C Comum\", \"Diesel S10\", \"Gasolina C Comum\", \"Etanol\", \"Diesel S500\", \"Diesel S10\", \"Gasolina C Comum\", \"Etanol\", \"Diesel S500\", \"Diesel S10\", \"Gasolina C Comum\", \"Diesel S10\", \"Gasolina C Comum\", \"Etanol\", \"Diesel S500\", \"Diesel S10\", \"Gasolina C Comum\", \"Etanol\", \"Diesel S10\", \"Gasolina C Comum\", \"Gasolina C Comum\", \"Etanol\", \"Diesel S500\", \"Diesel S10\", \"Gasolina C Comum\", \"Etanol\", \"GNV\", \"Diesel S500\", \"Diesel S10\", \"Gasolina C Comum\", \"Diesel S10\", \"Gasolina C Comum\", \"Etanol\", \"Diesel S500\", \"Diesel S10\", \"Gasolina C Comum\", \"Etanol\", \"Diesel S500\", \"Diesel S10\", \"Gasolina C Comum\", \"Etanol\", \"Diesel S10\", \"Diesel S500\", \"Gasolina C Comum\", \"Diesel S10\", \"Gasolina C Comum\", \"Etanol\", \"Diesel S500\", \"Diesel S10\", \"Gasolina C Comum\", \"Etanol\", \"Diesel S10\", \"Gasolina C Comum\", \"Etanol\", \"Diesel S10\", \"Gasolina C Comum\", \"Etanol\", \"Diesel S500\", \"Diesel S10\", \"Gasolina C Comum\", \"Etanol\", \"Diesel S10\", \"Gasolina C Comum\", \"Etanol\", \"Diesel S10\", \"Gasolina C Comum\", \"Gasolina C Comum\", \"Etanol\", \"Gasolina C Comum\", \"Etanol\", \"Diesel S500\", \"Diesel S10\", \"Gasolina C Comum\", \"Etanol\", \"Diesel S500\", \"Diesel S10\", \"GNV\", \"Gasolina C Comum\", \"Etanol\", \"Diesel S10\", \"Gasolina C Comum\", \"Etanol\", \"Diesel S10\", \"Gasolina C Comum\", \"Etanol\", \"Diesel S500\", \"Diesel S10\", \"Gasolina C Comum\", \"Etanol\", \"Diesel S500\", \"Diesel S10\", \"Gasolina C Comum\", \"Etanol\", \"Diesel S500\", \"Diesel S10\", \"Gasolina C Comum\", \"Etanol\", \"Diesel S10\", \"Gasolina C Comum\", \"Etanol\", \"GNV\", \"Diesel S500\", \"Diesel S10\", \"Gasolina C Comum\", \"Diesel S10\", \"Gasolina C Comum\", \"Etanol\", \"Diesel S10\", \"Gasolina C Comum\", \"Etanol\", \"GNV\", \"Diesel S500\", \"Diesel S10\", \"Gasolina C Comum\", \"Etanol\", \"Diesel S500\", \"Gasolina C Comum\", \"Etanol\", \"Diesel S10\", \"Gasolina C Comum\", \"Etanol\", \"Diesel S500\", \"Diesel S10\", \"Gasolina C Comum\", \"Etanol\", \"Diesel S500\", \"Diesel S10\", \"Gasolina C Comum\", \"Etanol\", \"Diesel S10\", \"Gasolina C Comum\", \"Etanol\", \"Diesel S10\", \"Gasolina C Comum\", \"Etanol\", \"GNV\", \"Diesel S10\", \"Gasolina C Comum\", \"Etanol\", \"Diesel S500\", \"Gasolina C Comum\", \"Etanol\", \"Diesel S500\", \"Diesel S10\", \"Gasolina C Comum\", \"Etanol\", \"Diesel S10\", \"Gasolina C Comum\", \"Etanol\", \"Diesel S500\", \"Diesel S10\", \"Gasolina C Comum\", \"Diesel S10\", \"Gasolina C Comum\", \"Etanol\", \"GNV\", \"Diesel S500\", \"Diesel S10\", \"Gasolina C Comum\", \"Diesel S500\", \"Diesel S10\", \"Gasolina C Comum\", \"Etanol\", \"Diesel S10\", \"Gasolina C Comum\", \"Etanol\", \"Diesel S500\", \"Diesel S10\", \"Gasolina C Comum\", \"Diesel S500\", \"Diesel S10\", \"Gasolina C Comum\", \"GNV\", \"Diesel S500\", \"Diesel S10\", \"Gasolina C Comum\", \"Etanol\", \"Diesel S500\", \"Diesel S10\", \"Gasolina C Comum\", \"Diesel S500\", \"Diesel S10\"], \"x0\": \" \", \"xaxis\": \"x\", \"y\": [4.436, 3.4819999999999998, 3.6439999999999997, 3.734, 4.349, 3.5989999999999998, 3.4989999999999997, 3.5989999999999998, 4.289, 3.49, 4.05, 4.169, 3.659, 4.8, 3.78, 4.8, 3.81, 4.49, 3.29, 3.69, 3.79, 4.258, 3.299, 3.5989999999999998, 3.699, 3.799, 3.8989999999999996, 3.299, 4.687, 4.599, 3.8489999999999998, 3.8989999999999996, 4.2989999999999995, 2.8989999999999996, 2.9989999999999997, 3.5989999999999998, 3.699, 4.76, 3.39, 3.69, 3.73, 4.72, 2.99, 3.49, 3.59, 4.59, 3.69, 3.79, 4.39, 3.47, 3.57, 4.099, 3.299, 3.5989999999999998, 4.849, 3.299, 3.699, 3.799, 4.399, 3.4989999999999997, 3.529, 3.319, 4.7989999999999995, 3.4789999999999996, 3.549, 4.646, 3.4560000000000004, 3.346, 3.406, 4.99, 3.8, 3.85, 4.69, 3.49, 3.54, 4.69, 4.439, 3.4989999999999997, 3.3689999999999998, 3.389, 5.48, 3.48, 4.07, 4.12, 4.099, 2.799, 3.5989999999999998, 3.699, 4.2989999999999995, 3.8989999999999996, 3.5989999999999998, 3.699, 3.799, 4.399, 3.699, 3.799, 3.799, 3.299, 3.299, 4.899, 3.8989999999999996, 3.639, 3.739, 4.97, 3.94, 3.85, 3.89, 4.499, 3.259, 3.4989999999999997, 3.589, 5.08, 3.69, 3.99, 4.09, 4.0889999999999995, 2.5989999999999998, 4.0489999999999995, 2.799, 3.5989999999999998, 4.859, 3.1489999999999996, 3.8989999999999996, 3.969, 4.96, 3.15, 4.1, 4.2, 4.7989999999999995, 3.449, 3.4989999999999997, 4.0969999999999995, 3.2969999999999997, 3.5869999999999997, 4.85, 3.75, 3.8, 4.199, 2.9989999999999997, 3.39, 3.49, 4.449, 3.3989999999999996, 3.469, 4.649, 2.99, 3.33, 3.42, 3.9989999999999997, 2.9989999999999997, 3.4989999999999997, 3.5989999999999998, 5.399, 3.4989999999999997, 3.75, 3.85, 4.24, 4.32, 4.75, 4.08, 4.85, 4.29, 3.79, 3.84, 4.769, 3.8989999999999996, 3.8689999999999998, 3.969, 4.99, 3.49, 2.799, 3.53, 4.499, 3.0989999999999998, 3.679, 3.739, 4.7989999999999995, 3.9989999999999997, 3.0989999999999998, 3.699, 3.799, 4.73, 2.95, 3.92, 3.99, 4.699, 3.9989999999999997, 3.9989999999999997, 4.809, 3.3989999999999996, 3.699, 3.799, 4.599, 3.4989999999999997, 3.5989999999999998, 5.2989999999999995, 4.2989999999999995, 3.5989999999999998, 3.799, 3.8989999999999996, 499.0, 389.0, 349.0, 349.0, 359.0, 4.45, 3.7, 3.75, 550.0, 360.0, 445.0, 455.0, 3.98, 4.89, 4.23, 3.93, 4.03, 4.89, 4.23, 3.93, 4.03, 4.298, 4.288, 3.938, 3.998, 4.099, 2.799, 3.5989999999999998, 3.699, 5.149, 4.699, 3.9989999999999997, 3.199, 3.779, 3.0989999999999998, 3.398, 5.093999999999999, 3.096, 3.79, 3.85, 2.8489999999999998, 4.95, 3.85, 3.96, 3.99, 4.519, 3.679, 3.219, 3.2689999999999997, 0.001, 4.0969999999999995, 2.7969999999999997, 3.397, 4.379, 2.799, 3.5989999999999998, 3.699, 3.719, 3.819, 4.699, 4.249, 3.799, 3.94, 3.97, 3.65, 3.75, 4.49, 4.43, 3.94, 4.01, 4.56, 3.18, 3.35, 4.669, 5.17, 4.16, 4.49, 3.39, 3.55, 3.59, 4.399, 3.0989999999999998, 3.1489999999999996, 4.999, 2.9989999999999997, 3.8489999999999998, 3.947, 3.128, 3.0989999999999998, 4.099, 3.3989999999999996, 3.799, 4.7989999999999995, 3.8989999999999996, 4.297, 3.697, 3.877, 3.947, 4.659, 3.3989999999999996, 3.9989999999999997, 4.249, 3.0989999999999998, 3.7489999999999997, 4.77, 3.74, 3.8, 4.579, 3.4989999999999997, 3.5389999999999997, 4.388999999999999, 3.4989999999999997, 3.5789999999999997, 4.468999999999999, 3.9989999999999997, 3.8989999999999996, 4.17, 3.64, 3.66, 4.59, 3.23, 3.62, 4.899, 3.299, 2.588, 3.489, 3.68, 3.78, 3.9989999999999997, 2.8989999999999996, 3.299, 4.149, 3.549, 4.7989999999999995, 3.859, 3.9589999999999996, 4.53, 3.69, 3.69, 4.53, 3.69, 3.69, 3.67, 4.53, 3.69, 4.49, 3.69, 3.69, 5.07, 4.17, 3.87, 4.859, 2.9989999999999997, 3.8989999999999996, 3.9989999999999997, 4.49, 3.76, 3.86, 4.39, 3.38, 1.0, 1.0, 4.7989999999999995, 4.74, 3.61, 3.69, 4.6, 3.0, 3.69, 3.79, 4.74, 3.85, 3.9, 4.379, 3.5989999999999998, 3.3789999999999996, 3.4789999999999996, 4.897, 3.597, 3.697, 4.999, 3.4989999999999997, 3.4989999999999997, 4.399, 3.79, 3.35, 4.899, 3.9989999999999997, 3.5989999999999998, 3.699, 4.79, 3.3989999999999996, 3.4989999999999997, 4.73, 4.37, 4.01, 4.09, 4.73, 4.01, 4.09, 4.699, 3.5389999999999997, 3.639, 4.399, 3.3989999999999996, 3.4989999999999997, 4.63, 3.95, 3.79, 4.45, 3.3, 3.65, 5.039, 3.8689999999999998, 3.8989999999999996, 3.9589999999999996, 4.499, 3.299, 3.699, 3.799, 4.099, 2.799, 3.5989999999999998, 3.699, 4.87, 3.699, 4.769, 3.589, 4.599, 3.799, 4.7589999999999995, 3.4989999999999997, 4.5680000000000005, 2.798, 4.2989999999999995, 2.9989999999999997, 3.699, 3.989, 2.249, 4.7989999999999995, 3.5, 3.6, 505.0, 405.0, 409.0, 4.2989999999999995, 2.9989999999999997, 3.3989999999999996, 3.4989999999999997, 4.0489999999999995, 2.189, 3.1289999999999996, 3.239, 4.69, 3.79, 3.87, 4.75, 3.97, 4.01, 4.859, 3.24, 3.8989999999999996, 3.969, 4.409, 3.159, 3.679, 4.77, 4.599, 3.5989999999999998, 3.699, 4.659, 2.8989999999999996, 3.5989999999999998, 4.649, 3.2489999999999997, 3.779, 3.8489999999999998, 4.64, 3.77, 3.81, 4.399, 3.48, 3.6489999999999996, 3.699, 4.449, 3.3989999999999996, 3.469, 4.269, 3.694, 3.509, 3.5989999999999998, 0.001, 4.69, 3.09, 3.34, 3.65, 4.73, 3.647, 3.715, 4.65, 4.7589999999999995, 3.299, 4.1, 4.15, 4.599, 3.199, 3.299, 3.62, 3.72, 4.7989999999999995, 2.8789999999999996, 3.699, 3.799, 3.65, 3.627, 3.661, 4.749, 3.7489999999999997, 3.799, 4.749, 3.8489999999999998, 3.8989999999999996, 3.79, 3.97, 4.64, 3.59, 4.499, 3.259, 3.4989999999999997, 3.589, 4.14, 3.18, 3.49, 4.7989999999999995, 3.4989999999999997, 3.9989999999999997, 4.099, 4.09, 2.49, 3.06, 4.99, 3.29, 3.99, 4.769, 3.5989999999999998, 3.47, 3.59, 4.374, 4.499, 3.535, 4.649, 4.059, 3.549, 3.5989999999999998, 4.579, 3.9989999999999997, 4.218999999999999, 2.699, 3.089, 3.139, 4.09, 3.197, 3.497, 4.848, 2.948, 3.656, 3.7889999999999997, 4.499, 2.5989999999999998, 3.4989999999999997, 4.75, 3.87, 3.98, 3.8989999999999996, 4.879, 3.239, 3.839, 4.7989999999999995, 3.3989999999999996, 3.7689999999999997, 3.8689999999999998, 4.7, 3.6, 3.95, 4.06, 4.999, 3.4989999999999997, 4.0489999999999995, 4.199, 2.559, 3.4989999999999997, 4.399, 3.5989999999999998, 3.699, 4.769, 3.9989999999999997, 3.6289999999999996, 3.6889999999999996, 4.396, 3.7460000000000004, 3.946, 4.7589999999999995, 3.4989999999999997, 3.5589999999999997, 5.48, 3.48, 4.07, 4.33, 3.59, 3.38, 3.48, 5.04, 4.01, 4.03, 3.9989999999999997, 2.299, 3.1889999999999996, 4.7989999999999995, 3.9989999999999997, 3.3989999999999996, 5.199, 3.799, 5.099, 3.589, 3.639, 4.2989999999999995, 3.8989999999999996, 3.699, 3.799, 4.7989999999999995, 3.15, 3.85, 3.89, 4.2989999999999995, 2.8989999999999996, 3.569, 4.49, 2.65, 3.3989999999999996, 3.5, 4.92, 3.06, 4.08, 4.18, 4.64, 2.99, 3.79, 3.81, 5.02, 4.03, 4.06, 4.2989999999999995, 2.9989999999999997, 3.6489999999999996, 3.9989999999999997, 2.349, 4.559, 3.58, 3.68, 1.0, 4.7989999999999995, 2.799, 3.799, 3.8989999999999996, 3.62, 3.72, 4.81, 4.16, 4.19, 2.99, 3.39, 3.49, 4.399, 3.3989999999999996, 3.469, 4.399, 3.4989999999999997, 4.269, 3.199, 3.5989999999999998, 4.539, 3.339, 3.4389999999999996, 4.249, 3.9989999999999997, 3.549, 3.5989999999999998, 4.47, 3.13, 3.56, 3.8289999999999997, 3.609, 3.7089999999999996, 4.769, 3.5989999999999998, 3.47, 3.5989999999999998, 5.178999999999999, 4.098, 4.197, 4.338, 2.748, 4.92, 3.4589999999999996, 3.9189999999999996, 3.9189999999999996, 4.548, 2.948, 3.748, 4.79, 3.55, 3.65, 4.52, 2.92, 3.39, 4.2989999999999995, 3.8989999999999996, 3.699, 3.799, 1.0, 1.0, 1.0, 1.0, 5.17, 4.14, 4.16, 4.598, 2.898, 3.748, 4.199, 3.299, 3.9989999999999997, 2.799, 3.299, 4.548, 2.8680000000000003, 3.748, 4.63, 3.57, 3.76, 4.0569999999999995, 2.997, 3.497, 4.0889999999999995, 3.299, 3.429, 3.4989999999999997, 4.099, 3.299, 3.569, 3.5989999999999998, 4.92, 2.97, 3.87, 3.99, 5.15, 3.12, 3.99, 4.09, 3.2239999999999998, 4.157, 2.88, 3.2889999999999997, 4.849, 3.299, 3.8789999999999996, 4.677, 2.998, 3.4389999999999996, 3.4989999999999997, 4.399, 3.3989999999999996, 3.449, 4.09, 3.39, 4.74, 2.92, 4.02, 4.12, 4.178999999999999, 3.449, 3.549, 400.0, 4.349, 3.199, 3.799, 4.468999999999999, 3.3989999999999996, 3.54, 3.6, 3.9589999999999996, 3.372, 3.239, 4.114, 3.263, 4.409, 3.449, 3.5389999999999997, 3.549, 4.7989999999999995, 2.889, 3.699, 3.799, 4.099, 3.3989999999999996, 4.74, 3.34, 3.719, 3.819, 4.399, 3.199, 3.799, 4.36, 4.595, 3.235, 3.555, 3.655, 4.749, 3.989, 4.849, 3.9589999999999996, 4.0489999999999995, 4.7589999999999995, 3.4989999999999997, 4.479, 3.5989999999999998, 3.8689999999999998, 3.9589999999999996, 4.94, 3.79, 4.09, 4.19, 4.678, 3.168, 3.2880000000000003, 3.2880000000000003, 4.31, 3.69, 4.859, 3.9389999999999996, 3.819, 3.9189999999999996, 4.399, 3.8489999999999998, 3.929, 4.999, 3.9389999999999996, 3.699, 4.828, 3.195, 3.79, 3.89, 4.899, 3.8989999999999996, 3.4989999999999997, 4.899, 4.099, 3.697, 4.999, 5.099, 4.399, 4.399, 3.3289999999999997, 3.638, 3.719, 5.0969999999999995, 3.715, 3.997, 4.0969999999999995, 3.199, 5.199, 4.7989999999999995, 3.9989999999999997, 5.199, 4.649, 3.8989999999999996, 5.2, 3.85, 3.78, 3.81, 4.59, 3.49, 3.69, 3.8, 4.69, 3.49, 3.69, 3.8, 4.249, 2.9589999999999996, 3.699, 4.897, 3.997, 3.097, 3.799, 3.898, 4.9, 3.55, 5.149, 3.569, 3.989, 4.859, 3.3989999999999996, 2.8989999999999996, 3.5589999999999997, 3.659, 4.5, 2.98, 3.41, 4.399, 3.199, 3.799, 4.379, 3.0989999999999998, 3.6689999999999996, 3.7689999999999997, 4.279, 3.0989999999999998, 3.5989999999999998, 3.699, 4.2989999999999995, 2.5989999999999998, 3.4389999999999996, 4.659, 3.779, 3.609, 4.999, 4.599, 2.9989999999999997, 3.8989999999999996, 4.479, 3.929, 3.3289999999999997, 4.398, 3.398, 3.668, 3.758, 3.799, 3.9989999999999997, 3.8489999999999998, 4.359, 3.799, 3.699, 3.799, 4.199, 3.4989999999999997, 4.0969999999999995, 3.497, 2.197, 3.437, 3.537, 4.58, 3.79, 3.89, 4.175, 3.375, 3.335, 4.0, 3.0, 3.0, 3.0, 4.399, 3.759, 3.859, 4.599, 2.8989999999999996, 3.199, 3.299, 4.947, 4.149, 3.327, 3.3939999999999997, 4.399, 3.4, 3.4989999999999997], \"y0\": \" \", \"yaxis\": \"y\"}],\n",
              "                        {\"boxmode\": \"group\", \"legend\": {\"tracegroupgap\": 0}, \"margin\": {\"t\": 60}, \"template\": {\"data\": {\"bar\": [{\"error_x\": {\"color\": \"#2a3f5f\"}, \"error_y\": {\"color\": \"#2a3f5f\"}, \"marker\": {\"line\": {\"color\": \"#E5ECF6\", \"width\": 0.5}}, \"type\": \"bar\"}], \"barpolar\": [{\"marker\": {\"line\": {\"color\": \"#E5ECF6\", \"width\": 0.5}}, \"type\": \"barpolar\"}], \"carpet\": [{\"aaxis\": {\"endlinecolor\": \"#2a3f5f\", \"gridcolor\": \"white\", \"linecolor\": \"white\", \"minorgridcolor\": \"white\", \"startlinecolor\": \"#2a3f5f\"}, \"baxis\": {\"endlinecolor\": \"#2a3f5f\", \"gridcolor\": \"white\", \"linecolor\": \"white\", \"minorgridcolor\": \"white\", \"startlinecolor\": \"#2a3f5f\"}, \"type\": \"carpet\"}], \"choropleth\": [{\"colorbar\": {\"outlinewidth\": 0, \"ticks\": \"\"}, \"type\": \"choropleth\"}], \"contour\": [{\"colorbar\": {\"outlinewidth\": 0, \"ticks\": \"\"}, \"colorscale\": [[0.0, \"#0d0887\"], [0.1111111111111111, \"#46039f\"], [0.2222222222222222, \"#7201a8\"], [0.3333333333333333, \"#9c179e\"], [0.4444444444444444, \"#bd3786\"], [0.5555555555555556, \"#d8576b\"], [0.6666666666666666, \"#ed7953\"], [0.7777777777777778, \"#fb9f3a\"], [0.8888888888888888, \"#fdca26\"], [1.0, \"#f0f921\"]], \"type\": \"contour\"}], \"contourcarpet\": [{\"colorbar\": {\"outlinewidth\": 0, \"ticks\": \"\"}, \"type\": \"contourcarpet\"}], \"heatmap\": [{\"colorbar\": {\"outlinewidth\": 0, \"ticks\": \"\"}, \"colorscale\": [[0.0, \"#0d0887\"], [0.1111111111111111, \"#46039f\"], [0.2222222222222222, \"#7201a8\"], [0.3333333333333333, \"#9c179e\"], [0.4444444444444444, \"#bd3786\"], [0.5555555555555556, \"#d8576b\"], [0.6666666666666666, \"#ed7953\"], [0.7777777777777778, \"#fb9f3a\"], [0.8888888888888888, \"#fdca26\"], [1.0, \"#f0f921\"]], \"type\": \"heatmap\"}], \"heatmapgl\": [{\"colorbar\": {\"outlinewidth\": 0, \"ticks\": \"\"}, \"colorscale\": [[0.0, \"#0d0887\"], [0.1111111111111111, \"#46039f\"], [0.2222222222222222, \"#7201a8\"], [0.3333333333333333, \"#9c179e\"], [0.4444444444444444, \"#bd3786\"], [0.5555555555555556, \"#d8576b\"], [0.6666666666666666, \"#ed7953\"], [0.7777777777777778, \"#fb9f3a\"], [0.8888888888888888, \"#fdca26\"], [1.0, \"#f0f921\"]], \"type\": \"heatmapgl\"}], \"histogram\": [{\"marker\": {\"colorbar\": {\"outlinewidth\": 0, \"ticks\": \"\"}}, \"type\": \"histogram\"}], \"histogram2d\": [{\"colorbar\": {\"outlinewidth\": 0, \"ticks\": \"\"}, \"colorscale\": [[0.0, \"#0d0887\"], [0.1111111111111111, \"#46039f\"], [0.2222222222222222, \"#7201a8\"], [0.3333333333333333, \"#9c179e\"], [0.4444444444444444, \"#bd3786\"], [0.5555555555555556, \"#d8576b\"], [0.6666666666666666, \"#ed7953\"], [0.7777777777777778, \"#fb9f3a\"], [0.8888888888888888, \"#fdca26\"], [1.0, \"#f0f921\"]], \"type\": \"histogram2d\"}], \"histogram2dcontour\": [{\"colorbar\": {\"outlinewidth\": 0, \"ticks\": \"\"}, \"colorscale\": [[0.0, \"#0d0887\"], [0.1111111111111111, \"#46039f\"], [0.2222222222222222, \"#7201a8\"], [0.3333333333333333, \"#9c179e\"], [0.4444444444444444, \"#bd3786\"], [0.5555555555555556, \"#d8576b\"], [0.6666666666666666, \"#ed7953\"], [0.7777777777777778, \"#fb9f3a\"], [0.8888888888888888, \"#fdca26\"], [1.0, \"#f0f921\"]], \"type\": \"histogram2dcontour\"}], \"mesh3d\": [{\"colorbar\": {\"outlinewidth\": 0, \"ticks\": \"\"}, \"type\": \"mesh3d\"}], \"parcoords\": [{\"line\": {\"colorbar\": {\"outlinewidth\": 0, \"ticks\": \"\"}}, \"type\": \"parcoords\"}], \"pie\": [{\"automargin\": true, \"type\": \"pie\"}], \"scatter\": [{\"marker\": {\"colorbar\": {\"outlinewidth\": 0, \"ticks\": \"\"}}, \"type\": \"scatter\"}], \"scatter3d\": [{\"line\": {\"colorbar\": {\"outlinewidth\": 0, \"ticks\": \"\"}}, \"marker\": {\"colorbar\": {\"outlinewidth\": 0, \"ticks\": \"\"}}, \"type\": \"scatter3d\"}], \"scattercarpet\": [{\"marker\": {\"colorbar\": {\"outlinewidth\": 0, \"ticks\": \"\"}}, \"type\": \"scattercarpet\"}], \"scattergeo\": [{\"marker\": {\"colorbar\": {\"outlinewidth\": 0, \"ticks\": \"\"}}, \"type\": \"scattergeo\"}], \"scattergl\": [{\"marker\": {\"colorbar\": {\"outlinewidth\": 0, \"ticks\": \"\"}}, \"type\": \"scattergl\"}], \"scattermapbox\": [{\"marker\": {\"colorbar\": {\"outlinewidth\": 0, \"ticks\": \"\"}}, \"type\": \"scattermapbox\"}], \"scatterpolar\": [{\"marker\": {\"colorbar\": {\"outlinewidth\": 0, \"ticks\": \"\"}}, \"type\": \"scatterpolar\"}], \"scatterpolargl\": [{\"marker\": {\"colorbar\": {\"outlinewidth\": 0, \"ticks\": \"\"}}, \"type\": \"scatterpolargl\"}], \"scatterternary\": [{\"marker\": {\"colorbar\": {\"outlinewidth\": 0, \"ticks\": \"\"}}, \"type\": \"scatterternary\"}], \"surface\": [{\"colorbar\": {\"outlinewidth\": 0, \"ticks\": \"\"}, \"colorscale\": [[0.0, \"#0d0887\"], [0.1111111111111111, \"#46039f\"], [0.2222222222222222, \"#7201a8\"], [0.3333333333333333, \"#9c179e\"], [0.4444444444444444, \"#bd3786\"], [0.5555555555555556, \"#d8576b\"], [0.6666666666666666, \"#ed7953\"], [0.7777777777777778, \"#fb9f3a\"], [0.8888888888888888, \"#fdca26\"], [1.0, \"#f0f921\"]], \"type\": \"surface\"}], \"table\": [{\"cells\": {\"fill\": {\"color\": \"#EBF0F8\"}, \"line\": {\"color\": \"white\"}}, \"header\": {\"fill\": {\"color\": \"#C8D4E3\"}, \"line\": {\"color\": \"white\"}}, \"type\": \"table\"}]}, \"layout\": {\"annotationdefaults\": {\"arrowcolor\": \"#2a3f5f\", \"arrowhead\": 0, \"arrowwidth\": 1}, \"coloraxis\": {\"colorbar\": {\"outlinewidth\": 0, \"ticks\": \"\"}}, \"colorscale\": {\"diverging\": [[0, \"#8e0152\"], [0.1, \"#c51b7d\"], [0.2, \"#de77ae\"], [0.3, \"#f1b6da\"], [0.4, \"#fde0ef\"], [0.5, \"#f7f7f7\"], [0.6, \"#e6f5d0\"], [0.7, \"#b8e186\"], [0.8, \"#7fbc41\"], [0.9, \"#4d9221\"], [1, \"#276419\"]], \"sequential\": [[0.0, \"#0d0887\"], [0.1111111111111111, \"#46039f\"], [0.2222222222222222, \"#7201a8\"], [0.3333333333333333, \"#9c179e\"], [0.4444444444444444, \"#bd3786\"], [0.5555555555555556, \"#d8576b\"], [0.6666666666666666, \"#ed7953\"], [0.7777777777777778, \"#fb9f3a\"], [0.8888888888888888, \"#fdca26\"], [1.0, \"#f0f921\"]], \"sequentialminus\": [[0.0, \"#0d0887\"], [0.1111111111111111, \"#46039f\"], [0.2222222222222222, \"#7201a8\"], [0.3333333333333333, \"#9c179e\"], [0.4444444444444444, \"#bd3786\"], [0.5555555555555556, \"#d8576b\"], [0.6666666666666666, \"#ed7953\"], [0.7777777777777778, \"#fb9f3a\"], [0.8888888888888888, \"#fdca26\"], [1.0, \"#f0f921\"]]}, \"colorway\": [\"#636efa\", \"#EF553B\", \"#00cc96\", \"#ab63fa\", \"#FFA15A\", \"#19d3f3\", \"#FF6692\", \"#B6E880\", \"#FF97FF\", \"#FECB52\"], \"font\": {\"color\": \"#2a3f5f\"}, \"geo\": {\"bgcolor\": \"white\", \"lakecolor\": \"white\", \"landcolor\": \"#E5ECF6\", \"showlakes\": true, \"showland\": true, \"subunitcolor\": \"white\"}, \"hoverlabel\": {\"align\": \"left\"}, \"hovermode\": \"closest\", \"mapbox\": {\"style\": \"light\"}, \"paper_bgcolor\": \"white\", \"plot_bgcolor\": \"#E5ECF6\", \"polar\": {\"angularaxis\": {\"gridcolor\": \"white\", \"linecolor\": \"white\", \"ticks\": \"\"}, \"bgcolor\": \"#E5ECF6\", \"radialaxis\": {\"gridcolor\": \"white\", \"linecolor\": \"white\", \"ticks\": \"\"}}, \"scene\": {\"xaxis\": {\"backgroundcolor\": \"#E5ECF6\", \"gridcolor\": \"white\", \"gridwidth\": 2, \"linecolor\": \"white\", \"showbackground\": true, \"ticks\": \"\", \"zerolinecolor\": \"white\"}, \"yaxis\": {\"backgroundcolor\": \"#E5ECF6\", \"gridcolor\": \"white\", \"gridwidth\": 2, \"linecolor\": \"white\", \"showbackground\": true, \"ticks\": \"\", \"zerolinecolor\": \"white\"}, \"zaxis\": {\"backgroundcolor\": \"#E5ECF6\", \"gridcolor\": \"white\", \"gridwidth\": 2, \"linecolor\": \"white\", \"showbackground\": true, \"ticks\": \"\", \"zerolinecolor\": \"white\"}}, \"shapedefaults\": {\"line\": {\"color\": \"#2a3f5f\"}}, \"ternary\": {\"aaxis\": {\"gridcolor\": \"white\", \"linecolor\": \"white\", \"ticks\": \"\"}, \"baxis\": {\"gridcolor\": \"white\", \"linecolor\": \"white\", \"ticks\": \"\"}, \"bgcolor\": \"#E5ECF6\", \"caxis\": {\"gridcolor\": \"white\", \"linecolor\": \"white\", \"ticks\": \"\"}}, \"title\": {\"x\": 0.05}, \"xaxis\": {\"automargin\": true, \"gridcolor\": \"white\", \"linecolor\": \"white\", \"ticks\": \"\", \"title\": {\"standoff\": 15}, \"zerolinecolor\": \"white\", \"zerolinewidth\": 2}, \"yaxis\": {\"automargin\": true, \"gridcolor\": \"white\", \"linecolor\": \"white\", \"ticks\": \"\", \"title\": {\"standoff\": 15}, \"zerolinecolor\": \"white\", \"zerolinewidth\": 2}}}, \"xaxis\": {\"anchor\": \"y\", \"domain\": [0.0, 1.0], \"title\": {\"text\": \"PRODUTO\"}}, \"yaxis\": {\"anchor\": \"x\", \"domain\": [0.0, 1.0], \"title\": {\"text\": \"VALOR VENDA\"}}},\n",
              "                        {\"responsive\": true}\n",
              "                    ).then(function(){\n",
              "                            \n",
              "var gd = document.getElementById('d7f08364-1da0-4225-9f1d-c5360a9b99f3');\n",
              "var x = new MutationObserver(function (mutations, observer) {{\n",
              "        var display = window.getComputedStyle(gd).display;\n",
              "        if (!display || display === 'none') {{\n",
              "            console.log([gd, 'removed!']);\n",
              "            Plotly.purge(gd);\n",
              "            observer.disconnect();\n",
              "        }}\n",
              "}});\n",
              "\n",
              "// Listen for the removal of the full notebook cells\n",
              "var notebookContainer = gd.closest('#notebook-container');\n",
              "if (notebookContainer) {{\n",
              "    x.observe(notebookContainer, {childList: true});\n",
              "}}\n",
              "\n",
              "// Listen for the clearing of the current output cell\n",
              "var outputEl = gd.closest('.output');\n",
              "if (outputEl) {{\n",
              "    x.observe(outputEl, {childList: true});\n",
              "}}\n",
              "\n",
              "                        })\n",
              "                };\n",
              "                \n",
              "            </script>\n",
              "        </div>\n",
              "</body>\n",
              "</html>"
            ]
          },
          "metadata": {
            "tags": []
          }
        }
      ]
    },
    {
      "cell_type": "markdown",
      "metadata": {
        "id": "3pDo7ksAn_SJ",
        "colab_type": "text"
      },
      "source": [
        "Note que o gráfico produzido pelo Plotly traz um número de ferramentas que podemos usar para aprofundar nossa investigação. Vamos destacar alguns deles:\n",
        "\n",
        "* Ao posicionar o mouse sobre um boxplot, vemos suas informação.\n",
        "* Ao posicionar o mouse sobre um outlier, podemos ver seu valor.\n",
        "* Podemos dar zoom sobre as partes do gráfico que mais nos interessem.\n",
        "* Podemos salvar o gráfico diretamente.\n",
        "\n",
        "Analisando especificamente os dados da base em questão, os valores inválidos aparentam ter sido informados sem casas decimais. Vamos verificar quantos valores estão acima de 10 reais:"
      ]
    },
    {
      "cell_type": "code",
      "metadata": {
        "id": "CVHddNxJpTRo",
        "colab_type": "code",
        "outputId": "7892b7e2-e532-49c7-e803-efba56a21a02",
        "colab": {
          "base_uri": "https://localhost:8080/",
          "height": 1000
        }
      },
      "source": [
        "preços.query(\"`VALOR VENDA` > 10\")"
      ],
      "execution_count": 0,
      "outputs": [
        {
          "output_type": "execute_result",
          "data": {
            "text/html": [
              "<div>\n",
              "<style scoped>\n",
              "    .dataframe tbody tr th:only-of-type {\n",
              "        vertical-align: middle;\n",
              "    }\n",
              "\n",
              "    .dataframe tbody tr th {\n",
              "        vertical-align: top;\n",
              "    }\n",
              "\n",
              "    .dataframe thead th {\n",
              "        text-align: right;\n",
              "    }\n",
              "</style>\n",
              "<table border=\"1\" class=\"dataframe\">\n",
              "  <thead>\n",
              "    <tr style=\"text-align: right;\">\n",
              "      <th></th>\n",
              "      <th>CNPJ</th>\n",
              "      <th>NOME</th>\n",
              "      <th>ENDEREÇO</th>\n",
              "      <th>COMPLEMENTO</th>\n",
              "      <th>BAIRRO</th>\n",
              "      <th>MUNICÍPIO</th>\n",
              "      <th>UF</th>\n",
              "      <th>PRODUTO</th>\n",
              "      <th>VALOR VENDA</th>\n",
              "      <th>DATA CADASTRO</th>\n",
              "    </tr>\n",
              "  </thead>\n",
              "  <tbody>\n",
              "    <tr>\n",
              "      <th>200</th>\n",
              "      <td>4528732000371</td>\n",
              "      <td>POSTO NOVA PIRAI</td>\n",
              "      <td>RUA XV DE NOVEMBRO,36</td>\n",
              "      <td>GALPAO</td>\n",
              "      <td>CENTRO</td>\n",
              "      <td>PIRAI</td>\n",
              "      <td>RJ</td>\n",
              "      <td>Gasolina C Comum</td>\n",
              "      <td>499.0</td>\n",
              "      <td>2019-08-16 11:39:00</td>\n",
              "    </tr>\n",
              "    <tr>\n",
              "      <th>201</th>\n",
              "      <td>4528732000371</td>\n",
              "      <td>POSTO NOVA PIRAI</td>\n",
              "      <td>RUA XV DE NOVEMBRO,36</td>\n",
              "      <td>GALPAO</td>\n",
              "      <td>CENTRO</td>\n",
              "      <td>PIRAI</td>\n",
              "      <td>RJ</td>\n",
              "      <td>Etanol</td>\n",
              "      <td>389.0</td>\n",
              "      <td>2019-08-16 11:39:00</td>\n",
              "    </tr>\n",
              "    <tr>\n",
              "      <th>202</th>\n",
              "      <td>4528732000371</td>\n",
              "      <td>POSTO NOVA PIRAI</td>\n",
              "      <td>RUA XV DE NOVEMBRO,36</td>\n",
              "      <td>GALPAO</td>\n",
              "      <td>CENTRO</td>\n",
              "      <td>PIRAI</td>\n",
              "      <td>RJ</td>\n",
              "      <td>GNV</td>\n",
              "      <td>349.0</td>\n",
              "      <td>2019-08-16 11:39:00</td>\n",
              "    </tr>\n",
              "    <tr>\n",
              "      <th>203</th>\n",
              "      <td>4528732000371</td>\n",
              "      <td>POSTO NOVA PIRAI</td>\n",
              "      <td>RUA XV DE NOVEMBRO,36</td>\n",
              "      <td>GALPAO</td>\n",
              "      <td>CENTRO</td>\n",
              "      <td>PIRAI</td>\n",
              "      <td>RJ</td>\n",
              "      <td>Diesel S500</td>\n",
              "      <td>349.0</td>\n",
              "      <td>2019-08-16 11:39:00</td>\n",
              "    </tr>\n",
              "    <tr>\n",
              "      <th>204</th>\n",
              "      <td>4528732000371</td>\n",
              "      <td>POSTO NOVA PIRAI</td>\n",
              "      <td>RUA XV DE NOVEMBRO,36</td>\n",
              "      <td>GALPAO</td>\n",
              "      <td>CENTRO</td>\n",
              "      <td>PIRAI</td>\n",
              "      <td>RJ</td>\n",
              "      <td>Diesel S10</td>\n",
              "      <td>359.0</td>\n",
              "      <td>2019-08-16 11:39:00</td>\n",
              "    </tr>\n",
              "    <tr>\n",
              "      <th>208</th>\n",
              "      <td>4624593000118</td>\n",
              "      <td>C JUSTINIANO ROCHA &amp; CIA LTDA.</td>\n",
              "      <td>AVENIDA LUCIO PEREIRA LUZ,790</td>\n",
              "      <td>NaN</td>\n",
              "      <td>CENTRO</td>\n",
              "      <td>LUCIARA</td>\n",
              "      <td>MT</td>\n",
              "      <td>Gasolina C Comum</td>\n",
              "      <td>550.0</td>\n",
              "      <td>2019-06-14 10:28:00</td>\n",
              "    </tr>\n",
              "    <tr>\n",
              "      <th>209</th>\n",
              "      <td>4624593000118</td>\n",
              "      <td>C JUSTINIANO ROCHA &amp; CIA LTDA.</td>\n",
              "      <td>AVENIDA LUCIO PEREIRA LUZ,790</td>\n",
              "      <td>NaN</td>\n",
              "      <td>CENTRO</td>\n",
              "      <td>LUCIARA</td>\n",
              "      <td>MT</td>\n",
              "      <td>Etanol</td>\n",
              "      <td>360.0</td>\n",
              "      <td>2019-06-14 10:28:00</td>\n",
              "    </tr>\n",
              "    <tr>\n",
              "      <th>210</th>\n",
              "      <td>4624593000118</td>\n",
              "      <td>C JUSTINIANO ROCHA &amp; CIA LTDA.</td>\n",
              "      <td>AVENIDA LUCIO PEREIRA LUZ,790</td>\n",
              "      <td>NaN</td>\n",
              "      <td>CENTRO</td>\n",
              "      <td>LUCIARA</td>\n",
              "      <td>MT</td>\n",
              "      <td>Diesel S500</td>\n",
              "      <td>445.0</td>\n",
              "      <td>2019-06-14 10:28:00</td>\n",
              "    </tr>\n",
              "    <tr>\n",
              "      <th>211</th>\n",
              "      <td>4624593000118</td>\n",
              "      <td>C JUSTINIANO ROCHA &amp; CIA LTDA.</td>\n",
              "      <td>AVENIDA LUCIO PEREIRA LUZ,790</td>\n",
              "      <td>NaN</td>\n",
              "      <td>CENTRO</td>\n",
              "      <td>LUCIARA</td>\n",
              "      <td>MT</td>\n",
              "      <td>Diesel S10</td>\n",
              "      <td>455.0</td>\n",
              "      <td>2019-06-14 10:28:00</td>\n",
              "    </tr>\n",
              "    <tr>\n",
              "      <th>442</th>\n",
              "      <td>10750422000138</td>\n",
              "      <td>POSTO PONTO CERTO</td>\n",
              "      <td>AVENIDA GOV. FERNANDO GUILHON,1300</td>\n",
              "      <td>NaN</td>\n",
              "      <td>SAO LUIZ II</td>\n",
              "      <td>CONCEICAO DO ARAGUAIA</td>\n",
              "      <td>PA</td>\n",
              "      <td>Gasolina C Comum</td>\n",
              "      <td>505.0</td>\n",
              "      <td>2019-05-13 16:43:00</td>\n",
              "    </tr>\n",
              "    <tr>\n",
              "      <th>443</th>\n",
              "      <td>10750422000138</td>\n",
              "      <td>POSTO PONTO CERTO</td>\n",
              "      <td>AVENIDA GOV. FERNANDO GUILHON,1300</td>\n",
              "      <td>NaN</td>\n",
              "      <td>SAO LUIZ II</td>\n",
              "      <td>CONCEICAO DO ARAGUAIA</td>\n",
              "      <td>PA</td>\n",
              "      <td>Diesel S500</td>\n",
              "      <td>405.0</td>\n",
              "      <td>2019-05-13 16:43:00</td>\n",
              "    </tr>\n",
              "    <tr>\n",
              "      <th>444</th>\n",
              "      <td>10750422000138</td>\n",
              "      <td>POSTO PONTO CERTO</td>\n",
              "      <td>AVENIDA GOV. FERNANDO GUILHON,1300</td>\n",
              "      <td>NaN</td>\n",
              "      <td>SAO LUIZ II</td>\n",
              "      <td>CONCEICAO DO ARAGUAIA</td>\n",
              "      <td>PA</td>\n",
              "      <td>Diesel S10</td>\n",
              "      <td>409.0</td>\n",
              "      <td>2019-05-13 16:43:00</td>\n",
              "    </tr>\n",
              "    <tr>\n",
              "      <th>782</th>\n",
              "      <td>27122920000139</td>\n",
              "      <td>WILSON FRANCISCO BARBOZA - EPP</td>\n",
              "      <td>RUA ANTONIO CABETTE,185</td>\n",
              "      <td>NaN</td>\n",
              "      <td>CENTRO</td>\n",
              "      <td>FERNAO</td>\n",
              "      <td>SP</td>\n",
              "      <td>Gasolina C Comum</td>\n",
              "      <td>400.0</td>\n",
              "      <td>2020-11-01 16:33:00</td>\n",
              "    </tr>\n",
              "  </tbody>\n",
              "</table>\n",
              "</div>"
            ],
            "text/plain": [
              "               CNPJ  ...       DATA CADASTRO\n",
              "200   4528732000371  ... 2019-08-16 11:39:00\n",
              "201   4528732000371  ... 2019-08-16 11:39:00\n",
              "202   4528732000371  ... 2019-08-16 11:39:00\n",
              "203   4528732000371  ... 2019-08-16 11:39:00\n",
              "204   4528732000371  ... 2019-08-16 11:39:00\n",
              "208   4624593000118  ... 2019-06-14 10:28:00\n",
              "209   4624593000118  ... 2019-06-14 10:28:00\n",
              "210   4624593000118  ... 2019-06-14 10:28:00\n",
              "211   4624593000118  ... 2019-06-14 10:28:00\n",
              "442  10750422000138  ... 2019-05-13 16:43:00\n",
              "443  10750422000138  ... 2019-05-13 16:43:00\n",
              "444  10750422000138  ... 2019-05-13 16:43:00\n",
              "782  27122920000139  ... 2020-11-01 16:33:00\n",
              "\n",
              "[13 rows x 10 columns]"
            ]
          },
          "metadata": {
            "tags": []
          },
          "execution_count": 6
        }
      ]
    },
    {
      "cell_type": "markdown",
      "metadata": {
        "id": "zDJlhkW-pqNZ",
        "colab_type": "text"
      },
      "source": [
        "Por serem poucas observações, podemos removê-las sem prejuízo à base:"
      ]
    },
    {
      "cell_type": "code",
      "metadata": {
        "id": "8dqF27f9pwBt",
        "colab_type": "code",
        "colab": {}
      },
      "source": [
        "preços = preços.query(\"`VALOR VENDA` <= 10\")"
      ],
      "execution_count": 0,
      "outputs": []
    },
    {
      "cell_type": "code",
      "metadata": {
        "id": "StO-RupEppqd",
        "colab_type": "code",
        "outputId": "ab973d92-ca28-4d93-b4a4-3a6e6c1df3f5",
        "colab": {
          "base_uri": "https://localhost:8080/",
          "height": 562
        }
      },
      "source": [
        "px.box(preços, x=\"PRODUTO\", y=\"VALOR VENDA\")"
      ],
      "execution_count": 0,
      "outputs": [
        {
          "output_type": "display_data",
          "data": {
            "text/html": [
              "<html>\n",
              "<head><meta charset=\"utf-8\" /></head>\n",
              "<body>\n",
              "    <div>\n",
              "            <script src=\"https://cdnjs.cloudflare.com/ajax/libs/mathjax/2.7.5/MathJax.js?config=TeX-AMS-MML_SVG\"></script><script type=\"text/javascript\">if (window.MathJax) {MathJax.Hub.Config({SVG: {font: \"STIX-Web\"}});}</script>\n",
              "                <script type=\"text/javascript\">window.PlotlyConfig = {MathJaxConfig: 'local'};</script>\n",
              "        <script src=\"https://cdn.plot.ly/plotly-latest.min.js\"></script>    \n",
              "            <div id=\"4510ba8f-96cd-4276-a639-7fc98232d206\" class=\"plotly-graph-div\" style=\"height:525px; width:100%;\"></div>\n",
              "            <script type=\"text/javascript\">\n",
              "                \n",
              "                    window.PLOTLYENV=window.PLOTLYENV || {};\n",
              "                    \n",
              "                if (document.getElementById(\"4510ba8f-96cd-4276-a639-7fc98232d206\")) {\n",
              "                    Plotly.newPlot(\n",
              "                        '4510ba8f-96cd-4276-a639-7fc98232d206',\n",
              "                        [{\"alignmentgroup\": \"True\", \"hoverlabel\": {\"namelength\": 0}, \"hovertemplate\": \"PRODUTO=%{x}<br>VALOR VENDA=%{y}\", \"legendgroup\": \"\", \"marker\": {\"color\": \"#636efa\"}, \"name\": \"\", \"notched\": false, \"offsetgroup\": \"\", \"orientation\": \"v\", \"showlegend\": false, \"type\": \"box\", \"x\": [\"Gasolina C Comum\", \"Etanol\", \"Diesel S500\", \"Diesel S10\", \"Gasolina C Comum\", \"Etanol\", \"Diesel S500\", \"Diesel S10\", \"Gasolina C Comum\", \"Etanol\", \"Diesel S10\", \"Gasolina C Comum\", \"Diesel S10\", \"Gasolina C Comum\", \"Diesel S500\", \"Gasolina C Comum\", \"Diesel S500\", \"Gasolina C Comum\", \"Etanol\", \"Diesel S500\", \"Diesel S10\", \"Gasolina C Comum\", \"Etanol\", \"Diesel S500\", \"Diesel S10\", \"Diesel S500\", \"Diesel S10\", \"Etanol\", \"Gasolina C Comum\", \"Gasolina C Comum\", \"Diesel S500\", \"Diesel S10\", \"Gasolina C Comum\", \"Etanol\", \"GNV\", \"Diesel S500\", \"Diesel S10\", \"Gasolina C Comum\", \"Etanol\", \"Diesel S500\", \"Diesel S10\", \"Gasolina C Comum\", \"Etanol\", \"Diesel S500\", \"Diesel S10\", \"Gasolina C Comum\", \"Diesel S500\", \"Diesel S10\", \"Gasolina C Comum\", \"Diesel S500\", \"Diesel S10\", \"Gasolina C Comum\", \"Etanol\", \"Diesel S10\", \"Gasolina C Comum\", \"Etanol\", \"Diesel S500\", \"Diesel S10\", \"Gasolina C Comum\", \"Diesel S500\", \"Diesel S10\", \"Etanol\", \"Gasolina C Comum\", \"Diesel S500\", \"Diesel S10\", \"Gasolina C Comum\", \"Etanol\", \"Diesel S500\", \"Diesel S10\", \"Gasolina C Comum\", \"Diesel S500\", \"Diesel S10\", \"Gasolina C Comum\", \"Diesel S500\", \"Diesel S10\", \"Etanol\", \"Gasolina C Comum\", \"Etanol\", \"Diesel S500\", \"Diesel S10\", \"Gasolina C Comum\", \"Etanol\", \"Diesel S500\", \"Diesel S10\", \"Gasolina C Comum\", \"Etanol\", \"Diesel S500\", \"Diesel S10\", \"Gasolina C Comum\", \"Etanol\", \"GNV\", \"Diesel S500\", \"Diesel S10\", \"Gasolina C Comum\", \"Diesel S500\", \"Diesel S10\", \"Gasolina C Comum\", \"Etanol\", \"Diesel S10\", \"Gasolina C Comum\", \"Etanol\", \"Diesel S500\", \"Diesel S10\", \"Gasolina C Comum\", \"Etanol\", \"Diesel S500\", \"Diesel S10\", \"Gasolina C Comum\", \"Etanol\", \"Diesel S500\", \"Diesel S10\", \"Gasolina C Comum\", \"Etanol\", \"Diesel S500\", \"Diesel S10\", \"Gasolina C Comum\", \"Etanol\", \"Gasolina C Comum\", \"Etanol\", \"Diesel S10\", \"Gasolina C Comum\", \"Etanol\", \"Diesel S500\", \"Diesel S10\", \"Gasolina C Comum\", \"Etanol\", \"Diesel S500\", \"Diesel S10\", \"Gasolina C Comum\", \"Diesel S500\", \"Diesel S10\", \"Gasolina C Comum\", \"Etanol\", \"Diesel S10\", \"Gasolina C Comum\", \"Diesel S500\", \"Diesel S10\", \"Gasolina C Comum\", \"Etanol\", \"Diesel S500\", \"Diesel S10\", \"Gasolina C Comum\", \"Diesel S500\", \"Diesel S10\", \"Gasolina C Comum\", \"Etanol\", \"Diesel S500\", \"Diesel S10\", \"Gasolina C Comum\", \"Etanol\", \"Diesel S500\", \"Diesel S10\", \"Gasolina C Comum\", \"Etanol\", \"Diesel S500\", \"Diesel S10\", \"Diesel S500\", \"Diesel S10\", \"Gasolina C Comum\", \"Etanol\", \"Gasolina C Comum\", \"Etanol\", \"Diesel S500\", \"Diesel S10\", \"Gasolina C Comum\", \"Etanol\", \"Diesel S500\", \"Diesel S10\", \"Gasolina C Comum\", \"Etanol\", \"GNV\", \"Diesel S10\", \"Gasolina C Comum\", \"Etanol\", \"Diesel S500\", \"Diesel S10\", \"Gasolina C Comum\", \"Etanol\", \"GNV\", \"Diesel S500\", \"Diesel S10\", \"Gasolina C Comum\", \"Etanol\", \"Diesel S500\", \"Diesel S10\", \"Gasolina C Comum\", \"Etanol\", \"Diesel S10\", \"Gasolina C Comum\", \"Etanol\", \"Diesel S500\", \"Diesel S10\", \"Gasolina C Comum\", \"Etanol\", \"Diesel S10\", \"Gasolina C Comum\", \"Etanol\", \"GNV\", \"Diesel S500\", \"Diesel S10\", \"Gasolina C Comum\", \"Diesel S500\", \"Diesel S10\", \"Gasolina C Comum\", \"Gasolina C Comum\", \"Etanol\", \"Diesel S500\", \"Diesel S10\", \"Gasolina C Comum\", \"Etanol\", \"Diesel S500\", \"Diesel S10\", \"Gasolina C Comum\", \"Etanol\", \"Diesel S500\", \"Diesel S10\", \"Gasolina C Comum\", \"Etanol\", \"Diesel S500\", \"Diesel S10\", \"Gasolina C Comum\", \"Etanol\", \"Diesel S10\", \"GNV\", \"Gasolina C Comum\", \"Etanol\", \"Diesel S10\", \"Gasolina C Comum\", \"Etanol\", \"Diesel S500\", \"Diesel S10\", \"GNV\", \"Gasolina C Comum\", \"Etanol\", \"Diesel S500\", \"Diesel S10\", \"Gasolina C Comum\", \"Etanol\", \"Diesel S500\", \"Diesel S10\", \"GNV\", \"Gasolina C Comum\", \"Etanol\", \"Diesel S10\", \"Gasolina C Comum\", \"Etanol\", \"Diesel S500\", \"Diesel S10\", \"Diesel S500\", \"Diesel S10\", \"Gasolina C Comum\", \"Gasolina C Comum\", \"Diesel S10\", \"Gasolina C Comum\", \"Etanol\", \"Diesel S500\", \"Diesel S10\", \"Gasolina C Comum\", \"Etanol\", \"Diesel S500\", \"Diesel S10\", \"Gasolina C Comum\", \"Etanol\", \"Diesel S10\", \"Gasolina C Comum\", \"Gasolina C Comum\", \"Diesel S10\", \"Gasolina C Comum\", \"Etanol\", \"Diesel S500\", \"Diesel S10\", \"Gasolina C Comum\", \"Diesel S500\", \"Diesel S10\", \"Gasolina C Comum\", \"Etanol\", \"Diesel S500\", \"Gasolina C Comum\", \"Etanol\", \"Diesel S500\", \"Gasolina C Comum\", \"Etanol\", \"Diesel S10\", \"Gasolina C Comum\", \"Diesel S10\", \"Gasolina C Comum\", \"Etanol\", \"Diesel S500\", \"Diesel S10\", \"Gasolina C Comum\", \"Etanol\", \"Diesel S10\", \"Gasolina C Comum\", \"Etanol\", \"Diesel S10\", \"Gasolina C Comum\", \"Diesel S500\", \"Diesel S10\", \"Gasolina C Comum\", \"Diesel S500\", \"Diesel S10\", \"Gasolina C Comum\", \"Diesel S500\", \"Diesel S10\", \"Gasolina C Comum\", \"Etanol\", \"Diesel S10\", \"Gasolina C Comum\", \"Diesel S500\", \"Diesel S10\", \"Gasolina C Comum\", \"Etanol\", \"Diesel S10\", \"Gasolina C Comum\", \"Etanol\", \"GNV\", \"Diesel S10\", \"Diesel S500\", \"Diesel S10\", \"Gasolina C Comum\", \"Etanol\", \"Diesel S10\", \"Gasolina C Comum\", \"Diesel S10\", \"Gasolina C Comum\", \"Diesel S500\", \"Diesel S10\", \"Gasolina C Comum\", \"Etanol\", \"Diesel S10\", \"Gasolina C Comum\", \"Etanol\", \"Diesel S10\", \"Diesel S10\", \"Gasolina C Comum\", \"Etanol\", \"Gasolina C Comum\", \"Etanol\", \"Diesel S10\", \"Gasolina C Comum\", \"Etanol\", \"Diesel S10\", \"Gasolina C Comum\", \"Etanol\", \"Diesel S500\", \"Diesel S10\", \"Gasolina C Comum\", \"Diesel S500\", \"Diesel S10\", \"Gasolina C Comum\", \"Etanol\", \"GNV\", \"Diesel S500\", \"Diesel S10\", \"Gasolina C Comum\", \"Diesel S500\", \"Diesel S10\", \"Gasolina C Comum\", \"Etanol\", \"Diesel S500\", \"Diesel S10\", \"Gasolina C Comum\", \"Diesel S500\", \"Diesel S10\", \"Gasolina C Comum\", \"Etanol\", \"Diesel S500\", \"Diesel S10\", \"Gasolina C Comum\", \"Etanol\", \"Diesel S10\", \"Gasolina C Comum\", \"Etanol\", \"Diesel S10\", \"Gasolina C Comum\", \"Etanol\", \"Diesel S10\", \"Gasolina C Comum\", \"Etanol\", \"Diesel S500\", \"Diesel S10\", \"Gasolina C Comum\", \"Diesel S500\", \"Diesel S10\", \"Gasolina C Comum\", \"Etanol\", \"Diesel S500\", \"Diesel S10\", \"Gasolina C Comum\", \"Diesel S500\", \"Diesel S10\", \"Gasolina C Comum\", \"Diesel S500\", \"Diesel S10\", \"Gasolina C Comum\", \"Diesel S500\", \"Diesel S10\", \"Gasolina C Comum\", \"Etanol\", \"Diesel S500\", \"Gasolina C Comum\", \"Etanol\", \"Diesel S10\", \"Gasolina C Comum\", \"Etanol\", \"Diesel S500\", \"Diesel S10\", \"Gasolina C Comum\", \"Etanol\", \"Diesel S500\", \"Diesel S10\", \"Gasolina C Comum\", \"Etanol\", \"Diesel S500\", \"Diesel S10\", \"Gasolina C Comum\", \"Diesel S500\", \"Gasolina C Comum\", \"Diesel S500\", \"Gasolina C Comum\", \"Diesel S10\", \"Gasolina C Comum\", \"Diesel S10\", \"Gasolina C Comum\", \"Etanol\", \"Gasolina C Comum\", \"Etanol\", \"Diesel S10\", \"Gasolina C Comum\", \"Etanol\", \"Gasolina C Comum\", \"Diesel S500\", \"Diesel S10\", \"Gasolina C Comum\", \"Etanol\", \"Diesel S500\", \"Diesel S10\", \"Gasolina C Comum\", \"Etanol\", \"Diesel S500\", \"Diesel S10\", \"Gasolina C Comum\", \"Etanol\", \"Diesel S10\", \"Gasolina C Comum\", \"Diesel S500\", \"Diesel S10\", \"Gasolina C Comum\", \"Etanol\", \"Diesel S500\", \"Diesel S10\", \"Gasolina C Comum\", \"Etanol\", \"Diesel S10\", \"Gasolina C Comum\", \"Etanol\", \"Diesel S500\", \"Diesel S10\", \"Gasolina C Comum\", \"Etanol\", \"Diesel S500\", \"Gasolina C Comum\", \"Etanol\", \"Diesel S500\", \"Diesel S10\", \"Gasolina C Comum\", \"Diesel S500\", \"Diesel S10\", \"Gasolina C Comum\", \"Etanol\", \"Diesel S500\", \"Diesel S10\", \"Gasolina C Comum\", \"Diesel S500\", \"Diesel S10\", \"Gasolina C Comum\", \"Etanol\", \"Diesel S500\", \"Diesel S10\", \"GNV\", \"Gasolina C Comum\", \"Etanol\", \"Diesel S500\", \"Diesel S10\", \"Gasolina C Comum\", \"Diesel S500\", \"Diesel S10\", \"Gasolina C Comum\", \"Gasolina C Comum\", \"Etanol\", \"Diesel S500\", \"Diesel S10\", \"Gasolina C Comum\", \"Diesel S500\", \"Diesel S10\", \"Diesel S500\", \"Diesel S10\", \"Gasolina C Comum\", \"Etanol\", \"Diesel S500\", \"Diesel S10\", \"Gasolina C Comum\", \"Diesel S500\", \"Diesel S10\", \"Gasolina C Comum\", \"Diesel S500\", \"Diesel S10\", \"Gasolina C Comum\", \"Diesel S500\", \"Diesel S10\", \"Diesel S500\", \"Diesel S10\", \"Gasolina C Comum\", \"Etanol\", \"Gasolina C Comum\", \"Etanol\", \"Diesel S500\", \"Diesel S10\", \"Gasolina C Comum\", \"Etanol\", \"Diesel S500\", \"Gasolina C Comum\", \"Etanol\", \"Diesel S500\", \"Diesel S10\", \"Gasolina C Comum\", \"Etanol\", \"Diesel S500\", \"Gasolina C Comum\", \"Etanol\", \"Diesel S10\", \"Gasolina C Comum\", \"Etanol\", \"Diesel S500\", \"Diesel S10\", \"Gasolina C Comum\", \"Etanol\", \"Diesel S10\", \"Gasolina C Comum\", \"Diesel S500\", \"Diesel S500\", \"Diesel S10\", \"Gasolina C Comum\", \"Etanol\", \"Gasolina C Comum\", \"Etanol\", \"Diesel S500\", \"Diesel S10\", \"Gasolina C Comum\", \"Etanol\", \"Diesel S10\", \"Gasolina C Comum\", \"Etanol\", \"Diesel S500\", \"Diesel S10\", \"Gasolina C Comum\", \"Etanol\", \"Diesel S10\", \"Gasolina C Comum\", \"Diesel S500\", \"Diesel S10\", \"Diesel S10\", \"Gasolina C Comum\", \"Etanol\", \"Diesel S500\", \"Gasolina C Comum\", \"Etanol\", \"Diesel S500\", \"Diesel S10\", \"Gasolina C Comum\", \"Etanol\", \"Diesel S500\", \"Diesel S10\", \"Gasolina C Comum\", \"Etanol\", \"Diesel S10\", \"Gasolina C Comum\", \"Etanol\", \"Diesel S10\", \"Gasolina C Comum\", \"Diesel S500\", \"Diesel S10\", \"Gasolina C Comum\", \"Etanol\", \"Diesel S500\", \"Diesel S10\", \"Gasolina C Comum\", \"Etanol\", \"Diesel S10\", \"Gasolina C Comum\", \"Diesel S500\", \"Diesel S10\", \"Gasolina C Comum\", \"Etanol\", \"Diesel S500\", \"Gasolina C Comum\", \"Etanol\", \"Diesel S500\", \"Diesel S10\", \"Gasolina C Comum\", \"Diesel S500\", \"Diesel S10\", \"Gasolina C Comum\", \"Etanol\", \"Diesel S10\", \"Gasolina C Comum\", \"Etanol\", \"Diesel S500\", \"Gasolina C Comum\", \"Etanol\", \"GNV\", \"Diesel S500\", \"Diesel S10\", \"Gasolina C Comum\", \"Etanol\", \"Diesel S500\", \"Diesel S10\", \"Gasolina C Comum\", \"Etanol\", \"Diesel S500\", \"Diesel S10\", \"Gasolina C Comum\", \"Etanol\", \"Diesel S10\", \"Gasolina C Comum\", \"Etanol\", \"Diesel S500\", \"Diesel S10\", \"Gasolina C Comum\", \"Etanol\", \"Diesel S500\", \"Diesel S10\", \"Gasolina C Comum\", \"Etanol\", \"Diesel S500\", \"Diesel S10\", \"Gasolina C Comum\", \"Diesel S500\", \"Diesel S10\", \"Gasolina C Comum\", \"Etanol\", \"Diesel S10\", \"Gasolina C Comum\", \"Etanol\", \"Gasolina C Comum\", \"Diesel S500\", \"Diesel S10\", \"GNV\", \"Gasolina C Comum\", \"Etanol\", \"Diesel S500\", \"Diesel S10\", \"Diesel S500\", \"Diesel S10\", \"Gasolina C Comum\", \"Etanol\", \"Gasolina C Comum\", \"Etanol\", \"Diesel S500\", \"Diesel S10\", \"Gasolina C Comum\", \"Diesel S500\", \"Diesel S10\", \"Gasolina C Comum\", \"Diesel S10\", \"Gasolina C Comum\", \"Etanol\", \"Diesel S10\", \"Gasolina C Comum\", \"Diesel S500\", \"Diesel S10\", \"Gasolina C Comum\", \"Etanol\", \"Diesel S500\", \"Diesel S10\", \"Gasolina C Comum\", \"Etanol\", \"Diesel S10\", \"Gasolina C Comum\", \"Diesel S500\", \"Diesel S10\", \"Gasolina C Comum\", \"Etanol\", \"Diesel S500\", \"Diesel S10\", \"Gasolina C Comum\", \"Diesel S500\", \"Diesel S10\", \"Gasolina C Comum\", \"Etanol\", \"Gasolina C Comum\", \"Etanol\", \"Diesel S500\", \"Diesel S10\", \"Gasolina C Comum\", \"Etanol\", \"Diesel S10\", \"Gasolina C Comum\", \"Diesel S500\", \"Diesel S10\", \"Gasolina C Comum\", \"Etanol\", \"Diesel S10\", \"Gasolina C Comum\", \"Etanol\", \"Diesel S500\", \"Diesel S10\", \"Gasolina C Comum\", \"Etanol\", \"GNV\", \"Diesel S10\", \"Gasolina C Comum\", \"Diesel S500\", \"Diesel S10\", \"Gasolina C Comum\", \"Etanol\", \"Diesel S10\", \"Gasolina C Comum\", \"Diesel S10\", \"Gasolina C Comum\", \"Etanol\", \"Diesel S10\", \"Gasolina C Comum\", \"Etanol\", \"Diesel S10\", \"Gasolina C Comum\", \"Diesel S500\", \"Diesel S10\", \"Gasolina C Comum\", \"Etanol\", \"Diesel S10\", \"Gasolina C Comum\", \"Etanol\", \"Diesel S500\", \"Diesel S10\", \"Gasolina C Comum\", \"Etanol\", \"Diesel S500\", \"Diesel S10\", \"Gasolina C Comum\", \"Etanol\", \"Diesel S500\", \"Diesel S10\", \"Gasolina C Comum\", \"Etanol\", \"Diesel S500\", \"Diesel S10\", \"Diesel S500\", \"Gasolina C Comum\", \"Etanol\", \"Diesel S10\", \"Gasolina C Comum\", \"Etanol\", \"Diesel S10\", \"Gasolina C Comum\", \"Etanol\", \"Diesel S500\", \"Diesel S10\", \"Gasolina C Comum\", \"Diesel S500\", \"Diesel S10\", \"Gasolina C Comum\", \"Diesel S10\", \"Gasolina C Comum\", \"Etanol\", \"Diesel S500\", \"Diesel S10\", \"Gasolina C Comum\", \"Diesel S500\", \"Diesel S10\", \"Gasolina C Comum\", \"Etanol\", \"Diesel S10\", \"Gasolina C Comum\", \"Etanol\", \"Diesel S500\", \"Diesel S10\", \"Gasolina C Comum\", \"Etanol\", \"Diesel S10\", \"Gasolina C Comum\", \"Diesel S10\", \"Gasolina C Comum\", \"Etanol\", \"Diesel S500\", \"Diesel S10\", \"Gasolina C Comum\", \"Etanol\", \"Diesel S500\", \"Diesel S10\", \"Gasolina C Comum\", \"Diesel S10\", \"Gasolina C Comum\", \"Etanol\", \"Diesel S500\", \"Diesel S10\", \"Gasolina C Comum\", \"Etanol\", \"Diesel S10\", \"Gasolina C Comum\", \"Gasolina C Comum\", \"Etanol\", \"Diesel S500\", \"Diesel S10\", \"Gasolina C Comum\", \"Etanol\", \"GNV\", \"Diesel S500\", \"Diesel S10\", \"Gasolina C Comum\", \"Diesel S10\", \"Gasolina C Comum\", \"Etanol\", \"Diesel S500\", \"Diesel S10\", \"Gasolina C Comum\", \"Etanol\", \"Diesel S500\", \"Diesel S10\", \"Gasolina C Comum\", \"Etanol\", \"Diesel S10\", \"Diesel S500\", \"Gasolina C Comum\", \"Diesel S10\", \"Gasolina C Comum\", \"Etanol\", \"Diesel S500\", \"Diesel S10\", \"Gasolina C Comum\", \"Etanol\", \"Diesel S10\", \"Gasolina C Comum\", \"Etanol\", \"Diesel S10\", \"Gasolina C Comum\", \"Etanol\", \"Diesel S500\", \"Diesel S10\", \"Gasolina C Comum\", \"Etanol\", \"Diesel S10\", \"Gasolina C Comum\", \"Etanol\", \"Diesel S10\", \"Gasolina C Comum\", \"Gasolina C Comum\", \"Etanol\", \"Gasolina C Comum\", \"Etanol\", \"Diesel S500\", \"Diesel S10\", \"Gasolina C Comum\", \"Etanol\", \"Diesel S500\", \"Diesel S10\", \"GNV\", \"Gasolina C Comum\", \"Etanol\", \"Diesel S10\", \"Gasolina C Comum\", \"Etanol\", \"Diesel S10\", \"Gasolina C Comum\", \"Etanol\", \"Diesel S500\", \"Diesel S10\", \"Gasolina C Comum\", \"Etanol\", \"Diesel S500\", \"Diesel S10\", \"Gasolina C Comum\", \"Etanol\", \"Diesel S500\", \"Diesel S10\", \"Gasolina C Comum\", \"Etanol\", \"Diesel S10\", \"Gasolina C Comum\", \"Etanol\", \"GNV\", \"Diesel S500\", \"Diesel S10\", \"Gasolina C Comum\", \"Diesel S10\", \"Gasolina C Comum\", \"Etanol\", \"Diesel S10\", \"Gasolina C Comum\", \"Etanol\", \"GNV\", \"Diesel S500\", \"Diesel S10\", \"Gasolina C Comum\", \"Etanol\", \"Diesel S500\", \"Gasolina C Comum\", \"Etanol\", \"Diesel S10\", \"Gasolina C Comum\", \"Etanol\", \"Diesel S500\", \"Diesel S10\", \"Gasolina C Comum\", \"Etanol\", \"Diesel S500\", \"Diesel S10\", \"Gasolina C Comum\", \"Etanol\", \"Diesel S10\", \"Gasolina C Comum\", \"Etanol\", \"Diesel S10\", \"Gasolina C Comum\", \"Etanol\", \"GNV\", \"Diesel S10\", \"Gasolina C Comum\", \"Etanol\", \"Diesel S500\", \"Gasolina C Comum\", \"Etanol\", \"Diesel S500\", \"Diesel S10\", \"Gasolina C Comum\", \"Etanol\", \"Diesel S10\", \"Gasolina C Comum\", \"Etanol\", \"Diesel S500\", \"Diesel S10\", \"Gasolina C Comum\", \"Diesel S10\", \"Gasolina C Comum\", \"Etanol\", \"GNV\", \"Diesel S500\", \"Diesel S10\", \"Gasolina C Comum\", \"Diesel S500\", \"Diesel S10\", \"Gasolina C Comum\", \"Etanol\", \"Diesel S10\", \"Gasolina C Comum\", \"Etanol\", \"Diesel S500\", \"Diesel S10\", \"Gasolina C Comum\", \"Diesel S500\", \"Diesel S10\", \"Gasolina C Comum\", \"GNV\", \"Diesel S500\", \"Diesel S10\", \"Gasolina C Comum\", \"Etanol\", \"Diesel S500\", \"Diesel S10\", \"Gasolina C Comum\", \"Diesel S500\", \"Diesel S10\"], \"x0\": \" \", \"xaxis\": \"x\", \"y\": [4.436, 3.4819999999999998, 3.6439999999999997, 3.734, 4.349, 3.5989999999999998, 3.4989999999999997, 3.5989999999999998, 4.289, 3.49, 4.05, 4.169, 3.659, 4.8, 3.78, 4.8, 3.81, 4.49, 3.29, 3.69, 3.79, 4.258, 3.299, 3.5989999999999998, 3.699, 3.799, 3.8989999999999996, 3.299, 4.687, 4.599, 3.8489999999999998, 3.8989999999999996, 4.2989999999999995, 2.8989999999999996, 2.9989999999999997, 3.5989999999999998, 3.699, 4.76, 3.39, 3.69, 3.73, 4.72, 2.99, 3.49, 3.59, 4.59, 3.69, 3.79, 4.39, 3.47, 3.57, 4.099, 3.299, 3.5989999999999998, 4.849, 3.299, 3.699, 3.799, 4.399, 3.4989999999999997, 3.529, 3.319, 4.7989999999999995, 3.4789999999999996, 3.549, 4.646, 3.4560000000000004, 3.346, 3.406, 4.99, 3.8, 3.85, 4.69, 3.49, 3.54, 4.69, 4.439, 3.4989999999999997, 3.3689999999999998, 3.389, 5.48, 3.48, 4.07, 4.12, 4.099, 2.799, 3.5989999999999998, 3.699, 4.2989999999999995, 3.8989999999999996, 3.5989999999999998, 3.699, 3.799, 4.399, 3.699, 3.799, 3.799, 3.299, 3.299, 4.899, 3.8989999999999996, 3.639, 3.739, 4.97, 3.94, 3.85, 3.89, 4.499, 3.259, 3.4989999999999997, 3.589, 5.08, 3.69, 3.99, 4.09, 4.0889999999999995, 2.5989999999999998, 4.0489999999999995, 2.799, 3.5989999999999998, 4.859, 3.1489999999999996, 3.8989999999999996, 3.969, 4.96, 3.15, 4.1, 4.2, 4.7989999999999995, 3.449, 3.4989999999999997, 4.0969999999999995, 3.2969999999999997, 3.5869999999999997, 4.85, 3.75, 3.8, 4.199, 2.9989999999999997, 3.39, 3.49, 4.449, 3.3989999999999996, 3.469, 4.649, 2.99, 3.33, 3.42, 3.9989999999999997, 2.9989999999999997, 3.4989999999999997, 3.5989999999999998, 5.399, 3.4989999999999997, 3.75, 3.85, 4.24, 4.32, 4.75, 4.08, 4.85, 4.29, 3.79, 3.84, 4.769, 3.8989999999999996, 3.8689999999999998, 3.969, 4.99, 3.49, 2.799, 3.53, 4.499, 3.0989999999999998, 3.679, 3.739, 4.7989999999999995, 3.9989999999999997, 3.0989999999999998, 3.699, 3.799, 4.73, 2.95, 3.92, 3.99, 4.699, 3.9989999999999997, 3.9989999999999997, 4.809, 3.3989999999999996, 3.699, 3.799, 4.599, 3.4989999999999997, 3.5989999999999998, 5.2989999999999995, 4.2989999999999995, 3.5989999999999998, 3.799, 3.8989999999999996, 4.45, 3.7, 3.75, 3.98, 4.89, 4.23, 3.93, 4.03, 4.89, 4.23, 3.93, 4.03, 4.298, 4.288, 3.938, 3.998, 4.099, 2.799, 3.5989999999999998, 3.699, 5.149, 4.699, 3.9989999999999997, 3.199, 3.779, 3.0989999999999998, 3.398, 5.093999999999999, 3.096, 3.79, 3.85, 2.8489999999999998, 4.95, 3.85, 3.96, 3.99, 4.519, 3.679, 3.219, 3.2689999999999997, 0.001, 4.0969999999999995, 2.7969999999999997, 3.397, 4.379, 2.799, 3.5989999999999998, 3.699, 3.719, 3.819, 4.699, 4.249, 3.799, 3.94, 3.97, 3.65, 3.75, 4.49, 4.43, 3.94, 4.01, 4.56, 3.18, 3.35, 4.669, 5.17, 4.16, 4.49, 3.39, 3.55, 3.59, 4.399, 3.0989999999999998, 3.1489999999999996, 4.999, 2.9989999999999997, 3.8489999999999998, 3.947, 3.128, 3.0989999999999998, 4.099, 3.3989999999999996, 3.799, 4.7989999999999995, 3.8989999999999996, 4.297, 3.697, 3.877, 3.947, 4.659, 3.3989999999999996, 3.9989999999999997, 4.249, 3.0989999999999998, 3.7489999999999997, 4.77, 3.74, 3.8, 4.579, 3.4989999999999997, 3.5389999999999997, 4.388999999999999, 3.4989999999999997, 3.5789999999999997, 4.468999999999999, 3.9989999999999997, 3.8989999999999996, 4.17, 3.64, 3.66, 4.59, 3.23, 3.62, 4.899, 3.299, 2.588, 3.489, 3.68, 3.78, 3.9989999999999997, 2.8989999999999996, 3.299, 4.149, 3.549, 4.7989999999999995, 3.859, 3.9589999999999996, 4.53, 3.69, 3.69, 4.53, 3.69, 3.69, 3.67, 4.53, 3.69, 4.49, 3.69, 3.69, 5.07, 4.17, 3.87, 4.859, 2.9989999999999997, 3.8989999999999996, 3.9989999999999997, 4.49, 3.76, 3.86, 4.39, 3.38, 1.0, 1.0, 4.7989999999999995, 4.74, 3.61, 3.69, 4.6, 3.0, 3.69, 3.79, 4.74, 3.85, 3.9, 4.379, 3.5989999999999998, 3.3789999999999996, 3.4789999999999996, 4.897, 3.597, 3.697, 4.999, 3.4989999999999997, 3.4989999999999997, 4.399, 3.79, 3.35, 4.899, 3.9989999999999997, 3.5989999999999998, 3.699, 4.79, 3.3989999999999996, 3.4989999999999997, 4.73, 4.37, 4.01, 4.09, 4.73, 4.01, 4.09, 4.699, 3.5389999999999997, 3.639, 4.399, 3.3989999999999996, 3.4989999999999997, 4.63, 3.95, 3.79, 4.45, 3.3, 3.65, 5.039, 3.8689999999999998, 3.8989999999999996, 3.9589999999999996, 4.499, 3.299, 3.699, 3.799, 4.099, 2.799, 3.5989999999999998, 3.699, 4.87, 3.699, 4.769, 3.589, 4.599, 3.799, 4.7589999999999995, 3.4989999999999997, 4.5680000000000005, 2.798, 4.2989999999999995, 2.9989999999999997, 3.699, 3.989, 2.249, 4.7989999999999995, 3.5, 3.6, 4.2989999999999995, 2.9989999999999997, 3.3989999999999996, 3.4989999999999997, 4.0489999999999995, 2.189, 3.1289999999999996, 3.239, 4.69, 3.79, 3.87, 4.75, 3.97, 4.01, 4.859, 3.24, 3.8989999999999996, 3.969, 4.409, 3.159, 3.679, 4.77, 4.599, 3.5989999999999998, 3.699, 4.659, 2.8989999999999996, 3.5989999999999998, 4.649, 3.2489999999999997, 3.779, 3.8489999999999998, 4.64, 3.77, 3.81, 4.399, 3.48, 3.6489999999999996, 3.699, 4.449, 3.3989999999999996, 3.469, 4.269, 3.694, 3.509, 3.5989999999999998, 0.001, 4.69, 3.09, 3.34, 3.65, 4.73, 3.647, 3.715, 4.65, 4.7589999999999995, 3.299, 4.1, 4.15, 4.599, 3.199, 3.299, 3.62, 3.72, 4.7989999999999995, 2.8789999999999996, 3.699, 3.799, 3.65, 3.627, 3.661, 4.749, 3.7489999999999997, 3.799, 4.749, 3.8489999999999998, 3.8989999999999996, 3.79, 3.97, 4.64, 3.59, 4.499, 3.259, 3.4989999999999997, 3.589, 4.14, 3.18, 3.49, 4.7989999999999995, 3.4989999999999997, 3.9989999999999997, 4.099, 4.09, 2.49, 3.06, 4.99, 3.29, 3.99, 4.769, 3.5989999999999998, 3.47, 3.59, 4.374, 4.499, 3.535, 4.649, 4.059, 3.549, 3.5989999999999998, 4.579, 3.9989999999999997, 4.218999999999999, 2.699, 3.089, 3.139, 4.09, 3.197, 3.497, 4.848, 2.948, 3.656, 3.7889999999999997, 4.499, 2.5989999999999998, 3.4989999999999997, 4.75, 3.87, 3.98, 3.8989999999999996, 4.879, 3.239, 3.839, 4.7989999999999995, 3.3989999999999996, 3.7689999999999997, 3.8689999999999998, 4.7, 3.6, 3.95, 4.06, 4.999, 3.4989999999999997, 4.0489999999999995, 4.199, 2.559, 3.4989999999999997, 4.399, 3.5989999999999998, 3.699, 4.769, 3.9989999999999997, 3.6289999999999996, 3.6889999999999996, 4.396, 3.7460000000000004, 3.946, 4.7589999999999995, 3.4989999999999997, 3.5589999999999997, 5.48, 3.48, 4.07, 4.33, 3.59, 3.38, 3.48, 5.04, 4.01, 4.03, 3.9989999999999997, 2.299, 3.1889999999999996, 4.7989999999999995, 3.9989999999999997, 3.3989999999999996, 5.199, 3.799, 5.099, 3.589, 3.639, 4.2989999999999995, 3.8989999999999996, 3.699, 3.799, 4.7989999999999995, 3.15, 3.85, 3.89, 4.2989999999999995, 2.8989999999999996, 3.569, 4.49, 2.65, 3.3989999999999996, 3.5, 4.92, 3.06, 4.08, 4.18, 4.64, 2.99, 3.79, 3.81, 5.02, 4.03, 4.06, 4.2989999999999995, 2.9989999999999997, 3.6489999999999996, 3.9989999999999997, 2.349, 4.559, 3.58, 3.68, 1.0, 4.7989999999999995, 2.799, 3.799, 3.8989999999999996, 3.62, 3.72, 4.81, 4.16, 4.19, 2.99, 3.39, 3.49, 4.399, 3.3989999999999996, 3.469, 4.399, 3.4989999999999997, 4.269, 3.199, 3.5989999999999998, 4.539, 3.339, 3.4389999999999996, 4.249, 3.9989999999999997, 3.549, 3.5989999999999998, 4.47, 3.13, 3.56, 3.8289999999999997, 3.609, 3.7089999999999996, 4.769, 3.5989999999999998, 3.47, 3.5989999999999998, 5.178999999999999, 4.098, 4.197, 4.338, 2.748, 4.92, 3.4589999999999996, 3.9189999999999996, 3.9189999999999996, 4.548, 2.948, 3.748, 4.79, 3.55, 3.65, 4.52, 2.92, 3.39, 4.2989999999999995, 3.8989999999999996, 3.699, 3.799, 1.0, 1.0, 1.0, 1.0, 5.17, 4.14, 4.16, 4.598, 2.898, 3.748, 4.199, 3.299, 3.9989999999999997, 2.799, 3.299, 4.548, 2.8680000000000003, 3.748, 4.63, 3.57, 3.76, 4.0569999999999995, 2.997, 3.497, 4.0889999999999995, 3.299, 3.429, 3.4989999999999997, 4.099, 3.299, 3.569, 3.5989999999999998, 4.92, 2.97, 3.87, 3.99, 5.15, 3.12, 3.99, 4.09, 3.2239999999999998, 4.157, 2.88, 3.2889999999999997, 4.849, 3.299, 3.8789999999999996, 4.677, 2.998, 3.4389999999999996, 3.4989999999999997, 4.399, 3.3989999999999996, 3.449, 4.09, 3.39, 4.74, 2.92, 4.02, 4.12, 4.178999999999999, 3.449, 3.549, 4.349, 3.199, 3.799, 4.468999999999999, 3.3989999999999996, 3.54, 3.6, 3.9589999999999996, 3.372, 3.239, 4.114, 3.263, 4.409, 3.449, 3.5389999999999997, 3.549, 4.7989999999999995, 2.889, 3.699, 3.799, 4.099, 3.3989999999999996, 4.74, 3.34, 3.719, 3.819, 4.399, 3.199, 3.799, 4.36, 4.595, 3.235, 3.555, 3.655, 4.749, 3.989, 4.849, 3.9589999999999996, 4.0489999999999995, 4.7589999999999995, 3.4989999999999997, 4.479, 3.5989999999999998, 3.8689999999999998, 3.9589999999999996, 4.94, 3.79, 4.09, 4.19, 4.678, 3.168, 3.2880000000000003, 3.2880000000000003, 4.31, 3.69, 4.859, 3.9389999999999996, 3.819, 3.9189999999999996, 4.399, 3.8489999999999998, 3.929, 4.999, 3.9389999999999996, 3.699, 4.828, 3.195, 3.79, 3.89, 4.899, 3.8989999999999996, 3.4989999999999997, 4.899, 4.099, 3.697, 4.999, 5.099, 4.399, 4.399, 3.3289999999999997, 3.638, 3.719, 5.0969999999999995, 3.715, 3.997, 4.0969999999999995, 3.199, 5.199, 4.7989999999999995, 3.9989999999999997, 5.199, 4.649, 3.8989999999999996, 5.2, 3.85, 3.78, 3.81, 4.59, 3.49, 3.69, 3.8, 4.69, 3.49, 3.69, 3.8, 4.249, 2.9589999999999996, 3.699, 4.897, 3.997, 3.097, 3.799, 3.898, 4.9, 3.55, 5.149, 3.569, 3.989, 4.859, 3.3989999999999996, 2.8989999999999996, 3.5589999999999997, 3.659, 4.5, 2.98, 3.41, 4.399, 3.199, 3.799, 4.379, 3.0989999999999998, 3.6689999999999996, 3.7689999999999997, 4.279, 3.0989999999999998, 3.5989999999999998, 3.699, 4.2989999999999995, 2.5989999999999998, 3.4389999999999996, 4.659, 3.779, 3.609, 4.999, 4.599, 2.9989999999999997, 3.8989999999999996, 4.479, 3.929, 3.3289999999999997, 4.398, 3.398, 3.668, 3.758, 3.799, 3.9989999999999997, 3.8489999999999998, 4.359, 3.799, 3.699, 3.799, 4.199, 3.4989999999999997, 4.0969999999999995, 3.497, 2.197, 3.437, 3.537, 4.58, 3.79, 3.89, 4.175, 3.375, 3.335, 4.0, 3.0, 3.0, 3.0, 4.399, 3.759, 3.859, 4.599, 2.8989999999999996, 3.199, 3.299, 4.947, 4.149, 3.327, 3.3939999999999997, 4.399, 3.4, 3.4989999999999997], \"y0\": \" \", \"yaxis\": \"y\"}],\n",
              "                        {\"boxmode\": \"group\", \"legend\": {\"tracegroupgap\": 0}, \"margin\": {\"t\": 60}, \"template\": {\"data\": {\"bar\": [{\"error_x\": {\"color\": \"#2a3f5f\"}, \"error_y\": {\"color\": \"#2a3f5f\"}, \"marker\": {\"line\": {\"color\": \"#E5ECF6\", \"width\": 0.5}}, \"type\": \"bar\"}], \"barpolar\": [{\"marker\": {\"line\": {\"color\": \"#E5ECF6\", \"width\": 0.5}}, \"type\": \"barpolar\"}], \"carpet\": [{\"aaxis\": {\"endlinecolor\": \"#2a3f5f\", \"gridcolor\": \"white\", \"linecolor\": \"white\", \"minorgridcolor\": \"white\", \"startlinecolor\": \"#2a3f5f\"}, \"baxis\": {\"endlinecolor\": \"#2a3f5f\", \"gridcolor\": \"white\", \"linecolor\": \"white\", \"minorgridcolor\": \"white\", \"startlinecolor\": \"#2a3f5f\"}, \"type\": \"carpet\"}], \"choropleth\": [{\"colorbar\": {\"outlinewidth\": 0, \"ticks\": \"\"}, \"type\": \"choropleth\"}], \"contour\": [{\"colorbar\": {\"outlinewidth\": 0, \"ticks\": \"\"}, \"colorscale\": [[0.0, \"#0d0887\"], [0.1111111111111111, \"#46039f\"], [0.2222222222222222, \"#7201a8\"], [0.3333333333333333, \"#9c179e\"], [0.4444444444444444, \"#bd3786\"], [0.5555555555555556, \"#d8576b\"], [0.6666666666666666, \"#ed7953\"], [0.7777777777777778, \"#fb9f3a\"], [0.8888888888888888, \"#fdca26\"], [1.0, \"#f0f921\"]], \"type\": \"contour\"}], \"contourcarpet\": [{\"colorbar\": {\"outlinewidth\": 0, \"ticks\": \"\"}, \"type\": \"contourcarpet\"}], \"heatmap\": [{\"colorbar\": {\"outlinewidth\": 0, \"ticks\": \"\"}, \"colorscale\": [[0.0, \"#0d0887\"], [0.1111111111111111, \"#46039f\"], [0.2222222222222222, \"#7201a8\"], [0.3333333333333333, \"#9c179e\"], [0.4444444444444444, \"#bd3786\"], [0.5555555555555556, \"#d8576b\"], [0.6666666666666666, \"#ed7953\"], [0.7777777777777778, \"#fb9f3a\"], [0.8888888888888888, \"#fdca26\"], [1.0, \"#f0f921\"]], \"type\": \"heatmap\"}], \"heatmapgl\": [{\"colorbar\": {\"outlinewidth\": 0, \"ticks\": \"\"}, \"colorscale\": [[0.0, \"#0d0887\"], [0.1111111111111111, \"#46039f\"], [0.2222222222222222, \"#7201a8\"], [0.3333333333333333, \"#9c179e\"], [0.4444444444444444, \"#bd3786\"], [0.5555555555555556, \"#d8576b\"], [0.6666666666666666, \"#ed7953\"], [0.7777777777777778, \"#fb9f3a\"], [0.8888888888888888, \"#fdca26\"], [1.0, \"#f0f921\"]], \"type\": \"heatmapgl\"}], \"histogram\": [{\"marker\": {\"colorbar\": {\"outlinewidth\": 0, \"ticks\": \"\"}}, \"type\": \"histogram\"}], \"histogram2d\": [{\"colorbar\": {\"outlinewidth\": 0, \"ticks\": \"\"}, \"colorscale\": [[0.0, \"#0d0887\"], [0.1111111111111111, \"#46039f\"], [0.2222222222222222, \"#7201a8\"], [0.3333333333333333, \"#9c179e\"], [0.4444444444444444, \"#bd3786\"], [0.5555555555555556, \"#d8576b\"], [0.6666666666666666, \"#ed7953\"], [0.7777777777777778, \"#fb9f3a\"], [0.8888888888888888, \"#fdca26\"], [1.0, \"#f0f921\"]], \"type\": \"histogram2d\"}], \"histogram2dcontour\": [{\"colorbar\": {\"outlinewidth\": 0, \"ticks\": \"\"}, \"colorscale\": [[0.0, \"#0d0887\"], [0.1111111111111111, \"#46039f\"], [0.2222222222222222, \"#7201a8\"], [0.3333333333333333, \"#9c179e\"], [0.4444444444444444, \"#bd3786\"], [0.5555555555555556, \"#d8576b\"], [0.6666666666666666, \"#ed7953\"], [0.7777777777777778, \"#fb9f3a\"], [0.8888888888888888, \"#fdca26\"], [1.0, \"#f0f921\"]], \"type\": \"histogram2dcontour\"}], \"mesh3d\": [{\"colorbar\": {\"outlinewidth\": 0, \"ticks\": \"\"}, \"type\": \"mesh3d\"}], \"parcoords\": [{\"line\": {\"colorbar\": {\"outlinewidth\": 0, \"ticks\": \"\"}}, \"type\": \"parcoords\"}], \"pie\": [{\"automargin\": true, \"type\": \"pie\"}], \"scatter\": [{\"marker\": {\"colorbar\": {\"outlinewidth\": 0, \"ticks\": \"\"}}, \"type\": \"scatter\"}], \"scatter3d\": [{\"line\": {\"colorbar\": {\"outlinewidth\": 0, \"ticks\": \"\"}}, \"marker\": {\"colorbar\": {\"outlinewidth\": 0, \"ticks\": \"\"}}, \"type\": \"scatter3d\"}], \"scattercarpet\": [{\"marker\": {\"colorbar\": {\"outlinewidth\": 0, \"ticks\": \"\"}}, \"type\": \"scattercarpet\"}], \"scattergeo\": [{\"marker\": {\"colorbar\": {\"outlinewidth\": 0, \"ticks\": \"\"}}, \"type\": \"scattergeo\"}], \"scattergl\": [{\"marker\": {\"colorbar\": {\"outlinewidth\": 0, \"ticks\": \"\"}}, \"type\": \"scattergl\"}], \"scattermapbox\": [{\"marker\": {\"colorbar\": {\"outlinewidth\": 0, \"ticks\": \"\"}}, \"type\": \"scattermapbox\"}], \"scatterpolar\": [{\"marker\": {\"colorbar\": {\"outlinewidth\": 0, \"ticks\": \"\"}}, \"type\": \"scatterpolar\"}], \"scatterpolargl\": [{\"marker\": {\"colorbar\": {\"outlinewidth\": 0, \"ticks\": \"\"}}, \"type\": \"scatterpolargl\"}], \"scatterternary\": [{\"marker\": {\"colorbar\": {\"outlinewidth\": 0, \"ticks\": \"\"}}, \"type\": \"scatterternary\"}], \"surface\": [{\"colorbar\": {\"outlinewidth\": 0, \"ticks\": \"\"}, \"colorscale\": [[0.0, \"#0d0887\"], [0.1111111111111111, \"#46039f\"], [0.2222222222222222, \"#7201a8\"], [0.3333333333333333, \"#9c179e\"], [0.4444444444444444, \"#bd3786\"], [0.5555555555555556, \"#d8576b\"], [0.6666666666666666, \"#ed7953\"], [0.7777777777777778, \"#fb9f3a\"], [0.8888888888888888, \"#fdca26\"], [1.0, \"#f0f921\"]], \"type\": \"surface\"}], \"table\": [{\"cells\": {\"fill\": {\"color\": \"#EBF0F8\"}, \"line\": {\"color\": \"white\"}}, \"header\": {\"fill\": {\"color\": \"#C8D4E3\"}, \"line\": {\"color\": \"white\"}}, \"type\": \"table\"}]}, \"layout\": {\"annotationdefaults\": {\"arrowcolor\": \"#2a3f5f\", \"arrowhead\": 0, \"arrowwidth\": 1}, \"coloraxis\": {\"colorbar\": {\"outlinewidth\": 0, \"ticks\": \"\"}}, \"colorscale\": {\"diverging\": [[0, \"#8e0152\"], [0.1, \"#c51b7d\"], [0.2, \"#de77ae\"], [0.3, \"#f1b6da\"], [0.4, \"#fde0ef\"], [0.5, \"#f7f7f7\"], [0.6, \"#e6f5d0\"], [0.7, \"#b8e186\"], [0.8, \"#7fbc41\"], [0.9, \"#4d9221\"], [1, \"#276419\"]], \"sequential\": [[0.0, \"#0d0887\"], [0.1111111111111111, \"#46039f\"], [0.2222222222222222, \"#7201a8\"], [0.3333333333333333, \"#9c179e\"], [0.4444444444444444, \"#bd3786\"], [0.5555555555555556, \"#d8576b\"], [0.6666666666666666, \"#ed7953\"], [0.7777777777777778, \"#fb9f3a\"], [0.8888888888888888, \"#fdca26\"], [1.0, \"#f0f921\"]], \"sequentialminus\": [[0.0, \"#0d0887\"], [0.1111111111111111, \"#46039f\"], [0.2222222222222222, \"#7201a8\"], [0.3333333333333333, \"#9c179e\"], [0.4444444444444444, \"#bd3786\"], [0.5555555555555556, \"#d8576b\"], [0.6666666666666666, \"#ed7953\"], [0.7777777777777778, \"#fb9f3a\"], [0.8888888888888888, \"#fdca26\"], [1.0, \"#f0f921\"]]}, \"colorway\": [\"#636efa\", \"#EF553B\", \"#00cc96\", \"#ab63fa\", \"#FFA15A\", \"#19d3f3\", \"#FF6692\", \"#B6E880\", \"#FF97FF\", \"#FECB52\"], \"font\": {\"color\": \"#2a3f5f\"}, \"geo\": {\"bgcolor\": \"white\", \"lakecolor\": \"white\", \"landcolor\": \"#E5ECF6\", \"showlakes\": true, \"showland\": true, \"subunitcolor\": \"white\"}, \"hoverlabel\": {\"align\": \"left\"}, \"hovermode\": \"closest\", \"mapbox\": {\"style\": \"light\"}, \"paper_bgcolor\": \"white\", \"plot_bgcolor\": \"#E5ECF6\", \"polar\": {\"angularaxis\": {\"gridcolor\": \"white\", \"linecolor\": \"white\", \"ticks\": \"\"}, \"bgcolor\": \"#E5ECF6\", \"radialaxis\": {\"gridcolor\": \"white\", \"linecolor\": \"white\", \"ticks\": \"\"}}, \"scene\": {\"xaxis\": {\"backgroundcolor\": \"#E5ECF6\", \"gridcolor\": \"white\", \"gridwidth\": 2, \"linecolor\": \"white\", \"showbackground\": true, \"ticks\": \"\", \"zerolinecolor\": \"white\"}, \"yaxis\": {\"backgroundcolor\": \"#E5ECF6\", \"gridcolor\": \"white\", \"gridwidth\": 2, \"linecolor\": \"white\", \"showbackground\": true, \"ticks\": \"\", \"zerolinecolor\": \"white\"}, \"zaxis\": {\"backgroundcolor\": \"#E5ECF6\", \"gridcolor\": \"white\", \"gridwidth\": 2, \"linecolor\": \"white\", \"showbackground\": true, \"ticks\": \"\", \"zerolinecolor\": \"white\"}}, \"shapedefaults\": {\"line\": {\"color\": \"#2a3f5f\"}}, \"ternary\": {\"aaxis\": {\"gridcolor\": \"white\", \"linecolor\": \"white\", \"ticks\": \"\"}, \"baxis\": {\"gridcolor\": \"white\", \"linecolor\": \"white\", \"ticks\": \"\"}, \"bgcolor\": \"#E5ECF6\", \"caxis\": {\"gridcolor\": \"white\", \"linecolor\": \"white\", \"ticks\": \"\"}}, \"title\": {\"x\": 0.05}, \"xaxis\": {\"automargin\": true, \"gridcolor\": \"white\", \"linecolor\": \"white\", \"ticks\": \"\", \"title\": {\"standoff\": 15}, \"zerolinecolor\": \"white\", \"zerolinewidth\": 2}, \"yaxis\": {\"automargin\": true, \"gridcolor\": \"white\", \"linecolor\": \"white\", \"ticks\": \"\", \"title\": {\"standoff\": 15}, \"zerolinecolor\": \"white\", \"zerolinewidth\": 2}}}, \"xaxis\": {\"anchor\": \"y\", \"domain\": [0.0, 1.0], \"title\": {\"text\": \"PRODUTO\"}}, \"yaxis\": {\"anchor\": \"x\", \"domain\": [0.0, 1.0], \"title\": {\"text\": \"VALOR VENDA\"}}},\n",
              "                        {\"responsive\": true}\n",
              "                    ).then(function(){\n",
              "                            \n",
              "var gd = document.getElementById('4510ba8f-96cd-4276-a639-7fc98232d206');\n",
              "var x = new MutationObserver(function (mutations, observer) {{\n",
              "        var display = window.getComputedStyle(gd).display;\n",
              "        if (!display || display === 'none') {{\n",
              "            console.log([gd, 'removed!']);\n",
              "            Plotly.purge(gd);\n",
              "            observer.disconnect();\n",
              "        }}\n",
              "}});\n",
              "\n",
              "// Listen for the removal of the full notebook cells\n",
              "var notebookContainer = gd.closest('#notebook-container');\n",
              "if (notebookContainer) {{\n",
              "    x.observe(notebookContainer, {childList: true});\n",
              "}}\n",
              "\n",
              "// Listen for the clearing of the current output cell\n",
              "var outputEl = gd.closest('.output');\n",
              "if (outputEl) {{\n",
              "    x.observe(outputEl, {childList: true});\n",
              "}}\n",
              "\n",
              "                        })\n",
              "                };\n",
              "                \n",
              "            </script>\n",
              "        </div>\n",
              "</body>\n",
              "</html>"
            ]
          },
          "metadata": {
            "tags": []
          }
        }
      ]
    },
    {
      "cell_type": "markdown",
      "metadata": {
        "id": "s8l8H10wp6gH",
        "colab_type": "text"
      },
      "source": [
        "Curiosamente, agora vemos que também há outliers abaixo dos boxplots. Vamos investigar esses casos:"
      ]
    },
    {
      "cell_type": "code",
      "metadata": {
        "id": "59hmd0u3qCnN",
        "colab_type": "code",
        "outputId": "24de02d6-e678-47f1-d08f-d084adf0d014",
        "colab": {
          "base_uri": "https://localhost:8080/",
          "height": 756
        }
      },
      "source": [
        "preços.query(\"`VALOR VENDA` <= 1\")"
      ],
      "execution_count": 0,
      "outputs": [
        {
          "output_type": "execute_result",
          "data": {
            "text/html": [
              "<div>\n",
              "<style scoped>\n",
              "    .dataframe tbody tr th:only-of-type {\n",
              "        vertical-align: middle;\n",
              "    }\n",
              "\n",
              "    .dataframe tbody tr th {\n",
              "        vertical-align: top;\n",
              "    }\n",
              "\n",
              "    .dataframe thead th {\n",
              "        text-align: right;\n",
              "    }\n",
              "</style>\n",
              "<table border=\"1\" class=\"dataframe\">\n",
              "  <thead>\n",
              "    <tr style=\"text-align: right;\">\n",
              "      <th></th>\n",
              "      <th>CNPJ</th>\n",
              "      <th>NOME</th>\n",
              "      <th>ENDEREÇO</th>\n",
              "      <th>COMPLEMENTO</th>\n",
              "      <th>BAIRRO</th>\n",
              "      <th>MUNICÍPIO</th>\n",
              "      <th>UF</th>\n",
              "      <th>PRODUTO</th>\n",
              "      <th>VALOR VENDA</th>\n",
              "      <th>DATA CADASTRO</th>\n",
              "    </tr>\n",
              "  </thead>\n",
              "  <tbody>\n",
              "    <tr>\n",
              "      <th>249</th>\n",
              "      <td>5037623000152</td>\n",
              "      <td>AUTO POSTO TIO SAM LTDA</td>\n",
              "      <td>RODOVIA BR 163,S/N</td>\n",
              "      <td>KM 20,5</td>\n",
              "      <td>ZONA RURAL</td>\n",
              "      <td>MUNDO NOVO</td>\n",
              "      <td>MS</td>\n",
              "      <td>GNV</td>\n",
              "      <td>0.001</td>\n",
              "      <td>2019-09-20 13:24:00</td>\n",
              "    </tr>\n",
              "    <tr>\n",
              "      <th>360</th>\n",
              "      <td>8355825000130</td>\n",
              "      <td>POSTO DE COMBUSTÍVEIS 214 SUL</td>\n",
              "      <td>SETOR SHC/SUL SQ 214 BLOCO A PAG - LOJA DE CON...</td>\n",
              "      <td>NaN</td>\n",
              "      <td>ASA SUL</td>\n",
              "      <td>BRASILIA</td>\n",
              "      <td>DF</td>\n",
              "      <td>GNV</td>\n",
              "      <td>1.000</td>\n",
              "      <td>2018-06-26 10:59:00</td>\n",
              "    </tr>\n",
              "    <tr>\n",
              "      <th>361</th>\n",
              "      <td>8355825000130</td>\n",
              "      <td>POSTO DE COMBUSTÍVEIS 214 SUL</td>\n",
              "      <td>SETOR SHC/SUL SQ 214 BLOCO A PAG - LOJA DE CON...</td>\n",
              "      <td>NaN</td>\n",
              "      <td>ASA SUL</td>\n",
              "      <td>BRASILIA</td>\n",
              "      <td>DF</td>\n",
              "      <td>Diesel S500</td>\n",
              "      <td>1.000</td>\n",
              "      <td>2018-06-26 10:59:00</td>\n",
              "    </tr>\n",
              "    <tr>\n",
              "      <th>491</th>\n",
              "      <td>11664743000182</td>\n",
              "      <td>POSTO UNIVERSITÁRIO</td>\n",
              "      <td>RUA FREI GABRIEL,897</td>\n",
              "      <td>TERREO</td>\n",
              "      <td>UNIVERSITARIO</td>\n",
              "      <td>LAGES</td>\n",
              "      <td>SC</td>\n",
              "      <td>GNV</td>\n",
              "      <td>0.001</td>\n",
              "      <td>2019-03-29 17:00:00</td>\n",
              "    </tr>\n",
              "    <tr>\n",
              "      <th>659</th>\n",
              "      <td>19292157000166</td>\n",
              "      <td>VALTER GAVASSA COMBUSTIVEIS LTDA</td>\n",
              "      <td>AVENIDA AFIF JOSE ABDO,37</td>\n",
              "      <td>NaN</td>\n",
              "      <td>RESIDENCIAL PORTAL DA PEROLA II</td>\n",
              "      <td>BIRIGUI</td>\n",
              "      <td>SP</td>\n",
              "      <td>GNV</td>\n",
              "      <td>1.000</td>\n",
              "      <td>2018-11-10 17:15:00</td>\n",
              "    </tr>\n",
              "    <tr>\n",
              "      <th>719</th>\n",
              "      <td>22794128000298</td>\n",
              "      <td>POSTO MIMIM II</td>\n",
              "      <td>AVENIDA SETE DE SETEMBRO,623</td>\n",
              "      <td>LOJA  01</td>\n",
              "      <td>CENTRO</td>\n",
              "      <td>ITAJAI</td>\n",
              "      <td>SC</td>\n",
              "      <td>Gasolina C Comum</td>\n",
              "      <td>1.000</td>\n",
              "      <td>2019-10-16 17:50:00</td>\n",
              "    </tr>\n",
              "    <tr>\n",
              "      <th>720</th>\n",
              "      <td>22794128000298</td>\n",
              "      <td>POSTO MIMIM II</td>\n",
              "      <td>AVENIDA SETE DE SETEMBRO,623</td>\n",
              "      <td>LOJA  01</td>\n",
              "      <td>CENTRO</td>\n",
              "      <td>ITAJAI</td>\n",
              "      <td>SC</td>\n",
              "      <td>Etanol</td>\n",
              "      <td>1.000</td>\n",
              "      <td>2019-10-16 17:50:00</td>\n",
              "    </tr>\n",
              "    <tr>\n",
              "      <th>721</th>\n",
              "      <td>22794128000298</td>\n",
              "      <td>POSTO MIMIM II</td>\n",
              "      <td>AVENIDA SETE DE SETEMBRO,623</td>\n",
              "      <td>LOJA  01</td>\n",
              "      <td>CENTRO</td>\n",
              "      <td>ITAJAI</td>\n",
              "      <td>SC</td>\n",
              "      <td>GNV</td>\n",
              "      <td>1.000</td>\n",
              "      <td>2019-10-16 17:50:00</td>\n",
              "    </tr>\n",
              "    <tr>\n",
              "      <th>722</th>\n",
              "      <td>22794128000298</td>\n",
              "      <td>POSTO MIMIM II</td>\n",
              "      <td>AVENIDA SETE DE SETEMBRO,623</td>\n",
              "      <td>LOJA  01</td>\n",
              "      <td>CENTRO</td>\n",
              "      <td>ITAJAI</td>\n",
              "      <td>SC</td>\n",
              "      <td>Diesel S10</td>\n",
              "      <td>1.000</td>\n",
              "      <td>2019-10-16 17:50:00</td>\n",
              "    </tr>\n",
              "  </tbody>\n",
              "</table>\n",
              "</div>"
            ],
            "text/plain": [
              "               CNPJ  ...       DATA CADASTRO\n",
              "249   5037623000152  ... 2019-09-20 13:24:00\n",
              "360   8355825000130  ... 2018-06-26 10:59:00\n",
              "361   8355825000130  ... 2018-06-26 10:59:00\n",
              "491  11664743000182  ... 2019-03-29 17:00:00\n",
              "659  19292157000166  ... 2018-11-10 17:15:00\n",
              "719  22794128000298  ... 2019-10-16 17:50:00\n",
              "720  22794128000298  ... 2019-10-16 17:50:00\n",
              "721  22794128000298  ... 2019-10-16 17:50:00\n",
              "722  22794128000298  ... 2019-10-16 17:50:00\n",
              "\n",
              "[9 rows x 10 columns]"
            ]
          },
          "metadata": {
            "tags": []
          },
          "execution_count": 9
        }
      ]
    },
    {
      "cell_type": "markdown",
      "metadata": {
        "id": "FQcU5a2bqMI1",
        "colab_type": "text"
      },
      "source": [
        "Novamente, parece seguro remover estes casos:"
      ]
    },
    {
      "cell_type": "code",
      "metadata": {
        "id": "TvDsZxSGqN70",
        "colab_type": "code",
        "colab": {}
      },
      "source": [
        "preços = preços.query(\"`VALOR VENDA` > 1\")"
      ],
      "execution_count": 0,
      "outputs": []
    },
    {
      "cell_type": "code",
      "metadata": {
        "id": "8wkzc7esqPpc",
        "colab_type": "code",
        "outputId": "9dc487a7-24c3-4968-c209-0c3642357034",
        "colab": {
          "base_uri": "https://localhost:8080/",
          "height": 562
        }
      },
      "source": [
        "px.box(preços, x=\"PRODUTO\", y=\"VALOR VENDA\")"
      ],
      "execution_count": 0,
      "outputs": [
        {
          "output_type": "display_data",
          "data": {
            "text/html": [
              "<html>\n",
              "<head><meta charset=\"utf-8\" /></head>\n",
              "<body>\n",
              "    <div>\n",
              "            <script src=\"https://cdnjs.cloudflare.com/ajax/libs/mathjax/2.7.5/MathJax.js?config=TeX-AMS-MML_SVG\"></script><script type=\"text/javascript\">if (window.MathJax) {MathJax.Hub.Config({SVG: {font: \"STIX-Web\"}});}</script>\n",
              "                <script type=\"text/javascript\">window.PlotlyConfig = {MathJaxConfig: 'local'};</script>\n",
              "        <script src=\"https://cdn.plot.ly/plotly-latest.min.js\"></script>    \n",
              "            <div id=\"e19d7f28-e6c4-4865-b3b1-06cf73a74773\" class=\"plotly-graph-div\" style=\"height:525px; width:100%;\"></div>\n",
              "            <script type=\"text/javascript\">\n",
              "                \n",
              "                    window.PLOTLYENV=window.PLOTLYENV || {};\n",
              "                    \n",
              "                if (document.getElementById(\"e19d7f28-e6c4-4865-b3b1-06cf73a74773\")) {\n",
              "                    Plotly.newPlot(\n",
              "                        'e19d7f28-e6c4-4865-b3b1-06cf73a74773',\n",
              "                        [{\"alignmentgroup\": \"True\", \"hoverlabel\": {\"namelength\": 0}, \"hovertemplate\": \"PRODUTO=%{x}<br>VALOR VENDA=%{y}\", \"legendgroup\": \"\", \"marker\": {\"color\": \"#636efa\"}, \"name\": \"\", \"notched\": false, \"offsetgroup\": \"\", \"orientation\": \"v\", \"showlegend\": false, \"type\": \"box\", \"x\": [\"Gasolina C Comum\", \"Etanol\", \"Diesel S500\", \"Diesel S10\", \"Gasolina C Comum\", \"Etanol\", \"Diesel S500\", \"Diesel S10\", \"Gasolina C Comum\", \"Etanol\", \"Diesel S10\", \"Gasolina C Comum\", \"Diesel S10\", \"Gasolina C Comum\", \"Diesel S500\", \"Gasolina C Comum\", \"Diesel S500\", \"Gasolina C Comum\", \"Etanol\", \"Diesel S500\", \"Diesel S10\", \"Gasolina C Comum\", \"Etanol\", \"Diesel S500\", \"Diesel S10\", \"Diesel S500\", \"Diesel S10\", \"Etanol\", \"Gasolina C Comum\", \"Gasolina C Comum\", \"Diesel S500\", \"Diesel S10\", \"Gasolina C Comum\", \"Etanol\", \"GNV\", \"Diesel S500\", \"Diesel S10\", \"Gasolina C Comum\", \"Etanol\", \"Diesel S500\", \"Diesel S10\", \"Gasolina C Comum\", \"Etanol\", \"Diesel S500\", \"Diesel S10\", \"Gasolina C Comum\", \"Diesel S500\", \"Diesel S10\", \"Gasolina C Comum\", \"Diesel S500\", \"Diesel S10\", \"Gasolina C Comum\", \"Etanol\", \"Diesel S10\", \"Gasolina C Comum\", \"Etanol\", \"Diesel S500\", \"Diesel S10\", \"Gasolina C Comum\", \"Diesel S500\", \"Diesel S10\", \"Etanol\", \"Gasolina C Comum\", \"Diesel S500\", \"Diesel S10\", \"Gasolina C Comum\", \"Etanol\", \"Diesel S500\", \"Diesel S10\", \"Gasolina C Comum\", \"Diesel S500\", \"Diesel S10\", \"Gasolina C Comum\", \"Diesel S500\", \"Diesel S10\", \"Etanol\", \"Gasolina C Comum\", \"Etanol\", \"Diesel S500\", \"Diesel S10\", \"Gasolina C Comum\", \"Etanol\", \"Diesel S500\", \"Diesel S10\", \"Gasolina C Comum\", \"Etanol\", \"Diesel S500\", \"Diesel S10\", \"Gasolina C Comum\", \"Etanol\", \"GNV\", \"Diesel S500\", \"Diesel S10\", \"Gasolina C Comum\", \"Diesel S500\", \"Diesel S10\", \"Gasolina C Comum\", \"Etanol\", \"Diesel S10\", \"Gasolina C Comum\", \"Etanol\", \"Diesel S500\", \"Diesel S10\", \"Gasolina C Comum\", \"Etanol\", \"Diesel S500\", \"Diesel S10\", \"Gasolina C Comum\", \"Etanol\", \"Diesel S500\", \"Diesel S10\", \"Gasolina C Comum\", \"Etanol\", \"Diesel S500\", \"Diesel S10\", \"Gasolina C Comum\", \"Etanol\", \"Gasolina C Comum\", \"Etanol\", \"Diesel S10\", \"Gasolina C Comum\", \"Etanol\", \"Diesel S500\", \"Diesel S10\", \"Gasolina C Comum\", \"Etanol\", \"Diesel S500\", \"Diesel S10\", \"Gasolina C Comum\", \"Diesel S500\", \"Diesel S10\", \"Gasolina C Comum\", \"Etanol\", \"Diesel S10\", \"Gasolina C Comum\", \"Diesel S500\", \"Diesel S10\", \"Gasolina C Comum\", \"Etanol\", \"Diesel S500\", \"Diesel S10\", \"Gasolina C Comum\", \"Diesel S500\", \"Diesel S10\", \"Gasolina C Comum\", \"Etanol\", \"Diesel S500\", \"Diesel S10\", \"Gasolina C Comum\", \"Etanol\", \"Diesel S500\", \"Diesel S10\", \"Gasolina C Comum\", \"Etanol\", \"Diesel S500\", \"Diesel S10\", \"Diesel S500\", \"Diesel S10\", \"Gasolina C Comum\", \"Etanol\", \"Gasolina C Comum\", \"Etanol\", \"Diesel S500\", \"Diesel S10\", \"Gasolina C Comum\", \"Etanol\", \"Diesel S500\", \"Diesel S10\", \"Gasolina C Comum\", \"Etanol\", \"GNV\", \"Diesel S10\", \"Gasolina C Comum\", \"Etanol\", \"Diesel S500\", \"Diesel S10\", \"Gasolina C Comum\", \"Etanol\", \"GNV\", \"Diesel S500\", \"Diesel S10\", \"Gasolina C Comum\", \"Etanol\", \"Diesel S500\", \"Diesel S10\", \"Gasolina C Comum\", \"Etanol\", \"Diesel S10\", \"Gasolina C Comum\", \"Etanol\", \"Diesel S500\", \"Diesel S10\", \"Gasolina C Comum\", \"Etanol\", \"Diesel S10\", \"Gasolina C Comum\", \"Etanol\", \"GNV\", \"Diesel S500\", \"Diesel S10\", \"Gasolina C Comum\", \"Diesel S500\", \"Diesel S10\", \"Gasolina C Comum\", \"Gasolina C Comum\", \"Etanol\", \"Diesel S500\", \"Diesel S10\", \"Gasolina C Comum\", \"Etanol\", \"Diesel S500\", \"Diesel S10\", \"Gasolina C Comum\", \"Etanol\", \"Diesel S500\", \"Diesel S10\", \"Gasolina C Comum\", \"Etanol\", \"Diesel S500\", \"Diesel S10\", \"Gasolina C Comum\", \"Etanol\", \"Diesel S10\", \"GNV\", \"Gasolina C Comum\", \"Etanol\", \"Diesel S10\", \"Gasolina C Comum\", \"Etanol\", \"Diesel S500\", \"Diesel S10\", \"GNV\", \"Gasolina C Comum\", \"Etanol\", \"Diesel S500\", \"Diesel S10\", \"Gasolina C Comum\", \"Etanol\", \"Diesel S500\", \"Diesel S10\", \"Gasolina C Comum\", \"Etanol\", \"Diesel S10\", \"Gasolina C Comum\", \"Etanol\", \"Diesel S500\", \"Diesel S10\", \"Diesel S500\", \"Diesel S10\", \"Gasolina C Comum\", \"Gasolina C Comum\", \"Diesel S10\", \"Gasolina C Comum\", \"Etanol\", \"Diesel S500\", \"Diesel S10\", \"Gasolina C Comum\", \"Etanol\", \"Diesel S500\", \"Diesel S10\", \"Gasolina C Comum\", \"Etanol\", \"Diesel S10\", \"Gasolina C Comum\", \"Gasolina C Comum\", \"Diesel S10\", \"Gasolina C Comum\", \"Etanol\", \"Diesel S500\", \"Diesel S10\", \"Gasolina C Comum\", \"Diesel S500\", \"Diesel S10\", \"Gasolina C Comum\", \"Etanol\", \"Diesel S500\", \"Gasolina C Comum\", \"Etanol\", \"Diesel S500\", \"Gasolina C Comum\", \"Etanol\", \"Diesel S10\", \"Gasolina C Comum\", \"Diesel S10\", \"Gasolina C Comum\", \"Etanol\", \"Diesel S500\", \"Diesel S10\", \"Gasolina C Comum\", \"Etanol\", \"Diesel S10\", \"Gasolina C Comum\", \"Etanol\", \"Diesel S10\", \"Gasolina C Comum\", \"Diesel S500\", \"Diesel S10\", \"Gasolina C Comum\", \"Diesel S500\", \"Diesel S10\", \"Gasolina C Comum\", \"Diesel S500\", \"Diesel S10\", \"Gasolina C Comum\", \"Etanol\", \"Diesel S10\", \"Gasolina C Comum\", \"Diesel S500\", \"Diesel S10\", \"Gasolina C Comum\", \"Etanol\", \"Diesel S10\", \"Gasolina C Comum\", \"Etanol\", \"GNV\", \"Diesel S10\", \"Diesel S500\", \"Diesel S10\", \"Gasolina C Comum\", \"Etanol\", \"Diesel S10\", \"Gasolina C Comum\", \"Diesel S10\", \"Gasolina C Comum\", \"Diesel S500\", \"Diesel S10\", \"Gasolina C Comum\", \"Etanol\", \"Diesel S10\", \"Gasolina C Comum\", \"Etanol\", \"Diesel S10\", \"Diesel S10\", \"Gasolina C Comum\", \"Etanol\", \"Gasolina C Comum\", \"Etanol\", \"Diesel S10\", \"Gasolina C Comum\", \"Etanol\", \"Diesel S10\", \"Gasolina C Comum\", \"Etanol\", \"Diesel S500\", \"Diesel S10\", \"Gasolina C Comum\", \"Diesel S500\", \"Diesel S10\", \"Gasolina C Comum\", \"Etanol\", \"Diesel S10\", \"Gasolina C Comum\", \"Diesel S500\", \"Diesel S10\", \"Gasolina C Comum\", \"Etanol\", \"Diesel S500\", \"Diesel S10\", \"Gasolina C Comum\", \"Diesel S500\", \"Diesel S10\", \"Gasolina C Comum\", \"Etanol\", \"Diesel S500\", \"Diesel S10\", \"Gasolina C Comum\", \"Etanol\", \"Diesel S10\", \"Gasolina C Comum\", \"Etanol\", \"Diesel S10\", \"Gasolina C Comum\", \"Etanol\", \"Diesel S10\", \"Gasolina C Comum\", \"Etanol\", \"Diesel S500\", \"Diesel S10\", \"Gasolina C Comum\", \"Diesel S500\", \"Diesel S10\", \"Gasolina C Comum\", \"Etanol\", \"Diesel S500\", \"Diesel S10\", \"Gasolina C Comum\", \"Diesel S500\", \"Diesel S10\", \"Gasolina C Comum\", \"Diesel S500\", \"Diesel S10\", \"Gasolina C Comum\", \"Diesel S500\", \"Diesel S10\", \"Gasolina C Comum\", \"Etanol\", \"Diesel S500\", \"Gasolina C Comum\", \"Etanol\", \"Diesel S10\", \"Gasolina C Comum\", \"Etanol\", \"Diesel S500\", \"Diesel S10\", \"Gasolina C Comum\", \"Etanol\", \"Diesel S500\", \"Diesel S10\", \"Gasolina C Comum\", \"Etanol\", \"Diesel S500\", \"Diesel S10\", \"Gasolina C Comum\", \"Diesel S500\", \"Gasolina C Comum\", \"Diesel S500\", \"Gasolina C Comum\", \"Diesel S10\", \"Gasolina C Comum\", \"Diesel S10\", \"Gasolina C Comum\", \"Etanol\", \"Gasolina C Comum\", \"Etanol\", \"Diesel S10\", \"Gasolina C Comum\", \"Etanol\", \"Gasolina C Comum\", \"Diesel S500\", \"Diesel S10\", \"Gasolina C Comum\", \"Etanol\", \"Diesel S500\", \"Diesel S10\", \"Gasolina C Comum\", \"Etanol\", \"Diesel S500\", \"Diesel S10\", \"Gasolina C Comum\", \"Etanol\", \"Diesel S10\", \"Gasolina C Comum\", \"Diesel S500\", \"Diesel S10\", \"Gasolina C Comum\", \"Etanol\", \"Diesel S500\", \"Diesel S10\", \"Gasolina C Comum\", \"Etanol\", \"Diesel S10\", \"Gasolina C Comum\", \"Etanol\", \"Diesel S500\", \"Diesel S10\", \"Gasolina C Comum\", \"Etanol\", \"Diesel S500\", \"Gasolina C Comum\", \"Etanol\", \"Diesel S500\", \"Diesel S10\", \"Gasolina C Comum\", \"Diesel S500\", \"Diesel S10\", \"Gasolina C Comum\", \"Etanol\", \"Diesel S500\", \"Diesel S10\", \"Gasolina C Comum\", \"Diesel S500\", \"Diesel S10\", \"Gasolina C Comum\", \"Etanol\", \"Diesel S500\", \"Diesel S10\", \"Gasolina C Comum\", \"Etanol\", \"Diesel S500\", \"Diesel S10\", \"Gasolina C Comum\", \"Diesel S500\", \"Diesel S10\", \"Gasolina C Comum\", \"Gasolina C Comum\", \"Etanol\", \"Diesel S500\", \"Diesel S10\", \"Gasolina C Comum\", \"Diesel S500\", \"Diesel S10\", \"Diesel S500\", \"Diesel S10\", \"Gasolina C Comum\", \"Etanol\", \"Diesel S500\", \"Diesel S10\", \"Gasolina C Comum\", \"Diesel S500\", \"Diesel S10\", \"Gasolina C Comum\", \"Diesel S500\", \"Diesel S10\", \"Gasolina C Comum\", \"Diesel S500\", \"Diesel S10\", \"Diesel S500\", \"Diesel S10\", \"Gasolina C Comum\", \"Etanol\", \"Gasolina C Comum\", \"Etanol\", \"Diesel S500\", \"Diesel S10\", \"Gasolina C Comum\", \"Etanol\", \"Diesel S500\", \"Gasolina C Comum\", \"Etanol\", \"Diesel S500\", \"Diesel S10\", \"Gasolina C Comum\", \"Etanol\", \"Diesel S500\", \"Gasolina C Comum\", \"Etanol\", \"Diesel S10\", \"Gasolina C Comum\", \"Etanol\", \"Diesel S500\", \"Diesel S10\", \"Gasolina C Comum\", \"Etanol\", \"Diesel S10\", \"Gasolina C Comum\", \"Diesel S500\", \"Diesel S500\", \"Diesel S10\", \"Gasolina C Comum\", \"Etanol\", \"Gasolina C Comum\", \"Etanol\", \"Diesel S500\", \"Diesel S10\", \"Gasolina C Comum\", \"Etanol\", \"Diesel S10\", \"Gasolina C Comum\", \"Etanol\", \"Diesel S500\", \"Diesel S10\", \"Gasolina C Comum\", \"Etanol\", \"Diesel S10\", \"Gasolina C Comum\", \"Diesel S500\", \"Diesel S10\", \"Diesel S10\", \"Gasolina C Comum\", \"Etanol\", \"Diesel S500\", \"Gasolina C Comum\", \"Etanol\", \"Diesel S500\", \"Diesel S10\", \"Gasolina C Comum\", \"Etanol\", \"Diesel S500\", \"Diesel S10\", \"Gasolina C Comum\", \"Etanol\", \"Diesel S10\", \"Gasolina C Comum\", \"Etanol\", \"Diesel S10\", \"Gasolina C Comum\", \"Diesel S500\", \"Diesel S10\", \"Gasolina C Comum\", \"Etanol\", \"Diesel S500\", \"Diesel S10\", \"Gasolina C Comum\", \"Etanol\", \"Diesel S10\", \"Gasolina C Comum\", \"Diesel S500\", \"Diesel S10\", \"Gasolina C Comum\", \"Etanol\", \"Diesel S500\", \"Gasolina C Comum\", \"Etanol\", \"Diesel S500\", \"Diesel S10\", \"Gasolina C Comum\", \"Diesel S500\", \"Diesel S10\", \"Gasolina C Comum\", \"Etanol\", \"Diesel S10\", \"Gasolina C Comum\", \"Etanol\", \"Diesel S500\", \"Gasolina C Comum\", \"Etanol\", \"GNV\", \"Diesel S500\", \"Diesel S10\", \"Gasolina C Comum\", \"Etanol\", \"Diesel S500\", \"Diesel S10\", \"Gasolina C Comum\", \"Etanol\", \"Diesel S500\", \"Diesel S10\", \"Gasolina C Comum\", \"Etanol\", \"Diesel S10\", \"Gasolina C Comum\", \"Etanol\", \"Diesel S500\", \"Diesel S10\", \"Gasolina C Comum\", \"Etanol\", \"Diesel S500\", \"Diesel S10\", \"Gasolina C Comum\", \"Etanol\", \"Diesel S500\", \"Diesel S10\", \"Gasolina C Comum\", \"Diesel S500\", \"Diesel S10\", \"Gasolina C Comum\", \"Etanol\", \"Diesel S10\", \"Gasolina C Comum\", \"Etanol\", \"Gasolina C Comum\", \"Diesel S500\", \"Diesel S10\", \"Gasolina C Comum\", \"Etanol\", \"Diesel S500\", \"Diesel S10\", \"Diesel S500\", \"Diesel S10\", \"Gasolina C Comum\", \"Etanol\", \"Gasolina C Comum\", \"Etanol\", \"Diesel S500\", \"Diesel S10\", \"Gasolina C Comum\", \"Diesel S500\", \"Diesel S10\", \"Gasolina C Comum\", \"Diesel S10\", \"Gasolina C Comum\", \"Etanol\", \"Diesel S10\", \"Gasolina C Comum\", \"Diesel S500\", \"Diesel S10\", \"Gasolina C Comum\", \"Etanol\", \"Diesel S500\", \"Diesel S10\", \"Gasolina C Comum\", \"Etanol\", \"Diesel S10\", \"Gasolina C Comum\", \"Diesel S500\", \"Diesel S10\", \"Gasolina C Comum\", \"Etanol\", \"Diesel S500\", \"Diesel S10\", \"Gasolina C Comum\", \"Diesel S500\", \"Diesel S10\", \"Gasolina C Comum\", \"Etanol\", \"Gasolina C Comum\", \"Etanol\", \"Diesel S500\", \"Diesel S10\", \"Gasolina C Comum\", \"Etanol\", \"Diesel S10\", \"Gasolina C Comum\", \"Diesel S500\", \"Diesel S10\", \"Gasolina C Comum\", \"Etanol\", \"Diesel S10\", \"Gasolina C Comum\", \"Etanol\", \"Diesel S500\", \"Diesel S10\", \"Gasolina C Comum\", \"Diesel S500\", \"Diesel S10\", \"Gasolina C Comum\", \"Etanol\", \"Diesel S10\", \"Gasolina C Comum\", \"Diesel S10\", \"Gasolina C Comum\", \"Etanol\", \"Diesel S10\", \"Gasolina C Comum\", \"Etanol\", \"Diesel S10\", \"Gasolina C Comum\", \"Diesel S500\", \"Diesel S10\", \"Gasolina C Comum\", \"Etanol\", \"Diesel S10\", \"Gasolina C Comum\", \"Etanol\", \"Diesel S500\", \"Diesel S10\", \"Gasolina C Comum\", \"Etanol\", \"Diesel S500\", \"Diesel S10\", \"Gasolina C Comum\", \"Etanol\", \"Diesel S500\", \"Diesel S10\", \"Gasolina C Comum\", \"Etanol\", \"Diesel S500\", \"Diesel S10\", \"Diesel S500\", \"Gasolina C Comum\", \"Etanol\", \"Diesel S10\", \"Gasolina C Comum\", \"Etanol\", \"Diesel S10\", \"Gasolina C Comum\", \"Etanol\", \"Diesel S500\", \"Diesel S10\", \"Gasolina C Comum\", \"Diesel S500\", \"Diesel S10\", \"Gasolina C Comum\", \"Diesel S10\", \"Gasolina C Comum\", \"Etanol\", \"Diesel S500\", \"Diesel S10\", \"Gasolina C Comum\", \"Diesel S500\", \"Diesel S10\", \"Gasolina C Comum\", \"Etanol\", \"Diesel S10\", \"Gasolina C Comum\", \"Etanol\", \"Diesel S500\", \"Diesel S10\", \"Gasolina C Comum\", \"Etanol\", \"Diesel S10\", \"Gasolina C Comum\", \"Diesel S10\", \"Gasolina C Comum\", \"Etanol\", \"Diesel S500\", \"Diesel S10\", \"Gasolina C Comum\", \"Etanol\", \"Diesel S500\", \"Diesel S10\", \"Gasolina C Comum\", \"Diesel S10\", \"Gasolina C Comum\", \"Etanol\", \"Diesel S500\", \"Diesel S10\", \"Gasolina C Comum\", \"Etanol\", \"Diesel S10\", \"Gasolina C Comum\", \"Gasolina C Comum\", \"Etanol\", \"Diesel S500\", \"Diesel S10\", \"Gasolina C Comum\", \"Etanol\", \"GNV\", \"Diesel S500\", \"Diesel S10\", \"Gasolina C Comum\", \"Diesel S10\", \"Gasolina C Comum\", \"Etanol\", \"Diesel S500\", \"Diesel S10\", \"Gasolina C Comum\", \"Etanol\", \"Diesel S500\", \"Diesel S10\", \"Gasolina C Comum\", \"Etanol\", \"Diesel S10\", \"Diesel S500\", \"Gasolina C Comum\", \"Diesel S10\", \"Gasolina C Comum\", \"Etanol\", \"Diesel S500\", \"Diesel S10\", \"Gasolina C Comum\", \"Etanol\", \"Diesel S10\", \"Gasolina C Comum\", \"Etanol\", \"Diesel S10\", \"Gasolina C Comum\", \"Etanol\", \"Diesel S500\", \"Diesel S10\", \"Gasolina C Comum\", \"Etanol\", \"Diesel S10\", \"Gasolina C Comum\", \"Etanol\", \"Diesel S10\", \"Gasolina C Comum\", \"Gasolina C Comum\", \"Etanol\", \"Gasolina C Comum\", \"Etanol\", \"Diesel S500\", \"Diesel S10\", \"Gasolina C Comum\", \"Etanol\", \"Diesel S500\", \"Diesel S10\", \"GNV\", \"Gasolina C Comum\", \"Etanol\", \"Diesel S10\", \"Gasolina C Comum\", \"Etanol\", \"Diesel S10\", \"Gasolina C Comum\", \"Etanol\", \"Diesel S500\", \"Diesel S10\", \"Gasolina C Comum\", \"Etanol\", \"Diesel S500\", \"Diesel S10\", \"Gasolina C Comum\", \"Etanol\", \"Diesel S500\", \"Diesel S10\", \"Gasolina C Comum\", \"Etanol\", \"Diesel S10\", \"Gasolina C Comum\", \"Etanol\", \"GNV\", \"Diesel S500\", \"Diesel S10\", \"Gasolina C Comum\", \"Diesel S10\", \"Gasolina C Comum\", \"Etanol\", \"Diesel S10\", \"Gasolina C Comum\", \"Etanol\", \"GNV\", \"Diesel S500\", \"Diesel S10\", \"Gasolina C Comum\", \"Etanol\", \"Diesel S500\", \"Gasolina C Comum\", \"Etanol\", \"Diesel S10\", \"Gasolina C Comum\", \"Etanol\", \"Diesel S500\", \"Diesel S10\", \"Gasolina C Comum\", \"Etanol\", \"Diesel S500\", \"Diesel S10\", \"Gasolina C Comum\", \"Etanol\", \"Diesel S10\", \"Gasolina C Comum\", \"Etanol\", \"Diesel S10\", \"Gasolina C Comum\", \"Etanol\", \"GNV\", \"Diesel S10\", \"Gasolina C Comum\", \"Etanol\", \"Diesel S500\", \"Gasolina C Comum\", \"Etanol\", \"Diesel S500\", \"Diesel S10\", \"Gasolina C Comum\", \"Etanol\", \"Diesel S10\", \"Gasolina C Comum\", \"Etanol\", \"Diesel S500\", \"Diesel S10\", \"Gasolina C Comum\", \"Diesel S10\", \"Gasolina C Comum\", \"Etanol\", \"GNV\", \"Diesel S500\", \"Diesel S10\", \"Gasolina C Comum\", \"Diesel S500\", \"Diesel S10\", \"Gasolina C Comum\", \"Etanol\", \"Diesel S10\", \"Gasolina C Comum\", \"Etanol\", \"Diesel S500\", \"Diesel S10\", \"Gasolina C Comum\", \"Diesel S500\", \"Diesel S10\", \"Gasolina C Comum\", \"GNV\", \"Diesel S500\", \"Diesel S10\", \"Gasolina C Comum\", \"Etanol\", \"Diesel S500\", \"Diesel S10\", \"Gasolina C Comum\", \"Diesel S500\", \"Diesel S10\"], \"x0\": \" \", \"xaxis\": \"x\", \"y\": [4.436, 3.4819999999999998, 3.6439999999999997, 3.734, 4.349, 3.5989999999999998, 3.4989999999999997, 3.5989999999999998, 4.289, 3.49, 4.05, 4.169, 3.659, 4.8, 3.78, 4.8, 3.81, 4.49, 3.29, 3.69, 3.79, 4.258, 3.299, 3.5989999999999998, 3.699, 3.799, 3.8989999999999996, 3.299, 4.687, 4.599, 3.8489999999999998, 3.8989999999999996, 4.2989999999999995, 2.8989999999999996, 2.9989999999999997, 3.5989999999999998, 3.699, 4.76, 3.39, 3.69, 3.73, 4.72, 2.99, 3.49, 3.59, 4.59, 3.69, 3.79, 4.39, 3.47, 3.57, 4.099, 3.299, 3.5989999999999998, 4.849, 3.299, 3.699, 3.799, 4.399, 3.4989999999999997, 3.529, 3.319, 4.7989999999999995, 3.4789999999999996, 3.549, 4.646, 3.4560000000000004, 3.346, 3.406, 4.99, 3.8, 3.85, 4.69, 3.49, 3.54, 4.69, 4.439, 3.4989999999999997, 3.3689999999999998, 3.389, 5.48, 3.48, 4.07, 4.12, 4.099, 2.799, 3.5989999999999998, 3.699, 4.2989999999999995, 3.8989999999999996, 3.5989999999999998, 3.699, 3.799, 4.399, 3.699, 3.799, 3.799, 3.299, 3.299, 4.899, 3.8989999999999996, 3.639, 3.739, 4.97, 3.94, 3.85, 3.89, 4.499, 3.259, 3.4989999999999997, 3.589, 5.08, 3.69, 3.99, 4.09, 4.0889999999999995, 2.5989999999999998, 4.0489999999999995, 2.799, 3.5989999999999998, 4.859, 3.1489999999999996, 3.8989999999999996, 3.969, 4.96, 3.15, 4.1, 4.2, 4.7989999999999995, 3.449, 3.4989999999999997, 4.0969999999999995, 3.2969999999999997, 3.5869999999999997, 4.85, 3.75, 3.8, 4.199, 2.9989999999999997, 3.39, 3.49, 4.449, 3.3989999999999996, 3.469, 4.649, 2.99, 3.33, 3.42, 3.9989999999999997, 2.9989999999999997, 3.4989999999999997, 3.5989999999999998, 5.399, 3.4989999999999997, 3.75, 3.85, 4.24, 4.32, 4.75, 4.08, 4.85, 4.29, 3.79, 3.84, 4.769, 3.8989999999999996, 3.8689999999999998, 3.969, 4.99, 3.49, 2.799, 3.53, 4.499, 3.0989999999999998, 3.679, 3.739, 4.7989999999999995, 3.9989999999999997, 3.0989999999999998, 3.699, 3.799, 4.73, 2.95, 3.92, 3.99, 4.699, 3.9989999999999997, 3.9989999999999997, 4.809, 3.3989999999999996, 3.699, 3.799, 4.599, 3.4989999999999997, 3.5989999999999998, 5.2989999999999995, 4.2989999999999995, 3.5989999999999998, 3.799, 3.8989999999999996, 4.45, 3.7, 3.75, 3.98, 4.89, 4.23, 3.93, 4.03, 4.89, 4.23, 3.93, 4.03, 4.298, 4.288, 3.938, 3.998, 4.099, 2.799, 3.5989999999999998, 3.699, 5.149, 4.699, 3.9989999999999997, 3.199, 3.779, 3.0989999999999998, 3.398, 5.093999999999999, 3.096, 3.79, 3.85, 2.8489999999999998, 4.95, 3.85, 3.96, 3.99, 4.519, 3.679, 3.219, 3.2689999999999997, 4.0969999999999995, 2.7969999999999997, 3.397, 4.379, 2.799, 3.5989999999999998, 3.699, 3.719, 3.819, 4.699, 4.249, 3.799, 3.94, 3.97, 3.65, 3.75, 4.49, 4.43, 3.94, 4.01, 4.56, 3.18, 3.35, 4.669, 5.17, 4.16, 4.49, 3.39, 3.55, 3.59, 4.399, 3.0989999999999998, 3.1489999999999996, 4.999, 2.9989999999999997, 3.8489999999999998, 3.947, 3.128, 3.0989999999999998, 4.099, 3.3989999999999996, 3.799, 4.7989999999999995, 3.8989999999999996, 4.297, 3.697, 3.877, 3.947, 4.659, 3.3989999999999996, 3.9989999999999997, 4.249, 3.0989999999999998, 3.7489999999999997, 4.77, 3.74, 3.8, 4.579, 3.4989999999999997, 3.5389999999999997, 4.388999999999999, 3.4989999999999997, 3.5789999999999997, 4.468999999999999, 3.9989999999999997, 3.8989999999999996, 4.17, 3.64, 3.66, 4.59, 3.23, 3.62, 4.899, 3.299, 2.588, 3.489, 3.68, 3.78, 3.9989999999999997, 2.8989999999999996, 3.299, 4.149, 3.549, 4.7989999999999995, 3.859, 3.9589999999999996, 4.53, 3.69, 3.69, 4.53, 3.69, 3.69, 3.67, 4.53, 3.69, 4.49, 3.69, 3.69, 5.07, 4.17, 3.87, 4.859, 2.9989999999999997, 3.8989999999999996, 3.9989999999999997, 4.49, 3.76, 3.86, 4.39, 3.38, 4.7989999999999995, 4.74, 3.61, 3.69, 4.6, 3.0, 3.69, 3.79, 4.74, 3.85, 3.9, 4.379, 3.5989999999999998, 3.3789999999999996, 3.4789999999999996, 4.897, 3.597, 3.697, 4.999, 3.4989999999999997, 3.4989999999999997, 4.399, 3.79, 3.35, 4.899, 3.9989999999999997, 3.5989999999999998, 3.699, 4.79, 3.3989999999999996, 3.4989999999999997, 4.73, 4.37, 4.01, 4.09, 4.73, 4.01, 4.09, 4.699, 3.5389999999999997, 3.639, 4.399, 3.3989999999999996, 3.4989999999999997, 4.63, 3.95, 3.79, 4.45, 3.3, 3.65, 5.039, 3.8689999999999998, 3.8989999999999996, 3.9589999999999996, 4.499, 3.299, 3.699, 3.799, 4.099, 2.799, 3.5989999999999998, 3.699, 4.87, 3.699, 4.769, 3.589, 4.599, 3.799, 4.7589999999999995, 3.4989999999999997, 4.5680000000000005, 2.798, 4.2989999999999995, 2.9989999999999997, 3.699, 3.989, 2.249, 4.7989999999999995, 3.5, 3.6, 4.2989999999999995, 2.9989999999999997, 3.3989999999999996, 3.4989999999999997, 4.0489999999999995, 2.189, 3.1289999999999996, 3.239, 4.69, 3.79, 3.87, 4.75, 3.97, 4.01, 4.859, 3.24, 3.8989999999999996, 3.969, 4.409, 3.159, 3.679, 4.77, 4.599, 3.5989999999999998, 3.699, 4.659, 2.8989999999999996, 3.5989999999999998, 4.649, 3.2489999999999997, 3.779, 3.8489999999999998, 4.64, 3.77, 3.81, 4.399, 3.48, 3.6489999999999996, 3.699, 4.449, 3.3989999999999996, 3.469, 4.269, 3.694, 3.509, 3.5989999999999998, 4.69, 3.09, 3.34, 3.65, 4.73, 3.647, 3.715, 4.65, 4.7589999999999995, 3.299, 4.1, 4.15, 4.599, 3.199, 3.299, 3.62, 3.72, 4.7989999999999995, 2.8789999999999996, 3.699, 3.799, 3.65, 3.627, 3.661, 4.749, 3.7489999999999997, 3.799, 4.749, 3.8489999999999998, 3.8989999999999996, 3.79, 3.97, 4.64, 3.59, 4.499, 3.259, 3.4989999999999997, 3.589, 4.14, 3.18, 3.49, 4.7989999999999995, 3.4989999999999997, 3.9989999999999997, 4.099, 4.09, 2.49, 3.06, 4.99, 3.29, 3.99, 4.769, 3.5989999999999998, 3.47, 3.59, 4.374, 4.499, 3.535, 4.649, 4.059, 3.549, 3.5989999999999998, 4.579, 3.9989999999999997, 4.218999999999999, 2.699, 3.089, 3.139, 4.09, 3.197, 3.497, 4.848, 2.948, 3.656, 3.7889999999999997, 4.499, 2.5989999999999998, 3.4989999999999997, 4.75, 3.87, 3.98, 3.8989999999999996, 4.879, 3.239, 3.839, 4.7989999999999995, 3.3989999999999996, 3.7689999999999997, 3.8689999999999998, 4.7, 3.6, 3.95, 4.06, 4.999, 3.4989999999999997, 4.0489999999999995, 4.199, 2.559, 3.4989999999999997, 4.399, 3.5989999999999998, 3.699, 4.769, 3.9989999999999997, 3.6289999999999996, 3.6889999999999996, 4.396, 3.7460000000000004, 3.946, 4.7589999999999995, 3.4989999999999997, 3.5589999999999997, 5.48, 3.48, 4.07, 4.33, 3.59, 3.38, 3.48, 5.04, 4.01, 4.03, 3.9989999999999997, 2.299, 3.1889999999999996, 4.7989999999999995, 3.9989999999999997, 3.3989999999999996, 5.199, 3.799, 5.099, 3.589, 3.639, 4.2989999999999995, 3.8989999999999996, 3.699, 3.799, 4.7989999999999995, 3.15, 3.85, 3.89, 4.2989999999999995, 2.8989999999999996, 3.569, 4.49, 2.65, 3.3989999999999996, 3.5, 4.92, 3.06, 4.08, 4.18, 4.64, 2.99, 3.79, 3.81, 5.02, 4.03, 4.06, 4.2989999999999995, 2.9989999999999997, 3.6489999999999996, 3.9989999999999997, 2.349, 4.559, 3.58, 3.68, 4.7989999999999995, 2.799, 3.799, 3.8989999999999996, 3.62, 3.72, 4.81, 4.16, 4.19, 2.99, 3.39, 3.49, 4.399, 3.3989999999999996, 3.469, 4.399, 3.4989999999999997, 4.269, 3.199, 3.5989999999999998, 4.539, 3.339, 3.4389999999999996, 4.249, 3.9989999999999997, 3.549, 3.5989999999999998, 4.47, 3.13, 3.56, 3.8289999999999997, 3.609, 3.7089999999999996, 4.769, 3.5989999999999998, 3.47, 3.5989999999999998, 5.178999999999999, 4.098, 4.197, 4.338, 2.748, 4.92, 3.4589999999999996, 3.9189999999999996, 3.9189999999999996, 4.548, 2.948, 3.748, 4.79, 3.55, 3.65, 4.52, 2.92, 3.39, 4.2989999999999995, 3.8989999999999996, 3.699, 3.799, 5.17, 4.14, 4.16, 4.598, 2.898, 3.748, 4.199, 3.299, 3.9989999999999997, 2.799, 3.299, 4.548, 2.8680000000000003, 3.748, 4.63, 3.57, 3.76, 4.0569999999999995, 2.997, 3.497, 4.0889999999999995, 3.299, 3.429, 3.4989999999999997, 4.099, 3.299, 3.569, 3.5989999999999998, 4.92, 2.97, 3.87, 3.99, 5.15, 3.12, 3.99, 4.09, 3.2239999999999998, 4.157, 2.88, 3.2889999999999997, 4.849, 3.299, 3.8789999999999996, 4.677, 2.998, 3.4389999999999996, 3.4989999999999997, 4.399, 3.3989999999999996, 3.449, 4.09, 3.39, 4.74, 2.92, 4.02, 4.12, 4.178999999999999, 3.449, 3.549, 4.349, 3.199, 3.799, 4.468999999999999, 3.3989999999999996, 3.54, 3.6, 3.9589999999999996, 3.372, 3.239, 4.114, 3.263, 4.409, 3.449, 3.5389999999999997, 3.549, 4.7989999999999995, 2.889, 3.699, 3.799, 4.099, 3.3989999999999996, 4.74, 3.34, 3.719, 3.819, 4.399, 3.199, 3.799, 4.36, 4.595, 3.235, 3.555, 3.655, 4.749, 3.989, 4.849, 3.9589999999999996, 4.0489999999999995, 4.7589999999999995, 3.4989999999999997, 4.479, 3.5989999999999998, 3.8689999999999998, 3.9589999999999996, 4.94, 3.79, 4.09, 4.19, 4.678, 3.168, 3.2880000000000003, 3.2880000000000003, 4.31, 3.69, 4.859, 3.9389999999999996, 3.819, 3.9189999999999996, 4.399, 3.8489999999999998, 3.929, 4.999, 3.9389999999999996, 3.699, 4.828, 3.195, 3.79, 3.89, 4.899, 3.8989999999999996, 3.4989999999999997, 4.899, 4.099, 3.697, 4.999, 5.099, 4.399, 4.399, 3.3289999999999997, 3.638, 3.719, 5.0969999999999995, 3.715, 3.997, 4.0969999999999995, 3.199, 5.199, 4.7989999999999995, 3.9989999999999997, 5.199, 4.649, 3.8989999999999996, 5.2, 3.85, 3.78, 3.81, 4.59, 3.49, 3.69, 3.8, 4.69, 3.49, 3.69, 3.8, 4.249, 2.9589999999999996, 3.699, 4.897, 3.997, 3.097, 3.799, 3.898, 4.9, 3.55, 5.149, 3.569, 3.989, 4.859, 3.3989999999999996, 2.8989999999999996, 3.5589999999999997, 3.659, 4.5, 2.98, 3.41, 4.399, 3.199, 3.799, 4.379, 3.0989999999999998, 3.6689999999999996, 3.7689999999999997, 4.279, 3.0989999999999998, 3.5989999999999998, 3.699, 4.2989999999999995, 2.5989999999999998, 3.4389999999999996, 4.659, 3.779, 3.609, 4.999, 4.599, 2.9989999999999997, 3.8989999999999996, 4.479, 3.929, 3.3289999999999997, 4.398, 3.398, 3.668, 3.758, 3.799, 3.9989999999999997, 3.8489999999999998, 4.359, 3.799, 3.699, 3.799, 4.199, 3.4989999999999997, 4.0969999999999995, 3.497, 2.197, 3.437, 3.537, 4.58, 3.79, 3.89, 4.175, 3.375, 3.335, 4.0, 3.0, 3.0, 3.0, 4.399, 3.759, 3.859, 4.599, 2.8989999999999996, 3.199, 3.299, 4.947, 4.149, 3.327, 3.3939999999999997, 4.399, 3.4, 3.4989999999999997], \"y0\": \" \", \"yaxis\": \"y\"}],\n",
              "                        {\"boxmode\": \"group\", \"legend\": {\"tracegroupgap\": 0}, \"margin\": {\"t\": 60}, \"template\": {\"data\": {\"bar\": [{\"error_x\": {\"color\": \"#2a3f5f\"}, \"error_y\": {\"color\": \"#2a3f5f\"}, \"marker\": {\"line\": {\"color\": \"#E5ECF6\", \"width\": 0.5}}, \"type\": \"bar\"}], \"barpolar\": [{\"marker\": {\"line\": {\"color\": \"#E5ECF6\", \"width\": 0.5}}, \"type\": \"barpolar\"}], \"carpet\": [{\"aaxis\": {\"endlinecolor\": \"#2a3f5f\", \"gridcolor\": \"white\", \"linecolor\": \"white\", \"minorgridcolor\": \"white\", \"startlinecolor\": \"#2a3f5f\"}, \"baxis\": {\"endlinecolor\": \"#2a3f5f\", \"gridcolor\": \"white\", \"linecolor\": \"white\", \"minorgridcolor\": \"white\", \"startlinecolor\": \"#2a3f5f\"}, \"type\": \"carpet\"}], \"choropleth\": [{\"colorbar\": {\"outlinewidth\": 0, \"ticks\": \"\"}, \"type\": \"choropleth\"}], \"contour\": [{\"colorbar\": {\"outlinewidth\": 0, \"ticks\": \"\"}, \"colorscale\": [[0.0, \"#0d0887\"], [0.1111111111111111, \"#46039f\"], [0.2222222222222222, \"#7201a8\"], [0.3333333333333333, \"#9c179e\"], [0.4444444444444444, \"#bd3786\"], [0.5555555555555556, \"#d8576b\"], [0.6666666666666666, \"#ed7953\"], [0.7777777777777778, \"#fb9f3a\"], [0.8888888888888888, \"#fdca26\"], [1.0, \"#f0f921\"]], \"type\": \"contour\"}], \"contourcarpet\": [{\"colorbar\": {\"outlinewidth\": 0, \"ticks\": \"\"}, \"type\": \"contourcarpet\"}], \"heatmap\": [{\"colorbar\": {\"outlinewidth\": 0, \"ticks\": \"\"}, \"colorscale\": [[0.0, \"#0d0887\"], [0.1111111111111111, \"#46039f\"], [0.2222222222222222, \"#7201a8\"], [0.3333333333333333, \"#9c179e\"], [0.4444444444444444, \"#bd3786\"], [0.5555555555555556, \"#d8576b\"], [0.6666666666666666, \"#ed7953\"], [0.7777777777777778, \"#fb9f3a\"], [0.8888888888888888, \"#fdca26\"], [1.0, \"#f0f921\"]], \"type\": \"heatmap\"}], \"heatmapgl\": [{\"colorbar\": {\"outlinewidth\": 0, \"ticks\": \"\"}, \"colorscale\": [[0.0, \"#0d0887\"], [0.1111111111111111, \"#46039f\"], [0.2222222222222222, \"#7201a8\"], [0.3333333333333333, \"#9c179e\"], [0.4444444444444444, \"#bd3786\"], [0.5555555555555556, \"#d8576b\"], [0.6666666666666666, \"#ed7953\"], [0.7777777777777778, \"#fb9f3a\"], [0.8888888888888888, \"#fdca26\"], [1.0, \"#f0f921\"]], \"type\": \"heatmapgl\"}], \"histogram\": [{\"marker\": {\"colorbar\": {\"outlinewidth\": 0, \"ticks\": \"\"}}, \"type\": \"histogram\"}], \"histogram2d\": [{\"colorbar\": {\"outlinewidth\": 0, \"ticks\": \"\"}, \"colorscale\": [[0.0, \"#0d0887\"], [0.1111111111111111, \"#46039f\"], [0.2222222222222222, \"#7201a8\"], [0.3333333333333333, \"#9c179e\"], [0.4444444444444444, \"#bd3786\"], [0.5555555555555556, \"#d8576b\"], [0.6666666666666666, \"#ed7953\"], [0.7777777777777778, \"#fb9f3a\"], [0.8888888888888888, \"#fdca26\"], [1.0, \"#f0f921\"]], \"type\": \"histogram2d\"}], \"histogram2dcontour\": [{\"colorbar\": {\"outlinewidth\": 0, \"ticks\": \"\"}, \"colorscale\": [[0.0, \"#0d0887\"], [0.1111111111111111, \"#46039f\"], [0.2222222222222222, \"#7201a8\"], [0.3333333333333333, \"#9c179e\"], [0.4444444444444444, \"#bd3786\"], [0.5555555555555556, \"#d8576b\"], [0.6666666666666666, \"#ed7953\"], [0.7777777777777778, \"#fb9f3a\"], [0.8888888888888888, \"#fdca26\"], [1.0, \"#f0f921\"]], \"type\": \"histogram2dcontour\"}], \"mesh3d\": [{\"colorbar\": {\"outlinewidth\": 0, \"ticks\": \"\"}, \"type\": \"mesh3d\"}], \"parcoords\": [{\"line\": {\"colorbar\": {\"outlinewidth\": 0, \"ticks\": \"\"}}, \"type\": \"parcoords\"}], \"pie\": [{\"automargin\": true, \"type\": \"pie\"}], \"scatter\": [{\"marker\": {\"colorbar\": {\"outlinewidth\": 0, \"ticks\": \"\"}}, \"type\": \"scatter\"}], \"scatter3d\": [{\"line\": {\"colorbar\": {\"outlinewidth\": 0, \"ticks\": \"\"}}, \"marker\": {\"colorbar\": {\"outlinewidth\": 0, \"ticks\": \"\"}}, \"type\": \"scatter3d\"}], \"scattercarpet\": [{\"marker\": {\"colorbar\": {\"outlinewidth\": 0, \"ticks\": \"\"}}, \"type\": \"scattercarpet\"}], \"scattergeo\": [{\"marker\": {\"colorbar\": {\"outlinewidth\": 0, \"ticks\": \"\"}}, \"type\": \"scattergeo\"}], \"scattergl\": [{\"marker\": {\"colorbar\": {\"outlinewidth\": 0, \"ticks\": \"\"}}, \"type\": \"scattergl\"}], \"scattermapbox\": [{\"marker\": {\"colorbar\": {\"outlinewidth\": 0, \"ticks\": \"\"}}, \"type\": \"scattermapbox\"}], \"scatterpolar\": [{\"marker\": {\"colorbar\": {\"outlinewidth\": 0, \"ticks\": \"\"}}, \"type\": \"scatterpolar\"}], \"scatterpolargl\": [{\"marker\": {\"colorbar\": {\"outlinewidth\": 0, \"ticks\": \"\"}}, \"type\": \"scatterpolargl\"}], \"scatterternary\": [{\"marker\": {\"colorbar\": {\"outlinewidth\": 0, \"ticks\": \"\"}}, \"type\": \"scatterternary\"}], \"surface\": [{\"colorbar\": {\"outlinewidth\": 0, \"ticks\": \"\"}, \"colorscale\": [[0.0, \"#0d0887\"], [0.1111111111111111, \"#46039f\"], [0.2222222222222222, \"#7201a8\"], [0.3333333333333333, \"#9c179e\"], [0.4444444444444444, \"#bd3786\"], [0.5555555555555556, \"#d8576b\"], [0.6666666666666666, \"#ed7953\"], [0.7777777777777778, \"#fb9f3a\"], [0.8888888888888888, \"#fdca26\"], [1.0, \"#f0f921\"]], \"type\": \"surface\"}], \"table\": [{\"cells\": {\"fill\": {\"color\": \"#EBF0F8\"}, \"line\": {\"color\": \"white\"}}, \"header\": {\"fill\": {\"color\": \"#C8D4E3\"}, \"line\": {\"color\": \"white\"}}, \"type\": \"table\"}]}, \"layout\": {\"annotationdefaults\": {\"arrowcolor\": \"#2a3f5f\", \"arrowhead\": 0, \"arrowwidth\": 1}, \"coloraxis\": {\"colorbar\": {\"outlinewidth\": 0, \"ticks\": \"\"}}, \"colorscale\": {\"diverging\": [[0, \"#8e0152\"], [0.1, \"#c51b7d\"], [0.2, \"#de77ae\"], [0.3, \"#f1b6da\"], [0.4, \"#fde0ef\"], [0.5, \"#f7f7f7\"], [0.6, \"#e6f5d0\"], [0.7, \"#b8e186\"], [0.8, \"#7fbc41\"], [0.9, \"#4d9221\"], [1, \"#276419\"]], \"sequential\": [[0.0, \"#0d0887\"], [0.1111111111111111, \"#46039f\"], [0.2222222222222222, \"#7201a8\"], [0.3333333333333333, \"#9c179e\"], [0.4444444444444444, \"#bd3786\"], [0.5555555555555556, \"#d8576b\"], [0.6666666666666666, \"#ed7953\"], [0.7777777777777778, \"#fb9f3a\"], [0.8888888888888888, \"#fdca26\"], [1.0, \"#f0f921\"]], \"sequentialminus\": [[0.0, \"#0d0887\"], [0.1111111111111111, \"#46039f\"], [0.2222222222222222, \"#7201a8\"], [0.3333333333333333, \"#9c179e\"], [0.4444444444444444, \"#bd3786\"], [0.5555555555555556, \"#d8576b\"], [0.6666666666666666, \"#ed7953\"], [0.7777777777777778, \"#fb9f3a\"], [0.8888888888888888, \"#fdca26\"], [1.0, \"#f0f921\"]]}, \"colorway\": [\"#636efa\", \"#EF553B\", \"#00cc96\", \"#ab63fa\", \"#FFA15A\", \"#19d3f3\", \"#FF6692\", \"#B6E880\", \"#FF97FF\", \"#FECB52\"], \"font\": {\"color\": \"#2a3f5f\"}, \"geo\": {\"bgcolor\": \"white\", \"lakecolor\": \"white\", \"landcolor\": \"#E5ECF6\", \"showlakes\": true, \"showland\": true, \"subunitcolor\": \"white\"}, \"hoverlabel\": {\"align\": \"left\"}, \"hovermode\": \"closest\", \"mapbox\": {\"style\": \"light\"}, \"paper_bgcolor\": \"white\", \"plot_bgcolor\": \"#E5ECF6\", \"polar\": {\"angularaxis\": {\"gridcolor\": \"white\", \"linecolor\": \"white\", \"ticks\": \"\"}, \"bgcolor\": \"#E5ECF6\", \"radialaxis\": {\"gridcolor\": \"white\", \"linecolor\": \"white\", \"ticks\": \"\"}}, \"scene\": {\"xaxis\": {\"backgroundcolor\": \"#E5ECF6\", \"gridcolor\": \"white\", \"gridwidth\": 2, \"linecolor\": \"white\", \"showbackground\": true, \"ticks\": \"\", \"zerolinecolor\": \"white\"}, \"yaxis\": {\"backgroundcolor\": \"#E5ECF6\", \"gridcolor\": \"white\", \"gridwidth\": 2, \"linecolor\": \"white\", \"showbackground\": true, \"ticks\": \"\", \"zerolinecolor\": \"white\"}, \"zaxis\": {\"backgroundcolor\": \"#E5ECF6\", \"gridcolor\": \"white\", \"gridwidth\": 2, \"linecolor\": \"white\", \"showbackground\": true, \"ticks\": \"\", \"zerolinecolor\": \"white\"}}, \"shapedefaults\": {\"line\": {\"color\": \"#2a3f5f\"}}, \"ternary\": {\"aaxis\": {\"gridcolor\": \"white\", \"linecolor\": \"white\", \"ticks\": \"\"}, \"baxis\": {\"gridcolor\": \"white\", \"linecolor\": \"white\", \"ticks\": \"\"}, \"bgcolor\": \"#E5ECF6\", \"caxis\": {\"gridcolor\": \"white\", \"linecolor\": \"white\", \"ticks\": \"\"}}, \"title\": {\"x\": 0.05}, \"xaxis\": {\"automargin\": true, \"gridcolor\": \"white\", \"linecolor\": \"white\", \"ticks\": \"\", \"title\": {\"standoff\": 15}, \"zerolinecolor\": \"white\", \"zerolinewidth\": 2}, \"yaxis\": {\"automargin\": true, \"gridcolor\": \"white\", \"linecolor\": \"white\", \"ticks\": \"\", \"title\": {\"standoff\": 15}, \"zerolinecolor\": \"white\", \"zerolinewidth\": 2}}}, \"xaxis\": {\"anchor\": \"y\", \"domain\": [0.0, 1.0], \"title\": {\"text\": \"PRODUTO\"}}, \"yaxis\": {\"anchor\": \"x\", \"domain\": [0.0, 1.0], \"title\": {\"text\": \"VALOR VENDA\"}}},\n",
              "                        {\"responsive\": true}\n",
              "                    ).then(function(){\n",
              "                            \n",
              "var gd = document.getElementById('e19d7f28-e6c4-4865-b3b1-06cf73a74773');\n",
              "var x = new MutationObserver(function (mutations, observer) {{\n",
              "        var display = window.getComputedStyle(gd).display;\n",
              "        if (!display || display === 'none') {{\n",
              "            console.log([gd, 'removed!']);\n",
              "            Plotly.purge(gd);\n",
              "            observer.disconnect();\n",
              "        }}\n",
              "}});\n",
              "\n",
              "// Listen for the removal of the full notebook cells\n",
              "var notebookContainer = gd.closest('#notebook-container');\n",
              "if (notebookContainer) {{\n",
              "    x.observe(notebookContainer, {childList: true});\n",
              "}}\n",
              "\n",
              "// Listen for the clearing of the current output cell\n",
              "var outputEl = gd.closest('.output');\n",
              "if (outputEl) {{\n",
              "    x.observe(outputEl, {childList: true});\n",
              "}}\n",
              "\n",
              "                        })\n",
              "                };\n",
              "                \n",
              "            </script>\n",
              "        </div>\n",
              "</body>\n",
              "</html>"
            ]
          },
          "metadata": {
            "tags": []
          }
        }
      ]
    },
    {
      "cell_type": "markdown",
      "metadata": {
        "id": "SocBu6uAsP8i",
        "colab_type": "text"
      },
      "source": [
        "## Preço médio do combustível"
      ]
    },
    {
      "cell_type": "markdown",
      "metadata": {
        "id": "rrOakzPkrl6o",
        "colab_type": "text"
      },
      "source": [
        "Agora que limpamos os dados, vamos visualizar o preço médio por tipo de combustível:"
      ]
    },
    {
      "cell_type": "code",
      "metadata": {
        "id": "2Q8l4QhcBH-P",
        "colab_type": "code",
        "outputId": "1378b1bf-8566-4ae5-f322-46af71979312",
        "colab": {
          "base_uri": "https://localhost:8080/",
          "height": 235
        }
      },
      "source": [
        "preço_produto = preços.pivot_table(index=\"PRODUTO\", values=\"VALOR VENDA\")\n",
        "preço_produto.head()"
      ],
      "execution_count": 0,
      "outputs": [
        {
          "output_type": "execute_result",
          "data": {
            "text/html": [
              "<div>\n",
              "<style scoped>\n",
              "    .dataframe tbody tr th:only-of-type {\n",
              "        vertical-align: middle;\n",
              "    }\n",
              "\n",
              "    .dataframe tbody tr th {\n",
              "        vertical-align: top;\n",
              "    }\n",
              "\n",
              "    .dataframe thead th {\n",
              "        text-align: right;\n",
              "    }\n",
              "</style>\n",
              "<table border=\"1\" class=\"dataframe\">\n",
              "  <thead>\n",
              "    <tr style=\"text-align: right;\">\n",
              "      <th></th>\n",
              "      <th>VALOR VENDA</th>\n",
              "    </tr>\n",
              "    <tr>\n",
              "      <th>PRODUTO</th>\n",
              "      <th></th>\n",
              "    </tr>\n",
              "  </thead>\n",
              "  <tbody>\n",
              "    <tr>\n",
              "      <th>Diesel S10</th>\n",
              "      <td>3.717703</td>\n",
              "    </tr>\n",
              "    <tr>\n",
              "      <th>Diesel S500</th>\n",
              "      <td>3.657632</td>\n",
              "    </tr>\n",
              "    <tr>\n",
              "      <th>Etanol</th>\n",
              "      <td>3.417888</td>\n",
              "    </tr>\n",
              "    <tr>\n",
              "      <th>GNV</th>\n",
              "      <td>3.248063</td>\n",
              "    </tr>\n",
              "    <tr>\n",
              "      <th>Gasolina C Comum</th>\n",
              "      <td>4.570035</td>\n",
              "    </tr>\n",
              "  </tbody>\n",
              "</table>\n",
              "</div>"
            ],
            "text/plain": [
              "                  VALOR VENDA\n",
              "PRODUTO                      \n",
              "Diesel S10           3.717703\n",
              "Diesel S500          3.657632\n",
              "Etanol               3.417888\n",
              "GNV                  3.248063\n",
              "Gasolina C Comum     4.570035"
            ]
          },
          "metadata": {
            "tags": []
          },
          "execution_count": 12
        }
      ]
    },
    {
      "cell_type": "code",
      "metadata": {
        "id": "_0E7G3r3wVKl",
        "colab_type": "code",
        "outputId": "efa79a77-82f3-4bdd-b10b-8bdd9280cb97",
        "colab": {
          "base_uri": "https://localhost:8080/",
          "height": 562
        }
      },
      "source": [
        "px.bar(preço_produto, x=preço_produto.index, y=\"VALOR VENDA\", title='Preço médio por tipo de combustível')"
      ],
      "execution_count": 0,
      "outputs": [
        {
          "output_type": "display_data",
          "data": {
            "text/html": [
              "<html>\n",
              "<head><meta charset=\"utf-8\" /></head>\n",
              "<body>\n",
              "    <div>\n",
              "            <script src=\"https://cdnjs.cloudflare.com/ajax/libs/mathjax/2.7.5/MathJax.js?config=TeX-AMS-MML_SVG\"></script><script type=\"text/javascript\">if (window.MathJax) {MathJax.Hub.Config({SVG: {font: \"STIX-Web\"}});}</script>\n",
              "                <script type=\"text/javascript\">window.PlotlyConfig = {MathJaxConfig: 'local'};</script>\n",
              "        <script src=\"https://cdn.plot.ly/plotly-latest.min.js\"></script>    \n",
              "            <div id=\"d5913c09-2ef5-472a-8ecc-a33ac6ddb1f7\" class=\"plotly-graph-div\" style=\"height:525px; width:100%;\"></div>\n",
              "            <script type=\"text/javascript\">\n",
              "                \n",
              "                    window.PLOTLYENV=window.PLOTLYENV || {};\n",
              "                    \n",
              "                if (document.getElementById(\"d5913c09-2ef5-472a-8ecc-a33ac6ddb1f7\")) {\n",
              "                    Plotly.newPlot(\n",
              "                        'd5913c09-2ef5-472a-8ecc-a33ac6ddb1f7',\n",
              "                        [{\"alignmentgroup\": \"True\", \"hoverlabel\": {\"namelength\": 0}, \"hovertemplate\": \"x=%{x}<br>VALOR VENDA=%{y}\", \"legendgroup\": \"\", \"marker\": {\"color\": \"#636efa\"}, \"name\": \"\", \"offsetgroup\": \"\", \"orientation\": \"v\", \"showlegend\": false, \"textposition\": \"auto\", \"type\": \"bar\", \"x\": [\"Diesel S10\", \"Diesel S500\", \"Etanol\", \"GNV\", \"Gasolina C Comum\"], \"xaxis\": \"x\", \"y\": [3.7177027027027014, 3.657631578947367, 3.4178878048780494, 3.2480625000000005, 4.570035335689043], \"yaxis\": \"y\"}],\n",
              "                        {\"barmode\": \"relative\", \"legend\": {\"tracegroupgap\": 0}, \"template\": {\"data\": {\"bar\": [{\"error_x\": {\"color\": \"#2a3f5f\"}, \"error_y\": {\"color\": \"#2a3f5f\"}, \"marker\": {\"line\": {\"color\": \"#E5ECF6\", \"width\": 0.5}}, \"type\": \"bar\"}], \"barpolar\": [{\"marker\": {\"line\": {\"color\": \"#E5ECF6\", \"width\": 0.5}}, \"type\": \"barpolar\"}], \"carpet\": [{\"aaxis\": {\"endlinecolor\": \"#2a3f5f\", \"gridcolor\": \"white\", \"linecolor\": \"white\", \"minorgridcolor\": \"white\", \"startlinecolor\": \"#2a3f5f\"}, \"baxis\": {\"endlinecolor\": \"#2a3f5f\", \"gridcolor\": \"white\", \"linecolor\": \"white\", \"minorgridcolor\": \"white\", \"startlinecolor\": \"#2a3f5f\"}, \"type\": \"carpet\"}], \"choropleth\": [{\"colorbar\": {\"outlinewidth\": 0, \"ticks\": \"\"}, \"type\": \"choropleth\"}], \"contour\": [{\"colorbar\": {\"outlinewidth\": 0, \"ticks\": \"\"}, \"colorscale\": [[0.0, \"#0d0887\"], [0.1111111111111111, \"#46039f\"], [0.2222222222222222, \"#7201a8\"], [0.3333333333333333, \"#9c179e\"], [0.4444444444444444, \"#bd3786\"], [0.5555555555555556, \"#d8576b\"], [0.6666666666666666, \"#ed7953\"], [0.7777777777777778, \"#fb9f3a\"], [0.8888888888888888, \"#fdca26\"], [1.0, \"#f0f921\"]], \"type\": \"contour\"}], \"contourcarpet\": [{\"colorbar\": {\"outlinewidth\": 0, \"ticks\": \"\"}, \"type\": \"contourcarpet\"}], \"heatmap\": [{\"colorbar\": {\"outlinewidth\": 0, \"ticks\": \"\"}, \"colorscale\": [[0.0, \"#0d0887\"], [0.1111111111111111, \"#46039f\"], [0.2222222222222222, \"#7201a8\"], [0.3333333333333333, \"#9c179e\"], [0.4444444444444444, \"#bd3786\"], [0.5555555555555556, \"#d8576b\"], [0.6666666666666666, \"#ed7953\"], [0.7777777777777778, \"#fb9f3a\"], [0.8888888888888888, \"#fdca26\"], [1.0, \"#f0f921\"]], \"type\": \"heatmap\"}], \"heatmapgl\": [{\"colorbar\": {\"outlinewidth\": 0, \"ticks\": \"\"}, \"colorscale\": [[0.0, \"#0d0887\"], [0.1111111111111111, \"#46039f\"], [0.2222222222222222, \"#7201a8\"], [0.3333333333333333, \"#9c179e\"], [0.4444444444444444, \"#bd3786\"], [0.5555555555555556, \"#d8576b\"], [0.6666666666666666, \"#ed7953\"], [0.7777777777777778, \"#fb9f3a\"], [0.8888888888888888, \"#fdca26\"], [1.0, \"#f0f921\"]], \"type\": \"heatmapgl\"}], \"histogram\": [{\"marker\": {\"colorbar\": {\"outlinewidth\": 0, \"ticks\": \"\"}}, \"type\": \"histogram\"}], \"histogram2d\": [{\"colorbar\": {\"outlinewidth\": 0, \"ticks\": \"\"}, \"colorscale\": [[0.0, \"#0d0887\"], [0.1111111111111111, \"#46039f\"], [0.2222222222222222, \"#7201a8\"], [0.3333333333333333, \"#9c179e\"], [0.4444444444444444, \"#bd3786\"], [0.5555555555555556, \"#d8576b\"], [0.6666666666666666, \"#ed7953\"], [0.7777777777777778, \"#fb9f3a\"], [0.8888888888888888, \"#fdca26\"], [1.0, \"#f0f921\"]], \"type\": \"histogram2d\"}], \"histogram2dcontour\": [{\"colorbar\": {\"outlinewidth\": 0, \"ticks\": \"\"}, \"colorscale\": [[0.0, \"#0d0887\"], [0.1111111111111111, \"#46039f\"], [0.2222222222222222, \"#7201a8\"], [0.3333333333333333, \"#9c179e\"], [0.4444444444444444, \"#bd3786\"], [0.5555555555555556, \"#d8576b\"], [0.6666666666666666, \"#ed7953\"], [0.7777777777777778, \"#fb9f3a\"], [0.8888888888888888, \"#fdca26\"], [1.0, \"#f0f921\"]], \"type\": \"histogram2dcontour\"}], \"mesh3d\": [{\"colorbar\": {\"outlinewidth\": 0, \"ticks\": \"\"}, \"type\": \"mesh3d\"}], \"parcoords\": [{\"line\": {\"colorbar\": {\"outlinewidth\": 0, \"ticks\": \"\"}}, \"type\": \"parcoords\"}], \"pie\": [{\"automargin\": true, \"type\": \"pie\"}], \"scatter\": [{\"marker\": {\"colorbar\": {\"outlinewidth\": 0, \"ticks\": \"\"}}, \"type\": \"scatter\"}], \"scatter3d\": [{\"line\": {\"colorbar\": {\"outlinewidth\": 0, \"ticks\": \"\"}}, \"marker\": {\"colorbar\": {\"outlinewidth\": 0, \"ticks\": \"\"}}, \"type\": \"scatter3d\"}], \"scattercarpet\": [{\"marker\": {\"colorbar\": {\"outlinewidth\": 0, \"ticks\": \"\"}}, \"type\": \"scattercarpet\"}], \"scattergeo\": [{\"marker\": {\"colorbar\": {\"outlinewidth\": 0, \"ticks\": \"\"}}, \"type\": \"scattergeo\"}], \"scattergl\": [{\"marker\": {\"colorbar\": {\"outlinewidth\": 0, \"ticks\": \"\"}}, \"type\": \"scattergl\"}], \"scattermapbox\": [{\"marker\": {\"colorbar\": {\"outlinewidth\": 0, \"ticks\": \"\"}}, \"type\": \"scattermapbox\"}], \"scatterpolar\": [{\"marker\": {\"colorbar\": {\"outlinewidth\": 0, \"ticks\": \"\"}}, \"type\": \"scatterpolar\"}], \"scatterpolargl\": [{\"marker\": {\"colorbar\": {\"outlinewidth\": 0, \"ticks\": \"\"}}, \"type\": \"scatterpolargl\"}], \"scatterternary\": [{\"marker\": {\"colorbar\": {\"outlinewidth\": 0, \"ticks\": \"\"}}, \"type\": \"scatterternary\"}], \"surface\": [{\"colorbar\": {\"outlinewidth\": 0, \"ticks\": \"\"}, \"colorscale\": [[0.0, \"#0d0887\"], [0.1111111111111111, \"#46039f\"], [0.2222222222222222, \"#7201a8\"], [0.3333333333333333, \"#9c179e\"], [0.4444444444444444, \"#bd3786\"], [0.5555555555555556, \"#d8576b\"], [0.6666666666666666, \"#ed7953\"], [0.7777777777777778, \"#fb9f3a\"], [0.8888888888888888, \"#fdca26\"], [1.0, \"#f0f921\"]], \"type\": \"surface\"}], \"table\": [{\"cells\": {\"fill\": {\"color\": \"#EBF0F8\"}, \"line\": {\"color\": \"white\"}}, \"header\": {\"fill\": {\"color\": \"#C8D4E3\"}, \"line\": {\"color\": \"white\"}}, \"type\": \"table\"}]}, \"layout\": {\"annotationdefaults\": {\"arrowcolor\": \"#2a3f5f\", \"arrowhead\": 0, \"arrowwidth\": 1}, \"coloraxis\": {\"colorbar\": {\"outlinewidth\": 0, \"ticks\": \"\"}}, \"colorscale\": {\"diverging\": [[0, \"#8e0152\"], [0.1, \"#c51b7d\"], [0.2, \"#de77ae\"], [0.3, \"#f1b6da\"], [0.4, \"#fde0ef\"], [0.5, \"#f7f7f7\"], [0.6, \"#e6f5d0\"], [0.7, \"#b8e186\"], [0.8, \"#7fbc41\"], [0.9, \"#4d9221\"], [1, \"#276419\"]], \"sequential\": [[0.0, \"#0d0887\"], [0.1111111111111111, \"#46039f\"], [0.2222222222222222, \"#7201a8\"], [0.3333333333333333, \"#9c179e\"], [0.4444444444444444, \"#bd3786\"], [0.5555555555555556, \"#d8576b\"], [0.6666666666666666, \"#ed7953\"], [0.7777777777777778, \"#fb9f3a\"], [0.8888888888888888, \"#fdca26\"], [1.0, \"#f0f921\"]], \"sequentialminus\": [[0.0, \"#0d0887\"], [0.1111111111111111, \"#46039f\"], [0.2222222222222222, \"#7201a8\"], [0.3333333333333333, \"#9c179e\"], [0.4444444444444444, \"#bd3786\"], [0.5555555555555556, \"#d8576b\"], [0.6666666666666666, \"#ed7953\"], [0.7777777777777778, \"#fb9f3a\"], [0.8888888888888888, \"#fdca26\"], [1.0, \"#f0f921\"]]}, \"colorway\": [\"#636efa\", \"#EF553B\", \"#00cc96\", \"#ab63fa\", \"#FFA15A\", \"#19d3f3\", \"#FF6692\", \"#B6E880\", \"#FF97FF\", \"#FECB52\"], \"font\": {\"color\": \"#2a3f5f\"}, \"geo\": {\"bgcolor\": \"white\", \"lakecolor\": \"white\", \"landcolor\": \"#E5ECF6\", \"showlakes\": true, \"showland\": true, \"subunitcolor\": \"white\"}, \"hoverlabel\": {\"align\": \"left\"}, \"hovermode\": \"closest\", \"mapbox\": {\"style\": \"light\"}, \"paper_bgcolor\": \"white\", \"plot_bgcolor\": \"#E5ECF6\", \"polar\": {\"angularaxis\": {\"gridcolor\": \"white\", \"linecolor\": \"white\", \"ticks\": \"\"}, \"bgcolor\": \"#E5ECF6\", \"radialaxis\": {\"gridcolor\": \"white\", \"linecolor\": \"white\", \"ticks\": \"\"}}, \"scene\": {\"xaxis\": {\"backgroundcolor\": \"#E5ECF6\", \"gridcolor\": \"white\", \"gridwidth\": 2, \"linecolor\": \"white\", \"showbackground\": true, \"ticks\": \"\", \"zerolinecolor\": \"white\"}, \"yaxis\": {\"backgroundcolor\": \"#E5ECF6\", \"gridcolor\": \"white\", \"gridwidth\": 2, \"linecolor\": \"white\", \"showbackground\": true, \"ticks\": \"\", \"zerolinecolor\": \"white\"}, \"zaxis\": {\"backgroundcolor\": \"#E5ECF6\", \"gridcolor\": \"white\", \"gridwidth\": 2, \"linecolor\": \"white\", \"showbackground\": true, \"ticks\": \"\", \"zerolinecolor\": \"white\"}}, \"shapedefaults\": {\"line\": {\"color\": \"#2a3f5f\"}}, \"ternary\": {\"aaxis\": {\"gridcolor\": \"white\", \"linecolor\": \"white\", \"ticks\": \"\"}, \"baxis\": {\"gridcolor\": \"white\", \"linecolor\": \"white\", \"ticks\": \"\"}, \"bgcolor\": \"#E5ECF6\", \"caxis\": {\"gridcolor\": \"white\", \"linecolor\": \"white\", \"ticks\": \"\"}}, \"title\": {\"x\": 0.05}, \"xaxis\": {\"automargin\": true, \"gridcolor\": \"white\", \"linecolor\": \"white\", \"ticks\": \"\", \"title\": {\"standoff\": 15}, \"zerolinecolor\": \"white\", \"zerolinewidth\": 2}, \"yaxis\": {\"automargin\": true, \"gridcolor\": \"white\", \"linecolor\": \"white\", \"ticks\": \"\", \"title\": {\"standoff\": 15}, \"zerolinecolor\": \"white\", \"zerolinewidth\": 2}}}, \"title\": {\"text\": \"Pre\\u00e7o m\\u00e9dio por tipo de combust\\u00edvel\"}, \"xaxis\": {\"anchor\": \"y\", \"domain\": [0.0, 1.0], \"title\": {\"text\": \"x\"}}, \"yaxis\": {\"anchor\": \"x\", \"domain\": [0.0, 1.0], \"title\": {\"text\": \"VALOR VENDA\"}}},\n",
              "                        {\"responsive\": true}\n",
              "                    ).then(function(){\n",
              "                            \n",
              "var gd = document.getElementById('d5913c09-2ef5-472a-8ecc-a33ac6ddb1f7');\n",
              "var x = new MutationObserver(function (mutations, observer) {{\n",
              "        var display = window.getComputedStyle(gd).display;\n",
              "        if (!display || display === 'none') {{\n",
              "            console.log([gd, 'removed!']);\n",
              "            Plotly.purge(gd);\n",
              "            observer.disconnect();\n",
              "        }}\n",
              "}});\n",
              "\n",
              "// Listen for the removal of the full notebook cells\n",
              "var notebookContainer = gd.closest('#notebook-container');\n",
              "if (notebookContainer) {{\n",
              "    x.observe(notebookContainer, {childList: true});\n",
              "}}\n",
              "\n",
              "// Listen for the clearing of the current output cell\n",
              "var outputEl = gd.closest('.output');\n",
              "if (outputEl) {{\n",
              "    x.observe(outputEl, {childList: true});\n",
              "}}\n",
              "\n",
              "                        })\n",
              "                };\n",
              "                \n",
              "            </script>\n",
              "        </div>\n",
              "</body>\n",
              "</html>"
            ]
          },
          "metadata": {
            "tags": []
          }
        }
      ]
    },
    {
      "cell_type": "markdown",
      "metadata": {
        "id": "B4VPNEyWh42H",
        "colab_type": "text"
      },
      "source": [
        "Botemos refinar nossa análise analisando o preço da gasolina comum por estado:"
      ]
    },
    {
      "cell_type": "code",
      "metadata": {
        "id": "aEMixqS2iMCG",
        "colab_type": "code",
        "outputId": "dfe9f439-0ad4-4d9b-baf3-eeb5dda38ad6",
        "colab": {
          "base_uri": "https://localhost:8080/",
          "height": 235
        }
      },
      "source": [
        "preço_gasolina = preços.query(\"PRODUTO == 'Gasolina C Comum'\")\n",
        "gasolina_por_estado = preço_gasolina.pivot_table(index=\"UF\", values='VALOR VENDA')\n",
        "gasolina_por_estado.head()"
      ],
      "execution_count": 0,
      "outputs": [
        {
          "output_type": "execute_result",
          "data": {
            "text/html": [
              "<div>\n",
              "<style scoped>\n",
              "    .dataframe tbody tr th:only-of-type {\n",
              "        vertical-align: middle;\n",
              "    }\n",
              "\n",
              "    .dataframe tbody tr th {\n",
              "        vertical-align: top;\n",
              "    }\n",
              "\n",
              "    .dataframe thead th {\n",
              "        text-align: right;\n",
              "    }\n",
              "</style>\n",
              "<table border=\"1\" class=\"dataframe\">\n",
              "  <thead>\n",
              "    <tr style=\"text-align: right;\">\n",
              "      <th></th>\n",
              "      <th>VALOR VENDA</th>\n",
              "    </tr>\n",
              "    <tr>\n",
              "      <th>UF</th>\n",
              "      <th></th>\n",
              "    </tr>\n",
              "  </thead>\n",
              "  <tbody>\n",
              "    <tr>\n",
              "      <th>AL</th>\n",
              "      <td>3.959000</td>\n",
              "    </tr>\n",
              "    <tr>\n",
              "      <th>AM</th>\n",
              "      <td>3.980000</td>\n",
              "    </tr>\n",
              "    <tr>\n",
              "      <th>BA</th>\n",
              "      <td>4.638111</td>\n",
              "    </tr>\n",
              "    <tr>\n",
              "      <th>CE</th>\n",
              "      <td>4.685222</td>\n",
              "    </tr>\n",
              "    <tr>\n",
              "      <th>DF</th>\n",
              "      <td>4.455333</td>\n",
              "    </tr>\n",
              "  </tbody>\n",
              "</table>\n",
              "</div>"
            ],
            "text/plain": [
              "    VALOR VENDA\n",
              "UF             \n",
              "AL     3.959000\n",
              "AM     3.980000\n",
              "BA     4.638111\n",
              "CE     4.685222\n",
              "DF     4.455333"
            ]
          },
          "metadata": {
            "tags": []
          },
          "execution_count": 14
        }
      ]
    },
    {
      "cell_type": "markdown",
      "metadata": {
        "id": "6RPjjcqzivqg",
        "colab_type": "text"
      },
      "source": [
        "Para gerar este gráfico a partir da tabela dinâmica acima, vamos informar que os índices das observações devem ser usados como valores para o eixo x:"
      ]
    },
    {
      "cell_type": "code",
      "metadata": {
        "id": "wMeiJxa3MJ7D",
        "colab_type": "code",
        "outputId": "9ea9b88b-6f71-4733-f7d1-19e39fa2c7e8",
        "colab": {
          "base_uri": "https://localhost:8080/",
          "height": 562
        }
      },
      "source": [
        "px.bar(gasolina_por_estado, x=gasolina_por_estado.index, y=\"VALOR VENDA\", title = 'Preço médio da Gasolina comum por UF')"
      ],
      "execution_count": 0,
      "outputs": [
        {
          "output_type": "display_data",
          "data": {
            "text/html": [
              "<html>\n",
              "<head><meta charset=\"utf-8\" /></head>\n",
              "<body>\n",
              "    <div>\n",
              "            <script src=\"https://cdnjs.cloudflare.com/ajax/libs/mathjax/2.7.5/MathJax.js?config=TeX-AMS-MML_SVG\"></script><script type=\"text/javascript\">if (window.MathJax) {MathJax.Hub.Config({SVG: {font: \"STIX-Web\"}});}</script>\n",
              "                <script type=\"text/javascript\">window.PlotlyConfig = {MathJaxConfig: 'local'};</script>\n",
              "        <script src=\"https://cdn.plot.ly/plotly-latest.min.js\"></script>    \n",
              "            <div id=\"ed463cba-fb39-4b46-b123-3d03f4eec839\" class=\"plotly-graph-div\" style=\"height:525px; width:100%;\"></div>\n",
              "            <script type=\"text/javascript\">\n",
              "                \n",
              "                    window.PLOTLYENV=window.PLOTLYENV || {};\n",
              "                    \n",
              "                if (document.getElementById(\"ed463cba-fb39-4b46-b123-3d03f4eec839\")) {\n",
              "                    Plotly.newPlot(\n",
              "                        'ed463cba-fb39-4b46-b123-3d03f4eec839',\n",
              "                        [{\"alignmentgroup\": \"True\", \"hoverlabel\": {\"namelength\": 0}, \"hovertemplate\": \"x=%{x}<br>VALOR VENDA=%{y}\", \"legendgroup\": \"\", \"marker\": {\"color\": \"#636efa\"}, \"name\": \"\", \"offsetgroup\": \"\", \"orientation\": \"v\", \"showlegend\": false, \"textposition\": \"auto\", \"type\": \"bar\", \"x\": [\"AL\", \"AM\", \"BA\", \"CE\", \"DF\", \"ES\", \"GO\", \"MA\", \"MG\", \"MS\", \"MT\", \"PA\", \"PB\", \"PE\", \"PI\", \"PR\", \"RJ\", \"RN\", \"RO\", \"RS\", \"SC\", \"SE\", \"SP\", \"TO\"], \"xaxis\": \"x\", \"y\": [3.9589999999999996, 3.98, 4.638111111111111, 4.685222222222222, 4.455333333333333, 4.581333333333333, 4.752764705882352, 4.5032499999999995, 4.78896, 4.382, 4.838166666666667, 4.82375, 4.634, 4.417999999999999, 4.619250000000001, 4.347545454545454, 4.971181818181818, 4.531166666666667, 4.6160000000000005, 4.544700000000001, 4.253571428571428, 4.399, 4.281633333333333, 4.846166666666666], \"yaxis\": \"y\"}],\n",
              "                        {\"barmode\": \"relative\", \"legend\": {\"tracegroupgap\": 0}, \"template\": {\"data\": {\"bar\": [{\"error_x\": {\"color\": \"#2a3f5f\"}, \"error_y\": {\"color\": \"#2a3f5f\"}, \"marker\": {\"line\": {\"color\": \"#E5ECF6\", \"width\": 0.5}}, \"type\": \"bar\"}], \"barpolar\": [{\"marker\": {\"line\": {\"color\": \"#E5ECF6\", \"width\": 0.5}}, \"type\": \"barpolar\"}], \"carpet\": [{\"aaxis\": {\"endlinecolor\": \"#2a3f5f\", \"gridcolor\": \"white\", \"linecolor\": \"white\", \"minorgridcolor\": \"white\", \"startlinecolor\": \"#2a3f5f\"}, \"baxis\": {\"endlinecolor\": \"#2a3f5f\", \"gridcolor\": \"white\", \"linecolor\": \"white\", \"minorgridcolor\": \"white\", \"startlinecolor\": \"#2a3f5f\"}, \"type\": \"carpet\"}], \"choropleth\": [{\"colorbar\": {\"outlinewidth\": 0, \"ticks\": \"\"}, \"type\": \"choropleth\"}], \"contour\": [{\"colorbar\": {\"outlinewidth\": 0, \"ticks\": \"\"}, \"colorscale\": [[0.0, \"#0d0887\"], [0.1111111111111111, \"#46039f\"], [0.2222222222222222, \"#7201a8\"], [0.3333333333333333, \"#9c179e\"], [0.4444444444444444, \"#bd3786\"], [0.5555555555555556, \"#d8576b\"], [0.6666666666666666, \"#ed7953\"], [0.7777777777777778, \"#fb9f3a\"], [0.8888888888888888, \"#fdca26\"], [1.0, \"#f0f921\"]], \"type\": \"contour\"}], \"contourcarpet\": [{\"colorbar\": {\"outlinewidth\": 0, \"ticks\": \"\"}, \"type\": \"contourcarpet\"}], \"heatmap\": [{\"colorbar\": {\"outlinewidth\": 0, \"ticks\": \"\"}, \"colorscale\": [[0.0, \"#0d0887\"], [0.1111111111111111, \"#46039f\"], [0.2222222222222222, \"#7201a8\"], [0.3333333333333333, \"#9c179e\"], [0.4444444444444444, \"#bd3786\"], [0.5555555555555556, \"#d8576b\"], [0.6666666666666666, \"#ed7953\"], [0.7777777777777778, \"#fb9f3a\"], [0.8888888888888888, \"#fdca26\"], [1.0, \"#f0f921\"]], \"type\": \"heatmap\"}], \"heatmapgl\": [{\"colorbar\": {\"outlinewidth\": 0, \"ticks\": \"\"}, \"colorscale\": [[0.0, \"#0d0887\"], [0.1111111111111111, \"#46039f\"], [0.2222222222222222, \"#7201a8\"], [0.3333333333333333, \"#9c179e\"], [0.4444444444444444, \"#bd3786\"], [0.5555555555555556, \"#d8576b\"], [0.6666666666666666, \"#ed7953\"], [0.7777777777777778, \"#fb9f3a\"], [0.8888888888888888, \"#fdca26\"], [1.0, \"#f0f921\"]], \"type\": \"heatmapgl\"}], \"histogram\": [{\"marker\": {\"colorbar\": {\"outlinewidth\": 0, \"ticks\": \"\"}}, \"type\": \"histogram\"}], \"histogram2d\": [{\"colorbar\": {\"outlinewidth\": 0, \"ticks\": \"\"}, \"colorscale\": [[0.0, \"#0d0887\"], [0.1111111111111111, \"#46039f\"], [0.2222222222222222, \"#7201a8\"], [0.3333333333333333, \"#9c179e\"], [0.4444444444444444, \"#bd3786\"], [0.5555555555555556, \"#d8576b\"], [0.6666666666666666, \"#ed7953\"], [0.7777777777777778, \"#fb9f3a\"], [0.8888888888888888, \"#fdca26\"], [1.0, \"#f0f921\"]], \"type\": \"histogram2d\"}], \"histogram2dcontour\": [{\"colorbar\": {\"outlinewidth\": 0, \"ticks\": \"\"}, \"colorscale\": [[0.0, \"#0d0887\"], [0.1111111111111111, \"#46039f\"], [0.2222222222222222, \"#7201a8\"], [0.3333333333333333, \"#9c179e\"], [0.4444444444444444, \"#bd3786\"], [0.5555555555555556, \"#d8576b\"], [0.6666666666666666, \"#ed7953\"], [0.7777777777777778, \"#fb9f3a\"], [0.8888888888888888, \"#fdca26\"], [1.0, \"#f0f921\"]], \"type\": \"histogram2dcontour\"}], \"mesh3d\": [{\"colorbar\": {\"outlinewidth\": 0, \"ticks\": \"\"}, \"type\": \"mesh3d\"}], \"parcoords\": [{\"line\": {\"colorbar\": {\"outlinewidth\": 0, \"ticks\": \"\"}}, \"type\": \"parcoords\"}], \"pie\": [{\"automargin\": true, \"type\": \"pie\"}], \"scatter\": [{\"marker\": {\"colorbar\": {\"outlinewidth\": 0, \"ticks\": \"\"}}, \"type\": \"scatter\"}], \"scatter3d\": [{\"line\": {\"colorbar\": {\"outlinewidth\": 0, \"ticks\": \"\"}}, \"marker\": {\"colorbar\": {\"outlinewidth\": 0, \"ticks\": \"\"}}, \"type\": \"scatter3d\"}], \"scattercarpet\": [{\"marker\": {\"colorbar\": {\"outlinewidth\": 0, \"ticks\": \"\"}}, \"type\": \"scattercarpet\"}], \"scattergeo\": [{\"marker\": {\"colorbar\": {\"outlinewidth\": 0, \"ticks\": \"\"}}, \"type\": \"scattergeo\"}], \"scattergl\": [{\"marker\": {\"colorbar\": {\"outlinewidth\": 0, \"ticks\": \"\"}}, \"type\": \"scattergl\"}], \"scattermapbox\": [{\"marker\": {\"colorbar\": {\"outlinewidth\": 0, \"ticks\": \"\"}}, \"type\": \"scattermapbox\"}], \"scatterpolar\": [{\"marker\": {\"colorbar\": {\"outlinewidth\": 0, \"ticks\": \"\"}}, \"type\": \"scatterpolar\"}], \"scatterpolargl\": [{\"marker\": {\"colorbar\": {\"outlinewidth\": 0, \"ticks\": \"\"}}, \"type\": \"scatterpolargl\"}], \"scatterternary\": [{\"marker\": {\"colorbar\": {\"outlinewidth\": 0, \"ticks\": \"\"}}, \"type\": \"scatterternary\"}], \"surface\": [{\"colorbar\": {\"outlinewidth\": 0, \"ticks\": \"\"}, \"colorscale\": [[0.0, \"#0d0887\"], [0.1111111111111111, \"#46039f\"], [0.2222222222222222, \"#7201a8\"], [0.3333333333333333, \"#9c179e\"], [0.4444444444444444, \"#bd3786\"], [0.5555555555555556, \"#d8576b\"], [0.6666666666666666, \"#ed7953\"], [0.7777777777777778, \"#fb9f3a\"], [0.8888888888888888, \"#fdca26\"], [1.0, \"#f0f921\"]], \"type\": \"surface\"}], \"table\": [{\"cells\": {\"fill\": {\"color\": \"#EBF0F8\"}, \"line\": {\"color\": \"white\"}}, \"header\": {\"fill\": {\"color\": \"#C8D4E3\"}, \"line\": {\"color\": \"white\"}}, \"type\": \"table\"}]}, \"layout\": {\"annotationdefaults\": {\"arrowcolor\": \"#2a3f5f\", \"arrowhead\": 0, \"arrowwidth\": 1}, \"coloraxis\": {\"colorbar\": {\"outlinewidth\": 0, \"ticks\": \"\"}}, \"colorscale\": {\"diverging\": [[0, \"#8e0152\"], [0.1, \"#c51b7d\"], [0.2, \"#de77ae\"], [0.3, \"#f1b6da\"], [0.4, \"#fde0ef\"], [0.5, \"#f7f7f7\"], [0.6, \"#e6f5d0\"], [0.7, \"#b8e186\"], [0.8, \"#7fbc41\"], [0.9, \"#4d9221\"], [1, \"#276419\"]], \"sequential\": [[0.0, \"#0d0887\"], [0.1111111111111111, \"#46039f\"], [0.2222222222222222, \"#7201a8\"], [0.3333333333333333, \"#9c179e\"], [0.4444444444444444, \"#bd3786\"], [0.5555555555555556, \"#d8576b\"], [0.6666666666666666, \"#ed7953\"], [0.7777777777777778, \"#fb9f3a\"], [0.8888888888888888, \"#fdca26\"], [1.0, \"#f0f921\"]], \"sequentialminus\": [[0.0, \"#0d0887\"], [0.1111111111111111, \"#46039f\"], [0.2222222222222222, \"#7201a8\"], [0.3333333333333333, \"#9c179e\"], [0.4444444444444444, \"#bd3786\"], [0.5555555555555556, \"#d8576b\"], [0.6666666666666666, \"#ed7953\"], [0.7777777777777778, \"#fb9f3a\"], [0.8888888888888888, \"#fdca26\"], [1.0, \"#f0f921\"]]}, \"colorway\": [\"#636efa\", \"#EF553B\", \"#00cc96\", \"#ab63fa\", \"#FFA15A\", \"#19d3f3\", \"#FF6692\", \"#B6E880\", \"#FF97FF\", \"#FECB52\"], \"font\": {\"color\": \"#2a3f5f\"}, \"geo\": {\"bgcolor\": \"white\", \"lakecolor\": \"white\", \"landcolor\": \"#E5ECF6\", \"showlakes\": true, \"showland\": true, \"subunitcolor\": \"white\"}, \"hoverlabel\": {\"align\": \"left\"}, \"hovermode\": \"closest\", \"mapbox\": {\"style\": \"light\"}, \"paper_bgcolor\": \"white\", \"plot_bgcolor\": \"#E5ECF6\", \"polar\": {\"angularaxis\": {\"gridcolor\": \"white\", \"linecolor\": \"white\", \"ticks\": \"\"}, \"bgcolor\": \"#E5ECF6\", \"radialaxis\": {\"gridcolor\": \"white\", \"linecolor\": \"white\", \"ticks\": \"\"}}, \"scene\": {\"xaxis\": {\"backgroundcolor\": \"#E5ECF6\", \"gridcolor\": \"white\", \"gridwidth\": 2, \"linecolor\": \"white\", \"showbackground\": true, \"ticks\": \"\", \"zerolinecolor\": \"white\"}, \"yaxis\": {\"backgroundcolor\": \"#E5ECF6\", \"gridcolor\": \"white\", \"gridwidth\": 2, \"linecolor\": \"white\", \"showbackground\": true, \"ticks\": \"\", \"zerolinecolor\": \"white\"}, \"zaxis\": {\"backgroundcolor\": \"#E5ECF6\", \"gridcolor\": \"white\", \"gridwidth\": 2, \"linecolor\": \"white\", \"showbackground\": true, \"ticks\": \"\", \"zerolinecolor\": \"white\"}}, \"shapedefaults\": {\"line\": {\"color\": \"#2a3f5f\"}}, \"ternary\": {\"aaxis\": {\"gridcolor\": \"white\", \"linecolor\": \"white\", \"ticks\": \"\"}, \"baxis\": {\"gridcolor\": \"white\", \"linecolor\": \"white\", \"ticks\": \"\"}, \"bgcolor\": \"#E5ECF6\", \"caxis\": {\"gridcolor\": \"white\", \"linecolor\": \"white\", \"ticks\": \"\"}}, \"title\": {\"x\": 0.05}, \"xaxis\": {\"automargin\": true, \"gridcolor\": \"white\", \"linecolor\": \"white\", \"ticks\": \"\", \"title\": {\"standoff\": 15}, \"zerolinecolor\": \"white\", \"zerolinewidth\": 2}, \"yaxis\": {\"automargin\": true, \"gridcolor\": \"white\", \"linecolor\": \"white\", \"ticks\": \"\", \"title\": {\"standoff\": 15}, \"zerolinecolor\": \"white\", \"zerolinewidth\": 2}}}, \"title\": {\"text\": \"Pre\\u00e7o m\\u00e9dio da Gasolina comum por UF\"}, \"xaxis\": {\"anchor\": \"y\", \"domain\": [0.0, 1.0], \"title\": {\"text\": \"x\"}}, \"yaxis\": {\"anchor\": \"x\", \"domain\": [0.0, 1.0], \"title\": {\"text\": \"VALOR VENDA\"}}},\n",
              "                        {\"responsive\": true}\n",
              "                    ).then(function(){\n",
              "                            \n",
              "var gd = document.getElementById('ed463cba-fb39-4b46-b123-3d03f4eec839');\n",
              "var x = new MutationObserver(function (mutations, observer) {{\n",
              "        var display = window.getComputedStyle(gd).display;\n",
              "        if (!display || display === 'none') {{\n",
              "            console.log([gd, 'removed!']);\n",
              "            Plotly.purge(gd);\n",
              "            observer.disconnect();\n",
              "        }}\n",
              "}});\n",
              "\n",
              "// Listen for the removal of the full notebook cells\n",
              "var notebookContainer = gd.closest('#notebook-container');\n",
              "if (notebookContainer) {{\n",
              "    x.observe(notebookContainer, {childList: true});\n",
              "}}\n",
              "\n",
              "// Listen for the clearing of the current output cell\n",
              "var outputEl = gd.closest('.output');\n",
              "if (outputEl) {{\n",
              "    x.observe(outputEl, {childList: true});\n",
              "}}\n",
              "\n",
              "                        })\n",
              "                };\n",
              "                \n",
              "            </script>\n",
              "        </div>\n",
              "</body>\n",
              "</html>"
            ]
          },
          "metadata": {
            "tags": []
          }
        }
      ]
    },
    {
      "cell_type": "markdown",
      "metadata": {
        "id": "I-swQZ75lhbC",
        "colab_type": "text"
      },
      "source": [
        "Podemos expandir essa análise para incluir todos os produtos considerados. Para isto, vamos usar um histograma, informando com o parâmetro `histfunc=\"avg\"` que estamos interessados no valor médio. Note que, apesar de ser um gráfico com muitas informações, é possível selecionar quais produtos observar clicando na legenda mostrada no lado direito."
      ]
    },
    {
      "cell_type": "code",
      "metadata": {
        "id": "cKAywH8eiLOJ",
        "colab_type": "code",
        "outputId": "688cc922-bc7e-45ac-be22-5628a9dcc2f3",
        "colab": {
          "base_uri": "https://localhost:8080/",
          "height": 562
        }
      },
      "source": [
        "px.histogram(preços, x=\"UF\", y=\"VALOR VENDA\", color=\"PRODUTO\", histfunc=\"avg\",\n",
        "             barmode=\"group\", title='Distribuição de preços por combustível')"
      ],
      "execution_count": 0,
      "outputs": [
        {
          "output_type": "display_data",
          "data": {
            "text/html": [
              "<html>\n",
              "<head><meta charset=\"utf-8\" /></head>\n",
              "<body>\n",
              "    <div>\n",
              "            <script src=\"https://cdnjs.cloudflare.com/ajax/libs/mathjax/2.7.5/MathJax.js?config=TeX-AMS-MML_SVG\"></script><script type=\"text/javascript\">if (window.MathJax) {MathJax.Hub.Config({SVG: {font: \"STIX-Web\"}});}</script>\n",
              "                <script type=\"text/javascript\">window.PlotlyConfig = {MathJaxConfig: 'local'};</script>\n",
              "        <script src=\"https://cdn.plot.ly/plotly-latest.min.js\"></script>    \n",
              "            <div id=\"c8c49525-0b03-4835-aca7-d37e84e3a08a\" class=\"plotly-graph-div\" style=\"height:525px; width:100%;\"></div>\n",
              "            <script type=\"text/javascript\">\n",
              "                \n",
              "                    window.PLOTLYENV=window.PLOTLYENV || {};\n",
              "                    \n",
              "                if (document.getElementById(\"c8c49525-0b03-4835-aca7-d37e84e3a08a\")) {\n",
              "                    Plotly.newPlot(\n",
              "                        'c8c49525-0b03-4835-aca7-d37e84e3a08a',\n",
              "                        [{\"alignmentgroup\": \"True\", \"bingroup\": \"x\", \"histfunc\": \"avg\", \"hoverlabel\": {\"namelength\": 0}, \"hovertemplate\": \"PRODUTO=Gasolina C Comum<br>UF=%{x}<br>avg of VALOR VENDA=%{y}\", \"legendgroup\": \"PRODUTO=Gasolina C Comum\", \"marker\": {\"color\": \"#636efa\"}, \"name\": \"PRODUTO=Gasolina C Comum\", \"offsetgroup\": \"PRODUTO=Gasolina C Comum\", \"orientation\": \"v\", \"showlegend\": true, \"type\": \"histogram\", \"x\": [\"MS\", \"MS\", \"DF\", \"MA\", \"RO\", \"RO\", \"MS\", \"MS\", \"DF\", \"PI\", \"SP\", \"GO\", \"GO\", \"PA\", \"PR\", \"MS\", \"MG\", \"PI\", \"RS\", \"MS\", \"TO\", \"RS\", \"PE\", \"MG\", \"SP\", \"RS\", \"RS\", \"SC\", \"TO\", \"CE\", \"GO\", \"GO\", \"SP\", \"SP\", \"MG\", \"MT\", \"TO\", \"MS\", \"RO\", \"MS\", \"SC\", \"PR\", \"MS\", \"RJ\", \"RO\", \"RO\", \"MS\", \"RJ\", \"SP\", \"RJ\", \"MT\", \"CE\", \"BA\", \"PA\", \"RJ\", \"PA\", \"AM\", \"RO\", \"RO\", \"MG\", \"SP\", \"RJ\", \"SC\", \"MG\", \"MS\", \"MS\", \"SP\", \"SP\", \"RS\", \"RO\", \"RJ\", \"RO\", \"PR\", \"PB\", \"PA\", \"BA\", \"RS\", \"GO\", \"RS\", \"MS\", \"MA\", \"MS\", \"MA\", \"SP\", \"PA\", \"PI\", \"SC\", \"SC\", \"MA\", \"PR\", \"RJ\", \"PR\", \"SC\", \"RS\", \"CE\", \"CE\", \"CE\", \"CE\", \"RJ\", \"GO\", \"RO\", \"DF\", \"RO\", \"GO\", \"RO\", \"RN\", \"RJ\", \"RJ\", \"TO\", \"RS\", \"TO\", \"RO\", \"RO\", \"RS\", \"RS\", \"RO\", \"BA\", \"MS\", \"SP\", \"SP\", \"CE\", \"RS\", \"PB\", \"RS\", \"MG\", \"SP\", \"SP\", \"RS\", \"MS\", \"SP\", \"ES\", \"MA\", \"MG\", \"SP\", \"RS\", \"GO\", \"SP\", \"RO\", \"SE\", \"SC\", \"SC\", \"GO\", \"MA\", \"MA\", \"MT\", \"RS\", \"GO\", \"RO\", \"PA\", \"PA\", \"BA\", \"GO\", \"BA\", \"CE\", \"PR\", \"MG\", \"RN\", \"PE\", \"RO\", \"RO\", \"PR\", \"MS\", \"MG\", \"SP\", \"RO\", \"MG\", \"BA\", \"MS\", \"MG\", \"SP\", \"SC\", \"RO\", \"MS\", \"BA\", \"MG\", \"RN\", \"PA\", \"SP\", \"RS\", \"RJ\", \"RS\", \"MG\", \"SP\", \"GO\", \"MT\", \"MG\", \"PA\", \"SP\", \"SP\", \"BA\", \"SP\", \"RO\", \"MS\", \"SC\", \"SC\", \"PE\", \"RS\", \"RS\", \"MG\", \"RO\", \"RN\", \"PA\", \"MG\", \"MG\", \"MG\", \"RS\", \"PR\", \"RS\", \"PA\", \"MG\", \"SC\", \"PR\", \"MG\", \"RN\", \"MS\", \"MS\", \"MS\", \"MT\", \"GO\", \"MG\", \"MG\", \"MG\", \"SC\", \"SC\", \"MT\", \"RS\", \"PE\", \"MS\", \"AL\", \"ES\", \"PR\", \"GO\", \"MA\", \"GO\", \"SP\", \"RS\", \"GO\", \"CE\", \"RS\", \"RO\", \"ES\", \"RJ\", \"RN\", \"GO\", \"PA\", \"RJ\", \"MG\", \"RJ\", \"RJ\", \"RJ\", \"RJ\", \"MS\", \"BA\", \"RJ\", \"RJ\", \"TO\", \"MS\", \"MS\", \"SP\", \"RJ\", \"PI\", \"MG\", \"RJ\", \"SP\", \"SP\", \"SP\", \"SP\", \"SP\", \"PE\", \"RJ\", \"SC\", \"PR\", \"SC\", \"SC\", \"SC\", \"SC\", \"SC\", \"SC\", \"RS\", \"RS\", \"RS\", \"RS\", \"RS\"], \"xaxis\": \"x\", \"y\": [4.436, 4.349, 4.289, 4.169, 4.8, 4.8, 4.49, 4.258, 4.687, 4.599, 4.2989999999999995, 4.76, 4.72, 4.59, 4.39, 4.099, 4.849, 4.399, 4.7989999999999995, 4.646, 4.99, 4.69, 4.439, 5.48, 4.099, 4.2989999999999995, 4.399, 3.799, 4.899, 4.97, 4.499, 5.08, 4.0889999999999995, 4.0489999999999995, 4.859, 4.96, 4.7989999999999995, 4.0969999999999995, 4.85, 4.199, 4.449, 4.649, 3.9989999999999997, 5.399, 4.75, 4.85, 4.769, 4.99, 4.499, 4.7989999999999995, 4.73, 4.699, 4.809, 4.599, 5.2989999999999995, 4.45, 3.98, 4.89, 4.89, 4.298, 4.099, 5.149, 3.779, 5.093999999999999, 4.95, 4.519, 4.0969999999999995, 4.379, 4.699, 4.249, 3.94, 4.49, 4.56, 4.669, 5.17, 4.49, 4.399, 4.999, 3.947, 4.099, 4.7989999999999995, 4.297, 4.659, 4.249, 4.77, 4.579, 4.388999999999999, 4.468999999999999, 4.17, 4.59, 4.899, 3.9989999999999997, 4.149, 4.7989999999999995, 4.53, 4.53, 4.53, 4.49, 5.07, 4.859, 4.49, 4.39, 4.74, 4.6, 4.74, 4.379, 4.897, 4.999, 4.399, 4.899, 4.79, 4.73, 4.73, 4.699, 4.399, 4.63, 4.45, 5.039, 4.499, 4.099, 4.87, 4.769, 4.599, 4.7589999999999995, 4.5680000000000005, 4.2989999999999995, 3.989, 4.7989999999999995, 4.2989999999999995, 4.0489999999999995, 4.69, 4.75, 4.859, 4.409, 4.77, 4.659, 4.649, 4.64, 4.399, 4.449, 4.269, 4.69, 4.73, 4.65, 4.7589999999999995, 4.599, 4.7989999999999995, 3.65, 4.749, 4.749, 4.64, 4.499, 4.14, 4.7989999999999995, 4.09, 4.99, 4.769, 4.374, 4.649, 4.579, 4.218999999999999, 4.09, 4.848, 4.499, 4.75, 4.879, 4.7989999999999995, 4.7, 4.999, 4.199, 4.399, 4.769, 4.396, 4.7589999999999995, 5.48, 4.33, 5.04, 3.9989999999999997, 4.7989999999999995, 5.199, 4.2989999999999995, 4.7989999999999995, 4.2989999999999995, 4.49, 4.92, 4.64, 5.02, 4.2989999999999995, 3.9989999999999997, 4.559, 4.7989999999999995, 4.81, 4.19, 4.399, 4.399, 4.269, 4.539, 4.249, 4.47, 3.8289999999999997, 4.769, 5.178999999999999, 4.338, 4.92, 4.548, 4.79, 4.52, 4.2989999999999995, 5.17, 4.598, 4.199, 3.9989999999999997, 4.548, 4.63, 4.0569999999999995, 4.0889999999999995, 4.099, 4.92, 5.15, 4.157, 4.849, 4.677, 4.399, 4.09, 4.74, 4.178999999999999, 4.349, 4.468999999999999, 3.9589999999999996, 4.114, 4.409, 4.7989999999999995, 4.099, 4.74, 4.399, 4.36, 4.595, 4.749, 4.7589999999999995, 4.479, 4.94, 4.678, 4.31, 4.859, 4.399, 4.999, 4.828, 4.899, 4.899, 4.999, 5.099, 4.399, 5.0969999999999995, 5.199, 5.199, 5.2, 4.59, 4.69, 4.249, 4.897, 4.9, 5.149, 4.859, 4.5, 4.399, 4.379, 4.279, 4.2989999999999995, 4.659, 4.999, 4.479, 4.398, 3.799, 4.359, 4.199, 4.0969999999999995, 4.58, 4.175, 4.0, 4.399, 4.599, 4.947, 4.399], \"yaxis\": \"y\"}, {\"alignmentgroup\": \"True\", \"bingroup\": \"x\", \"histfunc\": \"avg\", \"hoverlabel\": {\"namelength\": 0}, \"hovertemplate\": \"PRODUTO=Etanol<br>UF=%{x}<br>avg of VALOR VENDA=%{y}\", \"legendgroup\": \"PRODUTO=Etanol\", \"marker\": {\"color\": \"#EF553B\"}, \"name\": \"PRODUTO=Etanol\", \"offsetgroup\": \"PRODUTO=Etanol\", \"orientation\": \"v\", \"showlegend\": true, \"type\": \"histogram\", \"x\": [\"MS\", \"MS\", \"DF\", \"MS\", \"MS\", \"DF\", \"SP\", \"GO\", \"GO\", \"MS\", \"MG\", \"PI\", \"MS\", \"RS\", \"PE\", \"MG\", \"SP\", \"RS\", \"SC\", \"TO\", \"CE\", \"GO\", \"GO\", \"SP\", \"SP\", \"MG\", \"MT\", \"MS\", \"MS\", \"PR\", \"MS\", \"RJ\", \"RO\", \"RO\", \"MS\", \"RJ\", \"SP\", \"RJ\", \"MT\", \"CE\", \"BA\", \"PA\", \"RJ\", \"RO\", \"RO\", \"MG\", \"SP\", \"RJ\", \"SC\", \"MG\", \"MS\", \"MS\", \"SP\", \"SP\", \"RJ\", \"RO\", \"PR\", \"BA\", \"GO\", \"RS\", \"MS\", \"MS\", \"MA\", \"SP\", \"SC\", \"PR\", \"RJ\", \"PR\", \"CE\", \"CE\", \"CE\", \"CE\", \"RJ\", \"GO\", \"DF\", \"GO\", \"RN\", \"RJ\", \"RJ\", \"TO\", \"RS\", \"RO\", \"RO\", \"BA\", \"MS\", \"SP\", \"SP\", \"MG\", \"SP\", \"SP\", \"MS\", \"SP\", \"ES\", \"MG\", \"SP\", \"RS\", \"GO\", \"SP\", \"SE\", \"SC\", \"GO\", \"MT\", \"GO\", \"BA\", \"GO\", \"BA\", \"CE\", \"PR\", \"MG\", \"RN\", \"PE\", \"RO\", \"PR\", \"MS\", \"MG\", \"SP\", \"MG\", \"BA\", \"MS\", \"MG\", \"SP\", \"RO\", \"MS\", \"MG\", \"RN\", \"SP\", \"RS\", \"RJ\", \"RS\", \"MG\", \"SP\", \"GO\", \"MT\", \"MG\", \"SP\", \"SP\", \"SP\", \"RO\", \"MS\", \"PE\", \"RS\", \"MG\", \"RN\", \"MG\", \"MG\", \"MG\", \"PR\", \"RS\", \"MG\", \"PR\", \"MG\", \"MS\", \"MS\", \"MS\", \"MT\", \"GO\", \"MG\", \"MG\", \"MG\", \"MT\", \"PE\", \"MS\", \"AL\", \"PR\", \"GO\", \"GO\", \"SP\", \"GO\", \"CE\", \"RO\", \"ES\", \"RJ\", \"GO\", \"PA\", \"RJ\", \"MG\", \"RJ\", \"RJ\", \"RJ\", \"MS\", \"BA\", \"RJ\", \"RJ\", \"TO\", \"MS\", \"MS\", \"SP\", \"RJ\", \"MG\", \"RJ\", \"SP\", \"SP\", \"SP\", \"SP\", \"SP\", \"PE\", \"RJ\", \"SC\", \"PR\", \"SC\", \"SC\", \"SC\", \"SC\", \"RS\", \"RS\"], \"xaxis\": \"x\", \"y\": [3.4819999999999998, 3.5989999999999998, 3.49, 3.29, 3.299, 3.299, 2.8989999999999996, 3.39, 2.99, 3.299, 3.299, 3.319, 3.4560000000000004, 4.69, 3.4989999999999997, 3.48, 2.799, 3.8989999999999996, 3.299, 3.8989999999999996, 3.94, 3.259, 3.69, 2.5989999999999998, 2.799, 3.1489999999999996, 3.15, 3.2969999999999997, 2.9989999999999997, 2.99, 2.9989999999999997, 3.4989999999999997, 4.08, 4.29, 3.8989999999999996, 3.49, 3.0989999999999998, 3.9989999999999997, 2.95, 3.9989999999999997, 3.3989999999999996, 3.4989999999999997, 4.2989999999999995, 4.23, 4.23, 4.288, 2.799, 4.699, 3.0989999999999998, 3.096, 3.85, 3.679, 2.7969999999999997, 2.799, 3.97, 4.43, 3.18, 3.39, 2.9989999999999997, 3.128, 3.3989999999999996, 3.697, 3.3989999999999996, 3.0989999999999998, 3.9989999999999997, 3.23, 3.299, 2.8989999999999996, 3.69, 3.69, 3.69, 3.69, 4.17, 2.9989999999999997, 3.38, 3.0, 3.5989999999999998, 3.597, 3.4989999999999997, 3.79, 3.9989999999999997, 4.37, 3.95, 3.3, 3.8689999999999998, 3.299, 2.799, 2.798, 2.9989999999999997, 2.249, 2.9989999999999997, 2.189, 3.79, 3.24, 3.159, 4.599, 2.8989999999999996, 3.2489999999999997, 3.48, 3.694, 3.09, 3.299, 2.8789999999999996, 3.59, 3.259, 3.18, 3.4989999999999997, 2.49, 3.29, 3.5989999999999998, 4.499, 3.9989999999999997, 2.699, 3.197, 2.948, 2.5989999999999998, 3.239, 3.3989999999999996, 3.6, 3.4989999999999997, 2.559, 3.9989999999999997, 3.7460000000000004, 3.48, 3.59, 2.299, 3.9989999999999997, 3.799, 3.8989999999999996, 3.15, 2.8989999999999996, 2.65, 3.06, 2.99, 2.9989999999999997, 2.349, 2.799, 4.16, 2.99, 3.199, 3.9989999999999997, 3.13, 3.5989999999999998, 2.748, 3.4589999999999996, 2.948, 2.92, 3.8989999999999996, 2.898, 2.799, 2.8680000000000003, 2.997, 3.299, 3.299, 2.97, 3.12, 2.88, 3.299, 2.998, 2.92, 3.199, 3.3989999999999996, 3.372, 3.449, 2.889, 3.34, 3.199, 3.235, 3.989, 3.5989999999999998, 3.79, 3.168, 3.9389999999999996, 3.8489999999999998, 3.9389999999999996, 3.195, 3.8989999999999996, 4.099, 4.399, 3.3289999999999997, 3.715, 4.7989999999999995, 4.649, 3.85, 3.49, 3.49, 2.9589999999999996, 3.997, 3.569, 3.3989999999999996, 2.98, 3.199, 3.0989999999999998, 3.0989999999999998, 2.5989999999999998, 3.779, 4.599, 3.929, 3.398, 3.9989999999999997, 3.799, 3.497, 3.375, 3.0, 4.149], \"yaxis\": \"y\"}, {\"alignmentgroup\": \"True\", \"bingroup\": \"x\", \"histfunc\": \"avg\", \"hoverlabel\": {\"namelength\": 0}, \"hovertemplate\": \"PRODUTO=Diesel S500<br>UF=%{x}<br>avg of VALOR VENDA=%{y}\", \"legendgroup\": \"PRODUTO=Diesel S500\", \"marker\": {\"color\": \"#00cc96\"}, \"name\": \"PRODUTO=Diesel S500\", \"offsetgroup\": \"PRODUTO=Diesel S500\", \"orientation\": \"v\", \"showlegend\": true, \"type\": \"histogram\", \"x\": [\"MS\", \"MS\", \"RO\", \"RO\", \"MS\", \"MS\", \"DF\", \"PI\", \"SP\", \"GO\", \"GO\", \"PA\", \"PR\", \"MG\", \"PI\", \"RS\", \"MS\", \"TO\", \"RS\", \"PE\", \"MG\", \"SP\", \"RS\", \"RS\", \"TO\", \"CE\", \"GO\", \"GO\", \"MG\", \"MT\", \"TO\", \"RO\", \"MS\", \"SC\", \"PR\", \"MS\", \"RJ\", \"RO\", \"RO\", \"MS\", \"SP\", \"RJ\", \"MT\", \"BA\", \"RJ\", \"PA\", \"RO\", \"RO\", \"MG\", \"SP\", \"MG\", \"MS\", \"MS\", \"SP\", \"RS\", \"RJ\", \"RO\", \"BA\", \"RS\", \"GO\", \"RS\", \"MS\", \"PA\", \"PI\", \"SC\", \"MA\", \"MS\", \"RS\", \"GO\", \"RO\", \"RO\", \"GO\", \"RO\", \"RN\", \"RS\", \"TO\", \"RO\", \"RO\", \"RS\", \"RS\", \"RO\", \"MS\", \"SP\", \"SP\", \"CE\", \"RS\", \"RS\", \"MS\", \"SP\", \"MA\", \"MG\", \"RS\", \"GO\", \"SP\", \"RO\", \"SE\", \"SC\", \"SC\", \"GO\", \"MA\", \"MT\", \"RS\", \"RO\", \"GO\", \"RO\", \"PA\", \"PA\", \"BA\", \"GO\", \"BA\", \"CE\", \"PR\", \"RN\", \"RO\", \"RO\", \"PR\", \"MG\", \"RO\", \"MG\", \"BA\", \"MS\", \"SC\", \"RO\", \"BA\", \"MG\", \"RN\", \"PA\", \"RS\", \"RJ\", \"RS\", \"MG\", \"GO\", \"MT\", \"MG\", \"PA\", \"BA\", \"SP\", \"RO\", \"MS\", \"SC\", \"RS\", \"RS\", \"RO\", \"RN\", \"PA\", \"MG\", \"RS\", \"RS\", \"PA\", \"RN\", \"MS\", \"MS\", \"MT\", \"GO\", \"MG\", \"MG\", \"SC\", \"MT\", \"RS\", \"MS\", \"PR\", \"GO\", \"GO\", \"GO\", \"CE\", \"RO\", \"ES\", \"RJ\", \"GO\", \"MG\", \"MS\", \"BA\", \"TO\", \"MS\", \"MS\", \"RJ\", \"RJ\", \"SP\", \"SP\", \"SP\", \"SC\", \"PR\", \"SC\", \"SC\", \"SC\", \"RS\", \"RS\", \"RS\", \"RS\", \"RS\"], \"xaxis\": \"x\", \"y\": [3.6439999999999997, 3.4989999999999997, 3.78, 3.81, 3.69, 3.5989999999999998, 3.799, 3.8489999999999998, 3.5989999999999998, 3.69, 3.49, 3.69, 3.47, 3.699, 3.4989999999999997, 3.4789999999999996, 3.346, 3.8, 3.49, 3.3689999999999998, 4.07, 3.5989999999999998, 3.699, 3.699, 3.639, 3.85, 3.4989999999999997, 3.99, 3.8989999999999996, 4.1, 3.449, 3.75, 3.39, 3.3989999999999996, 3.33, 3.4989999999999997, 3.75, 4.24, 3.79, 3.8689999999999998, 3.679, 3.699, 3.92, 3.699, 3.799, 3.7, 3.93, 3.93, 3.938, 3.5989999999999998, 3.79, 3.96, 3.219, 3.5989999999999998, 3.719, 3.65, 3.94, 3.55, 3.0989999999999998, 3.8489999999999998, 3.0989999999999998, 3.877, 3.74, 3.4989999999999997, 3.4989999999999997, 3.64, 3.68, 3.859, 3.8989999999999996, 3.76, 3.61, 3.69, 3.85, 3.3789999999999996, 3.5989999999999998, 3.3989999999999996, 4.01, 4.01, 3.5389999999999997, 3.3989999999999996, 3.79, 3.8989999999999996, 3.699, 3.5989999999999998, 3.699, 3.589, 3.5, 3.3989999999999996, 3.1289999999999996, 3.97, 3.8989999999999996, 3.5989999999999998, 3.5989999999999998, 3.779, 3.77, 3.6489999999999996, 3.3989999999999996, 3.509, 3.34, 3.647, 4.1, 3.199, 3.62, 3.699, 3.627, 3.7489999999999997, 3.8489999999999998, 3.79, 3.4989999999999997, 3.49, 3.9989999999999997, 3.06, 3.47, 4.059, 3.549, 3.089, 3.656, 3.87, 3.839, 3.7689999999999997, 3.95, 3.5989999999999998, 3.6289999999999996, 3.4989999999999997, 4.07, 3.38, 4.01, 3.3989999999999996, 3.589, 3.699, 3.85, 3.3989999999999996, 4.08, 3.79, 4.03, 3.58, 3.799, 3.62, 3.39, 3.3989999999999996, 3.339, 3.549, 3.609, 3.47, 4.098, 3.9189999999999996, 3.55, 3.699, 4.14, 3.57, 3.429, 3.569, 3.87, 3.99, 3.2239999999999998, 3.4389999999999996, 3.3989999999999996, 4.02, 3.449, 3.54, 3.5389999999999997, 3.699, 3.719, 3.555, 3.9589999999999996, 3.8689999999999998, 4.09, 3.2880000000000003, 3.819, 3.79, 3.638, 3.997, 3.78, 3.69, 3.69, 3.799, 3.5589999999999997, 3.41, 3.6689999999999996, 3.5989999999999998, 3.3289999999999997, 3.668, 3.699, 3.437, 3.79, 3.0, 3.759, 3.199, 3.327, 3.4], \"yaxis\": \"y\"}, {\"alignmentgroup\": \"True\", \"bingroup\": \"x\", \"histfunc\": \"avg\", \"hoverlabel\": {\"namelength\": 0}, \"hovertemplate\": \"PRODUTO=Diesel S10<br>UF=%{x}<br>avg of VALOR VENDA=%{y}\", \"legendgroup\": \"PRODUTO=Diesel S10\", \"marker\": {\"color\": \"#ab63fa\"}, \"name\": \"PRODUTO=Diesel S10\", \"offsetgroup\": \"PRODUTO=Diesel S10\", \"orientation\": \"v\", \"showlegend\": true, \"type\": \"histogram\", \"x\": [\"MS\", \"MS\", \"DF\", \"MA\", \"MS\", \"MS\", \"DF\", \"PI\", \"SP\", \"GO\", \"GO\", \"PA\", \"PR\", \"MS\", \"MG\", \"PI\", \"RS\", \"MS\", \"TO\", \"RS\", \"PE\", \"MG\", \"SP\", \"RS\", \"RS\", \"SC\", \"TO\", \"CE\", \"GO\", \"GO\", \"SP\", \"MG\", \"MT\", \"TO\", \"MS\", \"RO\", \"MS\", \"SC\", \"PR\", \"MS\", \"RJ\", \"RO\", \"RO\", \"MS\", \"RJ\", \"SP\", \"RJ\", \"MT\", \"CE\", \"BA\", \"PA\", \"RJ\", \"PA\", \"RO\", \"RO\", \"MG\", \"SP\", \"RJ\", \"SC\", \"MG\", \"MS\", \"MS\", \"SP\", \"SP\", \"RS\", \"RO\", \"RJ\", \"RO\", \"PR\", \"PA\", \"BA\", \"RS\", \"MS\", \"MA\", \"MS\", \"MA\", \"SP\", \"PA\", \"PI\", \"SC\", \"SC\", \"MA\", \"PR\", \"RJ\", \"MS\", \"PR\", \"SC\", \"RS\", \"CE\", \"CE\", \"CE\", \"CE\", \"RJ\", \"GO\", \"RO\", \"DF\", \"RO\", \"GO\", \"RO\", \"RN\", \"RJ\", \"RJ\", \"TO\", \"RS\", \"TO\", \"RO\", \"RO\", \"RS\", \"RS\", \"BA\", \"MS\", \"SP\", \"SP\", \"PB\", \"RS\", \"SP\", \"RS\", \"MS\", \"SP\", \"ES\", \"MA\", \"MG\", \"SP\", \"RS\", \"SP\", \"RO\", \"SE\", \"SC\", \"SC\", \"GO\", \"MA\", \"MT\", \"RS\", \"RO\", \"GO\", \"RO\", \"PA\", \"PA\", \"BA\", \"GO\", \"CE\", \"MG\", \"RN\", \"PE\", \"RO\", \"PR\", \"MS\", \"MG\", \"SP\", \"RO\", \"MG\", \"BA\", \"MS\", \"MG\", \"SP\", \"SC\", \"RO\", \"MS\", \"BA\", \"RN\", \"PA\", \"SP\", \"RJ\", \"RS\", \"MG\", \"SP\", \"GO\", \"MT\", \"MG\", \"PA\", \"SP\", \"BA\", \"SP\", \"RO\", \"MS\", \"SC\", \"SC\", \"PE\", \"RS\", \"RS\", \"MG\", \"RO\", \"RN\", \"PA\", \"MG\", \"MG\", \"RS\", \"PR\", \"RS\", \"PA\", \"MG\", \"SC\", \"PR\", \"MG\", \"RN\", \"MS\", \"MS\", \"MS\", \"MT\", \"GO\", \"MG\", \"MG\", \"MG\", \"SC\", \"SC\", \"MT\", \"RS\", \"PE\", \"MS\", \"AL\", \"ES\", \"PR\", \"GO\", \"MA\", \"GO\", \"SP\", \"GO\", \"CE\", \"RS\", \"RO\", \"ES\", \"RJ\", \"RN\", \"GO\", \"PA\", \"RJ\", \"MG\", \"RJ\", \"RJ\", \"MS\", \"BA\", \"RJ\", \"RJ\", \"TO\", \"MS\", \"MS\", \"SP\", \"RJ\", \"PI\", \"MG\", \"RJ\", \"SP\", \"SP\", \"SP\", \"SP\", \"PE\", \"RJ\", \"PR\", \"SC\", \"SC\", \"SC\", \"SC\", \"SC\", \"SC\", \"RS\", \"RS\", \"RS\", \"RS\", \"RS\"], \"xaxis\": \"x\", \"y\": [3.734, 3.5989999999999998, 4.05, 3.659, 3.79, 3.699, 3.8989999999999996, 3.8989999999999996, 3.699, 3.73, 3.59, 3.79, 3.57, 3.5989999999999998, 3.799, 3.529, 3.549, 3.406, 3.85, 3.54, 3.389, 4.12, 3.699, 3.799, 3.799, 3.299, 3.739, 3.89, 3.589, 4.09, 3.5989999999999998, 3.969, 4.2, 3.4989999999999997, 3.5869999999999997, 3.8, 3.49, 3.469, 3.42, 3.5989999999999998, 3.85, 4.32, 3.84, 3.969, 3.53, 3.739, 3.799, 3.99, 3.9989999999999997, 3.799, 3.5989999999999998, 3.8989999999999996, 3.75, 4.03, 4.03, 3.998, 3.699, 3.9989999999999997, 3.398, 3.85, 3.99, 3.2689999999999997, 3.397, 3.699, 3.819, 3.799, 3.75, 4.01, 3.35, 4.16, 3.59, 3.1489999999999996, 3.799, 3.8989999999999996, 3.947, 3.9989999999999997, 3.7489999999999997, 3.8, 3.5389999999999997, 3.5789999999999997, 3.8989999999999996, 3.66, 3.62, 3.489, 3.78, 3.299, 3.549, 3.9589999999999996, 3.69, 3.69, 3.67, 3.69, 3.87, 3.9989999999999997, 3.86, 4.7989999999999995, 3.69, 3.79, 3.9, 3.4789999999999996, 3.697, 3.4989999999999997, 3.35, 3.699, 3.4989999999999997, 4.09, 4.09, 3.639, 3.4989999999999997, 3.65, 3.9589999999999996, 3.799, 3.699, 3.799, 3.4989999999999997, 3.699, 3.6, 3.4989999999999997, 3.239, 3.87, 4.01, 3.969, 3.679, 3.699, 3.8489999999999998, 3.81, 3.699, 3.469, 3.5989999999999998, 3.65, 3.715, 4.15, 3.299, 3.72, 3.799, 3.661, 3.799, 3.8989999999999996, 3.97, 3.589, 4.099, 3.99, 3.59, 3.535, 3.5989999999999998, 3.139, 3.497, 3.7889999999999997, 3.4989999999999997, 3.98, 3.8989999999999996, 3.8689999999999998, 4.06, 4.0489999999999995, 3.4989999999999997, 3.699, 3.6889999999999996, 3.946, 3.5589999999999997, 3.48, 4.03, 3.1889999999999996, 3.639, 3.799, 3.89, 3.569, 3.5, 4.18, 3.81, 4.06, 3.6489999999999996, 3.68, 3.8989999999999996, 3.72, 3.49, 3.469, 3.4989999999999997, 3.5989999999999998, 3.4389999999999996, 3.5989999999999998, 3.56, 3.7089999999999996, 3.5989999999999998, 4.197, 3.9189999999999996, 3.748, 3.65, 3.39, 3.799, 4.16, 3.748, 3.299, 3.299, 3.748, 3.76, 3.497, 3.4989999999999997, 3.5989999999999998, 3.99, 4.09, 3.2889999999999997, 3.8789999999999996, 3.4989999999999997, 3.449, 3.39, 4.12, 3.549, 3.799, 3.6, 3.239, 3.263, 3.549, 3.799, 3.3989999999999996, 3.819, 3.799, 3.655, 4.0489999999999995, 3.4989999999999997, 3.9589999999999996, 4.19, 3.2880000000000003, 3.69, 3.9189999999999996, 3.929, 3.699, 3.89, 3.4989999999999997, 3.697, 3.719, 4.0969999999999995, 3.9989999999999997, 3.8989999999999996, 3.81, 3.8, 3.8, 3.699, 3.898, 3.55, 3.989, 3.659, 3.799, 3.7689999999999997, 3.699, 3.4389999999999996, 3.609, 3.8989999999999996, 3.758, 3.8489999999999998, 3.799, 3.4989999999999997, 3.537, 3.89, 3.335, 3.0, 3.859, 3.299, 3.3939999999999997, 3.4989999999999997], \"yaxis\": \"y\"}, {\"alignmentgroup\": \"True\", \"bingroup\": \"x\", \"histfunc\": \"avg\", \"hoverlabel\": {\"namelength\": 0}, \"hovertemplate\": \"PRODUTO=GNV<br>UF=%{x}<br>avg of VALOR VENDA=%{y}\", \"legendgroup\": \"PRODUTO=GNV\", \"marker\": {\"color\": \"#FFA15A\"}, \"name\": \"PRODUTO=GNV\", \"offsetgroup\": \"PRODUTO=GNV\", \"orientation\": \"v\", \"showlegend\": true, \"type\": \"histogram\", \"x\": [\"SP\", \"RS\", \"RJ\", \"RJ\", \"RJ\", \"RJ\", \"RJ\", \"RJ\", \"RJ\", \"CE\", \"RJ\", \"RJ\", \"RJ\", \"RJ\", \"SC\", \"RS\"], \"xaxis\": \"x\", \"y\": [2.9989999999999997, 3.5989999999999998, 2.799, 3.0989999999999998, 3.5989999999999998, 3.199, 2.8489999999999998, 2.588, 5.099, 4.849, 3.199, 3.097, 2.8989999999999996, 2.9989999999999997, 2.197, 2.8989999999999996], \"yaxis\": \"y\"}],\n",
              "                        {\"barmode\": \"group\", \"legend\": {\"tracegroupgap\": 0}, \"template\": {\"data\": {\"bar\": [{\"error_x\": {\"color\": \"#2a3f5f\"}, \"error_y\": {\"color\": \"#2a3f5f\"}, \"marker\": {\"line\": {\"color\": \"#E5ECF6\", \"width\": 0.5}}, \"type\": \"bar\"}], \"barpolar\": [{\"marker\": {\"line\": {\"color\": \"#E5ECF6\", \"width\": 0.5}}, \"type\": \"barpolar\"}], \"carpet\": [{\"aaxis\": {\"endlinecolor\": \"#2a3f5f\", \"gridcolor\": \"white\", \"linecolor\": \"white\", \"minorgridcolor\": \"white\", \"startlinecolor\": \"#2a3f5f\"}, \"baxis\": {\"endlinecolor\": \"#2a3f5f\", \"gridcolor\": \"white\", \"linecolor\": \"white\", \"minorgridcolor\": \"white\", \"startlinecolor\": \"#2a3f5f\"}, \"type\": \"carpet\"}], \"choropleth\": [{\"colorbar\": {\"outlinewidth\": 0, \"ticks\": \"\"}, \"type\": \"choropleth\"}], \"contour\": [{\"colorbar\": {\"outlinewidth\": 0, \"ticks\": \"\"}, \"colorscale\": [[0.0, \"#0d0887\"], [0.1111111111111111, \"#46039f\"], [0.2222222222222222, \"#7201a8\"], [0.3333333333333333, \"#9c179e\"], [0.4444444444444444, \"#bd3786\"], [0.5555555555555556, \"#d8576b\"], [0.6666666666666666, \"#ed7953\"], [0.7777777777777778, \"#fb9f3a\"], [0.8888888888888888, \"#fdca26\"], [1.0, \"#f0f921\"]], \"type\": \"contour\"}], \"contourcarpet\": [{\"colorbar\": {\"outlinewidth\": 0, \"ticks\": \"\"}, \"type\": \"contourcarpet\"}], \"heatmap\": [{\"colorbar\": {\"outlinewidth\": 0, \"ticks\": \"\"}, \"colorscale\": [[0.0, \"#0d0887\"], [0.1111111111111111, \"#46039f\"], [0.2222222222222222, \"#7201a8\"], [0.3333333333333333, \"#9c179e\"], [0.4444444444444444, \"#bd3786\"], [0.5555555555555556, \"#d8576b\"], [0.6666666666666666, \"#ed7953\"], [0.7777777777777778, \"#fb9f3a\"], [0.8888888888888888, \"#fdca26\"], [1.0, \"#f0f921\"]], \"type\": \"heatmap\"}], \"heatmapgl\": [{\"colorbar\": {\"outlinewidth\": 0, \"ticks\": \"\"}, \"colorscale\": [[0.0, \"#0d0887\"], [0.1111111111111111, \"#46039f\"], [0.2222222222222222, \"#7201a8\"], [0.3333333333333333, \"#9c179e\"], [0.4444444444444444, \"#bd3786\"], [0.5555555555555556, \"#d8576b\"], [0.6666666666666666, \"#ed7953\"], [0.7777777777777778, \"#fb9f3a\"], [0.8888888888888888, \"#fdca26\"], [1.0, \"#f0f921\"]], \"type\": \"heatmapgl\"}], \"histogram\": [{\"marker\": {\"colorbar\": {\"outlinewidth\": 0, \"ticks\": \"\"}}, \"type\": \"histogram\"}], \"histogram2d\": [{\"colorbar\": {\"outlinewidth\": 0, \"ticks\": \"\"}, \"colorscale\": [[0.0, \"#0d0887\"], [0.1111111111111111, \"#46039f\"], [0.2222222222222222, \"#7201a8\"], [0.3333333333333333, \"#9c179e\"], [0.4444444444444444, \"#bd3786\"], [0.5555555555555556, \"#d8576b\"], [0.6666666666666666, \"#ed7953\"], [0.7777777777777778, \"#fb9f3a\"], [0.8888888888888888, \"#fdca26\"], [1.0, \"#f0f921\"]], \"type\": \"histogram2d\"}], \"histogram2dcontour\": [{\"colorbar\": {\"outlinewidth\": 0, \"ticks\": \"\"}, \"colorscale\": [[0.0, \"#0d0887\"], [0.1111111111111111, \"#46039f\"], [0.2222222222222222, \"#7201a8\"], [0.3333333333333333, \"#9c179e\"], [0.4444444444444444, \"#bd3786\"], [0.5555555555555556, \"#d8576b\"], [0.6666666666666666, \"#ed7953\"], [0.7777777777777778, \"#fb9f3a\"], [0.8888888888888888, \"#fdca26\"], [1.0, \"#f0f921\"]], \"type\": \"histogram2dcontour\"}], \"mesh3d\": [{\"colorbar\": {\"outlinewidth\": 0, \"ticks\": \"\"}, \"type\": \"mesh3d\"}], \"parcoords\": [{\"line\": {\"colorbar\": {\"outlinewidth\": 0, \"ticks\": \"\"}}, \"type\": \"parcoords\"}], \"pie\": [{\"automargin\": true, \"type\": \"pie\"}], \"scatter\": [{\"marker\": {\"colorbar\": {\"outlinewidth\": 0, \"ticks\": \"\"}}, \"type\": \"scatter\"}], \"scatter3d\": [{\"line\": {\"colorbar\": {\"outlinewidth\": 0, \"ticks\": \"\"}}, \"marker\": {\"colorbar\": {\"outlinewidth\": 0, \"ticks\": \"\"}}, \"type\": \"scatter3d\"}], \"scattercarpet\": [{\"marker\": {\"colorbar\": {\"outlinewidth\": 0, \"ticks\": \"\"}}, \"type\": \"scattercarpet\"}], \"scattergeo\": [{\"marker\": {\"colorbar\": {\"outlinewidth\": 0, \"ticks\": \"\"}}, \"type\": \"scattergeo\"}], \"scattergl\": [{\"marker\": {\"colorbar\": {\"outlinewidth\": 0, \"ticks\": \"\"}}, \"type\": \"scattergl\"}], \"scattermapbox\": [{\"marker\": {\"colorbar\": {\"outlinewidth\": 0, \"ticks\": \"\"}}, \"type\": \"scattermapbox\"}], \"scatterpolar\": [{\"marker\": {\"colorbar\": {\"outlinewidth\": 0, \"ticks\": \"\"}}, \"type\": \"scatterpolar\"}], \"scatterpolargl\": [{\"marker\": {\"colorbar\": {\"outlinewidth\": 0, \"ticks\": \"\"}}, \"type\": \"scatterpolargl\"}], \"scatterternary\": [{\"marker\": {\"colorbar\": {\"outlinewidth\": 0, \"ticks\": \"\"}}, \"type\": \"scatterternary\"}], \"surface\": [{\"colorbar\": {\"outlinewidth\": 0, \"ticks\": \"\"}, \"colorscale\": [[0.0, \"#0d0887\"], [0.1111111111111111, \"#46039f\"], [0.2222222222222222, \"#7201a8\"], [0.3333333333333333, \"#9c179e\"], [0.4444444444444444, \"#bd3786\"], [0.5555555555555556, \"#d8576b\"], [0.6666666666666666, \"#ed7953\"], [0.7777777777777778, \"#fb9f3a\"], [0.8888888888888888, \"#fdca26\"], [1.0, \"#f0f921\"]], \"type\": \"surface\"}], \"table\": [{\"cells\": {\"fill\": {\"color\": \"#EBF0F8\"}, \"line\": {\"color\": \"white\"}}, \"header\": {\"fill\": {\"color\": \"#C8D4E3\"}, \"line\": {\"color\": \"white\"}}, \"type\": \"table\"}]}, \"layout\": {\"annotationdefaults\": {\"arrowcolor\": \"#2a3f5f\", \"arrowhead\": 0, \"arrowwidth\": 1}, \"coloraxis\": {\"colorbar\": {\"outlinewidth\": 0, \"ticks\": \"\"}}, \"colorscale\": {\"diverging\": [[0, \"#8e0152\"], [0.1, \"#c51b7d\"], [0.2, \"#de77ae\"], [0.3, \"#f1b6da\"], [0.4, \"#fde0ef\"], [0.5, \"#f7f7f7\"], [0.6, \"#e6f5d0\"], [0.7, \"#b8e186\"], [0.8, \"#7fbc41\"], [0.9, \"#4d9221\"], [1, \"#276419\"]], \"sequential\": [[0.0, \"#0d0887\"], [0.1111111111111111, \"#46039f\"], [0.2222222222222222, \"#7201a8\"], [0.3333333333333333, \"#9c179e\"], [0.4444444444444444, \"#bd3786\"], [0.5555555555555556, \"#d8576b\"], [0.6666666666666666, \"#ed7953\"], [0.7777777777777778, \"#fb9f3a\"], [0.8888888888888888, \"#fdca26\"], [1.0, \"#f0f921\"]], \"sequentialminus\": [[0.0, \"#0d0887\"], [0.1111111111111111, \"#46039f\"], [0.2222222222222222, \"#7201a8\"], [0.3333333333333333, \"#9c179e\"], [0.4444444444444444, \"#bd3786\"], [0.5555555555555556, \"#d8576b\"], [0.6666666666666666, \"#ed7953\"], [0.7777777777777778, \"#fb9f3a\"], [0.8888888888888888, \"#fdca26\"], [1.0, \"#f0f921\"]]}, \"colorway\": [\"#636efa\", \"#EF553B\", \"#00cc96\", \"#ab63fa\", \"#FFA15A\", \"#19d3f3\", \"#FF6692\", \"#B6E880\", \"#FF97FF\", \"#FECB52\"], \"font\": {\"color\": \"#2a3f5f\"}, \"geo\": {\"bgcolor\": \"white\", \"lakecolor\": \"white\", \"landcolor\": \"#E5ECF6\", \"showlakes\": true, \"showland\": true, \"subunitcolor\": \"white\"}, \"hoverlabel\": {\"align\": \"left\"}, \"hovermode\": \"closest\", \"mapbox\": {\"style\": \"light\"}, \"paper_bgcolor\": \"white\", \"plot_bgcolor\": \"#E5ECF6\", \"polar\": {\"angularaxis\": {\"gridcolor\": \"white\", \"linecolor\": \"white\", \"ticks\": \"\"}, \"bgcolor\": \"#E5ECF6\", \"radialaxis\": {\"gridcolor\": \"white\", \"linecolor\": \"white\", \"ticks\": \"\"}}, \"scene\": {\"xaxis\": {\"backgroundcolor\": \"#E5ECF6\", \"gridcolor\": \"white\", \"gridwidth\": 2, \"linecolor\": \"white\", \"showbackground\": true, \"ticks\": \"\", \"zerolinecolor\": \"white\"}, \"yaxis\": {\"backgroundcolor\": \"#E5ECF6\", \"gridcolor\": \"white\", \"gridwidth\": 2, \"linecolor\": \"white\", \"showbackground\": true, \"ticks\": \"\", \"zerolinecolor\": \"white\"}, \"zaxis\": {\"backgroundcolor\": \"#E5ECF6\", \"gridcolor\": \"white\", \"gridwidth\": 2, \"linecolor\": \"white\", \"showbackground\": true, \"ticks\": \"\", \"zerolinecolor\": \"white\"}}, \"shapedefaults\": {\"line\": {\"color\": \"#2a3f5f\"}}, \"ternary\": {\"aaxis\": {\"gridcolor\": \"white\", \"linecolor\": \"white\", \"ticks\": \"\"}, \"baxis\": {\"gridcolor\": \"white\", \"linecolor\": \"white\", \"ticks\": \"\"}, \"bgcolor\": \"#E5ECF6\", \"caxis\": {\"gridcolor\": \"white\", \"linecolor\": \"white\", \"ticks\": \"\"}}, \"title\": {\"x\": 0.05}, \"xaxis\": {\"automargin\": true, \"gridcolor\": \"white\", \"linecolor\": \"white\", \"ticks\": \"\", \"title\": {\"standoff\": 15}, \"zerolinecolor\": \"white\", \"zerolinewidth\": 2}, \"yaxis\": {\"automargin\": true, \"gridcolor\": \"white\", \"linecolor\": \"white\", \"ticks\": \"\", \"title\": {\"standoff\": 15}, \"zerolinecolor\": \"white\", \"zerolinewidth\": 2}}}, \"title\": {\"text\": \"Distribui\\u00e7\\u00e3o de pre\\u00e7os por combust\\u00edvel\"}, \"xaxis\": {\"anchor\": \"y\", \"domain\": [0.0, 1.0], \"title\": {\"text\": \"UF\"}}, \"yaxis\": {\"anchor\": \"x\", \"domain\": [0.0, 1.0], \"title\": {\"text\": \"avg of VALOR VENDA\"}}},\n",
              "                        {\"responsive\": true}\n",
              "                    ).then(function(){\n",
              "                            \n",
              "var gd = document.getElementById('c8c49525-0b03-4835-aca7-d37e84e3a08a');\n",
              "var x = new MutationObserver(function (mutations, observer) {{\n",
              "        var display = window.getComputedStyle(gd).display;\n",
              "        if (!display || display === 'none') {{\n",
              "            console.log([gd, 'removed!']);\n",
              "            Plotly.purge(gd);\n",
              "            observer.disconnect();\n",
              "        }}\n",
              "}});\n",
              "\n",
              "// Listen for the removal of the full notebook cells\n",
              "var notebookContainer = gd.closest('#notebook-container');\n",
              "if (notebookContainer) {{\n",
              "    x.observe(notebookContainer, {childList: true});\n",
              "}}\n",
              "\n",
              "// Listen for the clearing of the current output cell\n",
              "var outputEl = gd.closest('.output');\n",
              "if (outputEl) {{\n",
              "    x.observe(outputEl, {childList: true});\n",
              "}}\n",
              "\n",
              "                        })\n",
              "                };\n",
              "                \n",
              "            </script>\n",
              "        </div>\n",
              "</body>\n",
              "</html>"
            ]
          },
          "metadata": {
            "tags": []
          }
        }
      ]
    },
    {
      "cell_type": "markdown",
      "metadata": {
        "id": "dn70Krqo0RrR",
        "colab_type": "text"
      },
      "source": [
        "## Analisando a evolução do preço dos combustíveis"
      ]
    },
    {
      "cell_type": "markdown",
      "metadata": {
        "id": "wAeZbp5M0eME",
        "colab_type": "text"
      },
      "source": [
        "Os dados disponíveis na base que baixamos são referentes a vários meses distintos. Chamamos este tipo de dado de uma **série temporal**, ou série histórica. Podemos visualizar a evolução destas séries usando gráficos de linhas. Para isso, precisamos inicialmente gerar a série para o valor médio de cada produto por mês.\n",
        "\n",
        "O primeiro passo é produzir uma característica contendo apenas os dados de ano e mês, para que tenhamos dados suficientes para uma agregação. Fazemos isso usando o método `.dt.to_period(\"M\")` que características reconhecidas como data apresentam:"
      ]
    },
    {
      "cell_type": "code",
      "metadata": {
        "colab_type": "code",
        "id": "0qLpWf1s3wkN",
        "outputId": "78dee8dc-a644-48b9-be41-b1dccaaaaf94",
        "colab": {
          "base_uri": "https://localhost:8080/",
          "height": 411
        }
      },
      "source": [
        "preços['MES'] = preços['DATA CADASTRO'].dt.to_period('M').astype(str)\n",
        "preços.head()"
      ],
      "execution_count": 0,
      "outputs": [
        {
          "output_type": "execute_result",
          "data": {
            "text/html": [
              "<div>\n",
              "<style scoped>\n",
              "    .dataframe tbody tr th:only-of-type {\n",
              "        vertical-align: middle;\n",
              "    }\n",
              "\n",
              "    .dataframe tbody tr th {\n",
              "        vertical-align: top;\n",
              "    }\n",
              "\n",
              "    .dataframe thead th {\n",
              "        text-align: right;\n",
              "    }\n",
              "</style>\n",
              "<table border=\"1\" class=\"dataframe\">\n",
              "  <thead>\n",
              "    <tr style=\"text-align: right;\">\n",
              "      <th></th>\n",
              "      <th>CNPJ</th>\n",
              "      <th>NOME</th>\n",
              "      <th>ENDEREÇO</th>\n",
              "      <th>COMPLEMENTO</th>\n",
              "      <th>BAIRRO</th>\n",
              "      <th>MUNICÍPIO</th>\n",
              "      <th>UF</th>\n",
              "      <th>PRODUTO</th>\n",
              "      <th>VALOR VENDA</th>\n",
              "      <th>DATA CADASTRO</th>\n",
              "      <th>MES</th>\n",
              "    </tr>\n",
              "  </thead>\n",
              "  <tbody>\n",
              "    <tr>\n",
              "      <th>0</th>\n",
              "      <td>62780000102</td>\n",
              "      <td>AUTO POSTO PARATI</td>\n",
              "      <td>AVENIDA FILINTO MULLER,645</td>\n",
              "      <td>NaN</td>\n",
              "      <td>CENTRO</td>\n",
              "      <td>TRES LAGOAS</td>\n",
              "      <td>MS</td>\n",
              "      <td>Gasolina C Comum</td>\n",
              "      <td>4.436</td>\n",
              "      <td>2018-06-28 17:49:00</td>\n",
              "      <td>2018-06</td>\n",
              "    </tr>\n",
              "    <tr>\n",
              "      <th>1</th>\n",
              "      <td>62780000102</td>\n",
              "      <td>AUTO POSTO PARATI</td>\n",
              "      <td>AVENIDA FILINTO MULLER,645</td>\n",
              "      <td>NaN</td>\n",
              "      <td>CENTRO</td>\n",
              "      <td>TRES LAGOAS</td>\n",
              "      <td>MS</td>\n",
              "      <td>Etanol</td>\n",
              "      <td>3.482</td>\n",
              "      <td>2018-06-28 17:49:00</td>\n",
              "      <td>2018-06</td>\n",
              "    </tr>\n",
              "    <tr>\n",
              "      <th>2</th>\n",
              "      <td>62780000102</td>\n",
              "      <td>AUTO POSTO PARATI</td>\n",
              "      <td>AVENIDA FILINTO MULLER,645</td>\n",
              "      <td>NaN</td>\n",
              "      <td>CENTRO</td>\n",
              "      <td>TRES LAGOAS</td>\n",
              "      <td>MS</td>\n",
              "      <td>Diesel S500</td>\n",
              "      <td>3.644</td>\n",
              "      <td>2018-06-28 17:49:00</td>\n",
              "      <td>2018-06</td>\n",
              "    </tr>\n",
              "    <tr>\n",
              "      <th>3</th>\n",
              "      <td>62780000102</td>\n",
              "      <td>AUTO POSTO PARATI</td>\n",
              "      <td>AVENIDA FILINTO MULLER,645</td>\n",
              "      <td>NaN</td>\n",
              "      <td>CENTRO</td>\n",
              "      <td>TRES LAGOAS</td>\n",
              "      <td>MS</td>\n",
              "      <td>Diesel S10</td>\n",
              "      <td>3.734</td>\n",
              "      <td>2018-06-28 17:49:00</td>\n",
              "      <td>2018-06</td>\n",
              "    </tr>\n",
              "    <tr>\n",
              "      <th>4</th>\n",
              "      <td>300357000195</td>\n",
              "      <td>POSTO E TRANSPORTADORA PEGORARO</td>\n",
              "      <td>RODOVIA BR 163,S/N</td>\n",
              "      <td>KM 786</td>\n",
              "      <td>ZONA RURAL</td>\n",
              "      <td>COXIM</td>\n",
              "      <td>MS</td>\n",
              "      <td>Gasolina C Comum</td>\n",
              "      <td>4.349</td>\n",
              "      <td>2018-09-12 19:06:00</td>\n",
              "      <td>2018-09</td>\n",
              "    </tr>\n",
              "  </tbody>\n",
              "</table>\n",
              "</div>"
            ],
            "text/plain": [
              "           CNPJ                             NOME  ...       DATA CADASTRO      MES\n",
              "0   62780000102                AUTO POSTO PARATI  ... 2018-06-28 17:49:00  2018-06\n",
              "1   62780000102                AUTO POSTO PARATI  ... 2018-06-28 17:49:00  2018-06\n",
              "2   62780000102                AUTO POSTO PARATI  ... 2018-06-28 17:49:00  2018-06\n",
              "3   62780000102                AUTO POSTO PARATI  ... 2018-06-28 17:49:00  2018-06\n",
              "4  300357000195  POSTO E TRANSPORTADORA PEGORARO  ... 2018-09-12 19:06:00  2018-09\n",
              "\n",
              "[5 rows x 11 columns]"
            ]
          },
          "metadata": {
            "tags": []
          },
          "execution_count": 17
        }
      ]
    },
    {
      "cell_type": "markdown",
      "metadata": {
        "id": "yeHQfnSt91XC",
        "colab_type": "text"
      },
      "source": [
        "Um detalhe técnico do código acima é que o método `.dt.to_period(\"M\")` gera um objeto do tipo `Period` atualmente incompatível com o gráfico de linhas da biblioteca Plotly. Por isso, pedimos para que o Pandas trate esta coluna como um texto usando o método `astype(str)`.\n",
        "\n",
        "Agora que temos informação para cada mês, podemos gerar uma tabela dinâmica para visualizar a média por mês e produto:"
      ]
    },
    {
      "cell_type": "code",
      "metadata": {
        "id": "wfVedrMiyy_U",
        "colab_type": "code",
        "outputId": "c945032e-e465-49e0-d67f-f940f68035e0",
        "colab": {
          "base_uri": "https://localhost:8080/",
          "height": 1000
        }
      },
      "source": [
        "preços_mês = preços.pivot_table(index=\"MES\", columns=\"PRODUTO\", values=\"VALOR VENDA\")\n",
        "preços_mês"
      ],
      "execution_count": 0,
      "outputs": [
        {
          "output_type": "execute_result",
          "data": {
            "text/html": [
              "<div>\n",
              "<style scoped>\n",
              "    .dataframe tbody tr th:only-of-type {\n",
              "        vertical-align: middle;\n",
              "    }\n",
              "\n",
              "    .dataframe tbody tr th {\n",
              "        vertical-align: top;\n",
              "    }\n",
              "\n",
              "    .dataframe thead th {\n",
              "        text-align: right;\n",
              "    }\n",
              "</style>\n",
              "<table border=\"1\" class=\"dataframe\">\n",
              "  <thead>\n",
              "    <tr style=\"text-align: right;\">\n",
              "      <th>PRODUTO</th>\n",
              "      <th>Diesel S10</th>\n",
              "      <th>Diesel S500</th>\n",
              "      <th>Etanol</th>\n",
              "      <th>GNV</th>\n",
              "      <th>Gasolina C Comum</th>\n",
              "    </tr>\n",
              "    <tr>\n",
              "      <th>MES</th>\n",
              "      <th></th>\n",
              "      <th></th>\n",
              "      <th></th>\n",
              "      <th></th>\n",
              "      <th></th>\n",
              "    </tr>\n",
              "  </thead>\n",
              "  <tbody>\n",
              "    <tr>\n",
              "      <th>2018-01</th>\n",
              "      <td>3.970000</td>\n",
              "      <td>3.890000</td>\n",
              "      <td>3.108000</td>\n",
              "      <td>NaN</td>\n",
              "      <td>5.122000</td>\n",
              "    </tr>\n",
              "    <tr>\n",
              "      <th>2018-03</th>\n",
              "      <td>3.619000</td>\n",
              "      <td>3.671500</td>\n",
              "      <td>3.599000</td>\n",
              "      <td>5.099000</td>\n",
              "      <td>4.911750</td>\n",
              "    </tr>\n",
              "    <tr>\n",
              "      <th>2018-04</th>\n",
              "      <td>3.694333</td>\n",
              "      <td>3.635333</td>\n",
              "      <td>2.973000</td>\n",
              "      <td>NaN</td>\n",
              "      <td>4.514333</td>\n",
              "    </tr>\n",
              "    <tr>\n",
              "      <th>2018-05</th>\n",
              "      <td>3.737000</td>\n",
              "      <td>3.647000</td>\n",
              "      <td>3.399000</td>\n",
              "      <td>2.899000</td>\n",
              "      <td>4.667400</td>\n",
              "    </tr>\n",
              "    <tr>\n",
              "      <th>2018-06</th>\n",
              "      <td>3.699333</td>\n",
              "      <td>3.573529</td>\n",
              "      <td>3.506625</td>\n",
              "      <td>2.197000</td>\n",
              "      <td>4.522105</td>\n",
              "    </tr>\n",
              "    <tr>\n",
              "      <th>2018-07</th>\n",
              "      <td>3.487478</td>\n",
              "      <td>3.410250</td>\n",
              "      <td>3.181100</td>\n",
              "      <td>2.743500</td>\n",
              "      <td>4.465407</td>\n",
              "    </tr>\n",
              "    <tr>\n",
              "      <th>2018-08</th>\n",
              "      <td>3.642308</td>\n",
              "      <td>3.575250</td>\n",
              "      <td>3.040000</td>\n",
              "      <td>NaN</td>\n",
              "      <td>4.547200</td>\n",
              "    </tr>\n",
              "    <tr>\n",
              "      <th>2018-09</th>\n",
              "      <td>3.591118</td>\n",
              "      <td>3.583000</td>\n",
              "      <td>3.445143</td>\n",
              "      <td>NaN</td>\n",
              "      <td>4.592706</td>\n",
              "    </tr>\n",
              "    <tr>\n",
              "      <th>2018-10</th>\n",
              "      <td>3.776667</td>\n",
              "      <td>3.876667</td>\n",
              "      <td>3.295800</td>\n",
              "      <td>NaN</td>\n",
              "      <td>5.067500</td>\n",
              "    </tr>\n",
              "    <tr>\n",
              "      <th>2018-11</th>\n",
              "      <td>3.810900</td>\n",
              "      <td>3.713000</td>\n",
              "      <td>3.371250</td>\n",
              "      <td>NaN</td>\n",
              "      <td>4.623273</td>\n",
              "    </tr>\n",
              "    <tr>\n",
              "      <th>2018-12</th>\n",
              "      <td>3.519375</td>\n",
              "      <td>3.427857</td>\n",
              "      <td>3.215625</td>\n",
              "      <td>2.799000</td>\n",
              "      <td>4.430400</td>\n",
              "    </tr>\n",
              "    <tr>\n",
              "      <th>2019-01</th>\n",
              "      <td>3.656143</td>\n",
              "      <td>3.559000</td>\n",
              "      <td>3.349000</td>\n",
              "      <td>2.849000</td>\n",
              "      <td>4.315667</td>\n",
              "    </tr>\n",
              "    <tr>\n",
              "      <th>2019-02</th>\n",
              "      <td>3.598500</td>\n",
              "      <td>3.340000</td>\n",
              "      <td>3.495000</td>\n",
              "      <td>2.999000</td>\n",
              "      <td>4.665500</td>\n",
              "    </tr>\n",
              "    <tr>\n",
              "      <th>2019-03</th>\n",
              "      <td>3.836429</td>\n",
              "      <td>3.742667</td>\n",
              "      <td>3.684200</td>\n",
              "      <td>NaN</td>\n",
              "      <td>4.614250</td>\n",
              "    </tr>\n",
              "    <tr>\n",
              "      <th>2019-04</th>\n",
              "      <td>3.878000</td>\n",
              "      <td>3.843400</td>\n",
              "      <td>3.930625</td>\n",
              "      <td>3.599000</td>\n",
              "      <td>4.749375</td>\n",
              "    </tr>\n",
              "    <tr>\n",
              "      <th>2019-05</th>\n",
              "      <td>3.824667</td>\n",
              "      <td>3.855143</td>\n",
              "      <td>3.299875</td>\n",
              "      <td>NaN</td>\n",
              "      <td>4.676071</td>\n",
              "    </tr>\n",
              "    <tr>\n",
              "      <th>2019-06</th>\n",
              "      <td>3.771750</td>\n",
              "      <td>3.823889</td>\n",
              "      <td>3.237714</td>\n",
              "      <td>NaN</td>\n",
              "      <td>4.595714</td>\n",
              "    </tr>\n",
              "    <tr>\n",
              "      <th>2019-07</th>\n",
              "      <td>3.619286</td>\n",
              "      <td>3.584500</td>\n",
              "      <td>3.552714</td>\n",
              "      <td>NaN</td>\n",
              "      <td>4.363571</td>\n",
              "    </tr>\n",
              "    <tr>\n",
              "      <th>2019-08</th>\n",
              "      <td>3.673818</td>\n",
              "      <td>3.671400</td>\n",
              "      <td>3.350444</td>\n",
              "      <td>NaN</td>\n",
              "      <td>4.453556</td>\n",
              "    </tr>\n",
              "    <tr>\n",
              "      <th>2019-09</th>\n",
              "      <td>3.783857</td>\n",
              "      <td>3.706167</td>\n",
              "      <td>3.886333</td>\n",
              "      <td>3.099000</td>\n",
              "      <td>4.446714</td>\n",
              "    </tr>\n",
              "    <tr>\n",
              "      <th>2019-10</th>\n",
              "      <td>3.776400</td>\n",
              "      <td>3.603154</td>\n",
              "      <td>3.515857</td>\n",
              "      <td>3.348000</td>\n",
              "      <td>4.488444</td>\n",
              "    </tr>\n",
              "    <tr>\n",
              "      <th>2019-11</th>\n",
              "      <td>3.727700</td>\n",
              "      <td>3.679800</td>\n",
              "      <td>3.336800</td>\n",
              "      <td>NaN</td>\n",
              "      <td>4.321889</td>\n",
              "    </tr>\n",
              "    <tr>\n",
              "      <th>2019-12</th>\n",
              "      <td>3.875833</td>\n",
              "      <td>3.902500</td>\n",
              "      <td>3.227300</td>\n",
              "      <td>4.849000</td>\n",
              "      <td>4.611100</td>\n",
              "    </tr>\n",
              "    <tr>\n",
              "      <th>2020-01</th>\n",
              "      <td>3.803000</td>\n",
              "      <td>3.729083</td>\n",
              "      <td>3.576733</td>\n",
              "      <td>NaN</td>\n",
              "      <td>4.548778</td>\n",
              "    </tr>\n",
              "    <tr>\n",
              "      <th>2020-02</th>\n",
              "      <td>3.964500</td>\n",
              "      <td>3.884500</td>\n",
              "      <td>3.351750</td>\n",
              "      <td>NaN</td>\n",
              "      <td>4.719500</td>\n",
              "    </tr>\n",
              "    <tr>\n",
              "      <th>2020-03</th>\n",
              "      <td>3.814500</td>\n",
              "      <td>3.749500</td>\n",
              "      <td>NaN</td>\n",
              "      <td>NaN</td>\n",
              "      <td>4.699000</td>\n",
              "    </tr>\n",
              "    <tr>\n",
              "      <th>2020-04</th>\n",
              "      <td>3.969000</td>\n",
              "      <td>3.869000</td>\n",
              "      <td>3.899000</td>\n",
              "      <td>NaN</td>\n",
              "      <td>4.769000</td>\n",
              "    </tr>\n",
              "    <tr>\n",
              "      <th>2020-06</th>\n",
              "      <td>3.938750</td>\n",
              "      <td>3.999500</td>\n",
              "      <td>3.522500</td>\n",
              "      <td>NaN</td>\n",
              "      <td>4.488333</td>\n",
              "    </tr>\n",
              "    <tr>\n",
              "      <th>2020-07</th>\n",
              "      <td>3.873000</td>\n",
              "      <td>3.823333</td>\n",
              "      <td>3.357000</td>\n",
              "      <td>NaN</td>\n",
              "      <td>4.701800</td>\n",
              "    </tr>\n",
              "    <tr>\n",
              "      <th>2020-08</th>\n",
              "      <td>3.572667</td>\n",
              "      <td>3.496000</td>\n",
              "      <td>NaN</td>\n",
              "      <td>NaN</td>\n",
              "      <td>4.499000</td>\n",
              "    </tr>\n",
              "    <tr>\n",
              "      <th>2020-09</th>\n",
              "      <td>3.852000</td>\n",
              "      <td>3.555000</td>\n",
              "      <td>3.367000</td>\n",
              "      <td>NaN</td>\n",
              "      <td>4.797000</td>\n",
              "    </tr>\n",
              "    <tr>\n",
              "      <th>2020-10</th>\n",
              "      <td>3.872333</td>\n",
              "      <td>3.805667</td>\n",
              "      <td>3.939000</td>\n",
              "      <td>NaN</td>\n",
              "      <td>4.785667</td>\n",
              "    </tr>\n",
              "    <tr>\n",
              "      <th>2020-11</th>\n",
              "      <td>3.464500</td>\n",
              "      <td>3.429500</td>\n",
              "      <td>3.240000</td>\n",
              "      <td>NaN</td>\n",
              "      <td>4.170000</td>\n",
              "    </tr>\n",
              "    <tr>\n",
              "      <th>2020-12</th>\n",
              "      <td>3.858111</td>\n",
              "      <td>3.834500</td>\n",
              "      <td>4.065889</td>\n",
              "      <td>3.132333</td>\n",
              "      <td>4.863667</td>\n",
              "    </tr>\n",
              "  </tbody>\n",
              "</table>\n",
              "</div>"
            ],
            "text/plain": [
              "PRODUTO  Diesel S10  Diesel S500    Etanol       GNV  Gasolina C Comum\n",
              "MES                                                                   \n",
              "2018-01    3.970000     3.890000  3.108000       NaN          5.122000\n",
              "2018-03    3.619000     3.671500  3.599000  5.099000          4.911750\n",
              "2018-04    3.694333     3.635333  2.973000       NaN          4.514333\n",
              "2018-05    3.737000     3.647000  3.399000  2.899000          4.667400\n",
              "2018-06    3.699333     3.573529  3.506625  2.197000          4.522105\n",
              "2018-07    3.487478     3.410250  3.181100  2.743500          4.465407\n",
              "2018-08    3.642308     3.575250  3.040000       NaN          4.547200\n",
              "2018-09    3.591118     3.583000  3.445143       NaN          4.592706\n",
              "2018-10    3.776667     3.876667  3.295800       NaN          5.067500\n",
              "2018-11    3.810900     3.713000  3.371250       NaN          4.623273\n",
              "2018-12    3.519375     3.427857  3.215625  2.799000          4.430400\n",
              "2019-01    3.656143     3.559000  3.349000  2.849000          4.315667\n",
              "2019-02    3.598500     3.340000  3.495000  2.999000          4.665500\n",
              "2019-03    3.836429     3.742667  3.684200       NaN          4.614250\n",
              "2019-04    3.878000     3.843400  3.930625  3.599000          4.749375\n",
              "2019-05    3.824667     3.855143  3.299875       NaN          4.676071\n",
              "2019-06    3.771750     3.823889  3.237714       NaN          4.595714\n",
              "2019-07    3.619286     3.584500  3.552714       NaN          4.363571\n",
              "2019-08    3.673818     3.671400  3.350444       NaN          4.453556\n",
              "2019-09    3.783857     3.706167  3.886333  3.099000          4.446714\n",
              "2019-10    3.776400     3.603154  3.515857  3.348000          4.488444\n",
              "2019-11    3.727700     3.679800  3.336800       NaN          4.321889\n",
              "2019-12    3.875833     3.902500  3.227300  4.849000          4.611100\n",
              "2020-01    3.803000     3.729083  3.576733       NaN          4.548778\n",
              "2020-02    3.964500     3.884500  3.351750       NaN          4.719500\n",
              "2020-03    3.814500     3.749500       NaN       NaN          4.699000\n",
              "2020-04    3.969000     3.869000  3.899000       NaN          4.769000\n",
              "2020-06    3.938750     3.999500  3.522500       NaN          4.488333\n",
              "2020-07    3.873000     3.823333  3.357000       NaN          4.701800\n",
              "2020-08    3.572667     3.496000       NaN       NaN          4.499000\n",
              "2020-09    3.852000     3.555000  3.367000       NaN          4.797000\n",
              "2020-10    3.872333     3.805667  3.939000       NaN          4.785667\n",
              "2020-11    3.464500     3.429500  3.240000       NaN          4.170000\n",
              "2020-12    3.858111     3.834500  4.065889  3.132333          4.863667"
            ]
          },
          "metadata": {
            "tags": []
          },
          "execution_count": 18
        }
      ]
    },
    {
      "cell_type": "markdown",
      "metadata": {
        "id": "qp4Fb4_TzIy-",
        "colab_type": "text"
      },
      "source": [
        "Note que o `DataFrame`a acima contém muitos valores faltantes para o GNV. Assim, vamos descartar dados referentes a este produto:"
      ]
    },
    {
      "cell_type": "code",
      "metadata": {
        "id": "CSoSsxfLzIN1",
        "colab_type": "code",
        "outputId": "04bbcac2-1545-4e0f-8327-25a9e884e6b0",
        "colab": {
          "base_uri": "https://localhost:8080/",
          "height": 235
        }
      },
      "source": [
        "preços_mês = preços_mês.drop(\"GNV\", axis=1)\n",
        "preços_mês.head()"
      ],
      "execution_count": 0,
      "outputs": [
        {
          "output_type": "execute_result",
          "data": {
            "text/html": [
              "<div>\n",
              "<style scoped>\n",
              "    .dataframe tbody tr th:only-of-type {\n",
              "        vertical-align: middle;\n",
              "    }\n",
              "\n",
              "    .dataframe tbody tr th {\n",
              "        vertical-align: top;\n",
              "    }\n",
              "\n",
              "    .dataframe thead th {\n",
              "        text-align: right;\n",
              "    }\n",
              "</style>\n",
              "<table border=\"1\" class=\"dataframe\">\n",
              "  <thead>\n",
              "    <tr style=\"text-align: right;\">\n",
              "      <th>PRODUTO</th>\n",
              "      <th>Diesel S10</th>\n",
              "      <th>Diesel S500</th>\n",
              "      <th>Etanol</th>\n",
              "      <th>Gasolina C Comum</th>\n",
              "    </tr>\n",
              "    <tr>\n",
              "      <th>MES</th>\n",
              "      <th></th>\n",
              "      <th></th>\n",
              "      <th></th>\n",
              "      <th></th>\n",
              "    </tr>\n",
              "  </thead>\n",
              "  <tbody>\n",
              "    <tr>\n",
              "      <th>2018-01</th>\n",
              "      <td>3.970000</td>\n",
              "      <td>3.890000</td>\n",
              "      <td>3.108000</td>\n",
              "      <td>5.122000</td>\n",
              "    </tr>\n",
              "    <tr>\n",
              "      <th>2018-03</th>\n",
              "      <td>3.619000</td>\n",
              "      <td>3.671500</td>\n",
              "      <td>3.599000</td>\n",
              "      <td>4.911750</td>\n",
              "    </tr>\n",
              "    <tr>\n",
              "      <th>2018-04</th>\n",
              "      <td>3.694333</td>\n",
              "      <td>3.635333</td>\n",
              "      <td>2.973000</td>\n",
              "      <td>4.514333</td>\n",
              "    </tr>\n",
              "    <tr>\n",
              "      <th>2018-05</th>\n",
              "      <td>3.737000</td>\n",
              "      <td>3.647000</td>\n",
              "      <td>3.399000</td>\n",
              "      <td>4.667400</td>\n",
              "    </tr>\n",
              "    <tr>\n",
              "      <th>2018-06</th>\n",
              "      <td>3.699333</td>\n",
              "      <td>3.573529</td>\n",
              "      <td>3.506625</td>\n",
              "      <td>4.522105</td>\n",
              "    </tr>\n",
              "  </tbody>\n",
              "</table>\n",
              "</div>"
            ],
            "text/plain": [
              "PRODUTO  Diesel S10  Diesel S500    Etanol  Gasolina C Comum\n",
              "MES                                                         \n",
              "2018-01    3.970000     3.890000  3.108000          5.122000\n",
              "2018-03    3.619000     3.671500  3.599000          4.911750\n",
              "2018-04    3.694333     3.635333  2.973000          4.514333\n",
              "2018-05    3.737000     3.647000  3.399000          4.667400\n",
              "2018-06    3.699333     3.573529  3.506625          4.522105"
            ]
          },
          "metadata": {
            "tags": []
          },
          "execution_count": 19
        }
      ]
    },
    {
      "cell_type": "markdown",
      "metadata": {
        "id": "eHL4cVQa-ndX",
        "colab_type": "text"
      },
      "source": [
        "Apesar de útil para exploração de dados, o formato da tabela dinâmica acima não é adequado para a produção de um gráfico de linhas com a biblioteca Plotly. O código abaixo converte o formato *wide* acima em um formato *longo*, usando os métodos `stack` e `reset_index`:"
      ]
    },
    {
      "cell_type": "code",
      "metadata": {
        "id": "3OX_woyI_AKb",
        "colab_type": "code",
        "outputId": "b1152b10-d6ad-426d-9dc2-d60a098a1377",
        "colab": {
          "base_uri": "https://localhost:8080/",
          "height": 204
        }
      },
      "source": [
        "preços_mês = preços_mês.stack().reset_index(name=\"VALOR VENDA\")\n",
        "preços_mês.head()"
      ],
      "execution_count": 0,
      "outputs": [
        {
          "output_type": "execute_result",
          "data": {
            "text/html": [
              "<div>\n",
              "<style scoped>\n",
              "    .dataframe tbody tr th:only-of-type {\n",
              "        vertical-align: middle;\n",
              "    }\n",
              "\n",
              "    .dataframe tbody tr th {\n",
              "        vertical-align: top;\n",
              "    }\n",
              "\n",
              "    .dataframe thead th {\n",
              "        text-align: right;\n",
              "    }\n",
              "</style>\n",
              "<table border=\"1\" class=\"dataframe\">\n",
              "  <thead>\n",
              "    <tr style=\"text-align: right;\">\n",
              "      <th></th>\n",
              "      <th>MES</th>\n",
              "      <th>PRODUTO</th>\n",
              "      <th>VALOR VENDA</th>\n",
              "    </tr>\n",
              "  </thead>\n",
              "  <tbody>\n",
              "    <tr>\n",
              "      <th>0</th>\n",
              "      <td>2018-01</td>\n",
              "      <td>Diesel S10</td>\n",
              "      <td>3.970</td>\n",
              "    </tr>\n",
              "    <tr>\n",
              "      <th>1</th>\n",
              "      <td>2018-01</td>\n",
              "      <td>Diesel S500</td>\n",
              "      <td>3.890</td>\n",
              "    </tr>\n",
              "    <tr>\n",
              "      <th>2</th>\n",
              "      <td>2018-01</td>\n",
              "      <td>Etanol</td>\n",
              "      <td>3.108</td>\n",
              "    </tr>\n",
              "    <tr>\n",
              "      <th>3</th>\n",
              "      <td>2018-01</td>\n",
              "      <td>Gasolina C Comum</td>\n",
              "      <td>5.122</td>\n",
              "    </tr>\n",
              "    <tr>\n",
              "      <th>4</th>\n",
              "      <td>2018-03</td>\n",
              "      <td>Diesel S10</td>\n",
              "      <td>3.619</td>\n",
              "    </tr>\n",
              "  </tbody>\n",
              "</table>\n",
              "</div>"
            ],
            "text/plain": [
              "       MES           PRODUTO  VALOR VENDA\n",
              "0  2018-01        Diesel S10        3.970\n",
              "1  2018-01       Diesel S500        3.890\n",
              "2  2018-01            Etanol        3.108\n",
              "3  2018-01  Gasolina C Comum        5.122\n",
              "4  2018-03        Diesel S10        3.619"
            ]
          },
          "metadata": {
            "tags": []
          },
          "execution_count": 20
        }
      ]
    },
    {
      "cell_type": "markdown",
      "metadata": {
        "id": "ieEFrZyr_Pvh",
        "colab_type": "text"
      },
      "source": [
        "Agora podemos investigar a evolução dos preços médios mensais de cada produto ao longo do período abrangido pela base de dados. Assim como no caso do histograma, podemos selecionar as séries que desejamos analisar interagindo com a legenda do gráfico:"
      ]
    },
    {
      "cell_type": "code",
      "metadata": {
        "id": "oN2t60Ks3osH",
        "colab_type": "code",
        "outputId": "7206a1a6-eb39-4c42-8630-5a4553703284",
        "colab": {
          "base_uri": "https://localhost:8080/",
          "height": 562
        }
      },
      "source": [
        "px.line(preços_mês, x=\"MES\", y=\"VALOR VENDA\", color=\"PRODUTO\",\n",
        "        title='Evolução de preços por mês de observação (média do mês)')"
      ],
      "execution_count": 0,
      "outputs": [
        {
          "output_type": "display_data",
          "data": {
            "text/html": [
              "<html>\n",
              "<head><meta charset=\"utf-8\" /></head>\n",
              "<body>\n",
              "    <div>\n",
              "            <script src=\"https://cdnjs.cloudflare.com/ajax/libs/mathjax/2.7.5/MathJax.js?config=TeX-AMS-MML_SVG\"></script><script type=\"text/javascript\">if (window.MathJax) {MathJax.Hub.Config({SVG: {font: \"STIX-Web\"}});}</script>\n",
              "                <script type=\"text/javascript\">window.PlotlyConfig = {MathJaxConfig: 'local'};</script>\n",
              "        <script src=\"https://cdn.plot.ly/plotly-latest.min.js\"></script>    \n",
              "            <div id=\"56fcdc41-4aad-42ae-899b-c8563ca48f87\" class=\"plotly-graph-div\" style=\"height:525px; width:100%;\"></div>\n",
              "            <script type=\"text/javascript\">\n",
              "                \n",
              "                    window.PLOTLYENV=window.PLOTLYENV || {};\n",
              "                    \n",
              "                if (document.getElementById(\"56fcdc41-4aad-42ae-899b-c8563ca48f87\")) {\n",
              "                    Plotly.newPlot(\n",
              "                        '56fcdc41-4aad-42ae-899b-c8563ca48f87',\n",
              "                        [{\"hoverlabel\": {\"namelength\": 0}, \"hovertemplate\": \"PRODUTO=Diesel S10<br>MES=%{x}<br>VALOR VENDA=%{y}\", \"legendgroup\": \"PRODUTO=Diesel S10\", \"line\": {\"color\": \"#636efa\", \"dash\": \"solid\"}, \"mode\": \"lines\", \"name\": \"PRODUTO=Diesel S10\", \"showlegend\": true, \"type\": \"scatter\", \"x\": [\"2018-01\", \"2018-03\", \"2018-04\", \"2018-05\", \"2018-06\", \"2018-07\", \"2018-08\", \"2018-09\", \"2018-10\", \"2018-11\", \"2018-12\", \"2019-01\", \"2019-02\", \"2019-03\", \"2019-04\", \"2019-05\", \"2019-06\", \"2019-07\", \"2019-08\", \"2019-09\", \"2019-10\", \"2019-11\", \"2019-12\", \"2020-01\", \"2020-02\", \"2020-03\", \"2020-04\", \"2020-06\", \"2020-07\", \"2020-08\", \"2020-09\", \"2020-10\", \"2020-11\", \"2020-12\"], \"xaxis\": \"x\", \"y\": [3.9699999999999998, 3.6189999999999998, 3.6943333333333332, 3.737, 3.699333333333333, 3.487478260869565, 3.6423076923076922, 3.591117647058824, 3.776666666666667, 3.8109, 3.5193749999999997, 3.656142857142857, 3.5985000000000005, 3.8364285714285713, 3.8779999999999997, 3.824666666666667, 3.7717499999999995, 3.6192857142857138, 3.673818181818181, 3.7838571428571433, 3.7763999999999998, 3.7277, 3.875833333333333, 3.803000000000001, 3.9645, 3.8145, 3.969, 3.9387499999999998, 3.8729999999999998, 3.5726666666666667, 3.8519999999999994, 3.872333333333333, 3.4645, 3.858111111111111], \"yaxis\": \"y\"}, {\"hoverlabel\": {\"namelength\": 0}, \"hovertemplate\": \"PRODUTO=Diesel S500<br>MES=%{x}<br>VALOR VENDA=%{y}\", \"legendgroup\": \"PRODUTO=Diesel S500\", \"line\": {\"color\": \"#EF553B\", \"dash\": \"solid\"}, \"mode\": \"lines\", \"name\": \"PRODUTO=Diesel S500\", \"showlegend\": true, \"type\": \"scatter\", \"x\": [\"2018-01\", \"2018-03\", \"2018-04\", \"2018-05\", \"2018-06\", \"2018-07\", \"2018-08\", \"2018-09\", \"2018-10\", \"2018-11\", \"2018-12\", \"2019-01\", \"2019-02\", \"2019-03\", \"2019-04\", \"2019-05\", \"2019-06\", \"2019-07\", \"2019-08\", \"2019-09\", \"2019-10\", \"2019-11\", \"2019-12\", \"2020-01\", \"2020-02\", \"2020-03\", \"2020-04\", \"2020-06\", \"2020-07\", \"2020-08\", \"2020-09\", \"2020-10\", \"2020-11\", \"2020-12\"], \"xaxis\": \"x\", \"y\": [3.89, 3.6715, 3.635333333333333, 3.647, 3.573529411764705, 3.4102499999999996, 3.57525, 3.583, 3.876666666666667, 3.7129999999999996, 3.427857142857143, 3.5589999999999997, 3.34, 3.7426666666666666, 3.8434, 3.855142857142858, 3.823888888888888, 3.5845000000000002, 3.6713999999999998, 3.7061666666666664, 3.6031538461538455, 3.6797999999999993, 3.9025, 3.729083333333332, 3.8845, 3.7495, 3.8689999999999998, 3.9994999999999994, 3.823333333333333, 3.496, 3.555, 3.805666666666666, 3.4295, 3.8345], \"yaxis\": \"y\"}, {\"hoverlabel\": {\"namelength\": 0}, \"hovertemplate\": \"PRODUTO=Etanol<br>MES=%{x}<br>VALOR VENDA=%{y}\", \"legendgroup\": \"PRODUTO=Etanol\", \"line\": {\"color\": \"#00cc96\", \"dash\": \"solid\"}, \"mode\": \"lines\", \"name\": \"PRODUTO=Etanol\", \"showlegend\": true, \"type\": \"scatter\", \"x\": [\"2018-01\", \"2018-03\", \"2018-04\", \"2018-05\", \"2018-06\", \"2018-07\", \"2018-08\", \"2018-09\", \"2018-10\", \"2018-11\", \"2018-12\", \"2019-01\", \"2019-02\", \"2019-03\", \"2019-04\", \"2019-05\", \"2019-06\", \"2019-07\", \"2019-08\", \"2019-09\", \"2019-10\", \"2019-11\", \"2019-12\", \"2020-01\", \"2020-02\", \"2020-04\", \"2020-06\", \"2020-07\", \"2020-09\", \"2020-10\", \"2020-11\", \"2020-12\"], \"xaxis\": \"x\", \"y\": [3.108, 3.5989999999999998, 2.973, 3.3989999999999996, 3.5066249999999997, 3.1811, 3.0399999999999996, 3.4451428571428573, 3.2958000000000007, 3.37125, 3.2156249999999997, 3.3489999999999998, 3.495, 3.6841999999999993, 3.930625, 3.299875, 3.237714285714286, 3.5527142857142855, 3.350444444444444, 3.886333333333333, 3.5158571428571426, 3.3368, 3.2272999999999996, 3.576733333333333, 3.35175, 3.8989999999999996, 3.5225, 3.3569999999999998, 3.367, 3.9389999999999996, 3.24, 4.065888888888889], \"yaxis\": \"y\"}, {\"hoverlabel\": {\"namelength\": 0}, \"hovertemplate\": \"PRODUTO=Gasolina C Comum<br>MES=%{x}<br>VALOR VENDA=%{y}\", \"legendgroup\": \"PRODUTO=Gasolina C Comum\", \"line\": {\"color\": \"#ab63fa\", \"dash\": \"solid\"}, \"mode\": \"lines\", \"name\": \"PRODUTO=Gasolina C Comum\", \"showlegend\": true, \"type\": \"scatter\", \"x\": [\"2018-01\", \"2018-03\", \"2018-04\", \"2018-05\", \"2018-06\", \"2018-07\", \"2018-08\", \"2018-09\", \"2018-10\", \"2018-11\", \"2018-12\", \"2019-01\", \"2019-02\", \"2019-03\", \"2019-04\", \"2019-05\", \"2019-06\", \"2019-07\", \"2019-08\", \"2019-09\", \"2019-10\", \"2019-11\", \"2019-12\", \"2020-01\", \"2020-02\", \"2020-03\", \"2020-04\", \"2020-06\", \"2020-07\", \"2020-08\", \"2020-09\", \"2020-10\", \"2020-11\", \"2020-12\"], \"xaxis\": \"x\", \"y\": [5.122, 4.91175, 4.514333333333333, 4.667400000000001, 4.522105263157894, 4.465407407407407, 4.547200000000001, 4.592705882352941, 5.0675, 4.623272727272727, 4.430399999999999, 4.315666666666667, 4.665500000000001, 4.61425, 4.749375000000001, 4.6760714285714275, 4.595714285714286, 4.363571428571428, 4.453555555555557, 4.446714285714286, 4.488444444444445, 4.321888888888889, 4.6111, 4.548777777777778, 4.7195, 4.699, 4.769, 4.488333333333333, 4.7018, 4.499, 4.797, 4.785666666666667, 4.17, 4.863666666666666], \"yaxis\": \"y\"}],\n",
              "                        {\"legend\": {\"tracegroupgap\": 0}, \"template\": {\"data\": {\"bar\": [{\"error_x\": {\"color\": \"#2a3f5f\"}, \"error_y\": {\"color\": \"#2a3f5f\"}, \"marker\": {\"line\": {\"color\": \"#E5ECF6\", \"width\": 0.5}}, \"type\": \"bar\"}], \"barpolar\": [{\"marker\": {\"line\": {\"color\": \"#E5ECF6\", \"width\": 0.5}}, \"type\": \"barpolar\"}], \"carpet\": [{\"aaxis\": {\"endlinecolor\": \"#2a3f5f\", \"gridcolor\": \"white\", \"linecolor\": \"white\", \"minorgridcolor\": \"white\", \"startlinecolor\": \"#2a3f5f\"}, \"baxis\": {\"endlinecolor\": \"#2a3f5f\", \"gridcolor\": \"white\", \"linecolor\": \"white\", \"minorgridcolor\": \"white\", \"startlinecolor\": \"#2a3f5f\"}, \"type\": \"carpet\"}], \"choropleth\": [{\"colorbar\": {\"outlinewidth\": 0, \"ticks\": \"\"}, \"type\": \"choropleth\"}], \"contour\": [{\"colorbar\": {\"outlinewidth\": 0, \"ticks\": \"\"}, \"colorscale\": [[0.0, \"#0d0887\"], [0.1111111111111111, \"#46039f\"], [0.2222222222222222, \"#7201a8\"], [0.3333333333333333, \"#9c179e\"], [0.4444444444444444, \"#bd3786\"], [0.5555555555555556, \"#d8576b\"], [0.6666666666666666, \"#ed7953\"], [0.7777777777777778, \"#fb9f3a\"], [0.8888888888888888, \"#fdca26\"], [1.0, \"#f0f921\"]], \"type\": \"contour\"}], \"contourcarpet\": [{\"colorbar\": {\"outlinewidth\": 0, \"ticks\": \"\"}, \"type\": \"contourcarpet\"}], \"heatmap\": [{\"colorbar\": {\"outlinewidth\": 0, \"ticks\": \"\"}, \"colorscale\": [[0.0, \"#0d0887\"], [0.1111111111111111, \"#46039f\"], [0.2222222222222222, \"#7201a8\"], [0.3333333333333333, \"#9c179e\"], [0.4444444444444444, \"#bd3786\"], [0.5555555555555556, \"#d8576b\"], [0.6666666666666666, \"#ed7953\"], [0.7777777777777778, \"#fb9f3a\"], [0.8888888888888888, \"#fdca26\"], [1.0, \"#f0f921\"]], \"type\": \"heatmap\"}], \"heatmapgl\": [{\"colorbar\": {\"outlinewidth\": 0, \"ticks\": \"\"}, \"colorscale\": [[0.0, \"#0d0887\"], [0.1111111111111111, \"#46039f\"], [0.2222222222222222, \"#7201a8\"], [0.3333333333333333, \"#9c179e\"], [0.4444444444444444, \"#bd3786\"], [0.5555555555555556, \"#d8576b\"], [0.6666666666666666, \"#ed7953\"], [0.7777777777777778, \"#fb9f3a\"], [0.8888888888888888, \"#fdca26\"], [1.0, \"#f0f921\"]], \"type\": \"heatmapgl\"}], \"histogram\": [{\"marker\": {\"colorbar\": {\"outlinewidth\": 0, \"ticks\": \"\"}}, \"type\": \"histogram\"}], \"histogram2d\": [{\"colorbar\": {\"outlinewidth\": 0, \"ticks\": \"\"}, \"colorscale\": [[0.0, \"#0d0887\"], [0.1111111111111111, \"#46039f\"], [0.2222222222222222, \"#7201a8\"], [0.3333333333333333, \"#9c179e\"], [0.4444444444444444, \"#bd3786\"], [0.5555555555555556, \"#d8576b\"], [0.6666666666666666, \"#ed7953\"], [0.7777777777777778, \"#fb9f3a\"], [0.8888888888888888, \"#fdca26\"], [1.0, \"#f0f921\"]], \"type\": \"histogram2d\"}], \"histogram2dcontour\": [{\"colorbar\": {\"outlinewidth\": 0, \"ticks\": \"\"}, \"colorscale\": [[0.0, \"#0d0887\"], [0.1111111111111111, \"#46039f\"], [0.2222222222222222, \"#7201a8\"], [0.3333333333333333, \"#9c179e\"], [0.4444444444444444, \"#bd3786\"], [0.5555555555555556, \"#d8576b\"], [0.6666666666666666, \"#ed7953\"], [0.7777777777777778, \"#fb9f3a\"], [0.8888888888888888, \"#fdca26\"], [1.0, \"#f0f921\"]], \"type\": \"histogram2dcontour\"}], \"mesh3d\": [{\"colorbar\": {\"outlinewidth\": 0, \"ticks\": \"\"}, \"type\": \"mesh3d\"}], \"parcoords\": [{\"line\": {\"colorbar\": {\"outlinewidth\": 0, \"ticks\": \"\"}}, \"type\": \"parcoords\"}], \"pie\": [{\"automargin\": true, \"type\": \"pie\"}], \"scatter\": [{\"marker\": {\"colorbar\": {\"outlinewidth\": 0, \"ticks\": \"\"}}, \"type\": \"scatter\"}], \"scatter3d\": [{\"line\": {\"colorbar\": {\"outlinewidth\": 0, \"ticks\": \"\"}}, \"marker\": {\"colorbar\": {\"outlinewidth\": 0, \"ticks\": \"\"}}, \"type\": \"scatter3d\"}], \"scattercarpet\": [{\"marker\": {\"colorbar\": {\"outlinewidth\": 0, \"ticks\": \"\"}}, \"type\": \"scattercarpet\"}], \"scattergeo\": [{\"marker\": {\"colorbar\": {\"outlinewidth\": 0, \"ticks\": \"\"}}, \"type\": \"scattergeo\"}], \"scattergl\": [{\"marker\": {\"colorbar\": {\"outlinewidth\": 0, \"ticks\": \"\"}}, \"type\": \"scattergl\"}], \"scattermapbox\": [{\"marker\": {\"colorbar\": {\"outlinewidth\": 0, \"ticks\": \"\"}}, \"type\": \"scattermapbox\"}], \"scatterpolar\": [{\"marker\": {\"colorbar\": {\"outlinewidth\": 0, \"ticks\": \"\"}}, \"type\": \"scatterpolar\"}], \"scatterpolargl\": [{\"marker\": {\"colorbar\": {\"outlinewidth\": 0, \"ticks\": \"\"}}, \"type\": \"scatterpolargl\"}], \"scatterternary\": [{\"marker\": {\"colorbar\": {\"outlinewidth\": 0, \"ticks\": \"\"}}, \"type\": \"scatterternary\"}], \"surface\": [{\"colorbar\": {\"outlinewidth\": 0, \"ticks\": \"\"}, \"colorscale\": [[0.0, \"#0d0887\"], [0.1111111111111111, \"#46039f\"], [0.2222222222222222, \"#7201a8\"], [0.3333333333333333, \"#9c179e\"], [0.4444444444444444, \"#bd3786\"], [0.5555555555555556, \"#d8576b\"], [0.6666666666666666, \"#ed7953\"], [0.7777777777777778, \"#fb9f3a\"], [0.8888888888888888, \"#fdca26\"], [1.0, \"#f0f921\"]], \"type\": \"surface\"}], \"table\": [{\"cells\": {\"fill\": {\"color\": \"#EBF0F8\"}, \"line\": {\"color\": \"white\"}}, \"header\": {\"fill\": {\"color\": \"#C8D4E3\"}, \"line\": {\"color\": \"white\"}}, \"type\": \"table\"}]}, \"layout\": {\"annotationdefaults\": {\"arrowcolor\": \"#2a3f5f\", \"arrowhead\": 0, \"arrowwidth\": 1}, \"coloraxis\": {\"colorbar\": {\"outlinewidth\": 0, \"ticks\": \"\"}}, \"colorscale\": {\"diverging\": [[0, \"#8e0152\"], [0.1, \"#c51b7d\"], [0.2, \"#de77ae\"], [0.3, \"#f1b6da\"], [0.4, \"#fde0ef\"], [0.5, \"#f7f7f7\"], [0.6, \"#e6f5d0\"], [0.7, \"#b8e186\"], [0.8, \"#7fbc41\"], [0.9, \"#4d9221\"], [1, \"#276419\"]], \"sequential\": [[0.0, \"#0d0887\"], [0.1111111111111111, \"#46039f\"], [0.2222222222222222, \"#7201a8\"], [0.3333333333333333, \"#9c179e\"], [0.4444444444444444, \"#bd3786\"], [0.5555555555555556, \"#d8576b\"], [0.6666666666666666, \"#ed7953\"], [0.7777777777777778, \"#fb9f3a\"], [0.8888888888888888, \"#fdca26\"], [1.0, \"#f0f921\"]], \"sequentialminus\": [[0.0, \"#0d0887\"], [0.1111111111111111, \"#46039f\"], [0.2222222222222222, \"#7201a8\"], [0.3333333333333333, \"#9c179e\"], [0.4444444444444444, \"#bd3786\"], [0.5555555555555556, \"#d8576b\"], [0.6666666666666666, \"#ed7953\"], [0.7777777777777778, \"#fb9f3a\"], [0.8888888888888888, \"#fdca26\"], [1.0, \"#f0f921\"]]}, \"colorway\": [\"#636efa\", \"#EF553B\", \"#00cc96\", \"#ab63fa\", \"#FFA15A\", \"#19d3f3\", \"#FF6692\", \"#B6E880\", \"#FF97FF\", \"#FECB52\"], \"font\": {\"color\": \"#2a3f5f\"}, \"geo\": {\"bgcolor\": \"white\", \"lakecolor\": \"white\", \"landcolor\": \"#E5ECF6\", \"showlakes\": true, \"showland\": true, \"subunitcolor\": \"white\"}, \"hoverlabel\": {\"align\": \"left\"}, \"hovermode\": \"closest\", \"mapbox\": {\"style\": \"light\"}, \"paper_bgcolor\": \"white\", \"plot_bgcolor\": \"#E5ECF6\", \"polar\": {\"angularaxis\": {\"gridcolor\": \"white\", \"linecolor\": \"white\", \"ticks\": \"\"}, \"bgcolor\": \"#E5ECF6\", \"radialaxis\": {\"gridcolor\": \"white\", \"linecolor\": \"white\", \"ticks\": \"\"}}, \"scene\": {\"xaxis\": {\"backgroundcolor\": \"#E5ECF6\", \"gridcolor\": \"white\", \"gridwidth\": 2, \"linecolor\": \"white\", \"showbackground\": true, \"ticks\": \"\", \"zerolinecolor\": \"white\"}, \"yaxis\": {\"backgroundcolor\": \"#E5ECF6\", \"gridcolor\": \"white\", \"gridwidth\": 2, \"linecolor\": \"white\", \"showbackground\": true, \"ticks\": \"\", \"zerolinecolor\": \"white\"}, \"zaxis\": {\"backgroundcolor\": \"#E5ECF6\", \"gridcolor\": \"white\", \"gridwidth\": 2, \"linecolor\": \"white\", \"showbackground\": true, \"ticks\": \"\", \"zerolinecolor\": \"white\"}}, \"shapedefaults\": {\"line\": {\"color\": \"#2a3f5f\"}}, \"ternary\": {\"aaxis\": {\"gridcolor\": \"white\", \"linecolor\": \"white\", \"ticks\": \"\"}, \"baxis\": {\"gridcolor\": \"white\", \"linecolor\": \"white\", \"ticks\": \"\"}, \"bgcolor\": \"#E5ECF6\", \"caxis\": {\"gridcolor\": \"white\", \"linecolor\": \"white\", \"ticks\": \"\"}}, \"title\": {\"x\": 0.05}, \"xaxis\": {\"automargin\": true, \"gridcolor\": \"white\", \"linecolor\": \"white\", \"ticks\": \"\", \"title\": {\"standoff\": 15}, \"zerolinecolor\": \"white\", \"zerolinewidth\": 2}, \"yaxis\": {\"automargin\": true, \"gridcolor\": \"white\", \"linecolor\": \"white\", \"ticks\": \"\", \"title\": {\"standoff\": 15}, \"zerolinecolor\": \"white\", \"zerolinewidth\": 2}}}, \"title\": {\"text\": \"Evolu\\u00e7\\u00e3o de pre\\u00e7os por m\\u00eas de observa\\u00e7\\u00e3o (m\\u00e9dia do m\\u00eas)\"}, \"xaxis\": {\"anchor\": \"y\", \"domain\": [0.0, 1.0], \"title\": {\"text\": \"MES\"}}, \"yaxis\": {\"anchor\": \"x\", \"domain\": [0.0, 1.0], \"title\": {\"text\": \"VALOR VENDA\"}}},\n",
              "                        {\"responsive\": true}\n",
              "                    ).then(function(){\n",
              "                            \n",
              "var gd = document.getElementById('56fcdc41-4aad-42ae-899b-c8563ca48f87');\n",
              "var x = new MutationObserver(function (mutations, observer) {{\n",
              "        var display = window.getComputedStyle(gd).display;\n",
              "        if (!display || display === 'none') {{\n",
              "            console.log([gd, 'removed!']);\n",
              "            Plotly.purge(gd);\n",
              "            observer.disconnect();\n",
              "        }}\n",
              "}});\n",
              "\n",
              "// Listen for the removal of the full notebook cells\n",
              "var notebookContainer = gd.closest('#notebook-container');\n",
              "if (notebookContainer) {{\n",
              "    x.observe(notebookContainer, {childList: true});\n",
              "}}\n",
              "\n",
              "// Listen for the clearing of the current output cell\n",
              "var outputEl = gd.closest('.output');\n",
              "if (outputEl) {{\n",
              "    x.observe(outputEl, {childList: true});\n",
              "}}\n",
              "\n",
              "                        })\n",
              "                };\n",
              "                \n",
              "            </script>\n",
              "        </div>\n",
              "</body>\n",
              "</html>"
            ]
          },
          "metadata": {
            "tags": []
          }
        }
      ]
    }
  ]
}