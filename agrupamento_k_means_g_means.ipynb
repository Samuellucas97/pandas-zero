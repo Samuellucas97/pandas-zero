{
  "nbformat": 4,
  "nbformat_minor": 0,
  "metadata": {
    "colab": {
      "name": "agrupamento_k-means_g-means.ipynb",
      "provenance": [],
      "collapsed_sections": [
        "u791QRXg_-0L",
        "r2r_OqPj1i5I",
        "po6f7ZXeOsur",
        "tThzUREq-QJz"
      ],
      "include_colab_link": true
    },
    "kernelspec": {
      "name": "python3",
      "display_name": "Python 3"
    }
  },
  "cells": [
    {
      "cell_type": "markdown",
      "metadata": {
        "id": "view-in-github",
        "colab_type": "text"
      },
      "source": [
        "<a href=\"https://colab.research.google.com/github/jonathanjalles/pandas-zero/blob/master/agrupamento_k_means_g_means.ipynb\" target=\"_parent\"><img src=\"https://colab.research.google.com/assets/colab-badge.svg\" alt=\"Open In Colab\"/></a>"
      ]
    },
    {
      "cell_type": "markdown",
      "metadata": {
        "id": "u791QRXg_-0L",
        "colab_type": "text"
      },
      "source": [
        "# Agrupamento baseado em centróides: k-means e g-means"
      ]
    },
    {
      "cell_type": "markdown",
      "metadata": {
        "id": "TtDW-Zcvt3cc",
        "colab_type": "text"
      },
      "source": [
        "\n",
        "\n",
        "Agrupamento ou *clustering*, no contexto de Machine Learning (ML), consiste em agrupar (em clusters) conjuntos de dados que possuem similaridade entre si. Nesse caso, a similaridade é medida com base na força do relacionamento entre dois pontos de dados. Algoritmos para clustering são usados principalmente em mineração de dados exploratória, já que permitem agrupar dados para descoberta de padrões, por exemplo.\n",
        "\n",
        "Nesse notebook serão abordadas duas ***técnicas de clustering baseadas em centróides*** (k-means e g-means). Um centróide pode ser entendido como um dado (real ou imaginário) localizado no centro do cluster, a fim de representá-lo. Nessa técnica, a similaridade é medida com base na distância entre um dado e o centróide do cluster. Na figura abaixo, temos 2 clusters e seus centróides destacados pelas setas pretas.\n",
        "\n",
        "\n",
        "![Exemplo de clustering](https://cdn.app.compendium.com/uploads/user/e7c690e8-6ff9-102a-ac6d-e4aebca50425/f0499405-1197-4b43-b7c5-40548eeb9f34/File/9b5d5bd03696c340d213ba9af955b13c/clustering_and_k_means_machine_learning.png)\n",
        "\n",
        "Fonte: [K-Means Clustering in Machine Learning, Simplified](https://blogs.oracle.com/bigdata/k-means-clustering-machine-learning)\n",
        "\n",
        "* **k-means:** De forma resumida, nesse método o próprio analista define o número de clusters (k) que serão utilizados para o agrupamento. Em seguida, são escolhidos pontos para cada centróide e cada ponto de dado tem sua distância ao centróide determinada. Com os clusters definidos são feitas iterações para calcular um novo centróide e refinar o cluster, até que não ocorra mudança no agrupamento.\n",
        "\n",
        "\n",
        "![alt text](https://sandipanweb.files.wordpress.com/2017/03/kmeans1.gif?w=676)\n",
        "\n",
        "Fonte: https://sandipanweb.wordpress.com/page/8/\n",
        "\n",
        "\n",
        "\n",
        "\n",
        "* **g-means:** Esse método tenta prever qual a melhor quantidade de clusters para agrupar os dados (ou seja, tenta encontrar k), assumindo a hipótese de que cada cluster possui uma distribuição Gaussiana. Assim, o algoritmo aumenta o valor de k até que o teste aceite a hipótese como verdadeira.\n",
        "\n"
      ]
    },
    {
      "cell_type": "markdown",
      "metadata": {
        "id": "CeL7WxnyfYtm",
        "colab_type": "text"
      },
      "source": [
        "Como exemplo, vamos clusterizar dados de passageiros do navio Titanic, nos grupos ***sobrevivente*** e ***não sobrevivente***. Esse exemplo é baseado no [post](www.datacamp.com/community/tutorials/k-means-clustering-python) de Sayak Paul, na comunidade do DataCamp. Aqui, vamos tentar prever se um passageiro sobreviveu ou não considerando três atributos:\n",
        "* Idade\n",
        "* Preço do bilhete para embarcar\n",
        "* Sexo\n",
        "\n",
        "Abaixo vamos importar os pacotes necessários para realizar a clusterização. O tratamento feito com os dados utilizando pandas não será explicado em detalhes, por não ser esse o escopo do exemplo. Nosso objetivo será obter uma função para prever se um passageiro sobreviveu ou não ao naufrágio."
      ]
    },
    {
      "cell_type": "code",
      "metadata": {
        "id": "_rT54_Nht1Bk",
        "colab_type": "code",
        "colab": {}
      },
      "source": [
        "import pandas as pd\n",
        "import numpy as np\n",
        "from sklearn.cluster import KMeans\n",
        "from sklearn.preprocessing import LabelEncoder\n",
        "from sklearn.preprocessing import OneHotEncoder\n",
        "from sklearn.preprocessing import MinMaxScaler\n",
        "import matplotlib.pyplot as plt\n",
        "from mpl_toolkits.mplot3d import Axes3D\n"
      ],
      "execution_count": 0,
      "outputs": []
    },
    {
      "cell_type": "markdown",
      "metadata": {
        "id": "r2r_OqPj1i5I",
        "colab_type": "text"
      },
      "source": [
        "# 1. Importando e tratando dados\n",
        "\n",
        "Nosso conjunto de dados está disponível [aqui](https://www.kaggle.com/c/titanic)."
      ]
    },
    {
      "cell_type": "code",
      "metadata": {
        "id": "9U79hmdzht1N",
        "colab_type": "code",
        "colab": {}
      },
      "source": [
        "dados_treino = pd.read_csv('http://s3.amazonaws.com/assets.datacamp.com/course/Kaggle/train.csv')"
      ],
      "execution_count": 0,
      "outputs": []
    },
    {
      "cell_type": "code",
      "metadata": {
        "id": "oMMWriprh_-1",
        "colab_type": "code",
        "colab": {}
      },
      "source": [
        "dados_treino.head()"
      ],
      "execution_count": 0,
      "outputs": []
    },
    {
      "cell_type": "markdown",
      "metadata": {
        "id": "YS4lJg-F1zUV",
        "colab_type": "text"
      },
      "source": [
        "Vamos obter algumas informações do conjunto de dados:"
      ]
    },
    {
      "cell_type": "code",
      "metadata": {
        "id": "AbsFTJfmiKyE",
        "colab_type": "code",
        "colab": {}
      },
      "source": [
        "dados_treino.info()"
      ],
      "execution_count": 0,
      "outputs": []
    },
    {
      "cell_type": "markdown",
      "metadata": {
        "id": "iXpldNXR2Yt9",
        "colab_type": "text"
      },
      "source": [
        "vamos selecionar somente os atributos de interesse e alterar os nomes das colunas"
      ]
    },
    {
      "cell_type": "code",
      "metadata": {
        "id": "ApvsoSP9je8V",
        "colab_type": "code",
        "colab": {}
      },
      "source": [
        "dados_treino = dados_treino[['Survived','Fare', 'Sex','Age']]\n",
        "dados_treino.columns = ['sobreviveu', 'precoBilhete', 'Sexo','Idade']\n",
        "dados_treino.head()"
      ],
      "execution_count": 0,
      "outputs": []
    },
    {
      "cell_type": "markdown",
      "metadata": {
        "id": "KUHP4Xju23w3",
        "colab_type": "text"
      },
      "source": [
        "Aqui, o valor 0 no atributo *sobreviveu* indica que o passageiro morreu no naufrágio. Vamos verificar se existem dados nulos nas colunas. O k-means não aceita valores faltando ou valores que não sejam números (trataremos isso em breve)."
      ]
    },
    {
      "cell_type": "code",
      "metadata": {
        "id": "lTBYkiOBjCZl",
        "colab_type": "code",
        "colab": {}
      },
      "source": [
        "dados_treino.isna().sum()"
      ],
      "execution_count": 0,
      "outputs": []
    },
    {
      "cell_type": "markdown",
      "metadata": {
        "id": "L84Umc7l3Qr2",
        "colab_type": "text"
      },
      "source": [
        "Temos 177 linhas que não possuem o atributo Idade. Há várias formas de abordar dados faltando. Aqui, vamos preencher esses campos com a média das idades existentes. Não vamos apagar os dados para não correr o risco de ficarmos com uma amostra pequena demais para treinar o modelo."
      ]
    },
    {
      "cell_type": "code",
      "metadata": {
        "id": "M5XU1IlcjNHF",
        "colab_type": "code",
        "colab": {}
      },
      "source": [
        "dados_treino.fillna(dados_treino.mean(), inplace=True)"
      ],
      "execution_count": 0,
      "outputs": []
    },
    {
      "cell_type": "code",
      "metadata": {
        "id": "ZAFad-Hzjbn0",
        "colab_type": "code",
        "colab": {}
      },
      "source": [
        "dados_treino.isna().sum()"
      ],
      "execution_count": 0,
      "outputs": []
    },
    {
      "cell_type": "code",
      "metadata": {
        "id": "E5zRNvE4kCEQ",
        "colab_type": "code",
        "colab": {}
      },
      "source": [
        "dados_treino.info()"
      ],
      "execution_count": 0,
      "outputs": []
    },
    {
      "cell_type": "markdown",
      "metadata": {
        "id": "P_A65IB94C01",
        "colab_type": "text"
      },
      "source": [
        "Agora temos todos as linhas do nosso conjunto de dados de treino preenchidas. Porém, o atributo *Sexo* está no formato de texto, o que não é aceito pelo algoritmo k-means. Para resolver isso, vamor fazer um feature scaling nesse atributo e aplicar o OneHotEncoding (veja esse notebook sobre transformação de dados para entender melhor)."
      ]
    },
    {
      "cell_type": "code",
      "metadata": {
        "id": "TGzvqJcekIg2",
        "colab_type": "code",
        "colab": {}
      },
      "source": [
        "labelEncoder = LabelEncoder()\n",
        "labelEncoder.fit(dados_treino['Sexo'])\n",
        "dados_treino['Sexo'] = labelEncoder.transform(dados_treino['Sexo'])\n",
        "onehot_encoder = OneHotEncoder(sparse=False, categories='auto')\n",
        "dados_sexo = np.array(dados_treino['Sexo']).reshape(len(dados_treino['Sexo']),1)\n",
        "dados_treino['Sexo'] = onehot_encoder.fit_transform(dados_sexo)"
      ],
      "execution_count": 0,
      "outputs": []
    },
    {
      "cell_type": "code",
      "metadata": {
        "id": "pt7ZbzR7k5NW",
        "colab_type": "code",
        "colab": {}
      },
      "source": [
        "dados_treino.head()"
      ],
      "execution_count": 0,
      "outputs": []
    },
    {
      "cell_type": "markdown",
      "metadata": {
        "id": "nwZD0yiPuVBX",
        "colab_type": "text"
      },
      "source": [
        "Temos agora um novo dataframe, onde na coluna *Sexo* o valor 0.0 representa masculino, e 1.0 representa feminino."
      ]
    },
    {
      "cell_type": "code",
      "metadata": {
        "id": "vAPSJh2jaB8O",
        "colab_type": "code",
        "colab": {}
      },
      "source": [
        "dados_treino.info()"
      ],
      "execution_count": 0,
      "outputs": []
    },
    {
      "cell_type": "markdown",
      "metadata": {
        "id": "uN662--WYTOW",
        "colab_type": "text"
      },
      "source": [
        "Antes de treinar o modelo, vamos plotar um gráfico de dispersão para tentar identificar possíveis clusters. Os dados serão agrupados de acordo com o atributo *sobreviveu*."
      ]
    },
    {
      "cell_type": "code",
      "metadata": {
        "id": "nb_rTsV0UyTK",
        "colab_type": "code",
        "colab": {}
      },
      "source": [
        "fig = plt.figure()\n",
        "ax = fig.add_subplot(111, projection='3d')\n",
        "x=dados_treino['precoBilhete']\n",
        "y=dados_treino['Sexo']\n",
        "z=dados_treino['Idade']\n",
        "ax.scatter(x,y,z, c=dados_treino['sobreviveu'], s=150, label='Não sobrevivente')\n",
        "ax.view_init(30, 200)\n",
        "ax.set_xlabel('preço do bilhete')\n",
        "#ax.set_ylabel('sexo')\n",
        "ax.set_zlabel('idade')\n",
        "ax.legend(dados_treino['sobreviveu'], loc='upper right')\n",
        "ax.text2D(0.05, 0.95, 'Clusters', transform=ax.transAxes)\n",
        "plt.show()"
      ],
      "execution_count": 0,
      "outputs": []
    },
    {
      "cell_type": "markdown",
      "metadata": {
        "id": "ttgvOyAQu2AS",
        "colab_type": "text"
      },
      "source": [
        "Uma vez que os pontos escuros representam não sobreviventes ao naufrágio, podemos concluir com base nos dados fornecidos que mais mulheres do que homens sobreviveram à tragédia. Como exite um atributo binário nos dados (sexo), temos uma separação clara nesse eixo."
      ]
    },
    {
      "cell_type": "markdown",
      "metadata": {
        "id": "po6f7ZXeOsur",
        "colab_type": "text"
      },
      "source": [
        "# 2. Agrupando com k-means"
      ]
    },
    {
      "cell_type": "markdown",
      "metadata": {
        "id": "jLujLKie58Kv",
        "colab_type": "text"
      },
      "source": [
        "Depois de realizar o pré processamento dos dados, vamos iniciar o treinamento do modelo. Primeiro, vamos gerar um array do numpy com os dados de treino, retirando a coluna *'Sobreviveu'*. Esse array será nosso *X*."
      ]
    },
    {
      "cell_type": "code",
      "metadata": {
        "id": "CNtmQrptk7nH",
        "colab_type": "code",
        "colab": {}
      },
      "source": [
        "X = np.array(dados_treino.drop(['sobreviveu'], 1).astype(float))"
      ],
      "execution_count": 0,
      "outputs": []
    },
    {
      "cell_type": "markdown",
      "metadata": {
        "id": "8i1C7TwS6YOY",
        "colab_type": "text"
      },
      "source": [
        "Imprimindo as primeiras 4 linhas do array:\n",
        "\n"
      ]
    },
    {
      "cell_type": "code",
      "metadata": {
        "id": "HrO3JOnPmiPn",
        "colab_type": "code",
        "colab": {}
      },
      "source": [
        "X[0:4]"
      ],
      "execution_count": 0,
      "outputs": []
    },
    {
      "cell_type": "markdown",
      "metadata": {
        "id": "B2Hj1eg-663m",
        "colab_type": "text"
      },
      "source": [
        "Agora vamos criar os clusters. Para essa aplicação, vamos separar os dados em 4 grupos (clusters). Logo, nosso k vale 4."
      ]
    },
    {
      "cell_type": "code",
      "metadata": {
        "id": "s7qpcntEmw-o",
        "colab_type": "code",
        "colab": {}
      },
      "source": [
        "kmeans = KMeans(n_clusters=4).fit(X)"
      ],
      "execution_count": 0,
      "outputs": []
    },
    {
      "cell_type": "markdown",
      "metadata": {
        "id": "-99nnGQ68toC",
        "colab_type": "text"
      },
      "source": [
        "Os clusters foram representados pelos seguintes centroides:"
      ]
    },
    {
      "cell_type": "code",
      "metadata": {
        "id": "8qE5SyA_82Yb",
        "colab_type": "code",
        "colab": {}
      },
      "source": [
        "centroides = np.array(kmeans.cluster_centers_)\n",
        "centroides"
      ],
      "execution_count": 0,
      "outputs": []
    },
    {
      "cell_type": "code",
      "metadata": {
        "id": "-1PlJKKUXoPR",
        "colab_type": "code",
        "colab": {}
      },
      "source": [
        "fig = plt.figure()\n",
        "ax = fig.add_subplot(111, projection='3d')\n",
        "ax.scatter(centroides[:,0],centroides[:,1],centroides[:,2], c='red', marker='x', s=150)\n",
        "ax.view_init(30, 200)\n",
        "ax.set_xlim(0, 600)\n",
        "ax.set_ylim(0, 1)\n",
        "ax.set_zlim(0, 80)\n",
        "ax.set_xlabel('preço do bilhete')\n",
        "ax.set_ylabel('sexo')\n",
        "ax.set_zlabel('idade')\n",
        "plt.show()"
      ],
      "execution_count": 0,
      "outputs": []
    },
    {
      "cell_type": "markdown",
      "metadata": {
        "id": "xghNOTO_fiDg",
        "colab_type": "text"
      },
      "source": [
        "Se utilizarmos o modelo para clusterizar os dados, obteremos os seguintes grupos (as cores representam os clusters gerados pelo k-means):"
      ]
    },
    {
      "cell_type": "code",
      "metadata": {
        "id": "FzJsZo_2_hVl",
        "colab_type": "code",
        "colab": {}
      },
      "source": [
        "fig = plt.figure()\n",
        "ax = fig.add_subplot(111, projection='3d')\n",
        "\n",
        "x=dados_treino['precoBilhete']\n",
        "y=dados_treino['Sexo']\n",
        "z=dados_treino['Idade']\n",
        "ax.scatter(x,y,z, marker='o', c=kmeans.labels_, s=150)\n",
        "ax.view_init(30, 200)\n",
        "ax.set_xlim(0, 600)\n",
        "ax.set_ylim(0, 1)\n",
        "ax.set_zlim(0, 80)\n",
        "ax.set_xlabel('preço do bilhete')\n",
        "ax.set_ylabel('sexo')\n",
        "ax.set_zlabel('idade')\n",
        "\n",
        "plt.show()"
      ],
      "execution_count": 0,
      "outputs": []
    },
    {
      "cell_type": "markdown",
      "metadata": {
        "id": "w8CmTInJDko-",
        "colab_type": "text"
      },
      "source": [
        "Aqui, temos uma divisão clara dos clusters em relação ao eixo \"preço do bilhete\". Isso ocorre por que a dimensão dos dados nesse eixo está numa ordem muito maior que os demais eixos. Para resolver esse problema, precisamos fazer uma nova transformação nos dados."
      ]
    },
    {
      "cell_type": "markdown",
      "metadata": {
        "id": "zVe-xCOyMbsn",
        "colab_type": "text"
      },
      "source": [
        "Para deixar os dados dentro da mesma escala de valores (nesse caso, entre 0 e 1), vamos aplicar o ***MinMaxScaler()*** nos dados."
      ]
    },
    {
      "cell_type": "code",
      "metadata": {
        "id": "cUemQfJe7uxc",
        "colab_type": "code",
        "colab": {}
      },
      "source": [
        "scaler = MinMaxScaler()\n",
        "x_com_scaling = scaler.fit_transform(X)\n",
        "x_com_scaling"
      ],
      "execution_count": 0,
      "outputs": []
    },
    {
      "cell_type": "markdown",
      "metadata": {
        "id": "fjwZ8_a2NalB",
        "colab_type": "text"
      },
      "source": [
        "Agora vamos criar novamente os clusters, dessa vez com o nome ***kmeans_scaled***."
      ]
    },
    {
      "cell_type": "code",
      "metadata": {
        "id": "jRq--ylK9_uV",
        "colab_type": "code",
        "colab": {}
      },
      "source": [
        "kmeans_scaled = KMeans(n_clusters=4).fit(x_com_scaling)"
      ],
      "execution_count": 0,
      "outputs": []
    },
    {
      "cell_type": "markdown",
      "metadata": {
        "id": "wYs2OL-ZQ5J-",
        "colab_type": "text"
      },
      "source": [
        "Os novos centróides são:"
      ]
    },
    {
      "cell_type": "code",
      "metadata": {
        "id": "K2rAPhBORBYX",
        "colab_type": "code",
        "colab": {}
      },
      "source": [
        "centroides_scaled = kmeans_scaled.cluster_centers_\n",
        "centroides_scaled"
      ],
      "execution_count": 0,
      "outputs": []
    },
    {
      "cell_type": "markdown",
      "metadata": {
        "id": "I1DTTTpvyIUt",
        "colab_type": "text"
      },
      "source": [
        "Abaixo vamos plotar os novos clusters, para o novo array de dados, *x_com_scaling* (em cada eixo, o valor 1 representa o máximo do atributo nos dados originais, e o valor 0, o mínimo):"
      ]
    },
    {
      "cell_type": "code",
      "metadata": {
        "id": "VQ8mqZ6Sf2En",
        "colab_type": "code",
        "colab": {}
      },
      "source": [
        "fig = plt.figure()\n",
        "ax = fig.add_subplot(111, projection='3d')\n",
        "x=x_com_scaling[:,0]\n",
        "y=x_com_scaling[:,1]\n",
        "z=x_com_scaling[:,2]\n",
        "ax.scatter(x,y,z, marker='o', c=kmeans_scaled.labels_, s=150)\n",
        "ax.set_xlabel('preço do bilhete')\n",
        "ax.set_ylabel('sexo')\n",
        "ax.set_zlabel('idade')\n",
        "ax.scatter(centroides_scaled[:,0], centroides_scaled[:,1], centroides_scaled[:,2], c='red', marker='x', s=300)\n",
        "ax.view_init(30, 200)\n",
        "plt.show()"
      ],
      "execution_count": 0,
      "outputs": []
    },
    {
      "cell_type": "markdown",
      "metadata": {
        "id": "0eOD5Fud9sWd",
        "colab_type": "text"
      },
      "source": [
        "# 3. Agrupando com g-means"
      ]
    },
    {
      "cell_type": "markdown",
      "metadata": {
        "id": "xvQD464b_6A7",
        "colab_type": "text"
      },
      "source": [
        "Conforme citado no inicio desse notebook, nem sempre será trivial determinar o número correto de clusters k para agrupar um conjunto de dados. O algoritmo gmeans foi criado a fim de permitir a determinação adequada do valor de k, baseando-se num teste estatístico de hipótese, de que cada subconjunto (cluster) segue uma distribuição normal (Gaussiana). Por isso o método incrementa k em cada iteração a fim de determinar seu valor ótimo. Para maiores detalhes sobre o funcionamento do método, basta checar esse [artigo](papers.nips.cc/paper/2526-learning-the-k-in-k-means.pdf)."
      ]
    },
    {
      "cell_type": "markdown",
      "metadata": {
        "id": "QqP2AmuABLqR",
        "colab_type": "text"
      },
      "source": [
        "Para implementar o modelo, vamos utilizar a biblioteca [pyclustering](https://pyclustering.github.io/docs/0.9.0/html/index.html).\n",
        "\n",
        "primeiro, vamos instalar o pacote:"
      ]
    },
    {
      "cell_type": "code",
      "metadata": {
        "id": "1inDrtlN2jhn",
        "colab_type": "code",
        "colab": {}
      },
      "source": [
        "!pip install pyclustering"
      ],
      "execution_count": 0,
      "outputs": []
    },
    {
      "cell_type": "markdown",
      "metadata": {
        "id": "LToG8W44Bh1t",
        "colab_type": "text"
      },
      "source": [
        "vamos importar as funções **cluster_visualizer()** e **gmeans()**.\n",
        "Para maiores detalhes sobre o gmeans com pyclustering, veja a [documentação](https://codedocs.xyz/annoviko/pyclustering/gmeans_8py_source.html)."
      ]
    },
    {
      "cell_type": "code",
      "metadata": {
        "id": "7bGyedcX0jpv",
        "colab_type": "code",
        "colab": {}
      },
      "source": [
        "from pyclustering.cluster import cluster_visualizer\n",
        "from pyclustering.cluster.gmeans import gmeans"
      ],
      "execution_count": 0,
      "outputs": []
    },
    {
      "cell_type": "markdown",
      "metadata": {
        "id": "LFI7NUvwByZu",
        "colab_type": "text"
      },
      "source": [
        "a variável modelo_gmeans terá o modelo treinado com os dados preprocessados e armazenados no array numpy **x_com_scaling**, com 10 iterações:"
      ]
    },
    {
      "cell_type": "code",
      "metadata": {
        "id": "6BNbuobq2qLB",
        "colab_type": "code",
        "colab": {}
      },
      "source": [
        "modelo_gmeans = gmeans(x_com_scaling).process()"
      ],
      "execution_count": 0,
      "outputs": []
    },
    {
      "cell_type": "code",
      "metadata": {
        "id": "9amXSXD8CpHV",
        "colab_type": "code",
        "colab": {}
      },
      "source": [
        "modelo_gmeans"
      ],
      "execution_count": 0,
      "outputs": []
    },
    {
      "cell_type": "code",
      "metadata": {
        "id": "EbZJxzVE21Mz",
        "colab_type": "code",
        "colab": {}
      },
      "source": [
        "clusters = modelo_gmeans.get_clusters()\n",
        "clusters"
      ],
      "execution_count": 0,
      "outputs": []
    },
    {
      "cell_type": "code",
      "metadata": {
        "id": "mxNTHRm826rj",
        "colab_type": "code",
        "colab": {}
      },
      "source": [
        "centroides_gmeans = gmeans_algo.get_centers()"
      ],
      "execution_count": 0,
      "outputs": []
    },
    {
      "cell_type": "markdown",
      "metadata": {
        "id": "MEIrdc6LEk3q",
        "colab_type": "text"
      },
      "source": [
        "Vejamos a quantidade de centróides determinados pelo gmeans:\n"
      ]
    },
    {
      "cell_type": "code",
      "metadata": {
        "id": "U-eTSnJc3R05",
        "colab_type": "code",
        "colab": {}
      },
      "source": [
        "len(centroides_gmeans)"
      ],
      "execution_count": 0,
      "outputs": []
    },
    {
      "cell_type": "markdown",
      "metadata": {
        "id": "DhBR7QW2Eesk",
        "colab_type": "text"
      },
      "source": [
        "Abaixo vamos visualizar os clusters criados pelo gmeans"
      ]
    },
    {
      "cell_type": "code",
      "metadata": {
        "id": "NeG5cEFI3g5N",
        "colab_type": "code",
        "colab": {}
      },
      "source": [
        "grafico = cluster_visualizer()\n",
        "grafico.append_clusters(clusters, x_com_scaling)\n",
        "grafico.show(invisible_axis=False)"
      ],
      "execution_count": 0,
      "outputs": []
    }
  ]
}