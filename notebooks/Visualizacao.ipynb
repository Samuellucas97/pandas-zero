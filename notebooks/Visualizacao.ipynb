{
  "nbformat": 4,
  "nbformat_minor": 0,
  "metadata": {
    "colab": {
      "name": "Visualizacao.ipynb",
      "provenance": [],
      "collapsed_sections": []
    },
    "kernelspec": {
      "display_name": "Python 3",
      "language": "python",
      "name": "python3"
    },
    "language_info": {
      "codemirror_mode": {
        "name": "ipython",
        "version": 3
      },
      "file_extension": ".py",
      "mimetype": "text/x-python",
      "name": "python",
      "nbconvert_exporter": "python",
      "pygments_lexer": "ipython3",
      "version": "3.6.8"
    }
  },
  "cells": [
    {
      "cell_type": "markdown",
      "metadata": {
        "id": "OUWprNFrL4dp",
        "colab_type": "text"
      },
      "source": [
        "# Análise e apresentação de dados"
      ]
    },
    {
      "cell_type": "markdown",
      "metadata": {
        "id": "Y0Fgl4oFL4dy",
        "colab_type": "text"
      },
      "source": [
        "## Preparação para a análise"
      ]
    },
    {
      "cell_type": "markdown",
      "metadata": {
        "id": "IHpX-aUaL4d1",
        "colab_type": "text"
      },
      "source": [
        "Sempre que se deseja explorar e extrair informação de um conjunto de dados, é preciso entender, antes, quais tipos de informações é possível obter com os dados disponíveis. De modo geral, os dados se classificam em:\n",
        "\n",
        "**Dados Numéricos:** Também chamados de quantitativos, são conjuntos de dados que representam contagens ou medidas, por exemplo: Idade, altura, peso. Com esse tipo de dado é possível fazer análises estatísticas e determinar média, desvio padrão, etc. Esses dados se dividem ainda em dois grupos, sendo:\n",
        "\n",
        "\n",
        "*   **Discretos:** Representados por números inteiros (ex.: Idade).\n",
        "*   **Contínuos:** Podem assumir qualquer valor real (ex.: peso, altura).\n",
        "\n",
        "**Dados categóricos:** Também chamados de qualitativos, são conjuntos de dados que refletem características não numéricas, podendo ser:\n",
        "\n",
        "\n",
        "*   **Ordinais:** Podem ser ordenados de alguma forma que faça sentido (ex.: Faixa etária, estágios de uma doença, datas).\n",
        "*   **Nominais:** se definem exclusivamente por nomes, sem ordem específica (ex.: grupo sanguíneo, raça, sexo, Sim/não)."
      ]
    },
    {
      "cell_type": "markdown",
      "metadata": {
        "id": "2leZMAVKL4d8",
        "colab_type": "text"
      },
      "source": [
        "### Dados inválidos ou faltantes"
      ]
    },
    {
      "cell_type": "markdown",
      "metadata": {
        "id": "gO_qHTn0L4eB",
        "colab_type": "text"
      },
      "source": [
        "Sempre que um conjunto de dados é coletado e posto para análise, um número de atividades precisa ser feito até que de fato seja confiável extrair alguma informação relevante. Nos tópicos anteriores vimos como iniciar a exploração de dados com pandas. Porém, depois de obter nosso dataframe, precisamos checar a integridade dos nossos dados, e limpá-los antes de fazer qualquer análise. De acordo com a [IBM Data Analytics](https://www.ibm.com/cloud/blog/ibm-data-catalog-data-scientists-productivity), 80% do tempo dedicado a um conjunto de dados disponível para análise é gasto com limpeza dos dados.\n",
        "\n",
        "Uma fase importante na limpeza de dados é o tratamento de dados faltando ou inválidos (pense que, se um dado não serve para a análise, ele está faltando). Vamos utilizar uma [base dados](https://raw.githubusercontent.com/dataoptimal/posts/master/data%20cleaning%20with%20python%20and%20pandas/property%20data.csv) pequena, porém suficiente para entendermos como lidar com dados faltando.  \n",
        "\n",
        "Execute as células abaixo para importar os dados do exemplo."
      ]
    },
    {
      "cell_type": "code",
      "metadata": {
        "id": "c_y0lkgdL4eE",
        "colab_type": "code",
        "colab": {}
      },
      "source": [
        "import pandas as pd"
      ],
      "execution_count": 0,
      "outputs": []
    },
    {
      "cell_type": "code",
      "metadata": {
        "id": "rdGUX6EdL4eT",
        "colab_type": "code",
        "colab": {
          "base_uri": "https://localhost:8080/",
          "height": 328
        },
        "outputId": "92469b2e-8c33-4821-a2ba-9b31f14f3bde"
      },
      "source": [
        "dados_faltando = pd.read_csv('https://raw.githubusercontent.com/dataoptimal/posts/master/data%20cleaning%20with%20python%20and%20pandas/property%20data.csv',sep=',')\n",
        "dados_faltando"
      ],
      "execution_count": 2,
      "outputs": [
        {
          "output_type": "execute_result",
          "data": {
            "text/html": [
              "<div>\n",
              "<style scoped>\n",
              "    .dataframe tbody tr th:only-of-type {\n",
              "        vertical-align: middle;\n",
              "    }\n",
              "\n",
              "    .dataframe tbody tr th {\n",
              "        vertical-align: top;\n",
              "    }\n",
              "\n",
              "    .dataframe thead th {\n",
              "        text-align: right;\n",
              "    }\n",
              "</style>\n",
              "<table border=\"1\" class=\"dataframe\">\n",
              "  <thead>\n",
              "    <tr style=\"text-align: right;\">\n",
              "      <th></th>\n",
              "      <th>PID</th>\n",
              "      <th>ST_NUM</th>\n",
              "      <th>ST_NAME</th>\n",
              "      <th>OWN_OCCUPIED</th>\n",
              "      <th>NUM_BEDROOMS</th>\n",
              "      <th>NUM_BATH</th>\n",
              "      <th>SQ_FT</th>\n",
              "    </tr>\n",
              "  </thead>\n",
              "  <tbody>\n",
              "    <tr>\n",
              "      <th>0</th>\n",
              "      <td>100001000.0</td>\n",
              "      <td>104.0</td>\n",
              "      <td>PUTNAM</td>\n",
              "      <td>Y</td>\n",
              "      <td>3</td>\n",
              "      <td>1</td>\n",
              "      <td>1000</td>\n",
              "    </tr>\n",
              "    <tr>\n",
              "      <th>1</th>\n",
              "      <td>100002000.0</td>\n",
              "      <td>197.0</td>\n",
              "      <td>LEXINGTON</td>\n",
              "      <td>N</td>\n",
              "      <td>3</td>\n",
              "      <td>1.5</td>\n",
              "      <td>--</td>\n",
              "    </tr>\n",
              "    <tr>\n",
              "      <th>2</th>\n",
              "      <td>100003000.0</td>\n",
              "      <td>NaN</td>\n",
              "      <td>LEXINGTON</td>\n",
              "      <td>N</td>\n",
              "      <td>NaN</td>\n",
              "      <td>1</td>\n",
              "      <td>850</td>\n",
              "    </tr>\n",
              "    <tr>\n",
              "      <th>3</th>\n",
              "      <td>100004000.0</td>\n",
              "      <td>201.0</td>\n",
              "      <td>BERKELEY</td>\n",
              "      <td>12</td>\n",
              "      <td>1</td>\n",
              "      <td>NaN</td>\n",
              "      <td>700</td>\n",
              "    </tr>\n",
              "    <tr>\n",
              "      <th>4</th>\n",
              "      <td>NaN</td>\n",
              "      <td>203.0</td>\n",
              "      <td>BERKELEY</td>\n",
              "      <td>Y</td>\n",
              "      <td>3</td>\n",
              "      <td>2</td>\n",
              "      <td>1600</td>\n",
              "    </tr>\n",
              "    <tr>\n",
              "      <th>5</th>\n",
              "      <td>100006000.0</td>\n",
              "      <td>207.0</td>\n",
              "      <td>BERKELEY</td>\n",
              "      <td>Y</td>\n",
              "      <td>NaN</td>\n",
              "      <td>1</td>\n",
              "      <td>800</td>\n",
              "    </tr>\n",
              "    <tr>\n",
              "      <th>6</th>\n",
              "      <td>100007000.0</td>\n",
              "      <td>NaN</td>\n",
              "      <td>WASHINGTON</td>\n",
              "      <td>NaN</td>\n",
              "      <td>2</td>\n",
              "      <td>HURLEY</td>\n",
              "      <td>950</td>\n",
              "    </tr>\n",
              "    <tr>\n",
              "      <th>7</th>\n",
              "      <td>100008000.0</td>\n",
              "      <td>213.0</td>\n",
              "      <td>TREMONT</td>\n",
              "      <td>Y</td>\n",
              "      <td>1</td>\n",
              "      <td>1</td>\n",
              "      <td>NaN</td>\n",
              "    </tr>\n",
              "    <tr>\n",
              "      <th>8</th>\n",
              "      <td>100009000.0</td>\n",
              "      <td>215.0</td>\n",
              "      <td>TREMONT</td>\n",
              "      <td>Y</td>\n",
              "      <td>na</td>\n",
              "      <td>2</td>\n",
              "      <td>1800</td>\n",
              "    </tr>\n",
              "  </tbody>\n",
              "</table>\n",
              "</div>"
            ],
            "text/plain": [
              "           PID  ST_NUM     ST_NAME OWN_OCCUPIED NUM_BEDROOMS NUM_BATH SQ_FT\n",
              "0  100001000.0   104.0      PUTNAM            Y            3        1  1000\n",
              "1  100002000.0   197.0   LEXINGTON            N            3      1.5    --\n",
              "2  100003000.0     NaN   LEXINGTON            N          NaN        1   850\n",
              "3  100004000.0   201.0    BERKELEY           12            1      NaN   700\n",
              "4          NaN   203.0    BERKELEY            Y            3        2  1600\n",
              "5  100006000.0   207.0    BERKELEY            Y          NaN        1   800\n",
              "6  100007000.0     NaN  WASHINGTON          NaN            2   HURLEY   950\n",
              "7  100008000.0   213.0     TREMONT            Y            1        1   NaN\n",
              "8  100009000.0   215.0     TREMONT            Y           na        2  1800"
            ]
          },
          "metadata": {
            "tags": []
          },
          "execution_count": 2
        }
      ]
    },
    {
      "cell_type": "markdown",
      "metadata": {
        "id": "eF60BY6qL4ee",
        "colab_type": "text"
      },
      "source": [
        "É possível perceber os dados inválidos do dataframe acima. O pandas consegue detectar alguns valores inválidos ou faltantes. Para esses dados, ele utiliza a etiqueta `NaN`.\n",
        "\n",
        "O Pandas possui um método específico para identificar valores faltantes em uma série, de nome `isnull()`."
      ]
    },
    {
      "cell_type": "code",
      "metadata": {
        "id": "jdwJOwPQL4eh",
        "colab_type": "code",
        "colab": {
          "base_uri": "https://localhost:8080/",
          "height": 187
        },
        "outputId": "dda8e85e-70dd-4248-b67d-ff83f808ebd9"
      },
      "source": [
        "dados_faltando['NUM_BATH'].isnull()"
      ],
      "execution_count": 3,
      "outputs": [
        {
          "output_type": "execute_result",
          "data": {
            "text/plain": [
              "0    False\n",
              "1    False\n",
              "2    False\n",
              "3     True\n",
              "4    False\n",
              "5    False\n",
              "6    False\n",
              "7    False\n",
              "8    False\n",
              "Name: NUM_BATH, dtype: bool"
            ]
          },
          "metadata": {
            "tags": []
          },
          "execution_count": 3
        }
      ]
    },
    {
      "cell_type": "markdown",
      "metadata": {
        "id": "_T7-KkV2L4es",
        "colab_type": "text"
      },
      "source": [
        "Perceba que o método `isnull()` retorna `True` sempre que existe um valor faltando no campo avaliado.\n",
        "\n",
        "Para um conjunto de dados muito grande, é impraticável aplicar a função `isnull()` manualmente a cada característica. Para avaliar a quantidade de valores faltando em todas as características, basta combinar o método `sum()` com o resultado do método `isnull()` aplicado a todo o conjunto de dados."
      ]
    },
    {
      "cell_type": "code",
      "metadata": {
        "id": "n-d43AbeL4ev",
        "colab_type": "code",
        "colab": {
          "base_uri": "https://localhost:8080/",
          "height": 153
        },
        "outputId": "fab2eacf-8eb7-4859-edda-cfe96bb292f2"
      },
      "source": [
        "dados_faltando.isnull().sum()"
      ],
      "execution_count": 4,
      "outputs": [
        {
          "output_type": "execute_result",
          "data": {
            "text/plain": [
              "PID             1\n",
              "ST_NUM          2\n",
              "ST_NAME         0\n",
              "OWN_OCCUPIED    1\n",
              "NUM_BEDROOMS    2\n",
              "NUM_BATH        1\n",
              "SQ_FT           1\n",
              "dtype: int64"
            ]
          },
          "metadata": {
            "tags": []
          },
          "execution_count": 4
        }
      ]
    },
    {
      "cell_type": "markdown",
      "metadata": {
        "id": "QU4VnSmFL4e2",
        "colab_type": "text"
      },
      "source": [
        "Nem sempre o Pandas será capaz de identificar um dado inválido. No nosso exemplo, existe um dado inválido `'na'` na série que representa a característica `NUM_BEDROOMS` e outro valor inválido `'--'` na série que representa a característica `SQ_FT`. \n",
        "\n",
        "Nesses casos, podemos usar os métodos `unique()` ou `value_counts()` para ver os valores existentes em uma série:"
      ]
    },
    {
      "cell_type": "code",
      "metadata": {
        "id": "pkQ0LORTL4e4",
        "colab_type": "code",
        "colab": {
          "base_uri": "https://localhost:8080/",
          "height": 34
        },
        "outputId": "4dfa9300-4619-4417-c199-2f1d7a480589"
      },
      "source": [
        "dados_faltando[\"NUM_BEDROOMS\"].unique()"
      ],
      "execution_count": 5,
      "outputs": [
        {
          "output_type": "execute_result",
          "data": {
            "text/plain": [
              "array(['3', nan, '1', '2', 'na'], dtype=object)"
            ]
          },
          "metadata": {
            "tags": []
          },
          "execution_count": 5
        }
      ]
    },
    {
      "cell_type": "code",
      "metadata": {
        "id": "OWfWmwAsL4fC",
        "colab_type": "code",
        "colab": {
          "base_uri": "https://localhost:8080/",
          "height": 170
        },
        "outputId": "5161793c-a74c-444d-b708-0892b21793ee"
      },
      "source": [
        "dados_faltando[\"SQ_FT\"].value_counts()"
      ],
      "execution_count": 6,
      "outputs": [
        {
          "output_type": "execute_result",
          "data": {
            "text/plain": [
              "800     1\n",
              "1000    1\n",
              "950     1\n",
              "850     1\n",
              "1600    1\n",
              "700     1\n",
              "1800    1\n",
              "--      1\n",
              "Name: SQ_FT, dtype: int64"
            ]
          },
          "metadata": {
            "tags": []
          },
          "execution_count": 6
        }
      ]
    },
    {
      "cell_type": "markdown",
      "metadata": {
        "id": "LzghO0QIL4fH",
        "colab_type": "text"
      },
      "source": [
        "Outro caso de dados inválidos ocorre quando um dado de tipo diferente do esperado para uma dada característica é encontrado. A coluna `OWN_OCCUPIED` deveria conter somente valores no formato `Y` ou `N`. Contudo, em uma das linhas é encontrado o valor `12`, que não tem relação com os valores esperados.\n",
        "\n",
        "Nesse caso, podemos usar os métodos `isin` e `all` para ver se todos os valores de uma série respeitam o **domínio** de valores previsto para aquela série.\n",
        "\n",
        "* O método `isin` avalia se um dado nominal está presente em uma lista de opções, convertendo a série original em uma séries de valores `True` (caso esteja) ou `False` (caso contrário).\n",
        "* O método `all` avalia se todos os valores na série transformada são iguais a `True`."
      ]
    },
    {
      "cell_type": "code",
      "metadata": {
        "id": "3jg9PVneL4fK",
        "colab_type": "code",
        "colab": {
          "base_uri": "https://localhost:8080/",
          "height": 34
        },
        "outputId": "146f281d-5f73-44aa-eade-faf0dc057ed2"
      },
      "source": [
        "condição_domínio = dados_faltando[\"OWN_OCCUPIED\"].isin([\"Y\",\"N\"])\n",
        "all(condição_domínio)"
      ],
      "execution_count": 7,
      "outputs": [
        {
          "output_type": "execute_result",
          "data": {
            "text/plain": [
              "False"
            ]
          },
          "metadata": {
            "tags": []
          },
          "execution_count": 7
        }
      ]
    },
    {
      "cell_type": "markdown",
      "metadata": {
        "id": "zIC4XZ5bPNGS",
        "colab_type": "text"
      },
      "source": [
        "Para identificar quais dados da série `\"OWN_OCCUPIED\"` ferem a condição informada, invertemos a condição de busca usando o operador `~` (lemos como NÃO):"
      ]
    },
    {
      "cell_type": "code",
      "metadata": {
        "id": "aJHXm9bVL4fT",
        "colab_type": "code",
        "colab": {
          "base_uri": "https://localhost:8080/",
          "height": 111
        },
        "outputId": "7387017e-361f-4864-fb34-9def14fb3831"
      },
      "source": [
        "dados_faltando[~condição_domínio]"
      ],
      "execution_count": 9,
      "outputs": [
        {
          "output_type": "execute_result",
          "data": {
            "text/html": [
              "<div>\n",
              "<style scoped>\n",
              "    .dataframe tbody tr th:only-of-type {\n",
              "        vertical-align: middle;\n",
              "    }\n",
              "\n",
              "    .dataframe tbody tr th {\n",
              "        vertical-align: top;\n",
              "    }\n",
              "\n",
              "    .dataframe thead th {\n",
              "        text-align: right;\n",
              "    }\n",
              "</style>\n",
              "<table border=\"1\" class=\"dataframe\">\n",
              "  <thead>\n",
              "    <tr style=\"text-align: right;\">\n",
              "      <th></th>\n",
              "      <th>PID</th>\n",
              "      <th>ST_NUM</th>\n",
              "      <th>ST_NAME</th>\n",
              "      <th>OWN_OCCUPIED</th>\n",
              "      <th>NUM_BEDROOMS</th>\n",
              "      <th>NUM_BATH</th>\n",
              "      <th>SQ_FT</th>\n",
              "    </tr>\n",
              "  </thead>\n",
              "  <tbody>\n",
              "    <tr>\n",
              "      <th>3</th>\n",
              "      <td>100004000.0</td>\n",
              "      <td>201.0</td>\n",
              "      <td>BERKELEY</td>\n",
              "      <td>12</td>\n",
              "      <td>1</td>\n",
              "      <td>NaN</td>\n",
              "      <td>700</td>\n",
              "    </tr>\n",
              "    <tr>\n",
              "      <th>6</th>\n",
              "      <td>100007000.0</td>\n",
              "      <td>NaN</td>\n",
              "      <td>WASHINGTON</td>\n",
              "      <td>NaN</td>\n",
              "      <td>2</td>\n",
              "      <td>HURLEY</td>\n",
              "      <td>950</td>\n",
              "    </tr>\n",
              "  </tbody>\n",
              "</table>\n",
              "</div>"
            ],
            "text/plain": [
              "           PID  ST_NUM     ST_NAME OWN_OCCUPIED NUM_BEDROOMS NUM_BATH SQ_FT\n",
              "3  100004000.0   201.0    BERKELEY           12            1      NaN   700\n",
              "6  100007000.0     NaN  WASHINGTON          NaN            2   HURLEY   950"
            ]
          },
          "metadata": {
            "tags": []
          },
          "execution_count": 9
        }
      ]
    },
    {
      "cell_type": "markdown",
      "metadata": {
        "id": "2qNSg1qIL4fY",
        "colab_type": "text"
      },
      "source": [
        "## Começando a análise"
      ]
    },
    {
      "cell_type": "markdown",
      "metadata": {
        "id": "qP9JFgyKL4fa",
        "colab_type": "text"
      },
      "source": [
        "Os dados para esta parte do tutorial serão carregados a partir de uma URL. \n",
        "\n",
        "Vamos deixar que o Pandas baixe diretamente o dataset, informando apenas a URL onde ele está localizado."
      ]
    },
    {
      "cell_type": "code",
      "metadata": {
        "colab_type": "code",
        "id": "IvRWAQofrpLA",
        "colab": {
          "base_uri": "https://localhost:8080/",
          "height": 359
        },
        "outputId": "190a1669-7e78-42cc-966f-e779a0aecfa1"
      },
      "source": [
        "dados_url = 'http://bit.ly/2cLzoxH'\n",
        "dados = pd.read_csv(dados_url)\n",
        "dados.head(n=10)"
      ],
      "execution_count": 10,
      "outputs": [
        {
          "output_type": "execute_result",
          "data": {
            "text/html": [
              "<div>\n",
              "<style scoped>\n",
              "    .dataframe tbody tr th:only-of-type {\n",
              "        vertical-align: middle;\n",
              "    }\n",
              "\n",
              "    .dataframe tbody tr th {\n",
              "        vertical-align: top;\n",
              "    }\n",
              "\n",
              "    .dataframe thead th {\n",
              "        text-align: right;\n",
              "    }\n",
              "</style>\n",
              "<table border=\"1\" class=\"dataframe\">\n",
              "  <thead>\n",
              "    <tr style=\"text-align: right;\">\n",
              "      <th></th>\n",
              "      <th>country</th>\n",
              "      <th>year</th>\n",
              "      <th>pop</th>\n",
              "      <th>continent</th>\n",
              "      <th>lifeExp</th>\n",
              "      <th>gdpPercap</th>\n",
              "    </tr>\n",
              "  </thead>\n",
              "  <tbody>\n",
              "    <tr>\n",
              "      <th>0</th>\n",
              "      <td>Afghanistan</td>\n",
              "      <td>1952</td>\n",
              "      <td>8425333.0</td>\n",
              "      <td>Asia</td>\n",
              "      <td>28.801</td>\n",
              "      <td>779.445314</td>\n",
              "    </tr>\n",
              "    <tr>\n",
              "      <th>1</th>\n",
              "      <td>Afghanistan</td>\n",
              "      <td>1957</td>\n",
              "      <td>9240934.0</td>\n",
              "      <td>Asia</td>\n",
              "      <td>30.332</td>\n",
              "      <td>820.853030</td>\n",
              "    </tr>\n",
              "    <tr>\n",
              "      <th>2</th>\n",
              "      <td>Afghanistan</td>\n",
              "      <td>1962</td>\n",
              "      <td>10267083.0</td>\n",
              "      <td>Asia</td>\n",
              "      <td>31.997</td>\n",
              "      <td>853.100710</td>\n",
              "    </tr>\n",
              "    <tr>\n",
              "      <th>3</th>\n",
              "      <td>Afghanistan</td>\n",
              "      <td>1967</td>\n",
              "      <td>11537966.0</td>\n",
              "      <td>Asia</td>\n",
              "      <td>34.020</td>\n",
              "      <td>836.197138</td>\n",
              "    </tr>\n",
              "    <tr>\n",
              "      <th>4</th>\n",
              "      <td>Afghanistan</td>\n",
              "      <td>1972</td>\n",
              "      <td>13079460.0</td>\n",
              "      <td>Asia</td>\n",
              "      <td>36.088</td>\n",
              "      <td>739.981106</td>\n",
              "    </tr>\n",
              "    <tr>\n",
              "      <th>5</th>\n",
              "      <td>Afghanistan</td>\n",
              "      <td>1977</td>\n",
              "      <td>14880372.0</td>\n",
              "      <td>Asia</td>\n",
              "      <td>38.438</td>\n",
              "      <td>786.113360</td>\n",
              "    </tr>\n",
              "    <tr>\n",
              "      <th>6</th>\n",
              "      <td>Afghanistan</td>\n",
              "      <td>1982</td>\n",
              "      <td>12881816.0</td>\n",
              "      <td>Asia</td>\n",
              "      <td>39.854</td>\n",
              "      <td>978.011439</td>\n",
              "    </tr>\n",
              "    <tr>\n",
              "      <th>7</th>\n",
              "      <td>Afghanistan</td>\n",
              "      <td>1987</td>\n",
              "      <td>13867957.0</td>\n",
              "      <td>Asia</td>\n",
              "      <td>40.822</td>\n",
              "      <td>852.395945</td>\n",
              "    </tr>\n",
              "    <tr>\n",
              "      <th>8</th>\n",
              "      <td>Afghanistan</td>\n",
              "      <td>1992</td>\n",
              "      <td>16317921.0</td>\n",
              "      <td>Asia</td>\n",
              "      <td>41.674</td>\n",
              "      <td>649.341395</td>\n",
              "    </tr>\n",
              "    <tr>\n",
              "      <th>9</th>\n",
              "      <td>Afghanistan</td>\n",
              "      <td>1997</td>\n",
              "      <td>22227415.0</td>\n",
              "      <td>Asia</td>\n",
              "      <td>41.763</td>\n",
              "      <td>635.341351</td>\n",
              "    </tr>\n",
              "  </tbody>\n",
              "</table>\n",
              "</div>"
            ],
            "text/plain": [
              "       country  year         pop continent  lifeExp   gdpPercap\n",
              "0  Afghanistan  1952   8425333.0      Asia   28.801  779.445314\n",
              "1  Afghanistan  1957   9240934.0      Asia   30.332  820.853030\n",
              "2  Afghanistan  1962  10267083.0      Asia   31.997  853.100710\n",
              "3  Afghanistan  1967  11537966.0      Asia   34.020  836.197138\n",
              "4  Afghanistan  1972  13079460.0      Asia   36.088  739.981106\n",
              "5  Afghanistan  1977  14880372.0      Asia   38.438  786.113360\n",
              "6  Afghanistan  1982  12881816.0      Asia   39.854  978.011439\n",
              "7  Afghanistan  1987  13867957.0      Asia   40.822  852.395945\n",
              "8  Afghanistan  1992  16317921.0      Asia   41.674  649.341395\n",
              "9  Afghanistan  1997  22227415.0      Asia   41.763  635.341351"
            ]
          },
          "metadata": {
            "tags": []
          },
          "execution_count": 10
        }
      ]
    },
    {
      "cell_type": "markdown",
      "metadata": {
        "id": "YPRXqHsVL4fh",
        "colab_type": "text"
      },
      "source": [
        "Uma vez concluída a limpeza dos dados, o primeiro conjunto de ferramentas que podemos usar para analisá-los é a das **estatísticas descritivas**. \n",
        "\n",
        "O Pandas oferece as principais medidas **centrais** e de **dispersão**, que podemos ser aplicadas a qualquer série de dados numéricos."
      ]
    },
    {
      "cell_type": "markdown",
      "metadata": {
        "id": "uwgOpZdLL4fj",
        "colab_type": "text"
      },
      "source": [
        "### Medidas centrais"
      ]
    },
    {
      "cell_type": "markdown",
      "metadata": {
        "id": "CNGpvCHgL4fl",
        "colab_type": "text"
      },
      "source": [
        "**Média**: A soma de todas as medições divididas pelo número de observações no conjunto de dados."
      ]
    },
    {
      "cell_type": "code",
      "metadata": {
        "id": "VNZA059wL4fm",
        "colab_type": "code",
        "colab": {
          "base_uri": "https://localhost:8080/",
          "height": 102
        },
        "outputId": "cc3f7276-53fb-4fd6-c875-ae5d401867bb"
      },
      "source": [
        "dados.mean()"
      ],
      "execution_count": 11,
      "outputs": [
        {
          "output_type": "execute_result",
          "data": {
            "text/plain": [
              "year         1.979500e+03\n",
              "pop          2.960121e+07\n",
              "lifeExp      5.947444e+01\n",
              "gdpPercap    7.215327e+03\n",
              "dtype: float64"
            ]
          },
          "metadata": {
            "tags": []
          },
          "execution_count": 11
        }
      ]
    },
    {
      "cell_type": "markdown",
      "metadata": {
        "id": "h0dlTWlOL4fr",
        "colab_type": "text"
      },
      "source": [
        "**Mediana**: Valor do meio que separa a metade maior da metade menor no conjunto de dados."
      ]
    },
    {
      "cell_type": "code",
      "metadata": {
        "id": "l6BTNx0hL4fs",
        "colab_type": "code",
        "colab": {
          "base_uri": "https://localhost:8080/",
          "height": 34
        },
        "outputId": "10d3e411-0fe0-49d4-bcc1-2b249ac43eb4"
      },
      "source": [
        "dados[\"year\"].median()"
      ],
      "execution_count": 12,
      "outputs": [
        {
          "output_type": "execute_result",
          "data": {
            "text/plain": [
              "1979.5"
            ]
          },
          "metadata": {
            "tags": []
          },
          "execution_count": 12
        }
      ]
    },
    {
      "cell_type": "markdown",
      "metadata": {
        "id": "eekJ8I1UL4fx",
        "colab_type": "text"
      },
      "source": [
        "**Moda**: O(s) valor(es) que aparece(m) com mais frequência no conjunto de dados."
      ]
    },
    {
      "cell_type": "code",
      "metadata": {
        "id": "GS-E95i1L4fz",
        "colab_type": "code",
        "colab": {
          "base_uri": "https://localhost:8080/",
          "height": 238
        },
        "outputId": "5137709d-895b-4194-dc99-7d30235f3a45"
      },
      "source": [
        "dados[\"year\"].mode()"
      ],
      "execution_count": 13,
      "outputs": [
        {
          "output_type": "execute_result",
          "data": {
            "text/plain": [
              "0     1952\n",
              "1     1957\n",
              "2     1962\n",
              "3     1967\n",
              "4     1972\n",
              "5     1977\n",
              "6     1982\n",
              "7     1987\n",
              "8     1992\n",
              "9     1997\n",
              "10    2002\n",
              "11    2007\n",
              "dtype: int64"
            ]
          },
          "metadata": {
            "tags": []
          },
          "execution_count": 13
        }
      ]
    },
    {
      "cell_type": "markdown",
      "metadata": {
        "id": "eFAtr7ULL4f4",
        "colab_type": "text"
      },
      "source": [
        "### Medidas de dispersão"
      ]
    },
    {
      "cell_type": "markdown",
      "metadata": {
        "id": "Us_pPKC4L4f5",
        "colab_type": "text"
      },
      "source": [
        "**Variância**: Indica o espalhamento dos valores de uma série. \n",
        "\n",
        "É calculada como a distância média de cada valor de uma série para a média da série. Para que distâncias positivas e negativas não se anulem, cada distância é elevada ao quadrado durante a soma. Por esse motivo, a ordem de grandeza da variância não casa com a ordem de grandeza dos dados da série.\n",
        "\n",
        "Uma baixa variância indica que os valores da série tendem a estar próximos da média. Uma alta variância indica que os valores da série estão dispersos."
      ]
    },
    {
      "cell_type": "code",
      "metadata": {
        "id": "SQXQWRiJL4f7",
        "colab_type": "code",
        "colab": {
          "base_uri": "https://localhost:8080/",
          "height": 34
        },
        "outputId": "cae74a6c-7a79-4e1c-c6a7-be5682665c5d"
      },
      "source": [
        "dados[\"year\"].var()"
      ],
      "execution_count": 14,
      "outputs": [
        {
          "output_type": "execute_result",
          "data": {
            "text/plain": [
              "298.0916030534351"
            ]
          },
          "metadata": {
            "tags": []
          },
          "execution_count": 14
        }
      ]
    },
    {
      "cell_type": "markdown",
      "metadata": {
        "id": "cr48uJXwL4gB",
        "colab_type": "text"
      },
      "source": [
        "**Desvio Padrão**: Raiz quadrada da variância. Mantém todas as suas propriedades, mas apresenta a mesma ordem de grandeza dos dados da série: "
      ]
    },
    {
      "cell_type": "code",
      "metadata": {
        "scrolled": true,
        "id": "i38lCnbZL4gC",
        "colab_type": "code",
        "colab": {
          "base_uri": "https://localhost:8080/",
          "height": 34
        },
        "outputId": "6d14971a-67a3-4b80-9360-4acf33819cde"
      },
      "source": [
        "dados[\"year\"].std()"
      ],
      "execution_count": 15,
      "outputs": [
        {
          "output_type": "execute_result",
          "data": {
            "text/plain": [
              "17.265329508973615"
            ]
          },
          "metadata": {
            "tags": []
          },
          "execution_count": 15
        }
      ]
    },
    {
      "cell_type": "markdown",
      "metadata": {
        "id": "12tsWb4bL4gH",
        "colab_type": "text"
      },
      "source": [
        "**Quantis**: Particionam os valores ordenados de uma série. Um quantil de 25% indica que 25% dos valores da série são inferiores àquele quantil. Por convenção, ***quartis*** são os quantis de 25%, 50% e 75%, também conhecidos como primeiro, segundo e terceiro quartis:\n"
      ]
    },
    {
      "cell_type": "code",
      "metadata": {
        "id": "jb4SSYvdL4gK",
        "colab_type": "code",
        "colab": {
          "base_uri": "https://localhost:8080/",
          "height": 34
        },
        "outputId": "10636cdc-9db5-4f99-ddb9-1ab94104e08c"
      },
      "source": [
        "dados[\"year\"].quantile(0.25)"
      ],
      "execution_count": 16,
      "outputs": [
        {
          "output_type": "execute_result",
          "data": {
            "text/plain": [
              "1965.75"
            ]
          },
          "metadata": {
            "tags": []
          },
          "execution_count": 16
        }
      ]
    },
    {
      "cell_type": "code",
      "metadata": {
        "id": "N0A_xffYL4gQ",
        "colab_type": "code",
        "colab": {
          "base_uri": "https://localhost:8080/",
          "height": 34
        },
        "outputId": "32b66947-8de9-49ed-d2c9-ceb3b3063b42"
      },
      "source": [
        "primeiro_quartil = dados.query(f\"year < {dados['year'].quantile(0.25)}\")\n",
        "primeiro_quartil.shape"
      ],
      "execution_count": 20,
      "outputs": [
        {
          "output_type": "execute_result",
          "data": {
            "text/plain": [
              "(426, 6)"
            ]
          },
          "metadata": {
            "tags": []
          },
          "execution_count": 20
        }
      ]
    },
    {
      "cell_type": "code",
      "metadata": {
        "scrolled": true,
        "id": "TNF9SjNIL4gW",
        "colab_type": "code",
        "colab": {
          "base_uri": "https://localhost:8080/",
          "height": 34
        },
        "outputId": "8dbb4a99-9a90-40fe-f483-b56536a05bbf"
      },
      "source": [
        "dados.shape"
      ],
      "execution_count": 21,
      "outputs": [
        {
          "output_type": "execute_result",
          "data": {
            "text/plain": [
              "(1704, 6)"
            ]
          },
          "metadata": {
            "tags": []
          },
          "execution_count": 21
        }
      ]
    },
    {
      "cell_type": "markdown",
      "metadata": {
        "id": "J5n8HvrYL4gc",
        "colab_type": "text"
      },
      "source": [
        "### Outros métodos de estatística descritiva"
      ]
    },
    {
      "cell_type": "markdown",
      "metadata": {
        "id": "PB4whhc4L4gd",
        "colab_type": "text"
      },
      "source": [
        "* `describe()`: presente nos objetos `DataFrame` e `Series`, reúne várias medidas descritivas sobre os dados, incluindo os métodos `count()`, `min()` e `max()`:"
      ]
    },
    {
      "cell_type": "code",
      "metadata": {
        "id": "nu-NRWZrL4gf",
        "colab_type": "code",
        "colab": {
          "base_uri": "https://localhost:8080/",
          "height": 170
        },
        "outputId": "1a0b1076-765b-46d6-cebf-0ee3fcaa7391"
      },
      "source": [
        "dados[\"year\"].describe()"
      ],
      "execution_count": 22,
      "outputs": [
        {
          "output_type": "execute_result",
          "data": {
            "text/plain": [
              "count    1704.00000\n",
              "mean     1979.50000\n",
              "std        17.26533\n",
              "min      1952.00000\n",
              "25%      1965.75000\n",
              "50%      1979.50000\n",
              "75%      1993.25000\n",
              "max      2007.00000\n",
              "Name: year, dtype: float64"
            ]
          },
          "metadata": {
            "tags": []
          },
          "execution_count": 22
        }
      ]
    },
    {
      "cell_type": "code",
      "metadata": {
        "id": "weIrWGPeL4gj",
        "colab_type": "code",
        "colab": {
          "base_uri": "https://localhost:8080/",
          "height": 297
        },
        "outputId": "4f33f23c-8688-4f42-aed3-05e0668bf8cc"
      },
      "source": [
        "dados.describe()"
      ],
      "execution_count": 23,
      "outputs": [
        {
          "output_type": "execute_result",
          "data": {
            "text/html": [
              "<div>\n",
              "<style scoped>\n",
              "    .dataframe tbody tr th:only-of-type {\n",
              "        vertical-align: middle;\n",
              "    }\n",
              "\n",
              "    .dataframe tbody tr th {\n",
              "        vertical-align: top;\n",
              "    }\n",
              "\n",
              "    .dataframe thead th {\n",
              "        text-align: right;\n",
              "    }\n",
              "</style>\n",
              "<table border=\"1\" class=\"dataframe\">\n",
              "  <thead>\n",
              "    <tr style=\"text-align: right;\">\n",
              "      <th></th>\n",
              "      <th>year</th>\n",
              "      <th>pop</th>\n",
              "      <th>lifeExp</th>\n",
              "      <th>gdpPercap</th>\n",
              "    </tr>\n",
              "  </thead>\n",
              "  <tbody>\n",
              "    <tr>\n",
              "      <th>count</th>\n",
              "      <td>1704.00000</td>\n",
              "      <td>1.704000e+03</td>\n",
              "      <td>1704.000000</td>\n",
              "      <td>1704.000000</td>\n",
              "    </tr>\n",
              "    <tr>\n",
              "      <th>mean</th>\n",
              "      <td>1979.50000</td>\n",
              "      <td>2.960121e+07</td>\n",
              "      <td>59.474439</td>\n",
              "      <td>7215.327081</td>\n",
              "    </tr>\n",
              "    <tr>\n",
              "      <th>std</th>\n",
              "      <td>17.26533</td>\n",
              "      <td>1.061579e+08</td>\n",
              "      <td>12.917107</td>\n",
              "      <td>9857.454543</td>\n",
              "    </tr>\n",
              "    <tr>\n",
              "      <th>min</th>\n",
              "      <td>1952.00000</td>\n",
              "      <td>6.001100e+04</td>\n",
              "      <td>23.599000</td>\n",
              "      <td>241.165877</td>\n",
              "    </tr>\n",
              "    <tr>\n",
              "      <th>25%</th>\n",
              "      <td>1965.75000</td>\n",
              "      <td>2.793664e+06</td>\n",
              "      <td>48.198000</td>\n",
              "      <td>1202.060309</td>\n",
              "    </tr>\n",
              "    <tr>\n",
              "      <th>50%</th>\n",
              "      <td>1979.50000</td>\n",
              "      <td>7.023596e+06</td>\n",
              "      <td>60.712500</td>\n",
              "      <td>3531.846989</td>\n",
              "    </tr>\n",
              "    <tr>\n",
              "      <th>75%</th>\n",
              "      <td>1993.25000</td>\n",
              "      <td>1.958522e+07</td>\n",
              "      <td>70.845500</td>\n",
              "      <td>9325.462346</td>\n",
              "    </tr>\n",
              "    <tr>\n",
              "      <th>max</th>\n",
              "      <td>2007.00000</td>\n",
              "      <td>1.318683e+09</td>\n",
              "      <td>82.603000</td>\n",
              "      <td>113523.132900</td>\n",
              "    </tr>\n",
              "  </tbody>\n",
              "</table>\n",
              "</div>"
            ],
            "text/plain": [
              "             year           pop      lifeExp      gdpPercap\n",
              "count  1704.00000  1.704000e+03  1704.000000    1704.000000\n",
              "mean   1979.50000  2.960121e+07    59.474439    7215.327081\n",
              "std      17.26533  1.061579e+08    12.917107    9857.454543\n",
              "min    1952.00000  6.001100e+04    23.599000     241.165877\n",
              "25%    1965.75000  2.793664e+06    48.198000    1202.060309\n",
              "50%    1979.50000  7.023596e+06    60.712500    3531.846989\n",
              "75%    1993.25000  1.958522e+07    70.845500    9325.462346\n",
              "max    2007.00000  1.318683e+09    82.603000  113523.132900"
            ]
          },
          "metadata": {
            "tags": []
          },
          "execution_count": 23
        }
      ]
    },
    {
      "cell_type": "markdown",
      "metadata": {
        "id": "G8D8V-sVL4go",
        "colab_type": "text"
      },
      "source": [
        "* `nunique()`: informa a quantidade de valores distintos."
      ]
    },
    {
      "cell_type": "code",
      "metadata": {
        "id": "KHQAU6xOL4gp",
        "colab_type": "code",
        "colab": {
          "base_uri": "https://localhost:8080/",
          "height": 136
        },
        "outputId": "d8f5678b-9ec8-4cb9-9883-e2d0e642db26"
      },
      "source": [
        "dados.nunique()"
      ],
      "execution_count": 24,
      "outputs": [
        {
          "output_type": "execute_result",
          "data": {
            "text/plain": [
              "country       142\n",
              "year           12\n",
              "pop          1704\n",
              "continent       5\n",
              "lifeExp      1626\n",
              "gdpPercap    1704\n",
              "dtype: int64"
            ]
          },
          "metadata": {
            "tags": []
          },
          "execution_count": 24
        }
      ]
    },
    {
      "cell_type": "code",
      "metadata": {
        "id": "fiYwdjY_L4gs",
        "colab_type": "code",
        "colab": {
          "base_uri": "https://localhost:8080/",
          "height": 34
        },
        "outputId": "11c2d579-e84d-4860-88ba-8eeb40376f67"
      },
      "source": [
        "dados[\"year\"].nunique()"
      ],
      "execution_count": 25,
      "outputs": [
        {
          "output_type": "execute_result",
          "data": {
            "text/plain": [
              "12"
            ]
          },
          "metadata": {
            "tags": []
          },
          "execution_count": 25
        }
      ]
    },
    {
      "cell_type": "markdown",
      "metadata": {
        "id": "gsxPrw_gL4gx",
        "colab_type": "text"
      },
      "source": [
        "* `sort_values()`: ordena os valores de um `DataFrame` ou `Series`, em ordem crescente ou decrescente. Ao usar o método `sort_values()` do `DataFrame`, podemos especificar múltiplas colunas para a ordenação. Nesse caso, empates na primeira coluna são resolvidos pela segunda coluna, e assim por diante."
      ]
    },
    {
      "cell_type": "code",
      "metadata": {
        "id": "f_osXt0cL4g0",
        "colab_type": "code",
        "colab": {
          "base_uri": "https://localhost:8080/",
          "height": 119
        },
        "outputId": "4d5666a3-f1c0-4622-f007-aa3cc4bc2819"
      },
      "source": [
        "dados[\"year\"].sort_values().head()"
      ],
      "execution_count": 26,
      "outputs": [
        {
          "output_type": "execute_result",
          "data": {
            "text/plain": [
              "0       1952\n",
              "528     1952\n",
              "540     1952\n",
              "1656    1952\n",
              "552     1952\n",
              "Name: year, dtype: int64"
            ]
          },
          "metadata": {
            "tags": []
          },
          "execution_count": 26
        }
      ]
    },
    {
      "cell_type": "code",
      "metadata": {
        "id": "iL7kQVvpL4g4",
        "colab_type": "code",
        "colab": {
          "base_uri": "https://localhost:8080/",
          "height": 204
        },
        "outputId": "e675f7aa-eb25-477f-dfd0-3df3117377fb"
      },
      "source": [
        "dados.sort_values(by=['year','country'],ascending=False).head()"
      ],
      "execution_count": 27,
      "outputs": [
        {
          "output_type": "execute_result",
          "data": {
            "text/html": [
              "<div>\n",
              "<style scoped>\n",
              "    .dataframe tbody tr th:only-of-type {\n",
              "        vertical-align: middle;\n",
              "    }\n",
              "\n",
              "    .dataframe tbody tr th {\n",
              "        vertical-align: top;\n",
              "    }\n",
              "\n",
              "    .dataframe thead th {\n",
              "        text-align: right;\n",
              "    }\n",
              "</style>\n",
              "<table border=\"1\" class=\"dataframe\">\n",
              "  <thead>\n",
              "    <tr style=\"text-align: right;\">\n",
              "      <th></th>\n",
              "      <th>country</th>\n",
              "      <th>year</th>\n",
              "      <th>pop</th>\n",
              "      <th>continent</th>\n",
              "      <th>lifeExp</th>\n",
              "      <th>gdpPercap</th>\n",
              "    </tr>\n",
              "  </thead>\n",
              "  <tbody>\n",
              "    <tr>\n",
              "      <th>1703</th>\n",
              "      <td>Zimbabwe</td>\n",
              "      <td>2007</td>\n",
              "      <td>12311143.0</td>\n",
              "      <td>Africa</td>\n",
              "      <td>43.487</td>\n",
              "      <td>469.709298</td>\n",
              "    </tr>\n",
              "    <tr>\n",
              "      <th>1691</th>\n",
              "      <td>Zambia</td>\n",
              "      <td>2007</td>\n",
              "      <td>11746035.0</td>\n",
              "      <td>Africa</td>\n",
              "      <td>42.384</td>\n",
              "      <td>1271.211593</td>\n",
              "    </tr>\n",
              "    <tr>\n",
              "      <th>1679</th>\n",
              "      <td>Yemen Rep.</td>\n",
              "      <td>2007</td>\n",
              "      <td>22211743.0</td>\n",
              "      <td>Asia</td>\n",
              "      <td>62.698</td>\n",
              "      <td>2280.769906</td>\n",
              "    </tr>\n",
              "    <tr>\n",
              "      <th>1667</th>\n",
              "      <td>West Bank and Gaza</td>\n",
              "      <td>2007</td>\n",
              "      <td>4018332.0</td>\n",
              "      <td>Asia</td>\n",
              "      <td>73.422</td>\n",
              "      <td>3025.349798</td>\n",
              "    </tr>\n",
              "    <tr>\n",
              "      <th>1655</th>\n",
              "      <td>Vietnam</td>\n",
              "      <td>2007</td>\n",
              "      <td>85262356.0</td>\n",
              "      <td>Asia</td>\n",
              "      <td>74.249</td>\n",
              "      <td>2441.576404</td>\n",
              "    </tr>\n",
              "  </tbody>\n",
              "</table>\n",
              "</div>"
            ],
            "text/plain": [
              "                 country  year         pop continent  lifeExp    gdpPercap\n",
              "1703            Zimbabwe  2007  12311143.0    Africa   43.487   469.709298\n",
              "1691              Zambia  2007  11746035.0    Africa   42.384  1271.211593\n",
              "1679          Yemen Rep.  2007  22211743.0      Asia   62.698  2280.769906\n",
              "1667  West Bank and Gaza  2007   4018332.0      Asia   73.422  3025.349798\n",
              "1655             Vietnam  2007  85262356.0      Asia   74.249  2441.576404"
            ]
          },
          "metadata": {
            "tags": []
          },
          "execution_count": 27
        }
      ]
    },
    {
      "cell_type": "markdown",
      "metadata": {
        "id": "bwABO3JgL4g-",
        "colab_type": "text"
      },
      "source": [
        "## Apresentação dos dados"
      ]
    },
    {
      "cell_type": "markdown",
      "metadata": {
        "colab_type": "text",
        "id": "3ni0vgAIHiFI"
      },
      "source": [
        "A análise de medidas centrais e de dispersão do `DataFrame` costuma ser aprofundada pela visualização das séries de dados.\n",
        "\n",
        "Para começar vamos carregar as bibliotecas necessárias:\n",
        "- `matplotlib` é uma biblioteca que serve exclusivamente para criar gráficos; \n",
        "- `seaborn` é uma biblioteca feita para criar gráficos estatísticos em Python. É construída em cima do Matplotlib e é integrada às estruturas de dados do Pandas.\n",
        "\n",
        "Por convenção, carregamos apenas o módulo `pyplot` da biblioteca `matplotlib` e o chamamos de `plt`.\n",
        "\n",
        "No caso do `seaborn`, carregamos toda a biblioteca, a chamamos de `sns` e usamos seu método `set()` para colocar em vigor suas configurações iniciais. "
      ]
    },
    {
      "cell_type": "code",
      "metadata": {
        "colab_type": "code",
        "id": "Y_PDGogQn3QS",
        "colab": {}
      },
      "source": [
        "import matplotlib.pyplot as plt\n",
        "import seaborn as sns\n",
        "sns.set()"
      ],
      "execution_count": 0,
      "outputs": []
    },
    {
      "cell_type": "markdown",
      "metadata": {
        "colab_type": "text",
        "id": "kIbzhXQ000XQ"
      },
      "source": [
        "### Histogramas\n",
        "\n",
        "Com os comandos oferecidos pelo Pandas é fácil construir um histograma. Porém, é necessário entender exatamente o que se está construindo. \n",
        "\n",
        "No trecho abaixo dizemos que do conjunto `dados` vamos usar a coluna `lifeExp`, que mostra a expectativa de vida por ano.\n",
        "\n",
        "Com o método `hist(bins = 100)` teremos o histograma com 100 faixas diferentes de valores. "
      ]
    },
    {
      "cell_type": "code",
      "metadata": {
        "colab_type": "code",
        "id": "NwLUT8xptz_9",
        "colab": {
          "base_uri": "https://localhost:8080/",
          "height": 285
        },
        "outputId": "dc525afd-2f99-4147-98e7-1b25f00136cf"
      },
      "source": [
        "dados['lifeExp'].hist(bins=100)"
      ],
      "execution_count": 29,
      "outputs": [
        {
          "output_type": "execute_result",
          "data": {
            "text/plain": [
              "<matplotlib.axes._subplots.AxesSubplot at 0x7f69656bb5f8>"
            ]
          },
          "metadata": {
            "tags": []
          },
          "execution_count": 29
        },
        {
          "output_type": "display_data",
          "data": {
            "image/png": "[encoded data removed]",
            "text/plain": [
              "<Figure size 432x288 with 1 Axes>"
            ]
          },
          "metadata": {
            "tags": []
          }
        }
      ]
    },
    {
      "cell_type": "markdown",
      "metadata": {
        "colab_type": "text",
        "id": "JKLxZZdx4sLT"
      },
      "source": [
        "Abaixo podemos ver o efeito (extremo) de se construir um histograma com poucos intervalos de valores (apenas dois, neste caso)."
      ]
    },
    {
      "cell_type": "code",
      "metadata": {
        "colab_type": "code",
        "id": "ooQ_pCJKuMX-",
        "colab": {
          "base_uri": "https://localhost:8080/",
          "height": 285
        },
        "outputId": "c771de28-ea2b-4110-c43b-234569e56cd5"
      },
      "source": [
        "dados['lifeExp'].hist(bins=2)"
      ],
      "execution_count": 30,
      "outputs": [
        {
          "output_type": "execute_result",
          "data": {
            "text/plain": [
              "<matplotlib.axes._subplots.AxesSubplot at 0x7f69656173c8>"
            ]
          },
          "metadata": {
            "tags": []
          },
          "execution_count": 30
        },
        {
          "output_type": "display_data",
          "data": {
            "image/png": "[encoded data removed]",
            "text/plain": [
              "<Figure size 432x288 with 1 Axes>"
            ]
          },
          "metadata": {
            "tags": []
          }
        }
      ]
    },
    {
      "cell_type": "markdown",
      "metadata": {
        "colab_type": "text",
        "id": "lyarbic35AgQ"
      },
      "source": [
        "O caso abaixo é exatamente o inverso do que foi mostrado acima: muitas faixas de valores (1000 no gráfico abaixo) torna a compreensão muito difícil."
      ]
    },
    {
      "cell_type": "code",
      "metadata": {
        "colab_type": "code",
        "id": "Aj6a95vvu4Ie",
        "colab": {
          "base_uri": "https://localhost:8080/",
          "height": 285
        },
        "outputId": "1566181a-4db2-4640-c03f-6d086059ea73"
      },
      "source": [
        "dados['lifeExp'].hist(bins=1000)"
      ],
      "execution_count": 31,
      "outputs": [
        {
          "output_type": "execute_result",
          "data": {
            "text/plain": [
              "<matplotlib.axes._subplots.AxesSubplot at 0x7f6965005da0>"
            ]
          },
          "metadata": {
            "tags": []
          },
          "execution_count": 31
        },
        {
          "output_type": "display_data",
          "data": {
            "image/png": "[encoded data removed]",
            "text/plain": [
              "<Figure size 432x288 with 1 Axes>"
            ]
          },
          "metadata": {
            "tags": []
          }
        }
      ]
    },
    {
      "cell_type": "markdown",
      "metadata": {
        "colab_type": "text",
        "id": "AqnPTNI0P7vL"
      },
      "source": [
        "O histograma padrão do Pandas é básico e serve apenas para uma olhada rápida na distribuição dos dados, mas não conta a história toda. \n",
        "\n",
        "Além de não haver nomes nos eixos X e Y, há uma região do eixo X sendo apresentada mesmo que não haja dados nela.\n",
        "\n",
        "Podemos resolver isso configurando o histograma através dos seguintes parâmetros:\n",
        " - `xlabelsize` e `ylabelsize` ditam o tamanho da fonte nos eixos;\n",
        " - `xlabel `e `ylabel` são os métodos que alteram o título do eixo e o tamanho desse texto;\n",
        " - `xlim` também é um método e determina os limites inferior e superior do eixo horizontal.\n",
        "\n",
        "A seguir podemos ver como customizar as informações que aparecem no histograma."
      ]
    },
    {
      "cell_type": "code",
      "metadata": {
        "colab_type": "code",
        "id": "7AsoMmeHP_kh",
        "scrolled": false,
        "colab": {
          "base_uri": "https://localhost:8080/",
          "height": 327
        },
        "outputId": "7701b727-4e94-4a10-fc1e-c7327aae0698"
      },
      "source": [
        "dados['lifeExp'].hist(bins=100, grid=False, xlabelsize=12, ylabelsize=12)\n",
        "plt.xlabel(\"Expectativa de vida\", fontsize=15)\n",
        "plt.ylabel(\"Frequência\",fontsize=15)\n",
        "plt.title(\"Distribuição das expectativas de vida\", fontsize=17)\n",
        "plt.xlim([22.0,90.0])"
      ],
      "execution_count": 32,
      "outputs": [
        {
          "output_type": "execute_result",
          "data": {
            "text/plain": [
              "(22.0, 90.0)"
            ]
          },
          "metadata": {
            "tags": []
          },
          "execution_count": 32
        },
        {
          "output_type": "display_data",
          "data": {
            "image/png": "[encoded data removed]",
            "text/plain": [
              "<Figure size 432x288 with 1 Axes>"
            ]
          },
          "metadata": {
            "tags": []
          }
        }
      ]
    },
    {
      "cell_type": "markdown",
      "metadata": {
        "id": "20_-XPE6L4hd",
        "colab_type": "text"
      },
      "source": [
        "Apesar de ser conveniente usar o método `hist()` diretamente a partir de uma série, o método `distplot()` do `seaborn` é bem mais poderoso.\n",
        "\n",
        "Além de apresentar um histograma dos dados, o `distplot()` estima uma **distribuição de probabilidade** dos dados:"
      ]
    },
    {
      "cell_type": "code",
      "metadata": {
        "id": "A4bINUg3L4hf",
        "colab_type": "code",
        "colab": {
          "base_uri": "https://localhost:8080/",
          "height": 324
        },
        "outputId": "63198e3d-8e45-4d42-b661-5f0a141e09a5"
      },
      "source": [
        "sns.distplot(dados[\"lifeExp\"])\n",
        "plt.xlabel(\"Expectativa de vida\", fontsize=15)\n",
        "plt.ylabel(\"Frequência\",fontsize=15)\n",
        "plt.title(\"Distribuição das expectativas de vida\", fontsize=17)"
      ],
      "execution_count": 33,
      "outputs": [
        {
          "output_type": "execute_result",
          "data": {
            "text/plain": [
              "Text(0.5, 1.0, 'Distribuição das expectativas de vida')"
            ]
          },
          "metadata": {
            "tags": []
          },
          "execution_count": 33
        },
        {
          "output_type": "display_data",
          "data": {
            "image/png": "[encoded data removed]",
            "text/plain": [
              "<Figure size 432x288 with 1 Axes>"
            ]
          },
          "metadata": {
            "tags": []
          }
        }
      ]
    },
    {
      "cell_type": "markdown",
      "metadata": {
        "id": "wXFm5_j7L4hj",
        "colab_type": "text"
      },
      "source": [
        "A distribuição de probabilidade estimada no gráfico acima é uma importante fonte de informação sobre os dados.\n",
        "\n",
        "Podemos compará-la com uma **distribuição normal** usando o método `norm` da biblioteca `scipy`:"
      ]
    },
    {
      "cell_type": "code",
      "metadata": {
        "id": "I45uq3q_L4hk",
        "colab_type": "code",
        "colab": {}
      },
      "source": [
        "from scipy.stats import norm"
      ],
      "execution_count": 0,
      "outputs": []
    },
    {
      "cell_type": "code",
      "metadata": {
        "id": "Mw-2NqWYL4hn",
        "colab_type": "code",
        "colab": {
          "base_uri": "https://localhost:8080/",
          "height": 324
        },
        "outputId": "fd567c52-9244-4e00-b290-a1aab55ecd79"
      },
      "source": [
        "sns.distplot(dados[\"lifeExp\"], fit=norm)\n",
        "plt.xlabel(\"Expectativa de vida\", fontsize=15)\n",
        "plt.ylabel(\"Frequência\",fontsize=15)\n",
        "plt.title(\"Distribuição das expectativas de vida\", fontsize=17)"
      ],
      "execution_count": 35,
      "outputs": [
        {
          "output_type": "execute_result",
          "data": {
            "text/plain": [
              "Text(0.5, 1.0, 'Distribuição das expectativas de vida')"
            ]
          },
          "metadata": {
            "tags": []
          },
          "execution_count": 35
        },
        {
          "output_type": "display_data",
          "data": {
            "image/png": "[encoded data removed]",
            "text/plain": [
              "<Figure size 432x288 with 1 Axes>"
            ]
          },
          "metadata": {
            "tags": []
          }
        }
      ]
    },
    {
      "cell_type": "markdown",
      "metadata": {
        "colab_type": "text",
        "id": "WvlxccQA7P4D"
      },
      "source": [
        "Nesse caso, vemos que a distruição real dos dados difere bastante da distribuição normal.\n",
        "\n",
        "De fato, ela se assemelha mais a uma **distribuição bimodal**, que costuma ocorrer quando os dados apresentam subconjuntos normalmente distribuídos.\n",
        "\n",
        "As duas células de código a seguir produzem gráficos usando a expectativa de vida no continente Africano e na Europa, respectivamente, mostrando de onde surge a distribuição bimodal do gráfico acima:"
      ]
    },
    {
      "cell_type": "code",
      "metadata": {
        "colab_type": "code",
        "id": "_9zMPpq-WZvk",
        "colab": {
          "base_uri": "https://localhost:8080/",
          "height": 324
        },
        "outputId": "cb08636f-cda6-42e3-ae8d-b073ee719224"
      },
      "source": [
        "dados_africa = dados.query(\"continent == 'Africa'\")\n",
        "dados_europa = dados.query(\"continent == 'Europe'\")\n",
        "\n",
        "sns.distplot(dados_europa[\"lifeExp\"], fit=norm)\n",
        "sns.distplot(dados_africa[\"lifeExp\"], fit=norm)\n",
        "plt.xlabel(\"Expectativa de vida\", fontsize=15)\n",
        "plt.ylabel(\"Frequência\",fontsize=15)\n",
        "plt.title(\"Distribuição das expectativas de vida nos continentes europeu e africano\", fontsize=17)"
      ],
      "execution_count": 38,
      "outputs": [
        {
          "output_type": "execute_result",
          "data": {
            "text/plain": [
              "Text(0.5, 1.0, 'Distribuição das expectativas de vida nos continentes europeu e africano')"
            ]
          },
          "metadata": {
            "tags": []
          },
          "execution_count": 38
        },
        {
          "output_type": "display_data",
          "data": {
            "image/png": "[encoded data removed]",
            "text/plain": [
              "<Figure size 432x288 with 1 Axes>"
            ]
          },
          "metadata": {
            "tags": []
          }
        }
      ]
    },
    {
      "cell_type": "markdown",
      "metadata": {
        "id": "n3_J7ZCyL4hu",
        "colab_type": "text"
      },
      "source": [
        "Além de interessante do ponto de vista estatístico, o gráfico acima é socialmente impactante e preocupante, tamanha a diferença nas distribuições."
      ]
    },
    {
      "cell_type": "markdown",
      "metadata": {
        "id": "W6vqWvF3L4hv",
        "colab_type": "text"
      },
      "source": [
        "### Boxplots e violin plots"
      ]
    },
    {
      "cell_type": "markdown",
      "metadata": {
        "colab_type": "text",
        "id": "mJEBFTkHCsKS"
      },
      "source": [
        "Outros tipos de gráfico úteis para análise de distribuições são obtidos pelos métodos `boxplot()` e `violinplot()` do `seaborn`. \n",
        "\n",
        "**Boxplot**: apresenta os quartis de uma série, representados por uma caixa - as extremidades são o primeiro e terceiro quartil, enquanto a divisória dentro da caixa é o segundo quartil. \n",
        "\n",
        "Esse tipo de gráfico também é conhecido como caixas e bigodes (box-and-whiskers), porque os elementos mínimo e máximo são representados pelos \"bigodes\" da caixa. \n",
        "\n",
        "Uma particularidade desse gráfico é que os elementos mínimo e máximo são calculados em função da distância entre o primeiro e o terceiro quartil. Assim, valores da série que extrapolem esses valores extremos são considerados outliers e aparecem no boxplot como pontos."
      ]
    },
    {
      "cell_type": "code",
      "metadata": {
        "colab_type": "code",
        "id": "poJYkdLgDTnJ",
        "colab": {
          "base_uri": "https://localhost:8080/",
          "height": 324
        },
        "outputId": "67dc90ec-d685-4b77-d25d-767dc1538817"
      },
      "source": [
        "sns.boxplot(x=\"lifeExp\", y=\"continent\", data=dados.sort_values(\"continent\"))\n",
        "plt.xlabel(\"Expectativa de vida\", fontsize=15)\n",
        "plt.ylabel(\"Continente\",fontsize=15)\n",
        "plt.title(\"Expectativa de vida por continente\", fontsize=17)"
      ],
      "execution_count": 37,
      "outputs": [
        {
          "output_type": "execute_result",
          "data": {
            "text/plain": [
              "Text(0.5, 1.0, 'Expectativa de vida por continente')"
            ]
          },
          "metadata": {
            "tags": []
          },
          "execution_count": 37
        },
        {
          "output_type": "display_data",
          "data": {
            "image/png": "[encoded data removed]",
            "text/plain": [
              "<Figure size 432x288 with 1 Axes>"
            ]
          },
          "metadata": {
            "tags": []
          }
        }
      ]
    },
    {
      "cell_type": "markdown",
      "metadata": {
        "colab_type": "text",
        "id": "zS8Nu9Bjn4Zd"
      },
      "source": [
        "Como podemos ver, a África é o continente com menor expectativa de vida em geral, enquanto a Ásia é o continente onde esse dado apresenta maior dispersão.\n",
        "\n",
        "Nos gráficos acima, é possível notar que existem muitos outliers.\n",
        "\n",
        "É interessante filtrar os dados e analisar a expectativa de vida por ano (por exemplo). \n",
        "\n",
        "O código abaixo produz um boxplot da expectativa de vida para o ano de 2007:"
      ]
    },
    {
      "cell_type": "code",
      "metadata": {
        "colab_type": "code",
        "id": "wnaTcyOjDZpQ",
        "colab": {
          "base_uri": "https://localhost:8080/",
          "height": 324
        },
        "outputId": "682d1724-000c-4e81-c9bc-a4ed796b4fbd"
      },
      "source": [
        "dados_2007 = dados.query(\"year == 2007\")\n",
        "sns.boxplot(x=\"lifeExp\", y=\"continent\", data=dados_2007.sort_values(\"continent\"))\n",
        "plt.xlabel(\"Expectativa de vida\", fontsize=15)\n",
        "plt.ylabel(\"Continente\",fontsize=15)\n",
        "plt.title(\"Expectativa de vida por continente (2007)\", fontsize=17)"
      ],
      "execution_count": 40,
      "outputs": [
        {
          "output_type": "execute_result",
          "data": {
            "text/plain": [
              "Text(0.5, 1.0, 'Expectativa de vida por continente (2007)')"
            ]
          },
          "metadata": {
            "tags": []
          },
          "execution_count": 40
        },
        {
          "output_type": "display_data",
          "data": {
            "image/png": "[encoded data removed]",
            "text/plain": [
              "<Figure size 432x288 with 1 Axes>"
            ]
          },
          "metadata": {
            "tags": []
          }
        }
      ]
    },
    {
      "cell_type": "markdown",
      "metadata": {
        "colab_type": "text",
        "id": "9dXYPSOKFofJ"
      },
      "source": [
        "Delimitando o ano da análise, vemos bem menos outliers.\n",
        "\n",
        "* **Violin plots**: combinam as informações presentes em um boxplot e em gráficos de densidade. Apesar de serem extremamente ricos em informação, são pouco difundidos na prática. "
      ]
    },
    {
      "cell_type": "code",
      "metadata": {
        "id": "UEuRQBBQL4h7",
        "colab_type": "code",
        "colab": {
          "base_uri": "https://localhost:8080/",
          "height": 433
        },
        "outputId": "05f8ed4f-e348-4869-c171-9585f230718b"
      },
      "source": [
        "plt.figure(figsize=(12,6))\n",
        "sns.violinplot(x=\"continent\", y=\"lifeExp\", data=dados_2007)\n",
        "plt.xlabel(\"Continente\", fontsize=15)\n",
        "plt.ylabel(\"Expectativa de vida\",fontsize=15)\n",
        "plt.title(\"Expectativa de vida por continente\", fontsize=17)"
      ],
      "execution_count": 42,
      "outputs": [
        {
          "output_type": "execute_result",
          "data": {
            "text/plain": [
              "Text(0.5, 1.0, 'Expectativa de vida por continente')"
            ]
          },
          "metadata": {
            "tags": []
          },
          "execution_count": 42
        },
        {
          "output_type": "display_data",
          "data": {
            "image/png": "[encoded data removed]",
            "text/plain": [
              "<Figure size 864x432 with 1 Axes>"
            ]
          },
          "metadata": {
            "tags": []
          }
        }
      ]
    },
    {
      "cell_type": "code",
      "metadata": {
        "id": "1fjTjtT3beQ-",
        "colab_type": "code",
        "colab": {}
      },
      "source": [
        ""
      ],
      "execution_count": 0,
      "outputs": []
    }
  ]
}