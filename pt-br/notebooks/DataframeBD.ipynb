{
  "nbformat": 4,
  "nbformat_minor": 0,
  "metadata": {
    "colab": {
      "name": "DataframeBD.ipynb",
      "provenance": [],
      "collapsed_sections": []
    },
    "kernelspec": {
      "display_name": "Python 3",
      "language": "python",
      "name": "python3"
    },
    "language_info": {
      "codemirror_mode": {
        "name": "ipython",
        "version": 3
      },
      "file_extension": ".py",
      "mimetype": "text/x-python",
      "name": "python",
      "nbconvert_exporter": "python",
      "pygments_lexer": "ipython3",
      "version": "3.6.8"
    }
  },
  "cells": [
    {
      "cell_type": "markdown",
      "metadata": {
        "colab_type": "text",
        "id": "E-vde5UCQRkQ"
      },
      "source": [
        "# Dataframes como bancos de dados"
      ]
    },
    {
      "cell_type": "markdown",
      "metadata": {
        "colab_type": "text",
        "id": "9He81AacH7Dk"
      },
      "source": [
        "Os dataframes do Pandas oferecem diferentes formas de consultar dados.\n",
        "\n",
        "Em alguns casos, essas consultas podem se tornar tão elaboradas como em bancos de dados tradicionais.\n",
        "\n",
        "Neste notebook, vamos ver como fazer consultas simples a um dataset carregado da internet.\n",
        "\n",
        "## Carregando dados da internet\n",
        "Há várias formas de se trabalhar com dados carregados da internet. \n",
        "\n",
        "Aqui, vamos baixar o dataset usando uma ferramenta Linux e carregá-lo no Pandas."
      ]
    },
    {
      "cell_type": "markdown",
      "metadata": {
        "colab_type": "text",
        "id": "MyR5JpdlW4Oq"
      },
      "source": [
        "### Baixando um dataset com `wget`\n",
        "\n",
        "A execução de um notebook no Colab é feita em um computador na infraestrutura da Google.\n",
        "\n",
        "Os computadores da Google usam o sistema operacional Linux e nós podemos aproveitar isso quando algum programa do Linux pode nos ajudar.\n",
        "\n",
        "Um exemplo é o programa ``wget``, que baixa a URL que informamos.\n",
        "\n",
        "Para rodar um programa Linux no Colab, temos que fazer isso pelas células de código, usando comandos do terminal Linux iniciados pelo símbolo ``!``\n",
        "\n",
        "Nesse caso, usei o ``wget`` para fazer o download de um dataset do portal de dados abertos da UFRN que contém os discentes ingressantes em 2019:"
      ]
    },
    {
      "cell_type": "code",
      "metadata": {
        "colab_type": "code",
        "id": "OxJWg_znp9sr",
        "colab": {}
      },
      "source": [
        "!wget http://dados.ufrn.br/dataset/554c2d41-cfce-4278-93c6-eb9aa49c5d16/resource/a55aef81-e094-4267-8643-f283524e3dd7/download/discentes-2019.csv"
      ],
      "execution_count": 0,
      "outputs": []
    },
    {
      "cell_type": "markdown",
      "metadata": {
        "colab_type": "text",
        "id": "uGNACj0msDF4"
      },
      "source": [
        "O arquivo ``discentes-2019.csv`` deve aparecer na lista de arquivos do lado esquerdo da tela.\n",
        "\n",
        "### Carregando o dataset\n",
        "\n",
        "Vamos carregar o arquivo como um dataframe do Pandas:"
      ]
    },
    {
      "cell_type": "code",
      "metadata": {
        "colab_type": "code",
        "id": "gwSjQx6bvTCM",
        "colab": {}
      },
      "source": [
        "import pandas as pd\n",
        "data = pd.read_csv('discentes-2019.csv', sep=';')\n",
        "data.head()"
      ],
      "execution_count": 0,
      "outputs": []
    },
    {
      "cell_type": "markdown",
      "metadata": {
        "colab_type": "text",
        "id": "cxMtfVo6sqgl"
      },
      "source": [
        "Caso você tenha tido alguma dúvida, vamos rever o código acima:\n",
        " - ```python\n",
        " import pandas as pd\n",
        " ```\n",
        " Importamos o Pandas e pedimos para chamá-lo de ``pd``\n",
        " ```python\n",
        "data = pd.read_csv('discentes-2019.csv', sep=';')\n",
        " ```\n",
        " - Como usamos um nome para o Pandas, todos os seus comandos serão localizados a partir desse nome (ex.: ``pd.read_csv()``)\n",
        " - Informamos o caracter que é usado no dataset como delimitador de características usando a opção ``sep=';'`` (normalmente o Pandas consegue detectar isso automaticamente, mas em datasets brasileiros é comum dar errado)\n",
        " ```python\n",
        " data.head()\n",
        " ```\n",
        " Visualizamos as primeiras observações do dataset com o método ``head()``\n"
      ]
    },
    {
      "cell_type": "markdown",
      "metadata": {
        "colab_type": "text",
        "id": "0bLccn8pwD8o"
      },
      "source": [
        "## Consultando um dataframe\n",
        "\n",
        "Bom, já temos nosso dataframe pronto para consultas.\n",
        "\n",
        "As formas mais simples de consulta são a **indexação** e o **fatiamento**.\n",
        "\n",
        "### Indexando um dataset\n",
        "\n",
        "Consultas em um dataframe Pandas são feitas a partir de **índices**.\n",
        "\n",
        "O índice principal em um dataframe é o das colunas, que representam as características:\n",
        "\n"
      ]
    },
    {
      "cell_type": "code",
      "metadata": {
        "colab_type": "code",
        "id": "EPanQZfunULU",
        "colab": {}
      },
      "source": [
        "data.columns"
      ],
      "execution_count": 0,
      "outputs": []
    },
    {
      "cell_type": "markdown",
      "metadata": {
        "colab_type": "text",
        "id": "Q99w62hIGwxo"
      },
      "source": [
        "A resposta do Pandas é um pouco verbosa (poluída), mas a parte que nos importa é a lista de nomes de colunas.\n",
        "\n",
        "Em Python, uma lista é representada pela notação `[elemento_1, elemento_2, ..., elemento_n]`:\n",
        "\n",
        "````python\n",
        "['matricula', 'nome_discente', 'sexo', 'ano_ingresso',\n",
        "'periodo_ingresso', 'forma_ingresso', 'tipo_discente', 'status',\n",
        "'sigla_nivel_ensino', 'nivel_ensino', 'id_curso', 'nome_curso',\n",
        "'modalidade_educacao', 'id_unidade', 'nome_unidade',\n",
        "'id_unidade_gestora', 'nome_unidade_gestora']\n",
        "````\n"
      ]
    },
    {
      "cell_type": "markdown",
      "metadata": {
        "colab_type": "text",
        "id": "QQkfJXoWHJ18"
      },
      "source": [
        "Isto significa que podemos acessar qualquer uma dessas colunas do dataframe usando as notações `data['nome_da_coluna']` e `data.nome_da_coluna`\n",
        "\n",
        "Como cada coluna é considerada uma série (objeto do tipo `Series`), podemos usar os métodos desse tipo:"
      ]
    },
    {
      "cell_type": "code",
      "metadata": {
        "colab_type": "code",
        "id": "PWnsq32eHJTB",
        "colab": {}
      },
      "source": [
        "data[\"nome_discente\"].head()"
      ],
      "execution_count": 0,
      "outputs": []
    },
    {
      "cell_type": "code",
      "metadata": {
        "colab_type": "code",
        "id": "PKFVIl4uJO_w",
        "colab": {}
      },
      "source": [
        "data.nome_unidade.tail()"
      ],
      "execution_count": 0,
      "outputs": []
    },
    {
      "cell_type": "markdown",
      "metadata": {
        "colab_type": "text",
        "id": "MuP5PPjsJY4p"
      },
      "source": [
        "Os dados em uma série também estão indexados. \n",
        "\n",
        "Podemos acessá-los individualmente usando a notação `série[número_da_linha]`:"
      ]
    },
    {
      "cell_type": "code",
      "metadata": {
        "colab_type": "code",
        "id": "kiTFTNURKj1y",
        "colab": {}
      },
      "source": [
        "nomes_discentes = data[\"nome_discente\"]\n",
        "nomes_discentes[0]"
      ],
      "execution_count": 0,
      "outputs": []
    },
    {
      "cell_type": "code",
      "metadata": {
        "colab_type": "code",
        "id": "FXpX4DS1LWCw",
        "colab": {}
      },
      "source": [
        "data[\"nome_discente\"][0]"
      ],
      "execution_count": 0,
      "outputs": []
    },
    {
      "cell_type": "code",
      "metadata": {
        "colab_type": "code",
        "id": "HcZGxZm1LiXQ",
        "colab": {}
      },
      "source": [
        "data.nome_unidade[0]"
      ],
      "execution_count": 0,
      "outputs": []
    },
    {
      "cell_type": "markdown",
      "metadata": {
        "colab_type": "text",
        "id": "Zd8LWkveyWBv"
      },
      "source": [
        "Também é possível acessar diretamente os dados usando os métodos `loc` e `iloc`:\n",
        "- Se referindo às colunas pelos seus nomes, usando a notação `data.loc[linha, nome_coluna]`\n",
        ":"
      ]
    },
    {
      "cell_type": "code",
      "metadata": {
        "colab_type": "code",
        "id": "WgePGZkWNOU1",
        "colab": {}
      },
      "source": [
        "data.loc[0, \"nome_discente\"]"
      ],
      "execution_count": 0,
      "outputs": []
    },
    {
      "cell_type": "markdown",
      "metadata": {
        "colab_type": "text",
        "id": "mWl7e570OUP0"
      },
      "source": [
        "- Se referindo às colunas pela sua posição no índice de colunas, usando a notação `data.iloc[linha, índice_coluna]`"
      ]
    },
    {
      "cell_type": "code",
      "metadata": {
        "colab_type": "code",
        "id": "T7Gq23b2Nohl",
        "colab": {}
      },
      "source": [
        "data.iloc[0, 1]"
      ],
      "execution_count": 0,
      "outputs": []
    },
    {
      "cell_type": "markdown",
      "metadata": {
        "colab_type": "text",
        "id": "BcDrpBu1Ph04"
      },
      "source": [
        "Note que os índices são contados a partir do número 0. Como `\"nome_discente\"` é a segunda coluna, usamos o índice 1 para acessá-la.\n",
        "\n",
        "Os métodos `loc` e `iloc` também aceitam que você informe uma lista de índices."
      ]
    },
    {
      "cell_type": "code",
      "metadata": {
        "colab_type": "code",
        "id": "7QUL-EOQQn2o",
        "colab": {}
      },
      "source": [
        "data.loc[0, [\"nome_discente\",\"nome_curso\"]]"
      ],
      "execution_count": 0,
      "outputs": []
    },
    {
      "cell_type": "code",
      "metadata": {
        "colab_type": "code",
        "id": "p8oN5MMZRBwi",
        "colab": {}
      },
      "source": [
        "data.iloc[[1,3,7], 1]"
      ],
      "execution_count": 0,
      "outputs": []
    },
    {
      "cell_type": "markdown",
      "metadata": {
        "colab_type": "text",
        "id": "ogHt3AlMRG5i"
      },
      "source": [
        "**Observação:** Para quem conhece um pouco mais sobre Python, os métodos `loc` e `iloc` aceitam qualquer tipo iterável."
      ]
    },
    {
      "cell_type": "markdown",
      "metadata": {
        "colab_type": "text",
        "id": "hjtzZhzlP-ku"
      },
      "source": [
        "### Fatiando um dataset"
      ]
    },
    {
      "cell_type": "markdown",
      "metadata": {
        "colab_type": "text",
        "id": "iN1qf9NgNpVN"
      },
      "source": [
        "Na maioria das vezes, nosso interesse é em um bloco contíguo de linhas e/ou colunas.\n",
        "\n",
        "Isso pode ser feito através de operações de fatiamento:\n",
        "- Por linhas, usando a notação `data.loc[linha_início:linha_fim, nome_coluna]`:"
      ]
    },
    {
      "cell_type": "code",
      "metadata": {
        "colab_type": "code",
        "id": "AJPtTJxqDmTD",
        "colab": {}
      },
      "source": [
        "data.loc[0:500,'nome_discente']"
      ],
      "execution_count": 0,
      "outputs": []
    },
    {
      "cell_type": "markdown",
      "metadata": {
        "colab_type": "text",
        "id": "tETV_5sCOcoQ"
      },
      "source": [
        "* Por linhas e colunas, usando a notação `data.loc[linha_início:linha_fim, coluna_início:coluna_fim]`:"
      ]
    },
    {
      "cell_type": "code",
      "metadata": {
        "colab_type": "code",
        "id": "X716AoGBDvcN",
        "colab": {}
      },
      "source": [
        "data.iloc[0:5, 5:8]"
      ],
      "execution_count": 0,
      "outputs": []
    },
    {
      "cell_type": "markdown",
      "metadata": {
        "colab_type": "text",
        "id": "PqlltwoMOqsv"
      },
      "source": [
        "É importante observar que operações de fatiamento em Python costumam incluir o elemento referido pelo primeiro índice, mas não o elemento referido pelo segundo índice.\n",
        "\n",
        "Assim, no exemplo `data.iloc[0:5, 5:8]` temos 5 linhas e 3 colunas sendo retornadas.\n",
        "\n",
        "O método `loc` foge a esse padrão, incluindo também a linha referida pelo segundo índice.\n",
        "\n",
        "Por isso, o exemplo `data.loc[0:500,'nome_discente']` retorna 501 linhas.\n",
        "\n",
        "Isso acontece porque no método `loc`, é possível fatiar o dataframe também por colunas. Neste caso, faz sentido que a segunda referência seja inclusa:"
      ]
    },
    {
      "cell_type": "code",
      "metadata": {
        "colab_type": "code",
        "id": "xt4OTMXsPGrH",
        "colab": {}
      },
      "source": [
        "data.loc[0:500, 'nome_discente':'ano_ingresso']"
      ],
      "execution_count": 0,
      "outputs": []
    },
    {
      "cell_type": "markdown",
      "metadata": {
        "colab_type": "text",
        "id": "zK2I__X1VaCz"
      },
      "source": [
        "## Consultas como em bancos de dados"
      ]
    },
    {
      "cell_type": "markdown",
      "metadata": {
        "colab_type": "text",
        "id": "7nGWbGXrVdUz"
      },
      "source": [
        "As operações de indexação e fatiamento são inerentes à linguagem Python e por isso são implementadas pelo Pandas.\n",
        "\n",
        "Em parte, elas ajudam a operacionalizar a **seleção** e a **projeção** comuns em bancos de dados:\n",
        "- **Seleção**: escolher um subconjunto de observações\n",
        "- **Projeção**: escolher um subconjunto de características\n",
        "\n",
        "Os dataframes do Pandas fornecem mais métodos para estes tipos de consulta."
      ]
    },
    {
      "cell_type": "markdown",
      "metadata": {
        "colab_type": "text",
        "id": "Yr8LpSswZ_HV"
      },
      "source": [
        "#### Pesquisando pelo nome das características\n",
        "\n",
        "O método **filter()** escolhe um subconjunto de características baseado em seu nome:"
      ]
    },
    {
      "cell_type": "code",
      "metadata": {
        "colab_type": "code",
        "id": "FzTKAWMsd_U4",
        "colab": {}
      },
      "source": [
        "data.filter(like='ingresso')"
      ],
      "execution_count": 0,
      "outputs": []
    },
    {
      "cell_type": "markdown",
      "metadata": {
        "colab_type": "text",
        "id": "Vn1YdnXPXOjC"
      },
      "source": [
        "O resultado do método **filter** é um novo `DataFrame` que pode ser associado a um novo nome:"
      ]
    },
    {
      "cell_type": "code",
      "metadata": {
        "colab_type": "code",
        "id": "cdBjaM_RXawY",
        "colab": {}
      },
      "source": [
        "data_ingresso = data.filter(like='ingresso')\n",
        "data_ingresso.head()"
      ],
      "execution_count": 0,
      "outputs": []
    },
    {
      "cell_type": "markdown",
      "metadata": {
        "colab_type": "text",
        "id": "I0fb6cKPL-wL"
      },
      "source": [
        "### Pesquisando por condições\n",
        "\n",
        "Uma outra maneira de filtrar pelos valores das colunas é através de **condições**.\n",
        "\n",
        "Para isso, usamos o método `query('condição')`, onde `condição` é uma expressão lógica do Python.\n",
        "\n",
        "Por exemplo, vamos escolher apenas as observações cuja **forma_ingresso** tenha valor **REINGRESSO SEGUNDO CICLO**:"
      ]
    },
    {
      "cell_type": "code",
      "metadata": {
        "colab_type": "code",
        "id": "q0oc1e_PCDii",
        "colab": {}
      },
      "source": [
        "data.query(\"forma_ingresso == 'REINGRESSO SEGUNDO CICLO'\")"
      ],
      "execution_count": 0,
      "outputs": []
    },
    {
      "cell_type": "markdown",
      "metadata": {
        "colab_type": "text",
        "id": "OY0VDG5_jiQv"
      },
      "source": [
        "Vamos discutir o exemplo acima:\n",
        "* `forma_ingresso` é uma `Series` (coluna) do `DataFrame` que chamamos de `data` \n",
        "* Comparamos cada valor nesta série com o valor `'REINGRESSO SEGUNDO CICLO'` usando o operador de igualdade `==`\n",
        "```python\n",
        "data.query(\"forma_ingresso == 'REINGRESSO SEGUNDO CICLO'\")\n",
        "```\n",
        "Escolhemos apenas as observações que satisfazem essa condição\n",
        "\n",
        "Note que podemos usar nomes tanto para referência ao `DataFrame` retornado:"
      ]
    },
    {
      "cell_type": "code",
      "metadata": {
        "colab_type": "code",
        "id": "0mwwuJ7Xkd2g",
        "colab": {}
      },
      "source": [
        "data_segundo_ciclo = data.query(\"forma_ingresso == 'REINGRESSO SEGUNDO CICLO'\")\n",
        "data_segundo_ciclo.head()"
      ],
      "execution_count": 0,
      "outputs": []
    },
    {
      "cell_type": "markdown",
      "metadata": {
        "colab_type": "text",
        "id": "l5S3EdmLp1F8"
      },
      "source": [
        "#### Condições e operadores de comparação\n",
        "\n",
        "No exemplo acima, usamos o operador de igualdade. \n",
        "\n",
        "Note que é diferente usar `==` (comparação de igualdade) e `=` (associação de nome a objeto).\n",
        "\n",
        "O Python oferece mais operadores de comparação:\n",
        "\n",
        "| Símbolo | Significado |\n",
        "|:----:|---|\n",
        "| == | Igualdade |\n",
        "| !=  | Diferença |\n",
        "| < | Menor |\n",
        "| > | Maior |\n",
        "| <=  | Menor ou igual |\n",
        "| >=  | Maior ou igual |\n",
        "\n",
        "Também é importante observar que os operadores menor/maior (ou igual) costumam ser aplicados a dados numéricos.\n",
        "\n",
        "Para dados nominais, podemos usar o operador `in`.\n",
        "\n",
        "Vamos dar uma olhada nos valores existentes para a característica `\"status\"` usando o método `unique()`:"
      ]
    },
    {
      "cell_type": "code",
      "metadata": {
        "colab_type": "code",
        "id": "EA9ORMrg1yS2",
        "colab": {}
      },
      "source": [
        "data['status'].unique()"
      ],
      "execution_count": 0,
      "outputs": []
    },
    {
      "cell_type": "markdown",
      "metadata": {
        "colab_type": "text",
        "id": "6Y7Z7ngK12aq"
      },
      "source": [
        "Novamente temos um resultado verboso, mas nos interessa a lista de valores:\n",
        "\n",
        "```python3\n",
        "['ATIVO', 'CANCELADO', 'CADASTRADO', 'TRANCADO', 'ATIVO - FORMANDO',\n",
        "       'CONCLUÍDO', 'DEFENDIDO']\n",
        "````"
      ]
    },
    {
      "cell_type": "markdown",
      "metadata": {
        "colab_type": "text",
        "id": "TQdwp3y32AaC"
      },
      "source": [
        "Vamos escolher apenas as observações cujo status seja \"CANCELADO\" ou \"TRANCADO\":"
      ]
    },
    {
      "cell_type": "code",
      "metadata": {
        "colab_type": "code",
        "id": "qh-TQoNbsXNC",
        "colab": {}
      },
      "source": [
        "status_desejados = [\"CANCELADO\", \"TRANCADO\"]\n",
        "data_cancelado_trancado = data.query(f\"status in {status_desejados}\")\n",
        "data_cancelado_trancado.tail()"
      ],
      "execution_count": 0,
      "outputs": []
    },
    {
      "cell_type": "markdown",
      "metadata": {
        "id": "mMabVSaXE0Rp",
        "colab_type": "text"
      },
      "source": [
        "Vamos discutir o exemplo acima:\n",
        "* `status_desejados` é uma lista com os status que desejamos filtrar \n",
        "* Filtramos o dataframe `data` indicando que queremos apenas as observações cujo status esteja especificada na lista `status_desejados`\n",
        "```python\n",
        "data.query(f\"status in {status_desejados}\")\n",
        "```\n",
        "Note que usamos um recurso do Python chamado `f-strings`, que permitem converter em texto objetos especificados entre chaves (uma `f-string` sempre começa com um `f` antes das aspas)."
      ]
    },
    {
      "cell_type": "markdown",
      "metadata": {
        "colab_type": "text",
        "id": "FLLC_2stfihh"
      },
      "source": [
        "#### Condições e operadores lógicos\n",
        "Podemos também usar condições mais complexas, usando **operadores lógicos**.\n",
        "\n",
        "Vamos restringir um pouco mais a consulta acima para que, além de **forma_ingresso** ter valor **REINGRESSO SEGUNDO CICLO**, **nome_curso** tenha valor **ENGENHARIA DE SOFTWARE**:"
      ]
    },
    {
      "cell_type": "code",
      "metadata": {
        "colab_type": "code",
        "id": "y25iRIQnldzG",
        "colab": {}
      },
      "source": [
        "condição_segundo_ciclo = \"forma_ingresso == 'REINGRESSO SEGUNDO CICLO'\"\n",
        "condição_engenharia_software = \"nome_curso == 'ENGENHARIA DE SOFTWARE'\"\n",
        "data_2ciclo_engsoft = data.query(f\"{condição_segundo_ciclo} and {condição_engenharia_software}\")\n",
        "data_2ciclo_engsoft.head()"
      ],
      "execution_count": 0,
      "outputs": []
    },
    {
      "cell_type": "markdown",
      "metadata": {
        "colab_type": "text",
        "id": "6gBoCgGdl33r"
      },
      "source": [
        "Revendo o código acima:\n",
        "* ```python\n",
        "condição_segundo_ciclo = \"forma_ingresso == 'REINGRESSO SEGUNDO CICLO'\"\n",
        "````\n",
        "Condição para escolher apenas os ingressantes através de reingresso de segundo ciclo\n",
        "```python\n",
        "condição_engenharia_software = \"nome_curso == 'ENGENHARIA DE SOFTWARE'\"\n",
        "```\n",
        "Condição para escolher apenas os ingressantes do curso de engenharia de software\n",
        "```python\n",
        "data_2ciclo_engsoft = data.query(f\"{condição_segundo_ciclo} and {condição_engenharia_software}\")\n",
        "```\n",
        "Combinando as duas condições através do operador `and`."
      ]
    },
    {
      "cell_type": "markdown",
      "metadata": {
        "colab_type": "text",
        "id": "_-dAt2lgodAi"
      },
      "source": [
        "#### Outros operadores lógicos\n",
        "\n",
        "Além do operador `and`, o Pandas também disponibiliza o operador `or`.\n",
        "\n",
        "Enquanto o operador `and` escolhe a linha apenas se as duas condições forem verdadeiras, para o operador `or` basta que uma das condições seja satisfeita.\n",
        "\n",
        "Seguindo essa definição, o que o exemplo abaixo faz?"
      ]
    },
    {
      "cell_type": "code",
      "metadata": {
        "colab_type": "code",
        "id": "C8yVonNefiqB",
        "colab": {}
      },
      "source": [
        "condição_segundo_ciclo = \"forma_ingresso == 'REINGRESSO SEGUNDO CICLO'\"\n",
        "condição_engenharia_software = \"nome_curso == 'ENGENHARIA DE SOFTWARE'\"\n",
        "condição_ciência_computação = \"nome_curso == 'CIÊNCIA DA COMPUTAÇÃO'\"\n",
        "condição_dimap = f\"{condição_ciência_computação} or {condição_engenharia_software}\"\n",
        "data_2ciclo_dimap = data.query(f\"{condição_segundo_ciclo} and {condição_dimap}\")\n",
        "data_2ciclo_dimap.head()"
      ],
      "execution_count": 0,
      "outputs": []
    },
    {
      "cell_type": "markdown",
      "metadata": {
        "colab_type": "text",
        "id": "lYIp5ZOcomNe"
      },
      "source": [
        "Revendo o código acima:\n",
        "* ```python\n",
        "condição_segundo_ciclo = \"forma_ingresso == 'REINGRESSO SEGUNDO CICLO'\"\n",
        "````\n",
        "Condição para escolher apenas os ingressantes através de reingresso de segundo ciclo\n",
        "```python\n",
        "condição_engenharia_software = \"nome_curso == 'ENGENHARIA DE SOFTWARE'\"\n",
        "```\n",
        "Condição para escolher apenas os ingressantes do curso de engenharia de software\n",
        "```python\n",
        "condição_ciência_computação = \"nome_curso == 'CIÊNCIA DA COMPUTAÇÃO'\"\n",
        "```\n",
        "Condição para escolher apenas os ingressantes do curso de ciência da computação\n",
        "```python\n",
        "condição_dimap = f\"{condição_ciência_computação} or {condição_engenharia_software}\"\n",
        "```\n",
        "Combinando as duas condições através do operador `or`\n",
        "```python\n",
        "data_2ciclo_dimap = data.query(f\"{condição_segundo_ciclo} and {condição_dimap}\")\n",
        "```\n",
        "Combinando as duas condições através do operador `and`\n",
        "\n",
        "Note que usamos o operador `or` quando poderíamos ter usado o operador `in`, que é mais legível.\n",
        "\n",
        "Em geral, adotamos o operador `or` quando as condições envolvem características distintas, em vez de valores distintos para uma mesma característica.\n",
        "\n",
        "Por último, o operador `not` serve para inverter uma condição:"
      ]
    },
    {
      "cell_type": "code",
      "metadata": {
        "colab_type": "code",
        "id": "VM2AENbdpel7",
        "colab": {}
      },
      "source": [
        "data_ingresso_direto = data.query(f\"not {condição_segundo_ciclo}\")\n",
        "data_ingresso_direto.head()"
      ],
      "execution_count": 0,
      "outputs": []
    },
    {
      "cell_type": "markdown",
      "metadata": {
        "colab_type": "text",
        "id": "N4ij0OwfuPUu"
      },
      "source": [
        "* **Observação**: expressões lógicas complexas merecem uma pesquisa específica sobre o assunto. Cobrir esse tópico em profundidade foge do escopo deste notebook 🙃"
      ]
    }
  ]
}