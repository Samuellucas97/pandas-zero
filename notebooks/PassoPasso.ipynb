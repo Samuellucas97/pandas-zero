{
  "nbformat": 4,
  "nbformat_minor": 0,
  "metadata": {
    "colab": {
      "name": "pandas-passo_a_passo.ipynb",
      "provenance": [],
      "collapsed_sections": [],
      "toc_visible": true
    },
    "kernelspec": {
      "name": "python3",
      "display_name": "Python 3"
    }
  },
  "cells": [
    {
      "cell_type": "markdown",
      "metadata": {
        "id": "7FAHc8hEbt26",
        "colab_type": "text"
      },
      "source": [
        "# **Primeiros passos com pandas para análise de dados**\n",
        "\n",
        "Nesse tutorial vamos utilizar a linguagem python e a biblioteca pandas para analisar dados tabulares, que são qualquer conjunto de informações armazenado\n",
        "na forma de tabelas, onde:\n",
        "\n",
        "- **colunas** indicam **características** ou atributos dos dados.\n",
        "- **Linhas** representam **registros** ou observações sobre os dados.\n",
        "\n",
        "Vamos aplicar o pandas a um conjunto de dados sobre preços de combustíveis no Brasil, disponível [aqui](https://www.kaggle.com/ficosta/combustible-price-brasil/download), aprendendo como ler dados no formato .csv (valores separados por vírgulas), um dos formatos mais comuns de dados tabulares. Em seguida vamos explorar os dados para aprender sobre eles e descobrir que informações eles podem nos fornecer.\n",
        "\n",
        "Baixe o arquivo .zip no link fornecido e descompacte em uma pasta do seu computador e coloque o arquivo no seu Google Drive. Em seguida, execute a célula abaixo e siga as instruções para ter acesso aos seus arquivos do Drive por esse colab.  \n"
      ]
    },
    {
      "cell_type": "code",
      "metadata": {
        "id": "qC3CAEgXP-Bb",
        "colab_type": "code",
        "outputId": "1bd09ed7-1bce-495c-b4c4-944f51cc93cc",
        "colab": {
          "base_uri": "https://localhost:8080/",
          "height": 122
        }
      },
      "source": [
        "from google.colab import drive\n",
        "drive.mount('/content/drive')"
      ],
      "execution_count": 0,
      "outputs": [
        {
          "output_type": "stream",
          "text": [
            "Go to this URL in a browser: https://accounts.google.com/o/oauth2/auth?client_id=947318989803-6bn6qk8qdgf4n4g3pfee6491hc0brc4i.apps.googleusercontent.com&redirect_uri=urn%3Aietf%3Awg%3Aoauth%3A2.0%3Aoob&scope=email%20https%3A%2F%2Fwww.googleapis.com%2Fauth%2Fdocs.test%20https%3A%2F%2Fwww.googleapis.com%2Fauth%2Fdrive%20https%3A%2F%2Fwww.googleapis.com%2Fauth%2Fdrive.photos.readonly%20https%3A%2F%2Fwww.googleapis.com%2Fauth%2Fpeopleapi.readonly&response_type=code\n",
            "\n",
            "Enter your authorization code:\n",
            "··········\n",
            "Mounted at /content/drive\n"
          ],
          "name": "stdout"
        }
      ]
    },
    {
      "cell_type": "markdown",
      "metadata": {
        "id": "fGnAcspOfQiB",
        "colab_type": "text"
      },
      "source": [
        "# 1 - Importando o pandas\n",
        "\n",
        "Primeiro devemos importar alguns recursos do pacote pandas para o ambiente de análise Colab. Para importar um recurso em python, devemos informar a biblioteca de onde vamos importar e quais recursos precisaremos. Neste exemplo valos importar o recurso *read_csv*, para ler arquivos de dados tabulares do tipo csv. "
      ]
    },
    {
      "cell_type": "markdown",
      "metadata": {
        "id": "uV4yHsVrKGcU",
        "colab_type": "text"
      },
      "source": [
        "Ex. 1 - Descomente o código abaixo (apague o \\#) e aperte o play no lado esquerdo da linha (ou utilize ***shift + enter***)."
      ]
    },
    {
      "cell_type": "code",
      "metadata": {
        "id": "IY-aXrzOfJkU",
        "colab_type": "code",
        "colab": {}
      },
      "source": [
        "from pandas import read_csv"
      ],
      "execution_count": 0,
      "outputs": []
    },
    {
      "cell_type": "code",
      "metadata": {
        "id": "zBcyclAR-gqA",
        "colab_type": "code",
        "colab": {}
      },
      "source": [
        ""
      ],
      "execution_count": 0,
      "outputs": []
    },
    {
      "cell_type": "markdown",
      "metadata": {
        "id": "lVh_Fcao2vGq",
        "colab_type": "text"
      },
      "source": [
        "# 2 - Lendo um arquivo csv\n"
      ]
    },
    {
      "cell_type": "markdown",
      "metadata": {
        "id": "W1gxzWI74jMw",
        "colab_type": "text"
      },
      "source": [
        "Com o arquivo csv pronto, precisamos acessá-lo pelo colab. Primeiro, defina um nome para o conjunto de dados (por exemplo, *dados*). a função ***read_csv()*** será usada para ler o arquivo, da seguinte maneira:\n",
        "\n",
        "```\n",
        "dados = read_csv('/caminho/do/arquivo.csv)\n",
        "```\n",
        "No exemplo acima, o nome *dados* representa um objeto do pandas. Falaremos desse objeto adiante.\n",
        "\n",
        "Obs.: Para obter o caminho do arquivo no diretório do colab, navegue até o seu arquivo através das pastas mostradas no painel lateral esquerdo deste colab, clique com o botão direito sobre o arquivo e em seguida em ***copiar caminho***.\n",
        "\n"
      ]
    },
    {
      "cell_type": "markdown",
      "metadata": {
        "id": "aswBfMut9At3",
        "colab_type": "text"
      },
      "source": [
        "Ex. 2.1: Crie um nome para o conjunto de dados e leia arquivo usando *read_csv*."
      ]
    },
    {
      "cell_type": "code",
      "metadata": {
        "id": "PF1KC8RvfjyR",
        "colab_type": "code",
        "colab": {}
      },
      "source": [
        "dados = read_csv('/content/drive/My Drive/AULAS/MINERAÇÃO DE DADOS/SEMANAL_BRASIL-DESDE_2013.csv')"
      ],
      "execution_count": 0,
      "outputs": []
    },
    {
      "cell_type": "markdown",
      "metadata": {
        "id": "0YgumbZR9sjr",
        "colab_type": "text"
      },
      "source": [
        "# 3 - Explorando os dados"
      ]
    },
    {
      "cell_type": "markdown",
      "metadata": {
        "id": "GwanfJ3c_AHl",
        "colab_type": "text"
      },
      "source": [
        "Depois de ler os dados, precisamos descobrir quais são os **atributos** presentes e quantos **registros** existem. O pandas possui várias funções e métodos que podemos aplicar a um conjunto de dados a fim de conseguir mais informações sobre ele. Para descobrir quantos registros e atributos existem, use o método ***shape*** nos dados lidos do arquivo csv. No exemplo anterior, você criou um objeto pandas de nome *dados*. Em python, usamos métodos em objetos pandas da seguinte forma:\n",
        "\n",
        "\n",
        "```\n",
        "dados.nome_do_método\n",
        "```\n",
        "\n"
      ]
    },
    {
      "cell_type": "markdown",
      "metadata": {
        "id": "jZ4o4uOWWprd",
        "colab_type": "text"
      },
      "source": [
        "Ex. 3.1: Encontre a quantidade de registros e atributos (linhas, colunas) do conjunto de dados com o método ***shape***."
      ]
    },
    {
      "cell_type": "code",
      "metadata": {
        "id": "ViMCY5RKuMTT",
        "colab_type": "code",
        "outputId": "516d2f44-415e-483e-e2d2-808254c83c2d",
        "colab": {
          "base_uri": "https://localhost:8080/",
          "height": 34
        }
      },
      "source": [
        "dados.shape"
      ],
      "execution_count": 0,
      "outputs": [
        {
          "output_type": "execute_result",
          "data": {
            "text/plain": [
              "(1824, 16)"
            ]
          },
          "metadata": {
            "tags": []
          },
          "execution_count": 5
        }
      ]
    },
    {
      "cell_type": "markdown",
      "metadata": {
        "id": "H988_L2yH7r7",
        "colab_type": "text"
      },
      "source": [
        "É possível visualizar as primeiras linhas de um conjunto de dados em pandas utilizando a função ***head()***. Em python, utilizamos funções e métodos da mesma forma, com a diferença que funções utilizam parênteses **(** **)** no fim."
      ]
    },
    {
      "cell_type": "markdown",
      "metadata": {
        "id": "xgjTC1-xJht7",
        "colab_type": "text"
      },
      "source": [
        "Ex. 3.2: Com a função ***head()***, mostre as primeiras linhas do conjunto de dados. A quantidade de colunas mostrada é a mesma indicada pelo método ***shape***?"
      ]
    },
    {
      "cell_type": "code",
      "metadata": {
        "id": "cXwBku3IuONg",
        "colab_type": "code",
        "outputId": "3af28d8c-1bac-4dc4-fccd-fd8657d90f4f",
        "colab": {
          "base_uri": "https://localhost:8080/",
          "height": 199
        }
      },
      "source": [
        "dados.head(2)"
      ],
      "execution_count": 0,
      "outputs": [
        {
          "output_type": "execute_result",
          "data": {
            "text/html": [
              "<div>\n",
              "<style scoped>\n",
              "    .dataframe tbody tr th:only-of-type {\n",
              "        vertical-align: middle;\n",
              "    }\n",
              "\n",
              "    .dataframe tbody tr th {\n",
              "        vertical-align: top;\n",
              "    }\n",
              "\n",
              "    .dataframe thead th {\n",
              "        text-align: right;\n",
              "    }\n",
              "</style>\n",
              "<table border=\"1\" class=\"dataframe\">\n",
              "  <thead>\n",
              "    <tr style=\"text-align: right;\">\n",
              "      <th></th>\n",
              "      <th>DATA INICIAL</th>\n",
              "      <th>DATA FINAL</th>\n",
              "      <th>PRODUTO</th>\n",
              "      <th>NÚMERO DE POSTOS PESQUISADOS</th>\n",
              "      <th>UNIDADE DE MEDIDA</th>\n",
              "      <th>PREÇO MÉDIO REVENDA</th>\n",
              "      <th>DESVIO PADRÃO REVENDA</th>\n",
              "      <th>PREÇO MÍNIMO REVENDA</th>\n",
              "      <th>PREÇO MÁXIMO REVENDA</th>\n",
              "      <th>MARGEM MÉDIA REVENDA</th>\n",
              "      <th>COEF DE VARIAÇÃO REVENDA</th>\n",
              "      <th>PREÇO MÉDIO DISTRIBUIÇÃO</th>\n",
              "      <th>DESVIO PADRÃO DISTRIBUIÇÃO</th>\n",
              "      <th>PREÇO MÍNIMO DISTRIBUIÇÃO</th>\n",
              "      <th>PREÇO MÁXIMO DISTRIBUIÇÃO</th>\n",
              "      <th>COEF DE VARIAÇÃO DISTRIBUIÇÃO</th>\n",
              "    </tr>\n",
              "  </thead>\n",
              "  <tbody>\n",
              "    <tr>\n",
              "      <th>0</th>\n",
              "      <td>12/30/12</td>\n",
              "      <td>1/5/13</td>\n",
              "      <td>ETANOL HIDRATADO</td>\n",
              "      <td>8173</td>\n",
              "      <td>R$/l</td>\n",
              "      <td>1,948</td>\n",
              "      <td>0,244</td>\n",
              "      <td>1,479</td>\n",
              "      <td>3,000</td>\n",
              "      <td>0,262</td>\n",
              "      <td>0,125</td>\n",
              "      <td>1,686</td>\n",
              "      <td>0,219</td>\n",
              "      <td>1,300</td>\n",
              "      <td>2,363</td>\n",
              "      <td>0,130</td>\n",
              "    </tr>\n",
              "    <tr>\n",
              "      <th>1</th>\n",
              "      <td>12/30/12</td>\n",
              "      <td>1/5/13</td>\n",
              "      <td>ÓLEO DIESEL</td>\n",
              "      <td>6813</td>\n",
              "      <td>R$/l</td>\n",
              "      <td>2,153</td>\n",
              "      <td>0,114</td>\n",
              "      <td>1,869</td>\n",
              "      <td>2,950</td>\n",
              "      <td>0,226</td>\n",
              "      <td>0,053</td>\n",
              "      <td>1,927</td>\n",
              "      <td>0,082</td>\n",
              "      <td>1,728</td>\n",
              "      <td>2,570</td>\n",
              "      <td>0,043</td>\n",
              "    </tr>\n",
              "  </tbody>\n",
              "</table>\n",
              "</div>"
            ],
            "text/plain": [
              "  DATA INICIAL  ... COEF DE VARIAÇÃO DISTRIBUIÇÃO\n",
              "0     12/30/12  ...                         0,130\n",
              "1     12/30/12  ...                         0,043\n",
              "\n",
              "[2 rows x 16 columns]"
            ]
          },
          "metadata": {
            "tags": []
          },
          "execution_count": 6
        }
      ]
    },
    {
      "cell_type": "markdown",
      "metadata": {
        "id": "dzm4Q-VrndUi",
        "colab_type": "text"
      },
      "source": [
        "\n",
        "Para visualizar as últimas linhas dos dados, basta utilizar a função ***tail()*** do pandas. Perceba que no Ex. 3.2, a primeira linha possui índice **0** (zero). Assim, o índice da última linha da tabela será igual ao número de linhas da tabela menos 1."
      ]
    },
    {
      "cell_type": "markdown",
      "metadata": {
        "id": "r59tWWe6oK4c",
        "colab_type": "text"
      },
      "source": [
        "Ex. 3.3 - Utilize a função ***tail()*** para visualizar as últimas linhas dos dados."
      ]
    },
    {
      "cell_type": "code",
      "metadata": {
        "id": "ZtPdbwTD4B1y",
        "colab_type": "code",
        "outputId": "28f8fe3d-3599-4905-ef35-a361ff3f397e",
        "colab": {
          "base_uri": "https://localhost:8080/",
          "height": 326
        }
      },
      "source": [
        "dados.tail()"
      ],
      "execution_count": 0,
      "outputs": [
        {
          "output_type": "execute_result",
          "data": {
            "text/html": [
              "<div>\n",
              "<style scoped>\n",
              "    .dataframe tbody tr th:only-of-type {\n",
              "        vertical-align: middle;\n",
              "    }\n",
              "\n",
              "    .dataframe tbody tr th {\n",
              "        vertical-align: top;\n",
              "    }\n",
              "\n",
              "    .dataframe thead th {\n",
              "        text-align: right;\n",
              "    }\n",
              "</style>\n",
              "<table border=\"1\" class=\"dataframe\">\n",
              "  <thead>\n",
              "    <tr style=\"text-align: right;\">\n",
              "      <th></th>\n",
              "      <th>DATA INICIAL</th>\n",
              "      <th>DATA FINAL</th>\n",
              "      <th>PRODUTO</th>\n",
              "      <th>NÚMERO DE POSTOS PESQUISADOS</th>\n",
              "      <th>UNIDADE DE MEDIDA</th>\n",
              "      <th>PREÇO MÉDIO REVENDA</th>\n",
              "      <th>DESVIO PADRÃO REVENDA</th>\n",
              "      <th>PREÇO MÍNIMO REVENDA</th>\n",
              "      <th>PREÇO MÁXIMO REVENDA</th>\n",
              "      <th>MARGEM MÉDIA REVENDA</th>\n",
              "      <th>COEF DE VARIAÇÃO REVENDA</th>\n",
              "      <th>PREÇO MÉDIO DISTRIBUIÇÃO</th>\n",
              "      <th>DESVIO PADRÃO DISTRIBUIÇÃO</th>\n",
              "      <th>PREÇO MÍNIMO DISTRIBUIÇÃO</th>\n",
              "      <th>PREÇO MÁXIMO DISTRIBUIÇÃO</th>\n",
              "      <th>COEF DE VARIAÇÃO DISTRIBUIÇÃO</th>\n",
              "    </tr>\n",
              "  </thead>\n",
              "  <tbody>\n",
              "    <tr>\n",
              "      <th>1819</th>\n",
              "      <td>10/28/18</td>\n",
              "      <td>11/3/18</td>\n",
              "      <td>ÓLEO DIESEL</td>\n",
              "      <td>3096</td>\n",
              "      <td>R$/l</td>\n",
              "      <td>3,719</td>\n",
              "      <td>0,201</td>\n",
              "      <td>3,239</td>\n",
              "      <td>4,950</td>\n",
              "      <td>0,342</td>\n",
              "      <td>0,054</td>\n",
              "      <td>3,377</td>\n",
              "      <td>0,154</td>\n",
              "      <td>2,946</td>\n",
              "      <td>4,073</td>\n",
              "      <td>0,046</td>\n",
              "    </tr>\n",
              "    <tr>\n",
              "      <th>1820</th>\n",
              "      <td>10/28/18</td>\n",
              "      <td>11/3/18</td>\n",
              "      <td>ÓLEO DIESEL S10</td>\n",
              "      <td>4641</td>\n",
              "      <td>R$/l</td>\n",
              "      <td>3,796</td>\n",
              "      <td>0,193</td>\n",
              "      <td>3,099</td>\n",
              "      <td>5,090</td>\n",
              "      <td>0,361</td>\n",
              "      <td>0,051</td>\n",
              "      <td>3,435</td>\n",
              "      <td>0,149</td>\n",
              "      <td>2,892</td>\n",
              "      <td>4,242</td>\n",
              "      <td>0,043</td>\n",
              "    </tr>\n",
              "    <tr>\n",
              "      <th>1821</th>\n",
              "      <td>10/28/18</td>\n",
              "      <td>11/3/18</td>\n",
              "      <td>GASOLINA COMUM</td>\n",
              "      <td>5782</td>\n",
              "      <td>R$/l</td>\n",
              "      <td>4,709</td>\n",
              "      <td>0,280</td>\n",
              "      <td>3,899</td>\n",
              "      <td>6,290</td>\n",
              "      <td>0,477</td>\n",
              "      <td>0,059</td>\n",
              "      <td>4,232</td>\n",
              "      <td>0,236</td>\n",
              "      <td>3,600</td>\n",
              "      <td>5,022</td>\n",
              "      <td>0,056</td>\n",
              "    </tr>\n",
              "    <tr>\n",
              "      <th>1822</th>\n",
              "      <td>10/28/18</td>\n",
              "      <td>11/3/18</td>\n",
              "      <td>GLP</td>\n",
              "      <td>4374</td>\n",
              "      <td>R$/13Kg</td>\n",
              "      <td>68,327</td>\n",
              "      <td>8,150</td>\n",
              "      <td>50,000</td>\n",
              "      <td>120,000</td>\n",
              "      <td>16,352</td>\n",
              "      <td>0,119</td>\n",
              "      <td>51,975</td>\n",
              "      <td>7,178</td>\n",
              "      <td>32,000</td>\n",
              "      <td>86,500</td>\n",
              "      <td>0,138</td>\n",
              "    </tr>\n",
              "    <tr>\n",
              "      <th>1823</th>\n",
              "      <td>10/28/18</td>\n",
              "      <td>11/3/18</td>\n",
              "      <td>GNV</td>\n",
              "      <td>294</td>\n",
              "      <td>R$/m3</td>\n",
              "      <td>2,894</td>\n",
              "      <td>0,338</td>\n",
              "      <td>1,999</td>\n",
              "      <td>3,599</td>\n",
              "      <td>0,659</td>\n",
              "      <td>0,117</td>\n",
              "      <td>2,235</td>\n",
              "      <td>0,271</td>\n",
              "      <td>1,640</td>\n",
              "      <td>2,853</td>\n",
              "      <td>0,121</td>\n",
              "    </tr>\n",
              "  </tbody>\n",
              "</table>\n",
              "</div>"
            ],
            "text/plain": [
              "     DATA INICIAL  ... COEF DE VARIAÇÃO DISTRIBUIÇÃO\n",
              "1819     10/28/18  ...                         0,046\n",
              "1820     10/28/18  ...                         0,043\n",
              "1821     10/28/18  ...                         0,056\n",
              "1822     10/28/18  ...                         0,138\n",
              "1823     10/28/18  ...                         0,121\n",
              "\n",
              "[5 rows x 16 columns]"
            ]
          },
          "metadata": {
            "tags": []
          },
          "execution_count": 7
        }
      ]
    },
    {
      "cell_type": "markdown",
      "metadata": {
        "id": "vfV4ANFUrFgT",
        "colab_type": "text"
      },
      "source": [
        "# 4 - Objetos do pandas e tipos de dados\n",
        "\n",
        "O pandas tem duas estruturas de dados principais, sendo:\n",
        "\n",
        "**- Series:** Matriz unidimensional de dados tabulares de um mesmo tipo (ex.: uma matriz de uma coluna e várias linhas com datas).\n",
        "\n",
        "**- DataFrame:** Matriz de dados tabulares com duas ou mais dimensões, com tipos de dados diferentes.\n",
        "\n",
        "O objeto pandas criado no item 1 é um DataFrame, já que possui mais de 1 coluna. É possível identificar o tipo de um objeto pandas DataFrame utilizando a função **info()**.\n",
        "\n",
        "Com essa função, é possível ver também um sumário dos dados, a quantidade de linhas, o tipo de dados dos atributos (colunas), a quantidade de valores não nulos em cada coluna,entre outras. \n",
        "\n"
      ]
    },
    {
      "cell_type": "markdown",
      "metadata": {
        "id": "6bSwtUU24Tw5",
        "colab_type": "text"
      },
      "source": [
        "4.1 - Utilize a função ***info()*** para ver um resumo do seu DataFrame:"
      ]
    },
    {
      "cell_type": "code",
      "metadata": {
        "id": "ooO8jOxZmhXs",
        "colab_type": "code",
        "outputId": "b568c82a-1eb8-42c7-f296-a23cc9039366",
        "colab": {
          "base_uri": "https://localhost:8080/",
          "height": 374
        }
      },
      "source": [
        "dados.info()"
      ],
      "execution_count": 0,
      "outputs": [
        {
          "output_type": "stream",
          "text": [
            "<class 'pandas.core.frame.DataFrame'>\n",
            "RangeIndex: 1824 entries, 0 to 1823\n",
            "Data columns (total 16 columns):\n",
            "DATA INICIAL                     1824 non-null object\n",
            "DATA FINAL                       1824 non-null object\n",
            "PRODUTO                          1824 non-null object\n",
            "NÚMERO DE POSTOS PESQUISADOS     1824 non-null int64\n",
            "UNIDADE DE MEDIDA                1824 non-null object\n",
            "PREÇO MÉDIO REVENDA              1824 non-null object\n",
            "DESVIO PADRÃO REVENDA            1824 non-null object\n",
            "PREÇO MÍNIMO REVENDA             1824 non-null object\n",
            "PREÇO MÁXIMO REVENDA             1824 non-null object\n",
            "MARGEM MÉDIA REVENDA             1824 non-null object\n",
            "COEF DE VARIAÇÃO REVENDA         1824 non-null object\n",
            "PREÇO MÉDIO DISTRIBUIÇÃO         1824 non-null object\n",
            "DESVIO PADRÃO DISTRIBUIÇÃO       1824 non-null object\n",
            "PREÇO MÍNIMO DISTRIBUIÇÃO        1824 non-null object\n",
            "PREÇO MÁXIMO DISTRIBUIÇÃO        1824 non-null object\n",
            "COEF DE VARIAÇÃO DISTRIBUIÇÃO    1824 non-null object\n",
            "dtypes: int64(1), object(15)\n",
            "memory usage: 228.1+ KB\n"
          ],
          "name": "stdout"
        }
      ]
    },
    {
      "cell_type": "markdown",
      "metadata": {
        "id": "775_kWpW63uB",
        "colab_type": "text"
      },
      "source": [
        "\n",
        "Ao analisar dados, é importante se certificar de utilizar os tipos de dados corretos. Do contrário, resultados equivocados podem ser obtidos, ou ainda, pode não ser possível executar determinadas operações com alguns atributos.\n",
        "O pandas é capaz de inferir alguns tipos de dados, o que permite avança na análise dos dados. Contudo, é importante se certificar de que os tipos determinados automaticamente pelo pandas são os mais indicados para a sua situação. Para mais informações sobre tipos de dados do pandas, consulte esse [link](https://pbpython.com/pandas_dtypes.html).\n",
        "\n",
        "\n",
        "\n"
      ]
    },
    {
      "cell_type": "markdown",
      "metadata": {
        "id": "exC3uedG8ja0",
        "colab_type": "text"
      },
      "source": [
        "Os principais tipos de dados do pandas são:\n",
        "\n",
        "| Tipo       | Descrição        |\n",
        "|------------|------------------|\n",
        "| object     | Formato de texto |\n",
        "| int64      | Números inteiros |\n",
        "| float64    | Números decimais |\n",
        "| datetime64 | Data e hora      |\n",
        "| bool       | Valores V ou F   |\n",
        "\n",
        "É importante perceber que colunas do DataFrame que não possuam o tipo de dado adequado para determinadas operações não poderão ser analisadas integralmente. Nesses casos, será preciso converter o tipo de dado para um adequado às necessidades de análise. no pandas, o método ***dtypes*** permite visualizar todos os tipos de dados no DataFrame."
      ]
    },
    {
      "cell_type": "markdown",
      "metadata": {
        "id": "v20ZUxUVDPHn",
        "colab_type": "text"
      },
      "source": [
        "4.2 - Use o método ***dtypes*** para ver os tipos de dados do DataFrame:"
      ]
    },
    {
      "cell_type": "code",
      "metadata": {
        "id": "Y_CI_FiR3GOG",
        "colab_type": "code",
        "outputId": "16b286c5-b166-449f-9e8e-031c7d9bfbfa",
        "colab": {
          "base_uri": "https://localhost:8080/",
          "height": 306
        }
      },
      "source": [
        "dados.dtypes\n"
      ],
      "execution_count": 0,
      "outputs": [
        {
          "output_type": "execute_result",
          "data": {
            "text/plain": [
              "DATA INICIAL                     object\n",
              "DATA FINAL                       object\n",
              "PRODUTO                          object\n",
              "NÚMERO DE POSTOS PESQUISADOS      int64\n",
              "UNIDADE DE MEDIDA                object\n",
              "PREÇO MÉDIO REVENDA              object\n",
              "DESVIO PADRÃO REVENDA            object\n",
              "PREÇO MÍNIMO REVENDA             object\n",
              "PREÇO MÁXIMO REVENDA             object\n",
              "MARGEM MÉDIA REVENDA             object\n",
              "COEF DE VARIAÇÃO REVENDA         object\n",
              "PREÇO MÉDIO DISTRIBUIÇÃO         object\n",
              "DESVIO PADRÃO DISTRIBUIÇÃO       object\n",
              "PREÇO MÍNIMO DISTRIBUIÇÃO        object\n",
              "PREÇO MÁXIMO DISTRIBUIÇÃO        object\n",
              "COEF DE VARIAÇÃO DISTRIBUIÇÃO    object\n",
              "dtype: object"
            ]
          },
          "metadata": {
            "tags": []
          },
          "execution_count": 9
        }
      ]
    },
    {
      "cell_type": "markdown",
      "metadata": {
        "id": "z-H_YIaEF-h7",
        "colab_type": "text"
      },
      "source": [
        "É possível converter dados em pandas utilizando a função astype(), para forçar um novo tipo em uma coluna do DataFrame. Como exemplo, em um DataFrame de nome *dados*, é possível mudar o tipo de uma coluna da seguinte forma:\n",
        "\n",
        "\n",
        "\n",
        "```\n",
        "dados['nome_da_coluna'] = dados['nome_da_coluna'].astype('tipo_desejado)\n",
        "```\n",
        "\n"
      ]
    },
    {
      "cell_type": "markdown",
      "metadata": {
        "id": "6M6E3nK8HRls",
        "colab_type": "text"
      },
      "source": [
        "4.3 - Utilize a função ***astype()*** para mudar o tipo da coluna 'PREÇO MÉDIO DE REVENDA' para *'float'*.\n",
        "\n"
      ]
    },
    {
      "cell_type": "code",
      "metadata": {
        "id": "8V39_bbXCx0w",
        "colab_type": "code",
        "outputId": "ae4471d1-b220-4931-f1de-a7d16dcbd6d6",
        "colab": {
          "base_uri": "https://localhost:8080/",
          "height": 306
        }
      },
      "source": [
        "dados['PREÇO MÉDIO REVENDA'] = dados['PREÇO MÉDIO REVENDA'].astype('float')"
      ],
      "execution_count": 0,
      "outputs": [
        {
          "output_type": "error",
          "ename": "ValueError",
          "evalue": "ignored",
          "traceback": [
            "\u001b[0;31m---------------------------------------------------------------------------\u001b[0m",
            "\u001b[0;31mValueError\u001b[0m                                Traceback (most recent call last)",
            "\u001b[0;32m<ipython-input-10-dbf34e81b5a5>\u001b[0m in \u001b[0;36m<module>\u001b[0;34m()\u001b[0m\n\u001b[0;32m----> 1\u001b[0;31m \u001b[0mdados\u001b[0m\u001b[0;34m[\u001b[0m\u001b[0;34m'PREÇO MÉDIO REVENDA'\u001b[0m\u001b[0;34m]\u001b[0m \u001b[0;34m=\u001b[0m \u001b[0mdados\u001b[0m\u001b[0;34m[\u001b[0m\u001b[0;34m'PREÇO MÉDIO REVENDA'\u001b[0m\u001b[0;34m]\u001b[0m\u001b[0;34m.\u001b[0m\u001b[0mastype\u001b[0m\u001b[0;34m(\u001b[0m\u001b[0;34m'float'\u001b[0m\u001b[0;34m)\u001b[0m\u001b[0;34m\u001b[0m\u001b[0;34m\u001b[0m\u001b[0m\n\u001b[0m",
            "\u001b[0;32m/usr/local/lib/python3.6/dist-packages/pandas/core/generic.py\u001b[0m in \u001b[0;36mastype\u001b[0;34m(self, dtype, copy, errors, **kwargs)\u001b[0m\n\u001b[1;32m   5880\u001b[0m             \u001b[0;31m# else, only a single dtype is given\u001b[0m\u001b[0;34m\u001b[0m\u001b[0;34m\u001b[0m\u001b[0;34m\u001b[0m\u001b[0m\n\u001b[1;32m   5881\u001b[0m             new_data = self._data.astype(\n\u001b[0;32m-> 5882\u001b[0;31m                 \u001b[0mdtype\u001b[0m\u001b[0;34m=\u001b[0m\u001b[0mdtype\u001b[0m\u001b[0;34m,\u001b[0m \u001b[0mcopy\u001b[0m\u001b[0;34m=\u001b[0m\u001b[0mcopy\u001b[0m\u001b[0;34m,\u001b[0m \u001b[0merrors\u001b[0m\u001b[0;34m=\u001b[0m\u001b[0merrors\u001b[0m\u001b[0;34m,\u001b[0m \u001b[0;34m**\u001b[0m\u001b[0mkwargs\u001b[0m\u001b[0;34m\u001b[0m\u001b[0;34m\u001b[0m\u001b[0m\n\u001b[0m\u001b[1;32m   5883\u001b[0m             )\n\u001b[1;32m   5884\u001b[0m             \u001b[0;32mreturn\u001b[0m \u001b[0mself\u001b[0m\u001b[0;34m.\u001b[0m\u001b[0m_constructor\u001b[0m\u001b[0;34m(\u001b[0m\u001b[0mnew_data\u001b[0m\u001b[0;34m)\u001b[0m\u001b[0;34m.\u001b[0m\u001b[0m__finalize__\u001b[0m\u001b[0;34m(\u001b[0m\u001b[0mself\u001b[0m\u001b[0;34m)\u001b[0m\u001b[0;34m\u001b[0m\u001b[0;34m\u001b[0m\u001b[0m\n",
            "\u001b[0;32m/usr/local/lib/python3.6/dist-packages/pandas/core/internals/managers.py\u001b[0m in \u001b[0;36mastype\u001b[0;34m(self, dtype, **kwargs)\u001b[0m\n\u001b[1;32m    579\u001b[0m \u001b[0;34m\u001b[0m\u001b[0m\n\u001b[1;32m    580\u001b[0m     \u001b[0;32mdef\u001b[0m \u001b[0mastype\u001b[0m\u001b[0;34m(\u001b[0m\u001b[0mself\u001b[0m\u001b[0;34m,\u001b[0m \u001b[0mdtype\u001b[0m\u001b[0;34m,\u001b[0m \u001b[0;34m**\u001b[0m\u001b[0mkwargs\u001b[0m\u001b[0;34m)\u001b[0m\u001b[0;34m:\u001b[0m\u001b[0;34m\u001b[0m\u001b[0;34m\u001b[0m\u001b[0m\n\u001b[0;32m--> 581\u001b[0;31m         \u001b[0;32mreturn\u001b[0m \u001b[0mself\u001b[0m\u001b[0;34m.\u001b[0m\u001b[0mapply\u001b[0m\u001b[0;34m(\u001b[0m\u001b[0;34m\"astype\"\u001b[0m\u001b[0;34m,\u001b[0m \u001b[0mdtype\u001b[0m\u001b[0;34m=\u001b[0m\u001b[0mdtype\u001b[0m\u001b[0;34m,\u001b[0m \u001b[0;34m**\u001b[0m\u001b[0mkwargs\u001b[0m\u001b[0;34m)\u001b[0m\u001b[0;34m\u001b[0m\u001b[0;34m\u001b[0m\u001b[0m\n\u001b[0m\u001b[1;32m    582\u001b[0m \u001b[0;34m\u001b[0m\u001b[0m\n\u001b[1;32m    583\u001b[0m     \u001b[0;32mdef\u001b[0m \u001b[0mconvert\u001b[0m\u001b[0;34m(\u001b[0m\u001b[0mself\u001b[0m\u001b[0;34m,\u001b[0m \u001b[0;34m**\u001b[0m\u001b[0mkwargs\u001b[0m\u001b[0;34m)\u001b[0m\u001b[0;34m:\u001b[0m\u001b[0;34m\u001b[0m\u001b[0;34m\u001b[0m\u001b[0m\n",
            "\u001b[0;32m/usr/local/lib/python3.6/dist-packages/pandas/core/internals/managers.py\u001b[0m in \u001b[0;36mapply\u001b[0;34m(self, f, axes, filter, do_integrity_check, consolidate, **kwargs)\u001b[0m\n\u001b[1;32m    436\u001b[0m                     \u001b[0mkwargs\u001b[0m\u001b[0;34m[\u001b[0m\u001b[0mk\u001b[0m\u001b[0;34m]\u001b[0m \u001b[0;34m=\u001b[0m \u001b[0mobj\u001b[0m\u001b[0;34m.\u001b[0m\u001b[0mreindex\u001b[0m\u001b[0;34m(\u001b[0m\u001b[0mb_items\u001b[0m\u001b[0;34m,\u001b[0m \u001b[0maxis\u001b[0m\u001b[0;34m=\u001b[0m\u001b[0maxis\u001b[0m\u001b[0;34m,\u001b[0m \u001b[0mcopy\u001b[0m\u001b[0;34m=\u001b[0m\u001b[0malign_copy\u001b[0m\u001b[0;34m)\u001b[0m\u001b[0;34m\u001b[0m\u001b[0;34m\u001b[0m\u001b[0m\n\u001b[1;32m    437\u001b[0m \u001b[0;34m\u001b[0m\u001b[0m\n\u001b[0;32m--> 438\u001b[0;31m             \u001b[0mapplied\u001b[0m \u001b[0;34m=\u001b[0m \u001b[0mgetattr\u001b[0m\u001b[0;34m(\u001b[0m\u001b[0mb\u001b[0m\u001b[0;34m,\u001b[0m \u001b[0mf\u001b[0m\u001b[0;34m)\u001b[0m\u001b[0;34m(\u001b[0m\u001b[0;34m**\u001b[0m\u001b[0mkwargs\u001b[0m\u001b[0;34m)\u001b[0m\u001b[0;34m\u001b[0m\u001b[0;34m\u001b[0m\u001b[0m\n\u001b[0m\u001b[1;32m    439\u001b[0m             \u001b[0mresult_blocks\u001b[0m \u001b[0;34m=\u001b[0m \u001b[0m_extend_blocks\u001b[0m\u001b[0;34m(\u001b[0m\u001b[0mapplied\u001b[0m\u001b[0;34m,\u001b[0m \u001b[0mresult_blocks\u001b[0m\u001b[0;34m)\u001b[0m\u001b[0;34m\u001b[0m\u001b[0;34m\u001b[0m\u001b[0m\n\u001b[1;32m    440\u001b[0m \u001b[0;34m\u001b[0m\u001b[0m\n",
            "\u001b[0;32m/usr/local/lib/python3.6/dist-packages/pandas/core/internals/blocks.py\u001b[0m in \u001b[0;36mastype\u001b[0;34m(self, dtype, copy, errors, values, **kwargs)\u001b[0m\n\u001b[1;32m    557\u001b[0m \u001b[0;34m\u001b[0m\u001b[0m\n\u001b[1;32m    558\u001b[0m     \u001b[0;32mdef\u001b[0m \u001b[0mastype\u001b[0m\u001b[0;34m(\u001b[0m\u001b[0mself\u001b[0m\u001b[0;34m,\u001b[0m \u001b[0mdtype\u001b[0m\u001b[0;34m,\u001b[0m \u001b[0mcopy\u001b[0m\u001b[0;34m=\u001b[0m\u001b[0;32mFalse\u001b[0m\u001b[0;34m,\u001b[0m \u001b[0merrors\u001b[0m\u001b[0;34m=\u001b[0m\u001b[0;34m\"raise\"\u001b[0m\u001b[0;34m,\u001b[0m \u001b[0mvalues\u001b[0m\u001b[0;34m=\u001b[0m\u001b[0;32mNone\u001b[0m\u001b[0;34m,\u001b[0m \u001b[0;34m**\u001b[0m\u001b[0mkwargs\u001b[0m\u001b[0;34m)\u001b[0m\u001b[0;34m:\u001b[0m\u001b[0;34m\u001b[0m\u001b[0;34m\u001b[0m\u001b[0m\n\u001b[0;32m--> 559\u001b[0;31m         \u001b[0;32mreturn\u001b[0m \u001b[0mself\u001b[0m\u001b[0;34m.\u001b[0m\u001b[0m_astype\u001b[0m\u001b[0;34m(\u001b[0m\u001b[0mdtype\u001b[0m\u001b[0;34m,\u001b[0m \u001b[0mcopy\u001b[0m\u001b[0;34m=\u001b[0m\u001b[0mcopy\u001b[0m\u001b[0;34m,\u001b[0m \u001b[0merrors\u001b[0m\u001b[0;34m=\u001b[0m\u001b[0merrors\u001b[0m\u001b[0;34m,\u001b[0m \u001b[0mvalues\u001b[0m\u001b[0;34m=\u001b[0m\u001b[0mvalues\u001b[0m\u001b[0;34m,\u001b[0m \u001b[0;34m**\u001b[0m\u001b[0mkwargs\u001b[0m\u001b[0;34m)\u001b[0m\u001b[0;34m\u001b[0m\u001b[0;34m\u001b[0m\u001b[0m\n\u001b[0m\u001b[1;32m    560\u001b[0m \u001b[0;34m\u001b[0m\u001b[0m\n\u001b[1;32m    561\u001b[0m     \u001b[0;32mdef\u001b[0m \u001b[0m_astype\u001b[0m\u001b[0;34m(\u001b[0m\u001b[0mself\u001b[0m\u001b[0;34m,\u001b[0m \u001b[0mdtype\u001b[0m\u001b[0;34m,\u001b[0m \u001b[0mcopy\u001b[0m\u001b[0;34m=\u001b[0m\u001b[0;32mFalse\u001b[0m\u001b[0;34m,\u001b[0m \u001b[0merrors\u001b[0m\u001b[0;34m=\u001b[0m\u001b[0;34m\"raise\"\u001b[0m\u001b[0;34m,\u001b[0m \u001b[0mvalues\u001b[0m\u001b[0;34m=\u001b[0m\u001b[0;32mNone\u001b[0m\u001b[0;34m,\u001b[0m \u001b[0;34m**\u001b[0m\u001b[0mkwargs\u001b[0m\u001b[0;34m)\u001b[0m\u001b[0;34m:\u001b[0m\u001b[0;34m\u001b[0m\u001b[0;34m\u001b[0m\u001b[0m\n",
            "\u001b[0;32m/usr/local/lib/python3.6/dist-packages/pandas/core/internals/blocks.py\u001b[0m in \u001b[0;36m_astype\u001b[0;34m(self, dtype, copy, errors, values, **kwargs)\u001b[0m\n\u001b[1;32m    641\u001b[0m                     \u001b[0;31m# _astype_nansafe works fine with 1-d only\u001b[0m\u001b[0;34m\u001b[0m\u001b[0;34m\u001b[0m\u001b[0;34m\u001b[0m\u001b[0m\n\u001b[1;32m    642\u001b[0m                     \u001b[0mvals1d\u001b[0m \u001b[0;34m=\u001b[0m \u001b[0mvalues\u001b[0m\u001b[0;34m.\u001b[0m\u001b[0mravel\u001b[0m\u001b[0;34m(\u001b[0m\u001b[0;34m)\u001b[0m\u001b[0;34m\u001b[0m\u001b[0;34m\u001b[0m\u001b[0m\n\u001b[0;32m--> 643\u001b[0;31m                     \u001b[0mvalues\u001b[0m \u001b[0;34m=\u001b[0m \u001b[0mastype_nansafe\u001b[0m\u001b[0;34m(\u001b[0m\u001b[0mvals1d\u001b[0m\u001b[0;34m,\u001b[0m \u001b[0mdtype\u001b[0m\u001b[0;34m,\u001b[0m \u001b[0mcopy\u001b[0m\u001b[0;34m=\u001b[0m\u001b[0;32mTrue\u001b[0m\u001b[0;34m,\u001b[0m \u001b[0;34m**\u001b[0m\u001b[0mkwargs\u001b[0m\u001b[0;34m)\u001b[0m\u001b[0;34m\u001b[0m\u001b[0;34m\u001b[0m\u001b[0m\n\u001b[0m\u001b[1;32m    644\u001b[0m \u001b[0;34m\u001b[0m\u001b[0m\n\u001b[1;32m    645\u001b[0m                 \u001b[0;31m# TODO(extension)\u001b[0m\u001b[0;34m\u001b[0m\u001b[0;34m\u001b[0m\u001b[0;34m\u001b[0m\u001b[0m\n",
            "\u001b[0;32m/usr/local/lib/python3.6/dist-packages/pandas/core/dtypes/cast.py\u001b[0m in \u001b[0;36mastype_nansafe\u001b[0;34m(arr, dtype, copy, skipna)\u001b[0m\n\u001b[1;32m    727\u001b[0m     \u001b[0;32mif\u001b[0m \u001b[0mcopy\u001b[0m \u001b[0;32mor\u001b[0m \u001b[0mis_object_dtype\u001b[0m\u001b[0;34m(\u001b[0m\u001b[0marr\u001b[0m\u001b[0;34m)\u001b[0m \u001b[0;32mor\u001b[0m \u001b[0mis_object_dtype\u001b[0m\u001b[0;34m(\u001b[0m\u001b[0mdtype\u001b[0m\u001b[0;34m)\u001b[0m\u001b[0;34m:\u001b[0m\u001b[0;34m\u001b[0m\u001b[0;34m\u001b[0m\u001b[0m\n\u001b[1;32m    728\u001b[0m         \u001b[0;31m# Explicit copy, or required since NumPy can't view from / to object.\u001b[0m\u001b[0;34m\u001b[0m\u001b[0;34m\u001b[0m\u001b[0;34m\u001b[0m\u001b[0m\n\u001b[0;32m--> 729\u001b[0;31m         \u001b[0;32mreturn\u001b[0m \u001b[0marr\u001b[0m\u001b[0;34m.\u001b[0m\u001b[0mastype\u001b[0m\u001b[0;34m(\u001b[0m\u001b[0mdtype\u001b[0m\u001b[0;34m,\u001b[0m \u001b[0mcopy\u001b[0m\u001b[0;34m=\u001b[0m\u001b[0;32mTrue\u001b[0m\u001b[0;34m)\u001b[0m\u001b[0;34m\u001b[0m\u001b[0;34m\u001b[0m\u001b[0m\n\u001b[0m\u001b[1;32m    730\u001b[0m \u001b[0;34m\u001b[0m\u001b[0m\n\u001b[1;32m    731\u001b[0m     \u001b[0;32mreturn\u001b[0m \u001b[0marr\u001b[0m\u001b[0;34m.\u001b[0m\u001b[0mview\u001b[0m\u001b[0;34m(\u001b[0m\u001b[0mdtype\u001b[0m\u001b[0;34m)\u001b[0m\u001b[0;34m\u001b[0m\u001b[0;34m\u001b[0m\u001b[0m\n",
            "\u001b[0;31mValueError\u001b[0m: could not convert string to float: '1,948'"
          ]
        }
      ]
    },
    {
      "cell_type": "markdown",
      "metadata": {
        "id": "RDDQ8cy7Iy8G",
        "colab_type": "text"
      },
      "source": [
        "No exercício anterior, o seguinte erro deve ter ocorrido:\n",
        "\n",
        "**ValueError: could not convert string to float: '1,948'**\n",
        "\n",
        "\n",
        "Esse erro ocorre por que, para o pandas, o delimitador de um número decimal ('float') é o ponto \" . \", e não a vírgula \" , \". Assim, para poder converter os dados do nosso DataFrame, é preciso substituir a vírgula, em cada número de cada coluna, por um ponto.  \n"
      ]
    },
    {
      "cell_type": "markdown",
      "metadata": {
        "id": "t2XhghSFLJKV",
        "colab_type": "text"
      },
      "source": [
        "A função ***read_csv()***, utilizada para ler o arquivo csv e transformá-lo em um objeto pandas do tipo DataFrame, possui vários argumentos (parâmetros que permitem que a função exerça outras tarefas). Um deles permite indicar qual o delimitador de números decimais do conjunto de dados. Podemos utilizar esse argumento conforme segue:\n",
        "\n",
        "\n",
        "```\n",
        "dados = read_csv('/content/SEMANAL_BRASIL-DESDE_2013.csv', decimal=',')\n",
        "```\n",
        "\n"
      ]
    },
    {
      "cell_type": "markdown",
      "metadata": {
        "id": "x2m5YlM-Mya3",
        "colab_type": "text"
      },
      "source": [
        "Ex.: 4.4 - Leia o arquivo csv novamente e salve no DataFrame dados_2:\n",
        "  1 - informe na função read_csv que o delimitador decimal dos dados é vírgula, de acordo com o exemplo;\n",
        "  2 - utilize o método dtypes e verifique o tipo dos dados"
      ]
    },
    {
      "cell_type": "code",
      "metadata": {
        "id": "InupM7IHNHM9",
        "colab_type": "code",
        "colab": {}
      },
      "source": [
        "dados_2 = read_csv('/content/drive/My Drive/AULAS/MINERAÇÃO DE DADOS/SEMANAL_BRASIL-DESDE_2013.csv', decimal=',')"
      ],
      "execution_count": 0,
      "outputs": []
    },
    {
      "cell_type": "code",
      "metadata": {
        "id": "11wB10qGNJ75",
        "colab_type": "code",
        "outputId": "6e9aaae7-4378-4879-f413-a914023f66b5",
        "colab": {
          "base_uri": "https://localhost:8080/",
          "height": 306
        }
      },
      "source": [
        "dados_2.dtypes"
      ],
      "execution_count": 0,
      "outputs": [
        {
          "output_type": "execute_result",
          "data": {
            "text/plain": [
              "DATA INICIAL                      object\n",
              "DATA FINAL                        object\n",
              "PRODUTO                           object\n",
              "NÚMERO DE POSTOS PESQUISADOS       int64\n",
              "UNIDADE DE MEDIDA                 object\n",
              "PREÇO MÉDIO REVENDA              float64\n",
              "DESVIO PADRÃO REVENDA            float64\n",
              "PREÇO MÍNIMO REVENDA             float64\n",
              "PREÇO MÁXIMO REVENDA             float64\n",
              "MARGEM MÉDIA REVENDA             float64\n",
              "COEF DE VARIAÇÃO REVENDA         float64\n",
              "PREÇO MÉDIO DISTRIBUIÇÃO         float64\n",
              "DESVIO PADRÃO DISTRIBUIÇÃO       float64\n",
              "PREÇO MÍNIMO DISTRIBUIÇÃO        float64\n",
              "PREÇO MÁXIMO DISTRIBUIÇÃO        float64\n",
              "COEF DE VARIAÇÃO DISTRIBUIÇÃO    float64\n",
              "dtype: object"
            ]
          },
          "metadata": {
            "tags": []
          },
          "execution_count": 14
        }
      ]
    },
    {
      "cell_type": "markdown",
      "metadata": {
        "id": "83F72_MAJv6c",
        "colab_type": "text"
      },
      "source": [
        "# 5 - Preparação para análise\n",
        "\n",
        "Depois de explorar o conjunto de dados e definir corretamente o tipo de dado de cada coluna, podemos partir para a análise dos dados. \n",
        "\n",
        "Sempre que se deseja explorar e extrair informação de um conjunto de dados, é preciso entender, antes, quais tipos de informações é possível obter com os dados disponíveis. De modo geral, os dados se classificam em:\n",
        "\n",
        "**Dados Numéricos:** Também chamados de quantitativos, são conjuntos de dados que representam contagens ou medidas, por exemplo: Idade, altura, peso. Esses dados se dividem ainda em dois grupos, sendo:\n",
        "\n",
        "\n",
        "*   ***Discretos:*** Representados por números inteiros não negativos (ex.: Idade).\n",
        "*   ***Contínuos:*** Podem assumir qualquer valor real (ex.: peso, altura).\n",
        "\n",
        "Com esse tipo de dado é possível fazer análises estatísticas e determinar média, desvio padrão, etc.\n",
        "\n",
        "**Dados categóricos:** Também chamados de qualitativos, são conjuntos de dados que refletem características não numéricas, podendo ser:\n",
        "\n",
        "\n",
        "*   ***Ordinais:*** Podem ser ordenados de alguma forma que faça sentido (ex.: Faixa etária, estágios de uma doença, datas).\n",
        "*   ***Nominais:*** se definem exclusivamente por nomes, sem ordem específica (ex.: grupo sanguíneo, raça, sexo, Sim/não).\n",
        "\n",
        "\n",
        "\n",
        "\n",
        "\n",
        "\n",
        "\n"
      ]
    },
    {
      "cell_type": "markdown",
      "metadata": {
        "id": "t692ktsD2GJe",
        "colab_type": "text"
      },
      "source": [
        "## 5.1 Dados inválidos ou faltantes\n",
        "\n",
        "Sempre que um conjunto de dados é coletado e posto para análise, uma série de atividades precisam ser feitas até que de fato seja confiável extrair alguma informação relevante. Nos tópicos anteriores vimos como iniciar a exploração de dados com pandas. Porém, depois de obter nosso dataframe, precisamos checar a integridade dos nossos dados, e limpá-los antes de fazer qualquer análise. De acordo com a [IBM Data Analytics](https://www.ibm.com/cloud/blog/ibm-data-catalog-data-scientists-productivity), 80% do tempo dedicado a um conjunto de dados disponível para análise é gasto com limpeza dos dados."
      ]
    },
    {
      "cell_type": "markdown",
      "metadata": {
        "id": "urb02vEoO8BG",
        "colab_type": "text"
      },
      "source": [
        "Uma fase importante na limpeza de dados é o tratamento de dados faltando ou inválidos (pense que, se um dado não serve para a análise, ele está faltando). Vamos utilizar uma [base dados](https://raw.githubusercontent.com/dataoptimal/posts/master/data%20cleaning%20with%20python%20and%20pandas/property%20data.csv) pequena, porém suficiente para entendermos como lidar com dados missing.  "
      ]
    },
    {
      "cell_type": "markdown",
      "metadata": {
        "id": "Rj71DS09PlZY",
        "colab_type": "text"
      },
      "source": [
        "Execute a célula abaixo para importar os dados do exemplo."
      ]
    },
    {
      "cell_type": "code",
      "metadata": {
        "id": "MkIYfxYlL_Ci",
        "colab_type": "code",
        "colab": {}
      },
      "source": [
        "dados_faltando = read_csv('https://raw.githubusercontent.com/dataoptimal/posts/master/data%20cleaning%20with%20python%20and%20pandas/property%20data.csv',sep=',')\n"
      ],
      "execution_count": 0,
      "outputs": []
    },
    {
      "cell_type": "markdown",
      "metadata": {
        "id": "8kIO4BolQIQX",
        "colab_type": "text"
      },
      "source": [
        "Ex. 5.1: Imprima o data frame dados_faltando, na célula seguinte."
      ]
    },
    {
      "cell_type": "code",
      "metadata": {
        "id": "q27mh9kkQGuv",
        "colab_type": "code",
        "outputId": "b9b8efa8-32b1-45b1-aa9d-049db98cff43",
        "colab": {
          "base_uri": "https://localhost:8080/",
          "height": 328
        }
      },
      "source": [
        "dados_faltando"
      ],
      "execution_count": 0,
      "outputs": [
        {
          "output_type": "execute_result",
          "data": {
            "text/html": [
              "<div>\n",
              "<style scoped>\n",
              "    .dataframe tbody tr th:only-of-type {\n",
              "        vertical-align: middle;\n",
              "    }\n",
              "\n",
              "    .dataframe tbody tr th {\n",
              "        vertical-align: top;\n",
              "    }\n",
              "\n",
              "    .dataframe thead th {\n",
              "        text-align: right;\n",
              "    }\n",
              "</style>\n",
              "<table border=\"1\" class=\"dataframe\">\n",
              "  <thead>\n",
              "    <tr style=\"text-align: right;\">\n",
              "      <th></th>\n",
              "      <th>PID</th>\n",
              "      <th>ST_NUM</th>\n",
              "      <th>ST_NAME</th>\n",
              "      <th>OWN_OCCUPIED</th>\n",
              "      <th>NUM_BEDROOMS</th>\n",
              "      <th>NUM_BATH</th>\n",
              "      <th>SQ_FT</th>\n",
              "    </tr>\n",
              "  </thead>\n",
              "  <tbody>\n",
              "    <tr>\n",
              "      <th>0</th>\n",
              "      <td>100001000.0</td>\n",
              "      <td>104.0</td>\n",
              "      <td>PUTNAM</td>\n",
              "      <td>Y</td>\n",
              "      <td>3</td>\n",
              "      <td>1</td>\n",
              "      <td>1000</td>\n",
              "    </tr>\n",
              "    <tr>\n",
              "      <th>1</th>\n",
              "      <td>100002000.0</td>\n",
              "      <td>197.0</td>\n",
              "      <td>LEXINGTON</td>\n",
              "      <td>N</td>\n",
              "      <td>3</td>\n",
              "      <td>1.5</td>\n",
              "      <td>--</td>\n",
              "    </tr>\n",
              "    <tr>\n",
              "      <th>2</th>\n",
              "      <td>100003000.0</td>\n",
              "      <td>NaN</td>\n",
              "      <td>LEXINGTON</td>\n",
              "      <td>N</td>\n",
              "      <td>NaN</td>\n",
              "      <td>1</td>\n",
              "      <td>850</td>\n",
              "    </tr>\n",
              "    <tr>\n",
              "      <th>3</th>\n",
              "      <td>100004000.0</td>\n",
              "      <td>201.0</td>\n",
              "      <td>BERKELEY</td>\n",
              "      <td>12</td>\n",
              "      <td>1</td>\n",
              "      <td>NaN</td>\n",
              "      <td>700</td>\n",
              "    </tr>\n",
              "    <tr>\n",
              "      <th>4</th>\n",
              "      <td>NaN</td>\n",
              "      <td>203.0</td>\n",
              "      <td>BERKELEY</td>\n",
              "      <td>Y</td>\n",
              "      <td>3</td>\n",
              "      <td>2</td>\n",
              "      <td>1600</td>\n",
              "    </tr>\n",
              "    <tr>\n",
              "      <th>5</th>\n",
              "      <td>100006000.0</td>\n",
              "      <td>207.0</td>\n",
              "      <td>BERKELEY</td>\n",
              "      <td>Y</td>\n",
              "      <td>NaN</td>\n",
              "      <td>1</td>\n",
              "      <td>800</td>\n",
              "    </tr>\n",
              "    <tr>\n",
              "      <th>6</th>\n",
              "      <td>100007000.0</td>\n",
              "      <td>NaN</td>\n",
              "      <td>WASHINGTON</td>\n",
              "      <td>NaN</td>\n",
              "      <td>2</td>\n",
              "      <td>HURLEY</td>\n",
              "      <td>950</td>\n",
              "    </tr>\n",
              "    <tr>\n",
              "      <th>7</th>\n",
              "      <td>100008000.0</td>\n",
              "      <td>213.0</td>\n",
              "      <td>TREMONT</td>\n",
              "      <td>Y</td>\n",
              "      <td>1</td>\n",
              "      <td>1</td>\n",
              "      <td>NaN</td>\n",
              "    </tr>\n",
              "    <tr>\n",
              "      <th>8</th>\n",
              "      <td>100009000.0</td>\n",
              "      <td>215.0</td>\n",
              "      <td>TREMONT</td>\n",
              "      <td>Y</td>\n",
              "      <td>na</td>\n",
              "      <td>2</td>\n",
              "      <td>1800</td>\n",
              "    </tr>\n",
              "  </tbody>\n",
              "</table>\n",
              "</div>"
            ],
            "text/plain": [
              "           PID  ST_NUM     ST_NAME OWN_OCCUPIED NUM_BEDROOMS NUM_BATH SQ_FT\n",
              "0  100001000.0   104.0      PUTNAM            Y            3        1  1000\n",
              "1  100002000.0   197.0   LEXINGTON            N            3      1.5    --\n",
              "2  100003000.0     NaN   LEXINGTON            N          NaN        1   850\n",
              "3  100004000.0   201.0    BERKELEY           12            1      NaN   700\n",
              "4          NaN   203.0    BERKELEY            Y            3        2  1600\n",
              "5  100006000.0   207.0    BERKELEY            Y          NaN        1   800\n",
              "6  100007000.0     NaN  WASHINGTON          NaN            2   HURLEY   950\n",
              "7  100008000.0   213.0     TREMONT            Y            1        1   NaN\n",
              "8  100009000.0   215.0     TREMONT            Y           na        2  1800"
            ]
          },
          "metadata": {
            "tags": []
          },
          "execution_count": 108
        }
      ]
    },
    {
      "cell_type": "markdown",
      "metadata": {
        "id": "lZTdKlGWRg_R",
        "colab_type": "text"
      },
      "source": [
        "É possível perceber os dados inválidos do dataframe acima. O pandas consegue detectar alguns valores inválidos ou faltantes. Para esses dados, ele utiliza a etiqueta ***NaN***.\n",
        "\n",
        "o pandas possui uma função específica para identificar valores faltantes em uma coluna, de nome ***isnull()***. Essa função pode ser utilizada como foi mostrado no tópico 3.\n",
        "\n",
        "Lembrando que para mostrar uma única coluna de um dataframe, basta utilizar a seguinte sintaxe:\n",
        "\n",
        "\n",
        "```\n",
        "nome_dataframe['nome_da_coluna']\n",
        "```\n",
        "\n",
        "Ex. 5.2 - Utilize a função ***isnull()*** para verificar os valores missing na coluna *NUM_BATH*. \n"
      ]
    },
    {
      "cell_type": "code",
      "metadata": {
        "id": "QiVpFUObMOaz",
        "colab_type": "code",
        "outputId": "0ad9aa2c-7032-49ef-8b30-e84de6768b67",
        "colab": {
          "base_uri": "https://localhost:8080/",
          "height": 187
        }
      },
      "source": [
        "dados_faltando['NUM_BATH'].isnull()"
      ],
      "execution_count": 0,
      "outputs": [
        {
          "output_type": "execute_result",
          "data": {
            "text/plain": [
              "0    False\n",
              "1    False\n",
              "2    False\n",
              "3     True\n",
              "4    False\n",
              "5    False\n",
              "6    False\n",
              "7    False\n",
              "8    False\n",
              "Name: NUM_BATH, dtype: bool"
            ]
          },
          "metadata": {
            "tags": []
          },
          "execution_count": 109
        }
      ]
    },
    {
      "cell_type": "markdown",
      "metadata": {
        "id": "wufcn946UmpL",
        "colab_type": "text"
      },
      "source": [
        "Perceba que a função ***isnull()*** retorna True sempre que existe um valor faltando no campo avaliado.\n",
        "\n",
        "Nem sempre o pandas será capaz de identificar um dado inválido. No nosso exemplo, existe um dado inválido **'na'** na coluna *NUM_BEDROOMS* e outro valor inválido **'--'** na coluna SQ_FT. \n",
        "\n",
        "Outro caso de dados inválidos ocorre quando um dado de tipo diferente do esperado para uma dada característica é encontrado. A coluna *OWN_OCCUPIED* deveria conter somente valores no formato **Y** ou **N**. Contudo, em uma as linhas é encontrado o valor **12**, que não tem relação com os valores esperados."
      ]
    },
    {
      "cell_type": "markdown",
      "metadata": {
        "id": "F_Q9HBOOYQZl",
        "colab_type": "text"
      },
      "source": [
        "Para um conjunto de dados muito grande, é impraticável utiizar a função ***isnull()*** como mostrado no Ex. 5.2. Para avaliar a quantidade de valores faltando (identificados pelo pandas) em todas as colunas, basta combinar a função ***sum()*** com a função ***isnull()*** aplicada a todo o conjunto de dados.\n",
        "\n",
        "\n",
        "```\n",
        "nome_dataframe.isnull().sum()\n",
        "```\n",
        "\n",
        "Ex. 5.3 - Combine as funções **isnull()** e **sum()** para visualizar todos os dados faltando em cada coluna do datraframe. \n"
      ]
    },
    {
      "cell_type": "code",
      "metadata": {
        "id": "piwQrvr0Qez8",
        "colab_type": "code",
        "outputId": "54cb4419-f69f-48a9-fda0-cb5581ea596e",
        "colab": {
          "base_uri": "https://localhost:8080/",
          "height": 153
        }
      },
      "source": [
        "dados_faltando.isnull().sum()"
      ],
      "execution_count": 0,
      "outputs": [
        {
          "output_type": "execute_result",
          "data": {
            "text/plain": [
              "PID             1\n",
              "ST_NUM          2\n",
              "ST_NAME         0\n",
              "OWN_OCCUPIED    1\n",
              "NUM_BEDROOMS    2\n",
              "NUM_BATH        1\n",
              "SQ_FT           1\n",
              "dtype: int64"
            ]
          },
          "metadata": {
            "tags": []
          },
          "execution_count": 110
        }
      ]
    },
    {
      "cell_type": "code",
      "metadata": {
        "id": "Aw1UXMQ5YGcl",
        "colab_type": "code",
        "colab": {}
      },
      "source": [
        ""
      ],
      "execution_count": 0,
      "outputs": []
    }
  ]
}