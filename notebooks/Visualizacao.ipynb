{
 "cells": [
  {
   "cell_type": "markdown",
   "metadata": {},
   "source": [
    "# Análise e apresentação de dados"
   ]
  },
  {
   "cell_type": "markdown",
   "metadata": {},
   "source": [
    "## Preparação para a análise"
   ]
  },
  {
   "cell_type": "markdown",
   "metadata": {},
   "source": [
    "Sempre que se deseja explorar e extrair informação de um conjunto de dados, é preciso entender, antes, quais tipos de informações é possível obter com os dados disponíveis. De modo geral, os dados se classificam em:\n",
    "\n",
    "**Dados Numéricos:** Também chamados de quantitativos, são conjuntos de dados que representam contagens ou medidas, por exemplo: Idade, altura, peso. Com esse tipo de dado é possível fazer análises estatísticas e determinar média, desvio padrão, etc. Esses dados se dividem ainda em dois grupos, sendo:\n",
    "\n",
    "\n",
    "*   ***Discretos:*** Representados por números inteiros (ex.: Idade).\n",
    "*   ***Contínuos:*** Podem assumir qualquer valor real (ex.: peso, altura).\n",
    "\n",
    "**Dados categóricos:** Também chamados de qualitativos, são conjuntos de dados que refletem características não numéricas, podendo ser:\n",
    "\n",
    "\n",
    "*   ***Ordinais:*** Podem ser ordenados de alguma forma que faça sentido (ex.: Faixa etária, estágios de uma doença, datas).\n",
    "*   ***Nominais:*** se definem exclusivamente por nomes, sem ordem específica (ex.: grupo sanguíneo, raça, sexo, Sim/não)."
   ]
  },
  {
   "cell_type": "markdown",
   "metadata": {},
   "source": [
    "### Dados inválidos ou faltantes"
   ]
  },
  {
   "cell_type": "markdown",
   "metadata": {},
   "source": [
    "Sempre que um conjunto de dados é coletado e posto para análise, uma série de atividades precisam ser feitas até que de fato seja confiável extrair alguma informação relevante. Nos tópicos anteriores vimos como iniciar a exploração de dados com pandas. Porém, depois de obter nosso dataframe, precisamos checar a integridade dos nossos dados, e limpá-los antes de fazer qualquer análise. De acordo com a [IBM Data Analytics](https://www.ibm.com/cloud/blog/ibm-data-catalog-data-scientists-productivity), 80% do tempo dedicado a um conjunto de dados disponível para análise é gasto com limpeza dos dados.\n",
    "\n",
    "Uma fase importante na limpeza de dados é o tratamento de dados faltando ou inválidos (pense que, se um dado não serve para a análise, ele está faltando). Vamos utilizar uma [base dados](https://raw.githubusercontent.com/dataoptimal/posts/master/data%20cleaning%20with%20python%20and%20pandas/property%20data.csv) pequena, porém suficiente para entendermos como lidar com dados faltando.  \n",
    "\n",
    "Execute as células abaixo para importar os dados do exemplo."
   ]
  },
  {
   "cell_type": "code",
   "execution_count": null,
   "metadata": {},
   "outputs": [],
   "source": [
    "import pandas as pd"
   ]
  },
  {
   "cell_type": "code",
   "execution_count": null,
   "metadata": {},
   "outputs": [],
   "source": [
    "dados_faltando = pd.read_csv('https://raw.githubusercontent.com/dataoptimal/posts/master/data%20cleaning%20with%20python%20and%20pandas/property%20data.csv',sep=',')\n",
    "dados_faltando"
   ]
  },
  {
   "cell_type": "markdown",
   "metadata": {},
   "source": [
    "É possível perceber os dados inválidos do dataframe acima. O pandas consegue detectar alguns valores inválidos ou faltantes. Para esses dados, ele utiliza a etiqueta `NaN`.\n",
    "\n",
    "O Pandas possui um método específico para identificar valores faltantes em uma série, de nome `isnull()`."
   ]
  },
  {
   "cell_type": "code",
   "execution_count": null,
   "metadata": {},
   "outputs": [],
   "source": [
    "dados_faltando['NUM_BATH'].isnull()"
   ]
  },
  {
   "cell_type": "markdown",
   "metadata": {},
   "source": [
    "Perceba que o método `isnull()` retorna `True` sempre que existe um valor faltando no campo avaliado.\n",
    "\n",
    "Para um conjunto de dados muito grande, é impraticável aplicar a função `isnull()` manualmente a cada característica. Para avaliar a quantidade de valores faltando em todas as características, basta combinar o método `sum()` com o resultado do método `isnull()` aplicado a todo o conjunto de dados."
   ]
  },
  {
   "cell_type": "code",
   "execution_count": null,
   "metadata": {},
   "outputs": [],
   "source": [
    "dados_faltando.isnull().sum()"
   ]
  },
  {
   "cell_type": "markdown",
   "metadata": {},
   "source": [
    "Nem sempre o Pandas será capaz de identificar um dado inválido. No nosso exemplo, existe um dado inválido `'na'` na série que representa a característica `NUM_BEDROOMS` e outro valor inválido `'--'` na série que representa a característica `SQ_FT`. \n",
    "\n",
    "Nesses casos, podemos usar os métodos `unique()` ou `value_counts()` para ver os valores existentes em uma série:"
   ]
  },
  {
   "cell_type": "code",
   "execution_count": null,
   "metadata": {},
   "outputs": [],
   "source": [
    "dados_faltando[\"NUM_BEDROOMS\"].unique()"
   ]
  },
  {
   "cell_type": "code",
   "execution_count": null,
   "metadata": {},
   "outputs": [],
   "source": [
    "dados_faltando[\"SQ_FT\"].value_counts()"
   ]
  },
  {
   "cell_type": "markdown",
   "metadata": {},
   "source": [
    "Outro caso de dados inválidos ocorre quando um dado de tipo diferente do esperado para uma dada característica é encontrado. A coluna `OWN_OCCUPIED` deveria conter somente valores no formato `Y` ou `N`. Contudo, em uma das linhas é encontrado o valor `12`, que não tem relação com os valores esperados.\n",
    "\n",
    "Nesse caso, podemos usar o método `all` para ver se todos os valores de uma série respeitam o ***domínio*** de valores previsto para aquela série:"
   ]
  },
  {
   "cell_type": "code",
   "execution_count": null,
   "metadata": {},
   "outputs": [],
   "source": [
    "condição_domínio = dados_faltando[\"OWN_OCCUPIED\"].isin([\"Y\",\"N\"])\n",
    "all(condição_domínio)"
   ]
  },
  {
   "cell_type": "code",
   "execution_count": null,
   "metadata": {},
   "outputs": [],
   "source": [
    "dados_faltando[~condição_domínio]"
   ]
  },
  {
   "cell_type": "markdown",
   "metadata": {},
   "source": [
    "## Começando a análise"
   ]
  },
  {
   "cell_type": "markdown",
   "metadata": {},
   "source": [
    "Os dados para esta parte do tutorial serão carregados a partir de uma URL. \n",
    "\n",
    "Vamos deixar que o Pandas baixe diretamente o dataset, informando apenas a URL onde ele está localizado."
   ]
  },
  {
   "cell_type": "code",
   "execution_count": null,
   "metadata": {
    "colab": {},
    "colab_type": "code",
    "id": "IvRWAQofrpLA"
   },
   "outputs": [],
   "source": [
    "dados_url = 'http://bit.ly/2cLzoxH'\n",
    "dados = pd.read_csv(dados_url)\n",
    "dados.head(n=10)"
   ]
  },
  {
   "cell_type": "markdown",
   "metadata": {},
   "source": [
    "Uma vez concluída a limpeza dos dados, o primeiro conjunto de ferramentas que podemos usar para analisá-los é a das ***estatísticas descritivas***. \n",
    "\n",
    "O Pandas oferece as principais medidas ***centrais*** e de ***dispersão***, que podemos ser aplicadas a qualquer série de dados numéricos."
   ]
  },
  {
   "cell_type": "markdown",
   "metadata": {},
   "source": [
    "### Medidas centrais"
   ]
  },
  {
   "cell_type": "markdown",
   "metadata": {},
   "source": [
    "**Média**: A soma de todas as medições divididas pelo número de observações no conjunto de dados."
   ]
  },
  {
   "cell_type": "code",
   "execution_count": null,
   "metadata": {},
   "outputs": [],
   "source": [
    "dados.mean()"
   ]
  },
  {
   "cell_type": "markdown",
   "metadata": {},
   "source": [
    "**Mediana**: Valor do meio que separa a metade maior da metade menor no conjunto de dados."
   ]
  },
  {
   "cell_type": "code",
   "execution_count": null,
   "metadata": {},
   "outputs": [],
   "source": [
    "dados[\"year\"].median()"
   ]
  },
  {
   "cell_type": "markdown",
   "metadata": {},
   "source": [
    "**Moda**: O(s) valor(es) que aparece(m) com mais frequência no conjunto de dados."
   ]
  },
  {
   "cell_type": "code",
   "execution_count": null,
   "metadata": {},
   "outputs": [],
   "source": [
    "dados[\"year\"].mode()"
   ]
  },
  {
   "cell_type": "markdown",
   "metadata": {},
   "source": [
    "### Medidas de dispersão"
   ]
  },
  {
   "cell_type": "markdown",
   "metadata": {},
   "source": [
    "**Variância**: Indica o espalhamento dos valores de uma série. \n",
    "\n",
    "É calculada como a distância média de cada valor de uma série para a média da série. Para que distâncias positivas e negativas não se anulem, cada distância é elevada ao quadrado durante a soma. Por esse motivo, a ordem de grandeza da variância não casa com a ordem de grandeza dos dados da série.\n",
    "\n",
    "Uma baixa variância indica que os valores da série tendem a estar próximos da média. Uma alta variância indica que os valores da série estão dispersos."
   ]
  },
  {
   "cell_type": "code",
   "execution_count": null,
   "metadata": {},
   "outputs": [],
   "source": [
    "dados[\"year\"].var()"
   ]
  },
  {
   "cell_type": "markdown",
   "metadata": {},
   "source": [
    "**Desvio Padrão**: Raiz quadrada da variância. Mantém todas as suas propriedades, mas apresenta a mesma ordem de grandeza dos dados da série: "
   ]
  },
  {
   "cell_type": "code",
   "execution_count": null,
   "metadata": {
    "scrolled": true
   },
   "outputs": [],
   "source": [
    "dados[\"year\"].std()"
   ]
  },
  {
   "cell_type": "markdown",
   "metadata": {},
   "source": [
    "**Quantis**: Particionam os valores ordenados de uma série. Um quantil de 25% indica que 25% dos valores da série são inferiores àquele quantil. Por convenção, ***quartis*** são os quantis de 25%, 50% e 75%, também conhecidos como primeiro, segundo e terceiro quartis:\n"
   ]
  },
  {
   "cell_type": "code",
   "execution_count": null,
   "metadata": {},
   "outputs": [],
   "source": [
    "dados[\"year\"].quantile(0.25)"
   ]
  },
  {
   "cell_type": "code",
   "execution_count": null,
   "metadata": {},
   "outputs": [],
   "source": [
    "primeiro_quartil = dados[\"year\"] < dados[\"year\"].quantile(0.25)\n",
    "dados[primeiro_quartil].shape"
   ]
  },
  {
   "cell_type": "code",
   "execution_count": null,
   "metadata": {
    "scrolled": true
   },
   "outputs": [],
   "source": [
    "dados.shape"
   ]
  },
  {
   "cell_type": "markdown",
   "metadata": {},
   "source": [
    "### Outros métodos de estatística descritiva"
   ]
  },
  {
   "cell_type": "markdown",
   "metadata": {},
   "source": [
    "* `describe()`: presente nos objetos `DataFrame` e `Series`, reúne várias medidas descritivas sobre os dados, incluindo os métodos `count()`, `min()` e `max()`:"
   ]
  },
  {
   "cell_type": "code",
   "execution_count": null,
   "metadata": {},
   "outputs": [],
   "source": [
    "dados[\"year\"].describe()"
   ]
  },
  {
   "cell_type": "code",
   "execution_count": null,
   "metadata": {},
   "outputs": [],
   "source": [
    "dados.describe()"
   ]
  },
  {
   "cell_type": "markdown",
   "metadata": {},
   "source": [
    "* `nunique()`: informa a quantidade de valores distintos."
   ]
  },
  {
   "cell_type": "code",
   "execution_count": null,
   "metadata": {},
   "outputs": [],
   "source": [
    "dados.nunique()"
   ]
  },
  {
   "cell_type": "code",
   "execution_count": null,
   "metadata": {},
   "outputs": [],
   "source": [
    "dados[\"year\"].nunique()"
   ]
  },
  {
   "cell_type": "markdown",
   "metadata": {},
   "source": [
    "* `sort_values()`: ordena os valores de um `DataFrame` ou `Series`, em ordem crescente ou decrescente. Ao usar o método `sort_values()` do `DataFrame`, podemos especificar múltiplas colunas para a ordenação. Nesse caso, empates na primeira coluna são resolvidos pela segunda coluna, e assim por diante."
   ]
  },
  {
   "cell_type": "code",
   "execution_count": null,
   "metadata": {},
   "outputs": [],
   "source": [
    "dados[\"year\"].sort_values().head()"
   ]
  },
  {
   "cell_type": "code",
   "execution_count": null,
   "metadata": {},
   "outputs": [],
   "source": [
    "dados.sort_values(by=['year','country'],ascending=False).head()"
   ]
  },
  {
   "cell_type": "markdown",
   "metadata": {},
   "source": [
    "## Apresentação dos dados"
   ]
  },
  {
   "cell_type": "markdown",
   "metadata": {
    "colab_type": "text",
    "id": "3ni0vgAIHiFI"
   },
   "source": [
    "A análise de medidas centrais e de dispersão do `DataFrame` costuma ser aprofundada pela visualização das séries de dados.\n",
    "\n",
    "Para começar vamos carregar as bibliotecas necessárias. Além do Pandas, vamos precisar também da Matplotlib, uma biblioteca que serve exclusivamente para criar gráficos.\n",
    "\n",
    "Por convenção, carregamos apenas o módulo `pyplot` e o chamamos de `plt`.\n",
    "\n",
    "<!--\n",
    " - Pandas é uma biblioteca escrita para Python, que serve, principalmente, para manipulação e análise de dados;\n",
    " \n",
    " - Numpy é uma biblioteca também, que adiciona suporte para matrizes grandes e arrays multi-dimensionais. Além disso, também é composta por uma série de funções matemáticas que operam nesses conjuntos de dados;\n",
    " \n",
    " - Matplotlib é biblioteca que serve exclusivamente para criar gráficos;\n",
    " \n",
    " - Seaborn é uma biblioteca feita para criar gráficos estatísticos em Python, é construída em cima do Matplotlib e é integrada às estruturas de dados do Pandas.\n",
    " -->"
   ]
  },
  {
   "cell_type": "code",
   "execution_count": null,
   "metadata": {
    "colab": {},
    "colab_type": "code",
    "id": "Y_PDGogQn3QS"
   },
   "outputs": [],
   "source": [
    "import pandas as pd\n",
    "import matplotlib.pyplot as plt"
   ]
  },
  {
   "cell_type": "markdown",
   "metadata": {
    "colab_type": "text",
    "id": "kIbzhXQ000XQ"
   },
   "source": [
    "### Histogramas\n",
    "\n",
    "Com os comandos oferecidos pelo Pandas é fácil construir um histograma, porém, é necessário entender exatamente o que se está construindo. \n",
    "\n",
    "No trecho abaixo dizemos que do conjunto `dados` vamos usar a coluna `lifeExp`, que mostra a expectativa de vida por ano.\n",
    "\n",
    "Com o método `hist(bins = 100)` teremos o histograma com 100 faixas diferentes de valores. "
   ]
  },
  {
   "cell_type": "code",
   "execution_count": null,
   "metadata": {
    "colab": {},
    "colab_type": "code",
    "id": "NwLUT8xptz_9"
   },
   "outputs": [],
   "source": [
    "dados['lifeExp'].hist(bins=100)"
   ]
  },
  {
   "cell_type": "markdown",
   "metadata": {
    "colab_type": "text",
    "id": "JKLxZZdx4sLT"
   },
   "source": [
    "Abaixo podemos ver o efeito (extremo) de se construir um histograma com poucos intervalos de valores (apenas dois, neste caso)."
   ]
  },
  {
   "cell_type": "code",
   "execution_count": null,
   "metadata": {
    "colab": {},
    "colab_type": "code",
    "id": "ooQ_pCJKuMX-"
   },
   "outputs": [],
   "source": [
    "dados['lifeExp'].hist(bins=2)"
   ]
  },
  {
   "cell_type": "markdown",
   "metadata": {
    "colab_type": "text",
    "id": "lyarbic35AgQ"
   },
   "source": [
    "O caso abaixo é exatamente o inverso do que foi mostrado acima: muitas faixas de valores (1000 no gráfico abaixo) torna a compreensão muito difícil."
   ]
  },
  {
   "cell_type": "code",
   "execution_count": null,
   "metadata": {
    "colab": {},
    "colab_type": "code",
    "id": "Aj6a95vvu4Ie"
   },
   "outputs": [],
   "source": [
    "dados['lifeExp'].hist(bins=1000)\n"
   ]
  },
  {
   "cell_type": "markdown",
   "metadata": {
    "colab_type": "text",
    "id": "AqnPTNI0P7vL"
   },
   "source": [
    "O histograma padrão do Pandas é básico e serve apenas para uma olhada rápida na distribuição dos dados, mas não conta a história toda. \n",
    "\n",
    "Além de não haver nomes nos eixos X e Y, há uma região do eixo X sendo apresentada mesmo que não haja dados nela.\n",
    "\n",
    "Podemos resolver isso configurando o histograma através dos seguintes parâmetros:\n",
    " - `xlabelsize` e `ylabelsize` ditam o tamanho da fonte nos eixos;\n",
    " - `xlabel `e `ylabel` são os métodos que alteram o título do eixo e o tamanho desse texto;\n",
    " - `xlim` também é um método e determina os limites inferior e superior do eixo horizontal.\n",
    "\n",
    "A seguir podemos ver como customizar as informações que aparecem no histograma."
   ]
  },
  {
   "cell_type": "code",
   "execution_count": null,
   "metadata": {
    "colab": {},
    "colab_type": "code",
    "id": "7AsoMmeHP_kh"
   },
   "outputs": [],
   "source": [
    "dados['lifeExp'].hist(bins=100, grid=False, xlabelsize=12, ylabelsize=12)\n",
    "plt.xlabel(\"Expectativa de vida\", fontsize=15)\n",
    "plt.ylabel(\"Frequência\",fontsize=15)\n",
    "plt.xlim([22.0,90.0])"
   ]
  },
  {
   "cell_type": "markdown",
   "metadata": {
    "colab_type": "text",
    "id": "D4fmMtbQRfY1"
   },
   "source": [
    "Um bom gráfico deve ser fácil de se entender.\n",
    "\n",
    "Ele mostra os dados e nos ajuda a atirar conclusões de acordo com a distribuição desses dados, que valores ocorrem mais entre outros detalhes, que podem ser mais difíceis de se enxergar apenas olhando números. \n",
    "\n",
    "Então é importante customizar o histograma, mudando os `bins`, a cor, os valores limite etc.\n",
    "\n"
   ]
  },
  {
   "cell_type": "code",
   "execution_count": null,
   "metadata": {
    "colab": {},
    "colab_type": "code",
    "id": "_aolhQc5Rngs"
   },
   "outputs": [],
   "source": [
    "dados['lifeExp'].hist(bins=100, grid=False, xlabelsize=12, ylabelsize=12, \n",
    "                     color = 'darkgreen')\n",
    "plt.title(\"Distribuição da expectativa de vida\", fontsize = 17)\n",
    "plt.xlabel(\"Expectativa de vida\", fontsize=15)\n",
    "plt.ylabel(\"Frequência\",fontsize=15)\n",
    "plt.grid(axis = 'y', alpha = 0.8)\n",
    "plt.xlim([22.0,90.0])"
   ]
  },
  {
   "cell_type": "markdown",
   "metadata": {
    "colab_type": "text",
    "id": "WvlxccQA7P4D"
   },
   "source": [
    "As duas células de código a seguir produzem gráficos usando a expectativa de vida no continente Africano e na Europa, respectivamente. \n",
    "\n",
    "Analise esses dados, tire suas conclusões e compare com outras regiões usando o que foi mostrado ao longo do tutorial."
   ]
  },
  {
   "cell_type": "code",
   "execution_count": null,
   "metadata": {
    "colab": {},
    "colab_type": "code",
    "id": "_9zMPpq-WZvk"
   },
   "outputs": [],
   "source": [
    "dados_africa = dados[dados['continent'] == 'Africa']\n",
    "\n",
    "dados_africa['lifeExp'].hist(bins=50, grid=False, xlabelsize=12, ylabelsize=12, \n",
    "                     color = 'darkblue')\n",
    "plt.title(\"Distribuição da expectativa de vida no Continente Africano\", \n",
    "          fontsize = 17)\n",
    "plt.xlabel(\"Expectativa de vida\", fontsize=15)\n",
    "plt.ylabel(\"Frequência\",fontsize=15)\n",
    "plt.grid(axis = 'y', alpha = 0.8)\n",
    "plt.xlim([20.0,90.0])"
   ]
  },
  {
   "cell_type": "code",
   "execution_count": null,
   "metadata": {
    "colab": {},
    "colab_type": "code",
    "id": "XmXh1Mm6XALN"
   },
   "outputs": [],
   "source": [
    "dados_europa = dados[dados['continent'] == 'Europe']\n",
    "\n",
    "dados_europa['lifeExp'].hist(bins=50, grid=False, xlabelsize=12, ylabelsize=12, \n",
    "                     color = 'darkblue')\n",
    "plt.title(\"Distribuição da expectativa de vida na Europa\", \n",
    "          fontsize = 17)\n",
    "plt.xlabel(\"Expectativa de vida\", fontsize=15)\n",
    "plt.ylabel(\"Frequência\",fontsize=15)\n",
    "plt.grid(axis = 'y', alpha = 0.8)\n",
    "plt.xlim([20.0,90.0])"
   ]
  },
  {
   "cell_type": "markdown",
   "metadata": {
    "colab_type": "text",
    "id": "mJEBFTkHCsKS"
   },
   "source": [
    "## Boxplots\n",
    "\n",
    "Abaixo serão feitos exemplos com o boxplot. \n",
    "\n",
    "Esse gráfico possui alguns detalhes e pode ser um pouco mais difícil de visualizar os dados que o histograma, porém, apresenta alguns pontos mais claros (como mediana, primeiro e terceiro quartil).\n",
    "\n",
    "Usando um comando semelhante ao do histograma, podemos construir um gráfico boxplot simples. \n",
    "\n",
    "O exemplo abaixo produz um boxplot que mostra a distribuição da expectativa de vida de acordo com os continentes."
   ]
  },
  {
   "cell_type": "code",
   "execution_count": null,
   "metadata": {
    "colab": {},
    "colab_type": "code",
    "id": "poJYkdLgDTnJ"
   },
   "outputs": [],
   "source": [
    "dados.boxplot(by='continent', \n",
    "                       column=['lifeExp'], \n",
    "                       grid=False)"
   ]
  },
  {
   "cell_type": "markdown",
   "metadata": {
    "colab_type": "text",
    "id": "UJP9E7SmDXCh"
   },
   "source": [
    "O parâmetro `columns` aceita uma lista de características e produz um boxplot para cada uma. \n",
    "\n",
    "No entanto, se essas características apresentarem faixas de valores muito diferentes, a visualização de cada boxplot fica comprometida:"
   ]
  },
  {
   "cell_type": "code",
   "execution_count": null,
   "metadata": {
    "colab": {},
    "colab_type": "code",
    "id": "3K_77nJ2n5B5"
   },
   "outputs": [],
   "source": [
    "dados.boxplot(by='continent', \n",
    "                       column=['lifeExp','pop'], \n",
    "                       grid=False)"
   ]
  },
  {
   "cell_type": "markdown",
   "metadata": {
    "colab_type": "text",
    "id": "zS8Nu9Bjn4Zd"
   },
   "source": [
    "Nos gráficos acima, é possível notar que existem muitos outliers.\n",
    "\n",
    "É interessante filtrar os dados e analisar a expectativa de vida por ano (por exemplo). \n",
    "\n",
    "O código abaixo produz um boxplot da expectativa de vida para o ano de 2007:"
   ]
  },
  {
   "cell_type": "code",
   "execution_count": null,
   "metadata": {
    "colab": {},
    "colab_type": "code",
    "id": "wnaTcyOjDZpQ"
   },
   "outputs": [],
   "source": [
    "dados_2007 = dados[dados['year']==2007]\n",
    "dados_2007.boxplot(by='continent', \n",
    "                       column=['lifeExp'], \n",
    "                       grid=False)\n",
    "plt.xlabel(\"Expectativa de vida (2007)\", fontsize=15)"
   ]
  },
  {
   "cell_type": "markdown",
   "metadata": {
    "colab_type": "text",
    "id": "9dXYPSOKFofJ"
   },
   "source": [
    "Também é interessante analisar anos diferentes, já que escolhemos essa variável para filtrar. \n",
    "\n",
    "No código a seguir os dados são filtrados pelo ano de 1982."
   ]
  },
  {
   "cell_type": "code",
   "execution_count": null,
   "metadata": {
    "colab": {},
    "colab_type": "code",
    "id": "JYLr-CxMDcdJ"
   },
   "outputs": [],
   "source": [
    "dados_1982 = dados[dados['year']==1982]\n",
    "dados_1982.boxplot(by='continent', \n",
    "                       column=['lifeExp'], \n",
    "                       grid=False)\n",
    "plt.xlabel(\"Expectativa de vida (1982)\", fontsize=15)"
   ]
  },
  {
   "cell_type": "markdown",
   "metadata": {
    "colab_type": "text",
    "id": "GrrPgeWSGCEw"
   },
   "source": [
    "Por fim, o boxplot a seguir tem alguns incrementos:\n",
    "\n",
    "- a adição de linhas horizontais para melhor visualização das linhas das \"caixas\"\n",
    "- títulos nos eixos horizontal e vertical"
   ]
  },
  {
   "cell_type": "code",
   "execution_count": null,
   "metadata": {
    "colab": {},
    "colab_type": "code",
    "id": "xCSKjHwDDfIZ"
   },
   "outputs": [],
   "source": [
    "dados_1982 = dados[dados['year']==1982]\n",
    "dados_1982.boxplot(by='continent', \n",
    "                       column=['lifeExp'], \n",
    "                       grid=False)\n",
    "plt.xlabel(\"Continentes\", fontsize=15)\n",
    "plt.ylabel(\"Idades\",fontsize=15)\n",
    "plt.grid(axis = 'y', alpha = 0.8)"
   ]
  }
 ],
 "metadata": {
  "colab": {
   "collapsed_sections": [],
   "name": "Visualizacao.ipynb",
   "provenance": []
  },
  "kernelspec": {
   "display_name": "Python 3",
   "language": "python",
   "name": "python3"
  },
  "language_info": {
   "codemirror_mode": {
    "name": "ipython",
    "version": 3
   },
   "file_extension": ".py",
   "mimetype": "text/x-python",
   "name": "python",
   "nbconvert_exporter": "python",
   "pygments_lexer": "ipython3",
   "version": "3.6.8"
  }
 },
 "nbformat": 4,
 "nbformat_minor": 1
}
