{
  "nbformat": 4,
  "nbformat_minor": 0,
  "metadata": {
    "colab": {
      "name": "Visualização interativa",
      "provenance": [],
      "collapsed_sections": []
    },
    "kernelspec": {
      "name": "python3",
      "display_name": "Python 3"
    }
  },
  "cells": [
    {
      "cell_type": "markdown",
      "metadata": {
        "id": "x1XwdUSpiK1g",
        "colab_type": "text"
      },
      "source": [
        "# Interagindo visualmente com dados"
      ]
    },
    {
      "cell_type": "markdown",
      "metadata": {
        "id": "Sc0DUvlEjxQE",
        "colab_type": "text"
      },
      "source": [
        "Analisar visualmente um conjunto de dados é uma tarefa importante no processo de ciência de dados. Até aqui, vimos como fazer isso usando gráficos estáticos produzidos pelas bibliotecas `matplotlib` e `seaborn`. Neste notebook, vamos explorar a biblioteca de visualição interativa de dados [Plotly](https://plot.ly/python/), uma biblioteca compatível com diferentes linguagens de programação. Para o ecossistema Python, podemos usar o módulo `plotly.express`, criado para facilitar a produção de visualizações interativas."
      ]
    },
    {
      "cell_type": "code",
      "metadata": {
        "id": "jBOtyPS7hz3K",
        "colab_type": "code",
        "colab": {}
      },
      "source": [
        "import pandas as pd\n",
        "import plotly.express as px"
      ],
      "execution_count": 0,
      "outputs": []
    },
    {
      "cell_type": "markdown",
      "metadata": {
        "id": "d9ZtuGitkBuG",
        "colab_type": "text"
      },
      "source": [
        "Para esta análise, vamos utilizar [uma base de dados aberta sobre preços de combustíveis](https://http://dados.gov.br/dataset/infopreco), disponibilizada pelos postos no sítio da ANP. No código abaixo, vamos informar ao Pandas que trate a característica `DATA CADASTRO` como uma data:"
      ]
    },
    {
      "cell_type": "code",
      "metadata": {
        "id": "VykuV_h1BoOe",
        "colab_type": "code",
        "colab": {}
      },
      "source": [
        "preços = pd.read_csv('http://www.anp.gov.br/images/infopreco/infopreco.csv', encoding='latin-1', sep=';', decimal=',', parse_dates=['DATA CADASTRO'])\n",
        "preços.head()"
      ],
      "execution_count": 0,
      "outputs": []
    },
    {
      "cell_type": "markdown",
      "metadata": {
        "id": "5jEEFCRwrW3J",
        "colab_type": "text"
      },
      "source": [
        "## Validando os dados"
      ]
    },
    {
      "cell_type": "markdown",
      "metadata": {
        "id": "ZAQImIlClPrU",
        "colab_type": "text"
      },
      "source": [
        "Vamos começar nossa análise validando os dados presentes na base. Isto é particularmente importante em bases de dados abertos governamentais, que muitas vezes não contam com boa curadoria de dados."
      ]
    },
    {
      "cell_type": "code",
      "metadata": {
        "id": "LSiskOVNligE",
        "colab_type": "code",
        "colab": {}
      },
      "source": [
        "preços.isnull().sum()"
      ],
      "execution_count": 0,
      "outputs": []
    },
    {
      "cell_type": "code",
      "metadata": {
        "id": "qF-FHamq2B20",
        "colab_type": "code",
        "colab": {}
      },
      "source": [
        "preço_produto = preços.pivot_table(index=\"PRODUTO\", values=\"VALOR VENDA\")\n",
        "preço_produto.head()"
      ],
      "execution_count": 0,
      "outputs": []
    },
    {
      "cell_type": "markdown",
      "metadata": {
        "id": "wWyBT6MZlZkQ",
        "colab_type": "text"
      },
      "source": [
        "Os dados faltantes se limitam a bairro e complemento, que não serão foco da nossa análise. Em compensação, a análise do preço médio dos combustíveis listados indica valores consideravelmente elevados. Isto é um indicativo da presença de valores incorretos, que podemos verificar analisando a distribuição dos dados. Para interagir com o gráfico, passe o cursor do mouse sobre o gráfico e explore as opções no canto superior direito:"
      ]
    },
    {
      "cell_type": "code",
      "metadata": {
        "id": "Qqo4Qmyoma0y",
        "colab_type": "code",
        "colab": {}
      },
      "source": [
        "px.box(preços, x=\"PRODUTO\", y=\"VALOR VENDA\")"
      ],
      "execution_count": 0,
      "outputs": []
    },
    {
      "cell_type": "markdown",
      "metadata": {
        "id": "3pDo7ksAn_SJ",
        "colab_type": "text"
      },
      "source": [
        "Note que o gráfico produzido pelo Plotly traz um número de ferramentas que podemos usar para aprofundar nossa investigação. Vamos destacar alguns deles:\n",
        "\n",
        "* Ao posicionar o mouse sobre um boxplot, vemos suas informação.\n",
        "* Ao posicionar o mouse sobre um outlier, podemos ver seu valor.\n",
        "* Podemos dar zoom sobre as partes do gráfico que mais nos interessem.\n",
        "* Podemos salvar o gráfico diretamente.\n",
        "\n",
        "Analisando especificamente os dados da base em questão, os valores inválidos aparentam ter sido informados sem casas decimais. Vamos verificar quantos valores estão acima de 10 reais:"
      ]
    },
    {
      "cell_type": "code",
      "metadata": {
        "id": "CVHddNxJpTRo",
        "colab_type": "code",
        "colab": {}
      },
      "source": [
        "preços.query(\"`VALOR VENDA` > 10\")"
      ],
      "execution_count": 0,
      "outputs": []
    },
    {
      "cell_type": "markdown",
      "metadata": {
        "id": "zDJlhkW-pqNZ",
        "colab_type": "text"
      },
      "source": [
        "Por serem poucas observações, podemos removê-las sem prejuízo à base:"
      ]
    },
    {
      "cell_type": "code",
      "metadata": {
        "id": "8dqF27f9pwBt",
        "colab_type": "code",
        "colab": {}
      },
      "source": [
        "preços = preços.query(\"`VALOR VENDA` <= 10\")"
      ],
      "execution_count": 0,
      "outputs": []
    },
    {
      "cell_type": "code",
      "metadata": {
        "id": "StO-RupEppqd",
        "colab_type": "code",
        "colab": {}
      },
      "source": [
        "px.box(preços, x=\"PRODUTO\", y=\"VALOR VENDA\")"
      ],
      "execution_count": 0,
      "outputs": []
    },
    {
      "cell_type": "markdown",
      "metadata": {
        "id": "s8l8H10wp6gH",
        "colab_type": "text"
      },
      "source": [
        "Curiosamente, agora vemos que também há outliers abaixo dos boxplots. Vamos investigar esses casos:"
      ]
    },
    {
      "cell_type": "code",
      "metadata": {
        "id": "59hmd0u3qCnN",
        "colab_type": "code",
        "colab": {}
      },
      "source": [
        "preços.query(\"`VALOR VENDA` <= 1\")"
      ],
      "execution_count": 0,
      "outputs": []
    },
    {
      "cell_type": "markdown",
      "metadata": {
        "id": "FQcU5a2bqMI1",
        "colab_type": "text"
      },
      "source": [
        "Novamente, parece seguro remover estes casos:"
      ]
    },
    {
      "cell_type": "code",
      "metadata": {
        "id": "TvDsZxSGqN70",
        "colab_type": "code",
        "colab": {}
      },
      "source": [
        "preços = preços.query(\"`VALOR VENDA` > 1\")"
      ],
      "execution_count": 0,
      "outputs": []
    },
    {
      "cell_type": "code",
      "metadata": {
        "id": "8wkzc7esqPpc",
        "colab_type": "code",
        "colab": {}
      },
      "source": [
        "px.box(preços, x=\"PRODUTO\", y=\"VALOR VENDA\")"
      ],
      "execution_count": 0,
      "outputs": []
    },
    {
      "cell_type": "markdown",
      "metadata": {
        "id": "SocBu6uAsP8i",
        "colab_type": "text"
      },
      "source": [
        "## Preço médio do combustível"
      ]
    },
    {
      "cell_type": "markdown",
      "metadata": {
        "id": "rrOakzPkrl6o",
        "colab_type": "text"
      },
      "source": [
        "Agora que limpamos os dados, vamos visualizar o preço médio por tipo de combustível:"
      ]
    },
    {
      "cell_type": "code",
      "metadata": {
        "id": "2Q8l4QhcBH-P",
        "colab_type": "code",
        "colab": {}
      },
      "source": [
        "preço_produto = preços.pivot_table(index=\"PRODUTO\", values=\"VALOR VENDA\")\n",
        "preço_produto.head()"
      ],
      "execution_count": 0,
      "outputs": []
    },
    {
      "cell_type": "code",
      "metadata": {
        "id": "_0E7G3r3wVKl",
        "colab_type": "code",
        "colab": {}
      },
      "source": [
        "px.bar(preço_produto, x=preço_produto.index, y=\"VALOR VENDA\", title='Preço médio por tipo de combustível')"
      ],
      "execution_count": 0,
      "outputs": []
    },
    {
      "cell_type": "markdown",
      "metadata": {
        "id": "B4VPNEyWh42H",
        "colab_type": "text"
      },
      "source": [
        "Botemos refinar nossa análise analisando o preço da gasolina comum por estado:"
      ]
    },
    {
      "cell_type": "code",
      "metadata": {
        "id": "aEMixqS2iMCG",
        "colab_type": "code",
        "colab": {}
      },
      "source": [
        "preço_gasolina = preços.query(\"PRODUTO == 'Gasolina C Comum'\")\n",
        "gasolina_por_estado = preço_gasolina.pivot_table(index=\"UF\", values='VALOR VENDA')\n",
        "gasolina_por_estado.head()"
      ],
      "execution_count": 0,
      "outputs": []
    },
    {
      "cell_type": "markdown",
      "metadata": {
        "id": "6RPjjcqzivqg",
        "colab_type": "text"
      },
      "source": [
        "Para gerar este gráfico a partir da tabela dinâmica acima, vamos informar que os índices das observações devem ser usados como valores para o eixo x:"
      ]
    },
    {
      "cell_type": "code",
      "metadata": {
        "id": "wMeiJxa3MJ7D",
        "colab_type": "code",
        "colab": {}
      },
      "source": [
        "px.bar(gasolina_por_estado, x=gasolina_por_estado.index, y=\"VALOR VENDA\", title = 'Preço médio da Gasolina comum por UF')"
      ],
      "execution_count": 0,
      "outputs": []
    },
    {
      "cell_type": "markdown",
      "metadata": {
        "id": "I-swQZ75lhbC",
        "colab_type": "text"
      },
      "source": [
        "Podemos expandir essa análise para incluir todos os produtos considerados. Para isto, vamos usar um histograma, informando com o parâmetro `histfunc=\"avg\"` que estamos interessados no valor médio. Note que, apesar de ser um gráfico com muitas informações, é possível selecionar quais produtos observar clicando na legenda mostrada no lado direito."
      ]
    },
    {
      "cell_type": "code",
      "metadata": {
        "id": "cKAywH8eiLOJ",
        "colab_type": "code",
        "colab": {}
      },
      "source": [
        "px.histogram(preços, x=\"UF\", y=\"VALOR VENDA\", color=\"PRODUTO\", histfunc=\"avg\",\n",
        "             barmode=\"group\", title='Distribuição de preços por combustível')"
      ],
      "execution_count": 0,
      "outputs": []
    },
    {
      "cell_type": "markdown",
      "metadata": {
        "id": "dn70Krqo0RrR",
        "colab_type": "text"
      },
      "source": [
        "## Analisando a evolução do preço dos combustíveis"
      ]
    },
    {
      "cell_type": "markdown",
      "metadata": {
        "id": "wAeZbp5M0eME",
        "colab_type": "text"
      },
      "source": [
        "Os dados disponíveis na base que baixamos são referentes a vários meses distintos. Chamamos este tipo de dado de uma **série temporal**, ou série histórica. Podemos visualizar a evolução destas séries usando gráficos de linhas. Para isso, precisamos inicialmente gerar a série para o valor médio de cada produto por mês.\n",
        "\n",
        "O primeiro passo é produzir uma característica contendo apenas os dados de ano e mês, para que tenhamos dados suficientes para uma agregação. Fazemos isso usando o método `.dt.to_period(\"M\")` que características reconhecidas como data apresentam:"
      ]
    },
    {
      "cell_type": "code",
      "metadata": {
        "colab_type": "code",
        "id": "0qLpWf1s3wkN",
        "colab": {}
      },
      "source": [
        "preços['MES'] = preços['DATA CADASTRO'].dt.to_period('M').astype(str)\n",
        "preços.head()"
      ],
      "execution_count": 0,
      "outputs": []
    },
    {
      "cell_type": "markdown",
      "metadata": {
        "id": "yeHQfnSt91XC",
        "colab_type": "text"
      },
      "source": [
        "Um detalhe técnico do código acima é que o método `.dt.to_period(\"M\")` gera um objeto do tipo `Period` atualmente incompatível com o gráfico de linhas da biblioteca Plotly. Por isso, pedimos para que o Pandas trate esta coluna como um texto usando o método `astype(str)`.\n",
        "\n",
        "Agora que temos informação para cada mês, podemos gerar uma tabela dinâmica para visualizar a média por mês e produto:"
      ]
    },
    {
      "cell_type": "code",
      "metadata": {
        "id": "wfVedrMiyy_U",
        "colab_type": "code",
        "colab": {}
      },
      "source": [
        "preços_mês = preços.pivot_table(index=\"MES\", columns=\"PRODUTO\", values=\"VALOR VENDA\")\n",
        "preços_mês"
      ],
      "execution_count": 0,
      "outputs": []
    },
    {
      "cell_type": "markdown",
      "metadata": {
        "id": "qp4Fb4_TzIy-",
        "colab_type": "text"
      },
      "source": [
        "Note que o `DataFrame`a acima contém muitos valores faltantes para o GNV. Assim, vamos descartar dados referentes a este produto:"
      ]
    },
    {
      "cell_type": "code",
      "metadata": {
        "id": "CSoSsxfLzIN1",
        "colab_type": "code",
        "colab": {}
      },
      "source": [
        "preços_mês = preços_mês.drop(\"GNV\", axis=1)\n",
        "preços_mês.head()"
      ],
      "execution_count": 0,
      "outputs": []
    },
    {
      "cell_type": "markdown",
      "metadata": {
        "id": "eHL4cVQa-ndX",
        "colab_type": "text"
      },
      "source": [
        "Apesar de útil para exploração de dados, o formato da tabela dinâmica acima não é adequado para a produção de um gráfico de linhas com a biblioteca Plotly. O código abaixo converte o formato *wide* acima em um formato *longo*, usando os métodos `stack` e `reset_index`:"
      ]
    },
    {
      "cell_type": "code",
      "metadata": {
        "id": "3OX_woyI_AKb",
        "colab_type": "code",
        "colab": {}
      },
      "source": [
        "preços_mês = preços_mês.stack().reset_index(name=\"VALOR VENDA\")\n",
        "preços_mês.head()"
      ],
      "execution_count": 0,
      "outputs": []
    },
    {
      "cell_type": "markdown",
      "metadata": {
        "id": "ieEFrZyr_Pvh",
        "colab_type": "text"
      },
      "source": [
        "Agora podemos investigar a evolução dos preços médios mensais de cada produto ao longo do período abrangido pela base de dados. Assim como no caso do histograma, podemos selecionar as séries que desejamos analisar interagindo com a legenda do gráfico:"
      ]
    },
    {
      "cell_type": "code",
      "metadata": {
        "id": "oN2t60Ks3osH",
        "colab_type": "code",
        "colab": {}
      },
      "source": [
        "px.line(preços_mês, x=\"MES\", y=\"VALOR VENDA\", color=\"PRODUTO\",\n",
        "        title='Evolução de preços por mês de observação (média do mês)')"
      ],
      "execution_count": 0,
      "outputs": []
    }
  ]
}