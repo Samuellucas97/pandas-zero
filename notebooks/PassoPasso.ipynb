{
 "cells": [
  {
   "cell_type": "markdown",
   "metadata": {
    "colab_type": "text",
    "id": "7FAHc8hEbt26"
   },
   "source": [
    "# Primeiros passos com Pandas para análise de dados\n",
    "\n",
    "Neste tutorial, vamos utilizar a linguagem Python e a biblioteca Pandas para analisar dados tabulares, que são qualquer conjunto de informações armazenados na forma de tabelas, onde:\n",
    "\n",
    "- **Colunas** indicam **características** ou atributos.\n",
    "- **Linhas** representam **observações** ou registros.\n",
    "\n",
    "Vamos usar o Pandas para analisar um conjunto de dados sobre preços de combustíveis no Brasil, disponível [aqui](https://www.kaggle.com/ficosta/combustible-price-brasil/download), aprendendo como ler dados no formato `.csv` (valores separados por vírgulas), um dos formatos mais comuns de dados tabulares. Em seguida vamos explorar os dados para aprender sobre eles e descobrir que informações eles podem nos fornecer.\n",
    "\n",
    "Baixe o arquivo `.zip` no link fornecido, descompacte em uma pasta do seu computador e coloque o arquivo no seu Google Drive. Em seguida, execute a célula abaixo e siga as instruções para ter acesso aos seus arquivos do Drive por esse Colab."
   ]
  },
  {
   "cell_type": "code",
   "execution_count": null,
   "metadata": {
    "colab": {
     "base_uri": "https://localhost:8080/",
     "height": 122
    },
    "colab_type": "code",
    "id": "qC3CAEgXP-Bb",
    "outputId": "1bd09ed7-1bce-495c-b4c4-944f51cc93cc"
   },
   "outputs": [],
   "source": [
    "from google.colab import drive\n",
    "drive.mount('/content/drive')"
   ]
  },
  {
   "cell_type": "markdown",
   "metadata": {
    "colab_type": "text",
    "id": "fGnAcspOfQiB"
   },
   "source": [
    "## Importando o pandas"
   ]
  },
  {
   "cell_type": "markdown",
   "metadata": {},
   "source": [
    "Primeiro devemos importar alguns recursos do pacote Pandas para o ambiente de análise Colab. Para importar um recurso em Python, devemos informar a biblioteca de onde vamos importar e quais recursos precisaremos. Neste exemplo valos importar o recurso `read_csv`, um **método** para ler arquivos de dados tabulares do tipo csv. "
   ]
  },
  {
   "cell_type": "markdown",
   "metadata": {
    "colab_type": "text",
    "id": "uV4yHsVrKGcU"
   },
   "source": [
    "1 - Descomente o código abaixo (apague o \\#) e aperte o play no lado esquerdo da linha (ou utilize ***shift + enter***)."
   ]
  },
  {
   "cell_type": "code",
   "execution_count": null,
   "metadata": {
    "colab": {},
    "colab_type": "code",
    "id": "IY-aXrzOfJkU"
   },
   "outputs": [],
   "source": [
    "# from pandas import read_csv"
   ]
  },
  {
   "cell_type": "markdown",
   "metadata": {
    "colab_type": "text",
    "id": "lVh_Fcao2vGq"
   },
   "source": [
    "## Lendo um arquivo csv"
   ]
  },
  {
   "cell_type": "markdown",
   "metadata": {
    "colab_type": "text",
    "id": "W1gxzWI74jMw"
   },
   "source": [
    "Com o arquivo csv pronto, precisamos acessá-lo pelo colab. Primeiro, defina um nome para o conjunto de dados (por exemplo, *dados*). A função `read_csv()` será usada para ler o arquivo, da seguinte maneira:\n",
    "\n",
    "```\n",
    "dados = read_csv('/caminho/do/arquivo.csv')\n",
    "```\n",
    "No exemplo acima, o nome *dados* é associado a um objeto do Pandas. Falaremos desse objeto adiante.\n",
    "\n",
    "Obs.: Para obter o caminho do arquivo no diretório do colab, navegue até o seu arquivo através das pastas mostradas no painel lateral esquerdo deste colab, clique com o botão direito sobre o arquivo e em seguida em ***copiar caminho***.\n",
    "\n"
   ]
  },
  {
   "cell_type": "markdown",
   "metadata": {
    "colab_type": "text",
    "id": "aswBfMut9At3"
   },
   "source": [
    "2 - Crie um nome para o conjunto de dados e leia o arquivo usando o método `read_csv`."
   ]
  },
  {
   "cell_type": "code",
   "execution_count": null,
   "metadata": {
    "colab": {},
    "colab_type": "code",
    "id": "PF1KC8RvfjyR"
   },
   "outputs": [],
   "source": []
  },
  {
   "cell_type": "markdown",
   "metadata": {
    "colab_type": "text",
    "id": "0YgumbZR9sjr"
   },
   "source": [
    "## Explorando os dados"
   ]
  },
  {
   "cell_type": "markdown",
   "metadata": {
    "colab_type": "text",
    "id": "GwanfJ3c_AHl"
   },
   "source": [
    "Depois de ler os dados, precisamos descobrir quais são as **características** presentes e quantas **observações** existem. O Pandas possui vários métodos que podemos aplicar a um conjunto de dados a fim de conseguir mais informações sobre ele. Para descobrir quantas observações e características existem, verificamos o atributo `shape` nos dados lidos do arquivo csv. No exemplo anterior, você criou um objeto Pandas de nome `dados`. Em Python, visualizamos atributos de objetos Pandas da seguinte forma:\n",
    "\n",
    "```\n",
    "dados.nome_do_atributo\n",
    "```"
   ]
  },
  {
   "cell_type": "markdown",
   "metadata": {
    "colab_type": "text",
    "id": "jZ4o4uOWWprd"
   },
   "source": [
    "3.1 - Encontre a quantidade de registros e atributos (linhas, colunas) do conjunto de dados através do atributo `shape`."
   ]
  },
  {
   "cell_type": "code",
   "execution_count": null,
   "metadata": {
    "colab": {
     "base_uri": "https://localhost:8080/",
     "height": 34
    },
    "colab_type": "code",
    "id": "ViMCY5RKuMTT",
    "outputId": "516d2f44-415e-483e-e2d2-808254c83c2d"
   },
   "outputs": [],
   "source": [
    "# dados.shape"
   ]
  },
  {
   "cell_type": "markdown",
   "metadata": {
    "colab_type": "text",
    "id": "H988_L2yH7r7"
   },
   "source": [
    "É possível visualizar as primeiras linhas de um conjunto de dados em pandas utilizando o método `head(número_de_linhas)`. Em Python, utilizamos métodos e atributos da mesma forma, com a diferença que métodos utilizam parênteses em seguida ao seu nome. O `número_de_linhas` é um número positivo que, se informado como **argumento**, define quantas linhas serão exibidas. \n",
    "\n",
    "**Observação**: Se você optar por não informar o número de linhas, o Python usa 5 como padrão."
   ]
  },
  {
   "cell_type": "markdown",
   "metadata": {
    "colab_type": "text",
    "id": "xgjTC1-xJht7"
   },
   "source": [
    "3.2 - Com o método `head()`, mostre as primeiras linhas do conjunto de dados. A quantidade de colunas mostrada é a mesma indicada pelo atributo `shape`?"
   ]
  },
  {
   "cell_type": "code",
   "execution_count": null,
   "metadata": {
    "colab": {
     "base_uri": "https://localhost:8080/",
     "height": 199
    },
    "colab_type": "code",
    "id": "cXwBku3IuONg",
    "outputId": "3af28d8c-1bac-4dc4-fccd-fd8657d90f4f"
   },
   "outputs": [],
   "source": [
    "# dados.head(2)"
   ]
  },
  {
   "cell_type": "markdown",
   "metadata": {
    "colab_type": "text",
    "id": "dzm4Q-VrndUi"
   },
   "source": [
    "Perceba que na tabela acima, a primeira observação possui índice `0` (zero). Assim, o índice da última linha da tabela será igual ao número de linhas da tabela menos 1.\n",
    "\n",
    "Para visualizar as últimas linhas dos dados, basta utilizar o método `tail()` do Pandas."
   ]
  },
  {
   "cell_type": "markdown",
   "metadata": {
    "colab_type": "text",
    "id": "r59tWWe6oK4c"
   },
   "source": [
    "3.3 - Utilize a função `tail()` para visualizar as últimas linhas dos dados."
   ]
  },
  {
   "cell_type": "code",
   "execution_count": null,
   "metadata": {
    "colab": {
     "base_uri": "https://localhost:8080/",
     "height": 326
    },
    "colab_type": "code",
    "id": "ZtPdbwTD4B1y",
    "outputId": "28f8fe3d-3599-4905-ef35-a361ff3f397e"
   },
   "outputs": [],
   "source": []
  },
  {
   "cell_type": "markdown",
   "metadata": {
    "colab_type": "text",
    "id": "vfV4ANFUrFgT"
   },
   "source": [
    "## Objetos do Pandas e tipos de dados\n",
    "\n",
    "O Pandas tem duas estruturas de dados principais, sendo:\n",
    "\n",
    "**- Series:** representa uma série unidimensional de dados tabulares de uma mesma natureza (números, nomes, idades, etc.).\n",
    "**- DataFrame:** coleção de séries, onde cada série pode apresentar sua própria natureza.\n",
    "\n",
    "O objeto Pandas criado a partir do método `read_csv()` é um DataFrame, já que o arquivo `.csv` apresenta várias características, cada uma interpretada pelo Pandas como uma série. É possível identificar o tipo de um objeto utilizando o método `type()` do Python.\n",
    "\n",
    "Objetos do tipo `DataFrame` apresentam o método `info()`, que mostra também um sumário dos dados, a quantidade de linhas, o tipo de dados dos atributos (colunas), a quantidade de valores não nulos em cada coluna, entre outras. "
   ]
  },
  {
   "cell_type": "markdown",
   "metadata": {
    "colab_type": "text",
    "id": "6bSwtUU24Tw5"
   },
   "source": [
    "4.1 - Utilize o método `type()` para ver o tipo do objeto associado ao nome `dados`:"
   ]
  },
  {
   "cell_type": "code",
   "execution_count": null,
   "metadata": {
    "colab": {
     "base_uri": "https://localhost:8080/",
     "height": 374
    },
    "colab_type": "code",
    "id": "ooO8jOxZmhXs",
    "outputId": "b568c82a-1eb8-42c7-f296-a23cc9039366"
   },
   "outputs": [],
   "source": [
    "# type(dados)"
   ]
  },
  {
   "cell_type": "markdown",
   "metadata": {},
   "source": [
    "4.2 - Utilize o método `info()` para ver um resumo do seu `DataFrame`:"
   ]
  },
  {
   "cell_type": "code",
   "execution_count": null,
   "metadata": {
    "scrolled": true
   },
   "outputs": [],
   "source": []
  },
  {
   "cell_type": "markdown",
   "metadata": {
    "colab_type": "text",
    "id": "775_kWpW63uB"
   },
   "source": [
    "\n",
    "Ao analisar dados, é importante se certificar de utilizar os tipos de dados corretos. Do contrário, resultados equivocados podem ser obtidos, ou ainda, pode não ser possível executar determinadas operações com alguns atributos.\n",
    "O pandas é capaz de inferir alguns tipos de dados, o que permite avança na análise dos dados. Contudo, é importante se certificar de que os tipos determinados automaticamente pelo pandas são os mais indicados para a sua situação. Para mais informações sobre tipos de dados do pandas, consulte esse [link](https://pbpython.com/pandas_dtypes.html).\n",
    "\n",
    "\n",
    "\n"
   ]
  },
  {
   "cell_type": "markdown",
   "metadata": {
    "colab_type": "text",
    "id": "exC3uedG8ja0"
   },
   "source": [
    "Os principais tipos de dados do pandas são:\n",
    "\n",
    "| Tipo       | Descrição        |\n",
    "|------------|------------------|\n",
    "| object     | Formato de texto |\n",
    "| int64      | Números inteiros |\n",
    "| float64    | Números decimais |\n",
    "| datetime64 | Data e hora      |\n",
    "| bool       | Verdadeiro (V) ou falso (F)   |\n",
    "\n",
    "É importante perceber que colunas do dataframe que não possuam o tipo de dado adequado para determinadas operações não poderão ser analisadas integralmente. Nesses casos, será preciso converter o tipo de dado para um adequado às necessidades de análise. No pandas, o atributo `dtypes` permite visualizar todos os tipos de dados de um dataframe."
   ]
  },
  {
   "cell_type": "markdown",
   "metadata": {
    "colab_type": "text",
    "id": "v20ZUxUVDPHn"
   },
   "source": [
    "4.2 - Use o atributo `dtypes` para ver os tipos de dados do dataframe:"
   ]
  },
  {
   "cell_type": "code",
   "execution_count": null,
   "metadata": {
    "colab": {
     "base_uri": "https://localhost:8080/",
     "height": 306
    },
    "colab_type": "code",
    "id": "Y_CI_FiR3GOG",
    "outputId": "16b286c5-b166-449f-9e8e-031c7d9bfbfa"
   },
   "outputs": [],
   "source": [
    "dados.dtypes"
   ]
  },
  {
   "cell_type": "markdown",
   "metadata": {
    "colab_type": "text",
    "id": "z-H_YIaEF-h7"
   },
   "source": [
    "É possível converter dados em pandas utilizando o método `astype()`, para forçar um novo tipo em uma coluna do DataFrame. Como exemplo, em um DataFrame de nome *dados*, é possível mudar o tipo de uma coluna da seguinte forma:\n",
    "\n",
    "```python\n",
    "dados['nome_da_coluna'] = dados['nome_da_coluna'].astype('tipo_desejado')\n",
    "```"
   ]
  },
  {
   "cell_type": "markdown",
   "metadata": {
    "colab_type": "text",
    "id": "6M6E3nK8HRls"
   },
   "source": [
    "4.3 - Utilize o método `astype()` para mudar o tipo da coluna 'PREÇO MÉDIO DE REVENDA' para `float64`."
   ]
  },
  {
   "cell_type": "code",
   "execution_count": null,
   "metadata": {
    "colab": {
     "base_uri": "https://localhost:8080/",
     "height": 306
    },
    "colab_type": "code",
    "id": "8V39_bbXCx0w",
    "outputId": "ae4471d1-b220-4931-f1de-a7d16dcbd6d6"
   },
   "outputs": [],
   "source": [
    "# dados['PREÇO MÉDIO REVENDA'] = dados['PREÇO MÉDIO REVENDA'].astype('float64')"
   ]
  },
  {
   "cell_type": "markdown",
   "metadata": {
    "colab_type": "text",
    "id": "RDDQ8cy7Iy8G"
   },
   "source": [
    "No exercício anterior, o seguinte erro deve ter ocorrido:\n",
    "\n",
    "```python3\n",
    "ValueError: could not convert string to float: '1,948'\n",
    "```\n",
    "\n",
    "Esse erro ocorre por que, para o Python, o delimitador de um número decimal é o ponto e não a vírgula. Assim, para poder converter os dados do nosso DataFrame, seria preciso substituir a vírgula, em cada número de cada coluna, por um ponto."
   ]
  },
  {
   "cell_type": "markdown",
   "metadata": {
    "colab_type": "text",
    "id": "t2XhghSFLJKV"
   },
   "source": [
    "O método `read_csv()`, utilizado para ler o arquivo csv e transformá-lo em um objeto pandas do tipo DataFrame, possui vários argumentos (parâmetros que permitem que a função exerça outras tarefas). Um deles permite indicar qual o delimitador de números decimais do conjunto de dados. Podemos utilizar esse argumento conforme segue:\n",
    "```python\n",
    "dados = read_csv('/content/SEMANAL_BRASIL-DESDE_2013.csv', decimal=',')\n",
    "```"
   ]
  },
  {
   "cell_type": "markdown",
   "metadata": {
    "colab_type": "text",
    "id": "x2m5YlM-Mya3"
   },
   "source": [
    "4.4 - Leia o arquivo csv novamente e nomeie o `DataFrame` gerado como `dados_2`:\n",
    "  1 - informe no método `read_csv()` que o delimitador decimal dos dados é a vírgula, de acordo com o exemplo acima;\n",
    "  2 - utilize o atributo `dtypes` e verifique os tipos dos dados"
   ]
  },
  {
   "cell_type": "code",
   "execution_count": null,
   "metadata": {
    "colab": {},
    "colab_type": "code",
    "id": "InupM7IHNHM9"
   },
   "outputs": [],
   "source": [
    "# use o método read_csv()"
   ]
  },
  {
   "cell_type": "code",
   "execution_count": null,
   "metadata": {
    "colab": {
     "base_uri": "https://localhost:8080/",
     "height": 306
    },
    "colab_type": "code",
    "id": "11wB10qGNJ75",
    "outputId": "6e9aaae7-4378-4879-f413-a914023f66b5",
    "scrolled": true
   },
   "outputs": [],
   "source": [
    "# verifique o atributo dtypes"
   ]
  }
 ],
 "metadata": {
  "colab": {
   "collapsed_sections": [],
   "name": "pandas-passo_a_passo.ipynb",
   "provenance": [],
   "toc_visible": true
  },
  "kernelspec": {
   "display_name": "Python 3",
   "language": "python",
   "name": "python3"
  },
  "language_info": {
   "codemirror_mode": {
    "name": "ipython",
    "version": 3
   },
   "file_extension": ".py",
   "mimetype": "text/x-python",
   "name": "python",
   "nbconvert_exporter": "python",
   "pygments_lexer": "ipython3",
   "version": "3.6.8"
  }
 },
 "nbformat": 4,
 "nbformat_minor": 1
}
